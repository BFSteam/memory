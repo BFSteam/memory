{
 "cells": [
  {
   "cell_type": "code",
   "execution_count": 46,
   "metadata": {},
   "outputs": [
    {
     "name": "stdout",
     "output_type": "stream",
     "text": [
      "Populating the interactive namespace from numpy and matplotlib\n"
     ]
    }
   ],
   "source": [
    "import networkx as nx\n",
    "import numpy as np\n",
    "%pylab inline\n",
    "from collections import Counter\n",
    "from scipy import optimize"
   ]
  },
  {
   "cell_type": "code",
   "execution_count": 47,
   "metadata": {},
   "outputs": [],
   "source": [
    "G = nx.read_gml('../log/graph.gml')\n",
    "G.remove_nodes_from([0,1,2])"
   ]
  },
  {
   "cell_type": "code",
   "execution_count": 50,
   "metadata": {},
   "outputs": [
    {
     "name": "stdout",
     "output_type": "stream",
     "text": [
      "[  9.83664913e-03   2.07891710e+01]\n",
      "[[  3.24109031e-03   2.63192305e-01]\n",
      " [  2.63192305e-01   2.39906443e+01]]\n"
     ]
    },
    {
     "data": {
      "image/png": "[encoded data removed]",
      "text/plain": [
       "<matplotlib.figure.Figure at 0x7f7563609438>"
      ]
     },
     "metadata": {},
     "output_type": "display_data"
    },
    {
     "data": {
      "text/plain": [
       "<matplotlib.figure.Figure at 0x7f7563609828>"
      ]
     },
     "metadata": {},
     "output_type": "display_data"
    }
   ],
   "source": [
    "def func(x, a, b):\n",
    "    return b* pow(x,a)\n",
    "\n",
    "\n",
    "Pk=Counter(G.degree().values())\n",
    "\n",
    "x=[]\n",
    "y=[]\n",
    "for i in sorted(Pk):   \n",
    "    x.append(i)\n",
    "    y.append(float(Pk[i])/len(G))\n",
    "\n",
    "X=np.array(x)#[3:]\n",
    "Y=np.array(y)#[3:]\n",
    "\n",
    "#y = func(X, -1.35591138, 1.61640025) #disegno la curva data dai parametri trovati sotto sulla diagonale\n",
    "#popt, pcov = optimize.curve_fit(func, X, Y)\n",
    "print (popt)\n",
    "print (pcov)\n",
    "plt.plot(X,y,'*')\n",
    "\n",
    "#plt.loglog(X, Y, 'b*')\n",
    "plt.xlabel('$k$',fontsize='18')\n",
    "plt.ylabel('$P[k]$',fontsize='18')\n",
    "plt.figure(figsize(8,6))\n",
    "    #plt.savefig('Pk.png')\n",
    "plt.show()\n",
    "plt.close()"
   ]
  },
  {
   "cell_type": "code",
   "execution_count": null,
   "metadata": {
    "collapsed": true
   },
   "outputs": [],
   "source": []
  }
 ],
 "metadata": {
  "kernelspec": {
   "display_name": "Python 3",
   "language": "python",
   "name": "python3"
  },
  "language_info": {
   "codemirror_mode": {
    "name": "ipython",
    "version": 3
   },
   "file_extension": ".py",
   "mimetype": "text/x-python",
   "name": "python",
   "nbconvert_exporter": "python",
   "pygments_lexer": "ipython3",
   "version": "3.6.1"
  }
 },
 "nbformat": 4,
 "nbformat_minor": 2
}
