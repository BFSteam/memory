{
 "cells": [
  {
   "cell_type": "code",
   "execution_count": 1,
   "metadata": {
    "collapsed": true
   },
   "outputs": [],
   "source": [
    "#fit diametro-memoria. \n",
    "#nome opportuno per i csv...\n",
    "#acquisizione tutti i csv, ognuno con i valori di diametro e memoria\n",
    "#creazione dataset\n",
    "#plot\n",
    "#fit lineare\n",
    "#fit nonlineare\n"
   ]
  },
  {
   "cell_type": "code",
   "execution_count": null,
   "metadata": {
    "collapsed": true
   },
   "outputs": [],
   "source": [
    "c1 <- read.csv(file=\"../../log/diameter1.csv\", skip=12, header=TRUE, sep=\",\") ## read file"
   ]
  },
  {
   "cell_type": "code",
   "execution_count": null,
   "metadata": {
    "collapsed": true
   },
   "outputs": [],
   "source": [
    "c2 <- read.csv(file=\"../../log/diameter2.csv\", skip=12, header=TRUE, sep=\",\") ## read file"
   ]
  },
  {
   "cell_type": "code",
   "execution_count": null,
   "metadata": {
    "collapsed": true
   },
   "outputs": [],
   "source": [
    "c3 <- read.csv(file=\"../../log/diameter3.csv\", skip=12, header=TRUE, sep=\",\") ## read file"
   ]
  },
  {
   "cell_type": "code",
   "execution_count": null,
   "metadata": {
    "collapsed": true
   },
   "outputs": [],
   "source": [
    "c4 <- read.csv(file=\"../../log/diameter4.csv\", skip=12, header=TRUE, sep=\",\") ## read file"
   ]
  },
  {
   "cell_type": "code",
   "execution_count": null,
   "metadata": {
    "collapsed": true
   },
   "outputs": [],
   "source": [
    "c5 <- read.csv(file=\"../../log/diameter5.csv\", skip=12, header=TRUE, sep=\",\") ## read file"
   ]
  },
  {
   "cell_type": "code",
   "execution_count": 1,
   "metadata": {},
   "outputs": [
    {
     "ename": "ERROR",
     "evalue": "Error in eval(expr, envir, enclos): oggetto \"c1\" non trovato\n",
     "output_type": "error",
     "traceback": [
      "Error in eval(expr, envir, enclos): oggetto \"c1\" non trovato\nTraceback:\n"
     ]
    }
   ],
   "source": [
    "X<- c(c1$memsize,c2$memsize,c3$memsize,c4$memsize,c5$memsize)"
   ]
  },
  {
   "cell_type": "code",
   "execution_count": null,
   "metadata": {
    "collapsed": true
   },
   "outputs": [],
   "source": [
    "Y<- c(c1$diameter,c2$diameter,c3$diameter,c4$diameter,c5$diameter)"
   ]
  },
  {
   "cell_type": "code",
   "execution_count": null,
   "metadata": {
    "collapsed": true
   },
   "outputs": [],
   "source": [
    "DATA = Data.Frame[]"
   ]
  },
  {
   "cell_type": "code",
   "execution_count": null,
   "metadata": {
    "collapsed": true
   },
   "outputs": [],
   "source": [
    "plot(X,Y) \n",
    "linearMod <- lm(X ~ Y)  # build linear regression model on full data\n",
    "print(linearMod)\n",
    "summary(linearmod)\n"
   ]
  },
  {
   "cell_type": "code",
   "execution_count": null,
   "metadata": {
    "collapsed": true
   },
   "outputs": [],
   "source": [
    "nonlinearMod <- nls(Y~   ,data=c(X,Y),A=,B=)  # build nonlinear regression model on full data\n",
    "print(nonlinearMod)\n",
    "summary(nonlinearmod)\n"
   ]
  }
 ],
 "metadata": {
  "kernelspec": {
   "display_name": "R",
   "language": "R",
   "name": "ir"
  },
  "language_info": {
   "codemirror_mode": "r",
   "file_extension": ".r",
   "mimetype": "text/x-r-source",
   "name": "R",
   "pygments_lexer": "r",
   "version": "3.4.2"
  }
 },
 "nbformat": 4,
 "nbformat_minor": 2
}
