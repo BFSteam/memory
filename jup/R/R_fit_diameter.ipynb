{
 "cells": [
  {
   "cell_type": "code",
   "execution_count": 1,
   "metadata": {},
   "outputs": [],
   "source": [
    "#fit diametro-memoria. \n",
    "#nome opportuno per i csv...\n",
    "#acquisizione tutti i csv, ognuno con i valori di diametro e memoria\n",
    "#creazione dataset\n",
    "#plot\n",
    "#fit lineare\n",
    "#fit nonlineare\n"
   ]
  },
  {
   "cell_type": "code",
   "execution_count": 2,
   "metadata": {},
   "outputs": [],
   "source": [
    "c1 <- read.csv(file=\"../../log/diameter2018_08_03_18_18_47.csv\", skip=12, header=TRUE, sep=\",\") ## read file\n",
    "c2 <- read.csv(file=\"../../log/diameter2018_08_03_18_19_18.csv\", skip=12, header=TRUE, sep=\",\") ## read file\n",
    "c3 <- read.csv(file=\"../../log/diameter2018_08_03_18_19_38.csv\", skip=12, header=TRUE, sep=\",\") ## read file\n",
    "c4 <- read.csv(file=\"../../log/diameter2018_08_03_18_19_58.csv\", skip=12, header=TRUE, sep=\",\") ## read file\n",
    "c5 <- read.csv(file=\"../../log/diameter2018_08_03_18_20_17.csv\", skip=12, header=TRUE, sep=\",\") ## read file\n",
    "\n",
    "c6 <- read.csv(file=\"../../log/diameter2018_08_03_18_20_35.csv\", skip=12, header=TRUE, sep=\",\") ## read file\n",
    "c7 <- read.csv(file=\"../../log/diameter2018_08_03_18_20_50.csv\", skip=12, header=TRUE, sep=\",\") ## read file\n",
    "c8 <- read.csv(file=\"../../log/diameter2018_08_03_18_21_08.csv\", skip=12, header=TRUE, sep=\",\") ## read file\n",
    "c9 <- read.csv(file=\"../../log/diameter2018_08_03_18_30_45.csv\", skip=12, header=TRUE, sep=\",\") ## read file\n",
    "c10<- read.csv(file=\"../../log/diameter2018_08_03_18_30_58.csv\", skip=12, header=TRUE, sep=\",\") ## read file\n",
    "\n",
    "c11<- read.csv(file=\"../../log/diameter2018_08_03_18_31_12.csv\", skip=12, header=TRUE, sep=\",\") ## read file\n",
    "c12<- read.csv(file=\"../../log/diameter2018_08_03_18_31_41.csv\", skip=12, header=TRUE, sep=\",\") ## read file\n",
    "c13<- read.csv(file=\"../../log/diameter2018_08_03_18_31_53.csv\", skip=12, header=TRUE, sep=\",\") ## read file\n",
    "c14<- read.csv(file=\"../../log/diameter2018_08_03_18_32_05.csv\", skip=12, header=TRUE, sep=\",\") ## read file\n",
    "c15<- read.csv(file=\"../../log/diameter2018_08_03_18_32_19.csv\", skip=12, header=TRUE, sep=\",\") ## read file\n",
    "\n",
    "c16<- read.csv(file=\"../../log/diameter2018_08_03_18_32_35.csv\", skip=12, header=TRUE, sep=\",\") ## read file\n",
    "c17<- read.csv(file=\"../../log/diameter2018_08_03_18_44_12.csv\", skip=12, header=TRUE, sep=\",\") ## read file\n",
    "c18<- read.csv(file=\"../../log/diameter2018_08_03_18_44_28.csv\", skip=12, header=TRUE, sep=\",\") ## read file\n",
    "c19<- read.csv(file=\"../../log/diameter2018_08_03_18_44_41.csv\", skip=12, header=TRUE, sep=\",\") ## read file\n",
    "c20<- read.csv(file=\"../../log/diameter2018_08_03_18_44_56.csv\", skip=12, header=TRUE, sep=\",\") ## read file"
   ]
  },
  {
   "cell_type": "code",
   "execution_count": 3,
   "metadata": {},
   "outputs": [],
   "source": [
    "X<- c(\n",
    "    c1$memsize,c2$memsize,c3$memsize,c4$memsize,c5$memsize,\n",
    "    c6$memsize,c7$memsize,c8$memsize,c9$memsize,c10$memsize,\n",
    "    c11$memsize,c12$memsize,c13$memsize,c14$memsize,c15$memsize,\n",
    "    c16$memsize,c17$memsize,c18$memsize,c19$memsize,c20$memsize\n",
    "    )"
   ]
  },
  {
   "cell_type": "code",
   "execution_count": 4,
   "metadata": {},
   "outputs": [
    {
     "data": {
      "text/html": [
       "<ol class=list-inline>\n",
       "\t<li>9</li>\n",
       "\t<li>9</li>\n",
       "\t<li>10</li>\n",
       "\t<li>12</li>\n",
       "\t<li>9</li>\n",
       "\t<li>9</li>\n",
       "\t<li>9</li>\n",
       "\t<li>9</li>\n",
       "\t<li>9</li>\n",
       "\t<li>9</li>\n",
       "\t<li>8</li>\n",
       "\t<li>7</li>\n",
       "\t<li>9</li>\n",
       "\t<li>8</li>\n",
       "\t<li>9</li>\n",
       "\t<li>10</li>\n",
       "\t<li>8</li>\n",
       "\t<li>10</li>\n",
       "\t<li>8</li>\n",
       "\t<li>8</li>\n",
       "</ol>\n"
      ],
      "text/latex": [
       "\\begin{enumerate*}\n",
       "\\item 9\n",
       "\\item 9\n",
       "\\item 10\n",
       "\\item 12\n",
       "\\item 9\n",
       "\\item 9\n",
       "\\item 9\n",
       "\\item 9\n",
       "\\item 9\n",
       "\\item 9\n",
       "\\item 8\n",
       "\\item 7\n",
       "\\item 9\n",
       "\\item 8\n",
       "\\item 9\n",
       "\\item 10\n",
       "\\item 8\n",
       "\\item 10\n",
       "\\item 8\n",
       "\\item 8\n",
       "\\end{enumerate*}\n"
      ],
      "text/markdown": [
       "1. 9\n",
       "2. 9\n",
       "3. 10\n",
       "4. 12\n",
       "5. 9\n",
       "6. 9\n",
       "7. 9\n",
       "8. 9\n",
       "9. 9\n",
       "10. 9\n",
       "11. 8\n",
       "12. 7\n",
       "13. 9\n",
       "14. 8\n",
       "15. 9\n",
       "16. 10\n",
       "17. 8\n",
       "18. 10\n",
       "19. 8\n",
       "20. 8\n",
       "\n",
       "\n"
      ],
      "text/plain": [
       " [1]  9  9 10 12  9  9  9  9  9  9  8  7  9  8  9 10  8 10  8  8"
      ]
     },
     "metadata": {},
     "output_type": "display_data"
    }
   ],
   "source": [
    "Y<- c(\n",
    "    c1$diameter,c2$diameter,c3$diameter,c4$diameter,c5$diameter,\n",
    "    c6$diameter,c7$diameter,c8$diameter,c9$diameter,c10$diameter,\n",
    "    c11$diameter,c12$diameter,c13$diameter,c14$diameter,c15$diameter,\n",
    "    c16$diameter,c17$diameter,c18$diameter,c19$diameter,c20$diameter\n",
    "     )\n",
    "Y"
   ]
  },
  {
   "cell_type": "code",
   "execution_count": 5,
   "metadata": {},
   "outputs": [],
   "source": [
    "DATA = data.frame(X,Y)"
   ]
  },
  {
   "cell_type": "code",
   "execution_count": 10,
   "metadata": {},
   "outputs": [
    {
     "name": "stdout",
     "output_type": "stream",
     "text": [
      "\n",
      "Call:\n",
      "lm(formula = Y ~ X, data = DATA)\n",
      "\n",
      "Coefficients:\n",
      "(Intercept)            X  \n",
      "    9.66842     -0.06842  \n",
      "\n"
     ]
    },
    {
     "data": {
      "text/plain": [
       "\n",
       "Call:\n",
       "lm(formula = Y ~ X, data = DATA)\n",
       "\n",
       "Residuals:\n",
       "    Min      1Q  Median      3Q     Max \n",
       "-1.8474 -0.5118 -0.2237  0.2553  2.6053 \n",
       "\n",
       "Coefficients:\n",
       "            Estimate Std. Error t value Pr(>|t|)    \n",
       "(Intercept)  9.66842    0.46242  20.908 4.47e-14 ***\n",
       "X           -0.06842    0.03860  -1.772   0.0932 .  \n",
       "---\n",
       "Signif. codes:  0 ‘***’ 0.001 ‘**’ 0.01 ‘*’ 0.05 ‘.’ 0.1 ‘ ’ 1\n",
       "\n",
       "Residual standard error: 0.9955 on 18 degrees of freedom\n",
       "Multiple R-squared:  0.1486,\tAdjusted R-squared:  0.1013 \n",
       "F-statistic: 3.142 on 1 and 18 DF,  p-value: 0.09324\n"
      ]
     },
     "metadata": {},
     "output_type": "display_data"
    },
    {
     "data": {
      "image/png": "[encoded data removed]",
      "text/plain": [
       "plot without title"
      ]
     },
     "metadata": {},
     "output_type": "display_data"
    }
   ],
   "source": [
    "plot(X,Y, xlab=\"memory\", ylab=\"diameter\", panel.first=grid()) \n",
    "linearMod <- lm(Y ~ X,data=DATA)  # build linear regression model on full data\n",
    "print(linearMod)\n",
    "summary(linearMod)\n"
   ]
  },
  {
   "cell_type": "code",
   "execution_count": 7,
   "metadata": {},
   "outputs": [],
   "source": [
    "#nonlinearMod <- nls(Y~   ,data=c(X,Y),A=,B=)  # build nonlinear regression model on full data\n",
    "#print(nonlinearMod)\n",
    "#summary(nonlinearmod)\n"
   ]
  },
  {
   "cell_type": "code",
   "execution_count": null,
   "metadata": {},
   "outputs": [],
   "source": []
  }
 ],
 "metadata": {
  "kernelspec": {
   "display_name": "R",
   "language": "R",
   "name": "ir"
  },
  "language_info": {
   "codemirror_mode": "r",
   "file_extension": ".r",
   "mimetype": "text/x-r-source",
   "name": "R",
   "pygments_lexer": "r",
   "version": "3.4.3"
  }
 },
 "nbformat": 4,
 "nbformat_minor": 2
}
