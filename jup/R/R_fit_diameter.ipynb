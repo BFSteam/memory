{
 "cells": [
  {
   "cell_type": "code",
   "execution_count": 1,
   "metadata": {
    "collapsed": true
   },
   "outputs": [],
   "source": [
    "#fit diametro-memoria. \n",
    "#nome opportuno per i csv...\n",
    "#acquisizione tutti i csv, ognuno con i valori di diametro e memoria\n",
    "#creazione dataset\n",
    "#plot\n",
    "#fit lineare\n",
    "#fit nonlineare\n"
   ]
  },
  {
   "cell_type": "code",
   "execution_count": 2,
   "metadata": {
    "collapsed": true
   },
   "outputs": [],
   "source": [
    "c1 <- read.csv(file=\"../../log/diameter2018_08_03_15_29_49.csv\", skip=12, header=TRUE, sep=\",\") ## read file"
   ]
  },
  {
   "cell_type": "code",
   "execution_count": 3,
   "metadata": {
    "collapsed": true
   },
   "outputs": [],
   "source": [
    "c2 <- read.csv(file=\"../../log/diameter2018_08_03_15_30_44.csv\", skip=12, header=TRUE, sep=\",\") ## read file"
   ]
  },
  {
   "cell_type": "code",
   "execution_count": 4,
   "metadata": {
    "collapsed": true
   },
   "outputs": [],
   "source": [
    "c3 <- read.csv(file=\"../../log/diameter2018_08_03_15_31_04.csv\", skip=12, header=TRUE, sep=\",\") ## read file"
   ]
  },
  {
   "cell_type": "code",
   "execution_count": 5,
   "metadata": {
    "collapsed": true
   },
   "outputs": [],
   "source": [
    "c4 <- read.csv(file=\"../../log/diameter2018_08_03_15_31_22.csv\", skip=12, header=TRUE, sep=\",\") ## read file"
   ]
  },
  {
   "cell_type": "code",
   "execution_count": 6,
   "metadata": {
    "collapsed": true
   },
   "outputs": [],
   "source": [
    "c5 <- read.csv(file=\"../../log/diameter2018_08_03_15_31_53.csv\", skip=12, header=TRUE, sep=\",\") ## read file"
   ]
  },
  {
   "cell_type": "code",
   "execution_count": 7,
   "metadata": {
    "collapsed": true
   },
   "outputs": [],
   "source": [
    "c6 <- read.csv(file=\"../../log/diameter2018_08_03_15_32_09.csv\", skip=12, header=TRUE, sep=\",\") ## read file"
   ]
  },
  {
   "cell_type": "code",
   "execution_count": 8,
   "metadata": {},
   "outputs": [],
   "source": [
    "X<- c(c1$memsize,c2$memsize,c3$memsize,c4$memsize,c5$memsize,c6$memsize)"
   ]
  },
  {
   "cell_type": "code",
   "execution_count": 12,
   "metadata": {},
   "outputs": [
    {
     "data": {
      "text/html": [
       "<ol class=list-inline>\n",
       "\t<li>8</li>\n",
       "\t<li>8</li>\n",
       "\t<li>8</li>\n",
       "\t<li>8</li>\n",
       "\t<li>9</li>\n",
       "\t<li>8</li>\n",
       "</ol>\n"
      ],
      "text/latex": [
       "\\begin{enumerate*}\n",
       "\\item 8\n",
       "\\item 8\n",
       "\\item 8\n",
       "\\item 8\n",
       "\\item 9\n",
       "\\item 8\n",
       "\\end{enumerate*}\n"
      ],
      "text/markdown": [
       "1. 8\n",
       "2. 8\n",
       "3. 8\n",
       "4. 8\n",
       "5. 9\n",
       "6. 8\n",
       "\n",
       "\n"
      ],
      "text/plain": [
       "[1] 8 8 8 8 9 8"
      ]
     },
     "metadata": {},
     "output_type": "display_data"
    }
   ],
   "source": [
    "Y<- c(c1$diameter,c2$diameter,c3$diameter,c4$diameter,c5$diameter,c6$diameter)\n",
    "Y"
   ]
  },
  {
   "cell_type": "code",
   "execution_count": 10,
   "metadata": {
    "collapsed": true
   },
   "outputs": [],
   "source": [
    "DATA = data.frame(X,Y)"
   ]
  },
  {
   "cell_type": "code",
   "execution_count": 13,
   "metadata": {},
   "outputs": [
    {
     "name": "stdout",
     "output_type": "stream",
     "text": [
      "\n",
      "Call:\n",
      "lm(formula = Y ~ X, data = DATA)\n",
      "\n",
      "Coefficients:\n",
      "(Intercept)            X  \n",
      "    7.86667      0.08571  \n",
      "\n"
     ]
    },
    {
     "data": {
      "text/plain": [
       "\n",
       "Call:\n",
       "lm(formula = Y ~ X, data = DATA)\n",
       "\n",
       "Residuals:\n",
       "       1        2        3        4        5        6 \n",
       " 0.04762 -0.03810 -0.12381 -0.20952  0.70476 -0.38095 \n",
       "\n",
       "Coefficients:\n",
       "            Estimate Std. Error t value Pr(>|t|)    \n",
       "(Intercept)  7.86667    0.39077  20.131 3.59e-05 ***\n",
       "X            0.08571    0.10034   0.854    0.441    \n",
       "---\n",
       "Signif. codes:  0 '***' 0.001 '**' 0.01 '*' 0.05 '.' 0.1 ' ' 1\n",
       "\n",
       "Residual standard error: 0.4198 on 4 degrees of freedom\n",
       "Multiple R-squared:  0.1543,\tAdjusted R-squared:  -0.05714 \n",
       "F-statistic: 0.7297 on 1 and 4 DF,  p-value: 0.4411\n"
      ]
     },
     "metadata": {},
     "output_type": "display_data"
    },
    {
     "data": {
      "image/png": "[encoded data removed]",
      "text/plain": [
       "plot without title"
      ]
     },
     "metadata": {},
     "output_type": "display_data"
    }
   ],
   "source": [
    "plot(X,Y) \n",
    "linearMod <- lm(Y ~ X,data=DATA)  # build linear regression model on full data\n",
    "print(linearMod)\n",
    "summary(linearMod)\n"
   ]
  },
  {
   "cell_type": "code",
   "execution_count": null,
   "metadata": {
    "collapsed": true
   },
   "outputs": [],
   "source": [
    "#nonlinearMod <- nls(Y~   ,data=c(X,Y),A=,B=)  # build nonlinear regression model on full data\n",
    "#print(nonlinearMod)\n",
    "#summary(nonlinearmod)\n"
   ]
  }
 ],
 "metadata": {
  "kernelspec": {
   "display_name": "R",
   "language": "R",
   "name": "ir"
  },
  "language_info": {
   "codemirror_mode": "r",
   "file_extension": ".r",
   "mimetype": "text/x-r-source",
   "name": "R",
   "pygments_lexer": "r",
   "version": "3.4.2"
  }
 },
 "nbformat": 4,
 "nbformat_minor": 2
}
