{
 "cells": [
  {
   "cell_type": "code",
   "execution_count": 1,
   "metadata": {},
   "outputs": [],
   "source": [
    "std <- function(x) sqrt(var(x)/(length(x)))\n",
    "std1 <- function(x) sqrt(var(x)/(length(x)-1))"
   ]
  },
  {
   "cell_type": "code",
   "execution_count": 4,
   "metadata": {},
   "outputs": [],
   "source": [
    "out <- matrix(ncol=2, nrow=5)\n",
    "vector_var <- double(0)\n",
    "vector_mean <- double(0)\n",
    "list_dir = list.dirs(path = \"../../log/clustering_diameter\", full.names = TRUE, recursive = FALSE)\n",
    "\n",
    "for (dir in list_dir){\n",
    "    list_files = (list.files(path = dir, pattern = NULL, all.files = FALSE,\n",
    "           full.names = TRUE, recursive = FALSE,\n",
    "           ignore.case = FALSE, include.dirs = FALSE, no.. = FALSE)\n",
    "    )\n",
    "    for (file in list_files){\n",
    "        if (grepl(\"clustering2018\", file)){\n",
    "            c1 <- read.csv(file=file, skip=12, header=TRUE, sep=\",\")\n",
    "            #print(c)\n",
    "            vector_var <- c(vector_var, var(c1[,c(2)]))\n",
    "            vector_mean <- c(vector_mean, mean( c1[,c(2)] ) ) \n",
    "        }\n",
    "    }\n",
    "}\n",
    "\n",
    "#vector_mean\n",
    "\n",
    "for(i in 1:5){\n",
    "    out[i,1] <- mean( vector_mean[( (i-1)*5+1 ):( i*5 )] )\n",
    "    out[i,2] <- sqrt(sum( vector_var[( (i-1)*5+1 ):( i*5 )] )) / length(vector_var)\n",
    "}\n",
    "out <- data.frame(out)\n",
    "\n",
    "names(out)[names(out)==\"X1\"] <- \"mean\"\n",
    "names(out)[names(out)==\"X2\"] <- \"std\"\n",
    "\n",
    "#out"
   ]
  },
  {
   "cell_type": "code",
   "execution_count": 6,
   "metadata": {},
   "outputs": [
    {
     "data": {
      "text/html": [
       "0.251110909408825"
      ],
      "text/latex": [
       "0.251110909408825"
      ],
      "text/markdown": [
       "0.251110909408825"
      ],
      "text/plain": [
       "[1] 0.2511109"
      ]
     },
     "metadata": {},
     "output_type": "display_data"
    },
    {
     "data": {
      "text/plain": [
       "\n",
       "Call:\n",
       "lm(formula = y ~ x, weights = (out$std)^(-0.5))\n",
       "\n",
       "Weighted Residuals:\n",
       "         1          2          3          4          5 \n",
       " 0.0080130 -0.0102866 -0.0023544  0.0040108  0.0007199 \n",
       "\n",
       "Coefficients:\n",
       "             Estimate Std. Error t value Pr(>|t|)   \n",
       "(Intercept) 0.0284507  0.0022654  12.559  0.00109 **\n",
       "x           0.0003199  0.0006838   0.468  0.67182   \n",
       "---\n",
       "Signif. codes:  0 ‘***’ 0.001 ‘**’ 0.01 ‘*’ 0.05 ‘.’ 0.1 ‘ ’ 1\n",
       "\n",
       "Residual standard error: 0.008004 on 3 degrees of freedom\n",
       "Multiple R-squared:  0.06799,\tAdjusted R-squared:  -0.2427 \n",
       "F-statistic: 0.2188 on 1 and 3 DF,  p-value: 0.6718\n"
      ]
     },
     "metadata": {},
     "output_type": "display_data"
    },
    {
     "data": {
      "text/html": [
       "<strong>png:</strong> 2"
      ],
      "text/latex": [
       "\\textbf{png:} 2"
      ],
      "text/markdown": [
       "**png:** 2"
      ],
      "text/plain": [
       "png \n",
       "  2 "
      ]
     },
     "metadata": {},
     "output_type": "display_data"
    }
   ],
   "source": [
    "x <- 1:5\n",
    "y <- out$mean\n",
    "\n",
    "cor(x,y)\n",
    "\n",
    "svg(filename=\"../../tex/Maggiora/img/clustering.svg\", \n",
    "    width=5, \n",
    "    height=4, \n",
    "    pointsize=12)\n",
    "\n",
    "plot(1:5, out$mean, xlab=\"memory size\", ylab=\"clustering coeff.\", pch=20, ylim=range(c(out$mean-out$std, out$mean+out$std)), panel.first=grid())\n",
    "grid()\n",
    "arrows(1:5, out$mean-out$std, 1:5, out$mean+out$std,, length=0.05, angle=90, code=3)\n",
    "\n",
    "summary(lm(y ~ x, weights=(out$std)^(-0.5)))\n",
    "abline(lm(y ~ x, weights=(out$std)^(-0.5)))\n",
    "\n",
    "par(new=TRUE)\n",
    "\n",
    "dev.off()"
   ]
  },
  {
   "cell_type": "code",
   "execution_count": 8,
   "metadata": {},
   "outputs": [],
   "source": [
    "out <- matrix(ncol=2, nrow=5)\n",
    "\n",
    "vector_var <- double(0)\n",
    "vector_mean <- double(0)\n",
    "list_dir = list.dirs(path = \"../../log/clustering_diameter\", full.names = TRUE, recursive = FALSE)\n",
    "\n",
    "for (dir in list_dir){\n",
    "    list_files = (list.files(path = dir, pattern = NULL, all.files = FALSE,\n",
    "           full.names = TRUE, recursive = FALSE,\n",
    "           ignore.case = FALSE, include.dirs = FALSE, no.. = FALSE)\n",
    "    )\n",
    "    for (file in list_files){\n",
    "        if (grepl(\"diameter2018\", file)){\n",
    "            c1 <- read.csv(file=file, skip=12, header=TRUE, sep=\",\")\n",
    "            #print(c)\n",
    "            vector_mean  <- c(vector_mean,  c1[1,1]  )\n",
    "        }\n",
    "    }\n",
    "}\n",
    "\n",
    "#vector_mean\n",
    "\n",
    "for(i in 1:5){\n",
    "    out[i,1] <- mean( vector_mean[( (i-1)*5+1 ):( i*5 )] )\n",
    "    out[i,2] <- std(vector_mean[( (i-1)*5+1 ):( i*5 )] )\n",
    "}\n",
    "out <- data.frame(out)\n",
    "\n",
    "names(out)[names(out)==\"X1\"] <- \"mean\"\n",
    "names(out)[names(out)==\"X2\"] <- \"std\"\n",
    "\n",
    "#out"
   ]
  },
  {
   "cell_type": "code",
   "execution_count": 9,
   "metadata": {},
   "outputs": [
    {
     "data": {
      "text/html": [
       "0.176776695296637"
      ],
      "text/latex": [
       "0.176776695296637"
      ],
      "text/markdown": [
       "0.176776695296637"
      ],
      "text/plain": [
       "[1] 0.1767767"
      ]
     },
     "metadata": {},
     "output_type": "display_data"
    },
    {
     "data": {
      "text/plain": [
       "\n",
       "Call:\n",
       "lm(formula = y ~ x, weights = (out$std)^(-0.5))\n",
       "\n",
       "Weighted Residuals:\n",
       "        1         2         3         4         5 \n",
       " 0.155404  0.117339 -0.686551  0.479542  0.002957 \n",
       "\n",
       "Coefficients:\n",
       "            Estimate Std. Error t value Pr(>|t|)    \n",
       "(Intercept)  8.24614    0.41815  19.721 0.000285 ***\n",
       "x            0.03027    0.12962   0.234 0.830365    \n",
       "---\n",
       "Signif. codes:  0 ‘***’ 0.001 ‘**’ 0.01 ‘*’ 0.05 ‘.’ 0.1 ‘ ’ 1\n",
       "\n",
       "Residual standard error: 0.4964 on 3 degrees of freedom\n",
       "Multiple R-squared:  0.01786,\tAdjusted R-squared:  -0.3095 \n",
       "F-statistic: 0.05454 on 1 and 3 DF,  p-value: 0.8304\n"
      ]
     },
     "metadata": {},
     "output_type": "display_data"
    },
    {
     "data": {
      "text/html": [
       "<strong>png:</strong> 2"
      ],
      "text/latex": [
       "\\textbf{png:} 2"
      ],
      "text/markdown": [
       "**png:** 2"
      ],
      "text/plain": [
       "png \n",
       "  2 "
      ]
     },
     "metadata": {},
     "output_type": "display_data"
    }
   ],
   "source": [
    "x <- 1:5\n",
    "y <- out$mean\n",
    "cor(x,y)\n",
    "svg(filename=\"../../tex/Maggiora/img/diameter.svg\", \n",
    "    width=5, \n",
    "    height=4, \n",
    "    pointsize=12)\n",
    "\n",
    "plot(1:5, out$mean, xlab=\"memory size\", ylab=\"diameter\", pch=20, ylim=range(c(out$mean-out$std, out$mean+out$std)), panel.first=grid())\n",
    "grid()\n",
    "\n",
    "arrows(1:5, out$mean-out$std, 1:5, out$mean+out$std,, length=0.05, angle=90, code=3)\n",
    "\n",
    "summary(lm(y ~ x, weights=(out$std)^(-0.5)))\n",
    "abline(lm(y ~ x, weights=(out$std)^(-0.5)))\n",
    "\n",
    "par(new=TRUE)\n",
    "\n",
    "dev.off()"
   ]
  },
  {
   "cell_type": "code",
   "execution_count": null,
   "metadata": {},
   "outputs": [],
   "source": []
  }
 ],
 "metadata": {
  "kernelspec": {
   "display_name": "R",
   "language": "R",
   "name": "ir"
  },
  "language_info": {
   "codemirror_mode": "r",
   "file_extension": ".r",
   "mimetype": "text/x-r-source",
   "name": "R",
   "pygments_lexer": "r",
   "version": "3.5.0"
  }
 },
 "nbformat": 4,
 "nbformat_minor": 2
}
