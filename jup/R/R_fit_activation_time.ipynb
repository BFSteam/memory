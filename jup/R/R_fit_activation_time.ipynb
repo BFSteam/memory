{
 "cells": [
  {
   "cell_type": "markdown",
   "metadata": {
    "collapsed": true
   },
   "source": [
    "[ ] fit tempo di attivazione al variare della memoria.\n",
    "\n",
    "[ ] parametri da fissare:n utenti, frazione di attivazione (30%??)\n",
    "\n",
    "[x] acquisizione csv con i valori di attivazione e  memoria  (simulazioni a memoria fissa)\n",
    "\n",
    "[ ] valore medio ed errore del tempo di attivazione per ogni memoria\n",
    "\n",
    "[ ] fit con barre di errore "
   ]
  },
  {
   "cell_type": "code",
   "execution_count": 10,
   "metadata": {},
   "outputs": [],
   "source": [
    "library(data.table)\n",
    "library(foreach)\n",
    "library(doMC)\n",
    "\n",
    "library(ggplot2)\n",
    "library(plotrix)\n",
    "\n",
    "library(ineq)\n",
    "library(boot) \n",
    "library(reldist) # just for the gini() function\n",
    "library(fBasics)"
   ]
  },
  {
   "cell_type": "markdown",
   "metadata": {},
   "source": [
    "### Heading"
   ]
  },
  {
   "cell_type": "code",
   "execution_count": 49,
   "metadata": {},
   "outputs": [],
   "source": [
    "int <- read.csv(file=\"../../log/state3/1-20m_1000u_20s_1000t/memoryLog2018_08_03_18_19_18.csv\", nrows=11, sep=\",\", as.is=T)\n",
    "maxtime    <- 1000\n",
    "num_news   <- int$X..memorylog[6]\n",
    "num_users  <- 1000\n",
    "num_sources<- 20\n",
    "memory  <- 6\n",
    "#int"
   ]
  },
  {
   "cell_type": "markdown",
   "metadata": {},
   "source": [
    "### Multicore detect"
   ]
  },
  {
   "cell_type": "code",
   "execution_count": 12,
   "metadata": {
    "scrolled": true
   },
   "outputs": [
    {
     "data": {
      "text/html": [
       "8"
      ],
      "text/latex": [
       "8"
      ],
      "text/markdown": [
       "8"
      ],
      "text/plain": [
       "[1] 8"
      ]
     },
     "metadata": {},
     "output_type": "display_data"
    }
   ],
   "source": [
    "cores=detectCores()\n",
    "#cluster <- makeCluster(cores[1] - 1)\n",
    "registerDoMC(cores -1)\n",
    "cores"
   ]
  },
  {
   "cell_type": "code",
   "execution_count": 13,
   "metadata": {},
   "outputs": [
    {
     "data": {
      "text/html": [
       "120"
      ],
      "text/latex": [
       "120"
      ],
      "text/markdown": [
       "120"
      ],
      "text/plain": [
       "[1] 120"
      ]
     },
     "metadata": {},
     "output_type": "display_data"
    }
   ],
   "source": [
    "HBp <- fread(file = '../../log/maggiora/HBp_news.csv', header=FALSE, sep=\",\")\n",
    "nrow(HBp)"
   ]
  },
  {
   "cell_type": "markdown",
   "metadata": {},
   "source": [
    "### Histograms"
   ]
  },
  {
   "cell_type": "markdown",
   "metadata": {},
   "source": [
    "standar error functions"
   ]
  },
  {
   "cell_type": "code",
   "execution_count": 15,
   "metadata": {},
   "outputs": [],
   "source": [
    "std <- function(x) sqrt(var(x)/length(x))\n",
    "std1 <- function(x) sqrt(var(x)/(length(x)-1))"
   ]
  },
  {
   "cell_type": "markdown",
   "metadata": {},
   "source": [
    "gini error with jacknife"
   ]
  },
  {
   "cell_type": "code",
   "execution_count": 17,
   "metadata": {},
   "outputs": [
    {
     "data": {
      "text/html": [
       "0.169617349379666"
      ],
      "text/latex": [
       "0.169617349379666"
      ],
      "text/markdown": [
       "0.169617349379666"
      ],
      "text/plain": [
       "[1] 0.1696173"
      ]
     },
     "metadata": {},
     "output_type": "display_data"
    },
    {
     "data": {
      "text/html": [
       "0.746246246246246"
      ],
      "text/latex": [
       "0.746246246246246"
      ],
      "text/markdown": [
       "0.746246246246246"
      ],
      "text/plain": [
       "[1] 0.7462462"
      ]
     },
     "metadata": {},
     "output_type": "display_data"
    }
   ],
   "source": [
    "## https://stats.stackexchange.com/questions/21868/gini-coefficient-and-error-bounds\n",
    "calc.Gini.variance <- function(x) {\n",
    "    N <- length(x)\n",
    "    # using jacknifing as suggested by Tomson Ogwang - equation 7\n",
    "    # in the Oxford Bulletin of Economics and Statistics, 62, 1 (2000)\n",
    "    # ((n-1)/n) \\times \\sum_{k=1}^n (G(n,k)-\\bar{G}(n))^2\n",
    "    gini.bar <- Gini(x)\n",
    "    gini.tmp <- vector(mode='numeric', length=N)\n",
    "    for (k in 1:N) {\n",
    "        gini.tmp[k] <- Gini(x[-k])\n",
    "    }\n",
    "    gini.bar <- mean(gini.tmp)\n",
    "    sum((gini.tmp-gini.bar)^2)*(N-1)/N\n",
    "    }\n",
    "calc.Gini.variance(c(1,2,2,3,4,99)) \n",
    "Gini(c(1,2,2,3,4,99))\n"
   ]
  },
  {
   "cell_type": "code",
   "execution_count": 18,
   "metadata": {},
   "outputs": [
    {
     "data": {
      "text/html": [
       "<ol class=list-inline>\n",
       "\t<li>0.746246246246246</li>\n",
       "\t<li>0.0442821088924984</li>\n",
       "\t<li>0.0213735181642962</li>\n",
       "\t<li>0.0370782656642808</li>\n",
       "</ol>\n"
      ],
      "text/latex": [
       "\\begin{enumerate*}\n",
       "\\item 0.746246246246246\n",
       "\\item 0.0442821088924984\n",
       "\\item 0.0213735181642962\n",
       "\\item 0.0370782656642808\n",
       "\\end{enumerate*}\n"
      ],
      "text/markdown": [
       "1. 0.746246246246246\n",
       "2. 0.0442821088924984\n",
       "3. 0.0213735181642962\n",
       "4. 0.0370782656642808\n",
       "\n",
       "\n"
      ],
      "text/plain": [
       "[1] 0.74624625 0.04428211 0.02137352 0.03707827"
      ]
     },
     "metadata": {},
     "output_type": "display_data"
    }
   ],
   "source": [
    "#https://stats.stackexchange.com/questions/21868/gini-coefficient-and-error-bounds\n",
    "calc.Gini.bootstrap <- function(x, n, up, down) {\n",
    "    y <- boot(data = x, statistic = gini, R = n, parallel=\"multicore\", ncpus=(cores-1))\n",
    "    qq <- quantile(y$t, probs=c(up, down))\n",
    "    g <- gini(x)\n",
    "    e1 <- g - as.numeric(qq[1])\n",
    "    e2 <- as.numeric(qq[2]) - g\n",
    "    s <- sd(y$t)\n",
    "    return(c(g, e1, e2, s))\n",
    "}\n",
    "\n",
    "calc.Gini.bootstrap(c(1,2,2,3,4,99), 500, 0.25, 0.95)"
   ]
  },
  {
   "cell_type": "code",
   "execution_count": 19,
   "metadata": {
    "scrolled": true
   },
   "outputs": [
    {
     "data": {
      "text/html": [
       "400"
      ],
      "text/latex": [
       "400"
      ],
      "text/markdown": [
       "400"
      ],
      "text/plain": [
       "[1] 400"
      ]
     },
     "metadata": {},
     "output_type": "display_data"
    },
    {
     "ename": "ERROR",
     "evalue": "Error in quantile.default(y$t, probs = c(up, down)): missing values and NaN's not allowed if 'na.rm' is FALSE\n",
     "output_type": "error",
     "traceback": [
      "Error in quantile.default(y$t, probs = c(up, down)): missing values and NaN's not allowed if 'na.rm' is FALSE\nTraceback:\n",
      "1. calc.Gini.bootstrap(to_gini, 1e+05, 0.16, 0.84)",
      "2. quantile(y$t, probs = c(up, down))   # at line 4 of file <text>",
      "3. quantile(y$t, probs = c(up, down))",
      "4. quantile.default(y$t, probs = c(up, down))",
      "5. stop(\"missing values and NaN's not allowed if 'na.rm' is FALSE\")"
     ]
    }
   ],
   "source": [
    "bb <- 200\n",
    "norm <- num_users/bb\n",
    "num_sources*memory\n",
    "threshold <- 1000\n",
    "\n",
    "mean_news <- double()\n",
    "mean_nerr <- double()\n",
    "gini_news <- double()\n",
    "gini_erru <- double()\n",
    "gini_errd <- double()\n",
    "gini_estd <- double()\n",
    "\n",
    "for(i in 1:memory ){\n",
    "    for(j in 1:num_sources){\n",
    "        #foo <- data.frame(1:maxtime, as.vector(HBp[(i - 1)*num_sources + j,] - 1)/(num_users*norm))\n",
    "        #p <- ggplot(foo, aes(1:maxtime, weight = as.vector(HBp[(i - 1)*num_sources + j,] - 1)/(num_users*norm))) + geom_histogram()\n",
    "        #plot( p, col=rgb(0,0,1,1/4))#, xlim=c(0,10))  # first histogram\n",
    "        \n",
    "        #####  plot histogram #####\n",
    "        #weighted.hist(\n",
    "        #    1:maxtime ,as.vector(HBp[(i - 1)*num_sources + j,] - 1)/(num_users*norm), \n",
    "        #    col=rgb(0.05*i,0,1 - 0.05*(i-1),0.7),\n",
    "        #    main=paste(\"Memory\", as.character(i), \"news\", as.character(j)), \n",
    "        #    xlab=\"Time\", ylab=paste(\"news\", as.character(j)), breaks=bb)\n",
    "        #box()\n",
    "        ###########################\n",
    "\n",
    "        temp_vector <- c(as.vector(HBp[(i - 1)*num_sources + j,] - 1, mode=\"numeric\")/(num_users*norm))\n",
    "        \n",
    "        mean_news[(i - 1)*num_sources + j] <- mean(temp_vector[maxtime-threshold+1:maxtime])\n",
    "        mean_nerr[(i - 1)*num_sources + j] <- std1(temp_vector[maxtime-threshold+1:maxtime])\n",
    "    }\n",
    "    to_gini <- mean_news[ ((i - 1) * num_sources + 1):( i * num_sources ) ]\n",
    "    results <- calc.Gini.bootstrap(to_gini, 100000, 0.16, 0.84)\n",
    "    gini_news[i] <- results[1]\n",
    "    gini_errd[i] <- results[2]\n",
    "    gini_erru[i] <- results[3]\n",
    "    gini_estd[i] <- results[4]\n",
    "}"
   ]
  },
  {
   "cell_type": "code",
   "execution_count": 48,
   "metadata": {},
   "outputs": [],
   "source": [
    "normal <- function(x, mu, sig, scale, off) { off + scale * dnorm(x, mu, sig) }\n",
    "sigmoid <- function(x, mu, sig, scale, off) { off + scale * 1/(sig + exp(mu*x)) }"
   ]
  },
  {
   "cell_type": "code",
   "execution_count": 54,
   "metadata": {
    "scrolled": false
   },
   "outputs": [
    {
     "data": {
      "text/html": [
       "<table>\n",
       "<thead><tr><th scope=col>chi2</th><th scope=col>pchi2</th></tr></thead>\n",
       "<tbody>\n",
       "\t<tr><td>0.0007043929</td><td>0.9788263   </td></tr>\n",
       "\t<tr><td>0.0002673824</td><td>0.9869537   </td></tr>\n",
       "\t<tr><td>0.0002781867</td><td>0.9866928   </td></tr>\n",
       "</tbody>\n",
       "</table>\n"
      ],
      "text/latex": [
       "\\begin{tabular}{r|ll}\n",
       " chi2 & pchi2\\\\\n",
       "\\hline\n",
       "\t 0.0007043929 & 0.9788263   \\\\\n",
       "\t 0.0002673824 & 0.9869537   \\\\\n",
       "\t 0.0002781867 & 0.9866928   \\\\\n",
       "\\end{tabular}\n"
      ],
      "text/markdown": [
       "\n",
       "chi2 | pchi2 | \n",
       "|---|---|---|\n",
       "| 0.0007043929 | 0.9788263    | \n",
       "| 0.0002673824 | 0.9869537    | \n",
       "| 0.0002781867 | 0.9866928    | \n",
       "\n",
       "\n"
      ],
      "text/plain": [
       "  chi2         pchi2    \n",
       "1 0.0007043929 0.9788263\n",
       "2 0.0002673824 0.9869537\n",
       "3 0.0002781867 0.9866928"
      ]
     },
     "metadata": {},
     "output_type": "display_data"
    },
    {
     "data": {
      "text/html": [
       "<table>\n",
       "<thead><tr><th scope=col>chi2</th><th scope=col>pchi2</th></tr></thead>\n",
       "<tbody>\n",
       "\t<tr><td>0.004847412</td><td>0.9444934  </td></tr>\n",
       "\t<tr><td>0.001992566</td><td>0.9643957  </td></tr>\n",
       "\t<tr><td>0.001980117</td><td>0.9645070  </td></tr>\n",
       "</tbody>\n",
       "</table>\n"
      ],
      "text/latex": [
       "\\begin{tabular}{r|ll}\n",
       " chi2 & pchi2\\\\\n",
       "\\hline\n",
       "\t 0.004847412 & 0.9444934  \\\\\n",
       "\t 0.001992566 & 0.9643957  \\\\\n",
       "\t 0.001980117 & 0.9645070  \\\\\n",
       "\\end{tabular}\n"
      ],
      "text/markdown": [
       "\n",
       "chi2 | pchi2 | \n",
       "|---|---|---|\n",
       "| 0.004847412 | 0.9444934   | \n",
       "| 0.001992566 | 0.9643957   | \n",
       "| 0.001980117 | 0.9645070   | \n",
       "\n",
       "\n"
      ],
      "text/plain": [
       "  chi2        pchi2    \n",
       "1 0.004847412 0.9444934\n",
       "2 0.001992566 0.9643957\n",
       "3 0.001980117 0.9645070"
      ]
     },
     "metadata": {},
     "output_type": "display_data"
    },
    {
     "data": {
      "image/png": "[encoded data removed]",
      "text/plain": [
       "plot without title"
      ]
     },
     "metadata": {},
     "output_type": "display_data"
    }
   ],
   "source": [
    "## https://stackoverflow.com/questions/15882323/r-robust-fitting-of-data-points-to-a-gaussian-function#15883835\n",
    "\n",
    "fitGboot = function(x,y,w,mu,sig,scale,off){\n",
    "    f = function(p){\n",
    "        quant <- 0.16\n",
    "        d = p[4] + p[3]*dnorm(x,mean=p[1],sd=p[2])\n",
    "        sum( ( Heaviside(y, d)*quant + (1 - quant)*Heaviside(d, y) )* abs(y-d) )\n",
    "    }\n",
    "    optim(c(mu,sig,scale,off),f)\n",
    "}\n",
    "\n",
    "fitGstd = function(x,y,w,mu,sig,scale,off){\n",
    "    f = function(p){\n",
    "        d = p[4] + p[3]*dnorm(x,mean=p[1],sd=p[2])\n",
    "        sum((d-y)^2/(w^2))\n",
    "    }\n",
    "    optim(c(mu,sig,scale,off),f)\n",
    "}\n",
    "\n",
    "fitGfunk = function(x,y,wu,wd,mu,sig,scale,off){\n",
    "    f = function(p){\n",
    "        d = p[4] + p[3]*dnorm(x,mean=p[1],sd=p[2])\n",
    "        sum((d-y)^2/((2*wu)^2*Heaviside(d-y) + (2*wd)^2*Heaviside(y-d)))\n",
    "    }\n",
    "    optim(c(mu,sig,scale,off),f)\n",
    "}\n",
    "\n",
    "\n",
    "fitPstd  = fitGstd(Data$memory, Data$gini, Data$ginistd, 0.1,3.5,1.0,0.6)\n",
    "pstd  = fitPstd$par\n",
    "\n",
    "fitPboot = fitGboot(Data$memory, Data$gini, Data$giniup+Data$ginidown, pstd[1],pstd[2],pstd[3],pstd[4])\n",
    "pboot = fitPboot$par\n",
    "\n",
    "fitPfunk = fitGfunk(Data$memory, Data$gini, Data$giniup, Data$ginidown, 0.1,3.5,1.0,0.6)\n",
    "pfunk = fitPfunk$par\n",
    "\n",
    "DataChi <- data.frame(observed = Data$gini, \n",
    "                      expboot = normal(Data$memory, pboot[1], pboot[2], pboot[3], pboot[4]),\n",
    "                      expstd  = normal(Data$memory, pstd[1], pstd[2], pstd[3], pstd[4]),\n",
    "                      expfunk = normal(Data$memory, pfunk[1], pfunk[2], pfunk[3], pfunk[4]) )\n",
    "chi2boot = sum(( DataChi$observed - DataChi$expboot)^2/ DataChi$expboot)\n",
    "chi2std = sum(( DataChi$observed - DataChi$expstd)^2/ DataChi$expstd)\n",
    "chi2funk = sum(( DataChi$observed - DataChi$expfunk)^2/ DataChi$expfunk)\n",
    "\n",
    "data.frame(chi2=c(chi2boot, chi2std, chi2funk), pchi2=c(\n",
    "    pchisq(chi2boot, df=1 , lower.tail=FALSE),\n",
    "    pchisq(chi2std, df=1 , lower.tail=FALSE),\n",
    "    pchisq(chi2funk, df=1 , lower.tail=FALSE)\n",
    "))\n",
    "\n",
    "## https://stackoverflow.com/questions/15882323/r-robust-fitting-of-data-points-to-a-gaussian-function#15883835\n",
    "\n",
    "fitGboot = function(x,y,w,mu,sig,scale,off){\n",
    "    f = function(p){\n",
    "        quant <- 0.16\n",
    "        d = p[4] + p[3]*(1/(p[2] + exp(p[1]*x)))\n",
    "        sum( ( Heaviside(y, d)*quant + (1 - quant)*Heaviside(d, y) )* abs(y-d) )\n",
    "    }\n",
    "    optim(c(mu,sig,scale,off),f)\n",
    "}\n",
    "\n",
    "fitGstd = function(x,y,w,mu,sig,scale,off){\n",
    "    f = function(p){\n",
    "        d = p[4] + p[3]*(1/(p[2] + exp(p[1]*x)))\n",
    "        sum((d-y)^2/(w^2))\n",
    "    }\n",
    "    optim(c(mu,sig,scale,off),f)\n",
    "}\n",
    "\n",
    "fitGfunk = function(x,y,wu,wd,mu,sig,scale,off){\n",
    "    f = function(p){\n",
    "        d = p[4] + p[3]*(1/(p[2] + exp(p[1]*x)))\n",
    "        sum((d-y)^2/((2*wu)^2*Heaviside(d-y) + (2*wd)^2*Heaviside(y-d)))\n",
    "    }\n",
    "    optim(c(mu,sig,scale,off),f)\n",
    "}\n",
    "\n",
    "fitPstd  =  fitGstd(Data$memory, Data$gini, Data$ginistd, -0.1,3.5,1.0,0.6)\n",
    "pstd  = fitPstd$par\n",
    "\n",
    "fitPboot = fitGboot(Data$memory, Data$gini, Data$giniup+Data$ginidown, pstd[1],pstd[2],pstd[3],pstd[4])\n",
    "pboot = fitPboot$par\n",
    "\n",
    "fitPfunk = fitGfunk(Data$memory, Data$gini, Data$giniup, Data$ginidown, -0.1,3.5,1.0,0.6)\n",
    "pfunk = fitPfunk$par\n",
    "\n",
    "DataChi <- data.frame(observed = Data$gini, \n",
    "                      expboot = sigmoid(Data$memory, pboot[1], pboot[2], pboot[3], pboot[4]),\n",
    "                      expstd  = sigmoid(Data$memory, pstd[1], pstd[2], pstd[3], pstd[4]),\n",
    "                      expfunk = sigmoid(Data$memory, pfunk[1], pfunk[2], pfunk[3], pfunk[4]) )\n",
    "chi2boot = sum(( DataChi$observed - DataChi$expboot)^2/ DataChi$expboot)\n",
    "chi2std = sum(( DataChi$observed - DataChi$expstd)^2/ DataChi$expstd)\n",
    "chi2funk = sum(( DataChi$observed - DataChi$expfunk)^2/ DataChi$expfunk)\n",
    "\n",
    "data.frame(chi2=c(chi2boot, chi2std, chi2funk), pchi2=c(\n",
    "    pchisq(chi2boot, df=1 , lower.tail=FALSE),\n",
    "    pchisq(chi2std, df=1 , lower.tail=FALSE),\n",
    "    pchisq(chi2funk, df=1 , lower.tail=FALSE)\n",
    "))\n",
    "\n",
    "plot(Data$memory, Data$gini, xlab=\"memory size\", ylab=\"gini index\", pch=20, xlim=range(0,12),ylim=range(c(Data$gini-Data$ginidown, Data$gini+Data$giniup)), panel.first=grid())\n",
    "#arrows(Data$memory, Data$gini-Data$ginistd, Data$memory, Data$gini + Data$ginistd, length=0.05, angle=90, code=3, col='blue')\n",
    "arrows(Data$memory, Data$gini-Data$ginidown, Data$memory, Data$gini + Data$giniup, length=0.05, angle=90, code=3)\n",
    "par(new=TRUE)\n",
    "\n",
    "#curve(sigmoid(x, pboot[1], pboot[2], pboot[3], pboot[4]), 0, 20 ,n=200, add=TRUE)\n",
    "#curve(sigmoid(x, pstd[1], pstd[2], pstd[3], pstd[4]), 0, 20 ,n=200, add=TRUE, col='red')\n",
    "curve(normal(x, gausspar[1], gausspar[2], gausspar[3], gausspar[4]), 0, 20 ,n=200, add=TRUE, col='black', lty=3)\n",
    "curve(sigmoid(x, pfunk[1], pfunk[2], pfunk[3], pfunk[4]), 0, 20 ,n=200, add=TRUE, col='black')\n",
    "\n",
    "legend(\"topright\", pch = c(20, NA, NA), lty=c(NA,2, 1),\n",
    "        col = c(\"black\", \"black\", \"black\"), \n",
    "        legend = c(\"Gini Index Mean Values\", \"Gaussian with Asym. Optim.\", \"Sigmoid with Asym. Optim.\"))"
   ]
  },
  {
   "cell_type": "code",
   "execution_count": 36,
   "metadata": {},
   "outputs": [
    {
     "data": {
      "text/html": [
       "<ol class=list-inline>\n",
       "\t<li>0.0260438</li>\n",
       "\t<li>0.0504198</li>\n",
       "\t<li>0.0045844</li>\n",
       "\t<li>0.1760992</li>\n",
       "\t<li>0.0187056</li>\n",
       "\t<li>0.0177322</li>\n",
       "\t<li>0.0405616</li>\n",
       "\t<li>0.1698014</li>\n",
       "\t<li>0.0097986</li>\n",
       "\t<li>0.0252652</li>\n",
       "\t<li>0.0376486</li>\n",
       "\t<li>0.0053818</li>\n",
       "\t<li>0.0147618</li>\n",
       "\t<li>0.0070476</li>\n",
       "\t<li>0.0083272</li>\n",
       "\t<li>0.1815116</li>\n",
       "\t<li>0.0049688</li>\n",
       "\t<li>0.0043846</li>\n",
       "\t<li>0.009908</li>\n",
       "\t<li>0.0552234</li>\n",
       "</ol>\n"
      ],
      "text/latex": [
       "\\begin{enumerate*}\n",
       "\\item 0.0260438\n",
       "\\item 0.0504198\n",
       "\\item 0.0045844\n",
       "\\item 0.1760992\n",
       "\\item 0.0187056\n",
       "\\item 0.0177322\n",
       "\\item 0.0405616\n",
       "\\item 0.1698014\n",
       "\\item 0.0097986\n",
       "\\item 0.0252652\n",
       "\\item 0.0376486\n",
       "\\item 0.0053818\n",
       "\\item 0.0147618\n",
       "\\item 0.0070476\n",
       "\\item 0.0083272\n",
       "\\item 0.1815116\n",
       "\\item 0.0049688\n",
       "\\item 0.0043846\n",
       "\\item 0.009908\n",
       "\\item 0.0552234\n",
       "\\end{enumerate*}\n"
      ],
      "text/markdown": [
       "1. 0.0260438\n",
       "2. 0.0504198\n",
       "3. 0.0045844\n",
       "4. 0.1760992\n",
       "5. 0.0187056\n",
       "6. 0.0177322\n",
       "7. 0.0405616\n",
       "8. 0.1698014\n",
       "9. 0.0097986\n",
       "10. 0.0252652\n",
       "11. 0.0376486\n",
       "12. 0.0053818\n",
       "13. 0.0147618\n",
       "14. 0.0070476\n",
       "15. 0.0083272\n",
       "16. 0.1815116\n",
       "17. 0.0049688\n",
       "18. 0.0043846\n",
       "19. 0.009908\n",
       "20. 0.0552234\n",
       "\n",
       "\n"
      ],
      "text/plain": [
       " [1] 0.0260438 0.0504198 0.0045844 0.1760992 0.0187056 0.0177322 0.0405616\n",
       " [8] 0.1698014 0.0097986 0.0252652 0.0376486 0.0053818 0.0147618 0.0070476\n",
       "[15] 0.0083272 0.1815116 0.0049688 0.0043846 0.0099080 0.0552234"
      ]
     },
     "metadata": {},
     "output_type": "display_data"
    },
    {
     "data": {
      "text/html": [
       "0.603386897022629"
      ],
      "text/latex": [
       "0.603386897022629"
      ],
      "text/markdown": [
       "0.603386897022629"
      ],
      "text/plain": [
       "[1] 0.6033869"
      ]
     },
     "metadata": {},
     "output_type": "display_data"
    },
    {
     "data": {
      "image/png": "[encoded data removed]",
      "text/plain": [
       "Plot with title “density.default(x = y$t)”"
      ]
     },
     "metadata": {},
     "output_type": "display_data"
    }
   ],
   "source": [
    "library(reldist) # just for the gini() function\n",
    "library(boot) # for the boot() function\n",
    "x <- mean_news[141:160]\n",
    "mean_news[141:160]\n",
    "gini(x)\n",
    "\n",
    "#options(warn=-1)\n",
    "y <- boot(data = x, statistic = gini, R = 1000000, parallel=\"multicore\", ncpus=7)\n",
    "\n",
    "#options(warn=0)\n",
    "\n",
    "qq <- quantile(y$t, probs=c(0.025, 0.975))\n",
    "plot(density(y$t), panel.first=grid())\n"
   ]
  },
  {
   "cell_type": "code",
   "execution_count": 37,
   "metadata": {},
   "outputs": [
    {
     "data": {
      "text/html": [
       "<dl class=dl-horizontal>\n",
       "\t<dt>2.5%</dt>\n",
       "\t\t<dd>0.541567775978469</dd>\n",
       "\t<dt>97.5%</dt>\n",
       "\t\t<dd>0.635407525359393</dd>\n",
       "</dl>\n"
      ],
      "text/latex": [
       "\\begin{description*}\n",
       "\\item[2.5\\textbackslash{}\\%] 0.541567775978469\n",
       "\\item[97.5\\textbackslash{}\\%] 0.635407525359393\n",
       "\\end{description*}\n"
      ],
      "text/markdown": [
       "2.5%\n",
       ":   0.54156777597846997.5%\n",
       ":   0.635407525359393\n",
       "\n"
      ],
      "text/plain": [
       "     2.5%     97.5% \n",
       "0.5415678 0.6354075 "
      ]
     },
     "metadata": {},
     "output_type": "display_data"
    }
   ],
   "source": [
    "quantile(y$t, probs=c(0.025, 0.975))"
   ]
  },
  {
   "cell_type": "code",
   "execution_count": 38,
   "metadata": {},
   "outputs": [
    {
     "data": {
      "text/html": [
       "0.0238046491271556"
      ],
      "text/latex": [
       "0.0238046491271556"
      ],
      "text/markdown": [
       "0.0238046491271556"
      ],
      "text/plain": [
       "[1] 0.02380465"
      ]
     },
     "metadata": {},
     "output_type": "display_data"
    }
   ],
   "source": [
    "sd(y$t)"
   ]
  },
  {
   "cell_type": "code",
   "execution_count": null,
   "metadata": {},
   "outputs": [],
   "source": []
  },
  {
   "cell_type": "code",
   "execution_count": 39,
   "metadata": {},
   "outputs": [
    {
     "data": {
      "text/html": [
       "<ol class=list-inline>\n",
       "\t<li>1</li>\n",
       "\t<li>2</li>\n",
       "\t<li>1</li>\n",
       "</ol>\n"
      ],
      "text/latex": [
       "\\begin{enumerate*}\n",
       "\\item 1\n",
       "\\item 2\n",
       "\\item 1\n",
       "\\end{enumerate*}\n"
      ],
      "text/markdown": [
       "1. 1\n",
       "2. 2\n",
       "3. 1\n",
       "\n",
       "\n"
      ],
      "text/plain": [
       "[1] 1 2 1"
      ]
     },
     "metadata": {},
     "output_type": "display_data"
    },
    {
     "data": {
      "text/html": [
       "<ol class=list-inline>\n",
       "\t<li>1</li>\n",
       "\t<li>2</li>\n",
       "\t<li>1</li>\n",
       "</ol>\n"
      ],
      "text/latex": [
       "\\begin{enumerate*}\n",
       "\\item 1\n",
       "\\item 2\n",
       "\\item 1\n",
       "\\end{enumerate*}\n"
      ],
      "text/markdown": [
       "1. 1\n",
       "2. 2\n",
       "3. 1\n",
       "\n",
       "\n"
      ],
      "text/plain": [
       "[1] 1 2 1"
      ]
     },
     "metadata": {},
     "output_type": "display_data"
    },
    {
     "data": {
      "text/html": [
       "<ol class=list-inline>\n",
       "\t<li>'a'</li>\n",
       "\t<li>'1'</li>\n",
       "\t<li>'a'</li>\n",
       "</ol>\n"
      ],
      "text/latex": [
       "\\begin{enumerate*}\n",
       "\\item 'a'\n",
       "\\item '1'\n",
       "\\item 'a'\n",
       "\\end{enumerate*}\n"
      ],
      "text/markdown": [
       "1. 'a'\n",
       "2. '1'\n",
       "3. 'a'\n",
       "\n",
       "\n"
      ],
      "text/plain": [
       "[1] \"a\" \"1\" \"a\""
      ]
     },
     "metadata": {},
     "output_type": "display_data"
    }
   ],
   "source": [
    "a <- c(1, 2, 1)\n",
    "a\n",
    "x <- ifelse(a==1, 1, 2)\n",
    "x\n",
    "x <- ifelse(a==2, 1, 'a')\n",
    "x\n"
   ]
  },
  {
   "cell_type": "code",
   "execution_count": null,
   "metadata": {},
   "outputs": [],
   "source": []
  }
 ],
 "metadata": {
  "kernelspec": {
   "display_name": "R",
   "language": "R",
   "name": "ir"
  },
  "language_info": {
   "codemirror_mode": "r",
   "file_extension": ".r",
   "mimetype": "text/x-r-source",
   "name": "R",
   "pygments_lexer": "r",
   "version": "3.5.0"
  }
 },
 "nbformat": 4,
 "nbformat_minor": 2
}
