{
 "cells": [
  {
   "cell_type": "markdown",
   "metadata": {
    "collapsed": true
   },
   "source": [
    "[ ] fit tempo di attivazione al variare della memoria.\n",
    "\n",
    "[ ] parametri da fissare:n utenti, frazione di attivazione (30%??)\n",
    "\n",
    "[x] acquisizione csv con i valori di attivazione e  memoria  (simulazioni a memoria fissa)\n",
    "\n",
    "[ ] valore medio ed errore del tempo di attivazione per ogni memoria\n",
    "\n",
    "[ ] fit con barre di errore "
   ]
  },
  {
   "cell_type": "code",
   "execution_count": 1,
   "metadata": {},
   "outputs": [
    {
     "name": "stderr",
     "output_type": "stream",
     "text": [
      "Loading required package: iterators\n",
      "Loading required package: parallel\n",
      "reldist: Relative Distribution Methods\n",
      "Version 1.6-6 created on 2016-10-07.\n",
      "copyright (c) 2003, Mark S. Handcock, University of California-Los Angeles\n",
      " For citation information, type citation(\"reldist\").\n",
      " Type help(package=\"reldist\") to get started.\n",
      "\n",
      "\n",
      "Attaching package: ‘reldist’\n",
      "\n",
      "The following object is masked from ‘package:ineq’:\n",
      "\n",
      "    entropy\n",
      "\n",
      "Loading required package: timeDate\n",
      "Loading required package: timeSeries\n"
     ]
    }
   ],
   "source": [
    "library(data.table)\n",
    "library(foreach)\n",
    "library(doMC)\n",
    "\n",
    "library(ggplot2)\n",
    "library(plotrix)\n",
    "\n",
    "library(ineq)\n",
    "library(boot) \n",
    "library(reldist) # just for the gini() function\n",
    "library(fBasics)"
   ]
  },
  {
   "cell_type": "markdown",
   "metadata": {},
   "source": [
    "### Heading"
   ]
  },
  {
   "cell_type": "code",
   "execution_count": 2,
   "metadata": {},
   "outputs": [],
   "source": [
    "int <- read.csv(file=\"../../log/maggiora/memoryLog2018_26_05_12_02_52.csv\", nrows=11, sep=\",\", as.is=T)\n",
    "maxtime    <- 1000\n",
    "num_news   <- int$X..memorylog[6]\n",
    "num_users  <- 1000\n",
    "num_sources<- 20\n",
    "memory  <- 12\n",
    "#int"
   ]
  },
  {
   "cell_type": "markdown",
   "metadata": {},
   "source": [
    "### Multicore detect"
   ]
  },
  {
   "cell_type": "code",
   "execution_count": 3,
   "metadata": {
    "scrolled": true
   },
   "outputs": [
    {
     "data": {
      "text/html": [
       "8"
      ],
      "text/latex": [
       "8"
      ],
      "text/markdown": [
       "8"
      ],
      "text/plain": [
       "[1] 8"
      ]
     },
     "metadata": {},
     "output_type": "display_data"
    }
   ],
   "source": [
    "cores=detectCores()\n",
    "#cluster <- makeCluster(cores[1] - 1)\n",
    "registerDoMC(cores -1)\n",
    "cores"
   ]
  },
  {
   "cell_type": "code",
   "execution_count": 4,
   "metadata": {},
   "outputs": [
    {
     "data": {
      "text/html": [
       "240"
      ],
      "text/latex": [
       "240"
      ],
      "text/markdown": [
       "240"
      ],
      "text/plain": [
       "[1] 240"
      ]
     },
     "metadata": {},
     "output_type": "display_data"
    }
   ],
   "source": [
    "HBp <- fread(file = '../../log/maggiora/HBp_news.csv', header=FALSE, sep=\",\")\n",
    "nrow(HBp)"
   ]
  },
  {
   "cell_type": "markdown",
   "metadata": {},
   "source": [
    "### Histograms"
   ]
  },
  {
   "cell_type": "markdown",
   "metadata": {},
   "source": [
    "standar error functions"
   ]
  },
  {
   "cell_type": "code",
   "execution_count": 5,
   "metadata": {},
   "outputs": [],
   "source": [
    "std <- function(x) sqrt(var(x)/length(x))\n",
    "std1 <- function(x) sqrt(var(x)/(length(x)-1))"
   ]
  },
  {
   "cell_type": "markdown",
   "metadata": {},
   "source": [
    "gini error with jacknife"
   ]
  },
  {
   "cell_type": "code",
   "execution_count": 6,
   "metadata": {},
   "outputs": [
    {
     "data": {
      "text/html": [
       "0.169617349379666"
      ],
      "text/latex": [
       "0.169617349379666"
      ],
      "text/markdown": [
       "0.169617349379666"
      ],
      "text/plain": [
       "[1] 0.1696173"
      ]
     },
     "metadata": {},
     "output_type": "display_data"
    },
    {
     "data": {
      "text/html": [
       "0.746246246246246"
      ],
      "text/latex": [
       "0.746246246246246"
      ],
      "text/markdown": [
       "0.746246246246246"
      ],
      "text/plain": [
       "[1] 0.7462462"
      ]
     },
     "metadata": {},
     "output_type": "display_data"
    }
   ],
   "source": [
    "## https://stats.stackexchange.com/questions/21868/gini-coefficient-and-error-bounds\n",
    "calc.Gini.variance <- function(x) {\n",
    "    N <- length(x)\n",
    "    # using jacknifing as suggested by Tomson Ogwang - equation 7\n",
    "    # in the Oxford Bulletin of Economics and Statistics, 62, 1 (2000)\n",
    "    # ((n-1)/n) \\times \\sum_{k=1}^n (G(n,k)-\\bar{G}(n))^2\n",
    "    gini.bar <- Gini(x)\n",
    "    gini.tmp <- vector(mode='numeric', length=N)\n",
    "    for (k in 1:N) {\n",
    "        gini.tmp[k] <- Gini(x[-k])\n",
    "    }\n",
    "    gini.bar <- mean(gini.tmp)\n",
    "    sum((gini.tmp-gini.bar)^2)*(N-1)/N\n",
    "    }\n",
    "calc.Gini.variance(c(1,2,2,3,4,99)) \n",
    "Gini(c(1,2,2,3,4,99))\n"
   ]
  },
  {
   "cell_type": "code",
   "execution_count": 7,
   "metadata": {},
   "outputs": [
    {
     "data": {
      "text/html": [
       "<ol class=list-inline>\n",
       "\t<li>0.746246246246246</li>\n",
       "\t<li>0.0440400679963819</li>\n",
       "\t<li>0.0210626272207336</li>\n",
       "\t<li>0.0364647221049601</li>\n",
       "</ol>\n"
      ],
      "text/latex": [
       "\\begin{enumerate*}\n",
       "\\item 0.746246246246246\n",
       "\\item 0.0440400679963819\n",
       "\\item 0.0210626272207336\n",
       "\\item 0.0364647221049601\n",
       "\\end{enumerate*}\n"
      ],
      "text/markdown": [
       "1. 0.746246246246246\n",
       "2. 0.0440400679963819\n",
       "3. 0.0210626272207336\n",
       "4. 0.0364647221049601\n",
       "\n",
       "\n"
      ],
      "text/plain": [
       "[1] 0.74624625 0.04404007 0.02106263 0.03646472"
      ]
     },
     "metadata": {},
     "output_type": "display_data"
    }
   ],
   "source": [
    "#https://stats.stackexchange.com/questions/21868/gini-coefficient-and-error-bounds\n",
    "calc.Gini.bootstrap <- function(x, n, up, down) {\n",
    "    y <- boot(data = x, statistic = gini, R = n, parallel=\"multicore\", ncpus=(cores-1))\n",
    "    qq <- quantile(y$t, probs=c(up, down))\n",
    "    g <- gini(x)\n",
    "    e1 <- g - as.numeric(qq[1])\n",
    "    e2 <- as.numeric(qq[2]) - g\n",
    "    s <- sd(y$t)\n",
    "    return(c(g, e1, e2, s))\n",
    "}\n",
    "\n",
    "calc.Gini.bootstrap(c(1,2,2,3,4,99), 500, 0.25, 0.95)"
   ]
  },
  {
   "cell_type": "code",
   "execution_count": 8,
   "metadata": {
    "scrolled": true
   },
   "outputs": [
    {
     "data": {
      "text/html": [
       "240"
      ],
      "text/latex": [
       "240"
      ],
      "text/markdown": [
       "240"
      ],
      "text/plain": [
       "[1] 240"
      ]
     },
     "metadata": {},
     "output_type": "display_data"
    }
   ],
   "source": [
    "bb <- 200\n",
    "norm <- num_users/bb\n",
    "num_sources*memory\n",
    "threshold <- 1000\n",
    "\n",
    "mean_news <- double()\n",
    "mean_nerr <- double()\n",
    "gini_news <- double()\n",
    "gini_erru <- double()\n",
    "gini_errd <- double()\n",
    "gini_estd <- double()\n",
    "\n",
    "for(i in 1:memory ){\n",
    "    for(j in 1:num_sources){\n",
    "        #foo <- data.frame(1:maxtime, as.vector(HBp[(i - 1)*num_sources + j,] - 1)/(num_users*norm))\n",
    "        #p <- ggplot(foo, aes(1:maxtime, weight = as.vector(HBp[(i - 1)*num_sources + j,] - 1)/(num_users*norm))) + geom_histogram()\n",
    "        #plot( p, col=rgb(0,0,1,1/4))#, xlim=c(0,10))  # first histogram\n",
    "        \n",
    "        #####  plot histogram #####\n",
    "        #weighted.hist(\n",
    "        #    1:maxtime ,as.vector(HBp[(i - 1)*num_sources + j,] - 1)/(num_users*norm), \n",
    "        #    col=rgb(0.05*i,0,1 - 0.05*(i-1),0.7),\n",
    "        #    main=paste(\"Memory\", as.character(i), \"news\", as.character(j)), \n",
    "        #    xlab=\"Time\", ylab=paste(\"news\", as.character(j)), breaks=bb)\n",
    "        #box()\n",
    "        ###########################\n",
    "\n",
    "        temp_vector <- c(as.vector(HBp[(i - 1)*num_sources + j,] - 1, mode=\"numeric\")/(num_users*norm))\n",
    "        \n",
    "        mean_news[(i - 1)*num_sources + j] <- mean(temp_vector[maxtime-threshold+1:maxtime])\n",
    "        mean_nerr[(i - 1)*num_sources + j] <- std1(temp_vector[maxtime-threshold+1:maxtime])\n",
    "    }\n",
    "    to_gini <- mean_news[ ((i - 1) * num_sources + 1):( i * num_sources ) ]\n",
    "    results <- calc.Gini.bootstrap(to_gini, 100000, 0.16, 0.84)\n",
    "    gini_news[i] <- results[1]\n",
    "    gini_errd[i] <- results[2]\n",
    "    gini_erru[i] <- results[3]\n",
    "    gini_estd[i] <- results[4]\n",
    "}"
   ]
  },
  {
   "cell_type": "code",
   "execution_count": 9,
   "metadata": {},
   "outputs": [],
   "source": [
    "normal <- function(x, mu, sig, scale, off) { off + scale * dnorm(x, mu, sig) }\n",
    "sigmoid <- function(x, mu, sig, scale, off) { off + scale * 1/(sig + exp(mu*x)) }"
   ]
  },
  {
   "cell_type": "code",
   "execution_count": 10,
   "metadata": {},
   "outputs": [],
   "source": [
    "#https://stackoverflow.com/questions/13032777/scatter-plot-with-error-bars\n",
    "Data <- data.frame(memory=c(1:12), gini=gini_news, \n",
    "                   giniup=ifelse(gini_erru>(gini_estd), gini_erru, gini_estd), \n",
    "                   ginidown=ifelse(gini_errd>(gini_estd), gini_errd, gini_estd), ginistd=gini_estd)\n",
    "\n",
    "rangex = c(0,memory+1)"
   ]
  },
  {
   "cell_type": "code",
   "execution_count": 11,
   "metadata": {
    "scrolled": false
   },
   "outputs": [
    {
     "data": {
      "text/html": [
       "<table>\n",
       "<thead><tr><th scope=col>chi2</th><th scope=col>pchi2</th></tr></thead>\n",
       "<tbody>\n",
       "\t<tr><td>0.003830088</td><td>0.9506523  </td></tr>\n",
       "\t<tr><td>0.001323904</td><td>0.9709750  </td></tr>\n",
       "\t<tr><td>0.001355408</td><td>0.9706318  </td></tr>\n",
       "</tbody>\n",
       "</table>\n"
      ],
      "text/latex": [
       "\\begin{tabular}{r|ll}\n",
       " chi2 & pchi2\\\\\n",
       "\\hline\n",
       "\t 0.003830088 & 0.9506523  \\\\\n",
       "\t 0.001323904 & 0.9709750  \\\\\n",
       "\t 0.001355408 & 0.9706318  \\\\\n",
       "\\end{tabular}\n"
      ],
      "text/markdown": [
       "\n",
       "chi2 | pchi2 | \n",
       "|---|---|---|\n",
       "| 0.003830088 | 0.9506523   | \n",
       "| 0.001323904 | 0.9709750   | \n",
       "| 0.001355408 | 0.9706318   | \n",
       "\n",
       "\n"
      ],
      "text/plain": [
       "  chi2        pchi2    \n",
       "1 0.003830088 0.9506523\n",
       "2 0.001323904 0.9709750\n",
       "3 0.001355408 0.9706318"
      ]
     },
     "metadata": {},
     "output_type": "display_data"
    },
    {
     "data": {
      "text/html": [
       "<table>\n",
       "<thead><tr><th scope=col>chi2</th><th scope=col>pchi2</th></tr></thead>\n",
       "<tbody>\n",
       "\t<tr><td>0.0011684686</td><td>0.9727313   </td></tr>\n",
       "\t<tr><td>0.0007703447</td><td>0.9778575   </td></tr>\n",
       "\t<tr><td>0.0014641648</td><td>0.9694769   </td></tr>\n",
       "</tbody>\n",
       "</table>\n"
      ],
      "text/latex": [
       "\\begin{tabular}{r|ll}\n",
       " chi2 & pchi2\\\\\n",
       "\\hline\n",
       "\t 0.0011684686 & 0.9727313   \\\\\n",
       "\t 0.0007703447 & 0.9778575   \\\\\n",
       "\t 0.0014641648 & 0.9694769   \\\\\n",
       "\\end{tabular}\n"
      ],
      "text/markdown": [
       "\n",
       "chi2 | pchi2 | \n",
       "|---|---|---|\n",
       "| 0.0011684686 | 0.9727313    | \n",
       "| 0.0007703447 | 0.9778575    | \n",
       "| 0.0014641648 | 0.9694769    | \n",
       "\n",
       "\n"
      ],
      "text/plain": [
       "  chi2         pchi2    \n",
       "1 0.0011684686 0.9727313\n",
       "2 0.0007703447 0.9778575\n",
       "3 0.0014641648 0.9694769"
      ]
     },
     "metadata": {},
     "output_type": "display_data"
    },
    {
     "data": {
      "text/html": [
       "<strong>png:</strong> 2"
      ],
      "text/latex": [
       "\\textbf{png:} 2"
      ],
      "text/markdown": [
       "**png:** 2"
      ],
      "text/plain": [
       "png \n",
       "  2 "
      ]
     },
     "metadata": {},
     "output_type": "display_data"
    }
   ],
   "source": [
    "## https://stackoverflow.com/questions/15882323/r-robust-fitting-of-data-points-to-a-gaussian-function#15883835\n",
    "\n",
    "fitGboot = function(x,y,w,mu,sig,scale,off){\n",
    "    f = function(p){\n",
    "        quant <- 0.16\n",
    "        d = p[4] + p[3]*dnorm(x,mean=p[1],sd=p[2])\n",
    "        sum( ( Heaviside(y, d)*quant + (1 - quant)*Heaviside(d, y) )* abs(y-d) )\n",
    "    }\n",
    "    optim(c(mu,sig,scale,off),f)\n",
    "}\n",
    "\n",
    "fitGstd = function(x,y,w,mu,sig,scale,off){\n",
    "    f = function(p){\n",
    "        d = p[4] + p[3]*dnorm(x,mean=p[1],sd=p[2])\n",
    "        sum((d-y)^2/(w^2))\n",
    "    }\n",
    "    optim(c(mu,sig,scale,off),f)\n",
    "}\n",
    "\n",
    "fitGfunk = function(x,y,wu,wd,mu,sig,scale,off){\n",
    "    f = function(p){\n",
    "        d = p[4] + p[3]*dnorm(x,mean=p[1],sd=p[2])\n",
    "        sum((d-y)^2/((2*wu)^2*Heaviside(d-y) + (2*wd)^2*Heaviside(y-d)))\n",
    "    }\n",
    "    optim(c(mu,sig,scale,off),f)\n",
    "}\n",
    "\n",
    "fitPstd  = fitGstd(Data$memory, Data$gini, Data$ginistd, 0.1,3.5,1.0,0.6)\n",
    "pstd  = fitPstd$par\n",
    "\n",
    "fitPboot = fitGboot(Data$memory, Data$gini, Data$giniup+Data$ginidown, pstd[1],pstd[2],pstd[3],pstd[4])\n",
    "pboot = fitPboot$par\n",
    "\n",
    "fitPfunk = fitGfunk(Data$memory, Data$gini, Data$giniup, Data$ginidown, 0.1,3.5,1.0,0.6)\n",
    "pfunk = fitPfunk$par\n",
    "\n",
    "DataChi <- data.frame(observed = Data$gini, \n",
    "                      expboot = normal(Data$memory, pboot[1], pboot[2], pboot[3], pboot[4]),\n",
    "                      expstd  = normal(Data$memory, pstd[1], pstd[2], pstd[3], pstd[4]),\n",
    "                      expfunk = normal(Data$memory, pfunk[1], pfunk[2], pfunk[3], pfunk[4]) )\n",
    "\n",
    "chi2boot = sum(( DataChi$observed - DataChi$expboot)^2/ DataChi$expboot)\n",
    "chi2std = sum(( DataChi$observed - DataChi$expstd)^2/ DataChi$expstd)\n",
    "chi2funk = sum(( DataChi$observed - DataChi$expfunk)^2/ DataChi$expfunk)\n",
    "\n",
    "data.frame(chi2=c(chi2boot, chi2std, chi2funk), pchi2=c(\n",
    "    pchisq(chi2boot, df=1 , lower.tail=FALSE),\n",
    "    pchisq(chi2std, df=1 , lower.tail=FALSE),\n",
    "    pchisq(chi2funk, df=1 , lower.tail=FALSE)\n",
    "))\n",
    "\n",
    "gausspar <- pfunk\n",
    "\n",
    "## https://stackoverflow.com/questions/15882323/r-robust-fitting-of-data-points-to-a-gaussian-function#15883835\n",
    "\n",
    "fitGboot = function(x,y,w,mu,sig,scale,off){\n",
    "    f = function(p){\n",
    "        quant <- 0.16\n",
    "        d = p[4] + p[3]*(1/(p[2] + exp(p[1]*x)))\n",
    "        sum( ( Heaviside(y, d)*quant + (1 - quant)*Heaviside(d, y) )* abs(y-d) )\n",
    "    }\n",
    "    optim(c(mu,sig,scale,off),f)\n",
    "}\n",
    "\n",
    "fitGstd = function(x,y,w,mu,sig,scale,off){\n",
    "    f = function(p){\n",
    "        d = p[4] + p[3]*(1/(p[2] + exp(p[1]*x)))\n",
    "        sum((d-y)^2/(w^2))\n",
    "    }\n",
    "    optim(c(mu,sig,scale,off),f)\n",
    "}\n",
    "\n",
    "fitGfunk = function(x,y,wu,wd,mu,sig,scale,off){\n",
    "    f = function(p){\n",
    "        d = p[4] + p[3]*(1/(p[2] + exp(p[1]*x)))\n",
    "        sum((d-y)^2/((2*wu)^2*Heaviside(d-y) + (2*wd)^2*Heaviside(y-d)))\n",
    "    }\n",
    "    optim(c(mu,sig,scale,off),f)\n",
    "}\n",
    "\n",
    "fitPstd  =  fitGstd(Data$memory, Data$gini, Data$ginistd, -0.1,3.5,1.0,0.6)\n",
    "pstd  = fitPstd$par\n",
    "\n",
    "fitPboot = fitGboot(Data$memory, Data$gini, Data$giniup+Data$ginidown, pstd[1],pstd[2],pstd[3],pstd[4])\n",
    "pboot = fitPboot$par\n",
    "\n",
    "fitPfunk = fitGfunk(Data$memory, Data$gini, Data$giniup, Data$ginidown, -0.1,3.5,1.0,0.6)\n",
    "pfunk = fitPfunk$par\n",
    "\n",
    "DataChi <- data.frame(observed = Data$gini, \n",
    "                      expboot = sigmoid(Data$memory, pboot[1], pboot[2], pboot[3], pboot[4]),\n",
    "                      expstd  = sigmoid(Data$memory, pstd[1], pstd[2], pstd[3], pstd[4]),\n",
    "                      expfunk = sigmoid(Data$memory, pfunk[1], pfunk[2], pfunk[3], pfunk[4]) )\n",
    "chi2boot = sum(( DataChi$observed - DataChi$expboot)^2/ DataChi$expboot)\n",
    "chi2std = sum(( DataChi$observed - DataChi$expstd)^2/ DataChi$expstd)\n",
    "chi2funk = sum(( DataChi$observed - DataChi$expfunk)^2/ DataChi$expfunk)\n",
    "\n",
    "data.frame(chi2=c(chi2boot, chi2std, chi2funk), pchi2=c(\n",
    "    pchisq(chi2boot, df=1 , lower.tail=FALSE),\n",
    "    pchisq(chi2std, df=1 , lower.tail=FALSE),\n",
    "    pchisq(chi2funk, df=1 , lower.tail=FALSE)\n",
    "))\n",
    "\n",
    "\n",
    "svg(filename=\"../../tex/Maggiora/img/appendix.svg\", width=5, height=4, pointsize=12)\n",
    "plot(Data$memory, Data$gini, \n",
    "     xlab=\"Memory Size\", ylab=\"Gini Index Mean Values\", \n",
    "     pch=20, xlim=range(rangex[1],rangex[2]),\n",
    "     ylim=range(c(Data$gini-Data$ginidown, Data$gini+Data$giniup)), \n",
    "     panel.first=grid())\n",
    "arrows(Data$memory, Data$gini-Data$ginistd, Data$memory, Data$gini + Data$ginistd, length=0.05, angle=45, code=3)\n",
    "arrows(Data$memory, Data$gini-Data$ginidown, Data$memory, Data$gini + Data$giniup, length=0.05, angle=90, code=3)\n",
    "par(new=TRUE)\n",
    "\n",
    "curve(sigmoid(x, pboot[1], pboot[2], pboot[3], pboot[4]), 0, 20 ,n=200, add=TRUE, lty=3)\n",
    "curve(sigmoid(x, pstd[1], pstd[2], pstd[3], pstd[4]), 0, 20 ,n=200, add=TRUE, lty=2)\n",
    "#curve(normal(x, gausspar[1], gausspar[2], gausspar[3], gausspar[4]), rangex[1], rangex[2] ,n=200, add=TRUE, col='black', lty=3)\n",
    "curve(sigmoid(x, pfunk[1], pfunk[2], pfunk[3], pfunk[4]), rangex[1], rangex[2] ,n=200, add=TRUE, col='black')\n",
    "\n",
    "#legend(\"topright\", pch = c(20, NA, NA), lty=c(NA,2, 1),\n",
    "#        col = c(\"black\", \"black\", \"black\"), \n",
    "#        legend = c(\"Gini Mean Values\", \"Gaussian Asym. Optim.\", \"Sigmoid Asym. Optim.\"))\n",
    "\n",
    "legend(\"topright\", pch = c(3, 4, NA, NA, NA), lty=c(NA, NA, 1, 2, 3),\n",
    "        col = c(\"black\", \"black\", \"black\", \"black\", \"black\"), \n",
    "        legend = c(\"Gini Mean Quantile Err.\", \"Gini Mean Std. Err.\", \"Sigmoid Asym. Optim.\", \"Sigmoid Std. Err.\", \"Sigmoid Quant.\"))\n",
    "\n",
    "\n",
    "dev.off()"
   ]
  },
  {
   "cell_type": "code",
   "execution_count": 14,
   "metadata": {},
   "outputs": [
    {
     "data": {
      "text/html": [
       "<ol class=list-inline>\n",
       "\t<li>1.7363124</li>\n",
       "\t<li>0.2349236</li>\n",
       "\t<li>1.7351102</li>\n",
       "\t<li>0.275186</li>\n",
       "\t<li>0.1283654</li>\n",
       "\t<li>0.150575</li>\n",
       "\t<li>1.7282478</li>\n",
       "\t<li>0.1328188</li>\n",
       "\t<li>0.1300592</li>\n",
       "\t<li>0.1004934</li>\n",
       "\t<li>0.0965196</li>\n",
       "\t<li>0.0531184</li>\n",
       "\t<li>0.1068086</li>\n",
       "\t<li>0.0614208</li>\n",
       "\t<li>0.2389708</li>\n",
       "\t<li>0.1224144</li>\n",
       "\t<li>1.1923732</li>\n",
       "\t<li>0.2497072</li>\n",
       "\t<li>0.1546176</li>\n",
       "\t<li>0.1055156</li>\n",
       "</ol>\n"
      ],
      "text/latex": [
       "\\begin{enumerate*}\n",
       "\\item 1.7363124\n",
       "\\item 0.2349236\n",
       "\\item 1.7351102\n",
       "\\item 0.275186\n",
       "\\item 0.1283654\n",
       "\\item 0.150575\n",
       "\\item 1.7282478\n",
       "\\item 0.1328188\n",
       "\\item 0.1300592\n",
       "\\item 0.1004934\n",
       "\\item 0.0965196\n",
       "\\item 0.0531184\n",
       "\\item 0.1068086\n",
       "\\item 0.0614208\n",
       "\\item 0.2389708\n",
       "\\item 0.1224144\n",
       "\\item 1.1923732\n",
       "\\item 0.2497072\n",
       "\\item 0.1546176\n",
       "\\item 0.1055156\n",
       "\\end{enumerate*}\n"
      ],
      "text/markdown": [
       "1. 1.7363124\n",
       "2. 0.2349236\n",
       "3. 1.7351102\n",
       "4. 0.275186\n",
       "5. 0.1283654\n",
       "6. 0.150575\n",
       "7. 1.7282478\n",
       "8. 0.1328188\n",
       "9. 0.1300592\n",
       "10. 0.1004934\n",
       "11. 0.0965196\n",
       "12. 0.0531184\n",
       "13. 0.1068086\n",
       "14. 0.0614208\n",
       "15. 0.2389708\n",
       "16. 0.1224144\n",
       "17. 1.1923732\n",
       "18. 0.2497072\n",
       "19. 0.1546176\n",
       "20. 0.1055156\n",
       "\n",
       "\n"
      ],
      "text/plain": [
       " [1] 1.7363124 0.2349236 1.7351102 0.2751860 0.1283654 0.1505750 1.7282478\n",
       " [8] 0.1328188 0.1300592 0.1004934 0.0965196 0.0531184 0.1068086 0.0614208\n",
       "[15] 0.2389708 0.1224144 1.1923732 0.2497072 0.1546176 0.1055156"
      ]
     },
     "metadata": {},
     "output_type": "display_data"
    },
    {
     "data": {
      "text/html": [
       "0.593666093475306"
      ],
      "text/latex": [
       "0.593666093475306"
      ],
      "text/markdown": [
       "0.593666093475306"
      ],
      "text/plain": [
       "[1] 0.5936661"
      ]
     },
     "metadata": {},
     "output_type": "display_data"
    }
   ],
   "source": [
    "library(reldist) # just for the gini() function\n",
    "library(boot) # for the boot() function\n",
    "x <- mean_news[141:160]\n",
    "mean_news[141:160]\n",
    "gini(x)\n",
    "\n",
    "#options(warn=-1)\n",
    "y   <- boot(data = x, statistic = gini, R = 10, parallel=\"multicore\", ncpus=7)\n",
    "yy  <- boot(data = x, statistic = gini, R = 1000, parallel=\"multicore\", ncpus=7)\n",
    "yyy <- boot(data = x, statistic = gini, R = 100000, parallel=\"multicore\", ncpus=7)\n",
    "yyyy<- boot(data = x, statistic = gini, R = 10000000, parallel=\"multicore\", ncpus=7)\n",
    "\n",
    "#options(warn=0)\n"
   ]
  },
  {
   "cell_type": "code",
   "execution_count": 35,
   "metadata": {},
   "outputs": [
    {
     "data": {
      "text/html": [
       "<dl class=dl-horizontal>\n",
       "\t<dt>2.5%</dt>\n",
       "\t\t<dd>0.481059808397761</dd>\n",
       "\t<dt>97.5%</dt>\n",
       "\t\t<dd>0.599663574217951</dd>\n",
       "</dl>\n"
      ],
      "text/latex": [
       "\\begin{description*}\n",
       "\\item[2.5\\textbackslash{}\\%] 0.481059808397761\n",
       "\\item[97.5\\textbackslash{}\\%] 0.599663574217951\n",
       "\\end{description*}\n"
      ],
      "text/markdown": [
       "2.5%\n",
       ":   0.48105980839776197.5%\n",
       ":   0.599663574217951\n",
       "\n"
      ],
      "text/plain": [
       "     2.5%     97.5% \n",
       "0.4810598 0.5996636 "
      ]
     },
     "metadata": {},
     "output_type": "display_data"
    },
    {
     "data": {
      "text/html": [
       "<dl class=dl-horizontal>\n",
       "\t<dt>2.5%</dt>\n",
       "\t\t<dd>0.543639296542819</dd>\n",
       "\t<dt>97.5%</dt>\n",
       "\t\t<dd>0.610450762547459</dd>\n",
       "</dl>\n"
      ],
      "text/latex": [
       "\\begin{description*}\n",
       "\\item[2.5\\textbackslash{}\\%] 0.543639296542819\n",
       "\\item[97.5\\textbackslash{}\\%] 0.610450762547459\n",
       "\\end{description*}\n"
      ],
      "text/markdown": [
       "2.5%\n",
       ":   0.54363929654281997.5%\n",
       ":   0.610450762547459\n",
       "\n"
      ],
      "text/plain": [
       "     2.5%     97.5% \n",
       "0.5436393 0.6104508 "
      ]
     },
     "metadata": {},
     "output_type": "display_data"
    },
    {
     "data": {
      "text/html": [
       "<dl class=dl-horizontal>\n",
       "\t<dt>2.5%</dt>\n",
       "\t\t<dd>0.541373970490418</dd>\n",
       "\t<dt>97.5%</dt>\n",
       "\t\t<dd>0.609999599315552</dd>\n",
       "</dl>\n"
      ],
      "text/latex": [
       "\\begin{description*}\n",
       "\\item[2.5\\textbackslash{}\\%] 0.541373970490418\n",
       "\\item[97.5\\textbackslash{}\\%] 0.609999599315552\n",
       "\\end{description*}\n"
      ],
      "text/markdown": [
       "2.5%\n",
       ":   0.54137397049041897.5%\n",
       ":   0.609999599315552\n",
       "\n"
      ],
      "text/plain": [
       "     2.5%     97.5% \n",
       "0.5413740 0.6099996 "
      ]
     },
     "metadata": {},
     "output_type": "display_data"
    },
    {
     "data": {
      "text/html": [
       "<dl class=dl-horizontal>\n",
       "\t<dt>2.5%</dt>\n",
       "\t\t<dd>0.541337410284036</dd>\n",
       "\t<dt>97.5%</dt>\n",
       "\t\t<dd>0.609917786958147</dd>\n",
       "</dl>\n"
      ],
      "text/latex": [
       "\\begin{description*}\n",
       "\\item[2.5\\textbackslash{}\\%] 0.541337410284036\n",
       "\\item[97.5\\textbackslash{}\\%] 0.609917786958147\n",
       "\\end{description*}\n"
      ],
      "text/markdown": [
       "2.5%\n",
       ":   0.54133741028403697.5%\n",
       ":   0.609917786958147\n",
       "\n"
      ],
      "text/plain": [
       "     2.5%     97.5% \n",
       "0.5413374 0.6099178 "
      ]
     },
     "metadata": {},
     "output_type": "display_data"
    },
    {
     "data": {
      "text/html": [
       "<strong>png:</strong> 2"
      ],
      "text/latex": [
       "\\textbf{png:} 2"
      ],
      "text/markdown": [
       "**png:** 2"
      ],
      "text/plain": [
       "png \n",
       "  2 "
      ]
     },
     "metadata": {},
     "output_type": "display_data"
    }
   ],
   "source": [
    "\n",
    "q <- quantile(y$t, probs=c(0.025, 0.975))\n",
    "qq <- quantile(yy$t, probs=c(0.025, 0.975))\n",
    "qqq <- quantile(yyy$t, probs=c(0.025, 0.975))\n",
    "qqqq <- quantile(yyyy$t, probs=c(0.025, 0.975))\n",
    "q\n",
    "qq\n",
    "qqq\n",
    "qqqq\n",
    "\n",
    "svg(filename=\"../../tex/Maggiora/img/bootstrap.svg\", width=5, height=4, pointsize=12)\n",
    "\n",
    "plot(density(y$t), panel.first=grid(), xlim=range(0.4, 0.65), ylim=range(0,30), xlab=\"Gini\", ylab=\"Density\", main=\"\", lty=4)\n",
    "par(new=TRUE)\n",
    "plot(density(yy$t), panel.first=grid(), xlim=range(0.4, 0.65), ylim=range(0,30), xlab=\"Gini\", ylab=\"Density\", main=\"\", lty=3)\n",
    "par(new=TRUE)\n",
    "plot(density(yyy$t), panel.first=grid(), xlim=range(0.4, 0.65), ylim=range(0,30), xlab=\"Gini\", ylab=\"Density\", main=\"\", lty=2)\n",
    "par(new=TRUE)\n",
    "plot(density(yyyy$t), panel.first=grid(), xlim=range(0.4, 0.65), ylim=range(0,30), xlab=\"Gini\", ylab=\"Density\", main=\"\", lty=1)\n",
    "par(new=TRUE)\n",
    "abline(v =gini(x), untf = FALSE, lty=5)\n",
    "\n",
    "legend(\"topleft\", pch = c(NA, NA, NA, NA, NA), lty=c(1, 2, 3, 4, 5),\n",
    "        col = c(\"black\", \"black\", \"black\", \"black\", \"black\"), \n",
    "        legend = c(expression(paste( \"Boot = \",10^7)),\n",
    "                   expression(paste( \"Boot = \",10^5)),\n",
    "                   expression(paste( \"Boot = \",10^3)),\n",
    "                   expression(paste( \"Boot = \",10)),\n",
    "                   \"Gini value\"))\n",
    "dev.off()"
   ]
  },
  {
   "cell_type": "code",
   "execution_count": 37,
   "metadata": {},
   "outputs": [
    {
     "data": {
      "text/html": [
       "<dl class=dl-horizontal>\n",
       "\t<dt>2.5%</dt>\n",
       "\t\t<dd>0.541567775978469</dd>\n",
       "\t<dt>97.5%</dt>\n",
       "\t\t<dd>0.635407525359393</dd>\n",
       "</dl>\n"
      ],
      "text/latex": [
       "\\begin{description*}\n",
       "\\item[2.5\\textbackslash{}\\%] 0.541567775978469\n",
       "\\item[97.5\\textbackslash{}\\%] 0.635407525359393\n",
       "\\end{description*}\n"
      ],
      "text/markdown": [
       "2.5%\n",
       ":   0.54156777597846997.5%\n",
       ":   0.635407525359393\n",
       "\n"
      ],
      "text/plain": [
       "     2.5%     97.5% \n",
       "0.5415678 0.6354075 "
      ]
     },
     "metadata": {},
     "output_type": "display_data"
    }
   ],
   "source": [
    "quantile(y$t, probs=c(0.025, 0.975))"
   ]
  },
  {
   "cell_type": "code",
   "execution_count": 32,
   "metadata": {},
   "outputs": [
    {
     "data": {
      "text/html": [
       "0.0436596245791547"
      ],
      "text/latex": [
       "0.0436596245791547"
      ],
      "text/markdown": [
       "0.0436596245791547"
      ],
      "text/plain": [
       "[1] 0.04365962"
      ]
     },
     "metadata": {},
     "output_type": "display_data"
    }
   ],
   "source": [
    "sd(y$t)"
   ]
  },
  {
   "cell_type": "code",
   "execution_count": 34,
   "metadata": {},
   "outputs": [
    {
     "data": {
      "text/plain": [
       "\n",
       "Call:\n",
       "\tdensity.default(x = y$t)\n",
       "\n",
       "Data: y$t (10 obs.);\tBandwidth 'bw' = 0.009779\n",
       "\n",
       "       x                y            \n",
       " Min.   :0.4484   Min.   : 0.009114  \n",
       " 1st Qu.:0.4939   1st Qu.: 0.432729  \n",
       " Median :0.5394   Median : 3.163258  \n",
       " Mean   :0.5394   Mean   : 5.487265  \n",
       " 3rd Qu.:0.5849   3rd Qu.: 7.574676  \n",
       " Max.   :0.6304   Max.   :21.970053  "
      ]
     },
     "metadata": {},
     "output_type": "display_data"
    }
   ],
   "source": [
    "y$t"
   ]
  },
  {
   "cell_type": "code",
   "execution_count": 39,
   "metadata": {},
   "outputs": [
    {
     "data": {
      "text/html": [
       "<ol class=list-inline>\n",
       "\t<li>1</li>\n",
       "\t<li>2</li>\n",
       "\t<li>1</li>\n",
       "</ol>\n"
      ],
      "text/latex": [
       "\\begin{enumerate*}\n",
       "\\item 1\n",
       "\\item 2\n",
       "\\item 1\n",
       "\\end{enumerate*}\n"
      ],
      "text/markdown": [
       "1. 1\n",
       "2. 2\n",
       "3. 1\n",
       "\n",
       "\n"
      ],
      "text/plain": [
       "[1] 1 2 1"
      ]
     },
     "metadata": {},
     "output_type": "display_data"
    },
    {
     "data": {
      "text/html": [
       "<ol class=list-inline>\n",
       "\t<li>1</li>\n",
       "\t<li>2</li>\n",
       "\t<li>1</li>\n",
       "</ol>\n"
      ],
      "text/latex": [
       "\\begin{enumerate*}\n",
       "\\item 1\n",
       "\\item 2\n",
       "\\item 1\n",
       "\\end{enumerate*}\n"
      ],
      "text/markdown": [
       "1. 1\n",
       "2. 2\n",
       "3. 1\n",
       "\n",
       "\n"
      ],
      "text/plain": [
       "[1] 1 2 1"
      ]
     },
     "metadata": {},
     "output_type": "display_data"
    },
    {
     "data": {
      "text/html": [
       "<ol class=list-inline>\n",
       "\t<li>'a'</li>\n",
       "\t<li>'1'</li>\n",
       "\t<li>'a'</li>\n",
       "</ol>\n"
      ],
      "text/latex": [
       "\\begin{enumerate*}\n",
       "\\item 'a'\n",
       "\\item '1'\n",
       "\\item 'a'\n",
       "\\end{enumerate*}\n"
      ],
      "text/markdown": [
       "1. 'a'\n",
       "2. '1'\n",
       "3. 'a'\n",
       "\n",
       "\n"
      ],
      "text/plain": [
       "[1] \"a\" \"1\" \"a\""
      ]
     },
     "metadata": {},
     "output_type": "display_data"
    }
   ],
   "source": [
    "a <- c(1, 2, 1)\n",
    "a\n",
    "x <- ifelse(a==1, 1, 2)\n",
    "x\n",
    "x <- ifelse(a==2, 1, 'a')\n",
    "x\n"
   ]
  },
  {
   "cell_type": "code",
   "execution_count": null,
   "metadata": {},
   "outputs": [],
   "source": []
  }
 ],
 "metadata": {
  "kernelspec": {
   "display_name": "R",
   "language": "R",
   "name": "ir"
  },
  "language_info": {
   "codemirror_mode": "r",
   "file_extension": ".r",
   "mimetype": "text/x-r-source",
   "name": "R",
   "pygments_lexer": "r",
   "version": "3.5.0"
  }
 },
 "nbformat": 4,
 "nbformat_minor": 2
}
