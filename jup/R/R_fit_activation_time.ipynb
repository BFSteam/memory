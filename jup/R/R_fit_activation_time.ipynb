{
 "cells": [
  {
   "cell_type": "code",
   "execution_count": 1,
   "metadata": {
    "collapsed": true
   },
   "outputs": [],
   "source": [
    "#fit tempo di attivazione al variare della memoria.\n",
    "#parametri da fissare:n utenti, frazione di attivazione (30%??)\n",
    "#acquisizione csv con i valori di attivazione e  memoria  (simulazioni a memoria fissa)\n",
    "#valore medio ed errore del tempo di attivazione per ogni memoria\n",
    "#fit con barre di errore "
   ]
  },
  {
   "cell_type": "code",
   "execution_count": null,
   "metadata": {
    "collapsed": true
   },
   "outputs": [],
   "source": []
  }
 ],
 "metadata": {
  "kernelspec": {
   "display_name": "R",
   "language": "R",
   "name": "ir"
  },
  "language_info": {
   "codemirror_mode": "r",
   "file_extension": ".r",
   "mimetype": "text/x-r-source",
   "name": "R",
   "pygments_lexer": "r",
   "version": "3.4.2"
  }
 },
 "nbformat": 4,
 "nbformat_minor": 2
}
