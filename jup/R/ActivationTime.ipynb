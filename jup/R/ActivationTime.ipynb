{
 "cells": [
  {
   "cell_type": "markdown",
   "metadata": {},
   "source": [
    "Questo link vale come oro per le `data.table`"
   ]
  },
  {
   "cell_type": "markdown",
   "metadata": {},
   "source": [
    "https://stackoverflow.com/questions/1727772/quickly-reading-very-large-tables-as-dataframes-in-r/15058684#15058684"
   ]
  },
  {
   "cell_type": "markdown",
   "metadata": {},
   "source": [
    "https://s3.amazonaws.com/assets.datacamp.com/blog_assets/datatable_Cheat_Sheet_R.pdf"
   ]
  },
  {
   "cell_type": "code",
   "execution_count": 8,
   "metadata": {},
   "outputs": [],
   "source": [
    "library(data.table)\n",
    "library(ggplot2)"
   ]
  },
  {
   "cell_type": "code",
   "execution_count": 9,
   "metadata": {
    "scrolled": true
   },
   "outputs": [
    {
     "data": {
      "text/html": [
       "<ol class=list-inline>\n",
       "\t<li>'activationLog2018_13_12_17_02_57.csv'</li>\n",
       "\t<li>'clustering2018_13_12_17_02_57.csv'</li>\n",
       "\t<li>'config2018_13_12_17_02_57.ini'</li>\n",
       "\t<li>'connectionLog2018_13_12_17_02_57.csv'</li>\n",
       "\t<li>'degree_distr2018_13_12_17_02_57.csv'</li>\n",
       "\t<li>'diameter2018_13_12_17_02_57.csv'</li>\n",
       "\t<li>'graph2018_13_12_17_02_57.gml'</li>\n",
       "\t<li>'kcore2018_13_12_17_02_57.csv'</li>\n",
       "\t<li>'memoryLog2018_13_12_17_02_57.csv'</li>\n",
       "\t<li>'messageLog2018_13_12_17_02_57.csv'</li>\n",
       "</ol>\n"
      ],
      "text/latex": [
       "\\begin{enumerate*}\n",
       "\\item 'activationLog2018\\_13\\_12\\_17\\_02\\_57.csv'\n",
       "\\item 'clustering2018\\_13\\_12\\_17\\_02\\_57.csv'\n",
       "\\item 'config2018\\_13\\_12\\_17\\_02\\_57.ini'\n",
       "\\item 'connectionLog2018\\_13\\_12\\_17\\_02\\_57.csv'\n",
       "\\item 'degree\\_distr2018\\_13\\_12\\_17\\_02\\_57.csv'\n",
       "\\item 'diameter2018\\_13\\_12\\_17\\_02\\_57.csv'\n",
       "\\item 'graph2018\\_13\\_12\\_17\\_02\\_57.gml'\n",
       "\\item 'kcore2018\\_13\\_12\\_17\\_02\\_57.csv'\n",
       "\\item 'memoryLog2018\\_13\\_12\\_17\\_02\\_57.csv'\n",
       "\\item 'messageLog2018\\_13\\_12\\_17\\_02\\_57.csv'\n",
       "\\end{enumerate*}\n"
      ],
      "text/markdown": [
       "1. 'activationLog2018_13_12_17_02_57.csv'\n",
       "2. 'clustering2018_13_12_17_02_57.csv'\n",
       "3. 'config2018_13_12_17_02_57.ini'\n",
       "4. 'connectionLog2018_13_12_17_02_57.csv'\n",
       "5. 'degree_distr2018_13_12_17_02_57.csv'\n",
       "6. 'diameter2018_13_12_17_02_57.csv'\n",
       "7. 'graph2018_13_12_17_02_57.gml'\n",
       "8. 'kcore2018_13_12_17_02_57.csv'\n",
       "9. 'memoryLog2018_13_12_17_02_57.csv'\n",
       "10. 'messageLog2018_13_12_17_02_57.csv'\n",
       "\n",
       "\n"
      ],
      "text/plain": [
       " [1] \"activationLog2018_13_12_17_02_57.csv\"\n",
       " [2] \"clustering2018_13_12_17_02_57.csv\"   \n",
       " [3] \"config2018_13_12_17_02_57.ini\"       \n",
       " [4] \"connectionLog2018_13_12_17_02_57.csv\"\n",
       " [5] \"degree_distr2018_13_12_17_02_57.csv\" \n",
       " [6] \"diameter2018_13_12_17_02_57.csv\"     \n",
       " [7] \"graph2018_13_12_17_02_57.gml\"        \n",
       " [8] \"kcore2018_13_12_17_02_57.csv\"        \n",
       " [9] \"memoryLog2018_13_12_17_02_57.csv\"    \n",
       "[10] \"messageLog2018_13_12_17_02_57.csv\"   "
      ]
     },
     "metadata": {},
     "output_type": "display_data"
    }
   ],
   "source": [
    "list.files(path=\"../../log/2018_13_12_17_02_57\")"
   ]
  },
  {
   "cell_type": "code",
   "execution_count": 26,
   "metadata": {},
   "outputs": [
    {
     "data": {
      "text/html": [
       "1"
      ],
      "text/latex": [
       "1"
      ],
      "text/markdown": [
       "1"
      ],
      "text/plain": [
       "[1] 1"
      ]
     },
     "metadata": {},
     "output_type": "display_data"
    }
   ],
   "source": [
    "which(list.files(path=\"../../log/2018_13_12_17_02_57\") == \"activationLog2018_13_12_17_02_57.csv\") ## check if file exist"
   ]
  },
  {
   "cell_type": "code",
   "execution_count": 29,
   "metadata": {
    "scrolled": true
   },
   "outputs": [
    {
     "data": {
      "text/plain": [
       "             user            system           elapsed \n",
       "0.001000000000000 0.000000000000000 0.000999999999976 "
      ]
     },
     "metadata": {},
     "output_type": "display_data"
    }
   ],
   "source": [
    "system.time(DT <- fread(\"../../log/2018_13_12_17_02_57/activationLog2018_13_12_17_02_57.csv\", skip=12, sep=\",\"))"
   ]
  },
  {
   "cell_type": "code",
   "execution_count": 30,
   "metadata": {},
   "outputs": [
    {
     "data": {
      "text/html": [
       "<ol class=list-inline>\n",
       "\t<li>'agent'</li>\n",
       "\t<li>'time'</li>\n",
       "\t<li>'type'</li>\n",
       "\t<li>'dtime'</li>\n",
       "</ol>\n"
      ],
      "text/latex": [
       "\\begin{enumerate*}\n",
       "\\item 'agent'\n",
       "\\item 'time'\n",
       "\\item 'type'\n",
       "\\item 'dtime'\n",
       "\\end{enumerate*}\n"
      ],
      "text/markdown": [
       "1. 'agent'\n",
       "2. 'time'\n",
       "3. 'type'\n",
       "4. 'dtime'\n",
       "\n",
       "\n"
      ],
      "text/plain": [
       "[1] \"agent\" \"time\"  \"type\"  \"dtime\""
      ]
     },
     "metadata": {},
     "output_type": "display_data"
    }
   ],
   "source": [
    "names(DT) ## come csv normale"
   ]
  },
  {
   "cell_type": "markdown",
   "metadata": {},
   "source": [
    "Reads all column having time == 1"
   ]
  },
  {
   "cell_type": "code",
   "execution_count": 32,
   "metadata": {
    "scrolled": true
   },
   "outputs": [
    {
     "data": {
      "text/html": [
       "<table>\n",
       "<thead><tr><th scope=col>agent</th><th scope=col>time</th><th scope=col>type</th><th scope=col>dtime</th></tr></thead>\n",
       "<tbody>\n",
       "\t<tr><td>41</td><td>4 </td><td>d </td><td>2 </td></tr>\n",
       "\t<tr><td>39</td><td>4 </td><td>u </td><td>1 </td></tr>\n",
       "\t<tr><td>40</td><td>4 </td><td>u </td><td>1 </td></tr>\n",
       "\t<tr><td>10</td><td>4 </td><td>u </td><td>1 </td></tr>\n",
       "\t<tr><td>63</td><td>4 </td><td>u </td><td>1 </td></tr>\n",
       "\t<tr><td>21</td><td>4 </td><td>u </td><td>1 </td></tr>\n",
       "\t<tr><td>18</td><td>4 </td><td>u </td><td>1 </td></tr>\n",
       "\t<tr><td>72</td><td>4 </td><td>d </td><td>2 </td></tr>\n",
       "\t<tr><td>71</td><td>4 </td><td>d </td><td>2 </td></tr>\n",
       "\t<tr><td>47</td><td>4 </td><td>u </td><td>1 </td></tr>\n",
       "\t<tr><td>30</td><td>4 </td><td>u </td><td>1 </td></tr>\n",
       "\t<tr><td>28</td><td>4 </td><td>u </td><td>1 </td></tr>\n",
       "\t<tr><td>66</td><td>4 </td><td>u </td><td>1 </td></tr>\n",
       "\t<tr><td> 2</td><td>4 </td><td>u </td><td>1 </td></tr>\n",
       "\t<tr><td>55</td><td>4 </td><td>u </td><td>1 </td></tr>\n",
       "\t<tr><td>13</td><td>4 </td><td>d </td><td>2 </td></tr>\n",
       "\t<tr><td>75</td><td>4 </td><td>d </td><td>2 </td></tr>\n",
       "\t<tr><td>73</td><td>4 </td><td>d </td><td>2 </td></tr>\n",
       "\t<tr><td> 8</td><td>4 </td><td>d </td><td>1 </td></tr>\n",
       "\t<tr><td>67</td><td>4 </td><td>d </td><td>0 </td></tr>\n",
       "\t<tr><td>69</td><td>4 </td><td>u </td><td>1 </td></tr>\n",
       "\t<tr><td>42</td><td>4 </td><td>u </td><td>2 </td></tr>\n",
       "\t<tr><td> 9</td><td>4 </td><td>d </td><td>2 </td></tr>\n",
       "\t<tr><td>76</td><td>4 </td><td>u </td><td>2 </td></tr>\n",
       "\t<tr><td>61</td><td>4 </td><td>u </td><td>1 </td></tr>\n",
       "\t<tr><td>35</td><td>4 </td><td>u </td><td>1 </td></tr>\n",
       "\t<tr><td>48</td><td>4 </td><td>u </td><td>2 </td></tr>\n",
       "\t<tr><td>32</td><td>4 </td><td>d </td><td>2 </td></tr>\n",
       "\t<tr><td>50</td><td>4 </td><td>u </td><td>2 </td></tr>\n",
       "\t<tr><td> 1</td><td>4 </td><td>u </td><td>2 </td></tr>\n",
       "\t<tr><td>49</td><td>4 </td><td>d </td><td>2 </td></tr>\n",
       "\t<tr><td>16</td><td>4 </td><td>u </td><td>2 </td></tr>\n",
       "\t<tr><td>19</td><td>4 </td><td>u </td><td>1 </td></tr>\n",
       "\t<tr><td>27</td><td>4 </td><td>u </td><td>2 </td></tr>\n",
       "\t<tr><td>38</td><td>4 </td><td>d </td><td>3 </td></tr>\n",
       "</tbody>\n",
       "</table>\n"
      ],
      "text/latex": [
       "\\begin{tabular}{r|llll}\n",
       " agent & time & type & dtime\\\\\n",
       "\\hline\n",
       "\t 41 & 4  & d  & 2 \\\\\n",
       "\t 39 & 4  & u  & 1 \\\\\n",
       "\t 40 & 4  & u  & 1 \\\\\n",
       "\t 10 & 4  & u  & 1 \\\\\n",
       "\t 63 & 4  & u  & 1 \\\\\n",
       "\t 21 & 4  & u  & 1 \\\\\n",
       "\t 18 & 4  & u  & 1 \\\\\n",
       "\t 72 & 4  & d  & 2 \\\\\n",
       "\t 71 & 4  & d  & 2 \\\\\n",
       "\t 47 & 4  & u  & 1 \\\\\n",
       "\t 30 & 4  & u  & 1 \\\\\n",
       "\t 28 & 4  & u  & 1 \\\\\n",
       "\t 66 & 4  & u  & 1 \\\\\n",
       "\t  2 & 4  & u  & 1 \\\\\n",
       "\t 55 & 4  & u  & 1 \\\\\n",
       "\t 13 & 4  & d  & 2 \\\\\n",
       "\t 75 & 4  & d  & 2 \\\\\n",
       "\t 73 & 4  & d  & 2 \\\\\n",
       "\t  8 & 4  & d  & 1 \\\\\n",
       "\t 67 & 4  & d  & 0 \\\\\n",
       "\t 69 & 4  & u  & 1 \\\\\n",
       "\t 42 & 4  & u  & 2 \\\\\n",
       "\t  9 & 4  & d  & 2 \\\\\n",
       "\t 76 & 4  & u  & 2 \\\\\n",
       "\t 61 & 4  & u  & 1 \\\\\n",
       "\t 35 & 4  & u  & 1 \\\\\n",
       "\t 48 & 4  & u  & 2 \\\\\n",
       "\t 32 & 4  & d  & 2 \\\\\n",
       "\t 50 & 4  & u  & 2 \\\\\n",
       "\t  1 & 4  & u  & 2 \\\\\n",
       "\t 49 & 4  & d  & 2 \\\\\n",
       "\t 16 & 4  & u  & 2 \\\\\n",
       "\t 19 & 4  & u  & 1 \\\\\n",
       "\t 27 & 4  & u  & 2 \\\\\n",
       "\t 38 & 4  & d  & 3 \\\\\n",
       "\\end{tabular}\n"
      ],
      "text/markdown": [
       "\n",
       "agent | time | type | dtime | \n",
       "|---|---|---|---|---|---|---|---|---|---|---|---|---|---|---|---|---|---|---|---|---|---|---|---|---|---|---|---|---|---|---|---|---|---|---|\n",
       "| 41 | 4  | d  | 2  | \n",
       "| 39 | 4  | u  | 1  | \n",
       "| 40 | 4  | u  | 1  | \n",
       "| 10 | 4  | u  | 1  | \n",
       "| 63 | 4  | u  | 1  | \n",
       "| 21 | 4  | u  | 1  | \n",
       "| 18 | 4  | u  | 1  | \n",
       "| 72 | 4  | d  | 2  | \n",
       "| 71 | 4  | d  | 2  | \n",
       "| 47 | 4  | u  | 1  | \n",
       "| 30 | 4  | u  | 1  | \n",
       "| 28 | 4  | u  | 1  | \n",
       "| 66 | 4  | u  | 1  | \n",
       "|  2 | 4  | u  | 1  | \n",
       "| 55 | 4  | u  | 1  | \n",
       "| 13 | 4  | d  | 2  | \n",
       "| 75 | 4  | d  | 2  | \n",
       "| 73 | 4  | d  | 2  | \n",
       "|  8 | 4  | d  | 1  | \n",
       "| 67 | 4  | d  | 0  | \n",
       "| 69 | 4  | u  | 1  | \n",
       "| 42 | 4  | u  | 2  | \n",
       "|  9 | 4  | d  | 2  | \n",
       "| 76 | 4  | u  | 2  | \n",
       "| 61 | 4  | u  | 1  | \n",
       "| 35 | 4  | u  | 1  | \n",
       "| 48 | 4  | u  | 2  | \n",
       "| 32 | 4  | d  | 2  | \n",
       "| 50 | 4  | u  | 2  | \n",
       "|  1 | 4  | u  | 2  | \n",
       "| 49 | 4  | d  | 2  | \n",
       "| 16 | 4  | u  | 2  | \n",
       "| 19 | 4  | u  | 1  | \n",
       "| 27 | 4  | u  | 2  | \n",
       "| 38 | 4  | d  | 3  | \n",
       "\n",
       "\n"
      ],
      "text/plain": [
       "   agent time type dtime\n",
       "1  41    4    d    2    \n",
       "2  39    4    u    1    \n",
       "3  40    4    u    1    \n",
       "4  10    4    u    1    \n",
       "5  63    4    u    1    \n",
       "6  21    4    u    1    \n",
       "7  18    4    u    1    \n",
       "8  72    4    d    2    \n",
       "9  71    4    d    2    \n",
       "10 47    4    u    1    \n",
       "11 30    4    u    1    \n",
       "12 28    4    u    1    \n",
       "13 66    4    u    1    \n",
       "14  2    4    u    1    \n",
       "15 55    4    u    1    \n",
       "16 13    4    d    2    \n",
       "17 75    4    d    2    \n",
       "18 73    4    d    2    \n",
       "19  8    4    d    1    \n",
       "20 67    4    d    0    \n",
       "21 69    4    u    1    \n",
       "22 42    4    u    2    \n",
       "23  9    4    d    2    \n",
       "24 76    4    u    2    \n",
       "25 61    4    u    1    \n",
       "26 35    4    u    1    \n",
       "27 48    4    u    2    \n",
       "28 32    4    d    2    \n",
       "29 50    4    u    2    \n",
       "30  1    4    u    2    \n",
       "31 49    4    d    2    \n",
       "32 16    4    u    2    \n",
       "33 19    4    u    1    \n",
       "34 27    4    u    2    \n",
       "35 38    4    d    3    "
      ]
     },
     "metadata": {},
     "output_type": "display_data"
    }
   ],
   "source": [
    "subset(DT, time == 4) ## come csv normale legge tutte le colonne aventi time == 1"
   ]
  },
  {
   "cell_type": "markdown",
   "metadata": {},
   "source": [
    "find alla the news in database, remove duplicates and '0'"
   ]
  },
  {
   "cell_type": "code",
   "execution_count": 14,
   "metadata": {},
   "outputs": [
    {
     "data": {
      "text/html": [
       "'7iGFQkdw1LnO9teq'"
      ],
      "text/latex": [
       "'7iGFQkdw1LnO9teq'"
      ],
      "text/markdown": [
       "'7iGFQkdw1LnO9teq'"
      ],
      "text/plain": [
       "[1] \"7iGFQkdw1LnO9teq\""
      ]
     },
     "metadata": {},
     "output_type": "display_data"
    }
   ],
   "source": [
    "newsvec <- DT[,'news0']\n",
    "newsvec <- as.vector(t(newsvec))\n",
    "newsvec <- unique(newsvec)\n",
    "newsvec <- newsvec[!newsvec=='0']\n",
    "newsvec"
   ]
  },
  {
   "cell_type": "code",
   "execution_count": 15,
   "metadata": {},
   "outputs": [
    {
     "data": {
      "text/html": [
       "'7iGFQkdw1LnO9teq'"
      ],
      "text/latex": [
       "'7iGFQkdw1LnO9teq'"
      ],
      "text/markdown": [
       "'7iGFQkdw1LnO9teq'"
      ],
      "text/plain": [
       "[1] \"7iGFQkdw1LnO9teq\""
      ]
     },
     "metadata": {},
     "output_type": "display_data"
    }
   ],
   "source": [
    "newsvec[1]"
   ]
  },
  {
   "cell_type": "code",
   "execution_count": 16,
   "metadata": {
    "scrolled": true
   },
   "outputs": [
    {
     "data": {
      "text/html": [
       "<table>\n",
       "<thead><tr><th scope=col>agent</th><th scope=col>time</th><th scope=col>state</th><th scope=col>spreadstate</th><th scope=col>news0</th><th scope=col>news1</th><th scope=col>news2</th><th scope=col>news3</th><th scope=col>news4</th><th scope=col>news5</th><th scope=col>news6</th><th scope=col>news7</th><th scope=col>news8</th><th scope=col>news9</th><th scope=col>news10</th><th scope=col>news11</th></tr></thead>\n",
       "<tbody>\n",
       "\t<tr><td>47</td><td>1 </td><td>u </td><td>i </td><td>0 </td><td>0 </td><td>0 </td><td>0 </td><td>0 </td><td>0 </td><td>0 </td><td>0 </td><td>0 </td><td>0 </td><td>0 </td><td>0 </td></tr>\n",
       "\t<tr><td> 1</td><td>1 </td><td>u </td><td>i </td><td>0 </td><td>0 </td><td>0 </td><td>0 </td><td>0 </td><td>0 </td><td>0 </td><td>0 </td><td>0 </td><td>0 </td><td>0 </td><td>0 </td></tr>\n",
       "\t<tr><td> 2</td><td>1 </td><td>d </td><td>i </td><td>0 </td><td>0 </td><td>0 </td><td>0 </td><td>0 </td><td>0 </td><td>0 </td><td>0 </td><td>0 </td><td>0 </td><td>0 </td><td>0 </td></tr>\n",
       "\t<tr><td> 3</td><td>1 </td><td>u </td><td>i </td><td>0 </td><td>0 </td><td>0 </td><td>0 </td><td>0 </td><td>0 </td><td>0 </td><td>0 </td><td>0 </td><td>0 </td><td>0 </td><td>0 </td></tr>\n",
       "\t<tr><td> 4</td><td>1 </td><td>u </td><td>i </td><td>0 </td><td>0 </td><td>0 </td><td>0 </td><td>0 </td><td>0 </td><td>0 </td><td>0 </td><td>0 </td><td>0 </td><td>0 </td><td>0 </td></tr>\n",
       "\t<tr><td> 5</td><td>1 </td><td>d </td><td>i </td><td>0 </td><td>0 </td><td>0 </td><td>0 </td><td>0 </td><td>0 </td><td>0 </td><td>0 </td><td>0 </td><td>0 </td><td>0 </td><td>0 </td></tr>\n",
       "\t<tr><td> 6</td><td>1 </td><td>u </td><td>i </td><td>0 </td><td>0 </td><td>0 </td><td>0 </td><td>0 </td><td>0 </td><td>0 </td><td>0 </td><td>0 </td><td>0 </td><td>0 </td><td>0 </td></tr>\n",
       "\t<tr><td> 7</td><td>1 </td><td>u </td><td>i </td><td>0 </td><td>0 </td><td>0 </td><td>0 </td><td>0 </td><td>0 </td><td>0 </td><td>0 </td><td>0 </td><td>0 </td><td>0 </td><td>0 </td></tr>\n",
       "\t<tr><td> 8</td><td>1 </td><td>u </td><td>i </td><td>0 </td><td>0 </td><td>0 </td><td>0 </td><td>0 </td><td>0 </td><td>0 </td><td>0 </td><td>0 </td><td>0 </td><td>0 </td><td>0 </td></tr>\n",
       "\t<tr><td> 9</td><td>1 </td><td>u </td><td>i </td><td>0 </td><td>0 </td><td>0 </td><td>0 </td><td>0 </td><td>0 </td><td>0 </td><td>0 </td><td>0 </td><td>0 </td><td>0 </td><td>0 </td></tr>\n",
       "\t<tr><td>10</td><td>1 </td><td>u </td><td>i </td><td>0 </td><td>0 </td><td>0 </td><td>0 </td><td>0 </td><td>0 </td><td>0 </td><td>0 </td><td>0 </td><td>0 </td><td>0 </td><td>0 </td></tr>\n",
       "\t<tr><td>11</td><td>1 </td><td>d </td><td>i </td><td>0 </td><td>0 </td><td>0 </td><td>0 </td><td>0 </td><td>0 </td><td>0 </td><td>0 </td><td>0 </td><td>0 </td><td>0 </td><td>0 </td></tr>\n",
       "\t<tr><td>12</td><td>1 </td><td>d </td><td>i </td><td>0 </td><td>0 </td><td>0 </td><td>0 </td><td>0 </td><td>0 </td><td>0 </td><td>0 </td><td>0 </td><td>0 </td><td>0 </td><td>0 </td></tr>\n",
       "\t<tr><td>13</td><td>1 </td><td>u </td><td>i </td><td>0 </td><td>0 </td><td>0 </td><td>0 </td><td>0 </td><td>0 </td><td>0 </td><td>0 </td><td>0 </td><td>0 </td><td>0 </td><td>0 </td></tr>\n",
       "\t<tr><td>14</td><td>1 </td><td>d </td><td>i </td><td>0 </td><td>0 </td><td>0 </td><td>0 </td><td>0 </td><td>0 </td><td>0 </td><td>0 </td><td>0 </td><td>0 </td><td>0 </td><td>0 </td></tr>\n",
       "\t<tr><td>15</td><td>1 </td><td>u </td><td>i </td><td>0 </td><td>0 </td><td>0 </td><td>0 </td><td>0 </td><td>0 </td><td>0 </td><td>0 </td><td>0 </td><td>0 </td><td>0 </td><td>0 </td></tr>\n",
       "\t<tr><td>16</td><td>1 </td><td>u </td><td>i </td><td>0 </td><td>0 </td><td>0 </td><td>0 </td><td>0 </td><td>0 </td><td>0 </td><td>0 </td><td>0 </td><td>0 </td><td>0 </td><td>0 </td></tr>\n",
       "\t<tr><td>17</td><td>1 </td><td>u </td><td>i </td><td>0 </td><td>0 </td><td>0 </td><td>0 </td><td>0 </td><td>0 </td><td>0 </td><td>0 </td><td>0 </td><td>0 </td><td>0 </td><td>0 </td></tr>\n",
       "\t<tr><td>18</td><td>1 </td><td>u </td><td>i </td><td>0 </td><td>0 </td><td>0 </td><td>0 </td><td>0 </td><td>0 </td><td>0 </td><td>0 </td><td>0 </td><td>0 </td><td>0 </td><td>0 </td></tr>\n",
       "\t<tr><td>19</td><td>1 </td><td>u </td><td>i </td><td>0 </td><td>0 </td><td>0 </td><td>0 </td><td>0 </td><td>0 </td><td>0 </td><td>0 </td><td>0 </td><td>0 </td><td>0 </td><td>0 </td></tr>\n",
       "\t<tr><td>20</td><td>1 </td><td>u </td><td>i </td><td>0 </td><td>0 </td><td>0 </td><td>0 </td><td>0 </td><td>0 </td><td>0 </td><td>0 </td><td>0 </td><td>0 </td><td>0 </td><td>0 </td></tr>\n",
       "\t<tr><td>21</td><td>1 </td><td>u </td><td>i </td><td>0 </td><td>0 </td><td>0 </td><td>0 </td><td>0 </td><td>0 </td><td>0 </td><td>0 </td><td>0 </td><td>0 </td><td>0 </td><td>0 </td></tr>\n",
       "\t<tr><td>22</td><td>1 </td><td>u </td><td>i </td><td>0 </td><td>0 </td><td>0 </td><td>0 </td><td>0 </td><td>0 </td><td>0 </td><td>0 </td><td>0 </td><td>0 </td><td>0 </td><td>0 </td></tr>\n",
       "\t<tr><td>23</td><td>1 </td><td>u </td><td>i </td><td>0 </td><td>0 </td><td>0 </td><td>0 </td><td>0 </td><td>0 </td><td>0 </td><td>0 </td><td>0 </td><td>0 </td><td>0 </td><td>0 </td></tr>\n",
       "\t<tr><td>24</td><td>1 </td><td>d </td><td>i </td><td>0 </td><td>0 </td><td>0 </td><td>0 </td><td>0 </td><td>0 </td><td>0 </td><td>0 </td><td>0 </td><td>0 </td><td>0 </td><td>0 </td></tr>\n",
       "\t<tr><td>25</td><td>1 </td><td>u </td><td>i </td><td>0 </td><td>0 </td><td>0 </td><td>0 </td><td>0 </td><td>0 </td><td>0 </td><td>0 </td><td>0 </td><td>0 </td><td>0 </td><td>0 </td></tr>\n",
       "\t<tr><td>26</td><td>1 </td><td>u </td><td>i </td><td>0 </td><td>0 </td><td>0 </td><td>0 </td><td>0 </td><td>0 </td><td>0 </td><td>0 </td><td>0 </td><td>0 </td><td>0 </td><td>0 </td></tr>\n",
       "\t<tr><td>27</td><td>1 </td><td>u </td><td>i </td><td>0 </td><td>0 </td><td>0 </td><td>0 </td><td>0 </td><td>0 </td><td>0 </td><td>0 </td><td>0 </td><td>0 </td><td>0 </td><td>0 </td></tr>\n",
       "\t<tr><td>28</td><td>1 </td><td>u </td><td>i </td><td>0 </td><td>0 </td><td>0 </td><td>0 </td><td>0 </td><td>0 </td><td>0 </td><td>0 </td><td>0 </td><td>0 </td><td>0 </td><td>0 </td></tr>\n",
       "\t<tr><td>29</td><td>1 </td><td>d </td><td>i </td><td>0 </td><td>0 </td><td>0 </td><td>0 </td><td>0 </td><td>0 </td><td>0 </td><td>0 </td><td>0 </td><td>0 </td><td>0 </td><td>0 </td></tr>\n",
       "\t<tr><td>⋮</td><td>⋮</td><td>⋮</td><td>⋮</td><td>⋮</td><td>⋮</td><td>⋮</td><td>⋮</td><td>⋮</td><td>⋮</td><td>⋮</td><td>⋮</td><td>⋮</td><td>⋮</td><td>⋮</td><td>⋮</td></tr>\n",
       "\t<tr><td> 0              </td><td>100             </td><td>x               </td><td>s               </td><td>7iGFQkdw1LnO9teq</td><td>0               </td><td>0               </td><td>0               </td><td>0               </td><td>0               </td><td>0               </td><td>0               </td><td>0               </td><td>0               </td><td>0               </td><td>0               </td></tr>\n",
       "\t<tr><td>48              </td><td>100             </td><td>d               </td><td>i               </td><td>7iGFQkdw1LnO9teq</td><td>0               </td><td>0               </td><td>0               </td><td>0               </td><td>0               </td><td>0               </td><td>0               </td><td>0               </td><td>0               </td><td>0               </td><td>0               </td></tr>\n",
       "\t<tr><td>49              </td><td>100             </td><td>d               </td><td>i               </td><td>7iGFQkdw1LnO9teq</td><td>0               </td><td>0               </td><td>0               </td><td>0               </td><td>0               </td><td>0               </td><td>0               </td><td>0               </td><td>0               </td><td>0               </td><td>0               </td></tr>\n",
       "\t<tr><td>50              </td><td>100             </td><td>d               </td><td>i               </td><td>7iGFQkdw1LnO9teq</td><td>0               </td><td>0               </td><td>0               </td><td>0               </td><td>0               </td><td>0               </td><td>0               </td><td>0               </td><td>0               </td><td>0               </td><td>0               </td></tr>\n",
       "\t<tr><td>51              </td><td>100             </td><td>d               </td><td>i               </td><td>7iGFQkdw1LnO9teq</td><td>0               </td><td>0               </td><td>0               </td><td>0               </td><td>0               </td><td>0               </td><td>0               </td><td>0               </td><td>0               </td><td>0               </td><td>0               </td></tr>\n",
       "\t<tr><td>52              </td><td>100             </td><td>d               </td><td>i               </td><td>7iGFQkdw1LnO9teq</td><td>0               </td><td>0               </td><td>0               </td><td>0               </td><td>0               </td><td>0               </td><td>0               </td><td>0               </td><td>0               </td><td>0               </td><td>0               </td></tr>\n",
       "\t<tr><td>53              </td><td>100             </td><td>d               </td><td>i               </td><td>7iGFQkdw1LnO9teq</td><td>0               </td><td>0               </td><td>0               </td><td>0               </td><td>0               </td><td>0               </td><td>0               </td><td>0               </td><td>0               </td><td>0               </td><td>0               </td></tr>\n",
       "\t<tr><td>54              </td><td>100             </td><td>d               </td><td>i               </td><td>7iGFQkdw1LnO9teq</td><td>0               </td><td>0               </td><td>0               </td><td>0               </td><td>0               </td><td>0               </td><td>0               </td><td>0               </td><td>0               </td><td>0               </td><td>0               </td></tr>\n",
       "\t<tr><td>55              </td><td>100             </td><td>d               </td><td>i               </td><td>7iGFQkdw1LnO9teq</td><td>0               </td><td>0               </td><td>0               </td><td>0               </td><td>0               </td><td>0               </td><td>0               </td><td>0               </td><td>0               </td><td>0               </td><td>0               </td></tr>\n",
       "\t<tr><td>56              </td><td>100             </td><td>d               </td><td>i               </td><td>7iGFQkdw1LnO9teq</td><td>0               </td><td>0               </td><td>0               </td><td>0               </td><td>0               </td><td>0               </td><td>0               </td><td>0               </td><td>0               </td><td>0               </td><td>0               </td></tr>\n",
       "\t<tr><td>57              </td><td>100             </td><td>d               </td><td>i               </td><td>7iGFQkdw1LnO9teq</td><td>0               </td><td>0               </td><td>0               </td><td>0               </td><td>0               </td><td>0               </td><td>0               </td><td>0               </td><td>0               </td><td>0               </td><td>0               </td></tr>\n",
       "\t<tr><td>58              </td><td>100             </td><td>d               </td><td>i               </td><td>7iGFQkdw1LnO9teq</td><td>0               </td><td>0               </td><td>0               </td><td>0               </td><td>0               </td><td>0               </td><td>0               </td><td>0               </td><td>0               </td><td>0               </td><td>0               </td></tr>\n",
       "\t<tr><td>59              </td><td>100             </td><td>d               </td><td>i               </td><td>7iGFQkdw1LnO9teq</td><td>0               </td><td>0               </td><td>0               </td><td>0               </td><td>0               </td><td>0               </td><td>0               </td><td>0               </td><td>0               </td><td>0               </td><td>0               </td></tr>\n",
       "\t<tr><td>60              </td><td>100             </td><td>d               </td><td>i               </td><td>7iGFQkdw1LnO9teq</td><td>0               </td><td>0               </td><td>0               </td><td>0               </td><td>0               </td><td>0               </td><td>0               </td><td>0               </td><td>0               </td><td>0               </td><td>0               </td></tr>\n",
       "\t<tr><td>61              </td><td>100             </td><td>d               </td><td>i               </td><td>7iGFQkdw1LnO9teq</td><td>0               </td><td>0               </td><td>0               </td><td>0               </td><td>0               </td><td>0               </td><td>0               </td><td>0               </td><td>0               </td><td>0               </td><td>0               </td></tr>\n",
       "\t<tr><td>62              </td><td>100             </td><td>d               </td><td>i               </td><td>7iGFQkdw1LnO9teq</td><td>0               </td><td>0               </td><td>0               </td><td>0               </td><td>0               </td><td>0               </td><td>0               </td><td>0               </td><td>0               </td><td>0               </td><td>0               </td></tr>\n",
       "\t<tr><td>63              </td><td>100             </td><td>d               </td><td>i               </td><td>7iGFQkdw1LnO9teq</td><td>0               </td><td>0               </td><td>0               </td><td>0               </td><td>0               </td><td>0               </td><td>0               </td><td>0               </td><td>0               </td><td>0               </td><td>0               </td></tr>\n",
       "\t<tr><td>64              </td><td>100             </td><td>d               </td><td>i               </td><td>7iGFQkdw1LnO9teq</td><td>0               </td><td>0               </td><td>0               </td><td>0               </td><td>0               </td><td>0               </td><td>0               </td><td>0               </td><td>0               </td><td>0               </td><td>0               </td></tr>\n",
       "\t<tr><td>65              </td><td>100             </td><td>d               </td><td>i               </td><td>7iGFQkdw1LnO9teq</td><td>0               </td><td>0               </td><td>0               </td><td>0               </td><td>0               </td><td>0               </td><td>0               </td><td>0               </td><td>0               </td><td>0               </td><td>0               </td></tr>\n",
       "\t<tr><td>66              </td><td>100             </td><td>d               </td><td>i               </td><td>7iGFQkdw1LnO9teq</td><td>0               </td><td>0               </td><td>0               </td><td>0               </td><td>0               </td><td>0               </td><td>0               </td><td>0               </td><td>0               </td><td>0               </td><td>0               </td></tr>\n",
       "\t<tr><td>67              </td><td>100             </td><td>d               </td><td>i               </td><td>7iGFQkdw1LnO9teq</td><td>0               </td><td>0               </td><td>0               </td><td>0               </td><td>0               </td><td>0               </td><td>0               </td><td>0               </td><td>0               </td><td>0               </td><td>0               </td></tr>\n",
       "\t<tr><td>68              </td><td>100             </td><td>d               </td><td>i               </td><td>7iGFQkdw1LnO9teq</td><td>0               </td><td>0               </td><td>0               </td><td>0               </td><td>0               </td><td>0               </td><td>0               </td><td>0               </td><td>0               </td><td>0               </td><td>0               </td></tr>\n",
       "\t<tr><td>69              </td><td>100             </td><td>d               </td><td>i               </td><td>7iGFQkdw1LnO9teq</td><td>0               </td><td>0               </td><td>0               </td><td>0               </td><td>0               </td><td>0               </td><td>0               </td><td>0               </td><td>0               </td><td>0               </td><td>0               </td></tr>\n",
       "\t<tr><td>70              </td><td>100             </td><td>d               </td><td>i               </td><td>7iGFQkdw1LnO9teq</td><td>0               </td><td>0               </td><td>0               </td><td>0               </td><td>0               </td><td>0               </td><td>0               </td><td>0               </td><td>0               </td><td>0               </td><td>0               </td></tr>\n",
       "\t<tr><td>71              </td><td>100             </td><td>d               </td><td>i               </td><td>7iGFQkdw1LnO9teq</td><td>0               </td><td>0               </td><td>0               </td><td>0               </td><td>0               </td><td>0               </td><td>0               </td><td>0               </td><td>0               </td><td>0               </td><td>0               </td></tr>\n",
       "\t<tr><td>72              </td><td>100             </td><td>d               </td><td>i               </td><td>7iGFQkdw1LnO9teq</td><td>0               </td><td>0               </td><td>0               </td><td>0               </td><td>0               </td><td>0               </td><td>0               </td><td>0               </td><td>0               </td><td>0               </td><td>0               </td></tr>\n",
       "\t<tr><td>73              </td><td>100             </td><td>d               </td><td>i               </td><td>7iGFQkdw1LnO9teq</td><td>0               </td><td>0               </td><td>0               </td><td>0               </td><td>0               </td><td>0               </td><td>0               </td><td>0               </td><td>0               </td><td>0               </td><td>0               </td></tr>\n",
       "\t<tr><td>74              </td><td>100             </td><td>d               </td><td>i               </td><td>7iGFQkdw1LnO9teq</td><td>0               </td><td>0               </td><td>0               </td><td>0               </td><td>0               </td><td>0               </td><td>0               </td><td>0               </td><td>0               </td><td>0               </td><td>0               </td></tr>\n",
       "\t<tr><td>75              </td><td>100             </td><td>d               </td><td>i               </td><td>7iGFQkdw1LnO9teq</td><td>0               </td><td>0               </td><td>0               </td><td>0               </td><td>0               </td><td>0               </td><td>0               </td><td>0               </td><td>0               </td><td>0               </td><td>0               </td></tr>\n",
       "\t<tr><td>76              </td><td>100             </td><td>d               </td><td>i               </td><td>7iGFQkdw1LnO9teq</td><td>0               </td><td>0               </td><td>0               </td><td>0               </td><td>0               </td><td>0               </td><td>0               </td><td>0               </td><td>0               </td><td>0               </td><td>0               </td></tr>\n",
       "</tbody>\n",
       "</table>\n"
      ],
      "text/latex": [
       "\\begin{tabular}{r|llllllllllllllll}\n",
       " agent & time & state & spreadstate & news0 & news1 & news2 & news3 & news4 & news5 & news6 & news7 & news8 & news9 & news10 & news11\\\\\n",
       "\\hline\n",
       "\t 47 & 1  & u  & i  & 0  & 0  & 0  & 0  & 0  & 0  & 0  & 0  & 0  & 0  & 0  & 0 \\\\\n",
       "\t  1 & 1  & u  & i  & 0  & 0  & 0  & 0  & 0  & 0  & 0  & 0  & 0  & 0  & 0  & 0 \\\\\n",
       "\t  2 & 1  & d  & i  & 0  & 0  & 0  & 0  & 0  & 0  & 0  & 0  & 0  & 0  & 0  & 0 \\\\\n",
       "\t  3 & 1  & u  & i  & 0  & 0  & 0  & 0  & 0  & 0  & 0  & 0  & 0  & 0  & 0  & 0 \\\\\n",
       "\t  4 & 1  & u  & i  & 0  & 0  & 0  & 0  & 0  & 0  & 0  & 0  & 0  & 0  & 0  & 0 \\\\\n",
       "\t  5 & 1  & d  & i  & 0  & 0  & 0  & 0  & 0  & 0  & 0  & 0  & 0  & 0  & 0  & 0 \\\\\n",
       "\t  6 & 1  & u  & i  & 0  & 0  & 0  & 0  & 0  & 0  & 0  & 0  & 0  & 0  & 0  & 0 \\\\\n",
       "\t  7 & 1  & u  & i  & 0  & 0  & 0  & 0  & 0  & 0  & 0  & 0  & 0  & 0  & 0  & 0 \\\\\n",
       "\t  8 & 1  & u  & i  & 0  & 0  & 0  & 0  & 0  & 0  & 0  & 0  & 0  & 0  & 0  & 0 \\\\\n",
       "\t  9 & 1  & u  & i  & 0  & 0  & 0  & 0  & 0  & 0  & 0  & 0  & 0  & 0  & 0  & 0 \\\\\n",
       "\t 10 & 1  & u  & i  & 0  & 0  & 0  & 0  & 0  & 0  & 0  & 0  & 0  & 0  & 0  & 0 \\\\\n",
       "\t 11 & 1  & d  & i  & 0  & 0  & 0  & 0  & 0  & 0  & 0  & 0  & 0  & 0  & 0  & 0 \\\\\n",
       "\t 12 & 1  & d  & i  & 0  & 0  & 0  & 0  & 0  & 0  & 0  & 0  & 0  & 0  & 0  & 0 \\\\\n",
       "\t 13 & 1  & u  & i  & 0  & 0  & 0  & 0  & 0  & 0  & 0  & 0  & 0  & 0  & 0  & 0 \\\\\n",
       "\t 14 & 1  & d  & i  & 0  & 0  & 0  & 0  & 0  & 0  & 0  & 0  & 0  & 0  & 0  & 0 \\\\\n",
       "\t 15 & 1  & u  & i  & 0  & 0  & 0  & 0  & 0  & 0  & 0  & 0  & 0  & 0  & 0  & 0 \\\\\n",
       "\t 16 & 1  & u  & i  & 0  & 0  & 0  & 0  & 0  & 0  & 0  & 0  & 0  & 0  & 0  & 0 \\\\\n",
       "\t 17 & 1  & u  & i  & 0  & 0  & 0  & 0  & 0  & 0  & 0  & 0  & 0  & 0  & 0  & 0 \\\\\n",
       "\t 18 & 1  & u  & i  & 0  & 0  & 0  & 0  & 0  & 0  & 0  & 0  & 0  & 0  & 0  & 0 \\\\\n",
       "\t 19 & 1  & u  & i  & 0  & 0  & 0  & 0  & 0  & 0  & 0  & 0  & 0  & 0  & 0  & 0 \\\\\n",
       "\t 20 & 1  & u  & i  & 0  & 0  & 0  & 0  & 0  & 0  & 0  & 0  & 0  & 0  & 0  & 0 \\\\\n",
       "\t 21 & 1  & u  & i  & 0  & 0  & 0  & 0  & 0  & 0  & 0  & 0  & 0  & 0  & 0  & 0 \\\\\n",
       "\t 22 & 1  & u  & i  & 0  & 0  & 0  & 0  & 0  & 0  & 0  & 0  & 0  & 0  & 0  & 0 \\\\\n",
       "\t 23 & 1  & u  & i  & 0  & 0  & 0  & 0  & 0  & 0  & 0  & 0  & 0  & 0  & 0  & 0 \\\\\n",
       "\t 24 & 1  & d  & i  & 0  & 0  & 0  & 0  & 0  & 0  & 0  & 0  & 0  & 0  & 0  & 0 \\\\\n",
       "\t 25 & 1  & u  & i  & 0  & 0  & 0  & 0  & 0  & 0  & 0  & 0  & 0  & 0  & 0  & 0 \\\\\n",
       "\t 26 & 1  & u  & i  & 0  & 0  & 0  & 0  & 0  & 0  & 0  & 0  & 0  & 0  & 0  & 0 \\\\\n",
       "\t 27 & 1  & u  & i  & 0  & 0  & 0  & 0  & 0  & 0  & 0  & 0  & 0  & 0  & 0  & 0 \\\\\n",
       "\t 28 & 1  & u  & i  & 0  & 0  & 0  & 0  & 0  & 0  & 0  & 0  & 0  & 0  & 0  & 0 \\\\\n",
       "\t 29 & 1  & d  & i  & 0  & 0  & 0  & 0  & 0  & 0  & 0  & 0  & 0  & 0  & 0  & 0 \\\\\n",
       "\t ⋮ & ⋮ & ⋮ & ⋮ & ⋮ & ⋮ & ⋮ & ⋮ & ⋮ & ⋮ & ⋮ & ⋮ & ⋮ & ⋮ & ⋮ & ⋮\\\\\n",
       "\t  0               & 100              & x                & s                & 7iGFQkdw1LnO9teq & 0                & 0                & 0                & 0                & 0                & 0                & 0                & 0                & 0                & 0                & 0               \\\\\n",
       "\t 48               & 100              & d                & i                & 7iGFQkdw1LnO9teq & 0                & 0                & 0                & 0                & 0                & 0                & 0                & 0                & 0                & 0                & 0               \\\\\n",
       "\t 49               & 100              & d                & i                & 7iGFQkdw1LnO9teq & 0                & 0                & 0                & 0                & 0                & 0                & 0                & 0                & 0                & 0                & 0               \\\\\n",
       "\t 50               & 100              & d                & i                & 7iGFQkdw1LnO9teq & 0                & 0                & 0                & 0                & 0                & 0                & 0                & 0                & 0                & 0                & 0               \\\\\n",
       "\t 51               & 100              & d                & i                & 7iGFQkdw1LnO9teq & 0                & 0                & 0                & 0                & 0                & 0                & 0                & 0                & 0                & 0                & 0               \\\\\n",
       "\t 52               & 100              & d                & i                & 7iGFQkdw1LnO9teq & 0                & 0                & 0                & 0                & 0                & 0                & 0                & 0                & 0                & 0                & 0               \\\\\n",
       "\t 53               & 100              & d                & i                & 7iGFQkdw1LnO9teq & 0                & 0                & 0                & 0                & 0                & 0                & 0                & 0                & 0                & 0                & 0               \\\\\n",
       "\t 54               & 100              & d                & i                & 7iGFQkdw1LnO9teq & 0                & 0                & 0                & 0                & 0                & 0                & 0                & 0                & 0                & 0                & 0               \\\\\n",
       "\t 55               & 100              & d                & i                & 7iGFQkdw1LnO9teq & 0                & 0                & 0                & 0                & 0                & 0                & 0                & 0                & 0                & 0                & 0               \\\\\n",
       "\t 56               & 100              & d                & i                & 7iGFQkdw1LnO9teq & 0                & 0                & 0                & 0                & 0                & 0                & 0                & 0                & 0                & 0                & 0               \\\\\n",
       "\t 57               & 100              & d                & i                & 7iGFQkdw1LnO9teq & 0                & 0                & 0                & 0                & 0                & 0                & 0                & 0                & 0                & 0                & 0               \\\\\n",
       "\t 58               & 100              & d                & i                & 7iGFQkdw1LnO9teq & 0                & 0                & 0                & 0                & 0                & 0                & 0                & 0                & 0                & 0                & 0               \\\\\n",
       "\t 59               & 100              & d                & i                & 7iGFQkdw1LnO9teq & 0                & 0                & 0                & 0                & 0                & 0                & 0                & 0                & 0                & 0                & 0               \\\\\n",
       "\t 60               & 100              & d                & i                & 7iGFQkdw1LnO9teq & 0                & 0                & 0                & 0                & 0                & 0                & 0                & 0                & 0                & 0                & 0               \\\\\n",
       "\t 61               & 100              & d                & i                & 7iGFQkdw1LnO9teq & 0                & 0                & 0                & 0                & 0                & 0                & 0                & 0                & 0                & 0                & 0               \\\\\n",
       "\t 62               & 100              & d                & i                & 7iGFQkdw1LnO9teq & 0                & 0                & 0                & 0                & 0                & 0                & 0                & 0                & 0                & 0                & 0               \\\\\n",
       "\t 63               & 100              & d                & i                & 7iGFQkdw1LnO9teq & 0                & 0                & 0                & 0                & 0                & 0                & 0                & 0                & 0                & 0                & 0               \\\\\n",
       "\t 64               & 100              & d                & i                & 7iGFQkdw1LnO9teq & 0                & 0                & 0                & 0                & 0                & 0                & 0                & 0                & 0                & 0                & 0               \\\\\n",
       "\t 65               & 100              & d                & i                & 7iGFQkdw1LnO9teq & 0                & 0                & 0                & 0                & 0                & 0                & 0                & 0                & 0                & 0                & 0               \\\\\n",
       "\t 66               & 100              & d                & i                & 7iGFQkdw1LnO9teq & 0                & 0                & 0                & 0                & 0                & 0                & 0                & 0                & 0                & 0                & 0               \\\\\n",
       "\t 67               & 100              & d                & i                & 7iGFQkdw1LnO9teq & 0                & 0                & 0                & 0                & 0                & 0                & 0                & 0                & 0                & 0                & 0               \\\\\n",
       "\t 68               & 100              & d                & i                & 7iGFQkdw1LnO9teq & 0                & 0                & 0                & 0                & 0                & 0                & 0                & 0                & 0                & 0                & 0               \\\\\n",
       "\t 69               & 100              & d                & i                & 7iGFQkdw1LnO9teq & 0                & 0                & 0                & 0                & 0                & 0                & 0                & 0                & 0                & 0                & 0               \\\\\n",
       "\t 70               & 100              & d                & i                & 7iGFQkdw1LnO9teq & 0                & 0                & 0                & 0                & 0                & 0                & 0                & 0                & 0                & 0                & 0               \\\\\n",
       "\t 71               & 100              & d                & i                & 7iGFQkdw1LnO9teq & 0                & 0                & 0                & 0                & 0                & 0                & 0                & 0                & 0                & 0                & 0               \\\\\n",
       "\t 72               & 100              & d                & i                & 7iGFQkdw1LnO9teq & 0                & 0                & 0                & 0                & 0                & 0                & 0                & 0                & 0                & 0                & 0               \\\\\n",
       "\t 73               & 100              & d                & i                & 7iGFQkdw1LnO9teq & 0                & 0                & 0                & 0                & 0                & 0                & 0                & 0                & 0                & 0                & 0               \\\\\n",
       "\t 74               & 100              & d                & i                & 7iGFQkdw1LnO9teq & 0                & 0                & 0                & 0                & 0                & 0                & 0                & 0                & 0                & 0                & 0               \\\\\n",
       "\t 75               & 100              & d                & i                & 7iGFQkdw1LnO9teq & 0                & 0                & 0                & 0                & 0                & 0                & 0                & 0                & 0                & 0                & 0               \\\\\n",
       "\t 76               & 100              & d                & i                & 7iGFQkdw1LnO9teq & 0                & 0                & 0                & 0                & 0                & 0                & 0                & 0                & 0                & 0                & 0               \\\\\n",
       "\\end{tabular}\n"
      ],
      "text/markdown": [
       "\n",
       "agent | time | state | spreadstate | news0 | news1 | news2 | news3 | news4 | news5 | news6 | news7 | news8 | news9 | news10 | news11 | \n",
       "|---|---|---|---|---|---|---|---|---|---|---|---|---|---|---|---|---|---|---|---|---|---|---|---|---|---|---|---|---|---|---|---|---|---|---|---|---|---|---|---|---|---|---|---|---|---|---|---|---|---|---|---|---|---|---|---|---|---|---|---|---|\n",
       "| 47 | 1  | u  | i  | 0  | 0  | 0  | 0  | 0  | 0  | 0  | 0  | 0  | 0  | 0  | 0  | \n",
       "|  1 | 1  | u  | i  | 0  | 0  | 0  | 0  | 0  | 0  | 0  | 0  | 0  | 0  | 0  | 0  | \n",
       "|  2 | 1  | d  | i  | 0  | 0  | 0  | 0  | 0  | 0  | 0  | 0  | 0  | 0  | 0  | 0  | \n",
       "|  3 | 1  | u  | i  | 0  | 0  | 0  | 0  | 0  | 0  | 0  | 0  | 0  | 0  | 0  | 0  | \n",
       "|  4 | 1  | u  | i  | 0  | 0  | 0  | 0  | 0  | 0  | 0  | 0  | 0  | 0  | 0  | 0  | \n",
       "|  5 | 1  | d  | i  | 0  | 0  | 0  | 0  | 0  | 0  | 0  | 0  | 0  | 0  | 0  | 0  | \n",
       "|  6 | 1  | u  | i  | 0  | 0  | 0  | 0  | 0  | 0  | 0  | 0  | 0  | 0  | 0  | 0  | \n",
       "|  7 | 1  | u  | i  | 0  | 0  | 0  | 0  | 0  | 0  | 0  | 0  | 0  | 0  | 0  | 0  | \n",
       "|  8 | 1  | u  | i  | 0  | 0  | 0  | 0  | 0  | 0  | 0  | 0  | 0  | 0  | 0  | 0  | \n",
       "|  9 | 1  | u  | i  | 0  | 0  | 0  | 0  | 0  | 0  | 0  | 0  | 0  | 0  | 0  | 0  | \n",
       "| 10 | 1  | u  | i  | 0  | 0  | 0  | 0  | 0  | 0  | 0  | 0  | 0  | 0  | 0  | 0  | \n",
       "| 11 | 1  | d  | i  | 0  | 0  | 0  | 0  | 0  | 0  | 0  | 0  | 0  | 0  | 0  | 0  | \n",
       "| 12 | 1  | d  | i  | 0  | 0  | 0  | 0  | 0  | 0  | 0  | 0  | 0  | 0  | 0  | 0  | \n",
       "| 13 | 1  | u  | i  | 0  | 0  | 0  | 0  | 0  | 0  | 0  | 0  | 0  | 0  | 0  | 0  | \n",
       "| 14 | 1  | d  | i  | 0  | 0  | 0  | 0  | 0  | 0  | 0  | 0  | 0  | 0  | 0  | 0  | \n",
       "| 15 | 1  | u  | i  | 0  | 0  | 0  | 0  | 0  | 0  | 0  | 0  | 0  | 0  | 0  | 0  | \n",
       "| 16 | 1  | u  | i  | 0  | 0  | 0  | 0  | 0  | 0  | 0  | 0  | 0  | 0  | 0  | 0  | \n",
       "| 17 | 1  | u  | i  | 0  | 0  | 0  | 0  | 0  | 0  | 0  | 0  | 0  | 0  | 0  | 0  | \n",
       "| 18 | 1  | u  | i  | 0  | 0  | 0  | 0  | 0  | 0  | 0  | 0  | 0  | 0  | 0  | 0  | \n",
       "| 19 | 1  | u  | i  | 0  | 0  | 0  | 0  | 0  | 0  | 0  | 0  | 0  | 0  | 0  | 0  | \n",
       "| 20 | 1  | u  | i  | 0  | 0  | 0  | 0  | 0  | 0  | 0  | 0  | 0  | 0  | 0  | 0  | \n",
       "| 21 | 1  | u  | i  | 0  | 0  | 0  | 0  | 0  | 0  | 0  | 0  | 0  | 0  | 0  | 0  | \n",
       "| 22 | 1  | u  | i  | 0  | 0  | 0  | 0  | 0  | 0  | 0  | 0  | 0  | 0  | 0  | 0  | \n",
       "| 23 | 1  | u  | i  | 0  | 0  | 0  | 0  | 0  | 0  | 0  | 0  | 0  | 0  | 0  | 0  | \n",
       "| 24 | 1  | d  | i  | 0  | 0  | 0  | 0  | 0  | 0  | 0  | 0  | 0  | 0  | 0  | 0  | \n",
       "| 25 | 1  | u  | i  | 0  | 0  | 0  | 0  | 0  | 0  | 0  | 0  | 0  | 0  | 0  | 0  | \n",
       "| 26 | 1  | u  | i  | 0  | 0  | 0  | 0  | 0  | 0  | 0  | 0  | 0  | 0  | 0  | 0  | \n",
       "| 27 | 1  | u  | i  | 0  | 0  | 0  | 0  | 0  | 0  | 0  | 0  | 0  | 0  | 0  | 0  | \n",
       "| 28 | 1  | u  | i  | 0  | 0  | 0  | 0  | 0  | 0  | 0  | 0  | 0  | 0  | 0  | 0  | \n",
       "| 29 | 1  | d  | i  | 0  | 0  | 0  | 0  | 0  | 0  | 0  | 0  | 0  | 0  | 0  | 0  | \n",
       "| ⋮ | ⋮ | ⋮ | ⋮ | ⋮ | ⋮ | ⋮ | ⋮ | ⋮ | ⋮ | ⋮ | ⋮ | ⋮ | ⋮ | ⋮ | ⋮ | \n",
       "|  0               | 100              | x                | s                | 7iGFQkdw1LnO9teq | 0                | 0                | 0                | 0                | 0                | 0                | 0                | 0                | 0                | 0                | 0                | \n",
       "| 48               | 100              | d                | i                | 7iGFQkdw1LnO9teq | 0                | 0                | 0                | 0                | 0                | 0                | 0                | 0                | 0                | 0                | 0                | \n",
       "| 49               | 100              | d                | i                | 7iGFQkdw1LnO9teq | 0                | 0                | 0                | 0                | 0                | 0                | 0                | 0                | 0                | 0                | 0                | \n",
       "| 50               | 100              | d                | i                | 7iGFQkdw1LnO9teq | 0                | 0                | 0                | 0                | 0                | 0                | 0                | 0                | 0                | 0                | 0                | \n",
       "| 51               | 100              | d                | i                | 7iGFQkdw1LnO9teq | 0                | 0                | 0                | 0                | 0                | 0                | 0                | 0                | 0                | 0                | 0                | \n",
       "| 52               | 100              | d                | i                | 7iGFQkdw1LnO9teq | 0                | 0                | 0                | 0                | 0                | 0                | 0                | 0                | 0                | 0                | 0                | \n",
       "| 53               | 100              | d                | i                | 7iGFQkdw1LnO9teq | 0                | 0                | 0                | 0                | 0                | 0                | 0                | 0                | 0                | 0                | 0                | \n",
       "| 54               | 100              | d                | i                | 7iGFQkdw1LnO9teq | 0                | 0                | 0                | 0                | 0                | 0                | 0                | 0                | 0                | 0                | 0                | \n",
       "| 55               | 100              | d                | i                | 7iGFQkdw1LnO9teq | 0                | 0                | 0                | 0                | 0                | 0                | 0                | 0                | 0                | 0                | 0                | \n",
       "| 56               | 100              | d                | i                | 7iGFQkdw1LnO9teq | 0                | 0                | 0                | 0                | 0                | 0                | 0                | 0                | 0                | 0                | 0                | \n",
       "| 57               | 100              | d                | i                | 7iGFQkdw1LnO9teq | 0                | 0                | 0                | 0                | 0                | 0                | 0                | 0                | 0                | 0                | 0                | \n",
       "| 58               | 100              | d                | i                | 7iGFQkdw1LnO9teq | 0                | 0                | 0                | 0                | 0                | 0                | 0                | 0                | 0                | 0                | 0                | \n",
       "| 59               | 100              | d                | i                | 7iGFQkdw1LnO9teq | 0                | 0                | 0                | 0                | 0                | 0                | 0                | 0                | 0                | 0                | 0                | \n",
       "| 60               | 100              | d                | i                | 7iGFQkdw1LnO9teq | 0                | 0                | 0                | 0                | 0                | 0                | 0                | 0                | 0                | 0                | 0                | \n",
       "| 61               | 100              | d                | i                | 7iGFQkdw1LnO9teq | 0                | 0                | 0                | 0                | 0                | 0                | 0                | 0                | 0                | 0                | 0                | \n",
       "| 62               | 100              | d                | i                | 7iGFQkdw1LnO9teq | 0                | 0                | 0                | 0                | 0                | 0                | 0                | 0                | 0                | 0                | 0                | \n",
       "| 63               | 100              | d                | i                | 7iGFQkdw1LnO9teq | 0                | 0                | 0                | 0                | 0                | 0                | 0                | 0                | 0                | 0                | 0                | \n",
       "| 64               | 100              | d                | i                | 7iGFQkdw1LnO9teq | 0                | 0                | 0                | 0                | 0                | 0                | 0                | 0                | 0                | 0                | 0                | \n",
       "| 65               | 100              | d                | i                | 7iGFQkdw1LnO9teq | 0                | 0                | 0                | 0                | 0                | 0                | 0                | 0                | 0                | 0                | 0                | \n",
       "| 66               | 100              | d                | i                | 7iGFQkdw1LnO9teq | 0                | 0                | 0                | 0                | 0                | 0                | 0                | 0                | 0                | 0                | 0                | \n",
       "| 67               | 100              | d                | i                | 7iGFQkdw1LnO9teq | 0                | 0                | 0                | 0                | 0                | 0                | 0                | 0                | 0                | 0                | 0                | \n",
       "| 68               | 100              | d                | i                | 7iGFQkdw1LnO9teq | 0                | 0                | 0                | 0                | 0                | 0                | 0                | 0                | 0                | 0                | 0                | \n",
       "| 69               | 100              | d                | i                | 7iGFQkdw1LnO9teq | 0                | 0                | 0                | 0                | 0                | 0                | 0                | 0                | 0                | 0                | 0                | \n",
       "| 70               | 100              | d                | i                | 7iGFQkdw1LnO9teq | 0                | 0                | 0                | 0                | 0                | 0                | 0                | 0                | 0                | 0                | 0                | \n",
       "| 71               | 100              | d                | i                | 7iGFQkdw1LnO9teq | 0                | 0                | 0                | 0                | 0                | 0                | 0                | 0                | 0                | 0                | 0                | \n",
       "| 72               | 100              | d                | i                | 7iGFQkdw1LnO9teq | 0                | 0                | 0                | 0                | 0                | 0                | 0                | 0                | 0                | 0                | 0                | \n",
       "| 73               | 100              | d                | i                | 7iGFQkdw1LnO9teq | 0                | 0                | 0                | 0                | 0                | 0                | 0                | 0                | 0                | 0                | 0                | \n",
       "| 74               | 100              | d                | i                | 7iGFQkdw1LnO9teq | 0                | 0                | 0                | 0                | 0                | 0                | 0                | 0                | 0                | 0                | 0                | \n",
       "| 75               | 100              | d                | i                | 7iGFQkdw1LnO9teq | 0                | 0                | 0                | 0                | 0                | 0                | 0                | 0                | 0                | 0                | 0                | \n",
       "| 76               | 100              | d                | i                | 7iGFQkdw1LnO9teq | 0                | 0                | 0                | 0                | 0                | 0                | 0                | 0                | 0                | 0                | 0                | \n",
       "\n",
       "\n"
      ],
      "text/plain": [
       "     agent time state spreadstate news0            news1 news2 news3 news4\n",
       "1    47    1    u     i           0                0     0     0     0    \n",
       "2     1    1    u     i           0                0     0     0     0    \n",
       "3     2    1    d     i           0                0     0     0     0    \n",
       "4     3    1    u     i           0                0     0     0     0    \n",
       "5     4    1    u     i           0                0     0     0     0    \n",
       "6     5    1    d     i           0                0     0     0     0    \n",
       "7     6    1    u     i           0                0     0     0     0    \n",
       "8     7    1    u     i           0                0     0     0     0    \n",
       "9     8    1    u     i           0                0     0     0     0    \n",
       "10    9    1    u     i           0                0     0     0     0    \n",
       "11   10    1    u     i           0                0     0     0     0    \n",
       "12   11    1    d     i           0                0     0     0     0    \n",
       "13   12    1    d     i           0                0     0     0     0    \n",
       "14   13    1    u     i           0                0     0     0     0    \n",
       "15   14    1    d     i           0                0     0     0     0    \n",
       "16   15    1    u     i           0                0     0     0     0    \n",
       "17   16    1    u     i           0                0     0     0     0    \n",
       "18   17    1    u     i           0                0     0     0     0    \n",
       "19   18    1    u     i           0                0     0     0     0    \n",
       "20   19    1    u     i           0                0     0     0     0    \n",
       "21   20    1    u     i           0                0     0     0     0    \n",
       "22   21    1    u     i           0                0     0     0     0    \n",
       "23   22    1    u     i           0                0     0     0     0    \n",
       "24   23    1    u     i           0                0     0     0     0    \n",
       "25   24    1    d     i           0                0     0     0     0    \n",
       "26   25    1    u     i           0                0     0     0     0    \n",
       "27   26    1    u     i           0                0     0     0     0    \n",
       "28   27    1    u     i           0                0     0     0     0    \n",
       "29   28    1    u     i           0                0     0     0     0    \n",
       "30   29    1    d     i           0                0     0     0     0    \n",
       "⋮    ⋮     ⋮    ⋮     ⋮           ⋮                ⋮     ⋮     ⋮     ⋮    \n",
       "7671  0    100  x     s           7iGFQkdw1LnO9teq 0     0     0     0    \n",
       "7672 48    100  d     i           7iGFQkdw1LnO9teq 0     0     0     0    \n",
       "7673 49    100  d     i           7iGFQkdw1LnO9teq 0     0     0     0    \n",
       "7674 50    100  d     i           7iGFQkdw1LnO9teq 0     0     0     0    \n",
       "7675 51    100  d     i           7iGFQkdw1LnO9teq 0     0     0     0    \n",
       "7676 52    100  d     i           7iGFQkdw1LnO9teq 0     0     0     0    \n",
       "7677 53    100  d     i           7iGFQkdw1LnO9teq 0     0     0     0    \n",
       "7678 54    100  d     i           7iGFQkdw1LnO9teq 0     0     0     0    \n",
       "7679 55    100  d     i           7iGFQkdw1LnO9teq 0     0     0     0    \n",
       "7680 56    100  d     i           7iGFQkdw1LnO9teq 0     0     0     0    \n",
       "7681 57    100  d     i           7iGFQkdw1LnO9teq 0     0     0     0    \n",
       "7682 58    100  d     i           7iGFQkdw1LnO9teq 0     0     0     0    \n",
       "7683 59    100  d     i           7iGFQkdw1LnO9teq 0     0     0     0    \n",
       "7684 60    100  d     i           7iGFQkdw1LnO9teq 0     0     0     0    \n",
       "7685 61    100  d     i           7iGFQkdw1LnO9teq 0     0     0     0    \n",
       "7686 62    100  d     i           7iGFQkdw1LnO9teq 0     0     0     0    \n",
       "7687 63    100  d     i           7iGFQkdw1LnO9teq 0     0     0     0    \n",
       "7688 64    100  d     i           7iGFQkdw1LnO9teq 0     0     0     0    \n",
       "7689 65    100  d     i           7iGFQkdw1LnO9teq 0     0     0     0    \n",
       "7690 66    100  d     i           7iGFQkdw1LnO9teq 0     0     0     0    \n",
       "7691 67    100  d     i           7iGFQkdw1LnO9teq 0     0     0     0    \n",
       "7692 68    100  d     i           7iGFQkdw1LnO9teq 0     0     0     0    \n",
       "7693 69    100  d     i           7iGFQkdw1LnO9teq 0     0     0     0    \n",
       "7694 70    100  d     i           7iGFQkdw1LnO9teq 0     0     0     0    \n",
       "7695 71    100  d     i           7iGFQkdw1LnO9teq 0     0     0     0    \n",
       "7696 72    100  d     i           7iGFQkdw1LnO9teq 0     0     0     0    \n",
       "7697 73    100  d     i           7iGFQkdw1LnO9teq 0     0     0     0    \n",
       "7698 74    100  d     i           7iGFQkdw1LnO9teq 0     0     0     0    \n",
       "7699 75    100  d     i           7iGFQkdw1LnO9teq 0     0     0     0    \n",
       "7700 76    100  d     i           7iGFQkdw1LnO9teq 0     0     0     0    \n",
       "     news5 news6 news7 news8 news9 news10 news11\n",
       "1    0     0     0     0     0     0      0     \n",
       "2    0     0     0     0     0     0      0     \n",
       "3    0     0     0     0     0     0      0     \n",
       "4    0     0     0     0     0     0      0     \n",
       "5    0     0     0     0     0     0      0     \n",
       "6    0     0     0     0     0     0      0     \n",
       "7    0     0     0     0     0     0      0     \n",
       "8    0     0     0     0     0     0      0     \n",
       "9    0     0     0     0     0     0      0     \n",
       "10   0     0     0     0     0     0      0     \n",
       "11   0     0     0     0     0     0      0     \n",
       "12   0     0     0     0     0     0      0     \n",
       "13   0     0     0     0     0     0      0     \n",
       "14   0     0     0     0     0     0      0     \n",
       "15   0     0     0     0     0     0      0     \n",
       "16   0     0     0     0     0     0      0     \n",
       "17   0     0     0     0     0     0      0     \n",
       "18   0     0     0     0     0     0      0     \n",
       "19   0     0     0     0     0     0      0     \n",
       "20   0     0     0     0     0     0      0     \n",
       "21   0     0     0     0     0     0      0     \n",
       "22   0     0     0     0     0     0      0     \n",
       "23   0     0     0     0     0     0      0     \n",
       "24   0     0     0     0     0     0      0     \n",
       "25   0     0     0     0     0     0      0     \n",
       "26   0     0     0     0     0     0      0     \n",
       "27   0     0     0     0     0     0      0     \n",
       "28   0     0     0     0     0     0      0     \n",
       "29   0     0     0     0     0     0      0     \n",
       "30   0     0     0     0     0     0      0     \n",
       "⋮    ⋮     ⋮     ⋮     ⋮     ⋮     ⋮      ⋮     \n",
       "7671 0     0     0     0     0     0      0     \n",
       "7672 0     0     0     0     0     0      0     \n",
       "7673 0     0     0     0     0     0      0     \n",
       "7674 0     0     0     0     0     0      0     \n",
       "7675 0     0     0     0     0     0      0     \n",
       "7676 0     0     0     0     0     0      0     \n",
       "7677 0     0     0     0     0     0      0     \n",
       "7678 0     0     0     0     0     0      0     \n",
       "7679 0     0     0     0     0     0      0     \n",
       "7680 0     0     0     0     0     0      0     \n",
       "7681 0     0     0     0     0     0      0     \n",
       "7682 0     0     0     0     0     0      0     \n",
       "7683 0     0     0     0     0     0      0     \n",
       "7684 0     0     0     0     0     0      0     \n",
       "7685 0     0     0     0     0     0      0     \n",
       "7686 0     0     0     0     0     0      0     \n",
       "7687 0     0     0     0     0     0      0     \n",
       "7688 0     0     0     0     0     0      0     \n",
       "7689 0     0     0     0     0     0      0     \n",
       "7690 0     0     0     0     0     0      0     \n",
       "7691 0     0     0     0     0     0      0     \n",
       "7692 0     0     0     0     0     0      0     \n",
       "7693 0     0     0     0     0     0      0     \n",
       "7694 0     0     0     0     0     0      0     \n",
       "7695 0     0     0     0     0     0      0     \n",
       "7696 0     0     0     0     0     0      0     \n",
       "7697 0     0     0     0     0     0      0     \n",
       "7698 0     0     0     0     0     0      0     \n",
       "7699 0     0     0     0     0     0      0     \n",
       "7700 0     0     0     0     0     0      0     "
      ]
     },
     "metadata": {},
     "output_type": "display_data"
    }
   ],
   "source": [
    "DT"
   ]
  },
  {
   "cell_type": "code",
   "execution_count": 25,
   "metadata": {},
   "outputs": [
    {
     "data": {
      "text/html": [
       "0"
      ],
      "text/latex": [
       "0"
      ],
      "text/markdown": [
       "0"
      ],
      "text/plain": [
       "[1] 0"
      ]
     },
     "metadata": {},
     "output_type": "display_data"
    }
   ],
   "source": [
    "sum(apply(subset(DT, time == 80),1,function(x) length(which(x==newsvec[0]))))"
   ]
  },
  {
   "cell_type": "markdown",
   "metadata": {},
   "source": [
    "find max time of iteration"
   ]
  },
  {
   "cell_type": "code",
   "execution_count": 35,
   "metadata": {
    "scrolled": true
   },
   "outputs": [
    {
     "data": {
      "text/html": [
       "14"
      ],
      "text/latex": [
       "14"
      ],
      "text/markdown": [
       "14"
      ],
      "text/plain": [
       "[1] 14"
      ]
     },
     "metadata": {},
     "output_type": "display_data"
    }
   ],
   "source": [
    "maxtime = DT[][which.max(time)]$time\n",
    "maxtime"
   ]
  },
  {
   "cell_type": "code",
   "execution_count": 34,
   "metadata": {
    "scrolled": true
   },
   "outputs": [
    {
     "data": {
      "text/html": [
       "<table>\n",
       "<thead><tr><th scope=col>n1</th></tr></thead>\n",
       "<tbody>\n",
       "\t<tr><td>0</td></tr>\n",
       "\t<tr><td>0</td></tr>\n",
       "\t<tr><td>0</td></tr>\n",
       "\t<tr><td>0</td></tr>\n",
       "\t<tr><td>0</td></tr>\n",
       "\t<tr><td>0</td></tr>\n",
       "\t<tr><td>0</td></tr>\n",
       "\t<tr><td>0</td></tr>\n",
       "\t<tr><td>0</td></tr>\n",
       "\t<tr><td>0</td></tr>\n",
       "\t<tr><td>0</td></tr>\n",
       "\t<tr><td>0</td></tr>\n",
       "\t<tr><td>0</td></tr>\n",
       "\t<tr><td>0</td></tr>\n",
       "\t<tr><td>0</td></tr>\n",
       "\t<tr><td>0</td></tr>\n",
       "\t<tr><td>0</td></tr>\n",
       "\t<tr><td>0</td></tr>\n",
       "\t<tr><td>0</td></tr>\n",
       "\t<tr><td>0</td></tr>\n",
       "\t<tr><td>0</td></tr>\n",
       "\t<tr><td>0</td></tr>\n",
       "\t<tr><td>0</td></tr>\n",
       "\t<tr><td>0</td></tr>\n",
       "\t<tr><td>0</td></tr>\n",
       "\t<tr><td>0</td></tr>\n",
       "\t<tr><td>0</td></tr>\n",
       "\t<tr><td>0</td></tr>\n",
       "\t<tr><td>0</td></tr>\n",
       "\t<tr><td>0</td></tr>\n",
       "\t<tr><td>⋮</td></tr>\n",
       "\t<tr><td>0</td></tr>\n",
       "\t<tr><td>0</td></tr>\n",
       "\t<tr><td>0</td></tr>\n",
       "\t<tr><td>0</td></tr>\n",
       "\t<tr><td>0</td></tr>\n",
       "\t<tr><td>0</td></tr>\n",
       "\t<tr><td>0</td></tr>\n",
       "\t<tr><td>0</td></tr>\n",
       "\t<tr><td>0</td></tr>\n",
       "\t<tr><td>0</td></tr>\n",
       "\t<tr><td>0</td></tr>\n",
       "\t<tr><td>0</td></tr>\n",
       "\t<tr><td>0</td></tr>\n",
       "\t<tr><td>0</td></tr>\n",
       "\t<tr><td>0</td></tr>\n",
       "\t<tr><td>0</td></tr>\n",
       "\t<tr><td>0</td></tr>\n",
       "\t<tr><td>0</td></tr>\n",
       "\t<tr><td>0</td></tr>\n",
       "\t<tr><td>0</td></tr>\n",
       "\t<tr><td>0</td></tr>\n",
       "\t<tr><td>0</td></tr>\n",
       "\t<tr><td>0</td></tr>\n",
       "\t<tr><td>0</td></tr>\n",
       "\t<tr><td>0</td></tr>\n",
       "\t<tr><td>0</td></tr>\n",
       "\t<tr><td>0</td></tr>\n",
       "\t<tr><td>0</td></tr>\n",
       "\t<tr><td>0</td></tr>\n",
       "\t<tr><td>0</td></tr>\n",
       "</tbody>\n",
       "</table>\n"
      ],
      "text/latex": [
       "\\begin{tabular}{r|l}\n",
       " n1\\\\\n",
       "\\hline\n",
       "\t 0\\\\\n",
       "\t 0\\\\\n",
       "\t 0\\\\\n",
       "\t 0\\\\\n",
       "\t 0\\\\\n",
       "\t 0\\\\\n",
       "\t 0\\\\\n",
       "\t 0\\\\\n",
       "\t 0\\\\\n",
       "\t 0\\\\\n",
       "\t 0\\\\\n",
       "\t 0\\\\\n",
       "\t 0\\\\\n",
       "\t 0\\\\\n",
       "\t 0\\\\\n",
       "\t 0\\\\\n",
       "\t 0\\\\\n",
       "\t 0\\\\\n",
       "\t 0\\\\\n",
       "\t 0\\\\\n",
       "\t 0\\\\\n",
       "\t 0\\\\\n",
       "\t 0\\\\\n",
       "\t 0\\\\\n",
       "\t 0\\\\\n",
       "\t 0\\\\\n",
       "\t 0\\\\\n",
       "\t 0\\\\\n",
       "\t 0\\\\\n",
       "\t 0\\\\\n",
       "\t ⋮\\\\\n",
       "\t 0\\\\\n",
       "\t 0\\\\\n",
       "\t 0\\\\\n",
       "\t 0\\\\\n",
       "\t 0\\\\\n",
       "\t 0\\\\\n",
       "\t 0\\\\\n",
       "\t 0\\\\\n",
       "\t 0\\\\\n",
       "\t 0\\\\\n",
       "\t 0\\\\\n",
       "\t 0\\\\\n",
       "\t 0\\\\\n",
       "\t 0\\\\\n",
       "\t 0\\\\\n",
       "\t 0\\\\\n",
       "\t 0\\\\\n",
       "\t 0\\\\\n",
       "\t 0\\\\\n",
       "\t 0\\\\\n",
       "\t 0\\\\\n",
       "\t 0\\\\\n",
       "\t 0\\\\\n",
       "\t 0\\\\\n",
       "\t 0\\\\\n",
       "\t 0\\\\\n",
       "\t 0\\\\\n",
       "\t 0\\\\\n",
       "\t 0\\\\\n",
       "\t 0\\\\\n",
       "\\end{tabular}\n"
      ],
      "text/markdown": [
       "\n",
       "n1 | \n",
       "|---|---|---|---|---|---|---|---|---|---|---|---|---|---|---|---|---|---|---|---|---|---|---|---|---|---|---|---|---|---|---|---|---|---|---|---|---|---|---|---|---|---|---|---|---|---|---|---|---|---|---|---|---|---|---|---|---|---|---|---|---|\n",
       "| 0 | \n",
       "| 0 | \n",
       "| 0 | \n",
       "| 0 | \n",
       "| 0 | \n",
       "| 0 | \n",
       "| 0 | \n",
       "| 0 | \n",
       "| 0 | \n",
       "| 0 | \n",
       "| 0 | \n",
       "| 0 | \n",
       "| 0 | \n",
       "| 0 | \n",
       "| 0 | \n",
       "| 0 | \n",
       "| 0 | \n",
       "| 0 | \n",
       "| 0 | \n",
       "| 0 | \n",
       "| 0 | \n",
       "| 0 | \n",
       "| 0 | \n",
       "| 0 | \n",
       "| 0 | \n",
       "| 0 | \n",
       "| 0 | \n",
       "| 0 | \n",
       "| 0 | \n",
       "| 0 | \n",
       "| ⋮ | \n",
       "| 0 | \n",
       "| 0 | \n",
       "| 0 | \n",
       "| 0 | \n",
       "| 0 | \n",
       "| 0 | \n",
       "| 0 | \n",
       "| 0 | \n",
       "| 0 | \n",
       "| 0 | \n",
       "| 0 | \n",
       "| 0 | \n",
       "| 0 | \n",
       "| 0 | \n",
       "| 0 | \n",
       "| 0 | \n",
       "| 0 | \n",
       "| 0 | \n",
       "| 0 | \n",
       "| 0 | \n",
       "| 0 | \n",
       "| 0 | \n",
       "| 0 | \n",
       "| 0 | \n",
       "| 0 | \n",
       "| 0 | \n",
       "| 0 | \n",
       "| 0 | \n",
       "| 0 | \n",
       "| 0 | \n",
       "\n",
       "\n"
      ],
      "text/plain": [
       "    n1\n",
       "1   0 \n",
       "2   0 \n",
       "3   0 \n",
       "4   0 \n",
       "5   0 \n",
       "6   0 \n",
       "7   0 \n",
       "8   0 \n",
       "9   0 \n",
       "10  0 \n",
       "11  0 \n",
       "12  0 \n",
       "13  0 \n",
       "14  0 \n",
       "15  0 \n",
       "16  0 \n",
       "17  0 \n",
       "18  0 \n",
       "19  0 \n",
       "20  0 \n",
       "21  0 \n",
       "22  0 \n",
       "23  0 \n",
       "24  0 \n",
       "25  0 \n",
       "26  0 \n",
       "27  0 \n",
       "28  0 \n",
       "29  0 \n",
       "30  0 \n",
       "⋮   ⋮ \n",
       "71  0 \n",
       "72  0 \n",
       "73  0 \n",
       "74  0 \n",
       "75  0 \n",
       "76  0 \n",
       "77  0 \n",
       "78  0 \n",
       "79  0 \n",
       "80  0 \n",
       "81  0 \n",
       "82  0 \n",
       "83  0 \n",
       "84  0 \n",
       "85  0 \n",
       "86  0 \n",
       "87  0 \n",
       "88  0 \n",
       "89  0 \n",
       "90  0 \n",
       "91  0 \n",
       "92  0 \n",
       "93  0 \n",
       "94  0 \n",
       "95  0 \n",
       "96  0 \n",
       "97  0 \n",
       "98  0 \n",
       "99  0 \n",
       "100 0 "
      ]
     },
     "metadata": {},
     "output_type": "display_data"
    }
   ],
   "source": [
    "TB <- data.table(n1=integer())\n",
    "for (i in 1:maxtime) {\n",
    "    nn1 =sum(apply(subset(DT, time == i),1,function(x) length(which(x==newsvec[1]))))\n",
    "    #nn2 =sum(apply(subset(DT, time == i),1,function(x) length(which(x==newsvec[2]))))\n",
    "    #nn3 =sum(apply(subset(DT, time == i),1,function(x) length(which(x==newsvec[3]))))\n",
    "    #nn4 =sum(apply(subset(DT, time == i),1,function(x) length(which(x==newsvec[4]))))\n",
    "    #nn5 =sum(apply(subset(DT, time == i),1,function(x) length(which(x==newsvec[5]))))\n",
    "    #nn6 =sum(apply(subset(DT, time == i),1,function(x) length(which(x==newsvec[6]))))\n",
    "   \n",
    "    TB <- rbindlist(list(TB,  data.table(n1=nn1)))\n",
    "}\n",
    "TB"
   ]
  },
  {
   "cell_type": "code",
   "execution_count": 23,
   "metadata": {},
   "outputs": [
    {
     "data": {
      "image/png": "[encoded data removed]",
      "text/plain": [
       "Plot with title “Overlapping Histogram”"
      ]
     },
     "metadata": {},
     "output_type": "display_data"
    }
   ],
   "source": [
    "# Histogram Colored (blue and red)\n",
    "hist(TB$n1, col=rgb(0,0,1,0.5),main=\"Overlapping Histogram\", xlab=\"Variable\", breaks=50)\n",
    "#hist(TB$n5, col=rgb(1,0,0,0.5), add=T, breaks=50)\n",
    "#hist(TB$n3, col=rgb(0,1,0,0.5), add=T, breaks=50)\n",
    "#box()\n",
    "#vita media circa 50/100"
   ]
  },
  {
   "cell_type": "code",
   "execution_count": 36,
   "metadata": {},
   "outputs": [
    {
     "ename": "ERROR",
     "evalue": "Error in `$<-.data.frame`(`*tmp*`, num, value = \"Up Ag.\"): replacement has 1 row, data has 0\n",
     "output_type": "error",
     "traceback": [
      "Error in `$<-.data.frame`(`*tmp*`, num, value = \"Up Ag.\"): replacement has 1 row, data has 0\nTraceback:\n",
      "1. `$<-`(`*tmp*`, num, value = \"Up Ag.\")",
      "2. `$<-.data.frame`(`*tmp*`, num, value = \"Up Ag.\")",
      "3. stop(sprintf(ngettext(N, \"replacement has %d row, data has %d\", \n .     \"replacement has %d rows, data has %d\"), N, nrows), domain = NA)"
     ]
    }
   ],
   "source": [
    "up <- data.frame(length = TB$u)\n",
    "do <- data.frame(length = TB$d)\n",
    "\n",
    "up$num <- 'Up Ag.'\n",
    "do$num <- 'Down Ag.'\n",
    "\n",
    "gLengths <- rbind(up, do)"
   ]
  },
  {
   "cell_type": "code",
   "execution_count": 89,
   "metadata": {},
   "outputs": [
    {
     "data": {},
     "metadata": {},
     "output_type": "display_data"
    },
    {
     "data": {
      "image/png": "[encoded data removed]",
      "text/plain": [
       "plot without title"
      ]
     },
     "metadata": {},
     "output_type": "display_data"
    }
   ],
   "source": [
    "ggplot(gLengths, aes(length, fill = num)) + geom_histogram(alpha = 0.5, aes(y = ..density..), position = 'identity', bins=50)"
   ]
  },
  {
   "cell_type": "code",
   "execution_count": 73,
   "metadata": {
    "collapsed": true
   },
   "outputs": [],
   "source": [
    "upag <- data.frame(length = v, weight = TB$u)\n",
    "doag <- data.frame(length = v, weight = TB$d)\n",
    "\n",
    "#Now, combine your two dataframes into one.  First make a new column in each that will be a variable to identify where they came from later.\n",
    "upag$num <- 'Up Ag.'\n",
    "doag$num <- 'Down Ag.'\n",
    "\n",
    "#and combine into your new data frame vegLengths\n",
    "agLengths <- rbind(upag, doag)"
   ]
  },
  {
   "cell_type": "code",
   "execution_count": 74,
   "metadata": {},
   "outputs": [
    {
     "data": {},
     "metadata": {},
     "output_type": "display_data"
    },
    {
     "data": {
      "image/png": "[encoded data removed]",
      "text/plain": [
       "plot without title"
      ]
     },
     "metadata": {},
     "output_type": "display_data"
    }
   ],
   "source": [
    "ggplot(agLengths, aes(length, weight = weight, fill = num)) + geom_histogram(alpha = 0.5, aes(y = ..density..), position = 'identity', bins=50)"
   ]
  },
  {
   "cell_type": "code",
   "execution_count": null,
   "metadata": {
    "collapsed": true
   },
   "outputs": [],
   "source": []
  }
 ],
 "metadata": {
  "kernelspec": {
   "display_name": "R",
   "language": "R",
   "name": "ir"
  },
  "language_info": {
   "codemirror_mode": "r",
   "file_extension": ".r",
   "mimetype": "text/x-r-source",
   "name": "R",
   "pygments_lexer": "r",
   "version": "3.5.1"
  }
 },
 "nbformat": 4,
 "nbformat_minor": 2
}
