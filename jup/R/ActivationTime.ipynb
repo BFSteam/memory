{
 "cells": [
  {
   "cell_type": "markdown",
   "metadata": {},
   "source": [
    "Questo link vale come oro per le `data.table`"
   ]
  },
  {
   "cell_type": "markdown",
   "metadata": {},
   "source": [
    "https://stackoverflow.com/questions/1727772/quickly-reading-very-large-tables-as-dataframes-in-r/15058684#15058684"
   ]
  },
  {
   "cell_type": "markdown",
   "metadata": {},
   "source": [
    "https://s3.amazonaws.com/assets.datacamp.com/blog_assets/datatable_Cheat_Sheet_R.pdf"
   ]
  },
  {
   "cell_type": "code",
   "execution_count": 5,
   "metadata": {
    "collapsed": true
   },
   "outputs": [],
   "source": [
    "library(data.table)\n",
    "library(ggplot2)"
   ]
  },
  {
   "cell_type": "code",
   "execution_count": 6,
   "metadata": {
    "scrolled": true
   },
   "outputs": [
    {
     "data": {
      "text/html": [
       "<ol class=list-inline>\n",
       "\t<li>'clustering.csv'</li>\n",
       "\t<li>'degree_distr.csv'</li>\n",
       "\t<li>'diameter.csv'</li>\n",
       "\t<li>'memoryLog.csv'</li>\n",
       "\t<li>'plot-0100.pdf'</li>\n",
       "\t<li>'tutorial'</li>\n",
       "</ol>\n"
      ],
      "text/latex": [
       "\\begin{enumerate*}\n",
       "\\item 'clustering.csv'\n",
       "\\item 'degree\\_distr.csv'\n",
       "\\item 'diameter.csv'\n",
       "\\item 'memoryLog.csv'\n",
       "\\item 'plot-0100.pdf'\n",
       "\\item 'tutorial'\n",
       "\\end{enumerate*}\n"
      ],
      "text/markdown": [
       "1. 'clustering.csv'\n",
       "2. 'degree_distr.csv'\n",
       "3. 'diameter.csv'\n",
       "4. 'memoryLog.csv'\n",
       "5. 'plot-0100.pdf'\n",
       "6. 'tutorial'\n",
       "\n",
       "\n"
      ],
      "text/plain": [
       "[1] \"clustering.csv\"   \"degree_distr.csv\" \"diameter.csv\"     \"memoryLog.csv\"   \n",
       "[5] \"plot-0100.pdf\"    \"tutorial\"        "
      ]
     },
     "metadata": {},
     "output_type": "display_data"
    }
   ],
   "source": [
    "list.files(path=\"../../log\")"
   ]
  },
  {
   "cell_type": "code",
   "execution_count": 7,
   "metadata": {},
   "outputs": [
    {
     "data": {
      "text/html": [
       "4"
      ],
      "text/latex": [
       "4"
      ],
      "text/markdown": [
       "4"
      ],
      "text/plain": [
       "[1] 4"
      ]
     },
     "metadata": {},
     "output_type": "display_data"
    }
   ],
   "source": [
    "which(list.files(path=\"../../log\") == \"memoryLog.csv\") ## check if file exist"
   ]
  },
  {
   "cell_type": "code",
   "execution_count": 8,
   "metadata": {
    "scrolled": true
   },
   "outputs": [
    {
     "data": {
      "text/plain": [
       "   user  system elapsed \n",
       "   0.39    0.03    0.44 "
      ]
     },
     "metadata": {},
     "output_type": "display_data"
    }
   ],
   "source": [
    "system.time(DT <- fread(\"../../log/memoryLog.csv\"))"
   ]
  },
  {
   "cell_type": "code",
   "execution_count": 9,
   "metadata": {},
   "outputs": [
    {
     "data": {
      "text/html": [
       "<ol class=list-inline>\n",
       "\t<li>'agent'</li>\n",
       "\t<li>'time'</li>\n",
       "\t<li>'state'</li>\n",
       "\t<li>'news0'</li>\n",
       "\t<li>'news1'</li>\n",
       "\t<li>'news2'</li>\n",
       "</ol>\n"
      ],
      "text/latex": [
       "\\begin{enumerate*}\n",
       "\\item 'agent'\n",
       "\\item 'time'\n",
       "\\item 'state'\n",
       "\\item 'news0'\n",
       "\\item 'news1'\n",
       "\\item 'news2'\n",
       "\\end{enumerate*}\n"
      ],
      "text/markdown": [
       "1. 'agent'\n",
       "2. 'time'\n",
       "3. 'state'\n",
       "4. 'news0'\n",
       "5. 'news1'\n",
       "6. 'news2'\n",
       "\n",
       "\n"
      ],
      "text/plain": [
       "[1] \"agent\" \"time\"  \"state\" \"news0\" \"news1\" \"news2\""
      ]
     },
     "metadata": {},
     "output_type": "display_data"
    }
   ],
   "source": [
    "names(DT) ## come csv normale"
   ]
  },
  {
   "cell_type": "code",
   "execution_count": 15,
   "metadata": {
    "scrolled": true
   },
   "outputs": [
    {
     "data": {
      "text/html": [
       "<table>\n",
       "<thead><tr><th scope=col>agent</th><th scope=col>time</th><th scope=col>state</th><th scope=col>news0</th><th scope=col>news1</th><th scope=col>news2</th></tr></thead>\n",
       "<tbody>\n",
       "\t<tr><td> 0              </td><td>1               </td><td>x               </td><td>cfc8c2a25d5348a6</td><td>0               </td><td>0               </td></tr>\n",
       "\t<tr><td> 1              </td><td>1               </td><td>x               </td><td>e26d1eaed7a51926</td><td>0               </td><td>0               </td></tr>\n",
       "\t<tr><td> 2              </td><td>1               </td><td>x               </td><td>c4024b2c27086d24</td><td>0               </td><td>0               </td></tr>\n",
       "\t<tr><td> 3              </td><td>1               </td><td>x               </td><td>a0192c1b9104647b</td><td>0               </td><td>0               </td></tr>\n",
       "\t<tr><td> 4              </td><td>1               </td><td>x               </td><td>11f3b20def66f969</td><td>0               </td><td>0               </td></tr>\n",
       "\t<tr><td> 5              </td><td>1               </td><td>x               </td><td>000040585040e4ca</td><td>0               </td><td>0               </td></tr>\n",
       "\t<tr><td> 6              </td><td>1               </td><td>d               </td><td>0               </td><td>0               </td><td>0               </td></tr>\n",
       "\t<tr><td> 7              </td><td>1               </td><td>d               </td><td>0               </td><td>0               </td><td>0               </td></tr>\n",
       "\t<tr><td> 8              </td><td>1               </td><td>d               </td><td>0               </td><td>0               </td><td>0               </td></tr>\n",
       "\t<tr><td> 9              </td><td>1               </td><td>d               </td><td>0               </td><td>0               </td><td>0               </td></tr>\n",
       "\t<tr><td>10              </td><td>1               </td><td>d               </td><td>0               </td><td>0               </td><td>0               </td></tr>\n",
       "\t<tr><td>11              </td><td>1               </td><td>d               </td><td>0               </td><td>0               </td><td>0               </td></tr>\n",
       "\t<tr><td>12              </td><td>1               </td><td>d               </td><td>0               </td><td>0               </td><td>0               </td></tr>\n",
       "\t<tr><td>13              </td><td>1               </td><td>u               </td><td>0               </td><td>0               </td><td>0               </td></tr>\n",
       "\t<tr><td>14              </td><td>1               </td><td>d               </td><td>0               </td><td>0               </td><td>0               </td></tr>\n",
       "\t<tr><td>15              </td><td>1               </td><td>d               </td><td>0               </td><td>0               </td><td>0               </td></tr>\n",
       "\t<tr><td>16              </td><td>1               </td><td>d               </td><td>0               </td><td>0               </td><td>0               </td></tr>\n",
       "\t<tr><td>17              </td><td>1               </td><td>d               </td><td>0               </td><td>0               </td><td>0               </td></tr>\n",
       "\t<tr><td>18              </td><td>1               </td><td>d               </td><td>0               </td><td>0               </td><td>0               </td></tr>\n",
       "\t<tr><td>19              </td><td>1               </td><td>u               </td><td>0               </td><td>0               </td><td>0               </td></tr>\n",
       "\t<tr><td>20              </td><td>1               </td><td>d               </td><td>0               </td><td>0               </td><td>0               </td></tr>\n",
       "\t<tr><td>21              </td><td>1               </td><td>d               </td><td>0               </td><td>0               </td><td>0               </td></tr>\n",
       "\t<tr><td>22              </td><td>1               </td><td>d               </td><td>0               </td><td>0               </td><td>0               </td></tr>\n",
       "\t<tr><td>23              </td><td>1               </td><td>d               </td><td>0               </td><td>0               </td><td>0               </td></tr>\n",
       "\t<tr><td>24              </td><td>1               </td><td>d               </td><td>0               </td><td>0               </td><td>0               </td></tr>\n",
       "\t<tr><td>25              </td><td>1               </td><td>d               </td><td>0               </td><td>0               </td><td>0               </td></tr>\n",
       "\t<tr><td>26              </td><td>1               </td><td>d               </td><td>0               </td><td>0               </td><td>0               </td></tr>\n",
       "\t<tr><td>27              </td><td>1               </td><td>d               </td><td>0               </td><td>0               </td><td>0               </td></tr>\n",
       "\t<tr><td>28              </td><td>1               </td><td>d               </td><td>0               </td><td>0               </td><td>0               </td></tr>\n",
       "\t<tr><td>29              </td><td>1               </td><td>d               </td><td>0               </td><td>0               </td><td>0               </td></tr>\n",
       "\t<tr><td>...</td><td>...</td><td>...</td><td>...</td><td>...</td><td>...</td></tr>\n",
       "\t<tr><td>476</td><td>1  </td><td>d  </td><td>0  </td><td>0  </td><td>0  </td></tr>\n",
       "\t<tr><td>477</td><td>1  </td><td>d  </td><td>0  </td><td>0  </td><td>0  </td></tr>\n",
       "\t<tr><td>478</td><td>1  </td><td>d  </td><td>0  </td><td>0  </td><td>0  </td></tr>\n",
       "\t<tr><td>479</td><td>1  </td><td>u  </td><td>0  </td><td>0  </td><td>0  </td></tr>\n",
       "\t<tr><td>480</td><td>1  </td><td>d  </td><td>0  </td><td>0  </td><td>0  </td></tr>\n",
       "\t<tr><td>481</td><td>1  </td><td>d  </td><td>0  </td><td>0  </td><td>0  </td></tr>\n",
       "\t<tr><td>482</td><td>1  </td><td>d  </td><td>0  </td><td>0  </td><td>0  </td></tr>\n",
       "\t<tr><td>483</td><td>1  </td><td>d  </td><td>0  </td><td>0  </td><td>0  </td></tr>\n",
       "\t<tr><td>484</td><td>1  </td><td>d  </td><td>0  </td><td>0  </td><td>0  </td></tr>\n",
       "\t<tr><td>485</td><td>1  </td><td>d  </td><td>0  </td><td>0  </td><td>0  </td></tr>\n",
       "\t<tr><td>486</td><td>1  </td><td>d  </td><td>0  </td><td>0  </td><td>0  </td></tr>\n",
       "\t<tr><td>487</td><td>1  </td><td>d  </td><td>0  </td><td>0  </td><td>0  </td></tr>\n",
       "\t<tr><td>488</td><td>1  </td><td>d  </td><td>0  </td><td>0  </td><td>0  </td></tr>\n",
       "\t<tr><td>489</td><td>1  </td><td>d  </td><td>0  </td><td>0  </td><td>0  </td></tr>\n",
       "\t<tr><td>490</td><td>1  </td><td>d  </td><td>0  </td><td>0  </td><td>0  </td></tr>\n",
       "\t<tr><td>491</td><td>1  </td><td>d  </td><td>0  </td><td>0  </td><td>0  </td></tr>\n",
       "\t<tr><td>492</td><td>1  </td><td>u  </td><td>0  </td><td>0  </td><td>0  </td></tr>\n",
       "\t<tr><td>493</td><td>1  </td><td>d  </td><td>0  </td><td>0  </td><td>0  </td></tr>\n",
       "\t<tr><td>494</td><td>1  </td><td>d  </td><td>0  </td><td>0  </td><td>0  </td></tr>\n",
       "\t<tr><td>495</td><td>1  </td><td>u  </td><td>0  </td><td>0  </td><td>0  </td></tr>\n",
       "\t<tr><td>496</td><td>1  </td><td>d  </td><td>0  </td><td>0  </td><td>0  </td></tr>\n",
       "\t<tr><td>497</td><td>1  </td><td>d  </td><td>0  </td><td>0  </td><td>0  </td></tr>\n",
       "\t<tr><td>498</td><td>1  </td><td>d  </td><td>0  </td><td>0  </td><td>0  </td></tr>\n",
       "\t<tr><td>499</td><td>1  </td><td>d  </td><td>0  </td><td>0  </td><td>0  </td></tr>\n",
       "\t<tr><td>500</td><td>1  </td><td>d  </td><td>0  </td><td>0  </td><td>0  </td></tr>\n",
       "\t<tr><td>501</td><td>1  </td><td>d  </td><td>0  </td><td>0  </td><td>0  </td></tr>\n",
       "\t<tr><td>502</td><td>1  </td><td>d  </td><td>0  </td><td>0  </td><td>0  </td></tr>\n",
       "\t<tr><td>503</td><td>1  </td><td>d  </td><td>0  </td><td>0  </td><td>0  </td></tr>\n",
       "\t<tr><td>504</td><td>1  </td><td>d  </td><td>0  </td><td>0  </td><td>0  </td></tr>\n",
       "\t<tr><td>505</td><td>1  </td><td>d  </td><td>0  </td><td>0  </td><td>0  </td></tr>\n",
       "</tbody>\n",
       "</table>\n"
      ],
      "text/latex": [
       "\\begin{tabular}{r|llllll}\n",
       " agent & time & state & news0 & news1 & news2\\\\\n",
       "\\hline\n",
       "\t  0               & 1                & x                & cfc8c2a25d5348a6 & 0                & 0               \\\\\n",
       "\t  1               & 1                & x                & e26d1eaed7a51926 & 0                & 0               \\\\\n",
       "\t  2               & 1                & x                & c4024b2c27086d24 & 0                & 0               \\\\\n",
       "\t  3               & 1                & x                & a0192c1b9104647b & 0                & 0               \\\\\n",
       "\t  4               & 1                & x                & 11f3b20def66f969 & 0                & 0               \\\\\n",
       "\t  5               & 1                & x                & 000040585040e4ca & 0                & 0               \\\\\n",
       "\t  6               & 1                & d                & 0                & 0                & 0               \\\\\n",
       "\t  7               & 1                & d                & 0                & 0                & 0               \\\\\n",
       "\t  8               & 1                & d                & 0                & 0                & 0               \\\\\n",
       "\t  9               & 1                & d                & 0                & 0                & 0               \\\\\n",
       "\t 10               & 1                & d                & 0                & 0                & 0               \\\\\n",
       "\t 11               & 1                & d                & 0                & 0                & 0               \\\\\n",
       "\t 12               & 1                & d                & 0                & 0                & 0               \\\\\n",
       "\t 13               & 1                & u                & 0                & 0                & 0               \\\\\n",
       "\t 14               & 1                & d                & 0                & 0                & 0               \\\\\n",
       "\t 15               & 1                & d                & 0                & 0                & 0               \\\\\n",
       "\t 16               & 1                & d                & 0                & 0                & 0               \\\\\n",
       "\t 17               & 1                & d                & 0                & 0                & 0               \\\\\n",
       "\t 18               & 1                & d                & 0                & 0                & 0               \\\\\n",
       "\t 19               & 1                & u                & 0                & 0                & 0               \\\\\n",
       "\t 20               & 1                & d                & 0                & 0                & 0               \\\\\n",
       "\t 21               & 1                & d                & 0                & 0                & 0               \\\\\n",
       "\t 22               & 1                & d                & 0                & 0                & 0               \\\\\n",
       "\t 23               & 1                & d                & 0                & 0                & 0               \\\\\n",
       "\t 24               & 1                & d                & 0                & 0                & 0               \\\\\n",
       "\t 25               & 1                & d                & 0                & 0                & 0               \\\\\n",
       "\t 26               & 1                & d                & 0                & 0                & 0               \\\\\n",
       "\t 27               & 1                & d                & 0                & 0                & 0               \\\\\n",
       "\t 28               & 1                & d                & 0                & 0                & 0               \\\\\n",
       "\t 29               & 1                & d                & 0                & 0                & 0               \\\\\n",
       "\t ... & ... & ... & ... & ... & ...\\\\\n",
       "\t 476 & 1   & d   & 0   & 0   & 0  \\\\\n",
       "\t 477 & 1   & d   & 0   & 0   & 0  \\\\\n",
       "\t 478 & 1   & d   & 0   & 0   & 0  \\\\\n",
       "\t 479 & 1   & u   & 0   & 0   & 0  \\\\\n",
       "\t 480 & 1   & d   & 0   & 0   & 0  \\\\\n",
       "\t 481 & 1   & d   & 0   & 0   & 0  \\\\\n",
       "\t 482 & 1   & d   & 0   & 0   & 0  \\\\\n",
       "\t 483 & 1   & d   & 0   & 0   & 0  \\\\\n",
       "\t 484 & 1   & d   & 0   & 0   & 0  \\\\\n",
       "\t 485 & 1   & d   & 0   & 0   & 0  \\\\\n",
       "\t 486 & 1   & d   & 0   & 0   & 0  \\\\\n",
       "\t 487 & 1   & d   & 0   & 0   & 0  \\\\\n",
       "\t 488 & 1   & d   & 0   & 0   & 0  \\\\\n",
       "\t 489 & 1   & d   & 0   & 0   & 0  \\\\\n",
       "\t 490 & 1   & d   & 0   & 0   & 0  \\\\\n",
       "\t 491 & 1   & d   & 0   & 0   & 0  \\\\\n",
       "\t 492 & 1   & u   & 0   & 0   & 0  \\\\\n",
       "\t 493 & 1   & d   & 0   & 0   & 0  \\\\\n",
       "\t 494 & 1   & d   & 0   & 0   & 0  \\\\\n",
       "\t 495 & 1   & u   & 0   & 0   & 0  \\\\\n",
       "\t 496 & 1   & d   & 0   & 0   & 0  \\\\\n",
       "\t 497 & 1   & d   & 0   & 0   & 0  \\\\\n",
       "\t 498 & 1   & d   & 0   & 0   & 0  \\\\\n",
       "\t 499 & 1   & d   & 0   & 0   & 0  \\\\\n",
       "\t 500 & 1   & d   & 0   & 0   & 0  \\\\\n",
       "\t 501 & 1   & d   & 0   & 0   & 0  \\\\\n",
       "\t 502 & 1   & d   & 0   & 0   & 0  \\\\\n",
       "\t 503 & 1   & d   & 0   & 0   & 0  \\\\\n",
       "\t 504 & 1   & d   & 0   & 0   & 0  \\\\\n",
       "\t 505 & 1   & d   & 0   & 0   & 0  \\\\\n",
       "\\end{tabular}\n"
      ],
      "text/markdown": [
       "\n",
       "agent | time | state | news0 | news1 | news2 | \n",
       "|---|---|---|---|---|---|---|---|---|---|---|---|---|---|---|---|---|---|---|---|---|---|---|---|---|---|---|---|---|---|---|---|---|---|---|---|---|---|---|---|---|---|---|---|---|---|---|---|---|---|---|---|---|---|---|---|---|---|---|---|---|\n",
       "|  0               | 1                | x                | cfc8c2a25d5348a6 | 0                | 0                | \n",
       "|  1               | 1                | x                | e26d1eaed7a51926 | 0                | 0                | \n",
       "|  2               | 1                | x                | c4024b2c27086d24 | 0                | 0                | \n",
       "|  3               | 1                | x                | a0192c1b9104647b | 0                | 0                | \n",
       "|  4               | 1                | x                | 11f3b20def66f969 | 0                | 0                | \n",
       "|  5               | 1                | x                | 000040585040e4ca | 0                | 0                | \n",
       "|  6               | 1                | d                | 0                | 0                | 0                | \n",
       "|  7               | 1                | d                | 0                | 0                | 0                | \n",
       "|  8               | 1                | d                | 0                | 0                | 0                | \n",
       "|  9               | 1                | d                | 0                | 0                | 0                | \n",
       "| 10               | 1                | d                | 0                | 0                | 0                | \n",
       "| 11               | 1                | d                | 0                | 0                | 0                | \n",
       "| 12               | 1                | d                | 0                | 0                | 0                | \n",
       "| 13               | 1                | u                | 0                | 0                | 0                | \n",
       "| 14               | 1                | d                | 0                | 0                | 0                | \n",
       "| 15               | 1                | d                | 0                | 0                | 0                | \n",
       "| 16               | 1                | d                | 0                | 0                | 0                | \n",
       "| 17               | 1                | d                | 0                | 0                | 0                | \n",
       "| 18               | 1                | d                | 0                | 0                | 0                | \n",
       "| 19               | 1                | u                | 0                | 0                | 0                | \n",
       "| 20               | 1                | d                | 0                | 0                | 0                | \n",
       "| 21               | 1                | d                | 0                | 0                | 0                | \n",
       "| 22               | 1                | d                | 0                | 0                | 0                | \n",
       "| 23               | 1                | d                | 0                | 0                | 0                | \n",
       "| 24               | 1                | d                | 0                | 0                | 0                | \n",
       "| 25               | 1                | d                | 0                | 0                | 0                | \n",
       "| 26               | 1                | d                | 0                | 0                | 0                | \n",
       "| 27               | 1                | d                | 0                | 0                | 0                | \n",
       "| 28               | 1                | d                | 0                | 0                | 0                | \n",
       "| 29               | 1                | d                | 0                | 0                | 0                | \n",
       "| ... | ... | ... | ... | ... | ... | \n",
       "| 476 | 1   | d   | 0   | 0   | 0   | \n",
       "| 477 | 1   | d   | 0   | 0   | 0   | \n",
       "| 478 | 1   | d   | 0   | 0   | 0   | \n",
       "| 479 | 1   | u   | 0   | 0   | 0   | \n",
       "| 480 | 1   | d   | 0   | 0   | 0   | \n",
       "| 481 | 1   | d   | 0   | 0   | 0   | \n",
       "| 482 | 1   | d   | 0   | 0   | 0   | \n",
       "| 483 | 1   | d   | 0   | 0   | 0   | \n",
       "| 484 | 1   | d   | 0   | 0   | 0   | \n",
       "| 485 | 1   | d   | 0   | 0   | 0   | \n",
       "| 486 | 1   | d   | 0   | 0   | 0   | \n",
       "| 487 | 1   | d   | 0   | 0   | 0   | \n",
       "| 488 | 1   | d   | 0   | 0   | 0   | \n",
       "| 489 | 1   | d   | 0   | 0   | 0   | \n",
       "| 490 | 1   | d   | 0   | 0   | 0   | \n",
       "| 491 | 1   | d   | 0   | 0   | 0   | \n",
       "| 492 | 1   | u   | 0   | 0   | 0   | \n",
       "| 493 | 1   | d   | 0   | 0   | 0   | \n",
       "| 494 | 1   | d   | 0   | 0   | 0   | \n",
       "| 495 | 1   | u   | 0   | 0   | 0   | \n",
       "| 496 | 1   | d   | 0   | 0   | 0   | \n",
       "| 497 | 1   | d   | 0   | 0   | 0   | \n",
       "| 498 | 1   | d   | 0   | 0   | 0   | \n",
       "| 499 | 1   | d   | 0   | 0   | 0   | \n",
       "| 500 | 1   | d   | 0   | 0   | 0   | \n",
       "| 501 | 1   | d   | 0   | 0   | 0   | \n",
       "| 502 | 1   | d   | 0   | 0   | 0   | \n",
       "| 503 | 1   | d   | 0   | 0   | 0   | \n",
       "| 504 | 1   | d   | 0   | 0   | 0   | \n",
       "| 505 | 1   | d   | 0   | 0   | 0   | \n",
       "\n",
       "\n"
      ],
      "text/plain": [
       "    agent time state news0            news1 news2\n",
       "1    0    1    x     cfc8c2a25d5348a6 0     0    \n",
       "2    1    1    x     e26d1eaed7a51926 0     0    \n",
       "3    2    1    x     c4024b2c27086d24 0     0    \n",
       "4    3    1    x     a0192c1b9104647b 0     0    \n",
       "5    4    1    x     11f3b20def66f969 0     0    \n",
       "6    5    1    x     000040585040e4ca 0     0    \n",
       "7    6    1    d     0                0     0    \n",
       "8    7    1    d     0                0     0    \n",
       "9    8    1    d     0                0     0    \n",
       "10   9    1    d     0                0     0    \n",
       "11  10    1    d     0                0     0    \n",
       "12  11    1    d     0                0     0    \n",
       "13  12    1    d     0                0     0    \n",
       "14  13    1    u     0                0     0    \n",
       "15  14    1    d     0                0     0    \n",
       "16  15    1    d     0                0     0    \n",
       "17  16    1    d     0                0     0    \n",
       "18  17    1    d     0                0     0    \n",
       "19  18    1    d     0                0     0    \n",
       "20  19    1    u     0                0     0    \n",
       "21  20    1    d     0                0     0    \n",
       "22  21    1    d     0                0     0    \n",
       "23  22    1    d     0                0     0    \n",
       "24  23    1    d     0                0     0    \n",
       "25  24    1    d     0                0     0    \n",
       "26  25    1    d     0                0     0    \n",
       "27  26    1    d     0                0     0    \n",
       "28  27    1    d     0                0     0    \n",
       "29  28    1    d     0                0     0    \n",
       "30  29    1    d     0                0     0    \n",
       "... ...   ...  ...   ...              ...   ...  \n",
       "477 476   1    d     0                0     0    \n",
       "478 477   1    d     0                0     0    \n",
       "479 478   1    d     0                0     0    \n",
       "480 479   1    u     0                0     0    \n",
       "481 480   1    d     0                0     0    \n",
       "482 481   1    d     0                0     0    \n",
       "483 482   1    d     0                0     0    \n",
       "484 483   1    d     0                0     0    \n",
       "485 484   1    d     0                0     0    \n",
       "486 485   1    d     0                0     0    \n",
       "487 486   1    d     0                0     0    \n",
       "488 487   1    d     0                0     0    \n",
       "489 488   1    d     0                0     0    \n",
       "490 489   1    d     0                0     0    \n",
       "491 490   1    d     0                0     0    \n",
       "492 491   1    d     0                0     0    \n",
       "493 492   1    u     0                0     0    \n",
       "494 493   1    d     0                0     0    \n",
       "495 494   1    d     0                0     0    \n",
       "496 495   1    u     0                0     0    \n",
       "497 496   1    d     0                0     0    \n",
       "498 497   1    d     0                0     0    \n",
       "499 498   1    d     0                0     0    \n",
       "500 499   1    d     0                0     0    \n",
       "501 500   1    d     0                0     0    \n",
       "502 501   1    d     0                0     0    \n",
       "503 502   1    d     0                0     0    \n",
       "504 503   1    d     0                0     0    \n",
       "505 504   1    d     0                0     0    \n",
       "506 505   1    d     0                0     0    "
      ]
     },
     "metadata": {},
     "output_type": "display_data"
    }
   ],
   "source": [
    "subset(DT, time == 1) ## come csv normale legge tutte le colonne aventi time == 1"
   ]
  },
  {
   "cell_type": "code",
   "execution_count": 49,
   "metadata": {},
   "outputs": [
    {
     "data": {
      "text/html": [
       "<ol class=list-inline>\n",
       "\t<li>'cfc8c2a25d5348a6'</li>\n",
       "\t<li>'e26d1eaed7a51926'</li>\n",
       "\t<li>'c4024b2c27086d24'</li>\n",
       "\t<li>'a0192c1b9104647b'</li>\n",
       "\t<li>'11f3b20def66f969'</li>\n",
       "\t<li>'000040585040e4ca'</li>\n",
       "</ol>\n"
      ],
      "text/latex": [
       "\\begin{enumerate*}\n",
       "\\item 'cfc8c2a25d5348a6'\n",
       "\\item 'e26d1eaed7a51926'\n",
       "\\item 'c4024b2c27086d24'\n",
       "\\item 'a0192c1b9104647b'\n",
       "\\item '11f3b20def66f969'\n",
       "\\item '000040585040e4ca'\n",
       "\\end{enumerate*}\n"
      ],
      "text/markdown": [
       "1. 'cfc8c2a25d5348a6'\n",
       "2. 'e26d1eaed7a51926'\n",
       "3. 'c4024b2c27086d24'\n",
       "4. 'a0192c1b9104647b'\n",
       "5. '11f3b20def66f969'\n",
       "6. '000040585040e4ca'\n",
       "\n",
       "\n"
      ],
      "text/plain": [
       "[1] \"cfc8c2a25d5348a6\" \"e26d1eaed7a51926\" \"c4024b2c27086d24\" \"a0192c1b9104647b\"\n",
       "[5] \"11f3b20def66f969\" \"000040585040e4ca\""
      ]
     },
     "metadata": {},
     "output_type": "display_data"
    }
   ],
   "source": [
    "newsvec <- DT[1:6,'news0']\n",
    "newsvec <- as.vector(t(newsvec))\n",
    "newsvec"
   ]
  },
  {
   "cell_type": "code",
   "execution_count": 47,
   "metadata": {},
   "outputs": [
    {
     "data": {
      "text/html": [],
      "text/latex": [],
      "text/markdown": [],
      "text/plain": [
       "<0 x 0 matrix>"
      ]
     },
     "metadata": {},
     "output_type": "display_data"
    }
   ],
   "source": [
    "newsvec[1]"
   ]
  },
  {
   "cell_type": "code",
   "execution_count": 33,
   "metadata": {},
   "outputs": [
    {
     "data": {
      "text/html": [
       "<table>\n",
       "<thead><tr><th scope=col>agent</th><th scope=col>time</th><th scope=col>state</th><th scope=col>news0</th><th scope=col>news1</th><th scope=col>news2</th></tr></thead>\n",
       "<tbody>\n",
       "\t<tr><td> 0              </td><td>101             </td><td>x               </td><td>cfc8c2a25d5348a6</td><td>0               </td><td>0               </td></tr>\n",
       "\t<tr><td> 1              </td><td>101             </td><td>x               </td><td>e26d1eaed7a51926</td><td>0               </td><td>0               </td></tr>\n",
       "\t<tr><td> 2              </td><td>101             </td><td>x               </td><td>c4024b2c27086d24</td><td>0               </td><td>0               </td></tr>\n",
       "\t<tr><td> 3              </td><td>101             </td><td>x               </td><td>a0192c1b9104647b</td><td>0               </td><td>0               </td></tr>\n",
       "\t<tr><td> 4              </td><td>101             </td><td>x               </td><td>11f3b20def66f969</td><td>0               </td><td>0               </td></tr>\n",
       "\t<tr><td> 5              </td><td>101             </td><td>x               </td><td>000040585040e4ca</td><td>0               </td><td>0               </td></tr>\n",
       "\t<tr><td> 6              </td><td>101             </td><td>d               </td><td>000040585040e4ca</td><td>a0192c1b9104647b</td><td>e26d1eaed7a51926</td></tr>\n",
       "\t<tr><td> 7              </td><td>101             </td><td>d               </td><td>cfc8c2a25d5348a6</td><td>e26d1eaed7a51926</td><td>000040585040e4ca</td></tr>\n",
       "\t<tr><td> 8              </td><td>101             </td><td>u               </td><td>e26d1eaed7a51926</td><td>000040585040e4ca</td><td>11f3b20def66f969</td></tr>\n",
       "\t<tr><td> 9              </td><td>101             </td><td>u               </td><td>e26d1eaed7a51926</td><td>a0192c1b9104647b</td><td>000040585040e4ca</td></tr>\n",
       "\t<tr><td>10              </td><td>101             </td><td>d               </td><td>e26d1eaed7a51926</td><td>000040585040e4ca</td><td>11f3b20def66f969</td></tr>\n",
       "\t<tr><td>11              </td><td>101             </td><td>d               </td><td>e26d1eaed7a51926</td><td>11f3b20def66f969</td><td>000040585040e4ca</td></tr>\n",
       "\t<tr><td>12              </td><td>101             </td><td>u               </td><td>11f3b20def66f969</td><td>a0192c1b9104647b</td><td>000040585040e4ca</td></tr>\n",
       "\t<tr><td>13              </td><td>101             </td><td>u               </td><td>000040585040e4ca</td><td>11f3b20def66f969</td><td>cfc8c2a25d5348a6</td></tr>\n",
       "\t<tr><td>14              </td><td>101             </td><td>d               </td><td>cfc8c2a25d5348a6</td><td>e26d1eaed7a51926</td><td>0               </td></tr>\n",
       "\t<tr><td>15              </td><td>101             </td><td>u               </td><td>11f3b20def66f969</td><td>e26d1eaed7a51926</td><td>000040585040e4ca</td></tr>\n",
       "\t<tr><td>16              </td><td>101             </td><td>d               </td><td>11f3b20def66f969</td><td>e26d1eaed7a51926</td><td>0               </td></tr>\n",
       "\t<tr><td>17              </td><td>101             </td><td>d               </td><td>000040585040e4ca</td><td>11f3b20def66f969</td><td>a0192c1b9104647b</td></tr>\n",
       "\t<tr><td>18              </td><td>101             </td><td>u               </td><td>000040585040e4ca</td><td>11f3b20def66f969</td><td>e26d1eaed7a51926</td></tr>\n",
       "\t<tr><td>19              </td><td>101             </td><td>d               </td><td>e26d1eaed7a51926</td><td>0               </td><td>0               </td></tr>\n",
       "\t<tr><td>20              </td><td>101             </td><td>d               </td><td>000040585040e4ca</td><td>e26d1eaed7a51926</td><td>0               </td></tr>\n",
       "\t<tr><td>21              </td><td>101             </td><td>d               </td><td>000040585040e4ca</td><td>e26d1eaed7a51926</td><td>cfc8c2a25d5348a6</td></tr>\n",
       "\t<tr><td>22              </td><td>101             </td><td>d               </td><td>11f3b20def66f969</td><td>e26d1eaed7a51926</td><td>000040585040e4ca</td></tr>\n",
       "\t<tr><td>23              </td><td>101             </td><td>u               </td><td>11f3b20def66f969</td><td>e26d1eaed7a51926</td><td>000040585040e4ca</td></tr>\n",
       "\t<tr><td>24              </td><td>101             </td><td>u               </td><td>11f3b20def66f969</td><td>000040585040e4ca</td><td>0               </td></tr>\n",
       "\t<tr><td>25              </td><td>101             </td><td>d               </td><td>11f3b20def66f969</td><td>0               </td><td>0               </td></tr>\n",
       "\t<tr><td>26              </td><td>101             </td><td>u               </td><td>cfc8c2a25d5348a6</td><td>11f3b20def66f969</td><td>e26d1eaed7a51926</td></tr>\n",
       "\t<tr><td>27              </td><td>101             </td><td>d               </td><td>a0192c1b9104647b</td><td>11f3b20def66f969</td><td>000040585040e4ca</td></tr>\n",
       "\t<tr><td>28              </td><td>101             </td><td>d               </td><td>e26d1eaed7a51926</td><td>c4024b2c27086d24</td><td>000040585040e4ca</td></tr>\n",
       "\t<tr><td>29              </td><td>101             </td><td>d               </td><td>11f3b20def66f969</td><td>000040585040e4ca</td><td>e26d1eaed7a51926</td></tr>\n",
       "\t<tr><td>...</td><td>...</td><td>...</td><td>...</td><td>...</td><td>...</td></tr>\n",
       "\t<tr><td>476             </td><td>101             </td><td>u               </td><td>000040585040e4ca</td><td>a0192c1b9104647b</td><td>e26d1eaed7a51926</td></tr>\n",
       "\t<tr><td>477             </td><td>101             </td><td>d               </td><td>e26d1eaed7a51926</td><td>11f3b20def66f969</td><td>cfc8c2a25d5348a6</td></tr>\n",
       "\t<tr><td>478             </td><td>101             </td><td>u               </td><td>e26d1eaed7a51926</td><td>11f3b20def66f969</td><td>000040585040e4ca</td></tr>\n",
       "\t<tr><td>479             </td><td>101             </td><td>u               </td><td>a0192c1b9104647b</td><td>000040585040e4ca</td><td>0               </td></tr>\n",
       "\t<tr><td>480             </td><td>101             </td><td>d               </td><td>c4024b2c27086d24</td><td>11f3b20def66f969</td><td>0               </td></tr>\n",
       "\t<tr><td>481             </td><td>101             </td><td>u               </td><td>a0192c1b9104647b</td><td>e26d1eaed7a51926</td><td>000040585040e4ca</td></tr>\n",
       "\t<tr><td>482             </td><td>101             </td><td>u               </td><td>e26d1eaed7a51926</td><td>000040585040e4ca</td><td>11f3b20def66f969</td></tr>\n",
       "\t<tr><td>483             </td><td>101             </td><td>d               </td><td>e26d1eaed7a51926</td><td>11f3b20def66f969</td><td>0               </td></tr>\n",
       "\t<tr><td>484             </td><td>101             </td><td>d               </td><td>11f3b20def66f969</td><td>000040585040e4ca</td><td>e26d1eaed7a51926</td></tr>\n",
       "\t<tr><td>485             </td><td>101             </td><td>u               </td><td>c4024b2c27086d24</td><td>e26d1eaed7a51926</td><td>000040585040e4ca</td></tr>\n",
       "\t<tr><td>486             </td><td>101             </td><td>d               </td><td>c4024b2c27086d24</td><td>000040585040e4ca</td><td>a0192c1b9104647b</td></tr>\n",
       "\t<tr><td>487             </td><td>101             </td><td>d               </td><td>11f3b20def66f969</td><td>cfc8c2a25d5348a6</td><td>0               </td></tr>\n",
       "\t<tr><td>488             </td><td>101             </td><td>d               </td><td>e26d1eaed7a51926</td><td>11f3b20def66f969</td><td>0               </td></tr>\n",
       "\t<tr><td>489             </td><td>101             </td><td>u               </td><td>a0192c1b9104647b</td><td>11f3b20def66f969</td><td>e26d1eaed7a51926</td></tr>\n",
       "\t<tr><td>490             </td><td>101             </td><td>d               </td><td>e26d1eaed7a51926</td><td>11f3b20def66f969</td><td>000040585040e4ca</td></tr>\n",
       "\t<tr><td>491             </td><td>101             </td><td>d               </td><td>11f3b20def66f969</td><td>000040585040e4ca</td><td>e26d1eaed7a51926</td></tr>\n",
       "\t<tr><td>492             </td><td>101             </td><td>d               </td><td>a0192c1b9104647b</td><td>000040585040e4ca</td><td>0               </td></tr>\n",
       "\t<tr><td>493             </td><td>101             </td><td>d               </td><td>11f3b20def66f969</td><td>000040585040e4ca</td><td>e26d1eaed7a51926</td></tr>\n",
       "\t<tr><td>494             </td><td>101             </td><td>u               </td><td>000040585040e4ca</td><td>a0192c1b9104647b</td><td>e26d1eaed7a51926</td></tr>\n",
       "\t<tr><td>495             </td><td>101             </td><td>d               </td><td>e26d1eaed7a51926</td><td>cfc8c2a25d5348a6</td><td>000040585040e4ca</td></tr>\n",
       "\t<tr><td>496             </td><td>101             </td><td>d               </td><td>11f3b20def66f969</td><td>000040585040e4ca</td><td>e26d1eaed7a51926</td></tr>\n",
       "\t<tr><td>497             </td><td>101             </td><td>u               </td><td>000040585040e4ca</td><td>cfc8c2a25d5348a6</td><td>e26d1eaed7a51926</td></tr>\n",
       "\t<tr><td>498             </td><td>101             </td><td>d               </td><td>a0192c1b9104647b</td><td>000040585040e4ca</td><td>e26d1eaed7a51926</td></tr>\n",
       "\t<tr><td>499             </td><td>101             </td><td>d               </td><td>000040585040e4ca</td><td>11f3b20def66f969</td><td>e26d1eaed7a51926</td></tr>\n",
       "\t<tr><td>500             </td><td>101             </td><td>u               </td><td>e26d1eaed7a51926</td><td>11f3b20def66f969</td><td>000040585040e4ca</td></tr>\n",
       "\t<tr><td>501             </td><td>101             </td><td>d               </td><td>e26d1eaed7a51926</td><td>000040585040e4ca</td><td>11f3b20def66f969</td></tr>\n",
       "\t<tr><td>502             </td><td>101             </td><td>d               </td><td>a0192c1b9104647b</td><td>000040585040e4ca</td><td>e26d1eaed7a51926</td></tr>\n",
       "\t<tr><td>503             </td><td>101             </td><td>d               </td><td>11f3b20def66f969</td><td>000040585040e4ca</td><td>e26d1eaed7a51926</td></tr>\n",
       "\t<tr><td>504             </td><td>101             </td><td>d               </td><td>a0192c1b9104647b</td><td>000040585040e4ca</td><td>e26d1eaed7a51926</td></tr>\n",
       "\t<tr><td>505             </td><td>101             </td><td>u               </td><td>cfc8c2a25d5348a6</td><td>e26d1eaed7a51926</td><td>000040585040e4ca</td></tr>\n",
       "</tbody>\n",
       "</table>\n"
      ],
      "text/latex": [
       "\\begin{tabular}{r|llllll}\n",
       " agent & time & state & news0 & news1 & news2\\\\\n",
       "\\hline\n",
       "\t  0               & 101              & x                & cfc8c2a25d5348a6 & 0                & 0               \\\\\n",
       "\t  1               & 101              & x                & e26d1eaed7a51926 & 0                & 0               \\\\\n",
       "\t  2               & 101              & x                & c4024b2c27086d24 & 0                & 0               \\\\\n",
       "\t  3               & 101              & x                & a0192c1b9104647b & 0                & 0               \\\\\n",
       "\t  4               & 101              & x                & 11f3b20def66f969 & 0                & 0               \\\\\n",
       "\t  5               & 101              & x                & 000040585040e4ca & 0                & 0               \\\\\n",
       "\t  6               & 101              & d                & 000040585040e4ca & a0192c1b9104647b & e26d1eaed7a51926\\\\\n",
       "\t  7               & 101              & d                & cfc8c2a25d5348a6 & e26d1eaed7a51926 & 000040585040e4ca\\\\\n",
       "\t  8               & 101              & u                & e26d1eaed7a51926 & 000040585040e4ca & 11f3b20def66f969\\\\\n",
       "\t  9               & 101              & u                & e26d1eaed7a51926 & a0192c1b9104647b & 000040585040e4ca\\\\\n",
       "\t 10               & 101              & d                & e26d1eaed7a51926 & 000040585040e4ca & 11f3b20def66f969\\\\\n",
       "\t 11               & 101              & d                & e26d1eaed7a51926 & 11f3b20def66f969 & 000040585040e4ca\\\\\n",
       "\t 12               & 101              & u                & 11f3b20def66f969 & a0192c1b9104647b & 000040585040e4ca\\\\\n",
       "\t 13               & 101              & u                & 000040585040e4ca & 11f3b20def66f969 & cfc8c2a25d5348a6\\\\\n",
       "\t 14               & 101              & d                & cfc8c2a25d5348a6 & e26d1eaed7a51926 & 0               \\\\\n",
       "\t 15               & 101              & u                & 11f3b20def66f969 & e26d1eaed7a51926 & 000040585040e4ca\\\\\n",
       "\t 16               & 101              & d                & 11f3b20def66f969 & e26d1eaed7a51926 & 0               \\\\\n",
       "\t 17               & 101              & d                & 000040585040e4ca & 11f3b20def66f969 & a0192c1b9104647b\\\\\n",
       "\t 18               & 101              & u                & 000040585040e4ca & 11f3b20def66f969 & e26d1eaed7a51926\\\\\n",
       "\t 19               & 101              & d                & e26d1eaed7a51926 & 0                & 0               \\\\\n",
       "\t 20               & 101              & d                & 000040585040e4ca & e26d1eaed7a51926 & 0               \\\\\n",
       "\t 21               & 101              & d                & 000040585040e4ca & e26d1eaed7a51926 & cfc8c2a25d5348a6\\\\\n",
       "\t 22               & 101              & d                & 11f3b20def66f969 & e26d1eaed7a51926 & 000040585040e4ca\\\\\n",
       "\t 23               & 101              & u                & 11f3b20def66f969 & e26d1eaed7a51926 & 000040585040e4ca\\\\\n",
       "\t 24               & 101              & u                & 11f3b20def66f969 & 000040585040e4ca & 0               \\\\\n",
       "\t 25               & 101              & d                & 11f3b20def66f969 & 0                & 0               \\\\\n",
       "\t 26               & 101              & u                & cfc8c2a25d5348a6 & 11f3b20def66f969 & e26d1eaed7a51926\\\\\n",
       "\t 27               & 101              & d                & a0192c1b9104647b & 11f3b20def66f969 & 000040585040e4ca\\\\\n",
       "\t 28               & 101              & d                & e26d1eaed7a51926 & c4024b2c27086d24 & 000040585040e4ca\\\\\n",
       "\t 29               & 101              & d                & 11f3b20def66f969 & 000040585040e4ca & e26d1eaed7a51926\\\\\n",
       "\t ... & ... & ... & ... & ... & ...\\\\\n",
       "\t 476              & 101              & u                & 000040585040e4ca & a0192c1b9104647b & e26d1eaed7a51926\\\\\n",
       "\t 477              & 101              & d                & e26d1eaed7a51926 & 11f3b20def66f969 & cfc8c2a25d5348a6\\\\\n",
       "\t 478              & 101              & u                & e26d1eaed7a51926 & 11f3b20def66f969 & 000040585040e4ca\\\\\n",
       "\t 479              & 101              & u                & a0192c1b9104647b & 000040585040e4ca & 0               \\\\\n",
       "\t 480              & 101              & d                & c4024b2c27086d24 & 11f3b20def66f969 & 0               \\\\\n",
       "\t 481              & 101              & u                & a0192c1b9104647b & e26d1eaed7a51926 & 000040585040e4ca\\\\\n",
       "\t 482              & 101              & u                & e26d1eaed7a51926 & 000040585040e4ca & 11f3b20def66f969\\\\\n",
       "\t 483              & 101              & d                & e26d1eaed7a51926 & 11f3b20def66f969 & 0               \\\\\n",
       "\t 484              & 101              & d                & 11f3b20def66f969 & 000040585040e4ca & e26d1eaed7a51926\\\\\n",
       "\t 485              & 101              & u                & c4024b2c27086d24 & e26d1eaed7a51926 & 000040585040e4ca\\\\\n",
       "\t 486              & 101              & d                & c4024b2c27086d24 & 000040585040e4ca & a0192c1b9104647b\\\\\n",
       "\t 487              & 101              & d                & 11f3b20def66f969 & cfc8c2a25d5348a6 & 0               \\\\\n",
       "\t 488              & 101              & d                & e26d1eaed7a51926 & 11f3b20def66f969 & 0               \\\\\n",
       "\t 489              & 101              & u                & a0192c1b9104647b & 11f3b20def66f969 & e26d1eaed7a51926\\\\\n",
       "\t 490              & 101              & d                & e26d1eaed7a51926 & 11f3b20def66f969 & 000040585040e4ca\\\\\n",
       "\t 491              & 101              & d                & 11f3b20def66f969 & 000040585040e4ca & e26d1eaed7a51926\\\\\n",
       "\t 492              & 101              & d                & a0192c1b9104647b & 000040585040e4ca & 0               \\\\\n",
       "\t 493              & 101              & d                & 11f3b20def66f969 & 000040585040e4ca & e26d1eaed7a51926\\\\\n",
       "\t 494              & 101              & u                & 000040585040e4ca & a0192c1b9104647b & e26d1eaed7a51926\\\\\n",
       "\t 495              & 101              & d                & e26d1eaed7a51926 & cfc8c2a25d5348a6 & 000040585040e4ca\\\\\n",
       "\t 496              & 101              & d                & 11f3b20def66f969 & 000040585040e4ca & e26d1eaed7a51926\\\\\n",
       "\t 497              & 101              & u                & 000040585040e4ca & cfc8c2a25d5348a6 & e26d1eaed7a51926\\\\\n",
       "\t 498              & 101              & d                & a0192c1b9104647b & 000040585040e4ca & e26d1eaed7a51926\\\\\n",
       "\t 499              & 101              & d                & 000040585040e4ca & 11f3b20def66f969 & e26d1eaed7a51926\\\\\n",
       "\t 500              & 101              & u                & e26d1eaed7a51926 & 11f3b20def66f969 & 000040585040e4ca\\\\\n",
       "\t 501              & 101              & d                & e26d1eaed7a51926 & 000040585040e4ca & 11f3b20def66f969\\\\\n",
       "\t 502              & 101              & d                & a0192c1b9104647b & 000040585040e4ca & e26d1eaed7a51926\\\\\n",
       "\t 503              & 101              & d                & 11f3b20def66f969 & 000040585040e4ca & e26d1eaed7a51926\\\\\n",
       "\t 504              & 101              & d                & a0192c1b9104647b & 000040585040e4ca & e26d1eaed7a51926\\\\\n",
       "\t 505              & 101              & u                & cfc8c2a25d5348a6 & e26d1eaed7a51926 & 000040585040e4ca\\\\\n",
       "\\end{tabular}\n"
      ],
      "text/markdown": [
       "\n",
       "agent | time | state | news0 | news1 | news2 | \n",
       "|---|---|---|---|---|---|---|---|---|---|---|---|---|---|---|---|---|---|---|---|---|---|---|---|---|---|---|---|---|---|---|---|---|---|---|---|---|---|---|---|---|---|---|---|---|---|---|---|---|---|---|---|---|---|---|---|---|---|---|---|---|\n",
       "|  0               | 101              | x                | cfc8c2a25d5348a6 | 0                | 0                | \n",
       "|  1               | 101              | x                | e26d1eaed7a51926 | 0                | 0                | \n",
       "|  2               | 101              | x                | c4024b2c27086d24 | 0                | 0                | \n",
       "|  3               | 101              | x                | a0192c1b9104647b | 0                | 0                | \n",
       "|  4               | 101              | x                | 11f3b20def66f969 | 0                | 0                | \n",
       "|  5               | 101              | x                | 000040585040e4ca | 0                | 0                | \n",
       "|  6               | 101              | d                | 000040585040e4ca | a0192c1b9104647b | e26d1eaed7a51926 | \n",
       "|  7               | 101              | d                | cfc8c2a25d5348a6 | e26d1eaed7a51926 | 000040585040e4ca | \n",
       "|  8               | 101              | u                | e26d1eaed7a51926 | 000040585040e4ca | 11f3b20def66f969 | \n",
       "|  9               | 101              | u                | e26d1eaed7a51926 | a0192c1b9104647b | 000040585040e4ca | \n",
       "| 10               | 101              | d                | e26d1eaed7a51926 | 000040585040e4ca | 11f3b20def66f969 | \n",
       "| 11               | 101              | d                | e26d1eaed7a51926 | 11f3b20def66f969 | 000040585040e4ca | \n",
       "| 12               | 101              | u                | 11f3b20def66f969 | a0192c1b9104647b | 000040585040e4ca | \n",
       "| 13               | 101              | u                | 000040585040e4ca | 11f3b20def66f969 | cfc8c2a25d5348a6 | \n",
       "| 14               | 101              | d                | cfc8c2a25d5348a6 | e26d1eaed7a51926 | 0                | \n",
       "| 15               | 101              | u                | 11f3b20def66f969 | e26d1eaed7a51926 | 000040585040e4ca | \n",
       "| 16               | 101              | d                | 11f3b20def66f969 | e26d1eaed7a51926 | 0                | \n",
       "| 17               | 101              | d                | 000040585040e4ca | 11f3b20def66f969 | a0192c1b9104647b | \n",
       "| 18               | 101              | u                | 000040585040e4ca | 11f3b20def66f969 | e26d1eaed7a51926 | \n",
       "| 19               | 101              | d                | e26d1eaed7a51926 | 0                | 0                | \n",
       "| 20               | 101              | d                | 000040585040e4ca | e26d1eaed7a51926 | 0                | \n",
       "| 21               | 101              | d                | 000040585040e4ca | e26d1eaed7a51926 | cfc8c2a25d5348a6 | \n",
       "| 22               | 101              | d                | 11f3b20def66f969 | e26d1eaed7a51926 | 000040585040e4ca | \n",
       "| 23               | 101              | u                | 11f3b20def66f969 | e26d1eaed7a51926 | 000040585040e4ca | \n",
       "| 24               | 101              | u                | 11f3b20def66f969 | 000040585040e4ca | 0                | \n",
       "| 25               | 101              | d                | 11f3b20def66f969 | 0                | 0                | \n",
       "| 26               | 101              | u                | cfc8c2a25d5348a6 | 11f3b20def66f969 | e26d1eaed7a51926 | \n",
       "| 27               | 101              | d                | a0192c1b9104647b | 11f3b20def66f969 | 000040585040e4ca | \n",
       "| 28               | 101              | d                | e26d1eaed7a51926 | c4024b2c27086d24 | 000040585040e4ca | \n",
       "| 29               | 101              | d                | 11f3b20def66f969 | 000040585040e4ca | e26d1eaed7a51926 | \n",
       "| ... | ... | ... | ... | ... | ... | \n",
       "| 476              | 101              | u                | 000040585040e4ca | a0192c1b9104647b | e26d1eaed7a51926 | \n",
       "| 477              | 101              | d                | e26d1eaed7a51926 | 11f3b20def66f969 | cfc8c2a25d5348a6 | \n",
       "| 478              | 101              | u                | e26d1eaed7a51926 | 11f3b20def66f969 | 000040585040e4ca | \n",
       "| 479              | 101              | u                | a0192c1b9104647b | 000040585040e4ca | 0                | \n",
       "| 480              | 101              | d                | c4024b2c27086d24 | 11f3b20def66f969 | 0                | \n",
       "| 481              | 101              | u                | a0192c1b9104647b | e26d1eaed7a51926 | 000040585040e4ca | \n",
       "| 482              | 101              | u                | e26d1eaed7a51926 | 000040585040e4ca | 11f3b20def66f969 | \n",
       "| 483              | 101              | d                | e26d1eaed7a51926 | 11f3b20def66f969 | 0                | \n",
       "| 484              | 101              | d                | 11f3b20def66f969 | 000040585040e4ca | e26d1eaed7a51926 | \n",
       "| 485              | 101              | u                | c4024b2c27086d24 | e26d1eaed7a51926 | 000040585040e4ca | \n",
       "| 486              | 101              | d                | c4024b2c27086d24 | 000040585040e4ca | a0192c1b9104647b | \n",
       "| 487              | 101              | d                | 11f3b20def66f969 | cfc8c2a25d5348a6 | 0                | \n",
       "| 488              | 101              | d                | e26d1eaed7a51926 | 11f3b20def66f969 | 0                | \n",
       "| 489              | 101              | u                | a0192c1b9104647b | 11f3b20def66f969 | e26d1eaed7a51926 | \n",
       "| 490              | 101              | d                | e26d1eaed7a51926 | 11f3b20def66f969 | 000040585040e4ca | \n",
       "| 491              | 101              | d                | 11f3b20def66f969 | 000040585040e4ca | e26d1eaed7a51926 | \n",
       "| 492              | 101              | d                | a0192c1b9104647b | 000040585040e4ca | 0                | \n",
       "| 493              | 101              | d                | 11f3b20def66f969 | 000040585040e4ca | e26d1eaed7a51926 | \n",
       "| 494              | 101              | u                | 000040585040e4ca | a0192c1b9104647b | e26d1eaed7a51926 | \n",
       "| 495              | 101              | d                | e26d1eaed7a51926 | cfc8c2a25d5348a6 | 000040585040e4ca | \n",
       "| 496              | 101              | d                | 11f3b20def66f969 | 000040585040e4ca | e26d1eaed7a51926 | \n",
       "| 497              | 101              | u                | 000040585040e4ca | cfc8c2a25d5348a6 | e26d1eaed7a51926 | \n",
       "| 498              | 101              | d                | a0192c1b9104647b | 000040585040e4ca | e26d1eaed7a51926 | \n",
       "| 499              | 101              | d                | 000040585040e4ca | 11f3b20def66f969 | e26d1eaed7a51926 | \n",
       "| 500              | 101              | u                | e26d1eaed7a51926 | 11f3b20def66f969 | 000040585040e4ca | \n",
       "| 501              | 101              | d                | e26d1eaed7a51926 | 000040585040e4ca | 11f3b20def66f969 | \n",
       "| 502              | 101              | d                | a0192c1b9104647b | 000040585040e4ca | e26d1eaed7a51926 | \n",
       "| 503              | 101              | d                | 11f3b20def66f969 | 000040585040e4ca | e26d1eaed7a51926 | \n",
       "| 504              | 101              | d                | a0192c1b9104647b | 000040585040e4ca | e26d1eaed7a51926 | \n",
       "| 505              | 101              | u                | cfc8c2a25d5348a6 | e26d1eaed7a51926 | 000040585040e4ca | \n",
       "\n",
       "\n"
      ],
      "text/plain": [
       "    agent time state news0            news1            news2           \n",
       "1    0    101  x     cfc8c2a25d5348a6 0                0               \n",
       "2    1    101  x     e26d1eaed7a51926 0                0               \n",
       "3    2    101  x     c4024b2c27086d24 0                0               \n",
       "4    3    101  x     a0192c1b9104647b 0                0               \n",
       "5    4    101  x     11f3b20def66f969 0                0               \n",
       "6    5    101  x     000040585040e4ca 0                0               \n",
       "7    6    101  d     000040585040e4ca a0192c1b9104647b e26d1eaed7a51926\n",
       "8    7    101  d     cfc8c2a25d5348a6 e26d1eaed7a51926 000040585040e4ca\n",
       "9    8    101  u     e26d1eaed7a51926 000040585040e4ca 11f3b20def66f969\n",
       "10   9    101  u     e26d1eaed7a51926 a0192c1b9104647b 000040585040e4ca\n",
       "11  10    101  d     e26d1eaed7a51926 000040585040e4ca 11f3b20def66f969\n",
       "12  11    101  d     e26d1eaed7a51926 11f3b20def66f969 000040585040e4ca\n",
       "13  12    101  u     11f3b20def66f969 a0192c1b9104647b 000040585040e4ca\n",
       "14  13    101  u     000040585040e4ca 11f3b20def66f969 cfc8c2a25d5348a6\n",
       "15  14    101  d     cfc8c2a25d5348a6 e26d1eaed7a51926 0               \n",
       "16  15    101  u     11f3b20def66f969 e26d1eaed7a51926 000040585040e4ca\n",
       "17  16    101  d     11f3b20def66f969 e26d1eaed7a51926 0               \n",
       "18  17    101  d     000040585040e4ca 11f3b20def66f969 a0192c1b9104647b\n",
       "19  18    101  u     000040585040e4ca 11f3b20def66f969 e26d1eaed7a51926\n",
       "20  19    101  d     e26d1eaed7a51926 0                0               \n",
       "21  20    101  d     000040585040e4ca e26d1eaed7a51926 0               \n",
       "22  21    101  d     000040585040e4ca e26d1eaed7a51926 cfc8c2a25d5348a6\n",
       "23  22    101  d     11f3b20def66f969 e26d1eaed7a51926 000040585040e4ca\n",
       "24  23    101  u     11f3b20def66f969 e26d1eaed7a51926 000040585040e4ca\n",
       "25  24    101  u     11f3b20def66f969 000040585040e4ca 0               \n",
       "26  25    101  d     11f3b20def66f969 0                0               \n",
       "27  26    101  u     cfc8c2a25d5348a6 11f3b20def66f969 e26d1eaed7a51926\n",
       "28  27    101  d     a0192c1b9104647b 11f3b20def66f969 000040585040e4ca\n",
       "29  28    101  d     e26d1eaed7a51926 c4024b2c27086d24 000040585040e4ca\n",
       "30  29    101  d     11f3b20def66f969 000040585040e4ca e26d1eaed7a51926\n",
       "... ...   ...  ...   ...              ...              ...             \n",
       "477 476   101  u     000040585040e4ca a0192c1b9104647b e26d1eaed7a51926\n",
       "478 477   101  d     e26d1eaed7a51926 11f3b20def66f969 cfc8c2a25d5348a6\n",
       "479 478   101  u     e26d1eaed7a51926 11f3b20def66f969 000040585040e4ca\n",
       "480 479   101  u     a0192c1b9104647b 000040585040e4ca 0               \n",
       "481 480   101  d     c4024b2c27086d24 11f3b20def66f969 0               \n",
       "482 481   101  u     a0192c1b9104647b e26d1eaed7a51926 000040585040e4ca\n",
       "483 482   101  u     e26d1eaed7a51926 000040585040e4ca 11f3b20def66f969\n",
       "484 483   101  d     e26d1eaed7a51926 11f3b20def66f969 0               \n",
       "485 484   101  d     11f3b20def66f969 000040585040e4ca e26d1eaed7a51926\n",
       "486 485   101  u     c4024b2c27086d24 e26d1eaed7a51926 000040585040e4ca\n",
       "487 486   101  d     c4024b2c27086d24 000040585040e4ca a0192c1b9104647b\n",
       "488 487   101  d     11f3b20def66f969 cfc8c2a25d5348a6 0               \n",
       "489 488   101  d     e26d1eaed7a51926 11f3b20def66f969 0               \n",
       "490 489   101  u     a0192c1b9104647b 11f3b20def66f969 e26d1eaed7a51926\n",
       "491 490   101  d     e26d1eaed7a51926 11f3b20def66f969 000040585040e4ca\n",
       "492 491   101  d     11f3b20def66f969 000040585040e4ca e26d1eaed7a51926\n",
       "493 492   101  d     a0192c1b9104647b 000040585040e4ca 0               \n",
       "494 493   101  d     11f3b20def66f969 000040585040e4ca e26d1eaed7a51926\n",
       "495 494   101  u     000040585040e4ca a0192c1b9104647b e26d1eaed7a51926\n",
       "496 495   101  d     e26d1eaed7a51926 cfc8c2a25d5348a6 000040585040e4ca\n",
       "497 496   101  d     11f3b20def66f969 000040585040e4ca e26d1eaed7a51926\n",
       "498 497   101  u     000040585040e4ca cfc8c2a25d5348a6 e26d1eaed7a51926\n",
       "499 498   101  d     a0192c1b9104647b 000040585040e4ca e26d1eaed7a51926\n",
       "500 499   101  d     000040585040e4ca 11f3b20def66f969 e26d1eaed7a51926\n",
       "501 500   101  u     e26d1eaed7a51926 11f3b20def66f969 000040585040e4ca\n",
       "502 501   101  d     e26d1eaed7a51926 000040585040e4ca 11f3b20def66f969\n",
       "503 502   101  d     a0192c1b9104647b 000040585040e4ca e26d1eaed7a51926\n",
       "504 503   101  d     11f3b20def66f969 000040585040e4ca e26d1eaed7a51926\n",
       "505 504   101  d     a0192c1b9104647b 000040585040e4ca e26d1eaed7a51926\n",
       "506 505   101  u     cfc8c2a25d5348a6 e26d1eaed7a51926 000040585040e4ca"
      ]
     },
     "metadata": {},
     "output_type": "display_data"
    }
   ],
   "source": [
    "subset(DT, time == 101)"
   ]
  },
  {
   "cell_type": "code",
   "execution_count": 55,
   "metadata": {},
   "outputs": [
    {
     "data": {
      "text/html": [
       "0"
      ],
      "text/latex": [
       "0"
      ],
      "text/markdown": [
       "0"
      ],
      "text/plain": [
       "[1] 0"
      ]
     },
     "metadata": {},
     "output_type": "display_data"
    }
   ],
   "source": [
    "sum(apply(subset(DT, time == 101),1,function(x) length(which(x==newsvec[0]))))"
   ]
  },
  {
   "cell_type": "code",
   "execution_count": 12,
   "metadata": {
    "collapsed": true,
    "scrolled": true
   },
   "outputs": [],
   "source": [
    "maxtime = DT[][which.max(time)]$time"
   ]
  },
  {
   "cell_type": "code",
   "execution_count": 57,
   "metadata": {
    "scrolled": true
   },
   "outputs": [
    {
     "data": {
      "text/html": [
       "<table>\n",
       "<thead><tr><th scope=col>n1</th><th scope=col>n2</th><th scope=col>n3</th><th scope=col>n4</th><th scope=col>n5</th><th scope=col>n6</th></tr></thead>\n",
       "<tbody>\n",
       "\t<tr><td> 1 </td><td>  1</td><td> 1 </td><td>  1</td><td>  1</td><td>  1</td></tr>\n",
       "\t<tr><td> 5 </td><td>  8</td><td> 5 </td><td>  3</td><td>  9</td><td> 11</td></tr>\n",
       "\t<tr><td> 6 </td><td>  8</td><td> 6 </td><td>  3</td><td> 10</td><td> 15</td></tr>\n",
       "\t<tr><td>30 </td><td> 39</td><td>29 </td><td> 27</td><td> 47</td><td> 56</td></tr>\n",
       "\t<tr><td>62 </td><td>124</td><td>52 </td><td> 84</td><td>109</td><td>109</td></tr>\n",
       "\t<tr><td>77 </td><td>208</td><td>54 </td><td>158</td><td>191</td><td>129</td></tr>\n",
       "\t<tr><td>77 </td><td>229</td><td>54 </td><td>189</td><td>205</td><td>134</td></tr>\n",
       "\t<tr><td>79 </td><td>243</td><td>54 </td><td>201</td><td>205</td><td>132</td></tr>\n",
       "\t<tr><td>78 </td><td>249</td><td>53 </td><td>208</td><td>214</td><td>132</td></tr>\n",
       "\t<tr><td>78 </td><td>263</td><td>50 </td><td>224</td><td>225</td><td>136</td></tr>\n",
       "\t<tr><td>84 </td><td>279</td><td>48 </td><td>234</td><td>230</td><td>130</td></tr>\n",
       "\t<tr><td>87 </td><td>282</td><td>46 </td><td>243</td><td>241</td><td>132</td></tr>\n",
       "\t<tr><td>86 </td><td>288</td><td>44 </td><td>250</td><td>247</td><td>140</td></tr>\n",
       "\t<tr><td>84 </td><td>291</td><td>42 </td><td>242</td><td>248</td><td>168</td></tr>\n",
       "\t<tr><td>85 </td><td>292</td><td>40 </td><td>240</td><td>251</td><td>198</td></tr>\n",
       "\t<tr><td>84 </td><td>289</td><td>36 </td><td>240</td><td>257</td><td>215</td></tr>\n",
       "\t<tr><td>83 </td><td>295</td><td>34 </td><td>237</td><td>261</td><td>223</td></tr>\n",
       "\t<tr><td>81 </td><td>294</td><td>32 </td><td>234</td><td>264</td><td>241</td></tr>\n",
       "\t<tr><td>83 </td><td>298</td><td>29 </td><td>229</td><td>263</td><td>259</td></tr>\n",
       "\t<tr><td>82 </td><td>300</td><td>29 </td><td>225</td><td>264</td><td>272</td></tr>\n",
       "\t<tr><td>81 </td><td>303</td><td>29 </td><td>220</td><td>269</td><td>277</td></tr>\n",
       "\t<tr><td>81 </td><td>305</td><td>29 </td><td>219</td><td>273</td><td>280</td></tr>\n",
       "\t<tr><td>81 </td><td>308</td><td>29 </td><td>213</td><td>277</td><td>288</td></tr>\n",
       "\t<tr><td>82 </td><td>313</td><td>28 </td><td>211</td><td>277</td><td>290</td></tr>\n",
       "\t<tr><td>85 </td><td>316</td><td>26 </td><td>205</td><td>279</td><td>299</td></tr>\n",
       "\t<tr><td>84 </td><td>317</td><td>26 </td><td>205</td><td>278</td><td>304</td></tr>\n",
       "\t<tr><td>85 </td><td>323</td><td>23 </td><td>201</td><td>280</td><td>307</td></tr>\n",
       "\t<tr><td>87 </td><td>326</td><td>25 </td><td>199</td><td>279</td><td>309</td></tr>\n",
       "\t<tr><td>86 </td><td>329</td><td>25 </td><td>197</td><td>281</td><td>309</td></tr>\n",
       "\t<tr><td>89 </td><td>332</td><td>26 </td><td>192</td><td>284</td><td>308</td></tr>\n",
       "\t<tr><td>...</td><td>...</td><td>...</td><td>...</td><td>...</td><td>...</td></tr>\n",
       "\t<tr><td>273</td><td>408</td><td>2  </td><td>15 </td><td>378</td><td>424</td></tr>\n",
       "\t<tr><td>274</td><td>408</td><td>2  </td><td>15 </td><td>377</td><td>424</td></tr>\n",
       "\t<tr><td>274</td><td>406</td><td>2  </td><td>15 </td><td>379</td><td>424</td></tr>\n",
       "\t<tr><td>274</td><td>406</td><td>2  </td><td>15 </td><td>379</td><td>424</td></tr>\n",
       "\t<tr><td>272</td><td>408</td><td>2  </td><td>15 </td><td>380</td><td>423</td></tr>\n",
       "\t<tr><td>271</td><td>409</td><td>2  </td><td>15 </td><td>380</td><td>423</td></tr>\n",
       "\t<tr><td>271</td><td>408</td><td>2  </td><td>15 </td><td>381</td><td>423</td></tr>\n",
       "\t<tr><td>272</td><td>408</td><td>2  </td><td>15 </td><td>381</td><td>422</td></tr>\n",
       "\t<tr><td>272</td><td>408</td><td>2  </td><td>15 </td><td>381</td><td>422</td></tr>\n",
       "\t<tr><td>272</td><td>408</td><td>2  </td><td>15 </td><td>381</td><td>422</td></tr>\n",
       "\t<tr><td>271</td><td>408</td><td>2  </td><td>15 </td><td>381</td><td>423</td></tr>\n",
       "\t<tr><td>271</td><td>409</td><td>2  </td><td>14 </td><td>381</td><td>423</td></tr>\n",
       "\t<tr><td>271</td><td>409</td><td>2  </td><td>14 </td><td>380</td><td>424</td></tr>\n",
       "\t<tr><td>271</td><td>409</td><td>2  </td><td>14 </td><td>380</td><td>424</td></tr>\n",
       "\t<tr><td>270</td><td>409</td><td>2  </td><td>14 </td><td>381</td><td>424</td></tr>\n",
       "\t<tr><td>270</td><td>409</td><td>2  </td><td>14 </td><td>381</td><td>424</td></tr>\n",
       "\t<tr><td>270</td><td>409</td><td>2  </td><td>14 </td><td>381</td><td>424</td></tr>\n",
       "\t<tr><td>271</td><td>410</td><td>2  </td><td>14 </td><td>381</td><td>422</td></tr>\n",
       "\t<tr><td>272</td><td>410</td><td>2  </td><td>14 </td><td>381</td><td>421</td></tr>\n",
       "\t<tr><td>270</td><td>412</td><td>2  </td><td>14 </td><td>381</td><td>422</td></tr>\n",
       "\t<tr><td>271</td><td>412</td><td>2  </td><td>14 </td><td>381</td><td>421</td></tr>\n",
       "\t<tr><td>272</td><td>412</td><td>2  </td><td>14 </td><td>380</td><td>421</td></tr>\n",
       "\t<tr><td>272</td><td>412</td><td>2  </td><td>14 </td><td>380</td><td>421</td></tr>\n",
       "\t<tr><td>272</td><td>411</td><td>2  </td><td>14 </td><td>380</td><td>422</td></tr>\n",
       "\t<tr><td>272</td><td>411</td><td>3  </td><td>14 </td><td>380</td><td>421</td></tr>\n",
       "\t<tr><td>272</td><td>411</td><td>3  </td><td>14 </td><td>380</td><td>421</td></tr>\n",
       "\t<tr><td>273</td><td>413</td><td>3  </td><td>13 </td><td>378</td><td>421</td></tr>\n",
       "\t<tr><td>273</td><td>412</td><td>3  </td><td>13 </td><td>379</td><td>421</td></tr>\n",
       "\t<tr><td>273</td><td>413</td><td>3  </td><td>13 </td><td>379</td><td>420</td></tr>\n",
       "\t<tr><td>273</td><td>413</td><td>3  </td><td>13 </td><td>380</td><td>419</td></tr>\n",
       "</tbody>\n",
       "</table>\n"
      ],
      "text/latex": [
       "\\begin{tabular}{r|llllll}\n",
       " n1 & n2 & n3 & n4 & n5 & n6\\\\\n",
       "\\hline\n",
       "\t  1  &   1 &  1  &   1 &   1 &   1\\\\\n",
       "\t  5  &   8 &  5  &   3 &   9 &  11\\\\\n",
       "\t  6  &   8 &  6  &   3 &  10 &  15\\\\\n",
       "\t 30  &  39 & 29  &  27 &  47 &  56\\\\\n",
       "\t 62  & 124 & 52  &  84 & 109 & 109\\\\\n",
       "\t 77  & 208 & 54  & 158 & 191 & 129\\\\\n",
       "\t 77  & 229 & 54  & 189 & 205 & 134\\\\\n",
       "\t 79  & 243 & 54  & 201 & 205 & 132\\\\\n",
       "\t 78  & 249 & 53  & 208 & 214 & 132\\\\\n",
       "\t 78  & 263 & 50  & 224 & 225 & 136\\\\\n",
       "\t 84  & 279 & 48  & 234 & 230 & 130\\\\\n",
       "\t 87  & 282 & 46  & 243 & 241 & 132\\\\\n",
       "\t 86  & 288 & 44  & 250 & 247 & 140\\\\\n",
       "\t 84  & 291 & 42  & 242 & 248 & 168\\\\\n",
       "\t 85  & 292 & 40  & 240 & 251 & 198\\\\\n",
       "\t 84  & 289 & 36  & 240 & 257 & 215\\\\\n",
       "\t 83  & 295 & 34  & 237 & 261 & 223\\\\\n",
       "\t 81  & 294 & 32  & 234 & 264 & 241\\\\\n",
       "\t 83  & 298 & 29  & 229 & 263 & 259\\\\\n",
       "\t 82  & 300 & 29  & 225 & 264 & 272\\\\\n",
       "\t 81  & 303 & 29  & 220 & 269 & 277\\\\\n",
       "\t 81  & 305 & 29  & 219 & 273 & 280\\\\\n",
       "\t 81  & 308 & 29  & 213 & 277 & 288\\\\\n",
       "\t 82  & 313 & 28  & 211 & 277 & 290\\\\\n",
       "\t 85  & 316 & 26  & 205 & 279 & 299\\\\\n",
       "\t 84  & 317 & 26  & 205 & 278 & 304\\\\\n",
       "\t 85  & 323 & 23  & 201 & 280 & 307\\\\\n",
       "\t 87  & 326 & 25  & 199 & 279 & 309\\\\\n",
       "\t 86  & 329 & 25  & 197 & 281 & 309\\\\\n",
       "\t 89  & 332 & 26  & 192 & 284 & 308\\\\\n",
       "\t ... & ... & ... & ... & ... & ...\\\\\n",
       "\t 273 & 408 & 2   & 15  & 378 & 424\\\\\n",
       "\t 274 & 408 & 2   & 15  & 377 & 424\\\\\n",
       "\t 274 & 406 & 2   & 15  & 379 & 424\\\\\n",
       "\t 274 & 406 & 2   & 15  & 379 & 424\\\\\n",
       "\t 272 & 408 & 2   & 15  & 380 & 423\\\\\n",
       "\t 271 & 409 & 2   & 15  & 380 & 423\\\\\n",
       "\t 271 & 408 & 2   & 15  & 381 & 423\\\\\n",
       "\t 272 & 408 & 2   & 15  & 381 & 422\\\\\n",
       "\t 272 & 408 & 2   & 15  & 381 & 422\\\\\n",
       "\t 272 & 408 & 2   & 15  & 381 & 422\\\\\n",
       "\t 271 & 408 & 2   & 15  & 381 & 423\\\\\n",
       "\t 271 & 409 & 2   & 14  & 381 & 423\\\\\n",
       "\t 271 & 409 & 2   & 14  & 380 & 424\\\\\n",
       "\t 271 & 409 & 2   & 14  & 380 & 424\\\\\n",
       "\t 270 & 409 & 2   & 14  & 381 & 424\\\\\n",
       "\t 270 & 409 & 2   & 14  & 381 & 424\\\\\n",
       "\t 270 & 409 & 2   & 14  & 381 & 424\\\\\n",
       "\t 271 & 410 & 2   & 14  & 381 & 422\\\\\n",
       "\t 272 & 410 & 2   & 14  & 381 & 421\\\\\n",
       "\t 270 & 412 & 2   & 14  & 381 & 422\\\\\n",
       "\t 271 & 412 & 2   & 14  & 381 & 421\\\\\n",
       "\t 272 & 412 & 2   & 14  & 380 & 421\\\\\n",
       "\t 272 & 412 & 2   & 14  & 380 & 421\\\\\n",
       "\t 272 & 411 & 2   & 14  & 380 & 422\\\\\n",
       "\t 272 & 411 & 3   & 14  & 380 & 421\\\\\n",
       "\t 272 & 411 & 3   & 14  & 380 & 421\\\\\n",
       "\t 273 & 413 & 3   & 13  & 378 & 421\\\\\n",
       "\t 273 & 412 & 3   & 13  & 379 & 421\\\\\n",
       "\t 273 & 413 & 3   & 13  & 379 & 420\\\\\n",
       "\t 273 & 413 & 3   & 13  & 380 & 419\\\\\n",
       "\\end{tabular}\n"
      ],
      "text/markdown": [
       "\n",
       "n1 | n2 | n3 | n4 | n5 | n6 | \n",
       "|---|---|---|---|---|---|---|---|---|---|---|---|---|---|---|---|---|---|---|---|---|---|---|---|---|---|---|---|---|---|---|---|---|---|---|---|---|---|---|---|---|---|---|---|---|---|---|---|---|---|---|---|---|---|---|---|---|---|---|---|---|\n",
       "|  1  |   1 |  1  |   1 |   1 |   1 | \n",
       "|  5  |   8 |  5  |   3 |   9 |  11 | \n",
       "|  6  |   8 |  6  |   3 |  10 |  15 | \n",
       "| 30  |  39 | 29  |  27 |  47 |  56 | \n",
       "| 62  | 124 | 52  |  84 | 109 | 109 | \n",
       "| 77  | 208 | 54  | 158 | 191 | 129 | \n",
       "| 77  | 229 | 54  | 189 | 205 | 134 | \n",
       "| 79  | 243 | 54  | 201 | 205 | 132 | \n",
       "| 78  | 249 | 53  | 208 | 214 | 132 | \n",
       "| 78  | 263 | 50  | 224 | 225 | 136 | \n",
       "| 84  | 279 | 48  | 234 | 230 | 130 | \n",
       "| 87  | 282 | 46  | 243 | 241 | 132 | \n",
       "| 86  | 288 | 44  | 250 | 247 | 140 | \n",
       "| 84  | 291 | 42  | 242 | 248 | 168 | \n",
       "| 85  | 292 | 40  | 240 | 251 | 198 | \n",
       "| 84  | 289 | 36  | 240 | 257 | 215 | \n",
       "| 83  | 295 | 34  | 237 | 261 | 223 | \n",
       "| 81  | 294 | 32  | 234 | 264 | 241 | \n",
       "| 83  | 298 | 29  | 229 | 263 | 259 | \n",
       "| 82  | 300 | 29  | 225 | 264 | 272 | \n",
       "| 81  | 303 | 29  | 220 | 269 | 277 | \n",
       "| 81  | 305 | 29  | 219 | 273 | 280 | \n",
       "| 81  | 308 | 29  | 213 | 277 | 288 | \n",
       "| 82  | 313 | 28  | 211 | 277 | 290 | \n",
       "| 85  | 316 | 26  | 205 | 279 | 299 | \n",
       "| 84  | 317 | 26  | 205 | 278 | 304 | \n",
       "| 85  | 323 | 23  | 201 | 280 | 307 | \n",
       "| 87  | 326 | 25  | 199 | 279 | 309 | \n",
       "| 86  | 329 | 25  | 197 | 281 | 309 | \n",
       "| 89  | 332 | 26  | 192 | 284 | 308 | \n",
       "| ... | ... | ... | ... | ... | ... | \n",
       "| 273 | 408 | 2   | 15  | 378 | 424 | \n",
       "| 274 | 408 | 2   | 15  | 377 | 424 | \n",
       "| 274 | 406 | 2   | 15  | 379 | 424 | \n",
       "| 274 | 406 | 2   | 15  | 379 | 424 | \n",
       "| 272 | 408 | 2   | 15  | 380 | 423 | \n",
       "| 271 | 409 | 2   | 15  | 380 | 423 | \n",
       "| 271 | 408 | 2   | 15  | 381 | 423 | \n",
       "| 272 | 408 | 2   | 15  | 381 | 422 | \n",
       "| 272 | 408 | 2   | 15  | 381 | 422 | \n",
       "| 272 | 408 | 2   | 15  | 381 | 422 | \n",
       "| 271 | 408 | 2   | 15  | 381 | 423 | \n",
       "| 271 | 409 | 2   | 14  | 381 | 423 | \n",
       "| 271 | 409 | 2   | 14  | 380 | 424 | \n",
       "| 271 | 409 | 2   | 14  | 380 | 424 | \n",
       "| 270 | 409 | 2   | 14  | 381 | 424 | \n",
       "| 270 | 409 | 2   | 14  | 381 | 424 | \n",
       "| 270 | 409 | 2   | 14  | 381 | 424 | \n",
       "| 271 | 410 | 2   | 14  | 381 | 422 | \n",
       "| 272 | 410 | 2   | 14  | 381 | 421 | \n",
       "| 270 | 412 | 2   | 14  | 381 | 422 | \n",
       "| 271 | 412 | 2   | 14  | 381 | 421 | \n",
       "| 272 | 412 | 2   | 14  | 380 | 421 | \n",
       "| 272 | 412 | 2   | 14  | 380 | 421 | \n",
       "| 272 | 411 | 2   | 14  | 380 | 422 | \n",
       "| 272 | 411 | 3   | 14  | 380 | 421 | \n",
       "| 272 | 411 | 3   | 14  | 380 | 421 | \n",
       "| 273 | 413 | 3   | 13  | 378 | 421 | \n",
       "| 273 | 412 | 3   | 13  | 379 | 421 | \n",
       "| 273 | 413 | 3   | 13  | 379 | 420 | \n",
       "| 273 | 413 | 3   | 13  | 380 | 419 | \n",
       "\n",
       "\n"
      ],
      "text/plain": [
       "     n1  n2  n3  n4  n5  n6 \n",
       "1     1    1  1    1   1   1\n",
       "2     5    8  5    3   9  11\n",
       "3     6    8  6    3  10  15\n",
       "4    30   39 29   27  47  56\n",
       "5    62  124 52   84 109 109\n",
       "6    77  208 54  158 191 129\n",
       "7    77  229 54  189 205 134\n",
       "8    79  243 54  201 205 132\n",
       "9    78  249 53  208 214 132\n",
       "10   78  263 50  224 225 136\n",
       "11   84  279 48  234 230 130\n",
       "12   87  282 46  243 241 132\n",
       "13   86  288 44  250 247 140\n",
       "14   84  291 42  242 248 168\n",
       "15   85  292 40  240 251 198\n",
       "16   84  289 36  240 257 215\n",
       "17   83  295 34  237 261 223\n",
       "18   81  294 32  234 264 241\n",
       "19   83  298 29  229 263 259\n",
       "20   82  300 29  225 264 272\n",
       "21   81  303 29  220 269 277\n",
       "22   81  305 29  219 273 280\n",
       "23   81  308 29  213 277 288\n",
       "24   82  313 28  211 277 290\n",
       "25   85  316 26  205 279 299\n",
       "26   84  317 26  205 278 304\n",
       "27   85  323 23  201 280 307\n",
       "28   87  326 25  199 279 309\n",
       "29   86  329 25  197 281 309\n",
       "30   89  332 26  192 284 308\n",
       "...  ... ... ... ... ... ...\n",
       "971  273 408 2   15  378 424\n",
       "972  274 408 2   15  377 424\n",
       "973  274 406 2   15  379 424\n",
       "974  274 406 2   15  379 424\n",
       "975  272 408 2   15  380 423\n",
       "976  271 409 2   15  380 423\n",
       "977  271 408 2   15  381 423\n",
       "978  272 408 2   15  381 422\n",
       "979  272 408 2   15  381 422\n",
       "980  272 408 2   15  381 422\n",
       "981  271 408 2   15  381 423\n",
       "982  271 409 2   14  381 423\n",
       "983  271 409 2   14  380 424\n",
       "984  271 409 2   14  380 424\n",
       "985  270 409 2   14  381 424\n",
       "986  270 409 2   14  381 424\n",
       "987  270 409 2   14  381 424\n",
       "988  271 410 2   14  381 422\n",
       "989  272 410 2   14  381 421\n",
       "990  270 412 2   14  381 422\n",
       "991  271 412 2   14  381 421\n",
       "992  272 412 2   14  380 421\n",
       "993  272 412 2   14  380 421\n",
       "994  272 411 2   14  380 422\n",
       "995  272 411 3   14  380 421\n",
       "996  272 411 3   14  380 421\n",
       "997  273 413 3   13  378 421\n",
       "998  273 412 3   13  379 421\n",
       "999  273 413 3   13  379 420\n",
       "1000 273 413 3   13  380 419"
      ]
     },
     "metadata": {},
     "output_type": "display_data"
    }
   ],
   "source": [
    "TB <- data.table(n1=integer(),n2=integer(), n3=integer(),n4=integer(),n5=integer(),n6=integer())\n",
    "for (i in 1:maxtime) {\n",
    "    nn1 =sum(apply(subset(DT, time == i),1,function(x) length(which(x==newsvec[1]))))\n",
    "    nn2 =sum(apply(subset(DT, time == i),1,function(x) length(which(x==newsvec[2]))))\n",
    "    nn3 =sum(apply(subset(DT, time == i),1,function(x) length(which(x==newsvec[3]))))\n",
    "    nn4 =sum(apply(subset(DT, time == i),1,function(x) length(which(x==newsvec[4]))))\n",
    "    nn5 =sum(apply(subset(DT, time == i),1,function(x) length(which(x==newsvec[5]))))\n",
    "    nn6 =sum(apply(subset(DT, time == i),1,function(x) length(which(x==newsvec[6]))))\n",
    "   \n",
    "    TB <- rbindlist(list(TB,  data.table(n1=nn1,n2=nn2,n3=nn3,n4=nn4,n5=nn5,n6=nn6)))\n",
    "}\n",
    "TB"
   ]
  },
  {
   "cell_type": "code",
   "execution_count": 61,
   "metadata": {},
   "outputs": [
    {
     "data": {
      "image/png": "[encoded data removed]",
      "text/plain": [
       "Plot with title \"Overlapping Histogram\""
      ]
     },
     "metadata": {},
     "output_type": "display_data"
    }
   ],
   "source": [
    "# Histogram Colored (blue and red)\n",
    "hist(TB$n4, col=rgb(0,0,1,0.5),main=\"Overlapping Histogram\", xlab=\"Variable\", breaks=50)\n",
    "hist(TB$n1, col=rgb(1,0,0,0.5), add=T, breaks=50)\n",
    "hist(TB$n6, col=rgb(0,1,0,0.5), add=T, breaks=50)\n",
    "box()\n",
    "#vita media circa 50/100"
   ]
  },
  {
   "cell_type": "code",
   "execution_count": 86,
   "metadata": {
    "collapsed": true
   },
   "outputs": [],
   "source": [
    "up <- data.frame(length = TB$u)\n",
    "do <- data.frame(length = TB$d)\n",
    "\n",
    "up$num <- 'Up Ag.'\n",
    "do$num <- 'Down Ag.'\n",
    "\n",
    "gLengths <- rbind(up, do)"
   ]
  },
  {
   "cell_type": "code",
   "execution_count": 89,
   "metadata": {},
   "outputs": [
    {
     "data": {},
     "metadata": {},
     "output_type": "display_data"
    },
    {
     "data": {
      "image/png": "[encoded data removed]",
      "text/plain": [
       "plot without title"
      ]
     },
     "metadata": {},
     "output_type": "display_data"
    }
   ],
   "source": [
    "ggplot(gLengths, aes(length, fill = num)) + geom_histogram(alpha = 0.5, aes(y = ..density..), position = 'identity', bins=50)"
   ]
  },
  {
   "cell_type": "code",
   "execution_count": 73,
   "metadata": {
    "collapsed": true
   },
   "outputs": [],
   "source": [
    "upag <- data.frame(length = v, weight = TB$u)\n",
    "doag <- data.frame(length = v, weight = TB$d)\n",
    "\n",
    "#Now, combine your two dataframes into one.  First make a new column in each that will be a variable to identify where they came from later.\n",
    "upag$num <- 'Up Ag.'\n",
    "doag$num <- 'Down Ag.'\n",
    "\n",
    "#and combine into your new data frame vegLengths\n",
    "agLengths <- rbind(upag, doag)"
   ]
  },
  {
   "cell_type": "code",
   "execution_count": 74,
   "metadata": {},
   "outputs": [
    {
     "data": {},
     "metadata": {},
     "output_type": "display_data"
    },
    {
     "data": {
      "image/png": "[encoded data removed]",
      "text/plain": [
       "plot without title"
      ]
     },
     "metadata": {},
     "output_type": "display_data"
    }
   ],
   "source": [
    "ggplot(agLengths, aes(length, weight = weight, fill = num)) + geom_histogram(alpha = 0.5, aes(y = ..density..), position = 'identity', bins=50)"
   ]
  },
  {
   "cell_type": "code",
   "execution_count": null,
   "metadata": {
    "collapsed": true
   },
   "outputs": [],
   "source": []
  }
 ],
 "metadata": {
  "kernelspec": {
   "display_name": "R",
   "language": "R",
   "name": "ir"
  },
  "language_info": {
   "codemirror_mode": "r",
   "file_extension": ".r",
   "mimetype": "text/x-r-source",
   "name": "R",
   "pygments_lexer": "r",
   "version": "3.4.2"
  }
 },
 "nbformat": 4,
 "nbformat_minor": 2
}
