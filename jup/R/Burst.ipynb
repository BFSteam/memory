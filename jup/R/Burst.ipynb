{
 "cells": [
  {
   "cell_type": "code",
   "execution_count": 2,
   "metadata": {},
   "outputs": [],
   "source": [
    "library(data.table)\n",
    "library(ggplot2)\n",
    "library(plotrix)\n"
   ]
  },
  {
   "cell_type": "code",
   "execution_count": 3,
   "metadata": {},
   "outputs": [],
   "source": [
    "HBp <- fread(file = '../../log/maggiora/HBp_agents.csv', header=FALSE, sep=\",\", nrows=2)\n",
    "HBp1 <- fread(file = '../../log/maggiora/HBp_agents.csv', header=FALSE, skip=2, sep=\",\", nrows=2)\n",
    "\n",
    "HBp <- cbind(as.numeric(HBp[1,]), as.numeric(HBp[2,]) / sum(HBp[2,]))\n",
    "HBp1 <- cbind(as.numeric(HBp1[1,]), as.numeric(HBp1[2,]) / sum(HBp1[2,]))\n",
    "\n",
    "HBp<-HBp[order(HBp[,1]),]\n",
    "HBp1<-HBp1[order(HBp1[,1]),]"
   ]
  },
  {
   "cell_type": "code",
   "execution_count": 8,
   "metadata": {},
   "outputs": [
    {
     "data": {
      "text/html": [
       "<strong>png:</strong> 2"
      ],
      "text/latex": [
       "\\textbf{png:} 2"
      ],
      "text/markdown": [
       "**png:** 2"
      ],
      "text/plain": [
       "png \n",
       "  2 "
      ]
     },
     "metadata": {},
     "output_type": "display_data"
    },
    {
     "data": {
      "text/html": [
       "<strong>png:</strong> 2"
      ],
      "text/latex": [
       "\\textbf{png:} 2"
      ],
      "text/markdown": [
       "**png:** 2"
      ],
      "text/plain": [
       "png \n",
       "  2 "
      ]
     },
     "metadata": {},
     "output_type": "display_data"
    }
   ],
   "source": [
    "x1 <- HBp[,1]\n",
    "y1 <- HBp[,2]\n",
    "x2 <- HBp1[,1]\n",
    "y2 <- HBp1[,2]\n",
    "\n",
    "#y1 <- log(y1)\n",
    "#y2 <- log(y2)\n",
    "svg(filename=\"../../tex/Maggiora/img/active_hist.svg\", \n",
    "    width=5, \n",
    "    height=4, \n",
    "    pointsize=12)\n",
    "weighted.hist(\n",
    "    x1, y1, \n",
    "    col=rgb(0.05,0,1,0.7),\n",
    "    main=\"title\", \n",
    "    xlab=\"Active Time Intervals\", ylab=\"Frequency\", breaks=length(y1),\n",
    ")\n",
    "box()\n",
    "dev.off()\n",
    "\n",
    "svg(filename=\"../../tex/Maggiora/img/inactive_hist.svg\", \n",
    "    width=5, \n",
    "    height=4, \n",
    "    pointsize=12)\n",
    "weighted.hist(\n",
    "    x2, y2,\n",
    "    col=rgb(0.05,0,1,0.7),\n",
    "    main=\"title\", \n",
    "    xlab=\"Inactive Time Intervals\", ylab=\"Frequency\", breaks=length(y2))\n",
    "box()\n",
    "dev.off()"
   ]
  },
  {
   "cell_type": "code",
   "execution_count": 9,
   "metadata": {},
   "outputs": [
    {
     "data": {
      "text/html": [
       "TRUE"
      ],
      "text/latex": [
       "TRUE"
      ],
      "text/markdown": [
       "TRUE"
      ],
      "text/plain": [
       "[1] TRUE"
      ]
     },
     "metadata": {},
     "output_type": "display_data"
    },
    {
     "data": {
      "text/plain": [
       "\n",
       "Call:\n",
       "lm(formula = y ~ x)\n",
       "\n",
       "Coefficients:\n",
       "(Intercept)            x  \n",
       "     12.184       -2.273  \n"
      ]
     },
     "metadata": {},
     "output_type": "display_data"
    },
    {
     "data": {
      "text/html": [
       "<strong>png:</strong> 2"
      ],
      "text/latex": [
       "\\textbf{png:} 2"
      ],
      "text/markdown": [
       "**png:** 2"
      ],
      "text/plain": [
       "png \n",
       "  2 "
      ]
     },
     "metadata": {},
     "output_type": "display_data"
    }
   ],
   "source": [
    "x <- HBp1[-(1:3),1]\n",
    "y <- log(HBp1[-(1:3),2])\n",
    "length(x) == length(y)\n",
    "\n",
    "#m<-nls(y ~ a + b*x + d * x * x, start=list(a=1, b=1, d=-1))\n",
    "#cor(y,predict(m))\n",
    "\n",
    "#mm <- lm(y ~ poly(x, 2, raw=TRUE))\n",
    "#lines(x, mm$fitted.values, lty=2,col=\"red\",lwd=3)\n",
    "\n",
    "svg(filename=\"../../tex/Maggiora/img/time_fit.svg\", \n",
    "    width=5, \n",
    "    height=4, \n",
    "    pointsize=12)\n",
    "plot(x,y, xlab=\"Time Intervals\", ylab=\"Log Frequency\", panel.first=grid())\n",
    "lm(y ~ x)\n",
    "abline(lm(y ~ x))\n",
    "dev.off()"
   ]
  },
  {
   "cell_type": "markdown",
   "metadata": {},
   "source": [
    "## "
   ]
  },
  {
   "cell_type": "code",
   "execution_count": 165,
   "metadata": {
    "scrolled": false
   },
   "outputs": [
    {
     "data": {
      "image/png": "[encoded data removed]",
      "text/plain": [
       "plot without title"
      ]
     },
     "metadata": {},
     "output_type": "display_data"
    }
   ],
   "source": [
    "hill <- function(x, k, n, p) { ( -0.5 +( 1 / (1 + (k/(x))^n)) ) * (1-p)/0.5 + p}\n",
    "for (i in 1:5) {\n",
    "    curve(hill(x, 1, i, 0.08), 0, 20, xlim=c(1,20), ylim=c(0,1))\n",
    "    par(new=TRUE)\n",
    "}"
   ]
  },
  {
   "cell_type": "code",
   "execution_count": null,
   "metadata": {},
   "outputs": [],
   "source": []
  }
 ],
 "metadata": {
  "kernelspec": {
   "display_name": "R",
   "language": "R",
   "name": "ir"
  },
  "language_info": {
   "codemirror_mode": "r",
   "file_extension": ".r",
   "mimetype": "text/x-r-source",
   "name": "R",
   "pygments_lexer": "r",
   "version": "3.5.0"
  }
 },
 "nbformat": 4,
 "nbformat_minor": 2
}
