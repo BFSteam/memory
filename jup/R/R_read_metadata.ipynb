{
 "cells": [
  {
   "cell_type": "markdown",
   "metadata": {},
   "source": [
    "# Read metadata from .csv and init variables"
   ]
  },
  {
   "cell_type": "code",
   "execution_count": 34,
   "metadata": {},
   "outputs": [],
   "source": [
    "int <- read.csv(file=\"../../log/diameter.csv\", nrows=11, sep=\",\")\n",
    "steps     <- int$X.diameter[2]\n",
    "seed      <- int$X.diameter[3]\n",
    "N_AGENTS  <- int$X.diameter[4]\n",
    "N_USERS   <- int$X.diameter[5]\n",
    "N_SOURCES <- int$X.diameter[6]\n",
    "P_a       <- int$X.diameter[7]\n",
    "P_s       <- int$X.diameter[8]\n",
    "dim       <- int$X.diameter[9]\n",
    "memsize   <- int$X.diameter[11]"
   ]
  },
  {
   "cell_type": "code",
   "execution_count": 35,
   "metadata": {},
   "outputs": [
    {
     "data": {
      "text/html": [
       "<table>\n",
       "<thead><tr><th></th><th scope=col>X.diameter</th></tr></thead>\n",
       "<tbody>\n",
       "\t<tr><th scope=row>#</th><td>                        </td></tr>\n",
       "\t<tr><th scope=row>#simulation with:</th><td>1000                    </td></tr>\n",
       "\t<tr><th scope=row>#SEED</th><td>1                       </td></tr>\n",
       "\t<tr><th scope=row>#N_AGENTS</th><td>506                     </td></tr>\n",
       "\t<tr><th scope=row>#N_USERS</th><td>500                     </td></tr>\n",
       "\t<tr><th scope=row>#N_SOURCES</th><td>6                       </td></tr>\n",
       "\t<tr><th scope=row>#P_a</th><td>0.01                    </td></tr>\n",
       "\t<tr><th scope=row>#P_s</th><td>0.1                     </td></tr>\n",
       "\t<tr><th scope=row>#dim</th><td>3                       </td></tr>\n",
       "\t<tr><th scope=row>#time</th><td>Wed Mar  7 17:55:41 2018</td></tr>\n",
       "\t<tr><th scope=row>#memorySize</th><td>3                       </td></tr>\n",
       "</tbody>\n",
       "</table>\n"
      ],
      "text/latex": [
       "\\begin{tabular}{r|l}\n",
       "  & X.diameter\\\\\n",
       "\\hline\n",
       "\t\\# &                         \\\\\n",
       "\t\\#simulation with: & 1000                    \\\\\n",
       "\t\\#SEED & 1                       \\\\\n",
       "\t\\#N\\_AGENTS & 506                     \\\\\n",
       "\t\\#N\\_USERS & 500                     \\\\\n",
       "\t\\#N\\_SOURCES & 6                       \\\\\n",
       "\t\\#P\\_a & 0.01                    \\\\\n",
       "\t\\#P\\_s & 0.1                     \\\\\n",
       "\t\\#dim & 3                       \\\\\n",
       "\t\\#time & Wed Mar  7 17:55:41 2018\\\\\n",
       "\t\\#memorySize & 3                       \\\\\n",
       "\\end{tabular}\n"
      ],
      "text/markdown": [
       "\n",
       "| <!--/--> | X.diameter | \n",
       "|---|---|---|---|---|---|---|---|---|---|---|\n",
       "| # |                          | \n",
       "| #simulation with: | 1000                     | \n",
       "| #SEED | 1                        | \n",
       "| #N_AGENTS | 506                      | \n",
       "| #N_USERS | 500                      | \n",
       "| #N_SOURCES | 6                        | \n",
       "| #P_a | 0.01                     | \n",
       "| #P_s | 0.1                      | \n",
       "| #dim | 3                        | \n",
       "| #time | Wed Mar  7 17:55:41 2018 | \n",
       "| #memorySize | 3                        | \n",
       "\n",
       "\n"
      ],
      "text/plain": [
       "                  X.diameter              \n",
       "#                                         \n",
       "#simulation with: 1000                    \n",
       "#SEED             1                       \n",
       "#N_AGENTS         506                     \n",
       "#N_USERS          500                     \n",
       "#N_SOURCES        6                       \n",
       "#P_a              0.01                    \n",
       "#P_s              0.1                     \n",
       "#dim              3                       \n",
       "#time             Wed Mar  7 17:55:41 2018\n",
       "#memorySize       3                       "
      ]
     },
     "metadata": {},
     "output_type": "display_data"
    }
   ],
   "source": [
    "int"
   ]
  }
 ],
 "metadata": {
  "kernelspec": {
   "display_name": "R",
   "language": "R",
   "name": "ir"
  },
  "language_info": {
   "codemirror_mode": "r",
   "file_extension": ".r",
   "mimetype": "text/x-r-source",
   "name": "R",
   "pygments_lexer": "r",
   "version": "3.4.3"
  }
 },
 "nbformat": 4,
 "nbformat_minor": 2
}
