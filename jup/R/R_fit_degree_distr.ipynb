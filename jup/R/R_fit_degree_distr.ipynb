{
 "cells": [
  {
   "cell_type": "code",
   "execution_count": 1,
   "metadata": {},
   "outputs": [
    {
     "name": "stderr",
     "output_type": "stream",
     "text": [
      "Warning message in file(file, \"rt\"):\n",
      "“cannot open file '../../log/degree_distr.csv': No such file or directory”"
     ]
    },
    {
     "ename": "ERROR",
     "evalue": "Error in file(file, \"rt\"): cannot open the connection\n",
     "output_type": "error",
     "traceback": [
      "Error in file(file, \"rt\"): cannot open the connection\nTraceback:\n",
      "1. read.csv(file = \"../../log/degree_distr.csv\", skip = 12, header = TRUE, \n .     sep = \",\")",
      "2. read.table(file = file, header = header, sep = sep, quote = quote, \n .     dec = dec, fill = fill, comment.char = comment.char, ...)",
      "3. file(file, \"rt\")"
     ]
    }
   ],
   "source": [
    "degree_node <- read.csv(file=\"../../log/degree_distr.csv\", skip=12, header=TRUE, sep=\",\") ## read file"
   ]
  },
  {
   "cell_type": "code",
   "execution_count": 2,
   "metadata": {},
   "outputs": [
    {
     "ename": "ERROR",
     "evalue": "Error in print(degree_node): object 'degree_node' not found\n",
     "output_type": "error",
     "traceback": [
      "Error in print(degree_node): object 'degree_node' not found\nTraceback:\n",
      "1. print(degree_node)"
     ]
    }
   ],
   "source": [
    "print(degree_node) ## print"
   ]
  },
  {
   "cell_type": "code",
   "execution_count": 3,
   "metadata": {},
   "outputs": [
    {
     "ename": "ERROR",
     "evalue": "Error in eval(expr, envir, enclos): object 'degree_node' not found\n",
     "output_type": "error",
     "traceback": [
      "Error in eval(expr, envir, enclos): object 'degree_node' not found\nTraceback:\n"
     ]
    }
   ],
   "source": [
    "degrees <- degree_node[,c(\"degree\")]"
   ]
  },
  {
   "cell_type": "code",
   "execution_count": 4,
   "metadata": {},
   "outputs": [
    {
     "ename": "ERROR",
     "evalue": "Error in hist(degrees, breaks = 20): object 'degrees' not found\n",
     "output_type": "error",
     "traceback": [
      "Error in hist(degrees, breaks = 20): object 'degrees' not found\nTraceback:\n",
      "1. hist(degrees, breaks = 20)"
     ]
    }
   ],
   "source": [
    "hist(degrees, breaks=20)"
   ]
  },
  {
   "cell_type": "code",
   "execution_count": 5,
   "metadata": {
    "scrolled": false
   },
   "outputs": [
    {
     "ename": "ERROR",
     "evalue": "Error in hist(degrees, breaks = 20): object 'degrees' not found\n",
     "output_type": "error",
     "traceback": [
      "Error in hist(degrees, breaks = 20): object 'degrees' not found\nTraceback:\n",
      "1. hist(degrees, breaks = 20)"
     ]
    }
   ],
   "source": [
    "eps <- 0.01\n",
    "X <- 1:(length(hist(degrees, breaks=20)$breaks) - 1)\n",
    "Y <- hist(degrees, breaks=20)$counts + eps\n",
    "DATANOLOG <- degree_node + eps\n",
    "DATANOLOG"
   ]
  },
  {
   "cell_type": "code",
   "execution_count": 6,
   "metadata": {},
   "outputs": [
    {
     "ename": "ERROR",
     "evalue": "Error in eval(expr, envir, enclos): object 'X' not found\n",
     "output_type": "error",
     "traceback": [
      "Error in eval(expr, envir, enclos): object 'X' not found\nTraceback:\n"
     ]
    }
   ],
   "source": [
    "X <- log(X)\n",
    "Y <- log(Y + eps)\n",
    "DATA = data.frame(X,Y)\n",
    "DATA <- DATA[1:16,]\n",
    "DATA"
   ]
  },
  {
   "cell_type": "code",
   "execution_count": 7,
   "metadata": {},
   "outputs": [
    {
     "ename": "ERROR",
     "evalue": "Error in is.data.frame(data): object 'DATA' not found\n",
     "output_type": "error",
     "traceback": [
      "Error in is.data.frame(data): object 'DATA' not found\nTraceback:\n",
      "1. lm(Y ~ X, data = DATA)",
      "2. eval(mf, parent.frame())",
      "3. eval(mf, parent.frame())",
      "4. stats::model.frame(formula = Y ~ X, data = DATA, drop.unused.levels = TRUE)",
      "5. model.frame.default(formula = Y ~ X, data = DATA, drop.unused.levels = TRUE)",
      "6. is.data.frame(data)"
     ]
    }
   ],
   "source": [
    "linearMod <- lm(Y ~ X, data=DATA)  # build linear regression model on full data\n",
    "print(linearMod)\n",
    "print(summary(linearMod))\n",
    "summary(linearMod)$coefficients"
   ]
  },
  {
   "cell_type": "code",
   "execution_count": 8,
   "metadata": {},
   "outputs": [
    {
     "ename": "ERROR",
     "evalue": "Error in plot(DATA): object 'DATA' not found\n",
     "output_type": "error",
     "traceback": [
      "Error in plot(DATA): object 'DATA' not found\nTraceback:\n",
      "1. plot(DATA)"
     ]
    }
   ],
   "source": [
    "plot(DATA)\n",
    "abline(linearMod)"
   ]
  },
  {
   "cell_type": "code",
   "execution_count": 121,
   "metadata": {
    "collapsed": true
   },
   "outputs": [],
   "source": [
    "library(\"poweRlaw\")"
   ]
  },
  {
   "cell_type": "code",
   "execution_count": 147,
   "metadata": {
    "collapsed": true
   },
   "outputs": [],
   "source": [
    "#Continuous power law objects take vectors as inputs,\n",
    "m_bl = conpl$new(DATANOLOG$degree)\n",
    "#estimate the lower-bound\n",
    "est = estimate_xmin(m_bl)\n",
    "#update the distribution object\n",
    "m_bl$setXmin(est)\n"
   ]
  },
  {
   "cell_type": "code",
   "execution_count": 148,
   "metadata": {},
   "outputs": [
    {
     "data": {
      "image/png": "[encoded data removed]",
      "text/plain": [
       "plot without title"
      ]
     },
     "metadata": {},
     "output_type": "display_data"
    }
   ],
   "source": [
    "plot(m_bl)\n",
    "lines(m_bl, col=2, lwd=2)\n",
    "lines(m_bl, col=3, lwd=2)"
   ]
  },
  {
   "cell_type": "code",
   "execution_count": 150,
   "metadata": {},
   "outputs": [
    {
     "data": {
      "text/html": [
       "4.65631325355456"
      ],
      "text/latex": [
       "4.65631325355456"
      ],
      "text/markdown": [
       "4.65631325355456"
      ],
      "text/plain": [
       "[1] 4.656313"
      ]
     },
     "metadata": {},
     "output_type": "display_data"
    }
   ],
   "source": [
    "m_bl$pars"
   ]
  },
  {
   "cell_type": "code",
   "execution_count": null,
   "metadata": {
    "collapsed": true
   },
   "outputs": [],
   "source": []
  }
 ],
 "metadata": {
  "kernelspec": {
   "display_name": "R",
   "language": "R",
   "name": "ir"
  },
  "language_info": {
   "codemirror_mode": "r",
   "file_extension": ".r",
   "mimetype": "text/x-r-source",
   "name": "R",
   "pygments_lexer": "r",
   "version": "3.4.4"
  }
 },
 "nbformat": 4,
 "nbformat_minor": 2
}
