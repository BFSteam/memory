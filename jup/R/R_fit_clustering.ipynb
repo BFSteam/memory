{
 "cells": [
  {
   "cell_type": "code",
   "execution_count": 123,
   "metadata": {},
   "outputs": [],
   "source": [
    "library(Cairo)"
   ]
  },
  {
   "cell_type": "code",
   "execution_count": 124,
   "metadata": {},
   "outputs": [],
   "source": [
    "std <- function(x) sqrt(var(x)/(length(x)))\n",
    "std1 <- function(x) sqrt(var(x)/(length(x)-1))"
   ]
  },
  {
   "cell_type": "code",
   "execution_count": 131,
   "metadata": {},
   "outputs": [
    {
     "data": {
      "text/html": [
       "<ol class=list-inline>\n",
       "\t<li>0.029817715921459</li>\n",
       "\t<li>0.0356038520553965</li>\n",
       "\t<li>0.0270013815486568</li>\n",
       "\t<li>0.033048419767778</li>\n",
       "\t<li>0.0292386911046654</li>\n",
       "\t<li>0.0200781524561137</li>\n",
       "\t<li>0.0248131410842366</li>\n",
       "\t<li>0.0288826745800675</li>\n",
       "\t<li>0.029638222574775</li>\n",
       "\t<li>0.0283688309793742</li>\n",
       "\t<li>0.023437397851656</li>\n",
       "\t<li>0.0308440045743238</li>\n",
       "\t<li>0.0313535540944656</li>\n",
       "\t<li>0.0260672848236558</li>\n",
       "\t<li>0.0321492446248776</li>\n",
       "\t<li>0.0317231163241549</li>\n",
       "\t<li>0.0320964881265415</li>\n",
       "\t<li>0.0328013203352772</li>\n",
       "\t<li>0.0246976428371735</li>\n",
       "\t<li>0.0326437287758165</li>\n",
       "\t<li>0.0331533448119189</li>\n",
       "\t<li>0.0242582904563627</li>\n",
       "\t<li>0.0351057885008875</li>\n",
       "\t<li>0.0319230310389833</li>\n",
       "\t<li>0.0267880017404719</li>\n",
       "</ol>\n"
      ],
      "text/latex": [
       "\\begin{enumerate*}\n",
       "\\item 0.029817715921459\n",
       "\\item 0.0356038520553965\n",
       "\\item 0.0270013815486568\n",
       "\\item 0.033048419767778\n",
       "\\item 0.0292386911046654\n",
       "\\item 0.0200781524561137\n",
       "\\item 0.0248131410842366\n",
       "\\item 0.0288826745800675\n",
       "\\item 0.029638222574775\n",
       "\\item 0.0283688309793742\n",
       "\\item 0.023437397851656\n",
       "\\item 0.0308440045743238\n",
       "\\item 0.0313535540944656\n",
       "\\item 0.0260672848236558\n",
       "\\item 0.0321492446248776\n",
       "\\item 0.0317231163241549\n",
       "\\item 0.0320964881265415\n",
       "\\item 0.0328013203352772\n",
       "\\item 0.0246976428371735\n",
       "\\item 0.0326437287758165\n",
       "\\item 0.0331533448119189\n",
       "\\item 0.0242582904563627\n",
       "\\item 0.0351057885008875\n",
       "\\item 0.0319230310389833\n",
       "\\item 0.0267880017404719\n",
       "\\end{enumerate*}\n"
      ],
      "text/markdown": [
       "1. 0.029817715921459\n",
       "2. 0.0356038520553965\n",
       "3. 0.0270013815486568\n",
       "4. 0.033048419767778\n",
       "5. 0.0292386911046654\n",
       "6. 0.0200781524561137\n",
       "7. 0.0248131410842366\n",
       "8. 0.0288826745800675\n",
       "9. 0.029638222574775\n",
       "10. 0.0283688309793742\n",
       "11. 0.023437397851656\n",
       "12. 0.0308440045743238\n",
       "13. 0.0313535540944656\n",
       "14. 0.0260672848236558\n",
       "15. 0.0321492446248776\n",
       "16. 0.0317231163241549\n",
       "17. 0.0320964881265415\n",
       "18. 0.0328013203352772\n",
       "19. 0.0246976428371735\n",
       "20. 0.0326437287758165\n",
       "21. 0.0331533448119189\n",
       "22. 0.0242582904563627\n",
       "23. 0.0351057885008875\n",
       "24. 0.0319230310389833\n",
       "25. 0.0267880017404719\n",
       "\n",
       "\n"
      ],
      "text/plain": [
       " [1] 0.02981772 0.03560385 0.02700138 0.03304842 0.02923869 0.02007815\n",
       " [7] 0.02481314 0.02888267 0.02963822 0.02836883 0.02343740 0.03084400\n",
       "[13] 0.03135355 0.02606728 0.03214924 0.03172312 0.03209649 0.03280132\n",
       "[19] 0.02469764 0.03264373 0.03315334 0.02425829 0.03510579 0.03192303\n",
       "[25] 0.02678800"
      ]
     },
     "metadata": {},
     "output_type": "display_data"
    },
    {
     "data": {
      "text/html": [
       "<table>\n",
       "<thead><tr><th scope=col>mean</th><th scope=col>std</th></tr></thead>\n",
       "<tbody>\n",
       "\t<tr><td>0.03094201 </td><td>0.003734744</td></tr>\n",
       "\t<tr><td>0.02635620 </td><td>0.003583309</td></tr>\n",
       "\t<tr><td>0.02877030 </td><td>0.003723486</td></tr>\n",
       "\t<tr><td>0.03079246 </td><td>0.003544053</td></tr>\n",
       "\t<tr><td>0.03024569 </td><td>0.003711228</td></tr>\n",
       "</tbody>\n",
       "</table>\n"
      ],
      "text/latex": [
       "\\begin{tabular}{r|ll}\n",
       " mean & std\\\\\n",
       "\\hline\n",
       "\t 0.03094201  & 0.003734744\\\\\n",
       "\t 0.02635620  & 0.003583309\\\\\n",
       "\t 0.02877030  & 0.003723486\\\\\n",
       "\t 0.03079246  & 0.003544053\\\\\n",
       "\t 0.03024569  & 0.003711228\\\\\n",
       "\\end{tabular}\n"
      ],
      "text/markdown": [
       "\n",
       "mean | std | \n",
       "|---|---|---|---|---|\n",
       "| 0.03094201  | 0.003734744 | \n",
       "| 0.02635620  | 0.003583309 | \n",
       "| 0.02877030  | 0.003723486 | \n",
       "| 0.03079246  | 0.003544053 | \n",
       "| 0.03024569  | 0.003711228 | \n",
       "\n",
       "\n"
      ],
      "text/plain": [
       "  mean       std        \n",
       "1 0.03094201 0.003734744\n",
       "2 0.02635620 0.003583309\n",
       "3 0.02877030 0.003723486\n",
       "4 0.03079246 0.003544053\n",
       "5 0.03024569 0.003711228"
      ]
     },
     "metadata": {},
     "output_type": "display_data"
    }
   ],
   "source": [
    "out <- matrix(ncol=2, nrow=5)\n",
    "\n",
    "vector_var <- double(0)\n",
    "vector_mean <- double(0)\n",
    "list_dir = list.dirs(path = \"../../log/clustering_diameter\", full.names = TRUE, recursive = FALSE)\n",
    "\n",
    "for (dir in list_dir){\n",
    "    list_files = (list.files(path = dir, pattern = NULL, all.files = FALSE,\n",
    "           full.names = TRUE, recursive = FALSE,\n",
    "           ignore.case = FALSE, include.dirs = FALSE, no.. = FALSE)\n",
    "    )\n",
    "    for (file in list_files){\n",
    "        if (grepl(\"clustering2018\", file)){\n",
    "            c1 <- read.csv(file=file, skip=12, header=TRUE, sep=\",\")\n",
    "            #print(c)\n",
    "            vector_var <- c(vector_std, var(c1[,c(2)]))\n",
    "            vector_mean <- c(vector_mean, mean( c1[,c(2)] ) ) \n",
    "        }\n",
    "    }\n",
    "}\n",
    "\n",
    "vector_mean\n",
    "\n",
    "for(i in 1:5){\n",
    "    out[i,1] <- mean( vector_mean[( (i-1)*5+1 ):( i*5 )] )\n",
    "    out[i,2] <- sqrt(sum( vector_var[( (i-1)*5+1 ):( i*5 )] )) / length(vector_var)\n",
    "}\n",
    "out <- data.frame(out)\n",
    "\n",
    "names(out)[names(out)==\"X1\"] <- \"mean\"\n",
    "names(out)[names(out)==\"X2\"] <- \"std\"\n",
    "\n",
    "out"
   ]
  },
  {
   "cell_type": "code",
   "execution_count": 132,
   "metadata": {
    "scrolled": false
   },
   "outputs": [
    {
     "data": {
      "text/plain": [
       "\n",
       "Call:\n",
       "lm(formula = y ~ x, weights = (out$std)^(-0.5))\n",
       "\n",
       "Weighted Residuals:\n",
       "         1          2          3          4          5 \n",
       " 0.0087080 -0.0112242 -0.0026116  0.0043607  0.0008271 \n",
       "\n",
       "Coefficients:\n",
       "             Estimate Std. Error t value Pr(>|t|)   \n",
       "(Intercept) 0.0284763  0.0022558   12.62  0.00107 **\n",
       "x           0.0003131  0.0006800    0.46  0.67655   \n",
       "---\n",
       "Signif. codes:  0 ‘***’ 0.001 ‘**’ 0.01 ‘*’ 0.05 ‘.’ 0.1 ‘ ’ 1\n",
       "\n",
       "Residual standard error: 0.008724 on 3 degrees of freedom\n",
       "Multiple R-squared:  0.06599,\tAdjusted R-squared:  -0.2453 \n",
       "F-statistic: 0.212 on 1 and 3 DF,  p-value: 0.6765\n"
      ]
     },
     "metadata": {},
     "output_type": "display_data"
    },
    {
     "data": {
      "text/html": [
       "<strong>png:</strong> 2"
      ],
      "text/latex": [
       "\\textbf{png:} 2"
      ],
      "text/markdown": [
       "**png:** 2"
      ],
      "text/plain": [
       "png \n",
       "  2 "
      ]
     },
     "metadata": {},
     "output_type": "display_data"
    }
   ],
   "source": [
    "x <- 1:5\n",
    "y <- out$mean\n",
    "\n",
    "svg(filename=\"../../ltering_diameter/clustering.svg\", \n",
    "    width=5, \n",
    "    height=4, \n",
    "    pointsize=12)\n",
    "\n",
    "plot(1:5, out$mean, xlab=\"memory size\", ylab=\"clustering coeff.\", pch=20, ylim=range(c(out$mean-out$std, out$mean+out$std)), panel.first=grid())\n",
    "grid()\n",
    "arrows(1:5, out$mean-out$std, 1:5, out$mean+out$std,, length=0.05, angle=90, code=3)\n",
    "\n",
    "summary(lm(y ~ x, weights=(out$std)^(-0.5)))\n",
    "abline(lm(y ~ x, weights=(out$std)^(-0.5)))\n",
    "\n",
    "par(new=TRUE)\n",
    "\n",
    "dev.off()"
   ]
  },
  {
   "cell_type": "code",
   "execution_count": 133,
   "metadata": {},
   "outputs": [
    {
     "data": {
      "text/html": [
       "<ol class=list-inline>\n",
       "\t<li>9</li>\n",
       "\t<li>7</li>\n",
       "\t<li>8</li>\n",
       "\t<li>9</li>\n",
       "\t<li>9</li>\n",
       "\t<li>8</li>\n",
       "\t<li>8</li>\n",
       "\t<li>8</li>\n",
       "\t<li>10</li>\n",
       "\t<li>8</li>\n",
       "\t<li>8</li>\n",
       "\t<li>7</li>\n",
       "\t<li>8</li>\n",
       "\t<li>7</li>\n",
       "\t<li>9</li>\n",
       "\t<li>9</li>\n",
       "\t<li>9</li>\n",
       "\t<li>8</li>\n",
       "\t<li>11</li>\n",
       "\t<li>7</li>\n",
       "\t<li>7</li>\n",
       "\t<li>9</li>\n",
       "\t<li>8</li>\n",
       "\t<li>10</li>\n",
       "\t<li>8</li>\n",
       "</ol>\n"
      ],
      "text/latex": [
       "\\begin{enumerate*}\n",
       "\\item 9\n",
       "\\item 7\n",
       "\\item 8\n",
       "\\item 9\n",
       "\\item 9\n",
       "\\item 8\n",
       "\\item 8\n",
       "\\item 8\n",
       "\\item 10\n",
       "\\item 8\n",
       "\\item 8\n",
       "\\item 7\n",
       "\\item 8\n",
       "\\item 7\n",
       "\\item 9\n",
       "\\item 9\n",
       "\\item 9\n",
       "\\item 8\n",
       "\\item 11\n",
       "\\item 7\n",
       "\\item 7\n",
       "\\item 9\n",
       "\\item 8\n",
       "\\item 10\n",
       "\\item 8\n",
       "\\end{enumerate*}\n"
      ],
      "text/markdown": [
       "1. 9\n",
       "2. 7\n",
       "3. 8\n",
       "4. 9\n",
       "5. 9\n",
       "6. 8\n",
       "7. 8\n",
       "8. 8\n",
       "9. 10\n",
       "10. 8\n",
       "11. 8\n",
       "12. 7\n",
       "13. 8\n",
       "14. 7\n",
       "15. 9\n",
       "16. 9\n",
       "17. 9\n",
       "18. 8\n",
       "19. 11\n",
       "20. 7\n",
       "21. 7\n",
       "22. 9\n",
       "23. 8\n",
       "24. 10\n",
       "25. 8\n",
       "\n",
       "\n"
      ],
      "text/plain": [
       " [1]  9  7  8  9  9  8  8  8 10  8  8  7  8  7  9  9  9  8 11  7  7  9  8 10  8"
      ]
     },
     "metadata": {},
     "output_type": "display_data"
    },
    {
     "data": {
      "text/html": [
       "<table>\n",
       "<thead><tr><th scope=col>mean</th><th scope=col>std</th></tr></thead>\n",
       "<tbody>\n",
       "\t<tr><td>8.4      </td><td>0.4000000</td></tr>\n",
       "\t<tr><td>8.4      </td><td>0.4000000</td></tr>\n",
       "\t<tr><td>7.8      </td><td>0.3741657</td></tr>\n",
       "\t<tr><td>8.8      </td><td>0.6633250</td></tr>\n",
       "\t<tr><td>8.4      </td><td>0.5099020</td></tr>\n",
       "</tbody>\n",
       "</table>\n"
      ],
      "text/latex": [
       "\\begin{tabular}{r|ll}\n",
       " mean & std\\\\\n",
       "\\hline\n",
       "\t 8.4       & 0.4000000\\\\\n",
       "\t 8.4       & 0.4000000\\\\\n",
       "\t 7.8       & 0.3741657\\\\\n",
       "\t 8.8       & 0.6633250\\\\\n",
       "\t 8.4       & 0.5099020\\\\\n",
       "\\end{tabular}\n"
      ],
      "text/markdown": [
       "\n",
       "mean | std | \n",
       "|---|---|---|---|---|\n",
       "| 8.4       | 0.4000000 | \n",
       "| 8.4       | 0.4000000 | \n",
       "| 7.8       | 0.3741657 | \n",
       "| 8.8       | 0.6633250 | \n",
       "| 8.4       | 0.5099020 | \n",
       "\n",
       "\n"
      ],
      "text/plain": [
       "  mean std      \n",
       "1 8.4  0.4000000\n",
       "2 8.4  0.4000000\n",
       "3 7.8  0.3741657\n",
       "4 8.8  0.6633250\n",
       "5 8.4  0.5099020"
      ]
     },
     "metadata": {},
     "output_type": "display_data"
    }
   ],
   "source": [
    "out <- matrix(ncol=2, nrow=5)\n",
    "\n",
    "vector_var <- double(0)\n",
    "vector_mean <- double(0)\n",
    "list_dir = list.dirs(path = \"../../log/clustering_diameter\", full.names = TRUE, recursive = FALSE)\n",
    "\n",
    "for (dir in list_dir){\n",
    "    list_files = (list.files(path = dir, pattern = NULL, all.files = FALSE,\n",
    "           full.names = TRUE, recursive = FALSE,\n",
    "           ignore.case = FALSE, include.dirs = FALSE, no.. = FALSE)\n",
    "    )\n",
    "    for (file in list_files){\n",
    "        if (grepl(\"diameter2018\", file)){\n",
    "            c1 <- read.csv(file=file, skip=12, header=TRUE, sep=\",\")\n",
    "            #print(c)\n",
    "            vector_mean  <- c(vector_mean,  c1[1,1]  )\n",
    "        }\n",
    "    }\n",
    "}\n",
    "\n",
    "vector_mean\n",
    "\n",
    "for(i in 1:5){\n",
    "    out[i,1] <- mean( vector_mean[( (i-1)*5+1 ):( i*5 )] )\n",
    "    out[i,2] <- std(vector_mean[( (i-1)*5+1 ):( i*5 )] )\n",
    "}\n",
    "out <- data.frame(out)\n",
    "\n",
    "names(out)[names(out)==\"X1\"] <- \"mean\"\n",
    "names(out)[names(out)==\"X2\"] <- \"std\"\n",
    "\n",
    "out"
   ]
  },
  {
   "cell_type": "code",
   "execution_count": 135,
   "metadata": {
    "scrolled": false
   },
   "outputs": [
    {
     "data": {
      "text/plain": [
       "\n",
       "Call:\n",
       "lm(formula = y ~ x, weights = (out$std)^(-0.5))\n",
       "\n",
       "Weighted Residuals:\n",
       "        1         2         3         4         5 \n",
       " 0.155404  0.117339 -0.686551  0.479542  0.002957 \n",
       "\n",
       "Coefficients:\n",
       "            Estimate Std. Error t value Pr(>|t|)    \n",
       "(Intercept)  8.24614    0.41815  19.721 0.000285 ***\n",
       "x            0.03027    0.12962   0.234 0.830365    \n",
       "---\n",
       "Signif. codes:  0 ‘***’ 0.001 ‘**’ 0.01 ‘*’ 0.05 ‘.’ 0.1 ‘ ’ 1\n",
       "\n",
       "Residual standard error: 0.4964 on 3 degrees of freedom\n",
       "Multiple R-squared:  0.01786,\tAdjusted R-squared:  -0.3095 \n",
       "F-statistic: 0.05454 on 1 and 3 DF,  p-value: 0.8304\n"
      ]
     },
     "metadata": {},
     "output_type": "display_data"
    },
    {
     "data": {
      "text/html": [
       "<strong>png:</strong> 2"
      ],
      "text/latex": [
       "\\textbf{png:} 2"
      ],
      "text/markdown": [
       "**png:** 2"
      ],
      "text/plain": [
       "png \n",
       "  2 "
      ]
     },
     "metadata": {},
     "output_type": "display_data"
    }
   ],
   "source": [
    "x <- 1:5\n",
    "y <- out$mean\n",
    "\n",
    "svg(filename=\"../../tex/Maggiora/img/diameter.svg\", \n",
    "    width=5, \n",
    "    height=4, \n",
    "    pointsize=12)\n",
    "\n",
    "plot(1:5, out$mean, xlab=\"memory size\", ylab=\"diameter\", pch=20, ylim=range(c(out$mean-out$std, out$mean+out$std)), panel.first=grid())\n",
    "grid()\n",
    "\n",
    "arrows(1:5, out$mean-out$std, 1:5, out$mean+out$std,, length=0.05, angle=90, code=3)\n",
    "\n",
    "summary(lm(y ~ x, weights=(out$std)^(-0.5)))\n",
    "abline(lm(y ~ x, weights=(out$std)^(-0.5)))\n",
    "\n",
    "par(new=TRUE)\n",
    "\n",
    "dev.off()"
   ]
  },
  {
   "cell_type": "markdown",
   "metadata": {},
   "source": [
    "# extract all local clustering coeffs...\n",
    "c1 <- read.csv(file=\"../../log/clustering2018_08_03_18_18_47.csv\", skip=12, header=TRUE, sep=\",\") ## read file\n",
    "c2 <- read.csv(file=\"../../log/clustering2018_08_03_18_19_18.csv\", skip=12, header=TRUE, sep=\",\") ## read file\n",
    "c3 <- read.csv(file=\"../../log/clustering2018_08_03_18_19_38.csv\", skip=12, header=TRUE, sep=\",\") ## read file\n",
    "c4 <- read.csv(file=\"../../log/clustering2018_08_03_18_19_58.csv\", skip=12, header=TRUE, sep=\",\") ## read file\n",
    "c5 <- read.csv(file=\"../../log/clustering2018_08_03_18_20_17.csv\", skip=12, header=TRUE, sep=\",\") ## read file\n",
    "\n",
    "c6 <- read.csv(file=\"../../log/clustering2018_08_03_18_20_35.csv\", skip=12, header=TRUE, sep=\",\") ## read file\n",
    "c7 <- read.csv(file=\"../../log/clustering2018_08_03_18_20_50.csv\", skip=12, header=TRUE, sep=\",\") ## read file\n",
    "c8 <- read.csv(file=\"../../log/clustering2018_08_03_18_21_08.csv\", skip=12, header=TRUE, sep=\",\") ## read file\n",
    "c9 <- read.csv(file=\"../../log/clustering2018_08_03_18_30_45.csv\", skip=12, header=TRUE, sep=\",\") ## read file\n",
    "c10<- read.csv(file=\"../../log/clustering2018_08_03_18_30_58.csv\", skip=12, header=TRUE, sep=\",\") ## read file\n",
    "\n",
    "c11<- read.csv(file=\"../../log/clustering2018_08_03_18_31_12.csv\", skip=12, header=TRUE, sep=\",\") ## read file\n",
    "c12<- read.csv(file=\"../../log/clustering2018_08_03_18_31_41.csv\", skip=12, header=TRUE, sep=\",\") ## read file\n",
    "c13<- read.csv(file=\"../../log/clustering2018_08_03_18_31_53.csv\", skip=12, header=TRUE, sep=\",\") ## read file\n",
    "c14<- read.csv(file=\"../../log/clustering2018_08_03_18_32_05.csv\", skip=12, header=TRUE, sep=\",\") ## read file\n",
    "c15<- read.csv(file=\"../../log/clustering2018_08_03_18_32_19.csv\", skip=12, header=TRUE, sep=\",\") ## read file\n",
    "\n",
    "c16<- read.csv(file=\"../../log/clustering2018_08_03_18_32_35.csv\", skip=12, header=TRUE, sep=\",\") ## read file\n",
    "c17<- read.csv(file=\"../../log/clustering2018_08_03_18_44_12.csv\", skip=12, header=TRUE, sep=\",\") ## read file\n",
    "c18<- read.csv(file=\"../../log/clustering2018_08_03_18_44_28.csv\", skip=12, header=TRUE, sep=\",\") ## read file\n",
    "c19<- read.csv(file=\"../../log/clustering2018_08_03_18_44_41.csv\", skip=12, header=TRUE, sep=\",\") ## read file\n",
    "c20<- read.csv(file=\"../../log/clustering2018_08_03_18_44_56.csv\", skip=12, header=TRUE, sep=\",\") ## read file"
   ]
  },
  {
   "cell_type": "code",
   "execution_count": 5,
   "metadata": {},
   "outputs": [],
   "source": [
    "#compute average clust coeff\n",
    "cl1 <- mean(c1[,c(2)])\n",
    "cl2 <- mean(c2[,c(2)])\n",
    "cl3 <- mean(c3[,c(2)])\n",
    "cl4 <- mean(c4[,c(2)])\n",
    "cl5 <- mean(c5[,c(2)])\n",
    "\n",
    "cl6 <- mean(c6[,c(2)])\n",
    "cl7 <- mean(c7[,c(2)])\n",
    "cl8 <- mean(c8[,c(2)])\n",
    "cl9 <- mean(c9[,c(2)])\n",
    "cl10 <- mean(c10[,c(2)])\n",
    "\n",
    "cl11 <- mean(c11[,c(2)])\n",
    "cl12 <- mean(c12[,c(2)])\n",
    "cl13 <- mean(c13[,c(2)])\n",
    "cl14 <- mean(c14[,c(2)])\n",
    "cl15 <- mean(c15[,c(2)])\n",
    "\n",
    "cl16 <- mean(c16[,c(2)])\n",
    "cl17 <- mean(c17[,c(2)])\n",
    "cl18 <- mean(c18[,c(2)])\n",
    "cl19 <- mean(c19[,c(2)])\n",
    "cl20 <- mean(c20[,c(2)])"
   ]
  },
  {
   "cell_type": "code",
   "execution_count": 6,
   "metadata": {},
   "outputs": [],
   "source": [
    "X<-1:20\n"
   ]
  },
  {
   "cell_type": "code",
   "execution_count": 7,
   "metadata": {},
   "outputs": [
    {
     "name": "stdout",
     "output_type": "stream",
     "text": [
      " [1] 0.02465433 0.03520154 0.03095296 0.02752646 0.03361107 0.02152966\n",
      " [7] 0.02137036 0.02687771 0.03942013 0.02598795 0.03126557 0.03457721\n",
      "[13] 0.02955948 0.02814270 0.02355061 0.03184391 0.02722589 0.02429455\n",
      "[19] 0.02840174 0.02831615\n"
     ]
    }
   ],
   "source": [
    "Y<- c(cl1,cl2,cl3,cl4,cl5,\n",
    "      cl6,cl7,cl8,cl9,cl10,\n",
    "      cl11,cl12,cl13,cl14,\n",
    "      cl15,cl16,cl17,cl18,cl19,cl20)\n",
    "print(Y)"
   ]
  },
  {
   "cell_type": "code",
   "execution_count": 8,
   "metadata": {},
   "outputs": [],
   "source": [
    "DATA= data.frame(X,Y)"
   ]
  },
  {
   "cell_type": "code",
   "execution_count": 9,
   "metadata": {},
   "outputs": [
    {
     "name": "stdout",
     "output_type": "stream",
     "text": [
      "\n",
      "Call:\n",
      "lm(formula = Y ~ X, data = DATA)\n",
      "\n",
      "Coefficients:\n",
      "(Intercept)            X  \n",
      "  2.950e-02   -7.481e-05  \n",
      "\n"
     ]
    },
    {
     "data": {
      "text/plain": [
       "\n",
       "Call:\n",
       "lm(formula = Y ~ X, data = DATA)\n",
       "\n",
       "Residuals:\n",
       "       Min         1Q     Median         3Q        Max \n",
       "-0.0076070 -0.0030387  0.0000002  0.0028256  0.0105924 \n",
       "\n",
       "Coefficients:\n",
       "              Estimate Std. Error t value Pr(>|t|)    \n",
       "(Intercept)  2.950e-02  2.235e-03  13.201 1.07e-10 ***\n",
       "X           -7.481e-05  1.866e-04  -0.401    0.693    \n",
       "---\n",
       "Signif. codes:  0 ‘***’ 0.001 ‘**’ 0.01 ‘*’ 0.05 ‘.’ 0.1 ‘ ’ 1\n",
       "\n",
       "Residual standard error: 0.004811 on 18 degrees of freedom\n",
       "Multiple R-squared:  0.008853,\tAdjusted R-squared:  -0.04621 \n",
       "F-statistic: 0.1608 on 1 and 18 DF,  p-value: 0.6932\n"
      ]
     },
     "metadata": {},
     "output_type": "display_data"
    },
    {
     "data": {
      "image/png": "iVBORw0KGgoAAAANSUhEUgAAA0gAAANICAMAAADKOT/pAAADAFBMVEUAAAABAQECAgIDAwME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\ngg==",
      "text/plain": [
       "plot without title"
      ]
     },
     "metadata": {},
     "output_type": "display_data"
    }
   ],
   "source": [
    "plot(X,Y, xlab=\"memory\", ylab=\"clustering coeff.\", panel.first=grid())\n",
    "linearMod <- lm(Y ~ X, data=DATA)  # build linear regression model on full data\n",
    "print(linearMod)\n",
    "summary(linearMod)"
   ]
  },
  {
   "cell_type": "code",
   "execution_count": null,
   "metadata": {
    "collapsed": true
   },
   "outputs": [],
   "source": [
    "#più simulazioni per singola memoria..."
   ]
  }
 ],
 "metadata": {
  "kernelspec": {
   "display_name": "R",
   "language": "R",
   "name": "ir"
  },
  "language_info": {
   "codemirror_mode": "r",
   "file_extension": ".r",
   "mimetype": "text/x-r-source",
   "name": "R",
   "pygments_lexer": "r",
<<<<<<< HEAD
   "version": "3.4.3"
=======
   "version": "3.5.0"
>>>>>>> 3e5f669a4943abaab6e5f5e9d305302d4f74c1f6
  }
 },
 "nbformat": 4,
 "nbformat_minor": 2
}
