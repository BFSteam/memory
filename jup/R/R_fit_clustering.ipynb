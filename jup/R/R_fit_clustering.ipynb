{
 "cells": [
  {
   "cell_type": "code",
   "execution_count": 1,
   "metadata": {
    "collapsed": true
   },
   "outputs": [],
   "source": [
    "#fit clustering-memoria. \n",
    "#nome opportuno per i csv...\n",
    "#acquisizione tutti i csv, ognuno con i valori di clustering e memoria\n",
    "#creazione dataset\n",
    "#plot\n",
    "#fit lineare\n",
    "#fit nonlineare"
   ]
  },
  {
   "cell_type": "code",
   "execution_count": 4,
   "metadata": {},
   "outputs": [],
   "source": [
    "#extract all local clustering coeffs...\n",
    "c1 <- read.csv(file=\"../../log/clustering2018_08_03_18_18_47.csv\", skip=12, header=TRUE, sep=\",\") ## read file\n",
    "c2 <- read.csv(file=\"../../log/clustering2018_08_03_18_19_18.csv\", skip=12, header=TRUE, sep=\",\") ## read file\n",
    "c3 <- read.csv(file=\"../../log/clustering2018_08_03_18_19_38.csv\", skip=12, header=TRUE, sep=\",\") ## read file\n",
    "c4 <- read.csv(file=\"../../log/clustering2018_08_03_18_19_58.csv\", skip=12, header=TRUE, sep=\",\") ## read file\n",
    "c5 <- read.csv(file=\"../../log/clustering2018_08_03_18_20_17.csv\", skip=12, header=TRUE, sep=\",\") ## read file\n",
    "\n",
    "c6 <- read.csv(file=\"../../log/clustering2018_08_03_18_20_35.csv\", skip=12, header=TRUE, sep=\",\") ## read file\n",
    "c7 <- read.csv(file=\"../../log/clustering2018_08_03_18_20_50.csv\", skip=12, header=TRUE, sep=\",\") ## read file\n",
    "c8 <- read.csv(file=\"../../log/clustering2018_08_03_18_21_08.csv\", skip=12, header=TRUE, sep=\",\") ## read file\n",
    "c9 <- read.csv(file=\"../../log/clustering2018_08_03_18_30_45.csv\", skip=12, header=TRUE, sep=\",\") ## read file\n",
    "c10<- read.csv(file=\"../../log/clustering2018_08_03_18_30_58.csv\", skip=12, header=TRUE, sep=\",\") ## read file\n",
    "\n",
    "c11<- read.csv(file=\"../../log/clustering2018_08_03_18_31_12.csv\", skip=12, header=TRUE, sep=\",\") ## read file\n",
    "c12<- read.csv(file=\"../../log/clustering2018_08_03_18_31_41.csv\", skip=12, header=TRUE, sep=\",\") ## read file\n",
    "c13<- read.csv(file=\"../../log/clustering2018_08_03_18_31_53.csv\", skip=12, header=TRUE, sep=\",\") ## read file\n",
    "c14<- read.csv(file=\"../../log/clustering2018_08_03_18_32_05.csv\", skip=12, header=TRUE, sep=\",\") ## read file\n",
    "c15<- read.csv(file=\"../../log/clustering2018_08_03_18_32_19.csv\", skip=12, header=TRUE, sep=\",\") ## read file\n",
    "\n",
    "c16<- read.csv(file=\"../../log/clustering2018_08_03_18_32_35.csv\", skip=12, header=TRUE, sep=\",\") ## read file\n",
    "c17<- read.csv(file=\"../../log/clustering2018_08_03_18_44_12.csv\", skip=12, header=TRUE, sep=\",\") ## read file\n",
    "c18<- read.csv(file=\"../../log/clustering2018_08_03_18_44_28.csv\", skip=12, header=TRUE, sep=\",\") ## read file\n",
    "c19<- read.csv(file=\"../../log/clustering2018_08_03_18_44_41.csv\", skip=12, header=TRUE, sep=\",\") ## read file\n",
    "c20<- read.csv(file=\"../../log/clustering2018_08_03_18_44_56.csv\", skip=12, header=TRUE, sep=\",\") ## read file"
   ]
  },
  {
   "cell_type": "code",
   "execution_count": 5,
   "metadata": {},
   "outputs": [],
   "source": [
    "#compute average clust coeff\n",
    "cl1 <- mean(c1[,c(2)])\n",
    "cl2 <- mean(c2[,c(2)])\n",
    "cl3 <- mean(c3[,c(2)])\n",
    "cl4 <- mean(c4[,c(2)])\n",
    "cl5 <- mean(c5[,c(2)])\n",
    "\n",
    "cl6 <- mean(c6[,c(2)])\n",
    "cl7 <- mean(c7[,c(2)])\n",
    "cl8 <- mean(c8[,c(2)])\n",
    "cl9 <- mean(c9[,c(2)])\n",
    "cl10 <- mean(c10[,c(2)])\n",
    "\n",
    "cl11 <- mean(c11[,c(2)])\n",
    "cl12 <- mean(c12[,c(2)])\n",
    "cl13 <- mean(c13[,c(2)])\n",
    "cl14 <- mean(c14[,c(2)])\n",
    "cl15 <- mean(c15[,c(2)])\n",
    "\n",
    "cl16 <- mean(c16[,c(2)])\n",
    "cl17 <- mean(c17[,c(2)])\n",
    "cl18 <- mean(c18[,c(2)])\n",
    "cl19 <- mean(c19[,c(2)])\n",
    "cl20 <- mean(c20[,c(2)])"
   ]
  },
  {
   "cell_type": "code",
   "execution_count": 3,
   "metadata": {},
   "outputs": [],
   "source": [
    "X<-1:20\n"
   ]
  },
  {
   "cell_type": "code",
   "execution_count": 4,
   "metadata": {},
   "outputs": [
    {
     "name": "stdout",
     "output_type": "stream",
     "text": [
      " [1] 0.02465433 0.03520154 0.03095296 0.02752646 0.03361107 0.02152966\n",
      " [7] 0.02137036 0.02687771 0.03942013 0.02598795 0.03126557 0.03457721\n",
      "[13] 0.02955948 0.02814270 0.02355061 0.03184391 0.02722589 0.02429455\n",
      "[19] 0.02840174 0.02831615\n"
     ]
    }
   ],
   "source": [
    "Y<- c(cl1,cl2,cl3,cl4,cl5,\n",
    "      cl6,cl7,cl8,cl9,cl10,\n",
    "      cl11,cl12,cl13,cl14,\n",
    "      cl15,cl16,cl17,cl18,cl19,cl20)\n",
    "print(Y)"
   ]
  },
  {
   "cell_type": "code",
   "execution_count": 3,
   "metadata": {},
   "outputs": [
    {
     "ename": "ERROR",
     "evalue": "Error in data.frame(X, Y): object 'X' not found\n",
     "output_type": "error",
     "traceback": [
      "Error in data.frame(X, Y): object 'X' not found\nTraceback:\n",
      "1. data.frame(X, Y)"
     ]
    }
   ],
   "source": [
    "DATA= data.frame(X,Y)"
   ]
  },
  {
   "cell_type": "code",
   "execution_count": 2,
   "metadata": {},
   "outputs": [
    {
     "ename": "ERROR",
     "evalue": "Error in plot(X, Y, xlab = \"memory\", ylab = \"clustering coeff.\", panel.first = grid()): object 'X' not found\n",
     "output_type": "error",
     "traceback": [
      "Error in plot(X, Y, xlab = \"memory\", ylab = \"clustering coeff.\", panel.first = grid()): object 'X' not found\nTraceback:\n",
      "1. plot(X, Y, xlab = \"memory\", ylab = \"clustering coeff.\", panel.first = grid())"
     ]
    }
   ],
   "source": [
    "plot(X,Y, xlab=\"memory\", ylab=\"clustering coeff.\", panel.first=grid())\n",
    "linearMod <- lm(Y ~ X, data=DATA)  # build linear regression model on full data\n",
    "print(linearMod)\n",
    "summary(linearMod)"
   ]
  },
  {
   "cell_type": "code",
   "execution_count": null,
   "metadata": {
    "collapsed": true
   },
   "outputs": [],
   "source": [
    "#più simulazioni per singola memoria..."
   ]
  }
 ],
 "metadata": {
  "kernelspec": {
   "display_name": "R",
   "language": "R",
   "name": "ir"
  },
  "language_info": {
   "codemirror_mode": "r",
   "file_extension": ".r",
   "mimetype": "text/x-r-source",
   "name": "R",
   "pygments_lexer": "r",
   "version": "3.4.4"
  }
 },
 "nbformat": 4,
 "nbformat_minor": 2
}
