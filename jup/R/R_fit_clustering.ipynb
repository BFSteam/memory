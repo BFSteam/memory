{
 "cells": [
  {
   "cell_type": "code",
   "execution_count": null,
   "metadata": {
    "collapsed": true
   },
   "outputs": [],
   "source": [
    "#fit clustering-memoria. \n",
    "#nome opportuno per i csv...\n",
    "#acquisizione tutti i csv, ognuno con i valori di clustering e memoria\n",
    "#creazione dataset\n",
    "#plot\n",
    "#fit lineare\n",
    "#fit nonlineare"
   ]
  },
  {
   "cell_type": "code",
   "execution_count": null,
   "metadata": {
    "collapsed": true
   },
   "outputs": [],
   "source": []
  },
  {
   "cell_type": "code",
   "execution_count": null,
   "metadata": {
    "collapsed": true
   },
   "outputs": [],
   "source": [
    "linearMod <- lm(X ~ Y, data=)  # build linear regression model on full data\n",
    "print(linearMod)\n",
    "summary(linearmod)"
   ]
  }
 ],
 "metadata": {
  "kernelspec": {
   "display_name": "R",
   "language": "R",
   "name": "ir"
  },
  "language_info": {
   "codemirror_mode": "r",
   "file_extension": ".r",
   "mimetype": "text/x-r-source",
   "name": "R",
   "pygments_lexer": "r",
   "version": "3.4.2"
  }
 },
 "nbformat": 4,
 "nbformat_minor": 2
}
