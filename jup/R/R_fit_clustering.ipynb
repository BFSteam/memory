{
 "cells": [
  {
   "cell_type": "code",
   "execution_count": 1,
   "metadata": {},
   "outputs": [],
   "source": [
    "std <- function(x) sqrt(var(x)/(length(x)))\n",
    "std1 <- function(x) sqrt(var(x)/(length(x)-1))"
   ]
  },
  {
   "cell_type": "code",
   "execution_count": 3,
   "metadata": {},
   "outputs": [
    {
     "data": {
      "text/html": [
       "<ol class=list-inline>\n",
       "\t<li>0.029817715921459</li>\n",
       "\t<li>0.0356038520553965</li>\n",
       "\t<li>0.0270013815486568</li>\n",
       "\t<li>0.033048419767778</li>\n",
       "\t<li>0.0292386911046654</li>\n",
       "\t<li>0.0200781524561137</li>\n",
       "\t<li>0.0248131410842366</li>\n",
       "\t<li>0.0288826745800675</li>\n",
       "\t<li>0.029638222574775</li>\n",
       "\t<li>0.0283688309793742</li>\n",
       "\t<li>0.023437397851656</li>\n",
       "\t<li>0.0308440045743238</li>\n",
       "\t<li>0.0313535540944656</li>\n",
       "\t<li>0.0260672848236558</li>\n",
       "\t<li>0.0321492446248776</li>\n",
       "\t<li>0.0317231163241549</li>\n",
       "\t<li>0.0320964881265415</li>\n",
       "\t<li>0.0328013203352772</li>\n",
       "\t<li>0.0246976428371735</li>\n",
       "\t<li>0.0326437287758165</li>\n",
       "\t<li>0.0331533448119189</li>\n",
       "\t<li>0.0242582904563627</li>\n",
       "\t<li>0.0351057885008875</li>\n",
       "\t<li>0.0319230310389833</li>\n",
       "\t<li>0.0267880017404719</li>\n",
       "</ol>\n"
      ],
      "text/latex": [
       "\\begin{enumerate*}\n",
       "\\item 0.029817715921459\n",
       "\\item 0.0356038520553965\n",
       "\\item 0.0270013815486568\n",
       "\\item 0.033048419767778\n",
       "\\item 0.0292386911046654\n",
       "\\item 0.0200781524561137\n",
       "\\item 0.0248131410842366\n",
       "\\item 0.0288826745800675\n",
       "\\item 0.029638222574775\n",
       "\\item 0.0283688309793742\n",
       "\\item 0.023437397851656\n",
       "\\item 0.0308440045743238\n",
       "\\item 0.0313535540944656\n",
       "\\item 0.0260672848236558\n",
       "\\item 0.0321492446248776\n",
       "\\item 0.0317231163241549\n",
       "\\item 0.0320964881265415\n",
       "\\item 0.0328013203352772\n",
       "\\item 0.0246976428371735\n",
       "\\item 0.0326437287758165\n",
       "\\item 0.0331533448119189\n",
       "\\item 0.0242582904563627\n",
       "\\item 0.0351057885008875\n",
       "\\item 0.0319230310389833\n",
       "\\item 0.0267880017404719\n",
       "\\end{enumerate*}\n"
      ],
      "text/markdown": [
       "1. 0.029817715921459\n",
       "2. 0.0356038520553965\n",
       "3. 0.0270013815486568\n",
       "4. 0.033048419767778\n",
       "5. 0.0292386911046654\n",
       "6. 0.0200781524561137\n",
       "7. 0.0248131410842366\n",
       "8. 0.0288826745800675\n",
       "9. 0.029638222574775\n",
       "10. 0.0283688309793742\n",
       "11. 0.023437397851656\n",
       "12. 0.0308440045743238\n",
       "13. 0.0313535540944656\n",
       "14. 0.0260672848236558\n",
       "15. 0.0321492446248776\n",
       "16. 0.0317231163241549\n",
       "17. 0.0320964881265415\n",
       "18. 0.0328013203352772\n",
       "19. 0.0246976428371735\n",
       "20. 0.0326437287758165\n",
       "21. 0.0331533448119189\n",
       "22. 0.0242582904563627\n",
       "23. 0.0351057885008875\n",
       "24. 0.0319230310389833\n",
       "25. 0.0267880017404719\n",
       "\n",
       "\n"
      ],
      "text/plain": [
       " [1] 0.02981772 0.03560385 0.02700138 0.03304842 0.02923869 0.02007815\n",
       " [7] 0.02481314 0.02888267 0.02963822 0.02836883 0.02343740 0.03084400\n",
       "[13] 0.03135355 0.02606728 0.03214924 0.03172312 0.03209649 0.03280132\n",
       "[19] 0.02469764 0.03264373 0.03315334 0.02425829 0.03510579 0.03192303\n",
       "[25] 0.02678800"
      ]
     },
     "metadata": {},
     "output_type": "display_data"
    },
    {
     "data": {
      "text/html": [
       "<table>\n",
       "<thead><tr><th scope=col>mean</th><th scope=col>std</th></tr></thead>\n",
       "<tbody>\n",
       "\t<tr><td>0.03094201 </td><td>0.005392594</td></tr>\n",
       "\t<tr><td>0.02635620 </td><td>0.004991813</td></tr>\n",
       "\t<tr><td>0.02877030 </td><td>0.005459777</td></tr>\n",
       "\t<tr><td>0.03079246 </td><td>0.004921330</td></tr>\n",
       "\t<tr><td>0.03024569 </td><td>0.005459269</td></tr>\n",
       "</tbody>\n",
       "</table>\n"
      ],
      "text/latex": [
       "\\begin{tabular}{r|ll}\n",
       " mean & std\\\\\n",
       "\\hline\n",
       "\t 0.03094201  & 0.005392594\\\\\n",
       "\t 0.02635620  & 0.004991813\\\\\n",
       "\t 0.02877030  & 0.005459777\\\\\n",
       "\t 0.03079246  & 0.004921330\\\\\n",
       "\t 0.03024569  & 0.005459269\\\\\n",
       "\\end{tabular}\n"
      ],
      "text/markdown": [
       "\n",
       "mean | std | \n",
       "|---|---|---|---|---|\n",
       "| 0.03094201  | 0.005392594 | \n",
       "| 0.02635620  | 0.004991813 | \n",
       "| 0.02877030  | 0.005459777 | \n",
       "| 0.03079246  | 0.004921330 | \n",
       "| 0.03024569  | 0.005459269 | \n",
       "\n",
       "\n"
      ],
      "text/plain": [
       "  mean       std        \n",
       "1 0.03094201 0.005392594\n",
       "2 0.02635620 0.004991813\n",
       "3 0.02877030 0.005459777\n",
       "4 0.03079246 0.004921330\n",
       "5 0.03024569 0.005459269"
      ]
     },
     "metadata": {},
     "output_type": "display_data"
    }
   ],
   "source": [
    "out <- matrix(ncol=2, nrow=5)\n",
    "\n",
    "vector_var <- double(0)\n",
    "vector_mean <- double(0)\n",
    "list_dir = list.dirs(path = \"../../log/clustering_diameter\", full.names = TRUE, recursive = FALSE)\n",
    "\n",
    "for (dir in list_dir){\n",
    "    list_files = (list.files(path = dir, pattern = NULL, all.files = FALSE,\n",
    "           full.names = TRUE, recursive = FALSE,\n",
    "           ignore.case = FALSE, include.dirs = FALSE, no.. = FALSE)\n",
    "    )\n",
    "    for (file in list_files){\n",
    "        if (grepl(\"clustering2018\", file)){\n",
    "            c1 <- read.csv(file=file, skip=12, header=TRUE, sep=\",\")\n",
    "            #print(c)\n",
    "            vector_var <- c(vector_var, var(c1[,c(2)]))\n",
    "            vector_mean <- c(vector_mean, mean( c1[,c(2)] ) ) \n",
    "        }\n",
    "    }\n",
    "}\n",
    "\n",
    "vector_mean\n",
    "\n",
    "for(i in 1:5){\n",
    "    out[i,1] <- mean( vector_mean[( (i-1)*5+1 ):( i*5 )] )\n",
    "    out[i,2] <- sqrt(sum( vector_var[( (i-1)*5+1 ):( i*5 )] )) / length(vector_var)\n",
    "}\n",
    "out <- data.frame(out)\n",
    "\n",
    "names(out)[names(out)==\"X1\"] <- \"mean\"\n",
    "names(out)[names(out)==\"X2\"] <- \"std\"\n",
    "\n",
    "out"
   ]
  },
  {
   "cell_type": "code",
   "execution_count": 6,
   "metadata": {
    "scrolled": false
   },
   "outputs": [
    {
     "data": {
      "text/html": [
       "0.251110909408825"
      ],
      "text/latex": [
       "0.251110909408825"
      ],
      "text/markdown": [
       "0.251110909408825"
      ],
      "text/plain": [
       "[1] 0.2511109"
      ]
     },
     "metadata": {},
     "output_type": "display_data"
    },
    {
     "data": {
      "text/plain": [
       "\n",
       "Call:\n",
       "lm(formula = y ~ x, weights = (out$std)^(-0.5))\n",
       "\n",
       "Weighted Residuals:\n",
       "         1          2          3          4          5 \n",
       " 0.0080130 -0.0102866 -0.0023544  0.0040108  0.0007199 \n",
       "\n",
       "Coefficients:\n",
       "             Estimate Std. Error t value Pr(>|t|)   \n",
       "(Intercept) 0.0284507  0.0022654  12.559  0.00109 **\n",
       "x           0.0003199  0.0006838   0.468  0.67182   \n",
       "---\n",
       "Signif. codes:  0 ‘***’ 0.001 ‘**’ 0.01 ‘*’ 0.05 ‘.’ 0.1 ‘ ’ 1\n",
       "\n",
       "Residual standard error: 0.008004 on 3 degrees of freedom\n",
       "Multiple R-squared:  0.06799,\tAdjusted R-squared:  -0.2427 \n",
       "F-statistic: 0.2188 on 1 and 3 DF,  p-value: 0.6718\n"
      ]
     },
     "metadata": {},
     "output_type": "display_data"
    },
    {
     "data": {
      "text/html": [
       "<strong>png:</strong> 2"
      ],
      "text/latex": [
       "\\textbf{png:} 2"
      ],
      "text/markdown": [
       "**png:** 2"
      ],
      "text/plain": [
       "png \n",
       "  2 "
      ]
     },
     "metadata": {},
     "output_type": "display_data"
    }
   ],
   "source": [
    "x <- 1:5\n",
    "y <- out$mean\n",
    "\n",
    "cor(x,y)\n",
    "\n",
    "svg(filename=\"../../tex/Maggiora/img/clustering.svg\", \n",
    "    width=5, \n",
    "    height=4, \n",
    "    pointsize=12)\n",
    "\n",
    "plot(1:5, out$mean, xlab=\"memory size\", ylab=\"clustering coeff.\", pch=20, ylim=range(c(out$mean-out$std, out$mean+out$std)), panel.first=grid())\n",
    "grid()\n",
    "arrows(1:5, out$mean-out$std, 1:5, out$mean+out$std,, length=0.05, angle=90, code=3)\n",
    "\n",
    "summary(lm(y ~ x, weights=(out$std)^(-0.5)))\n",
    "abline(lm(y ~ x, weights=(out$std)^(-0.5)))\n",
    "\n",
    "par(new=TRUE)\n",
    "\n",
    "dev.off()"
   ]
  },
  {
   "cell_type": "code",
   "execution_count": 7,
   "metadata": {},
   "outputs": [
    {
     "data": {
      "text/html": [
       "<ol class=list-inline>\n",
       "\t<li>9</li>\n",
       "\t<li>7</li>\n",
       "\t<li>8</li>\n",
       "\t<li>9</li>\n",
       "\t<li>9</li>\n",
       "\t<li>8</li>\n",
       "\t<li>8</li>\n",
       "\t<li>8</li>\n",
       "\t<li>10</li>\n",
       "\t<li>8</li>\n",
       "\t<li>8</li>\n",
       "\t<li>7</li>\n",
       "\t<li>8</li>\n",
       "\t<li>7</li>\n",
       "\t<li>9</li>\n",
       "\t<li>9</li>\n",
       "\t<li>9</li>\n",
       "\t<li>8</li>\n",
       "\t<li>11</li>\n",
       "\t<li>7</li>\n",
       "\t<li>7</li>\n",
       "\t<li>9</li>\n",
       "\t<li>8</li>\n",
       "\t<li>10</li>\n",
       "\t<li>8</li>\n",
       "</ol>\n"
      ],
      "text/latex": [
       "\\begin{enumerate*}\n",
       "\\item 9\n",
       "\\item 7\n",
       "\\item 8\n",
       "\\item 9\n",
       "\\item 9\n",
       "\\item 8\n",
       "\\item 8\n",
       "\\item 8\n",
       "\\item 10\n",
       "\\item 8\n",
       "\\item 8\n",
       "\\item 7\n",
       "\\item 8\n",
       "\\item 7\n",
       "\\item 9\n",
       "\\item 9\n",
       "\\item 9\n",
       "\\item 8\n",
       "\\item 11\n",
       "\\item 7\n",
       "\\item 7\n",
       "\\item 9\n",
       "\\item 8\n",
       "\\item 10\n",
       "\\item 8\n",
       "\\end{enumerate*}\n"
      ],
      "text/markdown": [
       "1. 9\n",
       "2. 7\n",
       "3. 8\n",
       "4. 9\n",
       "5. 9\n",
       "6. 8\n",
       "7. 8\n",
       "8. 8\n",
       "9. 10\n",
       "10. 8\n",
       "11. 8\n",
       "12. 7\n",
       "13. 8\n",
       "14. 7\n",
       "15. 9\n",
       "16. 9\n",
       "17. 9\n",
       "18. 8\n",
       "19. 11\n",
       "20. 7\n",
       "21. 7\n",
       "22. 9\n",
       "23. 8\n",
       "24. 10\n",
       "25. 8\n",
       "\n",
       "\n"
      ],
      "text/plain": [
       " [1]  9  7  8  9  9  8  8  8 10  8  8  7  8  7  9  9  9  8 11  7  7  9  8 10  8"
      ]
     },
     "metadata": {},
     "output_type": "display_data"
    },
    {
     "data": {
      "text/html": [
       "<table>\n",
       "<thead><tr><th scope=col>mean</th><th scope=col>std</th></tr></thead>\n",
       "<tbody>\n",
       "\t<tr><td>8.4      </td><td>0.4000000</td></tr>\n",
       "\t<tr><td>8.4      </td><td>0.4000000</td></tr>\n",
       "\t<tr><td>7.8      </td><td>0.3741657</td></tr>\n",
       "\t<tr><td>8.8      </td><td>0.6633250</td></tr>\n",
       "\t<tr><td>8.4      </td><td>0.5099020</td></tr>\n",
       "</tbody>\n",
       "</table>\n"
      ],
      "text/latex": [
       "\\begin{tabular}{r|ll}\n",
       " mean & std\\\\\n",
       "\\hline\n",
       "\t 8.4       & 0.4000000\\\\\n",
       "\t 8.4       & 0.4000000\\\\\n",
       "\t 7.8       & 0.3741657\\\\\n",
       "\t 8.8       & 0.6633250\\\\\n",
       "\t 8.4       & 0.5099020\\\\\n",
       "\\end{tabular}\n"
      ],
      "text/markdown": [
       "\n",
       "mean | std | \n",
       "|---|---|---|---|---|\n",
       "| 8.4       | 0.4000000 | \n",
       "| 8.4       | 0.4000000 | \n",
       "| 7.8       | 0.3741657 | \n",
       "| 8.8       | 0.6633250 | \n",
       "| 8.4       | 0.5099020 | \n",
       "\n",
       "\n"
      ],
      "text/plain": [
       "  mean std      \n",
       "1 8.4  0.4000000\n",
       "2 8.4  0.4000000\n",
       "3 7.8  0.3741657\n",
       "4 8.8  0.6633250\n",
       "5 8.4  0.5099020"
      ]
     },
     "metadata": {},
     "output_type": "display_data"
    }
   ],
   "source": [
    "out <- matrix(ncol=2, nrow=5)\n",
    "\n",
    "vector_var <- double(0)\n",
    "vector_mean <- double(0)\n",
    "list_dir = list.dirs(path = \"../../log/clustering_diameter\", full.names = TRUE, recursive = FALSE)\n",
    "\n",
    "for (dir in list_dir){\n",
    "    list_files = (list.files(path = dir, pattern = NULL, all.files = FALSE,\n",
    "           full.names = TRUE, recursive = FALSE,\n",
    "           ignore.case = FALSE, include.dirs = FALSE, no.. = FALSE)\n",
    "    )\n",
    "    for (file in list_files){\n",
    "        if (grepl(\"diameter2018\", file)){\n",
    "            c1 <- read.csv(file=file, skip=12, header=TRUE, sep=\",\")\n",
    "            #print(c)\n",
    "            vector_mean  <- c(vector_mean,  c1[1,1]  )\n",
    "        }\n",
    "    }\n",
    "}\n",
    "\n",
    "vector_mean\n",
    "\n",
    "for(i in 1:5){\n",
    "    out[i,1] <- mean( vector_mean[( (i-1)*5+1 ):( i*5 )] )\n",
    "    out[i,2] <- std(vector_mean[( (i-1)*5+1 ):( i*5 )] )\n",
    "}\n",
    "out <- data.frame(out)\n",
    "\n",
    "names(out)[names(out)==\"X1\"] <- \"mean\"\n",
    "names(out)[names(out)==\"X2\"] <- \"std\"\n",
    "\n",
    "out"
   ]
  },
  {
   "cell_type": "code",
   "execution_count": 8,
   "metadata": {
    "scrolled": false
   },
   "outputs": [
    {
     "data": {
      "text/html": [
       "0.176776695296637"
      ],
      "text/latex": [
       "0.176776695296637"
      ],
      "text/markdown": [
       "0.176776695296637"
      ],
      "text/plain": [
       "[1] 0.1767767"
      ]
     },
     "metadata": {},
     "output_type": "display_data"
    },
    {
     "data": {
      "text/plain": [
       "\n",
       "Call:\n",
       "lm(formula = y ~ x, weights = (out$std)^(-0.5))\n",
       "\n",
       "Weighted Residuals:\n",
       "        1         2         3         4         5 \n",
       " 0.155404  0.117339 -0.686551  0.479542  0.002957 \n",
       "\n",
       "Coefficients:\n",
       "            Estimate Std. Error t value Pr(>|t|)    \n",
       "(Intercept)  8.24614    0.41815  19.721 0.000285 ***\n",
       "x            0.03027    0.12962   0.234 0.830365    \n",
       "---\n",
       "Signif. codes:  0 ‘***’ 0.001 ‘**’ 0.01 ‘*’ 0.05 ‘.’ 0.1 ‘ ’ 1\n",
       "\n",
       "Residual standard error: 0.4964 on 3 degrees of freedom\n",
       "Multiple R-squared:  0.01786,\tAdjusted R-squared:  -0.3095 \n",
       "F-statistic: 0.05454 on 1 and 3 DF,  p-value: 0.8304\n"
      ]
     },
     "metadata": {},
     "output_type": "display_data"
    },
    {
     "data": {
      "text/html": [
       "<strong>png:</strong> 2"
      ],
      "text/latex": [
       "\\textbf{png:} 2"
      ],
      "text/markdown": [
       "**png:** 2"
      ],
      "text/plain": [
       "png \n",
       "  2 "
      ]
     },
     "metadata": {},
     "output_type": "display_data"
    }
   ],
   "source": [
    "x <- 1:5\n",
    "y <- out$mean\n",
    "cor(x,y)\n",
    "svg(filename=\"../../tex/Maggiora/img/diameter.svg\", \n",
    "    width=5, \n",
    "    height=4, \n",
    "    pointsize=12)\n",
    "\n",
    "plot(1:5, out$mean, xlab=\"memory size\", ylab=\"diameter\", pch=20, ylim=range(c(out$mean-out$std, out$mean+out$std)), panel.first=grid())\n",
    "grid()\n",
    "\n",
    "arrows(1:5, out$mean-out$std, 1:5, out$mean+out$std,, length=0.05, angle=90, code=3)\n",
    "\n",
    "summary(lm(y ~ x, weights=(out$std)^(-0.5)))\n",
    "abline(lm(y ~ x, weights=(out$std)^(-0.5)))\n",
    "\n",
    "par(new=TRUE)\n",
    "\n",
    "dev.off()"
   ]
  },
  {
   "cell_type": "code",
   "execution_count": null,
   "metadata": {},
   "outputs": [],
   "source": []
  }
 ],
 "metadata": {
  "kernelspec": {
   "display_name": "R",
   "language": "R",
   "name": "ir"
  },
  "language_info": {
   "codemirror_mode": "r",
   "file_extension": ".r",
   "mimetype": "text/x-r-source",
   "name": "R",
   "pygments_lexer": "r",
   "version": "3.5.0"
  }
 },
 "nbformat": 4,
 "nbformat_minor": 2
}
