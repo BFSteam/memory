{
 "cells": [
  {
   "cell_type": "code",
   "execution_count": 1,
   "metadata": {
    "collapsed": true
   },
   "outputs": [],
   "source": [
    "#fit clustering-memoria. \n",
    "#nome opportuno per i csv...\n",
    "#acquisizione tutti i csv, ognuno con i valori di clustering e memoria\n",
    "#creazione dataset\n",
    "#plot\n",
    "#fit lineare\n",
    "#fit nonlineare"
   ]
  },
  {
   "cell_type": "code",
   "execution_count": 2,
   "metadata": {
    "collapsed": true
   },
   "outputs": [],
   "source": [
    "#extract all local clustering coeffs...\n",
    "c1 <- read.csv(file=\"../../log/clustering2018_08_03_15_29_49.csv\", skip=12, header=TRUE, sep=\",\") ## read file"
   ]
  },
  {
   "cell_type": "code",
   "execution_count": 3,
   "metadata": {
    "collapsed": true
   },
   "outputs": [],
   "source": [
    "c2 <- read.csv(file=\"../../log/clustering2018_08_03_15_30_44.csv\", skip=12, header=TRUE, sep=\",\") ## read file"
   ]
  },
  {
   "cell_type": "code",
   "execution_count": 4,
   "metadata": {
    "collapsed": true
   },
   "outputs": [],
   "source": [
    "c3 <- read.csv(file=\"../../log/clustering2018_08_03_15_31_04.csv\", skip=12, header=TRUE, sep=\",\") ## read file"
   ]
  },
  {
   "cell_type": "code",
   "execution_count": 5,
   "metadata": {
    "collapsed": true
   },
   "outputs": [],
   "source": [
    "c4 <- read.csv(file=\"../../log/clustering2018_08_03_15_31_22.csv\", skip=12, header=TRUE, sep=\",\") ## read file"
   ]
  },
  {
   "cell_type": "code",
   "execution_count": 6,
   "metadata": {
    "collapsed": true
   },
   "outputs": [],
   "source": [
    "c5 <- read.csv(file=\"../../log/clustering2018_08_03_15_31_53.csv\", skip=12, header=TRUE, sep=\",\") ## read file"
   ]
  },
  {
   "cell_type": "code",
   "execution_count": 7,
   "metadata": {
    "collapsed": true
   },
   "outputs": [],
   "source": [
    "c6 <- read.csv(file=\"../../log/clustering2018_08_03_15_32_09.csv\", skip=12, header=TRUE, sep=\",\") ## read file"
   ]
  },
  {
   "cell_type": "code",
   "execution_count": 9,
   "metadata": {},
   "outputs": [],
   "source": [
    "#compute average clust coeff\n",
    "cl1 <- mean(c1[,c(2)])\n",
    "cl2 <- mean(c2[,c(2)])\n",
    "cl3 <- mean(c3[,c(2)])\n",
    "cl4 <- mean(c4[,c(2)])\n",
    "cl5 <- mean(c5[,c(2)])\n",
    "cl6 <- mean(c6[,c(2)])"
   ]
  },
  {
   "cell_type": "code",
   "execution_count": 15,
   "metadata": {},
   "outputs": [
    {
     "name": "stdout",
     "output_type": "stream",
     "text": [
      "[1] 1 2 3 4 5 6\n"
     ]
    }
   ],
   "source": [
    "X<-1:6 \n"
   ]
  },
  {
   "cell_type": "code",
   "execution_count": 16,
   "metadata": {},
   "outputs": [
    {
     "name": "stdout",
     "output_type": "stream",
     "text": [
      "[1] 0.03006095 0.02103198 0.02447296 0.02031188 0.02370569 0.02421432\n"
     ]
    }
   ],
   "source": [
    "Y<- c(cl1,cl2,cl3,cl4,cl5,cl6)\n",
    "print(Y)"
   ]
  },
  {
   "cell_type": "code",
   "execution_count": 12,
   "metadata": {
    "collapsed": true
   },
   "outputs": [],
   "source": [
    "DATA= data.frame(X,Y)"
   ]
  },
  {
   "cell_type": "code",
   "execution_count": 17,
   "metadata": {},
   "outputs": [
    {
     "name": "stdout",
     "output_type": "stream",
     "text": [
      "\n",
      "Call:\n",
      "lm(formula = Y ~ X, data = DATA)\n",
      "\n",
      "Coefficients:\n",
      "(Intercept)            X  \n",
      "  0.0265036   -0.0007249  \n",
      "\n"
     ]
    },
    {
     "data": {
      "text/plain": [
       "\n",
       "Call:\n",
       "lm(formula = Y ~ X, data = DATA)\n",
       "\n",
       "Residuals:\n",
       "         1          2          3          4          5          6 \n",
       " 0.0042823 -0.0040217  0.0001442 -0.0032919  0.0008268  0.0020604 \n",
       "\n",
       "Coefficients:\n",
       "              Estimate Std. Error t value Pr(>|t|)   \n",
       "(Intercept)  0.0265036  0.0033012   8.028  0.00131 **\n",
       "X           -0.0007249  0.0008477  -0.855  0.44063   \n",
       "---\n",
       "Signif. codes:  0 '***' 0.001 '**' 0.01 '*' 0.05 '.' 0.1 ' ' 1\n",
       "\n",
       "Residual standard error: 0.003546 on 4 degrees of freedom\n",
       "Multiple R-squared:  0.1546,\tAdjusted R-squared:  -0.05677 \n",
       "F-statistic: 0.7314 on 1 and 4 DF,  p-value: 0.4406\n"
      ]
     },
     "metadata": {},
     "output_type": "display_data"
    },
    {
     "data": {
      "image/png": "[encoded data removed]",
      "text/plain": [
       "plot without title"
      ]
     },
     "metadata": {},
     "output_type": "display_data"
    }
   ],
   "source": [
    "plot(X,Y)\n",
    "linearMod <- lm(Y ~ X, data=DATA)  # build linear regression model on full data\n",
    "print(linearMod)\n",
    "summary(linearMod)"
   ]
  },
  {
   "cell_type": "code",
   "execution_count": null,
   "metadata": {
    "collapsed": true
   },
   "outputs": [],
   "source": [
    "#più simulazioni per singola memoria..."
   ]
  }
 ],
 "metadata": {
  "kernelspec": {
   "display_name": "R",
   "language": "R",
   "name": "ir"
  },
  "language_info": {
   "codemirror_mode": "r",
   "file_extension": ".r",
   "mimetype": "text/x-r-source",
   "name": "R",
   "pygments_lexer": "r",
   "version": "3.4.2"
  }
 },
 "nbformat": 4,
 "nbformat_minor": 2
}
