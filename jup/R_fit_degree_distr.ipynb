{
 "cells": [
  {
   "cell_type": "code",
   "execution_count": 1,
   "metadata": {},
   "outputs": [
    {
     "name": "stderr",
     "output_type": "stream",
     "text": [
      "Warning message in file(file, \"rt\"):\n",
      "\"cannot open file '../log/degreedistr.csv': No such file or directory\""
     ]
    },
    {
     "ename": "ERROR",
     "evalue": "Error in file(file, \"rt\"): non posso aprire questa connessione\n",
     "output_type": "error",
     "traceback": [
      "Error in file(file, \"rt\"): non posso aprire questa connessione\nTraceback:\n",
      "1. read.csv(file = \"../log/degreedistr.csv\", skip = 1, header = TRUE, \n .     sep = \",\")",
      "2. read.table(file = file, header = header, sep = sep, quote = quote, \n .     dec = dec, fill = fill, comment.char = comment.char, ...)",
      "3. file(file, \"rt\")"
     ]
    }
   ],
   "source": [
    "degree_node <- read.csv(file=\"../log/degreedistr.csv\", skip=12, header=TRUE, sep=\",\") ## read file"
   ]
  },
  {
   "cell_type": "code",
   "execution_count": 2,
   "metadata": {},
   "outputs": [
    {
     "ename": "ERROR",
     "evalue": "Error in print(degree_node): oggetto \"degree_node\" non trovato\n",
     "output_type": "error",
     "traceback": [
      "Error in print(degree_node): oggetto \"degree_node\" non trovato\nTraceback:\n",
      "1. print(degree_node)"
     ]
    }
   ],
   "source": [
    "print(degree_node) ## print"
   ]
  },
  {
   "cell_type": "code",
   "execution_count": 3,
   "metadata": {},
   "outputs": [
    {
     "ename": "ERROR",
     "evalue": "Error in df[, c(\"node\")]: object of type 'closure' is not subsettable\n",
     "output_type": "error",
     "traceback": [
      "Error in df[, c(\"node\")]: object of type 'closure' is not subsettable\nTraceback:\n"
     ]
    }
   ],
   "source": [
    "degrees <- degree_node[,c(\"degree\")]"
   ]
  },
  {
   "cell_type": "code",
   "execution_count": 4,
   "metadata": {},
   "outputs": [
    {
     "ename": "ERROR",
     "evalue": "Error in hist(degrees): oggetto \"degrees\" non trovato\n",
     "output_type": "error",
     "traceback": [
      "Error in hist(degrees): oggetto \"degrees\" non trovato\nTraceback:\n",
      "1. hist(degrees)"
     ]
    }
   ],
   "source": [
    "hist(degrees)"
   ]
  },
  {
   "cell_type": "code",
   "execution_count": null,
   "metadata": {
    "collapsed": true
   },
   "outputs": [],
   "source": [
    "#extract X and Y data from histogram"
   ]
  },
  {
   "cell_type": "code",
   "execution_count": null,
   "metadata": {
    "collapsed": true
   },
   "outputs": [],
   "source": [
    "X <- log(X)\n",
    "Y <- log(Y)"
   ]
  },
  {
   "cell_type": "code",
   "execution_count": null,
   "metadata": {
    "collapsed": true
   },
   "outputs": [],
   "source": [
    "linearMod <- lm(X ~ Y, data=)  # build linear regression model on full data\n",
    "print(linearMod)\n",
    "summary(linearmod)"
   ]
  }
 ],
 "metadata": {
  "kernelspec": {
   "display_name": "R",
   "language": "R",
   "name": "ir"
  },
  "language_info": {
   "codemirror_mode": "r",
   "file_extension": ".r",
   "mimetype": "text/x-r-source",
   "name": "R",
   "pygments_lexer": "r",
   "version": "3.4.2"
  }
 },
 "nbformat": 4,
 "nbformat_minor": 2
}
