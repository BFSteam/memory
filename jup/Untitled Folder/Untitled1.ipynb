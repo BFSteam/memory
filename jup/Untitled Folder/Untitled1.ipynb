{
 "cells": [
  {
   "cell_type": "code",
   "execution_count": 1,
   "metadata": {},
   "outputs": [],
   "source": [
    "library(data.table)\n",
    "library(ggplot2)\n",
    "library(latex2exp)\n"
   ]
  },
  {
   "cell_type": "code",
   "execution_count": 2,
   "metadata": {},
   "outputs": [],
   "source": [
    "time <- 199"
   ]
  },
  {
   "cell_type": "code",
   "execution_count": 9,
   "metadata": {},
   "outputs": [],
   "source": [
    "mypath <- \"../../log/TestingPlw-3-1\""
   ]
  },
  {
   "cell_type": "code",
   "execution_count": 10,
   "metadata": {},
   "outputs": [],
   "source": [
    "list.dirs <- function(path=\".\", pattern=NULL, all.dirs=FALSE,\n",
    "  full.names=FALSE, ignore.case=FALSE) {\n",
    "  # use full.names=TRUE to pass to file.info\n",
    "  all <- list.files(path, pattern, all.dirs,\n",
    "           full.names=TRUE, recursive=FALSE, ignore.case)\n",
    "  dirs <- all[file.info(all)$isdir]\n",
    "  # determine whether to return full names or just dir names\n",
    "  if(isTRUE(full.names))\n",
    "    return(dirs)\n",
    "  else\n",
    "    return(basename(dirs))\n",
    "}"
   ]
  },
  {
   "cell_type": "code",
   "execution_count": 11,
   "metadata": {},
   "outputs": [],
   "source": [
    "thepath = list.dirs(mypath)[1]"
   ]
  },
  {
   "cell_type": "code",
   "execution_count": 12,
   "metadata": {},
   "outputs": [],
   "source": [
    "filename = paste(mypath, '/', thepath, '/', 'k_core.csv', sep = \"\")"
   ]
  },
  {
   "cell_type": "code",
   "execution_count": 13,
   "metadata": {},
   "outputs": [],
   "source": [
    "DF <- read.csv(file = filename, skip=12)"
   ]
  },
  {
   "cell_type": "code",
   "execution_count": 14,
   "metadata": {},
   "outputs": [],
   "source": [
    "tempDF <- DF[DF$state =='i',]\n",
    "tempDF <- tempDF[tempDF$time == 1,]"
   ]
  },
  {
   "cell_type": "code",
   "execution_count": 15,
   "metadata": {},
   "outputs": [
    {
     "data": {
      "text/html": [
       "<table>\n",
       "<thead><tr><th></th><th scope=col>time</th><th scope=col>agent</th><th scope=col>k.core</th><th scope=col>state</th><th scope=col>degree</th></tr></thead>\n",
       "<tbody>\n",
       "\t<tr><th scope=row>1056</th><td>1   </td><td>1055</td><td>1   </td><td>i   </td><td>1   </td></tr>\n",
       "</tbody>\n",
       "</table>\n"
      ],
      "text/latex": [
       "\\begin{tabular}{r|lllll}\n",
       "  & time & agent & k.core & state & degree\\\\\n",
       "\\hline\n",
       "\t1056 & 1    & 1055 & 1    & i    & 1   \\\\\n",
       "\\end{tabular}\n"
      ],
      "text/markdown": [
       "\n",
       "| <!--/--> | time | agent | k.core | state | degree | \n",
       "|---|\n",
       "| 1056 | 1    | 1055 | 1    | i    | 1    | \n",
       "\n",
       "\n"
      ],
      "text/plain": [
       "     time agent k.core state degree\n",
       "1056 1    1055  1      i     1     "
      ]
     },
     "metadata": {},
     "output_type": "display_data"
    }
   ],
   "source": [
    "tempDF"
   ]
  },
  {
   "cell_type": "code",
   "execution_count": 16,
   "metadata": {},
   "outputs": [],
   "source": [
    "agent <- as.integer(tempDF['agent'])\n",
    "kcore <- as.integer(tempDF['k.core'])"
   ]
  },
  {
   "cell_type": "code",
   "execution_count": 17,
   "metadata": {},
   "outputs": [],
   "source": [
    "DF$'agent.init' <- agent\n",
    "DF$'k.core.init' <- kcore\n",
    "DF$'density' <- 1"
   ]
  },
  {
   "cell_type": "code",
   "execution_count": 18,
   "metadata": {
    "scrolled": true
   },
   "outputs": [],
   "source": [
    "DT <- data.table(DF)"
   ]
  },
  {
   "cell_type": "code",
   "execution_count": 19,
   "metadata": {},
   "outputs": [],
   "source": [
    "DT1 = DT[, sum(density), by=list(time, state)]"
   ]
  },
  {
   "cell_type": "code",
   "execution_count": 20,
   "metadata": {},
   "outputs": [],
   "source": [
    "names(DT1)[names(DT1)==\"V1\"] <- \"density\""
   ]
  },
  {
   "cell_type": "code",
   "execution_count": 21,
   "metadata": {},
   "outputs": [],
   "source": [
    "DT1$density <- DT1$density / 1134"
   ]
  },
  {
   "cell_type": "code",
   "execution_count": 22,
   "metadata": {},
   "outputs": [],
   "source": [
    "DT1$'agent.init' <- agent\n",
    "DT1$'k.core.init' <- kcore"
   ]
  },
  {
   "cell_type": "code",
   "execution_count": 25,
   "metadata": {},
   "outputs": [],
   "source": [
    "tempDT1 <- DT1[DT1$state == 'r']\n",
    "tempDT1 <- tempDT1[tempDT1$time == 199]\n",
    "density <- as.numeric(tempDT1[,'density'])"
   ]
  },
  {
   "cell_type": "code",
   "execution_count": 26,
   "metadata": {},
   "outputs": [
    {
     "data": {},
     "metadata": {},
     "output_type": "display_data"
    }
   ],
   "source": [
    "DT1 = DT1[DT1$state == 'r']\n",
    "DT1[,state:=NULL]"
   ]
  },
  {
   "cell_type": "markdown",
   "metadata": {},
   "source": [
    "## All datasets"
   ]
  },
  {
   "cell_type": "markdown",
   "metadata": {},
   "source": [
    "Assemble everything and do the loops"
   ]
  },
  {
   "cell_type": "code",
   "execution_count": 55,
   "metadata": {
    "scrolled": true
   },
   "outputs": [
    {
     "name": "stdout",
     "output_type": "stream",
     "text": [
      "[1] \"../../log/TestingPlw-3-1/2019_26_02_15_44_02/k_core.csv\"\n",
      "[1] \"../../log/TestingPlw-3-1/2019_26_02_15_44_33/k_core.csv\"\n",
      "[1] \"../../log/TestingPlw-3-1/2019_26_02_15_44_41/k_core.csv\"\n",
      "[1] \"../../log/TestingPlw-3-1/2019_26_02_15_44_54/k_core.csv\"\n",
      "[1] \"../../log/TestingPlw-3-1/2019_26_02_15_45_22/k_core.csv\"\n",
      "[1] \"../../log/TestingPlw-3-1/2019_26_02_15_45_32/k_core.csv\"\n",
      "[1] \"../../log/TestingPlw-3-1/2019_26_02_15_45_44/k_core.csv\"\n",
      "[1] \"../../log/TestingPlw-3-1/2019_26_02_15_46_14/k_core.csv\"\n",
      "[1] \"../../log/TestingPlw-3-1/2019_26_02_15_46_23/k_core.csv\"\n",
      "[1] \"../../log/TestingPlw-3-1/2019_26_02_15_46_37/k_core.csv\"\n",
      "[1] \"../../log/TestingPlw-3-1/2019_26_02_15_47_08/k_core.csv\"\n",
      "[1] \"../../log/TestingPlw-3-1/2019_26_02_15_47_17/k_core.csv\"\n",
      "[1] \"../../log/TestingPlw-3-1/2019_26_02_15_47_31/k_core.csv\"\n",
      "[1] \"../../log/TestingPlw-3-1/2019_26_02_15_48_02/k_core.csv\"\n",
      "[1] \"../../log/TestingPlw-3-1/2019_26_02_15_48_13/k_core.csv\"\n",
      "[1] \"../../log/TestingPlw-3-1/2019_26_02_15_48_27/k_core.csv\"\n",
      "[1] \"../../log/TestingPlw-3-1/2019_26_02_15_49_00/k_core.csv\"\n",
      "[1] \"../../log/TestingPlw-3-1/2019_26_02_15_49_11/k_core.csv\"\n",
      "[1] \"../../log/TestingPlw-3-1/2019_26_02_15_49_25/k_core.csv\"\n",
      "[1] \"../../log/TestingPlw-3-1/2019_26_02_15_49_59/k_core.csv\"\n",
      "[1] \"../../log/TestingPlw-3-1/2019_26_02_15_50_09/k_core.csv\"\n",
      "[1] \"../../log/TestingPlw-3-1/2019_26_02_15_50_23/k_core.csv\"\n",
      "[1] \"../../log/TestingPlw-3-1/2019_26_02_15_50_56/k_core.csv\"\n",
      "[1] \"../../log/TestingPlw-3-1/2019_26_02_15_51_05/k_core.csv\"\n",
      "[1] \"../../log/TestingPlw-3-1/2019_26_02_15_51_19/k_core.csv\"\n",
      "[1] \"../../log/TestingPlw-3-1/2019_26_02_15_51_53/k_core.csv\"\n",
      "[1] \"../../log/TestingPlw-3-1/2019_26_02_15_52_02/k_core.csv\"\n",
      "[1] \"../../log/TestingPlw-3-1/2019_26_02_15_52_15/k_core.csv\"\n",
      "[1] \"../../log/TestingPlw-3-1/2019_26_02_15_52_50/k_core.csv\"\n",
      "[1] \"../../log/TestingPlw-3-1/2019_26_02_15_52_58/k_core.csv\"\n",
      "[1] \"../../log/TestingPlw-3-1/2019_26_02_15_53_13/k_core.csv\"\n",
      "[1] \"../../log/TestingPlw-3-1/2019_26_02_15_53_48/k_core.csv\"\n",
      "[1] \"../../log/TestingPlw-3-1/2019_26_02_15_53_56/k_core.csv\"\n",
      "[1] \"../../log/TestingPlw-3-1/2019_26_02_15_54_09/k_core.csv\"\n",
      "[1] \"../../log/TestingPlw-3-1/2019_26_02_15_54_44/k_core.csv\"\n",
      "[1] \"../../log/TestingPlw-3-1/2019_26_02_15_54_51/k_core.csv\"\n",
      "[1] \"../../log/TestingPlw-3-1/2019_26_02_15_55_04/k_core.csv\"\n",
      "[1] \"../../log/TestingPlw-3-1/2019_26_02_15_55_40/k_core.csv\"\n",
      "[1] \"../../log/TestingPlw-3-1/2019_26_02_15_55_46/k_core.csv\"\n",
      "[1] \"../../log/TestingPlw-3-1/2019_26_02_15_55_58/k_core.csv\"\n",
      "[1] \"../../log/TestingPlw-3-1/2019_26_02_15_56_35/k_core.csv\"\n",
      "[1] \"../../log/TestingPlw-3-1/2019_26_02_15_56_41/k_core.csv\"\n",
      "[1] \"../../log/TestingPlw-3-1/2019_26_02_15_56_53/k_core.csv\"\n",
      "[1] \"../../log/TestingPlw-3-1/2019_26_02_15_57_30/k_core.csv\"\n",
      "[1] \"../../log/TestingPlw-3-1/2019_26_02_15_57_37/k_core.csv\"\n",
      "[1] \"../../log/TestingPlw-3-1/2019_26_02_15_57_47/k_core.csv\"\n",
      "[1] \"../../log/TestingPlw-3-1/2019_26_02_15_58_25/k_core.csv\"\n",
      "[1] \"../../log/TestingPlw-3-1/2019_26_02_15_58_32/k_core.csv\"\n",
      "[1] \"../../log/TestingPlw-3-1/2019_26_02_15_58_43/k_core.csv\"\n",
      "[1] \"../../log/TestingPlw-3-1/2019_26_02_15_59_20/k_core.csv\"\n",
      "[1] \"../../log/TestingPlw-3-1/2019_26_02_15_59_27/k_core.csv\"\n",
      "[1] \"../../log/TestingPlw-3-1/2019_26_02_15_59_38/k_core.csv\"\n",
      "[1] \"../../log/TestingPlw-3-1/2019_26_02_16_00_21/k_core.csv\"\n",
      "[1] \"../../log/TestingPlw-3-1/2019_26_02_16_00_27/k_core.csv\"\n",
      "[1] \"../../log/TestingPlw-3-1/2019_26_02_16_00_38/k_core.csv\"\n",
      "[1] \"../../log/TestingPlw-3-1/2019_26_02_16_01_18/k_core.csv\"\n",
      "[1] \"../../log/TestingPlw-3-1/2019_26_02_16_01_23/k_core.csv\"\n",
      "[1] \"../../log/TestingPlw-3-1/2019_26_02_16_01_34/k_core.csv\"\n",
      "[1] \"../../log/TestingPlw-3-1/2019_26_02_16_02_13/k_core.csv\"\n",
      "[1] \"../../log/TestingPlw-3-1/2019_26_02_16_02_19/k_core.csv\"\n",
      "[1] \"../../log/TestingPlw-3-1/2019_26_02_16_02_30/k_core.csv\"\n",
      "[1] \"../../log/TestingPlw-3-1/2019_26_02_16_03_08/k_core.csv\"\n",
      "[1] \"../../log/TestingPlw-3-1/2019_26_02_16_03_15/k_core.csv\"\n",
      "[1] \"../../log/TestingPlw-3-1/2019_26_02_16_03_24/k_core.csv\"\n",
      "[1] \"../../log/TestingPlw-3-1/2019_26_02_16_04_04/k_core.csv\"\n",
      "[1] \"../../log/TestingPlw-3-1/2019_26_02_16_04_10/k_core.csv\"\n",
      "[1] \"../../log/TestingPlw-3-1/2019_26_02_16_04_20/k_core.csv\"\n",
      "[1] \"../../log/TestingPlw-3-1/2019_26_02_16_05_01/k_core.csv\"\n",
      "[1] \"../../log/TestingPlw-3-1/2019_26_02_16_05_05/k_core.csv\"\n",
      "[1] \"../../log/TestingPlw-3-1/2019_26_02_16_05_16/k_core.csv\"\n",
      "[1] \"../../log/TestingPlw-3-1/2019_26_02_16_05_58/k_core.csv\"\n",
      "[1] \"../../log/TestingPlw-3-1/2019_26_02_16_06_03/k_core.csv\"\n",
      "[1] \"../../log/TestingPlw-3-1/2019_26_02_16_06_18/k_core.csv\"\n",
      "[1] \"../../log/TestingPlw-3-1/2019_26_02_16_06_59/k_core.csv\"\n",
      "[1] \"../../log/TestingPlw-3-1/2019_26_02_16_07_05/k_core.csv\"\n",
      "[1] \"../../log/TestingPlw-3-1/2019_26_02_16_07_18/k_core.csv\"\n",
      "[1] \"../../log/TestingPlw-3-1/2019_26_02_16_07_58/k_core.csv\"\n",
      "[1] \"../../log/TestingPlw-3-1/2019_26_02_16_08_04/k_core.csv\"\n",
      "[1] \"../../log/TestingPlw-3-1/2019_26_02_16_08_17/k_core.csv\"\n",
      "[1] \"../../log/TestingPlw-3-1/2019_26_02_16_08_56/k_core.csv\"\n",
      "[1] \"../../log/TestingPlw-3-1/2019_26_02_16_09_02/k_core.csv\"\n",
      "[1] \"../../log/TestingPlw-3-1/2019_26_02_16_09_14/k_core.csv\"\n",
      "[1] \"../../log/TestingPlw-3-1/2019_26_02_16_09_52/k_core.csv\"\n",
      "[1] \"../../log/TestingPlw-3-1/2019_26_02_16_09_58/k_core.csv\"\n",
      "[1] \"../../log/TestingPlw-3-1/2019_26_02_16_10_10/k_core.csv\"\n",
      "[1] \"../../log/TestingPlw-3-1/2019_26_02_16_10_50/k_core.csv\"\n",
      "[1] \"../../log/TestingPlw-3-1/2019_26_02_16_10_54/k_core.csv\"\n",
      "[1] \"../../log/TestingPlw-3-1/2019_26_02_16_11_07/k_core.csv\"\n",
      "[1] \"../../log/TestingPlw-3-1/2019_26_02_16_11_49/k_core.csv\"\n",
      "[1] \"../../log/TestingPlw-3-1/2019_26_02_16_11_53/k_core.csv\"\n",
      "[1] \"../../log/TestingPlw-3-1/2019_26_02_16_12_05/k_core.csv\"\n",
      "[1] \"../../log/TestingPlw-3-1/2019_26_02_16_12_46/k_core.csv\"\n",
      "[1] \"../../log/TestingPlw-3-1/2019_26_02_16_12_51/k_core.csv\"\n",
      "[1] \"../../log/TestingPlw-3-1/2019_26_02_16_13_03/k_core.csv\"\n",
      "[1] \"../../log/TestingPlw-3-1/2019_26_02_16_13_45/k_core.csv\"\n",
      "[1] \"../../log/TestingPlw-3-1/2019_26_02_16_13_51/k_core.csv\"\n",
      "[1] \"../../log/TestingPlw-3-1/2019_26_02_16_14_02/k_core.csv\"\n",
      "[1] \"../../log/TestingPlw-3-1/2019_26_02_16_14_41/k_core.csv\"\n",
      "[1] \"../../log/TestingPlw-3-1/2019_26_02_16_14_47/k_core.csv\"\n"
     ]
    }
   ],
   "source": [
    "emptytable <- data.table()\n",
    "lista = list.dirs(mypath)\n",
    "for (i in lista){    \n",
    "    filename = paste(mypath, '/', i, '/', 'k_core.csv', sep = \"\")\n",
    "    print(filename)\n",
    "    DF <- read.csv(file = filename, skip=12)\n",
    "    tempDF <- DF[DF$state =='i',]\n",
    "    tempDF <- tempDF[tempDF$time == 1,]\n",
    "\n",
    "    agent <- as.integer(tempDF['agent'])\n",
    "    kcore <- as.integer(tempDF['k.core'])\n",
    "\n",
    "    DF$'agent.init' <- agent\n",
    "    DF$'k.core.init' <- kcore\n",
    "    DF$'density' <- 1\n",
    "    DF$'density.mean' <- 1\n",
    "    DF$'density.std' <- 1\n",
    "\n",
    "    DT <- data.table(DF)\n",
    "    DT1 = DT[, sum(density), by=list(time, state)]\n",
    "    \n",
    "    names(DT1)[names(DT1)==\"V1\"] <- \"density\"\n",
    "\n",
    "    DT1$density <- DT1$density / 1134\n",
    "\n",
    "    DT1$'agent.init' <- agent\n",
    "    DT1$'k.core.init' <- kcore\n",
    "    \n",
    "    tempDT1 <- DT1[DT1$state == 'r']\n",
    "    tempDT1 <- tempDT1[tempDT1$time == 199]\n",
    "    density <- as.numeric(tempDT1[,'density'])\n",
    "    \n",
    "    DT1 = DT1[DT1$state == 'r']\n",
    "    DT1[,state:=NULL]\n",
    "    #print(DT1)\n",
    "    emptytable <- rbind(emptytable, DT1)\n",
    "}"
   ]
  },
  {
   "cell_type": "markdown",
   "metadata": {},
   "source": [
    "Compute mean and standard deviation and add to data table"
   ]
  },
  {
   "cell_type": "code",
   "execution_count": 56,
   "metadata": {},
   "outputs": [],
   "source": [
    "emptytabletime <- emptytable[emptytable$time == 199]\n",
    "#emptytabletime <- emptytabletime[emptytabletime$density > 0.26]\n",
    "toplot <- emptytabletime[, mean(density), by=list(time, k.core.init)][,'k.core.init']\n",
    "toplot$mean <- emptytabletime[emptytabletime$time == 199][, mean(density), by=list(time, k.core.init)][,'V1']\n",
    "toplot$std <- emptytabletime[emptytabletime$time == 199][, sd(density), by=list(time, k.core.init)][,'V1']"
   ]
  },
  {
   "cell_type": "markdown",
   "metadata": {},
   "source": [
    "Clean NaN values"
   ]
  },
  {
   "cell_type": "code",
   "execution_count": 57,
   "metadata": {},
   "outputs": [],
   "source": [
    "toplot[is.na(toplot)] <- 0"
   ]
  },
  {
   "cell_type": "code",
   "execution_count": 58,
   "metadata": {},
   "outputs": [
    {
     "data": {
      "text/html": [
       "<table>\n",
       "<thead><tr><th scope=col>k.core.init</th><th scope=col>mean</th><th scope=col>std</th></tr></thead>\n",
       "<tbody>\n",
       "\t<tr><td> 1             </td><td>0.0836762688615</td><td>0.0530063138978</td></tr>\n",
       "\t<tr><td> 2             </td><td>0.0575151871448</td><td>0.0479623334375</td></tr>\n",
       "\t<tr><td> 3             </td><td>0.0892612188908</td><td>0.0707995055246</td></tr>\n",
       "\t<tr><td> 4             </td><td>0.1037624926514</td><td>0.0494810371678</td></tr>\n",
       "\t<tr><td> 5             </td><td>0.0714285714286</td><td>0.0556394763822</td></tr>\n",
       "\t<tr><td> 6             </td><td>0.0840681951793</td><td>0.0439769228917</td></tr>\n",
       "\t<tr><td> 7             </td><td>0.0553595923966</td><td>0.0584223948850</td></tr>\n",
       "\t<tr><td> 8             </td><td>0.0828924162257</td><td>0.0262632673930</td></tr>\n",
       "\t<tr><td> 9             </td><td>0.0738781109151</td><td>0.0652285827291</td></tr>\n",
       "\t<tr><td>10             </td><td>0.0900450715266</td><td>0.0685898175607</td></tr>\n",
       "\t<tr><td>11             </td><td>0.0776993925142</td><td>0.0621121299504</td></tr>\n",
       "</tbody>\n",
       "</table>\n"
      ],
      "text/latex": [
       "\\begin{tabular}{r|lll}\n",
       " k.core.init & mean & std\\\\\n",
       "\\hline\n",
       "\t  1              & 0.0836762688615 & 0.0530063138978\\\\\n",
       "\t  2              & 0.0575151871448 & 0.0479623334375\\\\\n",
       "\t  3              & 0.0892612188908 & 0.0707995055246\\\\\n",
       "\t  4              & 0.1037624926514 & 0.0494810371678\\\\\n",
       "\t  5              & 0.0714285714286 & 0.0556394763822\\\\\n",
       "\t  6              & 0.0840681951793 & 0.0439769228917\\\\\n",
       "\t  7              & 0.0553595923966 & 0.0584223948850\\\\\n",
       "\t  8              & 0.0828924162257 & 0.0262632673930\\\\\n",
       "\t  9              & 0.0738781109151 & 0.0652285827291\\\\\n",
       "\t 10              & 0.0900450715266 & 0.0685898175607\\\\\n",
       "\t 11              & 0.0776993925142 & 0.0621121299504\\\\\n",
       "\\end{tabular}\n"
      ],
      "text/markdown": [
       "\n",
       "k.core.init | mean | std | \n",
       "|---|---|---|---|---|---|---|---|---|---|---|\n",
       "|  1              | 0.0836762688615 | 0.0530063138978 | \n",
       "|  2              | 0.0575151871448 | 0.0479623334375 | \n",
       "|  3              | 0.0892612188908 | 0.0707995055246 | \n",
       "|  4              | 0.1037624926514 | 0.0494810371678 | \n",
       "|  5              | 0.0714285714286 | 0.0556394763822 | \n",
       "|  6              | 0.0840681951793 | 0.0439769228917 | \n",
       "|  7              | 0.0553595923966 | 0.0584223948850 | \n",
       "|  8              | 0.0828924162257 | 0.0262632673930 | \n",
       "|  9              | 0.0738781109151 | 0.0652285827291 | \n",
       "| 10              | 0.0900450715266 | 0.0685898175607 | \n",
       "| 11              | 0.0776993925142 | 0.0621121299504 | \n",
       "\n",
       "\n"
      ],
      "text/plain": [
       "   k.core.init mean            std            \n",
       "1   1          0.0836762688615 0.0530063138978\n",
       "2   2          0.0575151871448 0.0479623334375\n",
       "3   3          0.0892612188908 0.0707995055246\n",
       "4   4          0.1037624926514 0.0494810371678\n",
       "5   5          0.0714285714286 0.0556394763822\n",
       "6   6          0.0840681951793 0.0439769228917\n",
       "7   7          0.0553595923966 0.0584223948850\n",
       "8   8          0.0828924162257 0.0262632673930\n",
       "9   9          0.0738781109151 0.0652285827291\n",
       "10 10          0.0900450715266 0.0685898175607\n",
       "11 11          0.0776993925142 0.0621121299504"
      ]
     },
     "metadata": {},
     "output_type": "display_data"
    }
   ],
   "source": [
    "toplot"
   ]
  },
  {
   "cell_type": "markdown",
   "metadata": {},
   "source": [
    "Plot"
   ]
  },
  {
   "cell_type": "code",
   "execution_count": 59,
   "metadata": {
    "scrolled": false
   },
   "outputs": [
    {
     "data": {
      "image/png": "[encoded data removed]",
      "text/plain": [
       "plot without title"
      ]
     },
     "metadata": {},
     "output_type": "display_data"
    }
   ],
   "source": [
    "plot(toplot$k.core.init, toplot$mean,\n",
    "    ylim=range(c(toplot$mean-toplot$std, toplot$mean+toplot$std)),\n",
    "     #log='y',\n",
    "     xlab=TeX('$k_S$'), ylab=TeX('$M_{k_S}$'),\n",
    "    #main=\"Scatter plot with std.dev error bars\"\n",
    ")\n",
    "arrows(toplot$k.core.init, toplot$mean-toplot$std, \n",
    "       toplot$k.core.init, toplot$mean+toplot$std, length=0.05, angle=90, code=3)\n"
   ]
  },
  {
   "cell_type": "markdown",
   "metadata": {},
   "source": [
    "Log y plot"
   ]
  },
  {
   "cell_type": "code",
   "execution_count": 60,
   "metadata": {},
   "outputs": [
    {
     "ename": "ERROR",
     "evalue": "Error in plot.window(...): Logarithmic axis must have positive limits\n",
     "output_type": "error",
     "traceback": [
      "Error in plot.window(...): Logarithmic axis must have positive limits\nTraceback:\n",
      "1. plot(toplot$k.core.init, toplot$mean, ylim = range(c(toplot$mean - \n .     toplot$std, toplot$mean + toplot$std)), log = \"y\", xlab = TeX(\"$k_S$\"), \n .     ylab = TeX(\"$M_{k_S}$\"), )",
      "2. plot.default(toplot$k.core.init, toplot$mean, ylim = range(c(toplot$mean - \n .     toplot$std, toplot$mean + toplot$std)), log = \"y\", xlab = TeX(\"$k_S$\"), \n .     ylab = TeX(\"$M_{k_S}$\"), )",
      "3. localWindow(xlim, ylim, log, asp, ...)",
      "4. plot.window(...)"
     ]
    },
    {
     "data": {
      "image/png": "[encoded data removed]",
      "text/plain": [
       "plot without title"
      ]
     },
     "metadata": {},
     "output_type": "display_data"
    }
   ],
   "source": [
    "plot(toplot$k.core.init, toplot$mean,\n",
    "     ylim=range(c(toplot$mean-toplot$std, toplot$mean+toplot$std)),\n",
    "     log='y',\n",
    "     xlab=TeX('$k_S$'), ylab=TeX('$M_{k_S}$'),\n",
    "    #main=\"Scatter plot with std.dev error bars\"\n",
    ")\n",
    "arrows(toplot$k.core.init, toplot$mean-toplot$std, \n",
    "       toplot$k.core.init, toplot$mean+toplot$std, length=0.05, angle=90, code=3)"
   ]
  },
  {
   "cell_type": "code",
   "execution_count": null,
   "metadata": {},
   "outputs": [],
   "source": []
  }
 ],
 "metadata": {
  "kernelspec": {
   "display_name": "R",
   "language": "R",
   "name": "ir"
  },
  "language_info": {
   "codemirror_mode": "r",
   "file_extension": ".r",
   "mimetype": "text/x-r-source",
   "name": "R",
   "pygments_lexer": "r",
   "version": "3.5.2"
  }
 },
 "nbformat": 4,
 "nbformat_minor": 2
}
