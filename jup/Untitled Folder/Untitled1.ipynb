{
 "cells": [
  {
   "cell_type": "code",
   "execution_count": 1,
   "metadata": {},
   "outputs": [],
   "source": [
    "library(data.table)\n",
    "library(ggplot2)\n",
    "library(latex2exp)\n"
   ]
  },
  {
   "cell_type": "code",
   "execution_count": 2,
   "metadata": {},
   "outputs": [],
   "source": [
    "time <- 199"
   ]
  },
  {
   "cell_type": "code",
   "execution_count": 73,
   "metadata": {},
   "outputs": [],
   "source": [
    "mypath <- \"../../log/TestingDTIPwl\""
   ]
  },
  {
   "cell_type": "code",
   "execution_count": 74,
   "metadata": {},
   "outputs": [],
   "source": [
    "list.dirs <- function(path=\".\", pattern=NULL, all.dirs=FALSE,\n",
    "  full.names=FALSE, ignore.case=FALSE) {\n",
    "  # use full.names=TRUE to pass to file.info\n",
    "  all <- list.files(path, pattern, all.dirs,\n",
    "           full.names=TRUE, recursive=FALSE, ignore.case)\n",
    "  dirs <- all[file.info(all)$isdir]\n",
    "  # determine whether to return full names or just dir names\n",
    "  if(isTRUE(full.names))\n",
    "    return(dirs)\n",
    "  else\n",
    "    return(basename(dirs))\n",
    "}"
   ]
  },
  {
   "cell_type": "code",
   "execution_count": 75,
   "metadata": {},
   "outputs": [],
   "source": [
    "thepath = list.dirs(mypath)[1]"
   ]
  },
  {
   "cell_type": "code",
   "execution_count": 76,
   "metadata": {},
   "outputs": [],
   "source": [
    "filename = paste(mypath, '/', thepath, '/', 'k_core.csv', sep = \"\")"
   ]
  },
  {
   "cell_type": "code",
   "execution_count": 77,
   "metadata": {},
   "outputs": [],
   "source": [
    "DF <- read.csv(file = filename, skip=12)"
   ]
  },
  {
   "cell_type": "code",
   "execution_count": 78,
   "metadata": {},
   "outputs": [],
   "source": [
    "tempDF <- DF[DF$state =='i',]\n",
    "tempDF <- tempDF[tempDF$time == 1,]"
   ]
  },
  {
   "cell_type": "code",
   "execution_count": 79,
   "metadata": {},
   "outputs": [
    {
     "data": {
      "text/html": [
       "<table>\n",
       "<thead><tr><th></th><th scope=col>time</th><th scope=col>agent</th><th scope=col>k.core</th><th scope=col>state</th><th scope=col>degree</th></tr></thead>\n",
       "<tbody>\n",
       "\t<tr><th scope=row>455</th><td>1  </td><td>454</td><td>8  </td><td>i  </td><td>31 </td></tr>\n",
       "</tbody>\n",
       "</table>\n"
      ],
      "text/latex": [
       "\\begin{tabular}{r|lllll}\n",
       "  & time & agent & k.core & state & degree\\\\\n",
       "\\hline\n",
       "\t455 & 1   & 454 & 8   & i   & 31 \\\\\n",
       "\\end{tabular}\n"
      ],
      "text/markdown": [
       "\n",
       "| <!--/--> | time | agent | k.core | state | degree | \n",
       "|---|\n",
       "| 455 | 1   | 454 | 8   | i   | 31  | \n",
       "\n",
       "\n"
      ],
      "text/plain": [
       "    time agent k.core state degree\n",
       "455 1    454   8      i     31    "
      ]
     },
     "metadata": {},
     "output_type": "display_data"
    }
   ],
   "source": [
    "tempDF"
   ]
  },
  {
   "cell_type": "code",
   "execution_count": 80,
   "metadata": {},
   "outputs": [],
   "source": [
    "agent <- as.integer(tempDF['agent'])\n",
    "kcore <- as.integer(tempDF['k.core'])"
   ]
  },
  {
   "cell_type": "code",
   "execution_count": 81,
   "metadata": {},
   "outputs": [],
   "source": [
    "DF$'agent.init' <- agent\n",
    "DF$'k.core.init' <- kcore\n",
    "DF$'density' <- 1"
   ]
  },
  {
   "cell_type": "code",
   "execution_count": 82,
   "metadata": {
    "scrolled": true
   },
   "outputs": [],
   "source": [
    "DT <- data.table(DF)"
   ]
  },
  {
   "cell_type": "code",
   "execution_count": 83,
   "metadata": {},
   "outputs": [],
   "source": [
    "DT1 = DT[, sum(density), by=list(time, state)]"
   ]
  },
  {
   "cell_type": "code",
   "execution_count": 84,
   "metadata": {},
   "outputs": [],
   "source": [
    "names(DT1)[names(DT1)==\"V1\"] <- \"density\""
   ]
  },
  {
   "cell_type": "code",
   "execution_count": 85,
   "metadata": {},
   "outputs": [],
   "source": [
    "DT1$density <- DT1$density / 1134"
   ]
  },
  {
   "cell_type": "code",
   "execution_count": 86,
   "metadata": {},
   "outputs": [],
   "source": [
    "DT1$'agent.init' <- agent\n",
    "DT1$'k.core.init' <- kcore"
   ]
  },
  {
   "cell_type": "code",
   "execution_count": 87,
   "metadata": {},
   "outputs": [],
   "source": [
    "tempDT1 <- DT1[DT1$state == 'r']\n",
    "tempDT1 <- tempDT1[tempDT1$time == 199]\n",
    "density <- as.numeric(tempDT1[,'density'])"
   ]
  },
  {
   "cell_type": "code",
   "execution_count": 88,
   "metadata": {},
   "outputs": [
    {
     "data": {},
     "metadata": {},
     "output_type": "display_data"
    }
   ],
   "source": [
    "DT1 = DT1[DT1$state == 'r']\n",
    "DT1[,state:=NULL]"
   ]
  },
  {
   "cell_type": "markdown",
   "metadata": {},
   "source": [
    "## All datasets"
   ]
  },
  {
   "cell_type": "markdown",
   "metadata": {},
   "source": [
    "Assemble everything and do the loops"
   ]
  },
  {
   "cell_type": "code",
   "execution_count": 145,
   "metadata": {
    "scrolled": true
   },
   "outputs": [
    {
     "name": "stdout",
     "output_type": "stream",
     "text": [
      "[1] \"../../log/TestingDTIPwl/2019_26_02_17_30_15/k_core.csv\"\n",
      "[1] \"../../log/TestingDTIPwl/2019_26_02_17_31_22/k_core.csv\"\n",
      "[1] \"../../log/TestingDTIPwl/2019_26_02_17_31_28/k_core.csv\"\n",
      "[1] \"../../log/TestingDTIPwl/2019_26_02_17_31_31/k_core.csv\"\n",
      "[1] \"../../log/TestingDTIPwl/2019_26_02_17_32_10/k_core.csv\"\n",
      "[1] \"../../log/TestingDTIPwl/2019_26_02_17_32_17/k_core.csv\"\n",
      "[1] \"../../log/TestingDTIPwl/2019_26_02_17_32_20/k_core.csv\"\n",
      "[1] \"../../log/TestingDTIPwl/2019_26_02_17_32_59/k_core.csv\"\n",
      "[1] \"../../log/TestingDTIPwl/2019_26_02_17_33_07/k_core.csv\"\n",
      "[1] \"../../log/TestingDTIPwl/2019_26_02_17_33_10/k_core.csv\"\n",
      "[1] \"../../log/TestingDTIPwl/2019_26_02_17_33_53/k_core.csv\"\n",
      "[1] \"../../log/TestingDTIPwl/2019_26_02_17_34_00/k_core.csv\"\n",
      "[1] \"../../log/TestingDTIPwl/2019_26_02_17_34_05/k_core.csv\"\n",
      "[1] \"../../log/TestingDTIPwl/2019_26_02_17_34_48/k_core.csv\"\n",
      "[1] \"../../log/TestingDTIPwl/2019_26_02_17_34_55/k_core.csv\"\n",
      "[1] \"../../log/TestingDTIPwl/2019_26_02_17_35_01/k_core.csv\"\n",
      "[1] \"../../log/TestingDTIPwl/2019_26_02_17_35_46/k_core.csv\"\n",
      "[1] \"../../log/TestingDTIPwl/2019_26_02_17_35_52/k_core.csv\"\n",
      "[1] \"../../log/TestingDTIPwl/2019_26_02_17_35_59/k_core.csv\"\n",
      "[1] \"../../log/TestingDTIPwl/2019_26_02_17_36_41/k_core.csv\"\n",
      "[1] \"../../log/TestingDTIPwl/2019_26_02_17_36_47/k_core.csv\"\n",
      "[1] \"../../log/TestingDTIPwl/2019_26_02_17_36_54/k_core.csv\"\n",
      "[1] \"../../log/TestingDTIPwl/2019_26_02_17_37_37/k_core.csv\"\n",
      "[1] \"../../log/TestingDTIPwl/2019_26_02_17_37_43/k_core.csv\"\n",
      "[1] \"../../log/TestingDTIPwl/2019_26_02_17_37_51/k_core.csv\"\n",
      "[1] \"../../log/TestingDTIPwl/2019_26_02_17_38_38/k_core.csv\"\n",
      "[1] \"../../log/TestingDTIPwl/2019_26_02_17_38_42/k_core.csv\"\n",
      "[1] \"../../log/TestingDTIPwl/2019_26_02_17_38_49/k_core.csv\"\n",
      "[1] \"../../log/TestingDTIPwl/2019_26_02_17_39_41/k_core.csv\"\n",
      "[1] \"../../log/TestingDTIPwl/2019_26_02_17_39_43/k_core.csv\"\n",
      "[1] \"../../log/TestingDTIPwl/2019_26_02_17_39_50/k_core.csv\"\n",
      "[1] \"../../log/TestingDTIPwl/2019_26_02_17_40_42/k_core.csv\"\n",
      "[1] \"../../log/TestingDTIPwl/2019_26_02_17_40_49/k_core.csv\"\n",
      "[1] \"../../log/TestingDTIPwl/2019_26_02_17_41_45/k_core.csv\"\n",
      "[1] \"../../log/TestingDTIPwl/2019_26_02_17_41_54/k_core.csv\"\n",
      "[1] \"../../log/TestingDTIPwl/2019_26_02_17_42_48/k_core.csv\"\n",
      "[1] \"../../log/TestingDTIPwl/2019_26_02_17_42_49/k_core.csv\"\n",
      "[1] \"../../log/TestingDTIPwl/2019_26_02_17_44_00/k_core.csv\"\n",
      "[1] \"../../log/TestingDTIPwl/2019_26_02_17_44_41/k_core.csv\"\n",
      "[1] \"../../log/TestingDTIPwl/2019_26_02_17_45_00/k_core.csv\"\n",
      "[1] \"../../log/TestingDTIPwl/2019_26_02_17_45_01/k_core.csv\"\n",
      "[1] \"../../log/TestingDTIPwl/2019_26_02_17_45_38/k_core.csv\"\n",
      "[1] \"../../log/TestingDTIPwl/2019_26_02_17_45_58/k_core.csv\"\n",
      "[1] \"../../log/TestingDTIPwl/2019_26_02_17_45_59/k_core.csv\"\n",
      "[1] \"../../log/TestingDTIPwl/2019_26_02_17_46_41/k_core.csv\"\n",
      "[1] \"../../log/TestingDTIPwl/2019_26_02_17_47_03/k_core.csv\"\n",
      "[1] \"../../log/TestingDTIPwl/2019_26_02_17_47_04/k_core.csv\"\n",
      "[1] \"../../log/TestingDTIPwl/2019_26_02_17_47_56/k_core.csv\"\n",
      "[1] \"../../log/TestingDTIPwl/2019_26_02_17_48_18/k_core.csv\"\n",
      "[1] \"../../log/TestingDTIPwl/2019_26_02_17_48_21/k_core.csv\"\n",
      "[1] \"../../log/TestingDTIPwl/2019_26_02_17_49_01/k_core.csv\"\n",
      "[1] \"../../log/TestingDTIPwl/2019_26_02_17_49_25/k_core.csv\"\n",
      "[1] \"../../log/TestingDTIPwl/2019_26_02_17_49_26/k_core.csv\"\n",
      "[1] \"../../log/TestingDTIPwl/2019_26_02_17_50_09/k_core.csv\"\n",
      "[1] \"../../log/TestingDTIPwl/2019_26_02_17_50_32/k_core.csv\"\n",
      "[1] \"../../log/TestingDTIPwl/2019_26_02_17_50_33/k_core.csv\"\n",
      "[1] \"../../log/TestingDTIPwl/2019_26_02_17_51_11/k_core.csv\"\n",
      "[1] \"../../log/TestingDTIPwl/2019_26_02_17_51_37/k_core.csv\"\n",
      "[1] \"../../log/TestingDTIPwl/2019_26_02_17_51_38/k_core.csv\"\n",
      "[1] \"../../log/TestingDTIPwl/2019_26_02_17_52_18/k_core.csv\"\n",
      "[1] \"../../log/TestingDTIPwl/2019_26_02_17_52_39/k_core.csv\"\n",
      "[1] \"../../log/TestingDTIPwl/2019_26_02_17_52_41/k_core.csv\"\n",
      "[1] \"../../log/TestingDTIPwl/2019_26_02_17_53_16/k_core.csv\"\n",
      "[1] \"../../log/TestingDTIPwl/2019_26_02_17_53_36/k_core.csv\"\n",
      "[1] \"../../log/TestingDTIPwl/2019_26_02_17_53_38/k_core.csv\"\n",
      "[1] \"../../log/TestingDTIPwl/2019_26_02_17_54_11/k_core.csv\"\n",
      "[1] \"../../log/TestingDTIPwl/2019_26_02_17_54_33/k_core.csv\"\n",
      "[1] \"../../log/TestingDTIPwl/2019_26_02_17_54_34/k_core.csv\"\n",
      "[1] \"../../log/TestingDTIPwl/2019_26_02_17_55_07/k_core.csv\"\n",
      "[1] \"../../log/TestingDTIPwl/2019_26_02_17_55_28/k_core.csv\"\n",
      "[1] \"../../log/TestingDTIPwl/2019_26_02_17_55_29/k_core.csv\"\n",
      "[1] \"../../log/TestingDTIPwl/2019_26_02_17_56_05/k_core.csv\"\n",
      "[1] \"../../log/TestingDTIPwl/2019_26_02_17_56_24/k_core.csv\"\n",
      "[1] \"../../log/TestingDTIPwl/2019_26_02_17_56_26/k_core.csv\"\n",
      "[1] \"../../log/TestingDTIPwl/2019_26_02_17_57_01/k_core.csv\"\n",
      "[1] \"../../log/TestingDTIPwl/2019_26_02_17_57_20/k_core.csv\"\n",
      "[1] \"../../log/TestingDTIPwl/2019_26_02_17_57_21/k_core.csv\"\n",
      "[1] \"../../log/TestingDTIPwl/2019_26_02_17_58_00/k_core.csv\"\n",
      "[1] \"../../log/TestingDTIPwl/2019_26_02_17_58_18/k_core.csv\"\n",
      "[1] \"../../log/TestingDTIPwl/2019_26_02_17_58_20/k_core.csv\"\n",
      "[1] \"../../log/TestingDTIPwl/2019_26_02_17_59_00/k_core.csv\"\n",
      "[1] \"../../log/TestingDTIPwl/2019_26_02_17_59_20/k_core.csv\"\n",
      "[1] \"../../log/TestingDTIPwl/2019_26_02_18_00_01/k_core.csv\"\n",
      "[1] \"../../log/TestingDTIPwl/2019_26_02_18_00_21/k_core.csv\"\n",
      "[1] \"../../log/TestingDTIPwl/2019_26_02_18_00_23/k_core.csv\"\n",
      "[1] \"../../log/TestingDTIPwl/2019_26_02_18_01_02/k_core.csv\"\n",
      "[1] \"../../log/TestingDTIPwl/2019_26_02_18_01_20/k_core.csv\"\n",
      "[1] \"../../log/TestingDTIPwl/2019_26_02_18_01_22/k_core.csv\"\n",
      "[1] \"../../log/TestingDTIPwl/2019_26_02_18_02_00/k_core.csv\"\n",
      "[1] \"../../log/TestingDTIPwl/2019_26_02_18_02_19/k_core.csv\"\n",
      "[1] \"../../log/TestingDTIPwl/2019_26_02_18_02_58/k_core.csv\"\n",
      "[1] \"../../log/TestingDTIPwl/2019_26_02_18_03_17/k_core.csv\"\n",
      "[1] \"../../log/TestingDTIPwl/2019_26_02_18_03_18/k_core.csv\"\n",
      "[1] \"../../log/TestingDTIPwl/2019_26_02_18_03_59/k_core.csv\"\n",
      "[1] \"../../log/TestingDTIPwl/2019_26_02_18_04_16/k_core.csv\"\n"
     ]
    }
   ],
   "source": [
    "emptytable <- data.table()\n",
    "lista = list.dirs(mypath)\n",
    "for (i in lista){    \n",
    "    filename = paste(mypath, '/', i, '/', 'k_core.csv', sep = \"\")\n",
    "    print(filename)\n",
    "    DF <- read.csv(file = filename, skip=12)\n",
    "    tempDF <- DF[DF$state =='i',]\n",
    "    tempDF <- tempDF[tempDF$time == 1,]\n",
    "\n",
    "    agent <- as.integer(tempDF['agent'])\n",
    "    kcore <- as.integer(tempDF['k.core'])\n",
    "\n",
    "    DF$'agent.init' <- agent\n",
    "    DF$'k.core.init' <- kcore\n",
    "    DF$'density' <- 1\n",
    "    DF$'density.mean' <- 1\n",
    "    DF$'density.std' <- 1\n",
    "\n",
    "    DT <- data.table(DF)\n",
    "    DT1 = DT[, sum(density), by=list(time, state)]\n",
    "    \n",
    "    names(DT1)[names(DT1)==\"V1\"] <- \"density\"\n",
    "\n",
    "    DT1$density <- DT1$density / 1134\n",
    "\n",
    "    DT1$'agent.init' <- agent\n",
    "    DT1$'k.core.init' <- kcore\n",
    "    \n",
    "    tempDT1 <- DT1[DT1$state == 'r']\n",
    "    tempDT1 <- tempDT1[tempDT1$time == 199]\n",
    "    density <- as.numeric(tempDT1[,'density'])\n",
    "    \n",
    "    DT1 = DT1[DT1$state == 'r']\n",
    "    DT1[,state:=NULL]\n",
    "    #print(DT1)\n",
    "    emptytable <- rbind(emptytable, DT1)\n",
    "}"
   ]
  },
  {
   "cell_type": "markdown",
   "metadata": {},
   "source": [
    "Compute mean and standard deviation and add to data table"
   ]
  },
  {
   "cell_type": "code",
   "execution_count": 146,
   "metadata": {},
   "outputs": [],
   "source": [
    "emptytabletime <- emptytable[emptytable$time == 199]\n",
    "#emptytabletime <- emptytabletime[emptytabletime$density > 0.26]\n",
    "toplot <- emptytabletime[, mean(density), by=list(time, k.core.init)][,'k.core.init']\n",
    "toplot$mean <- emptytabletime[emptytabletime$time == 199][, mean(density), by=list(time, k.core.init)][,'V1']\n",
    "toplot$std <- emptytabletime[emptytabletime$time == 199][, sd(density), by=list(time, k.core.init)][,'V1']"
   ]
  },
  {
   "cell_type": "markdown",
   "metadata": {},
   "source": [
    "Clean NaN values"
   ]
  },
  {
   "cell_type": "code",
   "execution_count": 147,
   "metadata": {},
   "outputs": [],
   "source": [
    "toplot[is.na(toplot)] <- 0"
   ]
  },
  {
   "cell_type": "code",
   "execution_count": 148,
   "metadata": {},
   "outputs": [
    {
     "data": {
      "text/html": [
       "<table>\n",
       "<thead><tr><th scope=col>k.core.init</th><th scope=col>mean</th><th scope=col>std</th></tr></thead>\n",
       "<tbody>\n",
       "\t<tr><td> 8               </td><td>0.00423280423280 </td><td>0.000371813951813</td></tr>\n",
       "\t<tr><td> 1               </td><td>0.00473985890653 </td><td>0.000656105651801</td></tr>\n",
       "\t<tr><td> 2               </td><td>0.00450715265530 </td><td>0.000529916413208</td></tr>\n",
       "\t<tr><td> 3               </td><td>0.00450715265530 </td><td>0.000529916413208</td></tr>\n",
       "\t<tr><td> 4               </td><td>0.00440917107584 </td><td>0.000440917107584</td></tr>\n",
       "\t<tr><td> 5               </td><td>0.00470311581423 </td><td>0.000440917107584</td></tr>\n",
       "\t<tr><td> 6               </td><td>0.00407848324515 </td><td>0.000656105651801</td></tr>\n",
       "\t<tr><td> 7               </td><td>0.00421320791691 </td><td>0.000388852338487</td></tr>\n",
       "\t<tr><td> 9               </td><td>0.00374779541446 </td><td>0.000408209920535</td></tr>\n",
       "\t<tr><td>10               </td><td>0.00372330001960 </td><td>0.000388852338487</td></tr>\n",
       "\t<tr><td>11               </td><td>0.00415721844293 </td><td>0.000666604008835</td></tr>\n",
       "</tbody>\n",
       "</table>\n"
      ],
      "text/latex": [
       "\\begin{tabular}{r|lll}\n",
       " k.core.init & mean & std\\\\\n",
       "\\hline\n",
       "\t  8                & 0.00423280423280  & 0.000371813951813\\\\\n",
       "\t  1                & 0.00473985890653  & 0.000656105651801\\\\\n",
       "\t  2                & 0.00450715265530  & 0.000529916413208\\\\\n",
       "\t  3                & 0.00450715265530  & 0.000529916413208\\\\\n",
       "\t  4                & 0.00440917107584  & 0.000440917107584\\\\\n",
       "\t  5                & 0.00470311581423  & 0.000440917107584\\\\\n",
       "\t  6                & 0.00407848324515  & 0.000656105651801\\\\\n",
       "\t  7                & 0.00421320791691  & 0.000388852338487\\\\\n",
       "\t  9                & 0.00374779541446  & 0.000408209920535\\\\\n",
       "\t 10                & 0.00372330001960  & 0.000388852338487\\\\\n",
       "\t 11                & 0.00415721844293  & 0.000666604008835\\\\\n",
       "\\end{tabular}\n"
      ],
      "text/markdown": [
       "\n",
       "k.core.init | mean | std | \n",
       "|---|---|---|---|---|---|---|---|---|---|---|\n",
       "|  8                | 0.00423280423280  | 0.000371813951813 | \n",
       "|  1                | 0.00473985890653  | 0.000656105651801 | \n",
       "|  2                | 0.00450715265530  | 0.000529916413208 | \n",
       "|  3                | 0.00450715265530  | 0.000529916413208 | \n",
       "|  4                | 0.00440917107584  | 0.000440917107584 | \n",
       "|  5                | 0.00470311581423  | 0.000440917107584 | \n",
       "|  6                | 0.00407848324515  | 0.000656105651801 | \n",
       "|  7                | 0.00421320791691  | 0.000388852338487 | \n",
       "|  9                | 0.00374779541446  | 0.000408209920535 | \n",
       "| 10                | 0.00372330001960  | 0.000388852338487 | \n",
       "| 11                | 0.00415721844293  | 0.000666604008835 | \n",
       "\n",
       "\n"
      ],
      "text/plain": [
       "   k.core.init mean             std              \n",
       "1   8          0.00423280423280 0.000371813951813\n",
       "2   1          0.00473985890653 0.000656105651801\n",
       "3   2          0.00450715265530 0.000529916413208\n",
       "4   3          0.00450715265530 0.000529916413208\n",
       "5   4          0.00440917107584 0.000440917107584\n",
       "6   5          0.00470311581423 0.000440917107584\n",
       "7   6          0.00407848324515 0.000656105651801\n",
       "8   7          0.00421320791691 0.000388852338487\n",
       "9   9          0.00374779541446 0.000408209920535\n",
       "10 10          0.00372330001960 0.000388852338487\n",
       "11 11          0.00415721844293 0.000666604008835"
      ]
     },
     "metadata": {},
     "output_type": "display_data"
    }
   ],
   "source": [
    "toplot"
   ]
  },
  {
   "cell_type": "markdown",
   "metadata": {},
   "source": [
    "Plot"
   ]
  },
  {
   "cell_type": "code",
   "execution_count": 149,
   "metadata": {
    "scrolled": false
   },
   "outputs": [
    {
     "data": {
      "image/png": "[encoded data removed]",
      "text/plain": [
       "plot without title"
      ]
     },
     "metadata": {},
     "output_type": "display_data"
    }
   ],
   "source": [
    "plot(toplot$k.core.init, toplot$mean,\n",
    "    ylim=range(c(toplot$mean-toplot$std, toplot$mean+toplot$std)),\n",
    "     #log='y',\n",
    "     xlab=TeX('$k_S$'), ylab=TeX('$M_{k_S}$'),\n",
    "    #main=\"Scatter plot with std.dev error bars\"\n",
    ")\n",
    "arrows(toplot$k.core.init, toplot$mean-toplot$std, \n",
    "       toplot$k.core.init, toplot$mean+toplot$std, length=0.05, angle=90, code=3)\n"
   ]
  },
  {
   "cell_type": "markdown",
   "metadata": {},
   "source": [
    "Log y plot"
   ]
  },
  {
   "cell_type": "code",
   "execution_count": 150,
   "metadata": {},
   "outputs": [
    {
     "data": {
      "image/png": "[encoded data removed]",
      "text/plain": [
       "plot without title"
      ]
     },
     "metadata": {},
     "output_type": "display_data"
    }
   ],
   "source": [
    "plot(toplot$k.core.init, toplot$mean,\n",
    "     ylim=range(c(toplot$mean-toplot$std, toplot$mean+toplot$std)),\n",
    "     log='y',\n",
    "     xlab=TeX('$k_S$'), ylab=TeX('$M_{k_S}$'),\n",
    "    #main=\"Scatter plot with std.dev error bars\"\n",
    ")\n",
    "arrows(toplot$k.core.init, toplot$mean-toplot$std, \n",
    "       toplot$k.core.init, toplot$mean+toplot$std, length=0.05, angle=90, code=3)"
   ]
  },
  {
   "cell_type": "code",
   "execution_count": null,
   "metadata": {},
   "outputs": [],
   "source": []
  }
 ],
 "metadata": {
  "kernelspec": {
   "display_name": "R",
   "language": "R",
   "name": "ir"
  },
  "language_info": {
   "codemirror_mode": "r",
   "file_extension": ".r",
   "mimetype": "text/x-r-source",
   "name": "R",
   "pygments_lexer": "r",
   "version": "3.5.2"
  }
 },
 "nbformat": 4,
 "nbformat_minor": 2
}
