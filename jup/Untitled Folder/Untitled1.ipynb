{
 "cells": [
  {
   "cell_type": "code",
   "execution_count": 398,
   "metadata": {},
   "outputs": [],
   "source": [
    "library(data.table)\n",
    "library(ggplot2)\n",
    "library(latex2exp)\n"
   ]
  },
  {
   "cell_type": "code",
   "execution_count": 399,
   "metadata": {},
   "outputs": [],
   "source": [
    "time <- 500"
   ]
  },
  {
   "cell_type": "code",
   "execution_count": 400,
   "metadata": {},
   "outputs": [],
   "source": [
    "N_AGENTS <- 12625"
   ]
  },
  {
   "cell_type": "code",
   "execution_count": 401,
   "metadata": {},
   "outputs": [],
   "source": [
    "mypath <- \"../../log/ProvaEmailcontacts-act-1\""
   ]
  },
  {
   "cell_type": "code",
   "execution_count": 402,
   "metadata": {},
   "outputs": [],
   "source": [
    "#mypath <- \"/home/nik/ProvaEmailcontacts2.5/ProvaEmailcontacts2.5\""
   ]
  },
  {
   "cell_type": "code",
   "execution_count": 403,
   "metadata": {},
   "outputs": [],
   "source": [
    "list.dirs <- function(path=\".\", pattern=NULL, all.dirs=FALSE,\n",
    "  full.names=FALSE, ignore.case=FALSE) {\n",
    "  # use full.names=TRUE to pass to file.info\n",
    "  all <- list.files(path, pattern, all.dirs,\n",
    "           full.names=TRUE, recursive=FALSE, ignore.case)\n",
    "  dirs <- all[file.info(all)$isdir]\n",
    "  # determine whether to return full names or just dir names\n",
    "  if(isTRUE(full.names))\n",
    "    return(dirs)\n",
    "  else\n",
    "    return(basename(dirs))\n",
    "}"
   ]
  },
  {
   "cell_type": "code",
   "execution_count": 404,
   "metadata": {},
   "outputs": [],
   "source": [
    "thepath = list.dirs(mypath)[1]"
   ]
  },
  {
   "cell_type": "code",
   "execution_count": 405,
   "metadata": {},
   "outputs": [],
   "source": [
    "filename = paste(mypath, '/', thepath, '/', 'k_core.csv', sep = \"\")"
   ]
  },
  {
   "cell_type": "code",
   "execution_count": 406,
   "metadata": {},
   "outputs": [],
   "source": [
    "DF <- read.csv(file = filename, skip=12)"
   ]
  },
  {
   "cell_type": "code",
   "execution_count": 407,
   "metadata": {},
   "outputs": [],
   "source": [
    "tempDF <- DF[DF$state =='i',]\n",
    "tempDF <- tempDF[tempDF$time == 1,]"
   ]
  },
  {
   "cell_type": "code",
   "execution_count": 408,
   "metadata": {},
   "outputs": [
    {
     "data": {
      "text/html": [
       "<table>\n",
       "<thead><tr><th></th><th scope=col>time</th><th scope=col>agent</th><th scope=col>k.core</th><th scope=col>state</th><th scope=col>degree</th></tr></thead>\n",
       "<tbody>\n",
       "\t<tr><th scope=row>6326</th><td>1   </td><td>6325</td><td>1   </td><td>i   </td><td>1   </td></tr>\n",
       "</tbody>\n",
       "</table>\n"
      ],
      "text/latex": [
       "\\begin{tabular}{r|lllll}\n",
       "  & time & agent & k.core & state & degree\\\\\n",
       "\\hline\n",
       "\t6326 & 1    & 6325 & 1    & i    & 1   \\\\\n",
       "\\end{tabular}\n"
      ],
      "text/markdown": [
       "\n",
       "| <!--/--> | time | agent | k.core | state | degree | \n",
       "|---|\n",
       "| 6326 | 1    | 6325 | 1    | i    | 1    | \n",
       "\n",
       "\n"
      ],
      "text/plain": [
       "     time agent k.core state degree\n",
       "6326 1    6325  1      i     1     "
      ]
     },
     "metadata": {},
     "output_type": "display_data"
    }
   ],
   "source": [
    "tempDF"
   ]
  },
  {
   "cell_type": "code",
   "execution_count": 409,
   "metadata": {},
   "outputs": [],
   "source": [
    "agent <- as.integer(tempDF['agent'])\n",
    "kcore <- as.integer(tempDF['k.core'])"
   ]
  },
  {
   "cell_type": "code",
   "execution_count": 410,
   "metadata": {},
   "outputs": [],
   "source": [
    "DF$'agent.init' <- agent\n",
    "DF$'k.core.init' <- kcore\n",
    "DF$'density' <- 1"
   ]
  },
  {
   "cell_type": "code",
   "execution_count": 411,
   "metadata": {
    "scrolled": true
   },
   "outputs": [],
   "source": [
    "DT <- data.table(DF)"
   ]
  },
  {
   "cell_type": "code",
   "execution_count": 412,
   "metadata": {},
   "outputs": [],
   "source": [
    "DT1 = DT[, sum(density), by=list(time, state)]"
   ]
  },
  {
   "cell_type": "code",
   "execution_count": 413,
   "metadata": {},
   "outputs": [],
   "source": [
    "names(DT1)[names(DT1)==\"V1\"] <- \"density\""
   ]
  },
  {
   "cell_type": "code",
   "execution_count": 414,
   "metadata": {},
   "outputs": [],
   "source": [
    "DT1$density <- DT1$density / N_AGENTS"
   ]
  },
  {
   "cell_type": "code",
   "execution_count": 415,
   "metadata": {},
   "outputs": [],
   "source": [
    "DT1$'agent.init' <- agent\n",
    "DT1$'k.core.init' <- kcore"
   ]
  },
  {
   "cell_type": "code",
   "execution_count": 416,
   "metadata": {},
   "outputs": [],
   "source": [
    "tempDT1 <- DT1[DT1$state == 'r']\n",
    "tempDT1 <- tempDT1[tempDT1$time == 500]\n",
    "density <- as.numeric(tempDT1[,'density'])"
   ]
  },
  {
   "cell_type": "code",
   "execution_count": 417,
   "metadata": {},
   "outputs": [
    {
     "data": {},
     "metadata": {},
     "output_type": "display_data"
    }
   ],
   "source": [
    "DT1 = DT1[DT1$state == 'r']\n",
    "DT1[,state:=NULL]"
   ]
  },
  {
   "cell_type": "markdown",
   "metadata": {},
   "source": [
    "## All datasets"
   ]
  },
  {
   "cell_type": "markdown",
   "metadata": {},
   "source": [
    "Assemble everything and do the loops"
   ]
  },
  {
   "cell_type": "code",
   "execution_count": 418,
   "metadata": {
    "scrolled": false
   },
   "outputs": [
    {
     "name": "stdout",
     "output_type": "stream",
     "text": [
      "[1] \"../../log/ProvaEmailcontacts-act-1/2019_01_03_18_11_04/k_core.csv\"\n",
      "[1] \"../../log/ProvaEmailcontacts-act-1/2019_01_03_18_11_11/k_core.csv\"\n",
      "[1] \"../../log/ProvaEmailcontacts-act-1/2019_01_03_18_29_57/k_core.csv\"\n",
      "[1] \"../../log/ProvaEmailcontacts-act-1/2019_01_03_18_30_09/k_core.csv\"\n",
      "[1] \"../../log/ProvaEmailcontacts-act-1/2019_01_03_18_49_54/k_core.csv\"\n",
      "[1] \"../../log/ProvaEmailcontacts-act-1/2019_01_03_18_50_07/k_core.csv\"\n",
      "[1] \"../../log/ProvaEmailcontacts-act-1/2019_01_03_19_08_36/k_core.csv\"\n",
      "[1] \"../../log/ProvaEmailcontacts-act-1/2019_01_03_19_09_26/k_core.csv\"\n",
      "[1] \"../../log/ProvaEmailcontacts-act-1/2019_01_03_19_27_52/k_core.csv\"\n",
      "[1] \"../../log/ProvaEmailcontacts-act-1/2019_01_03_19_28_53/k_core.csv\"\n",
      "[1] \"../../log/ProvaEmailcontacts-act-1/2019_01_03_19_47_16/k_core.csv\"\n",
      "[1] \"../../log/ProvaEmailcontacts-act-1/2019_01_03_19_48_07/k_core.csv\"\n",
      "[1] \"../../log/ProvaEmailcontacts-act-1/2019_01_03_20_06_54/k_core.csv\"\n",
      "[1] \"../../log/ProvaEmailcontacts-act-1/2019_01_03_20_07_30/k_core.csv\"\n",
      "[1] \"../../log/ProvaEmailcontacts-act-1/2019_01_03_20_26_18/k_core.csv\"\n",
      "[1] \"../../log/ProvaEmailcontacts-act-1/2019_01_03_20_26_46/k_core.csv\"\n",
      "[1] \"../../log/ProvaEmailcontacts-act-1/2019_01_03_20_46_20/k_core.csv\"\n",
      "[1] \"../../log/ProvaEmailcontacts-act-1/2019_01_03_20_47_22/k_core.csv\"\n",
      "[1] \"../../log/ProvaEmailcontacts-act-1/2019_01_03_21_05_40/k_core.csv\"\n",
      "[1] \"../../log/ProvaEmailcontacts-act-1/2019_01_03_21_06_37/k_core.csv\"\n",
      "[1] \"../../log/ProvaEmailcontacts-act-1/2019_01_03_21_25_21/k_core.csv\"\n",
      "[1] \"../../log/ProvaEmailcontacts-act-1/2019_01_03_21_26_49/k_core.csv\"\n",
      "[1] \"../../log/ProvaEmailcontacts-act-1/2019_01_03_21_44_39/k_core.csv\"\n",
      "[1] \"../../log/ProvaEmailcontacts-act-1/2019_01_03_21_46_10/k_core.csv\"\n",
      "[1] \"../../log/ProvaEmailcontacts-act-1/2019_01_03_22_04_40/k_core.csv\"\n",
      "[1] \"../../log/ProvaEmailcontacts-act-1/2019_01_03_22_07_11/k_core.csv\"\n",
      "[1] \"../../log/ProvaEmailcontacts-act-1/2019_01_03_22_23_58/k_core.csv\"\n",
      "[1] \"../../log/ProvaEmailcontacts-act-1/2019_01_03_22_28_08/k_core.csv\"\n",
      "[1] \"../../log/ProvaEmailcontacts-act-1/2019_01_03_22_43_16/k_core.csv\"\n",
      "[1] \"../../log/ProvaEmailcontacts-act-1/2019_01_03_22_47_12/k_core.csv\"\n",
      "[1] \"../../log/ProvaEmailcontacts-act-1/2019_01_03_23_03_48/k_core.csv\"\n",
      "[1] \"../../log/ProvaEmailcontacts-act-1/2019_01_03_23_06_38/k_core.csv\"\n",
      "[1] \"../../log/ProvaEmailcontacts-act-1/2019_01_03_23_23_04/k_core.csv\"\n",
      "[1] \"../../log/ProvaEmailcontacts-act-1/2019_01_03_23_26_32/k_core.csv\"\n",
      "[1] \"../../log/ProvaEmailcontacts-act-1/2019_01_03_23_42_07/k_core.csv\"\n",
      "[1] \"../../log/ProvaEmailcontacts-act-1/2019_01_03_23_46_04/k_core.csv\"\n",
      "[1] \"../../log/ProvaEmailcontacts-act-1/2019_02_03_00_01_42/k_core.csv\"\n",
      "[1] \"../../log/ProvaEmailcontacts-act-1/2019_02_03_00_05_42/k_core.csv\"\n",
      "[1] \"../../log/ProvaEmailcontacts-act-1/2019_02_03_00_21_17/k_core.csv\"\n",
      "[1] \"../../log/ProvaEmailcontacts-act-1/2019_02_03_00_25_46/k_core.csv\"\n",
      "[1] \"../../log/ProvaEmailcontacts-act-1/2019_02_03_00_41_45/k_core.csv\"\n",
      "[1] \"../../log/ProvaEmailcontacts-act-1/2019_02_03_00_45_45/k_core.csv\"\n",
      "[1] \"../../log/ProvaEmailcontacts-act-1/2019_02_03_01_02_28/k_core.csv\"\n",
      "[1] \"../../log/ProvaEmailcontacts-act-1/2019_02_03_01_05_26/k_core.csv\"\n",
      "[1] \"../../log/ProvaEmailcontacts-act-1/2019_02_03_01_23_12/k_core.csv\"\n",
      "[1] \"../../log/ProvaEmailcontacts-act-1/2019_02_03_01_24_29/k_core.csv\"\n"
     ]
    }
   ],
   "source": [
    "emptytable <- data.table()\n",
    "lista = list.dirs(mypath)\n",
    "for (i in lista){    \n",
    "    filename = paste(mypath, '/', i, '/', 'k_core.csv', sep = \"\")\n",
    "    print(filename)\n",
    "    DF <- read.csv(file = filename, skip=12)\n",
    "    tempDF <- DF[DF$state =='i',]\n",
    "    tempDF <- tempDF[tempDF$time == 1,]\n",
    "\n",
    "    agent <- as.integer(tempDF['agent'])\n",
    "    kcore <- as.integer(tempDF['k.core'])\n",
    "\n",
    "    DF$'agent.init' <- agent\n",
    "    DF$'k.core.init' <- kcore\n",
    "    DF$'density' <- 1\n",
    "    DF$'density.mean' <- 1\n",
    "    DF$'density.std' <- 1\n",
    "\n",
    "    DT <- data.table(DF)\n",
    "    DT1 = DT[, sum(density), by=list(time, state)]\n",
    "    \n",
    "    names(DT1)[names(DT1)==\"V1\"] <- \"density\"\n",
    "\n",
    "    DT1$density <- DT1$density / N_AGENTS\n",
    "\n",
    "    DT1$'agent.init' <- agent\n",
    "    DT1$'k.core.init' <- kcore\n",
    "    \n",
    "    tempDT1 <- DT1[DT1$state == 'r']\n",
    "    tempDT1 <- tempDT1[tempDT1$time == 500]\n",
    "    density <- as.numeric(tempDT1[,'density'])\n",
    "    \n",
    "    DT1 = DT1[DT1$state == 'r']\n",
    "    DT1[,state:=NULL]\n",
    "    #print(DT1)\n",
    "    emptytable <- rbind(emptytable, DT1)\n",
    "}"
   ]
  },
  {
   "cell_type": "code",
   "execution_count": 419,
   "metadata": {
    "scrolled": true
   },
   "outputs": [],
   "source": [
    "rawtable <- emptytable"
   ]
  },
  {
   "cell_type": "markdown",
   "metadata": {},
   "source": [
    "Compute mean and standard deviation and add to data table"
   ]
  },
  {
   "cell_type": "code",
   "execution_count": 420,
   "metadata": {},
   "outputs": [],
   "source": [
    "emptytable <- rawtable"
   ]
  },
  {
   "cell_type": "code",
   "execution_count": 421,
   "metadata": {},
   "outputs": [],
   "source": [
    "emptytabletime <- emptytable[emptytable$time == 500]\n",
    "#emptytabletime <- emptytabletime[emptytabletime$density < 0.46]\n",
    "#emptytabletime <- emptytabletime[emptytabletime$density > 0.05]\n",
    "#emptytabletime$k.core.init <- emptytabletime$k.core.init + 1 + emptytabletime$k.core.init %% 2 \n",
    "toplot <- emptytabletime[, mean(density), by=list(time, k.core.init)][,'k.core.init']\n",
    "toplot$mean <- emptytabletime[emptytabletime$time == 500][, mean(density), by=list(time, k.core.init)][,'V1']\n",
    "toplot$std <- emptytabletime[emptytabletime$time == 500][, sd(density), by=list(time, k.core.init)][,'V1']"
   ]
  },
  {
   "cell_type": "markdown",
   "metadata": {},
   "source": [
    "Clean NaN values"
   ]
  },
  {
   "cell_type": "code",
   "execution_count": 422,
   "metadata": {},
   "outputs": [],
   "source": [
    "toplot[is.na(toplot)] <- 0"
   ]
  },
  {
   "cell_type": "code",
   "execution_count": 423,
   "metadata": {
    "scrolled": false
   },
   "outputs": [
    {
     "data": {
      "text/html": [
       "<table>\n",
       "<thead><tr><th scope=col>k.core.init</th><th scope=col>mean</th><th scope=col>std</th></tr></thead>\n",
       "<tbody>\n",
       "\t<tr><td> 1               </td><td>0.0320000000000  </td><td>0.011053786269705</td></tr>\n",
       "\t<tr><td>23               </td><td>0.0428514851485  </td><td>0.002912439811620</td></tr>\n",
       "\t<tr><td> 2               </td><td>0.0435247524752  </td><td>0.006328955744482</td></tr>\n",
       "\t<tr><td>22               </td><td>0.0428514851485  </td><td>0.005376811959914</td></tr>\n",
       "\t<tr><td>21               </td><td>0.0388514851485  </td><td>0.002184329858715</td></tr>\n",
       "\t<tr><td> 3               </td><td>0.0394851485149  </td><td>0.000392059205410</td></tr>\n",
       "\t<tr><td>20               </td><td>0.0434851485149  </td><td>0.000560084579158</td></tr>\n",
       "\t<tr><td> 4               </td><td>0.0382178217822  </td><td>0.009689463219428</td></tr>\n",
       "\t<tr><td> 5               </td><td>0.0384158415842  </td><td>0.008513285603196</td></tr>\n",
       "\t<tr><td>18               </td><td>0.0387722772277  </td><td>0.006665006491976</td></tr>\n",
       "\t<tr><td> 6               </td><td>0.0449900990099  </td><td>0.001792270653305</td></tr>\n",
       "\t<tr><td>17               </td><td>0.0454653465347  </td><td>0.004704710464924</td></tr>\n",
       "\t<tr><td> 7               </td><td>0.0384158415842  </td><td>0.001120169158315</td></tr>\n",
       "\t<tr><td>16               </td><td>0.0401188118812  </td><td>0.006889040323639</td></tr>\n",
       "\t<tr><td> 8               </td><td>0.0380594059406  </td><td>0.004760718922840</td></tr>\n",
       "\t<tr><td> 9               </td><td>0.0395247524752  </td><td>0.007505133360713</td></tr>\n",
       "\t<tr><td>15               </td><td>0.0383762376238  </td><td>0.001064160700400</td></tr>\n",
       "\t<tr><td>10               </td><td>0.0375445544554  </td><td>0.000448067663326</td></tr>\n",
       "\t<tr><td>14               </td><td>0.0346138613861  </td><td>0.002128321400799</td></tr>\n",
       "\t<tr><td>11               </td><td>0.0343366336634  </td><td>0.007225091071134</td></tr>\n",
       "\t<tr><td>13               </td><td>0.0385742574257  </td><td>0.003696558222441</td></tr>\n",
       "\t<tr><td>12               </td><td>0.0392871287129  </td><td>0.005712862707408</td></tr>\n",
       "</tbody>\n",
       "</table>\n"
      ],
      "text/latex": [
       "\\begin{tabular}{r|lll}\n",
       " k.core.init & mean & std\\\\\n",
       "\\hline\n",
       "\t  1                & 0.0320000000000   & 0.011053786269705\\\\\n",
       "\t 23                & 0.0428514851485   & 0.002912439811620\\\\\n",
       "\t  2                & 0.0435247524752   & 0.006328955744482\\\\\n",
       "\t 22                & 0.0428514851485   & 0.005376811959914\\\\\n",
       "\t 21                & 0.0388514851485   & 0.002184329858715\\\\\n",
       "\t  3                & 0.0394851485149   & 0.000392059205410\\\\\n",
       "\t 20                & 0.0434851485149   & 0.000560084579158\\\\\n",
       "\t  4                & 0.0382178217822   & 0.009689463219428\\\\\n",
       "\t  5                & 0.0384158415842   & 0.008513285603196\\\\\n",
       "\t 18                & 0.0387722772277   & 0.006665006491976\\\\\n",
       "\t  6                & 0.0449900990099   & 0.001792270653305\\\\\n",
       "\t 17                & 0.0454653465347   & 0.004704710464924\\\\\n",
       "\t  7                & 0.0384158415842   & 0.001120169158315\\\\\n",
       "\t 16                & 0.0401188118812   & 0.006889040323639\\\\\n",
       "\t  8                & 0.0380594059406   & 0.004760718922840\\\\\n",
       "\t  9                & 0.0395247524752   & 0.007505133360713\\\\\n",
       "\t 15                & 0.0383762376238   & 0.001064160700400\\\\\n",
       "\t 10                & 0.0375445544554   & 0.000448067663326\\\\\n",
       "\t 14                & 0.0346138613861   & 0.002128321400799\\\\\n",
       "\t 11                & 0.0343366336634   & 0.007225091071134\\\\\n",
       "\t 13                & 0.0385742574257   & 0.003696558222441\\\\\n",
       "\t 12                & 0.0392871287129   & 0.005712862707408\\\\\n",
       "\\end{tabular}\n"
      ],
      "text/markdown": [
       "\n",
       "k.core.init | mean | std | \n",
       "|---|---|---|---|---|---|---|---|---|---|---|---|---|---|---|---|---|---|---|---|---|---|\n",
       "|  1                | 0.0320000000000   | 0.011053786269705 | \n",
       "| 23                | 0.0428514851485   | 0.002912439811620 | \n",
       "|  2                | 0.0435247524752   | 0.006328955744482 | \n",
       "| 22                | 0.0428514851485   | 0.005376811959914 | \n",
       "| 21                | 0.0388514851485   | 0.002184329858715 | \n",
       "|  3                | 0.0394851485149   | 0.000392059205410 | \n",
       "| 20                | 0.0434851485149   | 0.000560084579158 | \n",
       "|  4                | 0.0382178217822   | 0.009689463219428 | \n",
       "|  5                | 0.0384158415842   | 0.008513285603196 | \n",
       "| 18                | 0.0387722772277   | 0.006665006491976 | \n",
       "|  6                | 0.0449900990099   | 0.001792270653305 | \n",
       "| 17                | 0.0454653465347   | 0.004704710464924 | \n",
       "|  7                | 0.0384158415842   | 0.001120169158315 | \n",
       "| 16                | 0.0401188118812   | 0.006889040323639 | \n",
       "|  8                | 0.0380594059406   | 0.004760718922840 | \n",
       "|  9                | 0.0395247524752   | 0.007505133360713 | \n",
       "| 15                | 0.0383762376238   | 0.001064160700400 | \n",
       "| 10                | 0.0375445544554   | 0.000448067663326 | \n",
       "| 14                | 0.0346138613861   | 0.002128321400799 | \n",
       "| 11                | 0.0343366336634   | 0.007225091071134 | \n",
       "| 13                | 0.0385742574257   | 0.003696558222441 | \n",
       "| 12                | 0.0392871287129   | 0.005712862707408 | \n",
       "\n",
       "\n"
      ],
      "text/plain": [
       "   k.core.init mean            std              \n",
       "1   1          0.0320000000000 0.011053786269705\n",
       "2  23          0.0428514851485 0.002912439811620\n",
       "3   2          0.0435247524752 0.006328955744482\n",
       "4  22          0.0428514851485 0.005376811959914\n",
       "5  21          0.0388514851485 0.002184329858715\n",
       "6   3          0.0394851485149 0.000392059205410\n",
       "7  20          0.0434851485149 0.000560084579158\n",
       "8   4          0.0382178217822 0.009689463219428\n",
       "9   5          0.0384158415842 0.008513285603196\n",
       "10 18          0.0387722772277 0.006665006491976\n",
       "11  6          0.0449900990099 0.001792270653305\n",
       "12 17          0.0454653465347 0.004704710464924\n",
       "13  7          0.0384158415842 0.001120169158315\n",
       "14 16          0.0401188118812 0.006889040323639\n",
       "15  8          0.0380594059406 0.004760718922840\n",
       "16  9          0.0395247524752 0.007505133360713\n",
       "17 15          0.0383762376238 0.001064160700400\n",
       "18 10          0.0375445544554 0.000448067663326\n",
       "19 14          0.0346138613861 0.002128321400799\n",
       "20 11          0.0343366336634 0.007225091071134\n",
       "21 13          0.0385742574257 0.003696558222441\n",
       "22 12          0.0392871287129 0.005712862707408"
      ]
     },
     "metadata": {},
     "output_type": "display_data"
    }
   ],
   "source": [
    "toplot"
   ]
  },
  {
   "cell_type": "markdown",
   "metadata": {},
   "source": [
    "Plot"
   ]
  },
  {
   "cell_type": "code",
   "execution_count": 424,
   "metadata": {
    "scrolled": false
   },
   "outputs": [
    {
     "data": {
      "image/png": "[encoded data removed]",
      "text/plain": [
       "plot without title"
      ]
     },
     "metadata": {},
     "output_type": "display_data"
    }
   ],
   "source": [
    "plot(toplot$k.core.init, toplot$mean,\n",
    "    ylim=range(c(toplot$mean-toplot$std, toplot$mean+toplot$std)),\n",
    "     #log='y',\n",
    "     xlab=TeX('$k_S$'), ylab=TeX('$M_{k_S}$'),\n",
    "    #main=\"Scatter plot with std.dev error bars\"\n",
    ")\n",
    "arrows(toplot$k.core.init, toplot$mean-toplot$std, \n",
    "       toplot$k.core.init, toplot$mean+toplot$std, length=0.05, angle=90, code=3)\n"
   ]
  },
  {
   "cell_type": "markdown",
   "metadata": {},
   "source": [
    "Log y plot"
   ]
  },
  {
   "cell_type": "code",
   "execution_count": 425,
   "metadata": {
    "scrolled": false
   },
   "outputs": [
    {
     "data": {
      "image/png": "[encoded data removed]",
      "text/plain": [
       "plot without title"
      ]
     },
     "metadata": {},
     "output_type": "display_data"
    }
   ],
   "source": [
    "plot(toplot$k.core.init, toplot$mean,\n",
    "     ylim=range(c(toplot$mean-toplot$std, toplot$mean+toplot$std)),\n",
    "     log='y',\n",
    "     xlab=TeX('$k_S$'), ylab=TeX('$M_{k_S}$'),\n",
    "    #main=\"Scatter plot with std.dev error bars\"\n",
    ")\n",
    "arrows(toplot$k.core.init, toplot$mean-toplot$std, \n",
    "       toplot$k.core.init, toplot$mean+toplot$std, length=0.05, angle=90, code=3)"
   ]
  },
  {
   "cell_type": "code",
   "execution_count": null,
   "metadata": {},
   "outputs": [],
   "source": []
  }
 ],
 "metadata": {
  "kernelspec": {
   "display_name": "R",
   "language": "R",
   "name": "ir"
  },
  "language_info": {
   "codemirror_mode": "r",
   "file_extension": ".r",
   "mimetype": "text/x-r-source",
   "name": "R",
   "pygments_lexer": "r",
   "version": "3.5.2"
  }
 },
 "nbformat": 4,
 "nbformat_minor": 2
}
