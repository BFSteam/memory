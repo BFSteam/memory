{
 "cells": [
  {
   "cell_type": "code",
   "execution_count": 1,
   "metadata": {},
   "outputs": [],
   "source": [
    "library(data.table)\n",
    "library(ggplot2)\n",
    "library(latex2exp)"
   ]
  },
  {
   "cell_type": "code",
   "execution_count": 195,
   "metadata": {},
   "outputs": [],
   "source": [
    "mypath <- \"../../log/URV-2-news-truncated\""
   ]
  },
  {
   "cell_type": "code",
   "execution_count": 3,
   "metadata": {},
   "outputs": [],
   "source": [
    "list.dirs <- function(path=\".\", pattern=NULL, all.dirs=FALSE,\n",
    "  full.names=FALSE, ignore.case=FALSE) {\n",
    "  # use full.names=TRUE to pass to file.info\n",
    "  all <- list.files(path, pattern, all.dirs,\n",
    "           full.names=TRUE, recursive=FALSE, ignore.case)\n",
    "  dirs <- all[file.info(all)$isdir]\n",
    "  # determine whether to return full names or just dir names\n",
    "  if(isTRUE(full.names))\n",
    "    return(dirs)\n",
    "  else\n",
    "    return(basename(dirs))\n",
    "}"
   ]
  },
  {
   "cell_type": "code",
   "execution_count": 7,
   "metadata": {},
   "outputs": [],
   "source": [
    "N_AGENTS <- 1134"
   ]
  },
  {
   "cell_type": "markdown",
   "metadata": {},
   "source": [
    "## 1 news"
   ]
  },
  {
   "cell_type": "code",
   "execution_count": null,
   "metadata": {},
   "outputs": [],
   "source": [
    "time <- as.integer(50)"
   ]
  },
  {
   "cell_type": "code",
   "execution_count": 5,
   "metadata": {},
   "outputs": [],
   "source": [
    "N_AGENTS <- 1134"
   ]
  },
  {
   "cell_type": "code",
   "execution_count": null,
   "metadata": {},
   "outputs": [],
   "source": [
    "N_AGENTS <- 12625"
   ]
  },
  {
   "cell_type": "code",
   "execution_count": null,
   "metadata": {},
   "outputs": [],
   "source": [
    "#mypath <- \"/home/nik/ProvaEmailcontacts2.5/ProvaEmailcontacts2.5\""
   ]
  },
  {
   "cell_type": "code",
   "execution_count": null,
   "metadata": {
    "scrolled": true
   },
   "outputs": [],
   "source": [
    "list.dirs(mypath)"
   ]
  },
  {
   "cell_type": "code",
   "execution_count": null,
   "metadata": {},
   "outputs": [],
   "source": [
    "thepath = list.dirs(mypath)[1]\n",
    "thepath"
   ]
  },
  {
   "cell_type": "code",
   "execution_count": null,
   "metadata": {},
   "outputs": [],
   "source": [
    "filename = paste(mypath, '/', thepath, '/', 'k_core.csv', sep = \"\")\n",
    "memfile = paste(mypath, '/', thepath, '/', 'memoryLog.csv', sep = \"\")"
   ]
  },
  {
   "cell_type": "code",
   "execution_count": null,
   "metadata": {},
   "outputs": [],
   "source": [
    "DF <- read.csv(file = filename, skip=12)"
   ]
  },
  {
   "cell_type": "code",
   "execution_count": null,
   "metadata": {},
   "outputs": [],
   "source": [
    "tempDF <- DF[DF$state =='i',]\n",
    "tempDF <- tempDF[tempDF$time == 1,]"
   ]
  },
  {
   "cell_type": "code",
   "execution_count": null,
   "metadata": {},
   "outputs": [],
   "source": [
    "tempDF"
   ]
  },
  {
   "cell_type": "code",
   "execution_count": null,
   "metadata": {},
   "outputs": [],
   "source": [
    "agent <- as.integer(tempDF['agent'])\n",
    "kcore <- as.integer(tempDF['k.core'])"
   ]
  },
  {
   "cell_type": "code",
   "execution_count": null,
   "metadata": {},
   "outputs": [],
   "source": [
    "DF$'agent.init' <- agent\n",
    "DF$'k.core.init' <- kcore\n",
    "DF$'density' <- 1"
   ]
  },
  {
   "cell_type": "code",
   "execution_count": null,
   "metadata": {
    "scrolled": true
   },
   "outputs": [],
   "source": [
    "DT <- data.table(DF)"
   ]
  },
  {
   "cell_type": "code",
   "execution_count": null,
   "metadata": {},
   "outputs": [],
   "source": [
    "DT1 = DT[, sum(density), by=list(time, state)]"
   ]
  },
  {
   "cell_type": "code",
   "execution_count": null,
   "metadata": {},
   "outputs": [],
   "source": [
    "names(DT1)[names(DT1)==\"V1\"] <- \"density\""
   ]
  },
  {
   "cell_type": "code",
   "execution_count": null,
   "metadata": {},
   "outputs": [],
   "source": [
    "DT1$density <- DT1$density / N_AGENTS"
   ]
  },
  {
   "cell_type": "code",
   "execution_count": null,
   "metadata": {},
   "outputs": [],
   "source": [
    "DT1$'agent.init' <- agent\n",
    "DT1$'k.core.init' <- kcore"
   ]
  },
  {
   "cell_type": "code",
   "execution_count": null,
   "metadata": {},
   "outputs": [],
   "source": [
    "tempDT1 <- DT1[DT1$state == 'r']\n",
    "tempDT1 <- tempDT1[tempDT1$time == 120]\n",
    "density <- as.numeric(tempDT1[,'density'])"
   ]
  },
  {
   "cell_type": "code",
   "execution_count": null,
   "metadata": {},
   "outputs": [],
   "source": [
    "DT1 = DT1[DT1$state == 'r']\n",
    "DT1[,state:=NULL]"
   ]
  },
  {
   "cell_type": "markdown",
   "metadata": {},
   "source": [
    "## 2 news"
   ]
  },
  {
   "cell_type": "code",
   "execution_count": 54,
   "metadata": {},
   "outputs": [],
   "source": [
    "time <- as.integer(50)"
   ]
  },
  {
   "cell_type": "code",
   "execution_count": 1,
   "metadata": {},
   "outputs": [],
   "source": [
    "N_AGENTS <- 1134"
   ]
  },
  {
   "cell_type": "code",
   "execution_count": null,
   "metadata": {},
   "outputs": [],
   "source": [
    "N_AGENTS <- 12625"
   ]
  },
  {
   "cell_type": "code",
   "execution_count": 2,
   "metadata": {},
   "outputs": [],
   "source": [
    "mypath <- \"../../log/URV-2-news-truncated\""
   ]
  },
  {
   "cell_type": "code",
   "execution_count": 3,
   "metadata": {},
   "outputs": [],
   "source": [
    "#mypath <- \"/home/nik/ProvaEmailcontacts2.5/ProvaEmailcontacts2.5\""
   ]
  },
  {
   "cell_type": "code",
   "execution_count": 4,
   "metadata": {},
   "outputs": [],
   "source": [
    "list.dirs <- function(path=\".\", pattern=NULL, all.dirs=FALSE,\n",
    "  full.names=FALSE, ignore.case=FALSE) {\n",
    "  # use full.names=TRUE to pass to file.info\n",
    "  all <- list.files(path, pattern, all.dirs,\n",
    "           full.names=TRUE, recursive=FALSE, ignore.case)\n",
    "  dirs <- all[file.info(all)$isdir]\n",
    "  # determine whether to return full names or just dir names\n",
    "  if(isTRUE(full.names))\n",
    "    return(dirs)\n",
    "  else\n",
    "    return(basename(dirs))\n",
    "}"
   ]
  },
  {
   "cell_type": "code",
   "execution_count": 5,
   "metadata": {
    "scrolled": true
   },
   "outputs": [
    {
     "data": {
      "text/html": [
       "<ol class=list-inline>\n",
       "\t<li>'2019_15_03_15_49_57'</li>\n",
       "\t<li>'2019_15_03_15_50_05'</li>\n",
       "\t<li>'2019_15_03_15_50_11'</li>\n",
       "\t<li>'2019_15_03_15_50_12'</li>\n",
       "\t<li>'2019_15_03_15_50_18'</li>\n",
       "\t<li>'2019_15_03_15_50_20'</li>\n",
       "\t<li>'2019_15_03_15_50_25'</li>\n",
       "\t<li>'2019_15_03_15_50_26'</li>\n",
       "\t<li>'2019_15_03_15_50_33'</li>\n",
       "\t<li>'2019_15_03_15_50_34'</li>\n",
       "\t<li>'2019_15_03_15_50_41'</li>\n",
       "\t<li>'2019_15_03_15_50_43'</li>\n",
       "\t<li>'2019_15_03_15_50_49'</li>\n",
       "\t<li>'2019_15_03_15_50_51'</li>\n",
       "\t<li>'2019_15_03_15_50_57'</li>\n",
       "\t<li>'2019_15_03_15_50_58'</li>\n",
       "\t<li>'2019_15_03_15_51_05'</li>\n",
       "\t<li>'2019_15_03_15_51_06'</li>\n",
       "\t<li>'2019_15_03_15_51_13'</li>\n",
       "\t<li>'2019_15_03_15_51_15'</li>\n",
       "\t<li>'2019_15_03_15_51_22'</li>\n",
       "\t<li>'2019_15_03_15_51_23'</li>\n",
       "\t<li>'2019_15_03_15_51_31'</li>\n",
       "\t<li>'2019_15_03_15_51_38'</li>\n",
       "\t<li>'2019_15_03_15_51_39'</li>\n",
       "\t<li>'2019_15_03_15_51_45'</li>\n",
       "\t<li>'2019_15_03_15_51_46'</li>\n",
       "\t<li>'2019_15_03_15_51_53'</li>\n",
       "\t<li>'2019_15_03_15_52_00'</li>\n",
       "\t<li>'2019_15_03_15_52_07'</li>\n",
       "\t<li>'2019_15_03_15_52_15'</li>\n",
       "\t<li>'2019_15_03_15_53_43'</li>\n",
       "\t<li>'2019_15_03_15_53_52'</li>\n",
       "\t<li>'2019_15_03_15_53_59'</li>\n",
       "\t<li>'2019_15_03_15_54_06'</li>\n",
       "\t<li>'2019_15_03_15_54_07'</li>\n",
       "\t<li>'2019_15_03_15_54_13'</li>\n",
       "\t<li>'2019_15_03_15_54_14'</li>\n",
       "\t<li>'2019_15_03_15_54_21'</li>\n",
       "\t<li>'2019_15_03_15_54_22'</li>\n",
       "\t<li>'2019_15_03_15_54_28'</li>\n",
       "\t<li>'2019_15_03_15_54_29'</li>\n",
       "\t<li>'2019_15_03_15_54_35'</li>\n",
       "\t<li>'2019_15_03_15_54_37'</li>\n",
       "\t<li>'2019_15_03_15_54_43'</li>\n",
       "\t<li>'2019_15_03_15_54_44'</li>\n",
       "\t<li>'2019_15_03_15_54_50'</li>\n",
       "\t<li>'2019_15_03_15_54_52'</li>\n",
       "\t<li>'2019_15_03_15_54_58'</li>\n",
       "\t<li>'2019_15_03_15_55_00'</li>\n",
       "\t<li>'2019_15_03_15_55_05'</li>\n",
       "\t<li>'2019_15_03_15_55_07'</li>\n",
       "\t<li>'2019_15_03_15_55_13'</li>\n",
       "\t<li>'2019_15_03_15_55_14'</li>\n",
       "\t<li>'2019_15_03_15_55_21'</li>\n",
       "\t<li>'2019_15_03_15_55_22'</li>\n",
       "\t<li>'2019_15_03_15_55_29'</li>\n",
       "\t<li>'2019_15_03_15_55_30'</li>\n",
       "\t<li>'2019_15_03_15_55_37'</li>\n",
       "\t<li>'2019_15_03_15_55_38'</li>\n",
       "\t<li>'2019_15_03_15_55_45'</li>\n",
       "\t<li>'2019_15_03_15_55_46'</li>\n",
       "\t<li>'2019_15_03_15_55_52'</li>\n",
       "\t<li>'2019_15_03_15_55_54'</li>\n",
       "\t<li>'2019_15_03_15_56_00'</li>\n",
       "\t<li>'2019_15_03_15_56_01'</li>\n",
       "\t<li>'2019_15_03_15_56_08'</li>\n",
       "\t<li>'2019_15_03_15_56_09'</li>\n",
       "\t<li>'2019_15_03_15_56_16'</li>\n",
       "\t<li>'2019_15_03_15_56_17'</li>\n",
       "\t<li>'2019_15_03_15_56_23'</li>\n",
       "\t<li>'2019_15_03_15_56_25'</li>\n",
       "\t<li>'2019_15_03_15_56_31'</li>\n",
       "\t<li>'2019_15_03_15_56_32'</li>\n",
       "\t<li>'2019_15_03_15_56_39'</li>\n",
       "\t<li>'2019_15_03_15_56_40'</li>\n",
       "\t<li>'2019_15_03_15_56_47'</li>\n",
       "\t<li>'2019_15_03_15_56_48'</li>\n",
       "\t<li>'2019_15_03_15_56_55'</li>\n",
       "\t<li>'2019_15_03_15_56_56'</li>\n",
       "\t<li>'2019_15_03_15_57_03'</li>\n",
       "\t<li>'2019_15_03_15_57_04'</li>\n",
       "\t<li>'2019_15_03_15_57_11'</li>\n",
       "\t<li>'2019_15_03_15_57_12'</li>\n",
       "\t<li>'2019_15_03_15_57_19'</li>\n",
       "\t<li>'2019_15_03_15_57_20'</li>\n",
       "\t<li>'2019_15_03_15_57_26'</li>\n",
       "\t<li>'2019_15_03_15_57_28'</li>\n",
       "\t<li>'2019_15_03_15_57_35'</li>\n",
       "\t<li>'2019_15_03_15_57_36'</li>\n",
       "\t<li>'2019_15_03_15_57_42'</li>\n",
       "\t<li>'2019_15_03_15_57_44'</li>\n",
       "\t<li>'2019_15_03_15_57_50'</li>\n",
       "\t<li>'2019_15_03_15_57_52'</li>\n",
       "\t<li>'2019_15_03_15_57_58'</li>\n",
       "\t<li>'2019_15_03_15_57_59'</li>\n",
       "\t<li>'2019_15_03_15_58_06'</li>\n",
       "\t<li>'2019_15_03_15_58_07'</li>\n",
       "\t<li>'2019_15_03_15_58_14'</li>\n",
       "\t<li>'2019_15_03_15_58_15'</li>\n",
       "\t<li>'2019_15_03_15_58_22'</li>\n",
       "\t<li>'2019_15_03_15_58_23'</li>\n",
       "\t<li>'2019_15_03_15_58_30'</li>\n",
       "</ol>\n"
      ],
      "text/latex": [
       "\\begin{enumerate*}\n",
       "\\item '2019\\_15\\_03\\_15\\_49\\_57'\n",
       "\\item '2019\\_15\\_03\\_15\\_50\\_05'\n",
       "\\item '2019\\_15\\_03\\_15\\_50\\_11'\n",
       "\\item '2019\\_15\\_03\\_15\\_50\\_12'\n",
       "\\item '2019\\_15\\_03\\_15\\_50\\_18'\n",
       "\\item '2019\\_15\\_03\\_15\\_50\\_20'\n",
       "\\item '2019\\_15\\_03\\_15\\_50\\_25'\n",
       "\\item '2019\\_15\\_03\\_15\\_50\\_26'\n",
       "\\item '2019\\_15\\_03\\_15\\_50\\_33'\n",
       "\\item '2019\\_15\\_03\\_15\\_50\\_34'\n",
       "\\item '2019\\_15\\_03\\_15\\_50\\_41'\n",
       "\\item '2019\\_15\\_03\\_15\\_50\\_43'\n",
       "\\item '2019\\_15\\_03\\_15\\_50\\_49'\n",
       "\\item '2019\\_15\\_03\\_15\\_50\\_51'\n",
       "\\item '2019\\_15\\_03\\_15\\_50\\_57'\n",
       "\\item '2019\\_15\\_03\\_15\\_50\\_58'\n",
       "\\item '2019\\_15\\_03\\_15\\_51\\_05'\n",
       "\\item '2019\\_15\\_03\\_15\\_51\\_06'\n",
       "\\item '2019\\_15\\_03\\_15\\_51\\_13'\n",
       "\\item '2019\\_15\\_03\\_15\\_51\\_15'\n",
       "\\item '2019\\_15\\_03\\_15\\_51\\_22'\n",
       "\\item '2019\\_15\\_03\\_15\\_51\\_23'\n",
       "\\item '2019\\_15\\_03\\_15\\_51\\_31'\n",
       "\\item '2019\\_15\\_03\\_15\\_51\\_38'\n",
       "\\item '2019\\_15\\_03\\_15\\_51\\_39'\n",
       "\\item '2019\\_15\\_03\\_15\\_51\\_45'\n",
       "\\item '2019\\_15\\_03\\_15\\_51\\_46'\n",
       "\\item '2019\\_15\\_03\\_15\\_51\\_53'\n",
       "\\item '2019\\_15\\_03\\_15\\_52\\_00'\n",
       "\\item '2019\\_15\\_03\\_15\\_52\\_07'\n",
       "\\item '2019\\_15\\_03\\_15\\_52\\_15'\n",
       "\\item '2019\\_15\\_03\\_15\\_53\\_43'\n",
       "\\item '2019\\_15\\_03\\_15\\_53\\_52'\n",
       "\\item '2019\\_15\\_03\\_15\\_53\\_59'\n",
       "\\item '2019\\_15\\_03\\_15\\_54\\_06'\n",
       "\\item '2019\\_15\\_03\\_15\\_54\\_07'\n",
       "\\item '2019\\_15\\_03\\_15\\_54\\_13'\n",
       "\\item '2019\\_15\\_03\\_15\\_54\\_14'\n",
       "\\item '2019\\_15\\_03\\_15\\_54\\_21'\n",
       "\\item '2019\\_15\\_03\\_15\\_54\\_22'\n",
       "\\item '2019\\_15\\_03\\_15\\_54\\_28'\n",
       "\\item '2019\\_15\\_03\\_15\\_54\\_29'\n",
       "\\item '2019\\_15\\_03\\_15\\_54\\_35'\n",
       "\\item '2019\\_15\\_03\\_15\\_54\\_37'\n",
       "\\item '2019\\_15\\_03\\_15\\_54\\_43'\n",
       "\\item '2019\\_15\\_03\\_15\\_54\\_44'\n",
       "\\item '2019\\_15\\_03\\_15\\_54\\_50'\n",
       "\\item '2019\\_15\\_03\\_15\\_54\\_52'\n",
       "\\item '2019\\_15\\_03\\_15\\_54\\_58'\n",
       "\\item '2019\\_15\\_03\\_15\\_55\\_00'\n",
       "\\item '2019\\_15\\_03\\_15\\_55\\_05'\n",
       "\\item '2019\\_15\\_03\\_15\\_55\\_07'\n",
       "\\item '2019\\_15\\_03\\_15\\_55\\_13'\n",
       "\\item '2019\\_15\\_03\\_15\\_55\\_14'\n",
       "\\item '2019\\_15\\_03\\_15\\_55\\_21'\n",
       "\\item '2019\\_15\\_03\\_15\\_55\\_22'\n",
       "\\item '2019\\_15\\_03\\_15\\_55\\_29'\n",
       "\\item '2019\\_15\\_03\\_15\\_55\\_30'\n",
       "\\item '2019\\_15\\_03\\_15\\_55\\_37'\n",
       "\\item '2019\\_15\\_03\\_15\\_55\\_38'\n",
       "\\item '2019\\_15\\_03\\_15\\_55\\_45'\n",
       "\\item '2019\\_15\\_03\\_15\\_55\\_46'\n",
       "\\item '2019\\_15\\_03\\_15\\_55\\_52'\n",
       "\\item '2019\\_15\\_03\\_15\\_55\\_54'\n",
       "\\item '2019\\_15\\_03\\_15\\_56\\_00'\n",
       "\\item '2019\\_15\\_03\\_15\\_56\\_01'\n",
       "\\item '2019\\_15\\_03\\_15\\_56\\_08'\n",
       "\\item '2019\\_15\\_03\\_15\\_56\\_09'\n",
       "\\item '2019\\_15\\_03\\_15\\_56\\_16'\n",
       "\\item '2019\\_15\\_03\\_15\\_56\\_17'\n",
       "\\item '2019\\_15\\_03\\_15\\_56\\_23'\n",
       "\\item '2019\\_15\\_03\\_15\\_56\\_25'\n",
       "\\item '2019\\_15\\_03\\_15\\_56\\_31'\n",
       "\\item '2019\\_15\\_03\\_15\\_56\\_32'\n",
       "\\item '2019\\_15\\_03\\_15\\_56\\_39'\n",
       "\\item '2019\\_15\\_03\\_15\\_56\\_40'\n",
       "\\item '2019\\_15\\_03\\_15\\_56\\_47'\n",
       "\\item '2019\\_15\\_03\\_15\\_56\\_48'\n",
       "\\item '2019\\_15\\_03\\_15\\_56\\_55'\n",
       "\\item '2019\\_15\\_03\\_15\\_56\\_56'\n",
       "\\item '2019\\_15\\_03\\_15\\_57\\_03'\n",
       "\\item '2019\\_15\\_03\\_15\\_57\\_04'\n",
       "\\item '2019\\_15\\_03\\_15\\_57\\_11'\n",
       "\\item '2019\\_15\\_03\\_15\\_57\\_12'\n",
       "\\item '2019\\_15\\_03\\_15\\_57\\_19'\n",
       "\\item '2019\\_15\\_03\\_15\\_57\\_20'\n",
       "\\item '2019\\_15\\_03\\_15\\_57\\_26'\n",
       "\\item '2019\\_15\\_03\\_15\\_57\\_28'\n",
       "\\item '2019\\_15\\_03\\_15\\_57\\_35'\n",
       "\\item '2019\\_15\\_03\\_15\\_57\\_36'\n",
       "\\item '2019\\_15\\_03\\_15\\_57\\_42'\n",
       "\\item '2019\\_15\\_03\\_15\\_57\\_44'\n",
       "\\item '2019\\_15\\_03\\_15\\_57\\_50'\n",
       "\\item '2019\\_15\\_03\\_15\\_57\\_52'\n",
       "\\item '2019\\_15\\_03\\_15\\_57\\_58'\n",
       "\\item '2019\\_15\\_03\\_15\\_57\\_59'\n",
       "\\item '2019\\_15\\_03\\_15\\_58\\_06'\n",
       "\\item '2019\\_15\\_03\\_15\\_58\\_07'\n",
       "\\item '2019\\_15\\_03\\_15\\_58\\_14'\n",
       "\\item '2019\\_15\\_03\\_15\\_58\\_15'\n",
       "\\item '2019\\_15\\_03\\_15\\_58\\_22'\n",
       "\\item '2019\\_15\\_03\\_15\\_58\\_23'\n",
       "\\item '2019\\_15\\_03\\_15\\_58\\_30'\n",
       "\\end{enumerate*}\n"
      ],
      "text/markdown": [
       "1. '2019_15_03_15_49_57'\n",
       "2. '2019_15_03_15_50_05'\n",
       "3. '2019_15_03_15_50_11'\n",
       "4. '2019_15_03_15_50_12'\n",
       "5. '2019_15_03_15_50_18'\n",
       "6. '2019_15_03_15_50_20'\n",
       "7. '2019_15_03_15_50_25'\n",
       "8. '2019_15_03_15_50_26'\n",
       "9. '2019_15_03_15_50_33'\n",
       "10. '2019_15_03_15_50_34'\n",
       "11. '2019_15_03_15_50_41'\n",
       "12. '2019_15_03_15_50_43'\n",
       "13. '2019_15_03_15_50_49'\n",
       "14. '2019_15_03_15_50_51'\n",
       "15. '2019_15_03_15_50_57'\n",
       "16. '2019_15_03_15_50_58'\n",
       "17. '2019_15_03_15_51_05'\n",
       "18. '2019_15_03_15_51_06'\n",
       "19. '2019_15_03_15_51_13'\n",
       "20. '2019_15_03_15_51_15'\n",
       "21. '2019_15_03_15_51_22'\n",
       "22. '2019_15_03_15_51_23'\n",
       "23. '2019_15_03_15_51_31'\n",
       "24. '2019_15_03_15_51_38'\n",
       "25. '2019_15_03_15_51_39'\n",
       "26. '2019_15_03_15_51_45'\n",
       "27. '2019_15_03_15_51_46'\n",
       "28. '2019_15_03_15_51_53'\n",
       "29. '2019_15_03_15_52_00'\n",
       "30. '2019_15_03_15_52_07'\n",
       "31. '2019_15_03_15_52_15'\n",
       "32. '2019_15_03_15_53_43'\n",
       "33. '2019_15_03_15_53_52'\n",
       "34. '2019_15_03_15_53_59'\n",
       "35. '2019_15_03_15_54_06'\n",
       "36. '2019_15_03_15_54_07'\n",
       "37. '2019_15_03_15_54_13'\n",
       "38. '2019_15_03_15_54_14'\n",
       "39. '2019_15_03_15_54_21'\n",
       "40. '2019_15_03_15_54_22'\n",
       "41. '2019_15_03_15_54_28'\n",
       "42. '2019_15_03_15_54_29'\n",
       "43. '2019_15_03_15_54_35'\n",
       "44. '2019_15_03_15_54_37'\n",
       "45. '2019_15_03_15_54_43'\n",
       "46. '2019_15_03_15_54_44'\n",
       "47. '2019_15_03_15_54_50'\n",
       "48. '2019_15_03_15_54_52'\n",
       "49. '2019_15_03_15_54_58'\n",
       "50. '2019_15_03_15_55_00'\n",
       "51. '2019_15_03_15_55_05'\n",
       "52. '2019_15_03_15_55_07'\n",
       "53. '2019_15_03_15_55_13'\n",
       "54. '2019_15_03_15_55_14'\n",
       "55. '2019_15_03_15_55_21'\n",
       "56. '2019_15_03_15_55_22'\n",
       "57. '2019_15_03_15_55_29'\n",
       "58. '2019_15_03_15_55_30'\n",
       "59. '2019_15_03_15_55_37'\n",
       "60. '2019_15_03_15_55_38'\n",
       "61. '2019_15_03_15_55_45'\n",
       "62. '2019_15_03_15_55_46'\n",
       "63. '2019_15_03_15_55_52'\n",
       "64. '2019_15_03_15_55_54'\n",
       "65. '2019_15_03_15_56_00'\n",
       "66. '2019_15_03_15_56_01'\n",
       "67. '2019_15_03_15_56_08'\n",
       "68. '2019_15_03_15_56_09'\n",
       "69. '2019_15_03_15_56_16'\n",
       "70. '2019_15_03_15_56_17'\n",
       "71. '2019_15_03_15_56_23'\n",
       "72. '2019_15_03_15_56_25'\n",
       "73. '2019_15_03_15_56_31'\n",
       "74. '2019_15_03_15_56_32'\n",
       "75. '2019_15_03_15_56_39'\n",
       "76. '2019_15_03_15_56_40'\n",
       "77. '2019_15_03_15_56_47'\n",
       "78. '2019_15_03_15_56_48'\n",
       "79. '2019_15_03_15_56_55'\n",
       "80. '2019_15_03_15_56_56'\n",
       "81. '2019_15_03_15_57_03'\n",
       "82. '2019_15_03_15_57_04'\n",
       "83. '2019_15_03_15_57_11'\n",
       "84. '2019_15_03_15_57_12'\n",
       "85. '2019_15_03_15_57_19'\n",
       "86. '2019_15_03_15_57_20'\n",
       "87. '2019_15_03_15_57_26'\n",
       "88. '2019_15_03_15_57_28'\n",
       "89. '2019_15_03_15_57_35'\n",
       "90. '2019_15_03_15_57_36'\n",
       "91. '2019_15_03_15_57_42'\n",
       "92. '2019_15_03_15_57_44'\n",
       "93. '2019_15_03_15_57_50'\n",
       "94. '2019_15_03_15_57_52'\n",
       "95. '2019_15_03_15_57_58'\n",
       "96. '2019_15_03_15_57_59'\n",
       "97. '2019_15_03_15_58_06'\n",
       "98. '2019_15_03_15_58_07'\n",
       "99. '2019_15_03_15_58_14'\n",
       "100. '2019_15_03_15_58_15'\n",
       "101. '2019_15_03_15_58_22'\n",
       "102. '2019_15_03_15_58_23'\n",
       "103. '2019_15_03_15_58_30'\n",
       "\n",
       "\n"
      ],
      "text/plain": [
       "  [1] \"2019_15_03_15_49_57\" \"2019_15_03_15_50_05\" \"2019_15_03_15_50_11\"\n",
       "  [4] \"2019_15_03_15_50_12\" \"2019_15_03_15_50_18\" \"2019_15_03_15_50_20\"\n",
       "  [7] \"2019_15_03_15_50_25\" \"2019_15_03_15_50_26\" \"2019_15_03_15_50_33\"\n",
       " [10] \"2019_15_03_15_50_34\" \"2019_15_03_15_50_41\" \"2019_15_03_15_50_43\"\n",
       " [13] \"2019_15_03_15_50_49\" \"2019_15_03_15_50_51\" \"2019_15_03_15_50_57\"\n",
       " [16] \"2019_15_03_15_50_58\" \"2019_15_03_15_51_05\" \"2019_15_03_15_51_06\"\n",
       " [19] \"2019_15_03_15_51_13\" \"2019_15_03_15_51_15\" \"2019_15_03_15_51_22\"\n",
       " [22] \"2019_15_03_15_51_23\" \"2019_15_03_15_51_31\" \"2019_15_03_15_51_38\"\n",
       " [25] \"2019_15_03_15_51_39\" \"2019_15_03_15_51_45\" \"2019_15_03_15_51_46\"\n",
       " [28] \"2019_15_03_15_51_53\" \"2019_15_03_15_52_00\" \"2019_15_03_15_52_07\"\n",
       " [31] \"2019_15_03_15_52_15\" \"2019_15_03_15_53_43\" \"2019_15_03_15_53_52\"\n",
       " [34] \"2019_15_03_15_53_59\" \"2019_15_03_15_54_06\" \"2019_15_03_15_54_07\"\n",
       " [37] \"2019_15_03_15_54_13\" \"2019_15_03_15_54_14\" \"2019_15_03_15_54_21\"\n",
       " [40] \"2019_15_03_15_54_22\" \"2019_15_03_15_54_28\" \"2019_15_03_15_54_29\"\n",
       " [43] \"2019_15_03_15_54_35\" \"2019_15_03_15_54_37\" \"2019_15_03_15_54_43\"\n",
       " [46] \"2019_15_03_15_54_44\" \"2019_15_03_15_54_50\" \"2019_15_03_15_54_52\"\n",
       " [49] \"2019_15_03_15_54_58\" \"2019_15_03_15_55_00\" \"2019_15_03_15_55_05\"\n",
       " [52] \"2019_15_03_15_55_07\" \"2019_15_03_15_55_13\" \"2019_15_03_15_55_14\"\n",
       " [55] \"2019_15_03_15_55_21\" \"2019_15_03_15_55_22\" \"2019_15_03_15_55_29\"\n",
       " [58] \"2019_15_03_15_55_30\" \"2019_15_03_15_55_37\" \"2019_15_03_15_55_38\"\n",
       " [61] \"2019_15_03_15_55_45\" \"2019_15_03_15_55_46\" \"2019_15_03_15_55_52\"\n",
       " [64] \"2019_15_03_15_55_54\" \"2019_15_03_15_56_00\" \"2019_15_03_15_56_01\"\n",
       " [67] \"2019_15_03_15_56_08\" \"2019_15_03_15_56_09\" \"2019_15_03_15_56_16\"\n",
       " [70] \"2019_15_03_15_56_17\" \"2019_15_03_15_56_23\" \"2019_15_03_15_56_25\"\n",
       " [73] \"2019_15_03_15_56_31\" \"2019_15_03_15_56_32\" \"2019_15_03_15_56_39\"\n",
       " [76] \"2019_15_03_15_56_40\" \"2019_15_03_15_56_47\" \"2019_15_03_15_56_48\"\n",
       " [79] \"2019_15_03_15_56_55\" \"2019_15_03_15_56_56\" \"2019_15_03_15_57_03\"\n",
       " [82] \"2019_15_03_15_57_04\" \"2019_15_03_15_57_11\" \"2019_15_03_15_57_12\"\n",
       " [85] \"2019_15_03_15_57_19\" \"2019_15_03_15_57_20\" \"2019_15_03_15_57_26\"\n",
       " [88] \"2019_15_03_15_57_28\" \"2019_15_03_15_57_35\" \"2019_15_03_15_57_36\"\n",
       " [91] \"2019_15_03_15_57_42\" \"2019_15_03_15_57_44\" \"2019_15_03_15_57_50\"\n",
       " [94] \"2019_15_03_15_57_52\" \"2019_15_03_15_57_58\" \"2019_15_03_15_57_59\"\n",
       " [97] \"2019_15_03_15_58_06\" \"2019_15_03_15_58_07\" \"2019_15_03_15_58_14\"\n",
       "[100] \"2019_15_03_15_58_15\" \"2019_15_03_15_58_22\" \"2019_15_03_15_58_23\"\n",
       "[103] \"2019_15_03_15_58_30\""
      ]
     },
     "metadata": {},
     "output_type": "display_data"
    }
   ],
   "source": [
    "list.dirs(mypath)"
   ]
  },
  {
   "cell_type": "code",
   "execution_count": 33,
   "metadata": {},
   "outputs": [],
   "source": [
    "thepath = list.dirs(mypath)[11]"
   ]
  },
  {
   "cell_type": "code",
   "execution_count": 34,
   "metadata": {},
   "outputs": [],
   "source": [
    "filename = paste(mypath, '/', thepath, '/', 'k_core.csv', sep = \"\")\n",
    "memfile = paste(mypath, '/', thepath, '/', 'memoryLog.csv', sep = \"\")"
   ]
  },
  {
   "cell_type": "code",
   "execution_count": 35,
   "metadata": {},
   "outputs": [],
   "source": [
    "kDF <- read.csv(file = filename, skip=12)\n",
    "mDF <- read.csv(file = memfile, skip=12)"
   ]
  },
  {
   "cell_type": "code",
   "execution_count": 36,
   "metadata": {},
   "outputs": [],
   "source": [
    "tempkDF <- kDF[kDF$state =='i',]\n",
    "tempkDF <- tempkDF[tempkDF$time == 1,]\n",
    "\n",
    "tempmDF <- mDF[mDF$spreadstate =='i',]\n",
    "tempmDF <- tempmDF[tempmDF$time == 1,]"
   ]
  },
  {
   "cell_type": "code",
   "execution_count": 37,
   "metadata": {},
   "outputs": [
    {
     "data": {
      "text/html": [
       "<table>\n",
       "<thead><tr><th></th><th scope=col>time</th><th scope=col>agent</th><th scope=col>k.core</th><th scope=col>state</th><th scope=col>degree</th></tr></thead>\n",
       "<tbody>\n",
       "\t<tr><th scope=row>165</th><td>1  </td><td>164</td><td>6  </td><td>i  </td><td>7  </td></tr>\n",
       "\t<tr><th scope=row>918</th><td>1  </td><td>917</td><td>1  </td><td>i  </td><td>1  </td></tr>\n",
       "</tbody>\n",
       "</table>\n"
      ],
      "text/latex": [
       "\\begin{tabular}{r|lllll}\n",
       "  & time & agent & k.core & state & degree\\\\\n",
       "\\hline\n",
       "\t165 & 1   & 164 & 6   & i   & 7  \\\\\n",
       "\t918 & 1   & 917 & 1   & i   & 1  \\\\\n",
       "\\end{tabular}\n"
      ],
      "text/markdown": [
       "\n",
       "| <!--/--> | time | agent | k.core | state | degree | \n",
       "|---|---|\n",
       "| 165 | 1   | 164 | 6   | i   | 7   | \n",
       "| 918 | 1   | 917 | 1   | i   | 1   | \n",
       "\n",
       "\n"
      ],
      "text/plain": [
       "    time agent k.core state degree\n",
       "165 1    164   6      i     7     \n",
       "918 1    917   1      i     1     "
      ]
     },
     "metadata": {},
     "output_type": "display_data"
    },
    {
     "data": {
      "text/html": [
       "<table>\n",
       "<thead><tr><th></th><th scope=col>agent</th><th scope=col>time</th><th scope=col>state</th><th scope=col>spreadstate</th><th scope=col>news0</th></tr></thead>\n",
       "<tbody>\n",
       "\t<tr><th scope=row>165</th><td>164             </td><td>1               </td><td>u               </td><td>i               </td><td>t3xYetJmMs8kmTL5</td></tr>\n",
       "\t<tr><th scope=row>918</th><td>917             </td><td>1               </td><td>u               </td><td>i               </td><td>f21rqf6bny23zQ9O</td></tr>\n",
       "</tbody>\n",
       "</table>\n"
      ],
      "text/latex": [
       "\\begin{tabular}{r|lllll}\n",
       "  & agent & time & state & spreadstate & news0\\\\\n",
       "\\hline\n",
       "\t165 & 164              & 1                & u                & i                & t3xYetJmMs8kmTL5\\\\\n",
       "\t918 & 917              & 1                & u                & i                & f21rqf6bny23zQ9O\\\\\n",
       "\\end{tabular}\n"
      ],
      "text/markdown": [
       "\n",
       "| <!--/--> | agent | time | state | spreadstate | news0 | \n",
       "|---|---|\n",
       "| 165 | 164              | 1                | u                | i                | t3xYetJmMs8kmTL5 | \n",
       "| 918 | 917              | 1                | u                | i                | f21rqf6bny23zQ9O | \n",
       "\n",
       "\n"
      ],
      "text/plain": [
       "    agent time state spreadstate news0           \n",
       "165 164   1    u     i           t3xYetJmMs8kmTL5\n",
       "918 917   1    u     i           f21rqf6bny23zQ9O"
      ]
     },
     "metadata": {},
     "output_type": "display_data"
    },
    {
     "data": {
      "text/html": [
       "164"
      ],
      "text/latex": [
       "164"
      ],
      "text/markdown": [
       "164"
      ],
      "text/plain": [
       "[1] 164"
      ]
     },
     "metadata": {},
     "output_type": "display_data"
    },
    {
     "data": {
      "text/html": [
       "'t3xYetJmMs8kmTL5'"
      ],
      "text/latex": [
       "'t3xYetJmMs8kmTL5'"
      ],
      "text/markdown": [
       "'t3xYetJmMs8kmTL5'"
      ],
      "text/plain": [
       "[1] \"t3xYetJmMs8kmTL5\""
      ]
     },
     "metadata": {},
     "output_type": "display_data"
    },
    {
     "data": {
      "text/html": [
       "6"
      ],
      "text/latex": [
       "6"
      ],
      "text/markdown": [
       "6"
      ],
      "text/plain": [
       "[1] 6"
      ]
     },
     "metadata": {},
     "output_type": "display_data"
    },
    {
     "data": {
      "text/html": [
       "917"
      ],
      "text/latex": [
       "917"
      ],
      "text/markdown": [
       "917"
      ],
      "text/plain": [
       "[1] 917"
      ]
     },
     "metadata": {},
     "output_type": "display_data"
    },
    {
     "data": {
      "text/html": [
       "'f21rqf6bny23zQ9O'"
      ],
      "text/latex": [
       "'f21rqf6bny23zQ9O'"
      ],
      "text/markdown": [
       "'f21rqf6bny23zQ9O'"
      ],
      "text/plain": [
       "[1] \"f21rqf6bny23zQ9O\""
      ]
     },
     "metadata": {},
     "output_type": "display_data"
    },
    {
     "data": {
      "text/html": [
       "1"
      ],
      "text/latex": [
       "1"
      ],
      "text/markdown": [
       "1"
      ],
      "text/plain": [
       "[1] 1"
      ]
     },
     "metadata": {},
     "output_type": "display_data"
    }
   ],
   "source": [
    "tempkDF\n",
    "tempmDF\n",
    "\n",
    "kcore1 <- as.integer(tempkDF[1,'k.core'])\n",
    "kcore2 <- as.integer(tempkDF[2,'k.core'])\n",
    "\n",
    "agent1 <- as.integer(tempkDF[1,'agent'])\n",
    "agent2 <- as.integer(tempkDF[2,'agent'])\n",
    "news1 <- tempmDF[tempmDF$agent == agent1,][,'news0']\n",
    "news2 <- tempmDF[tempmDF$agent == agent2,][,'news0']\n",
    "\n",
    "agent1\n",
    "news1\n",
    "kcore1\n",
    "\n",
    "agent2\n",
    "news2\n",
    "kcore2"
   ]
  },
  {
   "cell_type": "code",
   "execution_count": 38,
   "metadata": {},
   "outputs": [
    {
     "data": {
      "text/html": [
       "<table>\n",
       "<thead><tr><th></th><th scope=col>time</th><th scope=col>agent</th><th scope=col>k.core</th><th scope=col>state</th><th scope=col>degree</th></tr></thead>\n",
       "<tbody>\n",
       "\t<tr><th scope=row>165</th><td>1  </td><td>164</td><td>6  </td><td>i  </td><td>7  </td></tr>\n",
       "\t<tr><th scope=row>918</th><td>1  </td><td>917</td><td>1  </td><td>i  </td><td>1  </td></tr>\n",
       "</tbody>\n",
       "</table>\n"
      ],
      "text/latex": [
       "\\begin{tabular}{r|lllll}\n",
       "  & time & agent & k.core & state & degree\\\\\n",
       "\\hline\n",
       "\t165 & 1   & 164 & 6   & i   & 7  \\\\\n",
       "\t918 & 1   & 917 & 1   & i   & 1  \\\\\n",
       "\\end{tabular}\n"
      ],
      "text/markdown": [
       "\n",
       "| <!--/--> | time | agent | k.core | state | degree | \n",
       "|---|---|\n",
       "| 165 | 1   | 164 | 6   | i   | 7   | \n",
       "| 918 | 1   | 917 | 1   | i   | 1   | \n",
       "\n",
       "\n"
      ],
      "text/plain": [
       "    time agent k.core state degree\n",
       "165 1    164   6      i     7     \n",
       "918 1    917   1      i     1     "
      ]
     },
     "metadata": {},
     "output_type": "display_data"
    },
    {
     "data": {
      "text/html": [
       "<table>\n",
       "<thead><tr><th></th><th scope=col>agent</th><th scope=col>time</th><th scope=col>state</th><th scope=col>spreadstate</th><th scope=col>news0</th></tr></thead>\n",
       "<tbody>\n",
       "\t<tr><th scope=row>165</th><td>164             </td><td>1               </td><td>u               </td><td>i               </td><td>t3xYetJmMs8kmTL5</td></tr>\n",
       "\t<tr><th scope=row>918</th><td>917             </td><td>1               </td><td>u               </td><td>i               </td><td>f21rqf6bny23zQ9O</td></tr>\n",
       "</tbody>\n",
       "</table>\n"
      ],
      "text/latex": [
       "\\begin{tabular}{r|lllll}\n",
       "  & agent & time & state & spreadstate & news0\\\\\n",
       "\\hline\n",
       "\t165 & 164              & 1                & u                & i                & t3xYetJmMs8kmTL5\\\\\n",
       "\t918 & 917              & 1                & u                & i                & f21rqf6bny23zQ9O\\\\\n",
       "\\end{tabular}\n"
      ],
      "text/markdown": [
       "\n",
       "| <!--/--> | agent | time | state | spreadstate | news0 | \n",
       "|---|---|\n",
       "| 165 | 164              | 1                | u                | i                | t3xYetJmMs8kmTL5 | \n",
       "| 918 | 917              | 1                | u                | i                | f21rqf6bny23zQ9O | \n",
       "\n",
       "\n"
      ],
      "text/plain": [
       "    agent time state spreadstate news0           \n",
       "165 164   1    u     i           t3xYetJmMs8kmTL5\n",
       "918 917   1    u     i           f21rqf6bny23zQ9O"
      ]
     },
     "metadata": {},
     "output_type": "display_data"
    },
    {
     "data": {
      "text/html": [
       "917"
      ],
      "text/latex": [
       "917"
      ],
      "text/markdown": [
       "917"
      ],
      "text/plain": [
       "[1] 917"
      ]
     },
     "metadata": {},
     "output_type": "display_data"
    },
    {
     "data": {
      "text/html": [
       "'f21rqf6bny23zQ9O'"
      ],
      "text/latex": [
       "'f21rqf6bny23zQ9O'"
      ],
      "text/markdown": [
       "'f21rqf6bny23zQ9O'"
      ],
      "text/plain": [
       "[1] \"f21rqf6bny23zQ9O\""
      ]
     },
     "metadata": {},
     "output_type": "display_data"
    },
    {
     "data": {
      "text/html": [
       "1"
      ],
      "text/latex": [
       "1"
      ],
      "text/markdown": [
       "1"
      ],
      "text/plain": [
       "[1] 1"
      ]
     },
     "metadata": {},
     "output_type": "display_data"
    },
    {
     "data": {
      "text/html": [
       "164"
      ],
      "text/latex": [
       "164"
      ],
      "text/markdown": [
       "164"
      ],
      "text/plain": [
       "[1] 164"
      ]
     },
     "metadata": {},
     "output_type": "display_data"
    },
    {
     "data": {
      "text/html": [
       "'t3xYetJmMs8kmTL5'"
      ],
      "text/latex": [
       "'t3xYetJmMs8kmTL5'"
      ],
      "text/markdown": [
       "'t3xYetJmMs8kmTL5'"
      ],
      "text/plain": [
       "[1] \"t3xYetJmMs8kmTL5\""
      ]
     },
     "metadata": {},
     "output_type": "display_data"
    },
    {
     "data": {
      "text/html": [
       "6"
      ],
      "text/latex": [
       "6"
      ],
      "text/markdown": [
       "6"
      ],
      "text/plain": [
       "[1] 6"
      ]
     },
     "metadata": {},
     "output_type": "display_data"
    }
   ],
   "source": [
    "tempkDF\n",
    "tempmDF\n",
    "\n",
    "kcore1 <- as.integer(tempkDF[1,'k.core'])\n",
    "kcore2 <- as.integer(tempkDF[2,'k.core'])\n",
    "if (kcore1 == kcore2){\n",
    "    agent1 <- as.integer(tempkDF[1,'agent'])\n",
    "    agent2 <- as.integer(tempkDF[2,'agent'])\n",
    "} else {\n",
    "    kcore1 <- min(as.integer(tempkDF[1,'k.core']),as.integer(tempkDF[2,'k.core']))\n",
    "    kcore2 <- max(as.integer(tempkDF[1,'k.core']),as.integer(tempkDF[2,'k.core']))\n",
    "\n",
    "    agent1 <- as.integer(tempkDF[tempkDF$k.core == kcore1,]['agent'])\n",
    "    agent2 <- as.integer(tempkDF[tempkDF$k.core == kcore2,]['agent'])\n",
    "}\n",
    "\n",
    "news1 <- tempmDF[tempmDF$agent == agent1,][,'news0']\n",
    "news2 <- tempmDF[tempmDF$agent == agent2,][,'news0']\n",
    "\n",
    "agent1\n",
    "news1\n",
    "kcore1\n",
    "\n",
    "agent2\n",
    "news2\n",
    "kcore2"
   ]
  },
  {
   "cell_type": "code",
   "execution_count": 39,
   "metadata": {},
   "outputs": [],
   "source": [
    "mDF$'density' <- 1\n",
    "mDF$'k.core.tuple' <- paste(toString(kcore1), toString(kcore2), sep=\",\")"
   ]
  },
  {
   "cell_type": "code",
   "execution_count": 40,
   "metadata": {
    "scrolled": true
   },
   "outputs": [],
   "source": [
    "mDT <- data.table(mDF)"
   ]
  },
  {
   "cell_type": "code",
   "execution_count": 41,
   "metadata": {},
   "outputs": [],
   "source": [
    "mDT1 = mDT[, sum(density), by=list(time, spreadstate, news0)]"
   ]
  },
  {
   "cell_type": "code",
   "execution_count": 42,
   "metadata": {},
   "outputs": [],
   "source": [
    "names(mDT1)[names(mDT1)==\"V1\"] <- \"density\""
   ]
  },
  {
   "cell_type": "code",
   "execution_count": 43,
   "metadata": {},
   "outputs": [],
   "source": [
    "mDT1$density <- mDT1$density / N_AGENTS"
   ]
  },
  {
   "cell_type": "code",
   "execution_count": 44,
   "metadata": {},
   "outputs": [
    {
     "data": {
      "text/html": [
       "<table>\n",
       "<thead><tr><th scope=col>time</th><th scope=col>spreadstate</th><th scope=col>news0</th><th scope=col>density</th></tr></thead>\n",
       "<tbody>\n",
       "\t<tr><td>50              </td><td>s               </td><td>0               </td><td>0.5970017636684 </td></tr>\n",
       "\t<tr><td>50              </td><td>r               </td><td>t3xYetJmMs8kmTL5</td><td>0.3827160493827 </td></tr>\n",
       "\t<tr><td>50              </td><td>r               </td><td>f21rqf6bny23zQ9O</td><td>0.0202821869489 </td></tr>\n",
       "</tbody>\n",
       "</table>\n"
      ],
      "text/latex": [
       "\\begin{tabular}{r|llll}\n",
       " time & spreadstate & news0 & density\\\\\n",
       "\\hline\n",
       "\t 50               & s                & 0                & 0.5970017636684 \\\\\n",
       "\t 50               & r                & t3xYetJmMs8kmTL5 & 0.3827160493827 \\\\\n",
       "\t 50               & r                & f21rqf6bny23zQ9O & 0.0202821869489 \\\\\n",
       "\\end{tabular}\n"
      ],
      "text/markdown": [
       "\n",
       "time | spreadstate | news0 | density | \n",
       "|---|---|---|\n",
       "| 50               | s                | 0                | 0.5970017636684  | \n",
       "| 50               | r                | t3xYetJmMs8kmTL5 | 0.3827160493827  | \n",
       "| 50               | r                | f21rqf6bny23zQ9O | 0.0202821869489  | \n",
       "\n",
       "\n"
      ],
      "text/plain": [
       "  time spreadstate news0            density        \n",
       "1 50   s           0                0.5970017636684\n",
       "2 50   r           t3xYetJmMs8kmTL5 0.3827160493827\n",
       "3 50   r           f21rqf6bny23zQ9O 0.0202821869489"
      ]
     },
     "metadata": {},
     "output_type": "display_data"
    }
   ],
   "source": [
    "mDT1[mDT1$time == 50,]"
   ]
  },
  {
   "cell_type": "code",
   "execution_count": 45,
   "metadata": {
    "scrolled": true
   },
   "outputs": [],
   "source": [
    "#mDT1 <- mDT1[mDT1$news0!=0,]"
   ]
  },
  {
   "cell_type": "code",
   "execution_count": 46,
   "metadata": {},
   "outputs": [],
   "source": [
    "mDT1$k.core.init <- 0\n",
    "mDT1$agent.init <- 0\n",
    "\n",
    "mDT1[mDT1$news0==news1,]$k.core.init <- kcore1\n",
    "mDT1[mDT1$news0==news2,]$k.core.init <- kcore2\n",
    "\n",
    "mDT1[mDT1$news0==news1,]$agent.init <- agent1\n",
    "mDT1[mDT1$news0==news2,]$agent.init <- agent2"
   ]
  },
  {
   "cell_type": "code",
   "execution_count": 47,
   "metadata": {
    "scrolled": true
   },
   "outputs": [
    {
     "data": {
      "text/html": [
       "<table>\n",
       "<thead><tr><th scope=col>time</th><th scope=col>spreadstate</th><th scope=col>news0</th><th scope=col>density</th><th scope=col>k.core.init</th><th scope=col>agent.init</th></tr></thead>\n",
       "<tbody>\n",
       "\t<tr><td>50              </td><td>s               </td><td>0               </td><td>0.5970017636684 </td><td>0               </td><td>  0             </td></tr>\n",
       "\t<tr><td>50              </td><td>r               </td><td>t3xYetJmMs8kmTL5</td><td>0.3827160493827 </td><td>6               </td><td>164             </td></tr>\n",
       "\t<tr><td>50              </td><td>r               </td><td>f21rqf6bny23zQ9O</td><td>0.0202821869489 </td><td>1               </td><td>917             </td></tr>\n",
       "</tbody>\n",
       "</table>\n"
      ],
      "text/latex": [
       "\\begin{tabular}{r|llllll}\n",
       " time & spreadstate & news0 & density & k.core.init & agent.init\\\\\n",
       "\\hline\n",
       "\t 50               & s                & 0                & 0.5970017636684  & 0                &   0             \\\\\n",
       "\t 50               & r                & t3xYetJmMs8kmTL5 & 0.3827160493827  & 6                & 164             \\\\\n",
       "\t 50               & r                & f21rqf6bny23zQ9O & 0.0202821869489  & 1                & 917             \\\\\n",
       "\\end{tabular}\n"
      ],
      "text/markdown": [
       "\n",
       "time | spreadstate | news0 | density | k.core.init | agent.init | \n",
       "|---|---|---|\n",
       "| 50               | s                | 0                | 0.5970017636684  | 0                |   0              | \n",
       "| 50               | r                | t3xYetJmMs8kmTL5 | 0.3827160493827  | 6                | 164              | \n",
       "| 50               | r                | f21rqf6bny23zQ9O | 0.0202821869489  | 1                | 917              | \n",
       "\n",
       "\n"
      ],
      "text/plain": [
       "  time spreadstate news0            density         k.core.init agent.init\n",
       "1 50   s           0                0.5970017636684 0             0       \n",
       "2 50   r           t3xYetJmMs8kmTL5 0.3827160493827 6           164       \n",
       "3 50   r           f21rqf6bny23zQ9O 0.0202821869489 1           917       "
      ]
     },
     "metadata": {},
     "output_type": "display_data"
    }
   ],
   "source": [
    "mDT1[mDT1$time == 50]"
   ]
  },
  {
   "cell_type": "code",
   "execution_count": 48,
   "metadata": {
    "scrolled": true
   },
   "outputs": [
    {
     "data": {
      "text/html": [
       "0.0202821869488536"
      ],
      "text/latex": [
       "0.0202821869488536"
      ],
      "text/markdown": [
       "0.0202821869488536"
      ],
      "text/plain": [
       "[1] 0.0202821869489"
      ]
     },
     "metadata": {},
     "output_type": "display_data"
    },
    {
     "data": {
      "text/html": [
       "0.382716049382716"
      ],
      "text/latex": [
       "0.382716049382716"
      ],
      "text/markdown": [
       "0.382716049382716"
      ],
      "text/plain": [
       "[1] 0.382716049383"
      ]
     },
     "metadata": {},
     "output_type": "display_data"
    }
   ],
   "source": [
    "tempmDT1 <- mDT1[mDT1$spreadstate == 'r']\n",
    "tempmDT1 <- tempmDT1[tempmDT1$time == 50]\n",
    "density1 <- as.numeric(tempmDT1[tempmDT1$news0 == news1,][,'density'])\n",
    "density2 <- as.numeric(tempmDT1[tempmDT1$news0 == news2,][,'density'])\n",
    "density1\n",
    "density2"
   ]
  },
  {
   "cell_type": "code",
   "execution_count": 49,
   "metadata": {},
   "outputs": [
    {
     "data": {
      "text/html": [
       "<table>\n",
       "<thead><tr><th scope=col>time</th><th scope=col>spreadstate</th><th scope=col>news0</th><th scope=col>density</th><th scope=col>k.core.init</th><th scope=col>agent.init</th></tr></thead>\n",
       "<tbody>\n",
       "\t<tr><td>50              </td><td>r               </td><td>t3xYetJmMs8kmTL5</td><td>0.3827160493827 </td><td>6               </td><td>164             </td></tr>\n",
       "\t<tr><td>50              </td><td>r               </td><td>f21rqf6bny23zQ9O</td><td>0.0202821869489 </td><td>1               </td><td>917             </td></tr>\n",
       "</tbody>\n",
       "</table>\n"
      ],
      "text/latex": [
       "\\begin{tabular}{r|llllll}\n",
       " time & spreadstate & news0 & density & k.core.init & agent.init\\\\\n",
       "\\hline\n",
       "\t 50               & r                & t3xYetJmMs8kmTL5 & 0.3827160493827  & 6                & 164             \\\\\n",
       "\t 50               & r                & f21rqf6bny23zQ9O & 0.0202821869489  & 1                & 917             \\\\\n",
       "\\end{tabular}\n"
      ],
      "text/markdown": [
       "\n",
       "time | spreadstate | news0 | density | k.core.init | agent.init | \n",
       "|---|---|\n",
       "| 50               | r                | t3xYetJmMs8kmTL5 | 0.3827160493827  | 6                | 164              | \n",
       "| 50               | r                | f21rqf6bny23zQ9O | 0.0202821869489  | 1                | 917              | \n",
       "\n",
       "\n"
      ],
      "text/plain": [
       "  time spreadstate news0            density         k.core.init agent.init\n",
       "1 50   r           t3xYetJmMs8kmTL5 0.3827160493827 6           164       \n",
       "2 50   r           f21rqf6bny23zQ9O 0.0202821869489 1           917       "
      ]
     },
     "metadata": {},
     "output_type": "display_data"
    }
   ],
   "source": [
    "tempmDT1"
   ]
  },
  {
   "cell_type": "code",
   "execution_count": 50,
   "metadata": {},
   "outputs": [
    {
     "data": {},
     "metadata": {},
     "output_type": "display_data"
    }
   ],
   "source": [
    "mDT1$spreadstate[mDT1$news0 == 0] <- 'r'\n",
    "mDT1 = mDT1[mDT1$spreadstate == 'r']\n",
    "\n",
    "mDT1[,spreadstate:=NULL]"
   ]
  },
  {
   "cell_type": "markdown",
   "metadata": {},
   "source": [
    "## All datasets 2 news"
   ]
  },
  {
   "cell_type": "code",
   "execution_count": 196,
   "metadata": {
    "scrolled": true
   },
   "outputs": [
    {
     "name": "stdout",
     "output_type": "stream",
     "text": [
      "[1] \"2019_15_03_15_49_57\"\n",
      "[1] \"2019_15_03_15_50_05\"\n",
      "[1] \"2019_15_03_15_50_11\"\n",
      "[1] \"2019_15_03_15_50_12\"\n",
      "[1] \"2019_15_03_15_50_18\"\n",
      "[1] \"2019_15_03_15_50_20\"\n",
      "[1] \"2019_15_03_15_50_25\"\n",
      "[1] \"2019_15_03_15_50_26\"\n",
      "[1] \"2019_15_03_15_50_33\"\n",
      "[1] \"2019_15_03_15_50_34\"\n",
      "[1] \"2019_15_03_15_50_41\"\n",
      "[1] \"2019_15_03_15_50_43\"\n",
      "[1] \"2019_15_03_15_50_49\"\n",
      "[1] \"2019_15_03_15_50_51\"\n",
      "[1] \"2019_15_03_15_50_57\"\n",
      "[1] \"2019_15_03_15_50_58\"\n",
      "[1] \"2019_15_03_15_51_05\"\n",
      "[1] \"2019_15_03_15_51_06\"\n",
      "[1] \"2019_15_03_15_51_13\"\n",
      "[1] \"2019_15_03_15_51_15\"\n",
      "[1] \"2019_15_03_15_51_22\"\n",
      "[1] \"2019_15_03_15_51_23\"\n",
      "[1] \"2019_15_03_15_51_31\"\n",
      "[1] \"2019_15_03_15_51_38\"\n",
      "[1] \"2019_15_03_15_51_39\"\n",
      "[1] \"2019_15_03_15_51_45\"\n",
      "[1] \"2019_15_03_15_51_46\"\n",
      "[1] \"2019_15_03_15_51_53\"\n",
      "[1] \"2019_15_03_15_52_00\"\n",
      "[1] \"2019_15_03_15_52_07\"\n",
      "[1] \"2019_15_03_15_53_43\"\n",
      "[1] \"2019_15_03_15_53_52\"\n",
      "[1] \"2019_15_03_15_53_59\"\n",
      "[1] \"2019_15_03_15_54_06\"\n",
      "[1] \"2019_15_03_15_54_07\"\n",
      "[1] \"2019_15_03_15_54_13\"\n",
      "[1] \"2019_15_03_15_54_14\"\n",
      "[1] \"2019_15_03_15_54_21\"\n",
      "[1] \"2019_15_03_15_54_22\"\n",
      "[1] \"2019_15_03_15_54_28\"\n",
      "[1] \"2019_15_03_15_54_29\"\n",
      "[1] \"2019_15_03_15_54_35\"\n",
      "[1] \"2019_15_03_15_54_37\"\n",
      "[1] \"2019_15_03_15_54_43\"\n",
      "[1] \"2019_15_03_15_54_44\"\n",
      "[1] \"2019_15_03_15_54_50\"\n",
      "[1] \"2019_15_03_15_54_52\"\n",
      "[1] \"2019_15_03_15_54_58\"\n",
      "[1] \"2019_15_03_15_55_00\"\n",
      "[1] \"2019_15_03_15_55_05\"\n",
      "[1] \"2019_15_03_15_55_07\"\n",
      "[1] \"2019_15_03_15_55_13\"\n",
      "[1] \"2019_15_03_15_55_14\"\n",
      "[1] \"2019_15_03_15_55_21\"\n",
      "[1] \"2019_15_03_15_55_22\"\n",
      "[1] \"2019_15_03_15_55_29\"\n",
      "[1] \"2019_15_03_15_55_30\"\n",
      "[1] \"2019_15_03_15_55_37\"\n",
      "[1] \"2019_15_03_15_55_38\"\n",
      "[1] \"2019_15_03_15_55_45\"\n",
      "[1] \"2019_15_03_15_55_46\"\n",
      "[1] \"2019_15_03_15_55_52\"\n",
      "[1] \"2019_15_03_15_55_54\"\n",
      "[1] \"2019_15_03_15_56_00\"\n",
      "[1] \"2019_15_03_15_56_01\"\n",
      "[1] \"2019_15_03_15_56_08\"\n",
      "[1] \"2019_15_03_15_56_09\"\n",
      "[1] \"2019_15_03_15_56_16\"\n",
      "[1] \"2019_15_03_15_56_17\"\n",
      "[1] \"2019_15_03_15_56_23\"\n",
      "[1] \"2019_15_03_15_56_25\"\n",
      "[1] \"2019_15_03_15_56_31\"\n",
      "[1] \"2019_15_03_15_56_32\"\n",
      "[1] \"2019_15_03_15_56_39\"\n",
      "[1] \"2019_15_03_15_56_40\"\n",
      "[1] \"2019_15_03_15_56_47\"\n",
      "[1] \"2019_15_03_15_56_48\"\n",
      "[1] \"2019_15_03_15_56_55\"\n",
      "[1] \"2019_15_03_15_56_56\"\n",
      "[1] \"2019_15_03_15_57_03\"\n",
      "[1] \"2019_15_03_15_57_04\"\n",
      "[1] \"2019_15_03_15_57_11\"\n",
      "[1] \"2019_15_03_15_57_12\"\n",
      "[1] \"2019_15_03_15_57_19\"\n",
      "[1] \"2019_15_03_15_57_20\"\n",
      "[1] \"2019_15_03_15_57_26\"\n",
      "[1] \"2019_15_03_15_57_28\"\n",
      "[1] \"2019_15_03_15_57_35\"\n",
      "[1] \"2019_15_03_15_57_36\"\n",
      "[1] \"2019_15_03_15_57_42\"\n",
      "[1] \"2019_15_03_15_57_44\"\n",
      "[1] \"2019_15_03_15_57_50\"\n",
      "[1] \"2019_15_03_15_57_52\"\n",
      "[1] \"2019_15_03_15_57_58\"\n",
      "[1] \"2019_15_03_15_57_59\"\n",
      "[1] \"2019_15_03_15_58_06\"\n",
      "[1] \"2019_15_03_15_58_07\"\n",
      "[1] \"2019_15_03_15_58_14\"\n",
      "[1] \"2019_15_03_15_58_15\"\n",
      "[1] \"2019_15_03_15_58_22\"\n",
      "[1] \"2019_15_03_15_58_23\"\n",
      "[1] \"2019_15_03_15_58_30\"\n",
      "[1] \"2019_15_03_19_06_18\"\n",
      "[1] \"2019_15_03_19_06_25\"\n",
      "[1] \"2019_15_03_19_06_30\"\n",
      "[1] \"2019_15_03_19_06_32\"\n",
      "[1] \"2019_15_03_19_06_38\"\n",
      "[1] \"2019_15_03_19_06_40\"\n",
      "[1] \"2019_15_03_19_06_46\"\n",
      "[1] \"2019_15_03_19_06_48\"\n",
      "[1] \"2019_15_03_19_06_54\"\n",
      "[1] \"2019_15_03_19_06_56\"\n",
      "[1] \"2019_15_03_19_07_02\"\n",
      "[1] \"2019_15_03_19_07_04\"\n",
      "[1] \"2019_15_03_19_07_10\"\n",
      "[1] \"2019_15_03_19_07_12\"\n",
      "[1] \"2019_15_03_19_07_17\"\n",
      "[1] \"2019_15_03_19_07_19\"\n",
      "[1] \"2019_15_03_19_07_25\"\n",
      "[1] \"2019_15_03_19_07_26\"\n",
      "[1] \"2019_15_03_19_07_32\"\n",
      "[1] \"2019_15_03_19_07_33\"\n",
      "[1] \"2019_15_03_19_07_39\"\n",
      "[1] \"2019_15_03_19_07_40\"\n",
      "[1] \"2019_15_03_19_07_46\"\n",
      "[1] \"2019_15_03_19_07_48\"\n",
      "[1] \"2019_15_03_19_07_54\"\n",
      "[1] \"2019_15_03_19_07_56\"\n",
      "[1] \"2019_15_03_19_08_02\"\n",
      "[1] \"2019_15_03_19_08_04\"\n",
      "[1] \"2019_15_03_19_08_10\"\n",
      "[1] \"2019_15_03_19_08_12\"\n",
      "[1] \"2019_15_03_19_08_18\"\n",
      "[1] \"2019_15_03_19_08_20\"\n",
      "[1] \"2019_15_03_19_08_26\"\n",
      "[1] \"2019_15_03_19_08_28\"\n",
      "[1] \"2019_15_03_19_08_33\"\n",
      "[1] \"2019_15_03_19_08_35\"\n",
      "[1] \"2019_15_03_19_08_41\"\n",
      "[1] \"2019_15_03_19_08_43\"\n",
      "[1] \"2019_15_03_19_08_49\"\n",
      "[1] \"2019_15_03_19_08_50\"\n",
      "[1] \"2019_15_03_19_08_56\"\n",
      "[1] \"2019_15_03_19_08_58\"\n",
      "[1] \"2019_15_03_19_09_04\"\n",
      "[1] \"2019_15_03_19_09_05\"\n",
      "[1] \"2019_15_03_19_09_12\"\n",
      "[1] \"2019_15_03_19_09_14\"\n",
      "[1] \"2019_15_03_19_09_20\"\n",
      "[1] \"2019_15_03_19_09_22\"\n",
      "[1] \"2019_15_03_19_09_28\"\n",
      "[1] \"2019_15_03_19_09_30\"\n",
      "[1] \"2019_15_03_19_09_35\"\n",
      "[1] \"2019_15_03_19_09_37\"\n",
      "[1] \"2019_15_03_19_09_43\"\n",
      "[1] \"2019_15_03_19_09_46\"\n",
      "[1] \"2019_15_03_19_09_51\"\n",
      "[1] \"2019_15_03_19_09_54\"\n",
      "[1] \"2019_15_03_19_09_59\"\n",
      "[1] \"2019_15_03_19_10_02\"\n",
      "[1] \"2019_15_03_19_10_07\"\n",
      "[1] \"2019_15_03_19_10_09\"\n",
      "[1] \"2019_15_03_19_10_14\"\n",
      "[1] \"2019_15_03_19_10_17\"\n",
      "[1] \"2019_15_03_19_10_22\"\n",
      "[1] \"2019_15_03_19_10_25\"\n",
      "[1] \"2019_15_03_19_10_30\"\n",
      "[1] \"2019_15_03_19_10_33\"\n",
      "[1] \"2019_15_03_19_10_38\"\n",
      "[1] \"2019_15_03_19_10_41\"\n",
      "[1] \"2019_15_03_19_10_46\"\n",
      "[1] \"2019_15_03_19_10_49\"\n",
      "[1] \"2019_15_03_19_10_54\"\n",
      "[1] \"2019_15_03_19_10_56\"\n",
      "[1] \"2019_15_03_19_11_02\"\n",
      "[1] \"2019_15_03_19_11_04\"\n",
      "[1] \"2019_15_03_19_11_10\"\n",
      "[1] \"2019_15_03_19_11_12\"\n",
      "[1] \"2019_15_03_19_11_18\"\n",
      "[1] \"2019_15_03_19_11_20\"\n",
      "[1] \"2019_15_03_19_11_26\"\n",
      "[1] \"2019_15_03_19_11_29\"\n",
      "[1] \"2019_15_03_19_11_35\"\n",
      "[1] \"2019_15_03_19_11_37\"\n",
      "[1] \"2019_15_03_19_11_43\"\n",
      "[1] \"2019_15_03_19_11_45\"\n",
      "[1] \"2019_15_03_19_11_51\"\n",
      "[1] \"2019_15_03_19_11_53\"\n",
      "[1] \"2019_15_03_19_11_59\"\n",
      "[1] \"2019_15_03_19_12_01\"\n",
      "[1] \"2019_15_03_19_12_07\"\n",
      "[1] \"2019_15_03_19_12_09\"\n",
      "[1] \"2019_15_03_19_12_15\"\n",
      "[1] \"2019_15_03_19_12_18\"\n",
      "[1] \"2019_15_03_19_12_24\"\n",
      "[1] \"2019_15_03_19_12_27\"\n",
      "[1] \"2019_15_03_19_12_32\"\n",
      "[1] \"2019_15_03_19_12_35\"\n",
      "[1] \"2019_15_03_19_12_40\"\n",
      "[1] \"2019_15_03_19_12_44\"\n",
      "[1] \"2019_15_03_19_12_49\"\n",
      "[1] \"2019_15_03_19_12_52\"\n",
      "[1] \"2019_15_03_19_12_57\"\n",
      "[1] \"2019_15_03_19_13_00\"\n",
      "[1] \"2019_15_03_19_13_05\"\n",
      "[1] \"2019_15_03_19_13_08\"\n",
      "[1] \"2019_15_03_19_13_13\"\n",
      "[1] \"2019_15_03_19_13_16\"\n",
      "[1] \"2019_15_03_19_13_21\"\n",
      "[1] \"2019_15_03_19_13_24\"\n",
      "[1] \"2019_15_03_19_13_29\"\n",
      "[1] \"2019_15_03_19_13_31\"\n",
      "[1] \"2019_15_03_19_13_37\"\n",
      "[1] \"2019_15_03_19_13_39\"\n",
      "[1] \"2019_15_03_19_13_45\"\n",
      "[1] \"2019_15_03_19_13_48\"\n",
      "[1] \"2019_15_03_19_13_53\"\n",
      "[1] \"2019_15_03_19_13_56\"\n",
      "[1] \"2019_15_03_19_14_01\"\n",
      "[1] \"2019_15_03_19_14_04\"\n",
      "[1] \"2019_15_03_19_14_08\"\n",
      "[1] \"2019_15_03_19_14_11\"\n",
      "[1] \"2019_15_03_19_14_16\"\n",
      "[1] \"2019_15_03_19_14_19\"\n",
      "[1] \"2019_15_03_19_14_23\"\n",
      "[1] \"2019_15_03_19_14_27\"\n",
      "[1] \"2019_15_03_19_14_31\"\n",
      "[1] \"2019_15_03_19_14_34\"\n",
      "[1] \"2019_15_03_19_14_38\"\n",
      "[1] \"2019_15_03_19_14_42\"\n",
      "[1] \"2019_15_03_19_14_47\"\n",
      "[1] \"2019_15_03_19_14_50\"\n",
      "[1] \"2019_15_03_19_14_55\"\n",
      "[1] \"2019_15_03_19_14_58\"\n",
      "[1] \"2019_15_03_19_15_02\"\n",
      "[1] \"2019_15_03_19_15_06\"\n",
      "[1] \"2019_15_03_19_15_10\"\n",
      "[1] \"2019_15_03_19_15_13\"\n",
      "[1] \"2019_15_03_19_15_17\"\n",
      "[1] \"2019_15_03_19_15_21\"\n",
      "[1] \"2019_15_03_19_15_25\"\n",
      "[1] \"2019_15_03_19_15_29\"\n",
      "[1] \"2019_15_03_19_15_32\"\n",
      "[1] \"2019_15_03_19_15_36\"\n",
      "[1] \"2019_15_03_19_15_39\"\n",
      "[1] \"2019_15_03_19_15_44\"\n",
      "[1] \"2019_15_03_19_15_47\"\n",
      "[1] \"2019_15_03_19_15_51\"\n",
      "[1] \"2019_15_03_19_15_54\"\n",
      "[1] \"2019_15_03_19_16_02\"\n",
      "[1] \"2019_15_03_19_16_07\"\n",
      "[1] \"2019_15_03_19_16_11\"\n",
      "[1] \"2019_15_03_19_16_15\"\n",
      "[1] \"2019_15_03_19_16_19\"\n",
      "[1] \"2019_15_03_19_16_24\"\n",
      "[1] \"2019_15_03_19_16_27\"\n",
      "[1] \"2019_15_03_19_16_32\"\n",
      "[1] \"2019_15_03_19_16_37\"\n",
      "[1] \"2019_15_03_19_16_41\"\n",
      "[1] \"2019_15_03_19_16_45\"\n",
      "[1] \"2019_15_03_19_16_49\"\n",
      "[1] \"2019_15_03_19_16_52\"\n",
      "[1] \"2019_15_03_19_16_56\"\n",
      "[1] \"2019_15_03_19_17_00\"\n",
      "[1] \"2019_15_03_19_17_04\"\n",
      "[1] \"2019_15_03_19_17_08\"\n",
      "[1] \"2019_15_03_19_17_12\"\n",
      "[1] \"2019_15_03_19_17_16\"\n",
      "[1] \"2019_15_03_19_17_20\"\n",
      "[1] \"2019_15_03_19_17_24\"\n",
      "[1] \"2019_15_03_19_17_28\"\n",
      "[1] \"2019_15_03_19_17_33\"\n",
      "[1] \"2019_15_03_19_17_36\"\n",
      "[1] \"2019_15_03_19_17_41\"\n",
      "[1] \"2019_15_03_19_17_45\"\n",
      "[1] \"2019_15_03_19_17_50\"\n",
      "[1] \"2019_15_03_19_17_53\"\n",
      "[1] \"2019_15_03_19_17_58\"\n",
      "[1] \"2019_15_03_19_18_01\"\n",
      "[1] \"2019_15_03_19_18_06\"\n",
      "[1] \"2019_15_03_19_18_09\"\n",
      "[1] \"2019_15_03_19_18_14\"\n",
      "[1] \"2019_15_03_19_18_18\"\n",
      "[1] \"2019_15_03_19_18_22\"\n",
      "[1] \"2019_15_03_19_18_25\"\n",
      "[1] \"2019_15_03_19_18_30\"\n",
      "[1] \"2019_15_03_19_18_34\"\n",
      "[1] \"2019_15_03_19_18_38\"\n",
      "[1] \"2019_15_03_19_18_42\"\n",
      "[1] \"2019_15_03_19_18_46\"\n",
      "[1] \"2019_15_03_19_18_51\"\n",
      "[1] \"2019_15_03_19_18_54\"\n",
      "[1] \"2019_15_03_19_18_58\"\n",
      "[1] \"2019_15_03_19_19_03\"\n",
      "[1] \"2019_15_03_19_19_07\"\n",
      "[1] \"2019_15_03_19_19_11\"\n",
      "[1] \"2019_15_03_19_19_15\"\n",
      "[1] \"2019_15_03_19_19_19\"\n",
      "[1] \"2019_15_03_19_19_23\"\n",
      "[1] \"2019_15_03_19_19_28\"\n",
      "[1] \"2019_15_03_19_19_32\"\n",
      "[1] \"2019_15_03_19_19_37\"\n",
      "[1] \"2019_15_03_19_19_41\"\n",
      "[1] \"2019_15_03_19_19_45\"\n",
      "[1] \"2019_15_03_19_19_49\"\n",
      "[1] \"2019_15_03_19_19_53\"\n",
      "[1] \"2019_15_03_19_19_57\"\n",
      "[1] \"2019_15_03_19_20_02\"\n",
      "[1] \"2019_15_03_19_20_05\"\n",
      "[1] \"2019_15_03_19_20_10\"\n",
      "[1] \"2019_15_03_19_20_14\"\n",
      "[1] \"2019_15_03_19_20_18\"\n",
      "[1] \"2019_15_03_19_20_22\"\n",
      "[1] \"2019_15_03_19_20_26\"\n",
      "[1] \"2019_15_03_19_20_30\"\n",
      "[1] \"2019_15_03_19_20_34\"\n",
      "[1] \"2019_15_03_19_20_39\"\n",
      "[1] \"2019_15_03_19_20_43\"\n",
      "[1] \"2019_15_03_19_20_48\"\n",
      "[1] \"2019_15_03_19_20_52\"\n",
      "[1] \"2019_15_03_19_21_00\"\n"
     ]
    }
   ],
   "source": [
    "emptytable <- data.table()\n",
    "lista = list.dirs(mypath)\n",
    "\n",
    "for (i in lista){\n",
    "    kcore1 <- 0\n",
    "    kcore2 <- 0\n",
    "    agent1 <- 0\n",
    "    agent2 <- 0\n",
    "    news1  <- 0\n",
    "    news2  <- 0\n",
    "    \n",
    "    filename = paste(mypath, '/', i, '/', 'k_core.csv', sep = \"\")\n",
    "    memfile = paste(mypath, '/', i , '/', 'memoryLog.csv', sep = \"\")\n",
    "    #print(filename)\n",
    "    \n",
    "    kDF <- read.csv(file = filename, skip=12)\n",
    "    mDF <- read.csv(file = memfile, skip=12)\n",
    "    \n",
    "    tempkDF <- kDF[kDF$state =='i',]\n",
    "    tempkDF <- tempkDF[tempkDF$time == 1,]\n",
    "\n",
    "    tempmDF <- mDF[mDF$spreadstate =='i',]\n",
    "    tempmDF <- tempmDF[tempmDF$time == 1,]\n",
    "    \n",
    "    kcore1 <- as.integer(tempkDF[1,'k.core'])\n",
    "    kcore2 <- as.integer(tempkDF[2,'k.core'])\n",
    "    \n",
    "    print(i)\n",
    "    \n",
    "    if (kcore1 == kcore2){\n",
    "        agent1 <- as.integer(tempkDF[1,'agent'])\n",
    "        agent2 <- as.integer(tempkDF[2,'agent'])\n",
    "    } else {\n",
    "        kcore1 <- min(as.integer(tempkDF[1,'k.core']),as.integer(tempkDF[2,'k.core']))\n",
    "        kcore2 <- max(as.integer(tempkDF[1,'k.core']),as.integer(tempkDF[2,'k.core']))\n",
    "\n",
    "        agent1 <- as.integer(tempkDF[tempkDF$k.core == kcore1,]['agent'])\n",
    "        agent2 <- as.integer(tempkDF[tempkDF$k.core == kcore2,]['agent'])\n",
    "    }\n",
    "\n",
    "    news1 <- tempmDF[tempmDF$agent == agent1,][,'news0']\n",
    "    news2 <- tempmDF[tempmDF$agent == agent2,][,'news0']\n",
    "\n",
    "    mDF$'density' <- 1\n",
    "\n",
    "    mDT <- data.table(mDF)\n",
    "    mDT1 = mDT[, sum(density), by=list(time, spreadstate, news0)]\n",
    "    names(mDT1)[names(mDT1)==\"V1\"] <- \"density\"\n",
    "    mDT1$density <- mDT1$density / N_AGENTS\n",
    "\n",
    "    mDT1$k.core.init <- 0\n",
    "    mDT1$agent.init <- 0\n",
    "\n",
    "    mDT1[mDT1$news0==news1,]$k.core.init <- kcore1\n",
    "    mDT1[mDT1$news0==news2,]$k.core.init <- kcore2\n",
    "\n",
    "    mDT1[mDT1$news0==news1,]$agent.init <- agent1\n",
    "    mDT1[mDT1$news0==news2,]$agent.init <- agent2\n",
    "\n",
    "    mDT1$spreadstate[mDT1$news0 == 0] <- 'r'\n",
    "    mDT1 = mDT1[mDT1$spreadstate != 'i']\n",
    "    mDT1[,spreadstate:=NULL]\n",
    "\n",
    "    mDT1 <- rbindlist(list(mDT1, list(1, news1, 0., kcore1, agent1)))\n",
    "    mDT1 <- rbindlist(list(mDT1, list(1, news2, 0., kcore2, agent2)))\n",
    "\n",
    "    mDT1$news0[mDT1$news0 %in% \"0\"] <- \"news 0\"\n",
    "    mDT1$news0[mDT1$news0 %in% news1] <- \"news 1\"\n",
    "    mDT1$news0[mDT1$news0 %in% news2] <- \"news 2\"\n",
    "    \n",
    "    mDT1$k.core.init[mDT1$k.core.init %in% 0] <- -1\n",
    "    mDT1$agent.init[mDT1$agent.init %in% 0] <- -1\n",
    "    \n",
    "    mDT1$'file' <- i\n",
    "    mDT1$'sym' <- paste(toString(kcore1), toString(kcore2), sep=\"-\")\n",
    "    #print(mDT1)\n",
    "    emptytable <- rbind(emptytable, mDT1)\n",
    "}"
   ]
  },
  {
   "cell_type": "code",
   "execution_count": 210,
   "metadata": {
    "scrolled": false
   },
   "outputs": [],
   "source": [
    "rawtable <- emptytable\n",
    "rawtable <- rawtable[with(rawtable, order(time, file, news0)), ]\n",
    "rawtable <- rawtable[rawtable$time < 15]\n",
    "\n",
    "#rawtable"
   ]
  },
  {
   "cell_type": "code",
   "execution_count": 211,
   "metadata": {},
   "outputs": [],
   "source": [
    "toplot <- rawtable[, mean(density), by=list(time, news0, k.core.init, sym)][,c('time', 'news0', 'k.core.init', 'sym')]\n",
    "#toplot\n",
    "toplot$mean <- rawtable[, mean(density), by=list(time, news0, k.core.init, sym)][,'V1']\n",
    "toplot$std  <- rawtable[,   sd(density), by=list(time, news0, k.core.init, sym)][,'V1']\n",
    "#toplot <- toplot[with(toplot, order(k.core.init, news0, time)), ]\n",
    "\n",
    "#toplot"
   ]
  },
  {
   "cell_type": "markdown",
   "metadata": {},
   "source": [
    "Logistic Sigmoid"
   ]
  },
  {
   "cell_type": "markdown",
   "metadata": {},
   "source": [
    "$f(x,y,dy;x_0,\\mu,\\sigma,A,m) = m + A \\frac{1}{\\sigma + e^{\\mu x}}$\n",
    "\n",
    "$f(x,y,dy;x_0,\\mu,K) = \\frac{K}{1 + e^{-\\mu (x - x_0)}}$"
   ]
  },
  {
   "cell_type": "code",
   "execution_count": 350,
   "metadata": {},
   "outputs": [],
   "source": [
    "sigmoid <- function(x, par) { par[5] + par[4] * 1/(par[3] + exp(par[2]*(x - par[1]))) }"
   ]
  },
  {
   "cell_type": "code",
   "execution_count": 351,
   "metadata": {},
   "outputs": [],
   "source": [
    "logistic_std = function(x,y,w,x0,mu,sig,scale,off){\n",
    "    f = function(p){\n",
    "        d = p[5] + p[4]*(1/(p[3] + exp(p[2]*(x-p[1]))))\n",
    "        sum((d-y)^2/((w+0.00001)^2))\n",
    "    }\n",
    "    optim(c(x0,mu,sig,scale,off),f)\n",
    "}"
   ]
  },
  {
   "cell_type": "code",
   "execution_count": 352,
   "metadata": {
    "scrolled": false
   },
   "outputs": [
    {
     "data": {
      "text/html": [
       "<ol class=list-inline>\n",
       "\t<li>9.20282686105115</li>\n",
       "\t<li>0.617816640848366</li>\n",
       "\t<li>1.21630640869224</li>\n",
       "\t<li>0.693586302905625</li>\n",
       "\t<li>0.430957004291415</li>\n",
       "</ol>\n"
      ],
      "text/latex": [
       "\\begin{enumerate*}\n",
       "\\item 9.20282686105115\n",
       "\\item 0.617816640848366\n",
       "\\item 1.21630640869224\n",
       "\\item 0.693586302905625\n",
       "\\item 0.430957004291415\n",
       "\\end{enumerate*}\n"
      ],
      "text/markdown": [
       "1. 9.20282686105115\n",
       "2. 0.617816640848366\n",
       "3. 1.21630640869224\n",
       "4. 0.693586302905625\n",
       "5. 0.430957004291415\n",
       "\n",
       "\n"
      ],
      "text/plain": [
       "[1] 9.202826861051 0.617816640848 1.216306408692 0.693586302906 0.430957004291"
      ]
     },
     "metadata": {},
     "output_type": "display_data"
    },
    {
     "data": {
      "text/html": [
       "<ol class=list-inline>\n",
       "\t<li>4.1811801321307</li>\n",
       "\t<li>-0.117291731386144</li>\n",
       "\t<li>5.42237050780759</li>\n",
       "\t<li>-0.0373708677646055</li>\n",
       "\t<li>0.00544344387091519</li>\n",
       "</ol>\n"
      ],
      "text/latex": [
       "\\begin{enumerate*}\n",
       "\\item 4.1811801321307\n",
       "\\item -0.117291731386144\n",
       "\\item 5.42237050780759\n",
       "\\item -0.0373708677646055\n",
       "\\item 0.00544344387091519\n",
       "\\end{enumerate*}\n"
      ],
      "text/markdown": [
       "1. 4.1811801321307\n",
       "2. -0.117291731386144\n",
       "3. 5.42237050780759\n",
       "4. -0.0373708677646055\n",
       "5. 0.00544344387091519\n",
       "\n",
       "\n"
      ],
      "text/plain": [
       "[1]  4.18118013213070 -0.11729173138614  5.42237050780759 -0.03737086776461\n",
       "[5]  0.00544344387092"
      ]
     },
     "metadata": {},
     "output_type": "display_data"
    },
    {
     "data": {
      "text/html": [
       "<ol class=list-inline>\n",
       "\t<li>11.7575312651734</li>\n",
       "\t<li>-0.183808924731824</li>\n",
       "\t<li>5.71850244076499</li>\n",
       "\t<li>0.347970419200499</li>\n",
       "\t<li>-0.0268810750852003</li>\n",
       "</ol>\n"
      ],
      "text/latex": [
       "\\begin{enumerate*}\n",
       "\\item 11.7575312651734\n",
       "\\item -0.183808924731824\n",
       "\\item 5.71850244076499\n",
       "\\item 0.347970419200499\n",
       "\\item -0.0268810750852003\n",
       "\\end{enumerate*}\n"
      ],
      "text/markdown": [
       "1. 11.7575312651734\n",
       "2. -0.183808924731824\n",
       "3. 5.71850244076499\n",
       "4. 0.347970419200499\n",
       "5. -0.0268810750852003\n",
       "\n",
       "\n"
      ],
      "text/plain": [
       "[1] 11.7575312651734 -0.1838089247318  5.7185024407650  0.3479704192005\n",
       "[5] -0.0268810750852"
      ]
     },
     "metadata": {},
     "output_type": "display_data"
    },
    {
     "name": "stderr",
     "output_type": "stream",
     "text": [
      "Warning message in arrows(n0$time, n0$mean - n0$std, n0$time, n0$mean + n0$std, :\n",
      "“zero-length arrow is of indeterminate angle and so skipped”Warning message in arrows(n1$time, n1$mean - n1$std, n1$time, n1$mean + n1$std, :\n",
      "“zero-length arrow is of indeterminate angle and so skipped”Warning message in arrows(n2$time, n2$mean - n2$std, n2$time, n2$mean + n2$std, :\n",
      "“zero-length arrow is of indeterminate angle and so skipped”"
     ]
    },
    {
     "data": {
      "text/html": [
       "<table>\n",
       "<thead><tr><th scope=col>par</th><th scope=col>news0</th><th scope=col>news1</th><th scope=col>news2</th></tr></thead>\n",
       "<tbody>\n",
       "\t<tr><td>x0               </td><td>3.245385352559   </td><td> 3.2854289878732 </td><td> 5.81207134711889</td></tr>\n",
       "\t<tr><td>mu               </td><td>1.365642381660   </td><td> 1.8417317142707 </td><td>-1.56468502506077</td></tr>\n",
       "\t<tr><td>sigma            </td><td>1.601623461810   </td><td> 4.2684605589090 </td><td>15.36742245344539</td></tr>\n",
       "\t<tr><td>A                </td><td>0.705273176426   </td><td>-0.3514386653935 </td><td> 5.28933107772527</td></tr>\n",
       "\t<tr><td>m                </td><td>0.570334441725   </td><td> 0.0820481983969 </td><td>-0.00281750589569</td></tr>\n",
       "</tbody>\n",
       "</table>\n"
      ],
      "text/latex": [
       "\\begin{tabular}{r|llll}\n",
       " par & news0 & news1 & news2\\\\\n",
       "\\hline\n",
       "\t x0                & 3.245385352559    &  3.2854289878732  &  5.81207134711889\\\\\n",
       "\t mu                & 1.365642381660    &  1.8417317142707  & -1.56468502506077\\\\\n",
       "\t sigma             & 1.601623461810    &  4.2684605589090  & 15.36742245344539\\\\\n",
       "\t A                 & 0.705273176426    & -0.3514386653935  &  5.28933107772527\\\\\n",
       "\t m                 & 0.570334441725    &  0.0820481983969  & -0.00281750589569\\\\\n",
       "\\end{tabular}\n"
      ],
      "text/markdown": [
       "\n",
       "par | news0 | news1 | news2 | \n",
       "|---|---|---|---|---|\n",
       "| x0                | 3.245385352559    |  3.2854289878732  |  5.81207134711889 | \n",
       "| mu                | 1.365642381660    |  1.8417317142707  | -1.56468502506077 | \n",
       "| sigma             | 1.601623461810    |  4.2684605589090  | 15.36742245344539 | \n",
       "| A                 | 0.705273176426    | -0.3514386653935  |  5.28933107772527 | \n",
       "| m                 | 0.570334441725    |  0.0820481983969  | -0.00281750589569 | \n",
       "\n",
       "\n"
      ],
      "text/plain": [
       "  par   news0          news1            news2            \n",
       "1 x0    3.245385352559  3.2854289878732  5.81207134711889\n",
       "2 mu    1.365642381660  1.8417317142707 -1.56468502506077\n",
       "3 sigma 1.601623461810  4.2684605589090 15.36742245344539\n",
       "4 A     0.705273176426 -0.3514386653935  5.28933107772527\n",
       "5 m     0.570334441725  0.0820481983969 -0.00281750589569"
      ]
     },
     "metadata": {},
     "output_type": "display_data"
    },
    {
     "data": {
      "image/png": "[encoded data removed]",
      "text/plain": [
       "plot without title"
      ]
     },
     "metadata": {},
     "output_type": "display_data"
    }
   ],
   "source": [
    "ks <- 10\n",
    "oktoplot <- toplot[toplot$sym == paste('1-',toString(ks), sep=\"\")]\n",
    "n0 <-  oktoplot[oktoplot$news0 == \"news 0\"]\n",
    "n1 <-  oktoplot[oktoplot$news0 == \"news 1\"]\n",
    "n2 <-  oktoplot[oktoplot$news0 == \"news 2\"]\n",
    "\n",
    "logistic_std_p  =  logistic_std(n0$time, n0$mean, n0$std,9, 0.1, 1,0.1,0.5)\n",
    "pstd0  = logistic_std_p$par\n",
    "pstd0\n",
    "\n",
    "logistic_std_p  =  logistic_std(n1$time, n1$mean, n1$std,4, 0.1, 5,0.1,0.1)\n",
    "pstd1  = logistic_std_p$par\n",
    "pstd1\n",
    "\n",
    "logistic_std_p  =  logistic_std(n2$time, n2$mean, n2$std,12, 0.1, 5,0.3,0)\n",
    "pstd2  = logistic_std_p$par\n",
    "pstd2\n",
    "\n",
    "for (index in 1:100){\n",
    "    logistic_std_p  =  logistic_std(n0$time, n0$mean, n0$std,pstd0[1], pstd0[2], pstd0[3], pstd0[4], pstd0[5])\n",
    "    pstd0  = logistic_std_p$par\n",
    "\n",
    "    logistic_std_p  =  logistic_std(n1$time, n1$mean, n1$std,pstd1[1], pstd1[2], pstd1[3], pstd1[4], pstd1[5])\n",
    "    pstd1  = logistic_std_p$par\n",
    "\n",
    "    logistic_std_p  =  logistic_std(n2$time, n2$mean, n2$std,pstd2[1], pstd2[2], pstd2[3], pstd2[4], pstd2[5])\n",
    "    pstd2  = logistic_std_p$par\n",
    "}\n",
    "plot(n0$time, n0$mean, \n",
    "     pch=15,\n",
    "     xlim=range(min(n0$time),max(n0$time)),\n",
    "     ylim=range(c(0,1)), \n",
    "     panel.first=grid())\n",
    "points(n1$time, n1$mean, pch=16) \n",
    "points(n2$time, n2$mean, pch=17)\n",
    "\n",
    "arrows(n0$time, n0$mean-n0$std, n0$time,n0$mean +n0$std, length=0.05, angle=45, code=3)\n",
    "arrows(n1$time, n1$mean-n1$std, n1$time,n1$mean +n1$std, length=0.05, angle=90, code=3)\n",
    "arrows(n2$time, n2$mean-n2$std, n2$time,n2$mean +n2$std, length=0.05, angle=135, code=3)\n",
    "\n",
    "curve(sigmoid(x, pstd0), min(n0$time), max(n0$time) ,n=300, add=TRUE, lty=1, lwd=2, col=\"red\")\n",
    "curve(sigmoid(x, pstd1), min(n1$time), max(n1$time) ,n=300, add=TRUE, lty=2, lwd=2, col=\"green\")\n",
    "curve(sigmoid(x, pstd2), min(n2$time), max(n2$time) ,n=300, add=TRUE, lty=3, lwd=2, col=\"blue\")\n",
    "\n",
    "data.frame(\n",
    "    par = c(\"x0\", \"mu\", \"sigma\", \"A\", \"m\"),\n",
    "    news0=c(pstd0),\n",
    "    news1=c(pstd1),\n",
    "    news2=c(pstd2)\n",
    ")\n",
    "\n",
    "legend(\"topright\", pch = c(15,16,17, NA, NA, NA), lty=c(NA, NA, NA, 1, 2, 3), lwd=c(NA, NA, NA, 2, 2, 2),\n",
    "        col = c(\"black\", \"black\", \"black\", \"red\", \"green\", \"blue\"), \n",
    "        legend = c(\"Ignorant density\", \n",
    "                   \"Density of nodes w. seed from kS = 1\",\n",
    "                   paste(\"Density of nodes w.seed from kS = \", toString(ks), sep=\"\"), \n",
    "                   \"Sigmoid Fit for ignorants\",\n",
    "                   \"Sigmoid Fit for nodes w. seed from kS = 1\",\n",
    "                   paste(\"Sigmoid Fit for nodes w. seed from kS = \", toString(ks), sep=\"\")\n",
    "))\n",
    "\n"
   ]
  },
  {
   "cell_type": "code",
   "execution_count": 353,
   "metadata": {
    "scrolled": false
   },
   "outputs": [],
   "source": [
    "library(gridExtra)\n",
    "\n",
    "p <- list()\n",
    "\n",
    "for (i in 2:11){\n",
    "    oktoplot <- toplot[toplot$sym == paste('1-',toString(i), sep=\"\")]\n",
    "    p[[i-1]] <-ggplot(oktoplot, aes(time, mean, col=news0 )) + geom_line() + # theme(legend.position=\"none\") \n",
    "        geom_errorbar(aes(ymin = mean - std, ymax = mean + std))+\n",
    "    ggtitle(paste(\"News of kS=1 and kS=\",i,\" competing\", sep=\"\")) +\n",
    "  xlab(\"time\") + ylab(\"MkS\") + theme_bw()\n",
    "}\n",
    "#p[1]\n",
    "#p[2]\n",
    "#p[3]\n",
    "#p[4]\n",
    "#p[5]\n",
    "#p[6]\n",
    "#p[7] \n",
    "#p[8]\n",
    "#p[9]\n",
    "#p[10]\n",
    "#p[11]"
   ]
  },
  {
   "cell_type": "code",
   "execution_count": null,
   "metadata": {},
   "outputs": [],
   "source": [
    "diffrawtable <- rawtable[, diff(density), by=list(time, file)]\n",
    "sumrawtable <- rawtable[, sum(density), by=list(time, file)]\n",
    "merge(x = rawtable, y = diffrawtable, by = c(\"time\",\"file\"), all.x = TRUE)"
   ]
  },
  {
   "cell_type": "code",
   "execution_count": null,
   "metadata": {},
   "outputs": [],
   "source": [
    "emptytable <- rawtable"
   ]
  },
  {
   "cell_type": "code",
   "execution_count": null,
   "metadata": {
    "scrolled": false
   },
   "outputs": [],
   "source": [
    "emptytabletime <- emptytable[emptytable$time == 50]\n",
    "\n",
    "#emptytabletime <- emptytabletime[emptytabletime$k.core.init > 1]\n",
    "\n",
    "toplot <- emptytabletime[, mean(density), by=list(time, k.core.init)][,'k.core.init']\n",
    "#toplot\n",
    "toplot$mean <- emptytabletime[emptytabletime$time == 50][, mean(density), by=list(time, k.core.init)][,'V1']\n",
    "toplot$std <- emptytabletime[emptytabletime$time == 50][, sd(density), by=list(time, k.core.init)][,'V1']\n",
    "#toplot"
   ]
  },
  {
   "cell_type": "code",
   "execution_count": null,
   "metadata": {},
   "outputs": [],
   "source": [
    "toplot = toplot[order(toplot$k.core.init),]"
   ]
  },
  {
   "cell_type": "code",
   "execution_count": null,
   "metadata": {},
   "outputs": [],
   "source": [
    "plot(emptytabletime$k.core.init, emptytabletime$density)"
   ]
  },
  {
   "cell_type": "code",
   "execution_count": null,
   "metadata": {},
   "outputs": [],
   "source": [
    "x <- toplot$k.core.init\n",
    "y <- toplot$mean\n",
    "dy <- toplot$std\n",
    "plot(x, y,\n",
    "    ylim=range(c(y-dy, y+dy)),\n",
    "     #log='y',\n",
    "     xlab=TeX('$k_S$'), ylab=TeX('$M_{k_S}$'),\n",
    "    #main=\"Scatter plot with std.dev error bars\"\n",
    "     panel.first=grid()\n",
    ")\n",
    "arrows(x, y-dy, x, y+dy, length=0.05, angle=90, code=3)\n",
    "\n",
    "\n",
    "#nonlin_mod=nls(y~a*exp(b*x),start=list(a=1,b=0.1)) #a is the starting value and b is the exponential start\n",
    "#lines(x,predict(nonlin_mod),col=\"red\")\n",
    "#summary(nonlin_mod)\n",
    "\n",
    "# constant\n",
    "m<-lm(y~x)\n",
    "summary(m)\n",
    "cor(y,predict(m))\n",
    "lines(x,predict(m),lty=2,col=\"black\",lwd=2)\n",
    "\n",
    "# polynomial\n",
    "m<-lm(y ~ poly(x,2))\n",
    "summary(m)\n",
    "cor(y,predict(m))\n",
    "#plot\n",
    "lines(x,predict(m),lty=5,col=\"black\",lwd=2)\n"
   ]
  },
  {
   "cell_type": "markdown",
   "metadata": {},
   "source": [
    "## All datasets,  single news"
   ]
  },
  {
   "cell_type": "markdown",
   "metadata": {},
   "source": [
    "Assemble everything and do the loops"
   ]
  },
  {
   "cell_type": "code",
   "execution_count": null,
   "metadata": {
    "scrolled": false
   },
   "outputs": [],
   "source": [
    "emptytable <- data.table()\n",
    "lista = list.dirs(mypath)\n",
    "for (i in lista){    \n",
    "    filename = paste(mypath, '/', i, '/', 'k_core.csv', sep = \"\")\n",
    "    #print(filename)\n",
    "    DF <- read.csv(file = filename, skip=12)\n",
    "    tempDF <- DF[DF$state =='i',]\n",
    "    tempDF <- tempDF[tempDF$time == 1,]\n",
    "\n",
    "    agent <- as.integer(tempDF['agent'])\n",
    "    kcore <- as.integer(tempDF['k.core'])\n",
    "\n",
    "    DF$'agent.init' <- agent\n",
    "    DF$'k.core.init' <- kcore\n",
    "    DF$'density' <- 1\n",
    "    DF$'density.mean' <- 1\n",
    "    DF$'density.std' <- 1\n",
    "\n",
    "    DT <- data.table(DF)\n",
    "    DT1 = DT[, sum(density), by=list(time, state)]\n",
    "    \n",
    "    names(DT1)[names(DT1)==\"V1\"] <- \"density\"\n",
    "\n",
    "    DT1$density <- DT1$density / N_AGENTS\n",
    "\n",
    "    DT1$'agent.init' <- agent\n",
    "    DT1$'k.core.init' <- kcore\n",
    "    \n",
    "    tempDT1 <- DT1[DT1$state == 'r']\n",
    "    tempDT1 <- tempDT1[tempDT1$time == 120]\n",
    "    density <- as.numeric(tempDT1[,'density'])\n",
    "    \n",
    "    DT1 = DT1[DT1$state == 'r']\n",
    "    DT1[,state:=NULL]\n",
    "    #print(DT1)\n",
    "    emptytable <- rbind(emptytable, DT1)\n",
    "}"
   ]
  },
  {
   "cell_type": "code",
   "execution_count": null,
   "metadata": {
    "scrolled": true
   },
   "outputs": [],
   "source": [
    "rawtable <- emptytable"
   ]
  },
  {
   "cell_type": "markdown",
   "metadata": {},
   "source": [
    "Compute mean and standard deviation and add to data table"
   ]
  },
  {
   "cell_type": "code",
   "execution_count": null,
   "metadata": {},
   "outputs": [],
   "source": [
    "emptytable <- rawtable"
   ]
  },
  {
   "cell_type": "code",
   "execution_count": null,
   "metadata": {},
   "outputs": [],
   "source": [
    "emptytabletime <- emptytable[emptytable$time == 120]\n",
    "#emptytabletime$density <- emptytabletime$density + 1e-3\n",
    "#emptytabletime <- emptytabletime[emptytabletime$density < 0.02]\n",
    "emptytabletime <- emptytabletime[emptytabletime$density > 0.01]\n",
    "#emptytabletime <- emptytabletime[emptytabletime$k.core.init > 1]\n",
    "#emptytabletime$k.core.init <- emptytabletime$k.core.init + emptytabletime$k.core.init %% 2\n",
    "toplot <- emptytabletime[, mean(density), by=list(time, k.core.init)][,'k.core.init']\n",
    "toplot$mean <- emptytabletime[emptytabletime$time == 120][, mean(density), by=list(time, k.core.init)][,'V1']\n",
    "toplot$std <- emptytabletime[emptytabletime$time == 120][, sd(density), by=list(time, k.core.init)][,'V1']"
   ]
  },
  {
   "cell_type": "markdown",
   "metadata": {},
   "source": [
    "Clean NaN values"
   ]
  },
  {
   "cell_type": "code",
   "execution_count": null,
   "metadata": {},
   "outputs": [],
   "source": [
    "toplot[is.na(toplot)] <- 1e-4"
   ]
  },
  {
   "cell_type": "code",
   "execution_count": null,
   "metadata": {},
   "outputs": [],
   "source": [
    "toplot = toplot[order(toplot$k.core.init),]"
   ]
  },
  {
   "cell_type": "code",
   "execution_count": null,
   "metadata": {},
   "outputs": [],
   "source": [
    "typeof(toplot)"
   ]
  },
  {
   "cell_type": "code",
   "execution_count": null,
   "metadata": {},
   "outputs": [],
   "source": [
    "save(emptytabletime,file=paste(mypath, \"/\", \"eptytabletime.Rda\", sep=\"\"))\n",
    "save(toplot,file=paste(mypath, \"/\", \"toplot.Rda\", sep=\"\"))"
   ]
  },
  {
   "cell_type": "code",
   "execution_count": null,
   "metadata": {},
   "outputs": [],
   "source": [
    "load(paste(mypath, \"/\", \"toplot.Rda\", sep=\"\"))"
   ]
  },
  {
   "cell_type": "code",
   "execution_count": null,
   "metadata": {},
   "outputs": [],
   "source": []
  },
  {
   "cell_type": "code",
   "execution_count": null,
   "metadata": {
    "scrolled": false
   },
   "outputs": [],
   "source": [
    "toplot"
   ]
  },
  {
   "cell_type": "markdown",
   "metadata": {},
   "source": [
    "Plot"
   ]
  },
  {
   "cell_type": "code",
   "execution_count": null,
   "metadata": {},
   "outputs": [],
   "source": [
    "plot(emptytabletime$k.core.init, emptytabletime$density)"
   ]
  },
  {
   "cell_type": "code",
   "execution_count": null,
   "metadata": {},
   "outputs": [],
   "source": [
    "f <- function(x,a,b) {a * exp(b * x)} \n"
   ]
  },
  {
   "cell_type": "code",
   "execution_count": null,
   "metadata": {
    "scrolled": false
   },
   "outputs": [],
   "source": [
    "x <- toplot$k.core.init\n",
    "y <- toplot$mean\n",
    "dy <- toplot$std\n",
    "plot(x, y, main=\"and\",\n",
    "    ylim=range(c(y-dy, y+dy)),\n",
    "     #log='y',\n",
    "     xlab=TeX('$k_S$'), ylab=TeX('$M_{k_S}$'),\n",
    "    #main=\"Scatter plot with std.dev error bars\"\n",
    "     panel.first=grid()\n",
    ")\n",
    "arrows(x, y-dy, x, y+dy, length=0.05, angle=90, code=3)\n",
    "\n",
    "\n",
    "#nonlin_mod=nls(y~a*exp(b*x),start=list(a=1,b=0.1)) #a is the starting value and b is the exponential start\n",
    "#lines(x,predict(nonlin_mod),col=\"red\")\n",
    "#summary(nonlin_mod)\n",
    "\n",
    "# constant\n",
    "m<-lm(y~x)\n",
    "summary(m)\n",
    "cor(y,predict(m))\n",
    "lines(x,predict(m),lty=2,col=\"black\",lwd=2)\n",
    "\n",
    "# polynomial\n",
    "m<-lm(y ~ poly(x,2))\n",
    "summary(m)\n",
    "cor(y,predict(m))\n",
    "#plot\n",
    "lines(x,predict(m),lty=5,col=\"black\",lwd=2)\n"
   ]
  },
  {
   "cell_type": "code",
   "execution_count": null,
   "metadata": {
    "scrolled": false
   },
   "outputs": [],
   "source": [
    "plot(x, y,\n",
    "    ylim=range(c(y-dy, y+dy)),\n",
    "     #log='y',\n",
    "     xlab=TeX('$k_S$'), ylab=TeX('$M_{k_S}$'),\n",
    "    #main=\"Scatter plot with std.dev error bars\"\n",
    ")\n",
    "arrows(x, y-dy, x, y+dy, length=0.05, angle=90, code=3)\n",
    "\n",
    "# hyperbolic\n",
    "m<-nls(y~a*x/(b+x), start=c(a=1,b=1))\n",
    "summary(m)\n",
    "cor(y,predict(m))\n",
    "#plot\n",
    "lines(x,predict(m),lty=3,col=\"black\",lwd=2)\n",
    "\n",
    "# exponential\n",
    "m<-nls(y~1 - exp(-(1+b)*x), start=list(b=0.1))\n",
    "summary(m)\n",
    "cor(y,predict(m))\n",
    "#plot\n",
    "#lines(x,predict(m),lty=4,col=\"black\",lwd=2)"
   ]
  },
  {
   "cell_type": "code",
   "execution_count": null,
   "metadata": {
    "scrolled": false
   },
   "outputs": [],
   "source": [
    "pdf('mksonks.pdf')\n",
    "plot(toplot$k.core.init, toplot$mean,\n",
    "    ylim=range(c(toplot$mean-toplot$std, toplot$mean+toplot$std)),\n",
    "     #log='y',\n",
    "     xlab=TeX('$k_S$'), ylab=TeX('$M_{k_S}$'),\n",
    "    #main=\"Scatter plot with std.dev error bars\"\n",
    ")\n",
    "arrows(toplot$k.core.init, toplot$mean-toplot$std, \n",
    "       toplot$k.core.init, toplot$mean+toplot$std, length=0.05, angle=90, code=3)\n",
    "dev.off()\n"
   ]
  },
  {
   "cell_type": "markdown",
   "metadata": {},
   "source": [
    "Log y plot"
   ]
  },
  {
   "cell_type": "code",
   "execution_count": null,
   "metadata": {},
   "outputs": [],
   "source": [
    "plot(x, y,\n",
    "    ylim=range(c(y-dy, y+dy)),\n",
    "     log='y',\n",
    "     xlab=TeX('$k_S$'), ylab=TeX('$M_{k_S}$'),\n",
    "    #main=\"Scatter plot with std.dev error bars\"\n",
    ")\n",
    "arrows(x, y-dy, x, y+dy, length=0.05, angle=90, code=3)\n"
   ]
  },
  {
   "cell_type": "code",
   "execution_count": null,
   "metadata": {
    "scrolled": false
   },
   "outputs": [],
   "source": [
    "pdf('logmksonks.pdf')\n",
    "plot(toplot$k.core.init, toplot$mean,\n",
    "     ylim=range(c(toplot$mean-toplot$std, toplot$mean+toplot$std)),\n",
    "     log='y',\n",
    "     xlab=TeX('$k_S$'), ylab=TeX('$M_{k_S}$'),\n",
    "    #main=\"Scatter plot with std.dev error bars\"\n",
    ")\n",
    "arrows(toplot$k.core.init, toplot$mean-toplot$std, \n",
    "       toplot$k.core.init, toplot$mean+toplot$std, length=0.05, angle=90, code=3)\n",
    "dev.off()"
   ]
  },
  {
   "cell_type": "code",
   "execution_count": null,
   "metadata": {},
   "outputs": [],
   "source": []
  },
  {
   "cell_type": "code",
   "execution_count": null,
   "metadata": {},
   "outputs": [],
   "source": []
  },
  {
   "cell_type": "code",
   "execution_count": null,
   "metadata": {},
   "outputs": [],
   "source": []
  },
  {
   "cell_type": "code",
   "execution_count": null,
   "metadata": {},
   "outputs": [],
   "source": []
  }
 ],
 "metadata": {
  "kernelspec": {
   "display_name": "R",
   "language": "R",
   "name": "ir"
  },
  "language_info": {
   "codemirror_mode": "r",
   "file_extension": ".r",
   "mimetype": "text/x-r-source",
   "name": "R",
   "pygments_lexer": "r",
   "version": "3.5.3"
  }
 },
 "nbformat": 4,
 "nbformat_minor": 2
}
