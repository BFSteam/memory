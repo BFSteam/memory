{
 "cells": [
  {
   "cell_type": "code",
   "execution_count": 406,
   "metadata": {},
   "outputs": [],
   "source": [
    "library(data.table)\n",
    "library(ggplot2)\n",
    "library(latex2exp)\n"
   ]
  },
  {
   "cell_type": "code",
   "execution_count": 407,
   "metadata": {},
   "outputs": [],
   "source": [
    "time <- as.integer(200)"
   ]
  },
  {
   "cell_type": "code",
   "execution_count": 409,
   "metadata": {},
   "outputs": [],
   "source": [
    "N_AGENTS <- 1134"
   ]
  },
  {
   "cell_type": "code",
   "execution_count": 3,
   "metadata": {},
   "outputs": [],
   "source": [
    "N_AGENTS <- 12625"
   ]
  },
  {
   "cell_type": "code",
   "execution_count": 410,
   "metadata": {},
   "outputs": [],
   "source": [
    "mypath <- \"../../log/URV-contact-active\""
   ]
  },
  {
   "cell_type": "code",
   "execution_count": 411,
   "metadata": {},
   "outputs": [],
   "source": [
    "#mypath <- \"/home/nik/ProvaEmailcontacts2.5/ProvaEmailcontacts2.5\""
   ]
  },
  {
   "cell_type": "code",
   "execution_count": 412,
   "metadata": {},
   "outputs": [],
   "source": [
    "list.dirs <- function(path=\".\", pattern=NULL, all.dirs=FALSE,\n",
    "  full.names=FALSE, ignore.case=FALSE) {\n",
    "  # use full.names=TRUE to pass to file.info\n",
    "  all <- list.files(path, pattern, all.dirs,\n",
    "           full.names=TRUE, recursive=FALSE, ignore.case)\n",
    "  dirs <- all[file.info(all)$isdir]\n",
    "  # determine whether to return full names or just dir names\n",
    "  if(isTRUE(full.names))\n",
    "    return(dirs)\n",
    "  else\n",
    "    return(basename(dirs))\n",
    "}"
   ]
  },
  {
   "cell_type": "code",
   "execution_count": 413,
   "metadata": {},
   "outputs": [],
   "source": [
    "thepath = list.dirs(mypath)[1]"
   ]
  },
  {
   "cell_type": "code",
   "execution_count": 414,
   "metadata": {},
   "outputs": [],
   "source": [
    "filename = paste(mypath, '/', thepath, '/', 'k_core.csv', sep = \"\")"
   ]
  },
  {
   "cell_type": "code",
   "execution_count": 415,
   "metadata": {},
   "outputs": [],
   "source": [
    "DF <- read.csv(file = filename, skip=12)"
   ]
  },
  {
   "cell_type": "code",
   "execution_count": 416,
   "metadata": {},
   "outputs": [],
   "source": [
    "tempDF <- DF[DF$state =='i',]\n",
    "tempDF <- tempDF[tempDF$time == 1,]"
   ]
  },
  {
   "cell_type": "code",
   "execution_count": 417,
   "metadata": {},
   "outputs": [
    {
     "data": {
      "text/html": [
       "<table>\n",
       "<thead><tr><th></th><th scope=col>time</th><th scope=col>agent</th><th scope=col>k.core</th><th scope=col>state</th><th scope=col>degree</th></tr></thead>\n",
       "<tbody>\n",
       "\t<tr><th scope=row>1034</th><td>1   </td><td>1033</td><td>1   </td><td>i   </td><td>1   </td></tr>\n",
       "</tbody>\n",
       "</table>\n"
      ],
      "text/latex": [
       "\\begin{tabular}{r|lllll}\n",
       "  & time & agent & k.core & state & degree\\\\\n",
       "\\hline\n",
       "\t1034 & 1    & 1033 & 1    & i    & 1   \\\\\n",
       "\\end{tabular}\n"
      ],
      "text/markdown": [
       "\n",
       "| <!--/--> | time | agent | k.core | state | degree | \n",
       "|---|\n",
       "| 1034 | 1    | 1033 | 1    | i    | 1    | \n",
       "\n",
       "\n"
      ],
      "text/plain": [
       "     time agent k.core state degree\n",
       "1034 1    1033  1      i     1     "
      ]
     },
     "metadata": {},
     "output_type": "display_data"
    }
   ],
   "source": [
    "tempDF"
   ]
  },
  {
   "cell_type": "code",
   "execution_count": 418,
   "metadata": {},
   "outputs": [],
   "source": [
    "agent <- as.integer(tempDF['agent'])\n",
    "kcore <- as.integer(tempDF['k.core'])"
   ]
  },
  {
   "cell_type": "code",
   "execution_count": 419,
   "metadata": {},
   "outputs": [],
   "source": [
    "DF$'agent.init' <- agent\n",
    "DF$'k.core.init' <- kcore\n",
    "DF$'density' <- 1"
   ]
  },
  {
   "cell_type": "code",
   "execution_count": 420,
   "metadata": {
    "scrolled": true
   },
   "outputs": [],
   "source": [
    "DT <- data.table(DF)"
   ]
  },
  {
   "cell_type": "code",
   "execution_count": 421,
   "metadata": {},
   "outputs": [],
   "source": [
    "DT1 = DT[, sum(density), by=list(time, state)]"
   ]
  },
  {
   "cell_type": "code",
   "execution_count": 422,
   "metadata": {},
   "outputs": [],
   "source": [
    "names(DT1)[names(DT1)==\"V1\"] <- \"density\""
   ]
  },
  {
   "cell_type": "code",
   "execution_count": 423,
   "metadata": {},
   "outputs": [],
   "source": [
    "DT1$density <- DT1$density / N_AGENTS"
   ]
  },
  {
   "cell_type": "code",
   "execution_count": 424,
   "metadata": {},
   "outputs": [],
   "source": [
    "DT1$'agent.init' <- agent\n",
    "DT1$'k.core.init' <- kcore"
   ]
  },
  {
   "cell_type": "code",
   "execution_count": 425,
   "metadata": {},
   "outputs": [],
   "source": [
    "tempDT1 <- DT1[DT1$state == 'r']\n",
    "tempDT1 <- tempDT1[tempDT1$time == 200]\n",
    "density <- as.numeric(tempDT1[,'density'])"
   ]
  },
  {
   "cell_type": "code",
   "execution_count": 426,
   "metadata": {},
   "outputs": [
    {
     "data": {},
     "metadata": {},
     "output_type": "display_data"
    }
   ],
   "source": [
    "DT1 = DT1[DT1$state == 'r']\n",
    "DT1[,state:=NULL]"
   ]
  },
  {
   "cell_type": "markdown",
   "metadata": {},
   "source": [
    "## All datasets"
   ]
  },
  {
   "cell_type": "markdown",
   "metadata": {},
   "source": [
    "Assemble everything and do the loops"
   ]
  },
  {
   "cell_type": "code",
   "execution_count": 427,
   "metadata": {},
   "outputs": [
    {
     "name": "stdout",
     "output_type": "stream",
     "text": [
      "[1] \"../../log/URV-contact-active/2019_06_03_18_54_07/k_core.csv\"\n",
      "[1] \"../../log/URV-contact-active/2019_06_03_18_54_12/k_core.csv\"\n",
      "[1] \"../../log/URV-contact-active/2019_06_03_18_54_14/k_core.csv\"\n",
      "[1] \"../../log/URV-contact-active/2019_06_03_18_54_21/k_core.csv\"\n",
      "[1] \"../../log/URV-contact-active/2019_06_03_18_54_52/k_core.csv\"\n",
      "[1] \"../../log/URV-contact-active/2019_06_03_18_54_58/k_core.csv\"\n",
      "[1] \"../../log/URV-contact-active/2019_06_03_18_55_01/k_core.csv\"\n",
      "[1] \"../../log/URV-contact-active/2019_06_03_18_55_07/k_core.csv\"\n",
      "[1] \"../../log/URV-contact-active/2019_06_03_18_55_43/k_core.csv\"\n",
      "[1] \"../../log/URV-contact-active/2019_06_03_18_55_49/k_core.csv\"\n",
      "[1] \"../../log/URV-contact-active/2019_06_03_18_55_53/k_core.csv\"\n",
      "[1] \"../../log/URV-contact-active/2019_06_03_18_55_58/k_core.csv\"\n",
      "[1] \"../../log/URV-contact-active/2019_06_03_18_56_44/k_core.csv\"\n",
      "[1] \"../../log/URV-contact-active/2019_06_03_18_56_45/k_core.csv\"\n",
      "[1] \"../../log/URV-contact-active/2019_06_03_18_56_53/k_core.csv\"\n",
      "[1] \"../../log/URV-contact-active/2019_06_03_18_56_59/k_core.csv\"\n",
      "[1] \"../../log/URV-contact-active/2019_06_03_18_57_46/k_core.csv\"\n",
      "[1] \"../../log/URV-contact-active/2019_06_03_18_57_51/k_core.csv\"\n",
      "[1] \"../../log/URV-contact-active/2019_06_03_18_57_56/k_core.csv\"\n",
      "[1] \"../../log/URV-contact-active/2019_06_03_18_57_58/k_core.csv\"\n",
      "[1] \"../../log/URV-contact-active/2019_06_03_18_58_44/k_core.csv\"\n",
      "[1] \"../../log/URV-contact-active/2019_06_03_18_58_52/k_core.csv\"\n",
      "[1] \"../../log/URV-contact-active/2019_06_03_18_58_55/k_core.csv\"\n",
      "[1] \"../../log/URV-contact-active/2019_06_03_18_59_00/k_core.csv\"\n",
      "[1] \"../../log/URV-contact-active/2019_06_03_18_59_49/k_core.csv\"\n",
      "[1] \"../../log/URV-contact-active/2019_06_03_18_59_57/k_core.csv\"\n",
      "[1] \"../../log/URV-contact-active/2019_06_03_19_00_00/k_core.csv\"\n",
      "[1] \"../../log/URV-contact-active/2019_06_03_19_00_05/k_core.csv\"\n",
      "[1] \"../../log/URV-contact-active/2019_06_03_19_00_57/k_core.csv\"\n",
      "[1] \"../../log/URV-contact-active/2019_06_03_19_01_02/k_core.csv\"\n",
      "[1] \"../../log/URV-contact-active/2019_06_03_19_01_05/k_core.csv\"\n",
      "[1] \"../../log/URV-contact-active/2019_06_03_19_01_10/k_core.csv\"\n",
      "[1] \"../../log/URV-contact-active/2019_06_03_19_02_06/k_core.csv\"\n",
      "[1] \"../../log/URV-contact-active/2019_06_03_19_02_11/k_core.csv\"\n",
      "[1] \"../../log/URV-contact-active/2019_06_03_19_02_13/k_core.csv\"\n",
      "[1] \"../../log/URV-contact-active/2019_06_03_19_02_19/k_core.csv\"\n",
      "[1] \"../../log/URV-contact-active/2019_06_03_19_03_16/k_core.csv\"\n",
      "[1] \"../../log/URV-contact-active/2019_06_03_19_03_19/k_core.csv\"\n",
      "[1] \"../../log/URV-contact-active/2019_06_03_19_03_21/k_core.csv\"\n",
      "[1] \"../../log/URV-contact-active/2019_06_03_19_03_25/k_core.csv\"\n",
      "[1] \"../../log/URV-contact-active/2019_06_03_19_04_20/k_core.csv\"\n",
      "[1] \"../../log/URV-contact-active/2019_06_03_19_04_21/k_core.csv\"\n",
      "[1] \"../../log/URV-contact-active/2019_06_03_19_04_24/k_core.csv\"\n",
      "[1] \"../../log/URV-contact-active/2019_06_03_19_04_28/k_core.csv\"\n",
      "[1] \"../../log/URV-contact-active/2019_06_03_19_05_35/k_core.csv\"\n",
      "[1] \"../../log/URV-contact-active/2019_06_03_19_05_40/k_core.csv\"\n",
      "[1] \"../../log/URV-contact-active/2019_06_03_19_05_43/k_core.csv\"\n",
      "[1] \"../../log/URV-contact-active/2019_06_03_19_05_47/k_core.csv\"\n",
      "[1] \"../../log/URV-contact-active/2019_06_03_19_06_44/k_core.csv\"\n",
      "[1] \"../../log/URV-contact-active/2019_06_03_19_06_47/k_core.csv\"\n",
      "[1] \"../../log/URV-contact-active/2019_06_03_19_06_50/k_core.csv\"\n",
      "[1] \"../../log/URV-contact-active/2019_06_03_19_06_56/k_core.csv\"\n",
      "[1] \"../../log/URV-contact-active/2019_06_03_19_07_47/k_core.csv\"\n",
      "[1] \"../../log/URV-contact-active/2019_06_03_19_07_50/k_core.csv\"\n",
      "[1] \"../../log/URV-contact-active/2019_06_03_19_07_56/k_core.csv\"\n",
      "[1] \"../../log/URV-contact-active/2019_06_03_19_07_57/k_core.csv\"\n",
      "[1] \"../../log/URV-contact-active/2019_06_03_19_08_49/k_core.csv\"\n",
      "[1] \"../../log/URV-contact-active/2019_06_03_19_08_52/k_core.csv\"\n",
      "[1] \"../../log/URV-contact-active/2019_06_03_19_08_58/k_core.csv\"\n",
      "[1] \"../../log/URV-contact-active/2019_06_03_19_09_01/k_core.csv\"\n",
      "[1] \"../../log/URV-contact-active/2019_06_03_19_09_55/k_core.csv\"\n",
      "[1] \"../../log/URV-contact-active/2019_06_03_19_09_56/k_core.csv\"\n",
      "[1] \"../../log/URV-contact-active/2019_06_03_19_10_02/k_core.csv\"\n",
      "[1] \"../../log/URV-contact-active/2019_06_03_19_10_08/k_core.csv\"\n",
      "[1] \"../../log/URV-contact-active/2019_06_03_19_11_05/k_core.csv\"\n",
      "[1] \"../../log/URV-contact-active/2019_06_03_19_11_07/k_core.csv\"\n",
      "[1] \"../../log/URV-contact-active/2019_06_03_19_11_14/k_core.csv\"\n",
      "[1] \"../../log/URV-contact-active/2019_06_03_19_11_19/k_core.csv\"\n",
      "[1] \"../../log/URV-contact-active/2019_06_03_19_12_23/k_core.csv\"\n",
      "[1] \"../../log/URV-contact-active/2019_06_03_19_12_32/k_core.csv\"\n",
      "[1] \"../../log/URV-contact-active/2019_06_03_19_12_33/k_core.csv\"\n",
      "[1] \"../../log/URV-contact-active/2019_06_03_19_13_30/k_core.csv\"\n",
      "[1] \"../../log/URV-contact-active/2019_06_03_19_13_32/k_core.csv\"\n",
      "[1] \"../../log/URV-contact-active/2019_06_03_19_13_35/k_core.csv\"\n",
      "[1] \"../../log/URV-contact-active/2019_06_03_19_13_36/k_core.csv\"\n",
      "[1] \"../../log/URV-contact-active/2019_06_03_19_14_38/k_core.csv\"\n",
      "[1] \"../../log/URV-contact-active/2019_06_03_19_14_40/k_core.csv\"\n",
      "[1] \"../../log/URV-contact-active/2019_06_03_19_14_42/k_core.csv\"\n",
      "[1] \"../../log/URV-contact-active/2019_06_03_19_14_43/k_core.csv\"\n",
      "[1] \"../../log/URV-contact-active/2019_06_03_19_18_28/k_core.csv\"\n",
      "[1] \"../../log/URV-contact-active/2019_06_03_19_19_13/k_core.csv\"\n",
      "[1] \"../../log/URV-contact-active/2019_06_03_19_19_14/k_core.csv\"\n",
      "[1] \"../../log/URV-contact-active/2019_06_03_19_19_15/k_core.csv\"\n",
      "[1] \"../../log/URV-contact-active/2019_06_03_19_19_17/k_core.csv\"\n",
      "[1] \"../../log/URV-contact-active/2019_06_03_19_20_01/k_core.csv\"\n",
      "[1] \"../../log/URV-contact-active/2019_06_03_19_20_02/k_core.csv\"\n",
      "[1] \"../../log/URV-contact-active/2019_06_03_19_20_03/k_core.csv\"\n",
      "[1] \"../../log/URV-contact-active/2019_06_03_19_20_07/k_core.csv\"\n",
      "[1] \"../../log/URV-contact-active/2019_06_03_19_21_00/k_core.csv\"\n",
      "[1] \"../../log/URV-contact-active/2019_06_03_19_21_01/k_core.csv\"\n",
      "[1] \"../../log/URV-contact-active/2019_06_03_19_21_10/k_core.csv\"\n",
      "[1] \"../../log/URV-contact-active/2019_06_03_19_22_04/k_core.csv\"\n",
      "[1] \"../../log/URV-contact-active/2019_06_03_19_22_05/k_core.csv\"\n",
      "[1] \"../../log/URV-contact-active/2019_06_03_19_22_14/k_core.csv\"\n",
      "[1] \"../../log/URV-contact-active/2019_06_03_19_23_16/k_core.csv\"\n",
      "[1] \"../../log/URV-contact-active/2019_06_03_19_23_17/k_core.csv\"\n",
      "[1] \"../../log/URV-contact-active/2019_06_03_19_23_19/k_core.csv\"\n",
      "[1] \"../../log/URV-contact-active/2019_06_03_19_23_27/k_core.csv\"\n",
      "[1] \"../../log/URV-contact-active/2019_06_03_19_24_15/k_core.csv\"\n",
      "[1] \"../../log/URV-contact-active/2019_06_03_19_24_17/k_core.csv\"\n",
      "[1] \"../../log/URV-contact-active/2019_06_03_19_24_19/k_core.csv\"\n",
      "[1] \"../../log/URV-contact-active/2019_06_03_19_24_27/k_core.csv\"\n",
      "[1] \"../../log/URV-contact-active/2019_06_03_19_25_18/k_core.csv\"\n",
      "[1] \"../../log/URV-contact-active/2019_06_03_19_25_19/k_core.csv\"\n",
      "[1] \"../../log/URV-contact-active/2019_06_03_19_25_20/k_core.csv\"\n",
      "[1] \"../../log/URV-contact-active/2019_06_03_19_25_29/k_core.csv\"\n",
      "[1] \"../../log/URV-contact-active/2019_06_03_19_26_16/k_core.csv\"\n",
      "[1] \"../../log/URV-contact-active/2019_06_03_19_26_18/k_core.csv\"\n",
      "[1] \"../../log/URV-contact-active/2019_06_03_19_26_20/k_core.csv\"\n",
      "[1] \"../../log/URV-contact-active/2019_06_03_19_26_26/k_core.csv\"\n",
      "[1] \"../../log/URV-contact-active/2019_06_03_19_27_13/k_core.csv\"\n",
      "[1] \"../../log/URV-contact-active/2019_06_03_19_27_16/k_core.csv\"\n",
      "[1] \"../../log/URV-contact-active/2019_06_03_19_27_19/k_core.csv\"\n",
      "[1] \"../../log/URV-contact-active/2019_06_03_19_27_25/k_core.csv\"\n",
      "[1] \"../../log/URV-contact-active/2019_06_03_19_28_17/k_core.csv\"\n",
      "[1] \"../../log/URV-contact-active/2019_06_03_19_28_21/k_core.csv\"\n",
      "[1] \"../../log/URV-contact-active/2019_06_03_19_28_25/k_core.csv\"\n",
      "[1] \"../../log/URV-contact-active/2019_06_03_19_28_31/k_core.csv\"\n",
      "[1] \"../../log/URV-contact-active/2019_06_03_19_29_25/k_core.csv\"\n",
      "[1] \"../../log/URV-contact-active/2019_06_03_19_29_29/k_core.csv\"\n",
      "[1] \"../../log/URV-contact-active/2019_06_03_19_29_32/k_core.csv\"\n",
      "[1] \"../../log/URV-contact-active/2019_06_03_19_29_40/k_core.csv\"\n",
      "[1] \"../../log/URV-contact-active/2019_06_03_19_30_31/k_core.csv\"\n",
      "[1] \"../../log/URV-contact-active/2019_06_03_19_30_36/k_core.csv\"\n",
      "[1] \"../../log/URV-contact-active/2019_06_03_19_30_40/k_core.csv\"\n",
      "[1] \"../../log/URV-contact-active/2019_06_03_19_30_46/k_core.csv\"\n",
      "[1] \"../../log/URV-contact-active/2019_06_03_19_31_39/k_core.csv\"\n",
      "[1] \"../../log/URV-contact-active/2019_06_03_19_31_42/k_core.csv\"\n",
      "[1] \"../../log/URV-contact-active/2019_06_03_19_31_49/k_core.csv\"\n",
      "[1] \"../../log/URV-contact-active/2019_06_03_19_31_52/k_core.csv\"\n",
      "[1] \"../../log/URV-contact-active/2019_06_03_19_32_48/k_core.csv\"\n",
      "[1] \"../../log/URV-contact-active/2019_06_03_19_33_02/k_core.csv\"\n",
      "[1] \"../../log/URV-contact-active/2019_06_03_19_33_06/k_core.csv\"\n",
      "[1] \"../../log/URV-contact-active/2019_06_03_19_33_54/k_core.csv\"\n",
      "[1] \"../../log/URV-contact-active/2019_06_03_19_34_07/k_core.csv\"\n",
      "[1] \"../../log/URV-contact-active/2019_06_03_19_34_09/k_core.csv\"\n",
      "[1] \"../../log/URV-contact-active/2019_06_03_19_34_12/k_core.csv\"\n",
      "[1] \"../../log/URV-contact-active/2019_06_03_19_34_58/k_core.csv\"\n",
      "[1] \"../../log/URV-contact-active/2019_06_03_19_35_11/k_core.csv\"\n",
      "[1] \"../../log/URV-contact-active/2019_06_03_19_35_13/k_core.csv\"\n",
      "[1] \"../../log/URV-contact-active/2019_06_03_19_35_16/k_core.csv\"\n",
      "[1] \"../../log/URV-contact-active/2019_06_03_19_35_57/k_core.csv\"\n",
      "[1] \"../../log/URV-contact-active/2019_06_03_19_36_11/k_core.csv\"\n",
      "[1] \"../../log/URV-contact-active/2019_06_03_19_36_15/k_core.csv\"\n",
      "[1] \"../../log/URV-contact-active/2019_06_03_19_37_01/k_core.csv\"\n",
      "[1] \"../../log/URV-contact-active/2019_06_03_19_37_13/k_core.csv\"\n",
      "[1] \"../../log/URV-contact-active/2019_06_03_19_37_14/k_core.csv\"\n",
      "[1] \"../../log/URV-contact-active/2019_06_03_19_37_17/k_core.csv\"\n",
      "[1] \"../../log/URV-contact-active/2019_06_03_19_38_09/k_core.csv\"\n",
      "[1] \"../../log/URV-contact-active/2019_06_03_19_38_18/k_core.csv\"\n",
      "[1] \"../../log/URV-contact-active/2019_06_03_19_38_21/k_core.csv\"\n",
      "[1] \"../../log/URV-contact-active/2019_06_03_19_38_33/k_core.csv\"\n",
      "[1] \"../../log/URV-contact-active/2019_06_03_19_39_18/k_core.csv\"\n",
      "[1] \"../../log/URV-contact-active/2019_06_03_19_39_25/k_core.csv\"\n",
      "[1] \"../../log/URV-contact-active/2019_06_03_19_39_31/k_core.csv\"\n",
      "[1] \"../../log/URV-contact-active/2019_06_03_19_40_03/k_core.csv\"\n",
      "[1] \"../../log/URV-contact-active/2019_06_03_19_40_04/k_core.csv\"\n",
      "[1] \"../../log/URV-contact-active/2019_06_03_19_40_23/k_core.csv\"\n",
      "[1] \"../../log/URV-contact-active/2019_06_03_19_40_28/k_core.csv\"\n",
      "[1] \"../../log/URV-contact-active/2019_06_03_19_41_05/k_core.csv\"\n",
      "[1] \"../../log/URV-contact-active/2019_06_03_19_41_23/k_core.csv\"\n",
      "[1] \"../../log/URV-contact-active/2019_06_03_19_41_31/k_core.csv\"\n",
      "[1] \"../../log/URV-contact-active/2019_06_03_19_42_09/k_core.csv\"\n",
      "[1] \"../../log/URV-contact-active/2019_06_03_19_42_11/k_core.csv\"\n",
      "[1] \"../../log/URV-contact-active/2019_06_03_19_42_27/k_core.csv\"\n",
      "[1] \"../../log/URV-contact-active/2019_06_03_19_42_38/k_core.csv\"\n",
      "[1] \"../../log/URV-contact-active/2019_06_03_19_43_09/k_core.csv\"\n",
      "[1] \"../../log/URV-contact-active/2019_06_03_19_43_12/k_core.csv\"\n",
      "[1] \"../../log/URV-contact-active/2019_06_03_19_43_25/k_core.csv\"\n",
      "[1] \"../../log/URV-contact-active/2019_06_03_19_43_33/k_core.csv\"\n",
      "[1] \"../../log/URV-contact-active/2019_06_03_19_44_11/k_core.csv\"\n",
      "[1] \"../../log/URV-contact-active/2019_06_03_19_44_16/k_core.csv\"\n",
      "[1] \"../../log/URV-contact-active/2019_06_03_19_44_43/k_core.csv\"\n",
      "[1] \"../../log/URV-contact-active/2019_06_03_19_44_50/k_core.csv\"\n",
      "[1] \"../../log/URV-contact-active/2019_06_03_19_45_19/k_core.csv\"\n",
      "[1] \"../../log/URV-contact-active/2019_06_03_19_45_21/k_core.csv\"\n",
      "[1] \"../../log/URV-contact-active/2019_06_03_19_45_42/k_core.csv\"\n",
      "[1] \"../../log/URV-contact-active/2019_06_03_19_45_48/k_core.csv\"\n",
      "[1] \"../../log/URV-contact-active/2019_06_03_19_46_13/k_core.csv\"\n",
      "[1] \"../../log/URV-contact-active/2019_06_03_19_46_17/k_core.csv\"\n",
      "[1] \"../../log/URV-contact-active/2019_06_03_19_46_36/k_core.csv\"\n",
      "[1] \"../../log/URV-contact-active/2019_06_03_19_46_43/k_core.csv\"\n",
      "[1] \"../../log/URV-contact-active/2019_06_03_19_47_07/k_core.csv\"\n",
      "[1] \"../../log/URV-contact-active/2019_06_03_19_47_10/k_core.csv\"\n",
      "[1] \"../../log/URV-contact-active/2019_06_03_19_47_30/k_core.csv\"\n",
      "[1] \"../../log/URV-contact-active/2019_06_03_19_47_36/k_core.csv\"\n",
      "[1] \"../../log/URV-contact-active/2019_06_03_19_48_00/k_core.csv\"\n",
      "[1] \"../../log/URV-contact-active/2019_06_03_19_48_04/k_core.csv\"\n",
      "[1] \"../../log/URV-contact-active/2019_06_03_19_48_22/k_core.csv\"\n",
      "[1] \"../../log/URV-contact-active/2019_06_03_19_48_29/k_core.csv\"\n",
      "[1] \"../../log/URV-contact-active/2019_06_03_19_48_53/k_core.csv\"\n",
      "[1] \"../../log/URV-contact-active/2019_06_03_19_49_00/k_core.csv\"\n",
      "[1] \"../../log/URV-contact-active/2019_06_03_19_49_15/k_core.csv\"\n",
      "[1] \"../../log/URV-contact-active/2019_06_03_19_49_23/k_core.csv\"\n",
      "[1] \"../../log/URV-contact-active/2019_06_03_19_49_46/k_core.csv\"\n",
      "[1] \"../../log/URV-contact-active/2019_06_03_19_49_54/k_core.csv\"\n",
      "[1] \"../../log/URV-contact-active/2019_06_03_19_50_08/k_core.csv\"\n",
      "[1] \"../../log/URV-contact-active/2019_06_03_19_50_18/k_core.csv\"\n",
      "[1] \"../../log/URV-contact-active/2019_06_03_19_50_39/k_core.csv\"\n",
      "[1] \"../../log/URV-contact-active/2019_06_03_19_50_47/k_core.csv\"\n",
      "[1] \"../../log/URV-contact-active/2019_06_03_19_51_00/k_core.csv\"\n",
      "[1] \"../../log/URV-contact-active/2019_06_03_19_51_12/k_core.csv\"\n",
      "[1] \"../../log/URV-contact-active/2019_06_03_19_51_31/k_core.csv\"\n",
      "[1] \"../../log/URV-contact-active/2019_06_03_19_51_40/k_core.csv\"\n",
      "[1] \"../../log/URV-contact-active/2019_06_03_19_51_53/k_core.csv\"\n",
      "[1] \"../../log/URV-contact-active/2019_06_03_19_52_04/k_core.csv\"\n",
      "[1] \"../../log/URV-contact-active/2019_06_03_19_52_24/k_core.csv\"\n",
      "[1] \"../../log/URV-contact-active/2019_06_03_19_52_33/k_core.csv\"\n",
      "[1] \"../../log/URV-contact-active/2019_06_03_19_52_45/k_core.csv\"\n",
      "[1] \"../../log/URV-contact-active/2019_06_03_19_52_58/k_core.csv\"\n",
      "[1] \"../../log/URV-contact-active/2019_06_03_19_53_16/k_core.csv\"\n",
      "[1] \"../../log/URV-contact-active/2019_06_03_19_53_24/k_core.csv\"\n",
      "[1] \"../../log/URV-contact-active/2019_06_03_19_53_38/k_core.csv\"\n",
      "[1] \"../../log/URV-contact-active/2019_06_03_19_53_52/k_core.csv\"\n",
      "[1] \"../../log/URV-contact-active/2019_06_03_19_54_09/k_core.csv\"\n",
      "[1] \"../../log/URV-contact-active/2019_06_03_19_54_18/k_core.csv\"\n",
      "[1] \"../../log/URV-contact-active/2019_06_03_19_54_31/k_core.csv\"\n",
      "[1] \"../../log/URV-contact-active/2019_06_03_19_54_45/k_core.csv\"\n",
      "[1] \"../../log/URV-contact-active/2019_06_03_19_55_01/k_core.csv\"\n",
      "[1] \"../../log/URV-contact-active/2019_06_03_19_55_11/k_core.csv\"\n",
      "[1] \"../../log/URV-contact-active/2019_06_03_19_55_25/k_core.csv\"\n",
      "[1] \"../../log/URV-contact-active/2019_06_03_19_55_39/k_core.csv\"\n",
      "[1] \"../../log/URV-contact-active/2019_06_03_19_55_53/k_core.csv\"\n",
      "[1] \"../../log/URV-contact-active/2019_06_03_19_56_04/k_core.csv\"\n",
      "[1] \"../../log/URV-contact-active/2019_06_03_19_56_18/k_core.csv\"\n",
      "[1] \"../../log/URV-contact-active/2019_06_03_19_56_31/k_core.csv\"\n",
      "[1] \"../../log/URV-contact-active/2019_06_03_19_56_45/k_core.csv\"\n",
      "[1] \"../../log/URV-contact-active/2019_06_03_19_56_57/k_core.csv\"\n",
      "[1] \"../../log/URV-contact-active/2019_06_03_19_57_10/k_core.csv\"\n",
      "[1] \"../../log/URV-contact-active/2019_06_03_19_57_24/k_core.csv\"\n",
      "[1] \"../../log/URV-contact-active/2019_06_03_19_57_38/k_core.csv\"\n",
      "[1] \"../../log/URV-contact-active/2019_06_03_19_57_49/k_core.csv\"\n",
      "[1] \"../../log/URV-contact-active/2019_06_03_19_58_02/k_core.csv\"\n",
      "[1] \"../../log/URV-contact-active/2019_06_03_19_58_17/k_core.csv\"\n",
      "[1] \"../../log/URV-contact-active/2019_06_03_19_58_31/k_core.csv\"\n",
      "[1] \"../../log/URV-contact-active/2019_06_03_19_58_41/k_core.csv\"\n",
      "[1] \"../../log/URV-contact-active/2019_06_03_19_58_54/k_core.csv\"\n",
      "[1] \"../../log/URV-contact-active/2019_06_03_19_59_11/k_core.csv\"\n",
      "[1] \"../../log/URV-contact-active/2019_06_03_19_59_23/k_core.csv\"\n",
      "[1] \"../../log/URV-contact-active/2019_06_03_19_59_34/k_core.csv\"\n",
      "[1] \"../../log/URV-contact-active/2019_06_03_19_59_48/k_core.csv\"\n",
      "[1] \"../../log/URV-contact-active/2019_06_03_20_00_04/k_core.csv\"\n",
      "[1] \"../../log/URV-contact-active/2019_06_03_20_00_16/k_core.csv\"\n",
      "[1] \"../../log/URV-contact-active/2019_06_03_20_00_26/k_core.csv\"\n",
      "[1] \"../../log/URV-contact-active/2019_06_03_20_00_41/k_core.csv\"\n",
      "[1] \"../../log/URV-contact-active/2019_06_03_20_00_56/k_core.csv\"\n",
      "[1] \"../../log/URV-contact-active/2019_06_03_20_01_09/k_core.csv\"\n",
      "[1] \"../../log/URV-contact-active/2019_06_03_20_01_19/k_core.csv\"\n",
      "[1] \"../../log/URV-contact-active/2019_06_03_20_01_34/k_core.csv\"\n",
      "[1] \"../../log/URV-contact-active/2019_06_03_20_01_49/k_core.csv\"\n",
      "[1] \"../../log/URV-contact-active/2019_06_03_20_06_14/k_core.csv\"\n",
      "[1] \"../../log/URV-contact-active/2019_06_03_20_06_17/k_core.csv\"\n",
      "[1] \"../../log/URV-contact-active/2019_06_03_20_06_18/k_core.csv\"\n",
      "[1] \"../../log/URV-contact-active/2019_06_03_20_06_20/k_core.csv\"\n",
      "[1] \"../../log/URV-contact-active/2019_06_03_20_07_15/k_core.csv\"\n",
      "[1] \"../../log/URV-contact-active/2019_06_03_20_07_16/k_core.csv\"\n",
      "[1] \"../../log/URV-contact-active/2019_06_03_20_07_17/k_core.csv\"\n",
      "[1] \"../../log/URV-contact-active/2019_06_03_20_07_34/k_core.csv\"\n",
      "[1] \"../../log/URV-contact-active/2019_06_03_20_08_18/k_core.csv\"\n",
      "[1] \"../../log/URV-contact-active/2019_06_03_20_08_19/k_core.csv\"\n",
      "[1] \"../../log/URV-contact-active/2019_06_03_20_08_21/k_core.csv\"\n",
      "[1] \"../../log/URV-contact-active/2019_06_03_20_08_36/k_core.csv\"\n",
      "[1] \"../../log/URV-contact-active/2019_06_03_20_09_20/k_core.csv\"\n",
      "[1] \"../../log/URV-contact-active/2019_06_03_20_09_23/k_core.csv\"\n",
      "[1] \"../../log/URV-contact-active/2019_06_03_20_09_36/k_core.csv\"\n",
      "[1] \"../../log/URV-contact-active/2019_06_03_20_10_21/k_core.csv\"\n",
      "[1] \"../../log/URV-contact-active/2019_06_03_20_10_24/k_core.csv\"\n",
      "[1] \"../../log/URV-contact-active/2019_06_03_20_10_37/k_core.csv\"\n",
      "[1] \"../../log/URV-contact-active/2019_06_03_20_11_19/k_core.csv\"\n",
      "[1] \"../../log/URV-contact-active/2019_06_03_20_11_23/k_core.csv\"\n",
      "[1] \"../../log/URV-contact-active/2019_06_03_20_11_38/k_core.csv\"\n",
      "[1] \"../../log/URV-contact-active/2019_06_03_20_12_19/k_core.csv\"\n",
      "[1] \"../../log/URV-contact-active/2019_06_03_20_12_23/k_core.csv\"\n",
      "[1] \"../../log/URV-contact-active/2019_06_03_20_12_36/k_core.csv\"\n",
      "[1] \"../../log/URV-contact-active/2019_06_03_20_13_12/k_core.csv\"\n",
      "[1] \"../../log/URV-contact-active/2019_06_03_20_13_14/k_core.csv\"\n",
      "[1] \"../../log/URV-contact-active/2019_06_03_20_13_16/k_core.csv\"\n",
      "[1] \"../../log/URV-contact-active/2019_06_03_20_13_28/k_core.csv\"\n",
      "[1] \"../../log/URV-contact-active/2019_06_03_20_14_05/k_core.csv\"\n",
      "[1] \"../../log/URV-contact-active/2019_06_03_20_14_06/k_core.csv\"\n",
      "[1] \"../../log/URV-contact-active/2019_06_03_20_14_09/k_core.csv\"\n",
      "[1] \"../../log/URV-contact-active/2019_06_03_20_14_22/k_core.csv\"\n",
      "[1] \"../../log/URV-contact-active/2019_06_03_20_15_12/k_core.csv\"\n",
      "[1] \"../../log/URV-contact-active/2019_06_03_20_15_15/k_core.csv\"\n",
      "[1] \"../../log/URV-contact-active/2019_06_03_20_15_21/k_core.csv\"\n",
      "[1] \"../../log/URV-contact-active/2019_06_03_20_15_37/k_core.csv\"\n",
      "[1] \"../../log/URV-contact-active/2019_06_03_20_16_25/k_core.csv\"\n",
      "[1] \"../../log/URV-contact-active/2019_06_03_20_16_26/k_core.csv\"\n",
      "[1] \"../../log/URV-contact-active/2019_06_03_20_16_33/k_core.csv\"\n",
      "[1] \"../../log/URV-contact-active/2019_06_03_20_16_45/k_core.csv\"\n",
      "[1] \"../../log/URV-contact-active/2019_06_03_20_17_27/k_core.csv\"\n",
      "[1] \"../../log/URV-contact-active/2019_06_03_20_17_30/k_core.csv\"\n",
      "[1] \"../../log/URV-contact-active/2019_06_03_20_17_34/k_core.csv\"\n",
      "[1] \"../../log/URV-contact-active/2019_06_03_20_17_48/k_core.csv\"\n",
      "[1] \"../../log/URV-contact-active/2019_06_03_20_18_28/k_core.csv\"\n",
      "[1] \"../../log/URV-contact-active/2019_06_03_20_18_31/k_core.csv\"\n",
      "[1] \"../../log/URV-contact-active/2019_06_03_20_18_34/k_core.csv\"\n",
      "[1] \"../../log/URV-contact-active/2019_06_03_20_18_46/k_core.csv\"\n",
      "[1] \"../../log/URV-contact-active/2019_06_03_20_19_28/k_core.csv\"\n",
      "[1] \"../../log/URV-contact-active/2019_06_03_20_19_32/k_core.csv\"\n",
      "[1] \"../../log/URV-contact-active/2019_06_03_20_19_35/k_core.csv\"\n",
      "[1] \"../../log/URV-contact-active/2019_06_03_20_19_48/k_core.csv\"\n",
      "[1] \"../../log/URV-contact-active/2019_06_03_20_20_28/k_core.csv\"\n",
      "[1] \"../../log/URV-contact-active/2019_06_03_20_20_32/k_core.csv\"\n",
      "[1] \"../../log/URV-contact-active/2019_06_03_20_20_36/k_core.csv\"\n",
      "[1] \"../../log/URV-contact-active/2019_06_03_20_20_48/k_core.csv\"\n",
      "[1] \"../../log/URV-contact-active/2019_06_03_20_21_25/k_core.csv\"\n",
      "[1] \"../../log/URV-contact-active/2019_06_03_20_21_30/k_core.csv\"\n",
      "[1] \"../../log/URV-contact-active/2019_06_03_20_21_32/k_core.csv\"\n",
      "[1] \"../../log/URV-contact-active/2019_06_03_20_21_46/k_core.csv\"\n",
      "[1] \"../../log/URV-contact-active/2019_06_03_20_22_26/k_core.csv\"\n",
      "[1] \"../../log/URV-contact-active/2019_06_03_20_22_31/k_core.csv\"\n",
      "[1] \"../../log/URV-contact-active/2019_06_03_20_22_34/k_core.csv\"\n",
      "[1] \"../../log/URV-contact-active/2019_06_03_20_22_49/k_core.csv\"\n",
      "[1] \"../../log/URV-contact-active/2019_06_03_20_23_29/k_core.csv\"\n",
      "[1] \"../../log/URV-contact-active/2019_06_03_20_23_30/k_core.csv\"\n",
      "[1] \"../../log/URV-contact-active/2019_06_03_20_23_34/k_core.csv\"\n",
      "[1] \"../../log/URV-contact-active/2019_06_03_20_23_49/k_core.csv\"\n",
      "[1] \"../../log/URV-contact-active/2019_06_03_20_24_30/k_core.csv\"\n",
      "[1] \"../../log/URV-contact-active/2019_06_03_20_24_34/k_core.csv\"\n",
      "[1] \"../../log/URV-contact-active/2019_06_03_20_24_50/k_core.csv\"\n",
      "[1] \"../../log/URV-contact-active/2019_06_03_20_25_32/k_core.csv\"\n",
      "[1] \"../../log/URV-contact-active/2019_06_03_20_25_34/k_core.csv\"\n",
      "[1] \"../../log/URV-contact-active/2019_06_03_20_25_50/k_core.csv\"\n",
      "[1] \"../../log/URV-contact-active/2019_06_03_20_26_30/k_core.csv\"\n",
      "[1] \"../../log/URV-contact-active/2019_06_03_20_26_46/k_core.csv\"\n",
      "[1] \"../../log/URV-contact-active/2019_06_03_20_27_30/k_core.csv\"\n",
      "[1] \"../../log/URV-contact-active/2019_06_03_20_27_43/k_core.csv\"\n",
      "[1] \"../../log/URV-contact-active/2019_06_03_20_28_38/k_core.csv\"\n",
      "[1] \"../../log/URV-contact-active/2019_06_03_20_28_46/k_core.csv\"\n",
      "[1] \"../../log/URV-contact-active/2019_06_03_20_28_49/k_core.csv\"\n",
      "[1] \"../../log/URV-contact-active/2019_06_03_20_28_52/k_core.csv\"\n",
      "[1] \"../../log/URV-contact-active/2019_06_03_20_30_10/k_core.csv\"\n",
      "[1] \"../../log/URV-contact-active/2019_06_03_20_30_15/k_core.csv\"\n",
      "[1] \"../../log/URV-contact-active/2019_06_03_20_30_19/k_core.csv\"\n",
      "[1] \"../../log/URV-contact-active/2019_06_03_20_31_20/k_core.csv\"\n",
      "[1] \"../../log/URV-contact-active/2019_06_03_20_31_22/k_core.csv\"\n",
      "[1] \"../../log/URV-contact-active/2019_06_03_20_31_27/k_core.csv\"\n",
      "[1] \"../../log/URV-contact-active/2019_06_03_20_32_27/k_core.csv\"\n",
      "[1] \"../../log/URV-contact-active/2019_06_03_20_32_29/k_core.csv\"\n",
      "[1] \"../../log/URV-contact-active/2019_06_03_20_32_35/k_core.csv\"\n",
      "[1] \"../../log/URV-contact-active/2019_06_03_20_33_38/k_core.csv\"\n",
      "[1] \"../../log/URV-contact-active/2019_06_03_20_33_39/k_core.csv\"\n",
      "[1] \"../../log/URV-contact-active/2019_06_03_20_33_40/k_core.csv\"\n",
      "[1] \"../../log/URV-contact-active/2019_06_03_20_33_46/k_core.csv\"\n",
      "[1] \"../../log/URV-contact-active/2019_06_03_20_34_49/k_core.csv\"\n",
      "[1] \"../../log/URV-contact-active/2019_06_03_20_34_51/k_core.csv\"\n",
      "[1] \"../../log/URV-contact-active/2019_06_03_20_34_57/k_core.csv\"\n",
      "[1] \"../../log/URV-contact-active/2019_06_03_20_35_55/k_core.csv\"\n",
      "[1] \"../../log/URV-contact-active/2019_06_03_20_35_59/k_core.csv\"\n",
      "[1] \"../../log/URV-contact-active/2019_06_03_20_36_56/k_core.csv\"\n",
      "[1] \"../../log/URV-contact-active/2019_06_03_20_36_57/k_core.csv\"\n",
      "[1] \"../../log/URV-contact-active/2019_06_03_20_37_06/k_core.csv\"\n",
      "[1] \"../../log/URV-contact-active/2019_06_03_20_38_02/k_core.csv\"\n",
      "[1] \"../../log/URV-contact-active/2019_06_03_20_38_03/k_core.csv\"\n",
      "[1] \"../../log/URV-contact-active/2019_06_03_20_38_12/k_core.csv\"\n",
      "[1] \"../../log/URV-contact-active/2019_06_03_20_39_16/k_core.csv\"\n",
      "[1] \"../../log/URV-contact-active/2019_06_03_20_39_19/k_core.csv\"\n",
      "[1] \"../../log/URV-contact-active/2019_06_03_20_39_20/k_core.csv\"\n",
      "[1] \"../../log/URV-contact-active/2019_06_03_20_39_26/k_core.csv\"\n",
      "[1] \"../../log/URV-contact-active/2019_06_03_20_40_27/k_core.csv\"\n",
      "[1] \"../../log/URV-contact-active/2019_06_03_20_40_29/k_core.csv\"\n",
      "[1] \"../../log/URV-contact-active/2019_06_03_20_40_31/k_core.csv\"\n",
      "[1] \"../../log/URV-contact-active/2019_06_03_20_40_35/k_core.csv\"\n",
      "[1] \"../../log/URV-contact-active/2019_06_03_20_41_36/k_core.csv\"\n",
      "[1] \"../../log/URV-contact-active/2019_06_03_20_41_39/k_core.csv\"\n",
      "[1] \"../../log/URV-contact-active/2019_06_03_20_41_48/k_core.csv\"\n",
      "[1] \"../../log/URV-contact-active/2019_06_03_20_43_06/k_core.csv\"\n",
      "[1] \"../../log/URV-contact-active/2019_06_03_20_43_12/k_core.csv\"\n",
      "[1] \"../../log/URV-contact-active/2019_06_03_20_43_19/k_core.csv\"\n",
      "[1] \"../../log/URV-contact-active/2019_06_03_20_43_21/k_core.csv\"\n",
      "[1] \"../../log/URV-contact-active/2019_06_03_20_44_47/k_core.csv\"\n",
      "[1] \"../../log/URV-contact-active/2019_06_03_20_44_53/k_core.csv\"\n",
      "[1] \"../../log/URV-contact-active/2019_06_03_20_44_59/k_core.csv\"\n",
      "[1] \"../../log/URV-contact-active/2019_06_03_20_45_01/k_core.csv\"\n",
      "[1] \"../../log/URV-contact-active/2019_06_03_20_46_08/k_core.csv\"\n",
      "[1] \"../../log/URV-contact-active/2019_06_03_20_46_14/k_core.csv\"\n",
      "[1] \"../../log/URV-contact-active/2019_06_03_20_46_15/k_core.csv\"\n",
      "[1] \"../../log/URV-contact-active/2019_06_03_20_46_22/k_core.csv\"\n",
      "[1] \"../../log/URV-contact-active/2019_06_03_20_47_32/k_core.csv\"\n",
      "[1] \"../../log/URV-contact-active/2019_06_03_20_47_34/k_core.csv\"\n",
      "[1] \"../../log/URV-contact-active/2019_06_03_20_47_35/k_core.csv\"\n",
      "[1] \"../../log/URV-contact-active/2019_06_03_20_47_46/k_core.csv\"\n",
      "[1] \"../../log/URV-contact-active/2019_06_03_20_48_52/k_core.csv\"\n",
      "[1] \"../../log/URV-contact-active/2019_06_03_20_48_53/k_core.csv\"\n",
      "[1] \"../../log/URV-contact-active/2019_06_03_20_48_55/k_core.csv\"\n",
      "[1] \"../../log/URV-contact-active/2019_06_03_20_49_03/k_core.csv\"\n",
      "[1] \"../../log/URV-contact-active/2019_06_03_20_50_15/k_core.csv\"\n",
      "[1] \"../../log/URV-contact-active/2019_06_03_20_50_17/k_core.csv\"\n",
      "[1] \"../../log/URV-contact-active/2019_06_03_20_50_19/k_core.csv\"\n",
      "[1] \"../../log/URV-contact-active/2019_06_03_20_50_27/k_core.csv\"\n",
      "[1] \"../../log/URV-contact-active/2019_06_03_20_51_38/k_core.csv\"\n",
      "[1] \"../../log/URV-contact-active/2019_06_03_20_51_39/k_core.csv\"\n",
      "[1] \"../../log/URV-contact-active/2019_06_03_20_51_40/k_core.csv\"\n",
      "[1] \"../../log/URV-contact-active/2019_06_03_20_51_47/k_core.csv\"\n",
      "[1] \"../../log/URV-contact-active/2019_06_03_20_53_01/k_core.csv\"\n",
      "[1] \"../../log/URV-contact-active/2019_06_03_20_53_02/k_core.csv\"\n",
      "[1] \"../../log/URV-contact-active/2019_06_03_20_53_11/k_core.csv\"\n",
      "[1] \"../../log/URV-contact-active/2019_06_03_20_54_26/k_core.csv\"\n",
      "[1] \"../../log/URV-contact-active/2019_06_03_20_54_29/k_core.csv\"\n",
      "[1] \"../../log/URV-contact-active/2019_06_03_20_54_37/k_core.csv\"\n",
      "[1] \"../../log/URV-contact-active/2019_06_03_20_55_57/k_core.csv\"\n",
      "[1] \"../../log/URV-contact-active/2019_06_03_20_56_09/k_core.csv\"\n",
      "[1] \"../../log/URV-contact-active/2019_06_03_20_57_27/k_core.csv\"\n",
      "[1] \"../../log/URV-contact-active/2019_06_03_20_57_28/k_core.csv\"\n",
      "[1] \"../../log/URV-contact-active/2019_06_03_20_57_29/k_core.csv\"\n",
      "[1] \"../../log/URV-contact-active/2019_06_03_20_57_37/k_core.csv\"\n",
      "[1] \"../../log/URV-contact-active/2019_06_03_20_58_47/k_core.csv\"\n",
      "[1] \"../../log/URV-contact-active/2019_06_03_20_58_48/k_core.csv\"\n",
      "[1] \"../../log/URV-contact-active/2019_06_03_20_58_50/k_core.csv\"\n",
      "[1] \"../../log/URV-contact-active/2019_06_03_20_58_52/k_core.csv\"\n",
      "[1] \"../../log/URV-contact-active/2019_06_03_21_00_00/k_core.csv\"\n",
      "[1] \"../../log/URV-contact-active/2019_06_03_21_00_03/k_core.csv\"\n",
      "[1] \"../../log/URV-contact-active/2019_06_03_21_01_13/k_core.csv\"\n",
      "[1] \"../../log/URV-contact-active/2019_06_03_21_02_28/k_core.csv\"\n",
      "[1] \"../../log/URV-contact-active/2019_06_03_21_02_29/k_core.csv\"\n",
      "[1] \"../../log/URV-contact-active/2019_06_03_21_02_31/k_core.csv\"\n",
      "[1] \"../../log/URV-contact-active/2019_06_03_21_02_32/k_core.csv\"\n",
      "[1] \"../../log/URV-contact-active/2019_06_03_21_04_01/k_core.csv\"\n",
      "[1] \"../../log/URV-contact-active/2019_06_03_21_04_02/k_core.csv\"\n",
      "[1] \"../../log/URV-contact-active/2019_06_03_21_04_04/k_core.csv\"\n",
      "[1] \"../../log/URV-contact-active/2019_06_03_21_05_25/k_core.csv\"\n",
      "[1] \"../../log/URV-contact-active/2019_06_03_21_05_26/k_core.csv\"\n",
      "[1] \"../../log/URV-contact-active/2019_06_03_21_06_28/k_core.csv\"\n",
      "[1] \"../../log/URV-contact-active/2019_06_03_21_06_29/k_core.csv\"\n",
      "[1] \"../../log/URV-contact-active/2019_06_03_21_06_30/k_core.csv\"\n",
      "[1] \"../../log/URV-contact-active/2019_06_03_21_07_37/k_core.csv\"\n",
      "[1] \"../../log/URV-contact-active/2019_06_03_21_07_38/k_core.csv\"\n",
      "[1] \"../../log/URV-contact-active/2019_06_03_21_08_43/k_core.csv\"\n",
      "[1] \"../../log/URV-contact-active/2019_06_03_21_08_44/k_core.csv\"\n",
      "[1] \"../../log/URV-contact-active/2019_06_03_21_08_45/k_core.csv\"\n",
      "[1] \"../../log/URV-contact-active/2019_06_03_21_08_46/k_core.csv\"\n",
      "[1] \"../../log/URV-contact-active/2019_06_03_21_09_44/k_core.csv\"\n",
      "[1] \"../../log/URV-contact-active/2019_06_03_21_09_45/k_core.csv\"\n",
      "[1] \"../../log/URV-contact-active/2019_06_03_21_09_55/k_core.csv\"\n",
      "[1] \"../../log/URV-contact-active/2019_06_03_21_10_03/k_core.csv\"\n",
      "[1] \"../../log/URV-contact-active/2019_06_03_21_10_48/k_core.csv\"\n",
      "[1] \"../../log/URV-contact-active/2019_06_03_21_10_53/k_core.csv\"\n",
      "[1] \"../../log/URV-contact-active/2019_06_03_21_10_55/k_core.csv\"\n",
      "[1] \"../../log/URV-contact-active/2019_06_03_21_11_05/k_core.csv\"\n",
      "[1] \"../../log/URV-contact-active/2019_06_03_21_12_03/k_core.csv\"\n",
      "[1] \"../../log/URV-contact-active/2019_06_03_21_12_07/k_core.csv\"\n",
      "[1] \"../../log/URV-contact-active/2019_06_03_21_12_12/k_core.csv\"\n",
      "[1] \"../../log/URV-contact-active/2019_06_03_21_12_19/k_core.csv\"\n",
      "[1] \"../../log/URV-contact-active/2019_06_03_21_13_11/k_core.csv\"\n",
      "[1] \"../../log/URV-contact-active/2019_06_03_21_13_13/k_core.csv\"\n",
      "[1] \"../../log/URV-contact-active/2019_06_03_21_13_19/k_core.csv\"\n",
      "[1] \"../../log/URV-contact-active/2019_06_03_21_13_25/k_core.csv\"\n",
      "[1] \"../../log/URV-contact-active/2019_06_03_21_14_17/k_core.csv\"\n",
      "[1] \"../../log/URV-contact-active/2019_06_03_21_14_27/k_core.csv\"\n",
      "[1] \"../../log/URV-contact-active/2019_06_03_21_14_31/k_core.csv\"\n",
      "[1] \"../../log/URV-contact-active/2019_06_03_21_15_21/k_core.csv\"\n",
      "[1] \"../../log/URV-contact-active/2019_06_03_21_15_24/k_core.csv\"\n",
      "[1] \"../../log/URV-contact-active/2019_06_03_21_15_33/k_core.csv\"\n",
      "[1] \"../../log/URV-contact-active/2019_06_03_21_15_36/k_core.csv\"\n",
      "[1] \"../../log/URV-contact-active/2019_06_03_21_16_23/k_core.csv\"\n",
      "[1] \"../../log/URV-contact-active/2019_06_03_21_16_25/k_core.csv\"\n",
      "[1] \"../../log/URV-contact-active/2019_06_03_21_16_35/k_core.csv\"\n",
      "[1] \"../../log/URV-contact-active/2019_06_03_21_16_38/k_core.csv\"\n",
      "[1] \"../../log/URV-contact-active/2019_06_03_21_17_26/k_core.csv\"\n",
      "[1] \"../../log/URV-contact-active/2019_06_03_21_17_27/k_core.csv\"\n",
      "[1] \"../../log/URV-contact-active/2019_06_03_21_17_38/k_core.csv\"\n",
      "[1] \"../../log/URV-contact-active/2019_06_03_21_17_41/k_core.csv\"\n",
      "[1] \"../../log/URV-contact-active/2019_06_03_21_18_27/k_core.csv\"\n",
      "[1] \"../../log/URV-contact-active/2019_06_03_21_18_29/k_core.csv\"\n",
      "[1] \"../../log/URV-contact-active/2019_06_03_21_18_39/k_core.csv\"\n",
      "[1] \"../../log/URV-contact-active/2019_06_03_21_18_43/k_core.csv\"\n",
      "[1] \"../../log/URV-contact-active/2019_06_03_21_19_29/k_core.csv\"\n",
      "[1] \"../../log/URV-contact-active/2019_06_03_21_19_32/k_core.csv\"\n",
      "[1] \"../../log/URV-contact-active/2019_06_03_21_19_41/k_core.csv\"\n",
      "[1] \"../../log/URV-contact-active/2019_06_03_21_19_46/k_core.csv\"\n",
      "[1] \"../../log/URV-contact-active/2019_06_03_21_20_33/k_core.csv\"\n",
      "[1] \"../../log/URV-contact-active/2019_06_03_21_20_35/k_core.csv\"\n",
      "[1] \"../../log/URV-contact-active/2019_06_03_21_20_44/k_core.csv\"\n",
      "[1] \"../../log/URV-contact-active/2019_06_03_21_20_50/k_core.csv\"\n",
      "[1] \"../../log/URV-contact-active/2019_06_03_21_21_39/k_core.csv\"\n",
      "[1] \"../../log/URV-contact-active/2019_06_03_21_21_40/k_core.csv\"\n",
      "[1] \"../../log/URV-contact-active/2019_06_03_21_21_51/k_core.csv\"\n",
      "[1] \"../../log/URV-contact-active/2019_06_03_21_21_56/k_core.csv\"\n",
      "[1] \"../../log/URV-contact-active/2019_06_03_21_22_56/k_core.csv\"\n",
      "[1] \"../../log/URV-contact-active/2019_06_03_21_22_58/k_core.csv\"\n",
      "[1] \"../../log/URV-contact-active/2019_06_03_21_23_09/k_core.csv\"\n",
      "[1] \"../../log/URV-contact-active/2019_06_03_21_23_12/k_core.csv\"\n",
      "[1] \"../../log/URV-contact-active/2019_06_03_21_24_11/k_core.csv\"\n",
      "[1] \"../../log/URV-contact-active/2019_06_03_21_24_23/k_core.csv\"\n",
      "[1] \"../../log/URV-contact-active/2019_06_03_21_24_26/k_core.csv\"\n",
      "[1] \"../../log/URV-contact-active/2019_06_03_21_25_23/k_core.csv\"\n",
      "[1] \"../../log/URV-contact-active/2019_06_03_21_25_31/k_core.csv\"\n",
      "[1] \"../../log/URV-contact-active/2019_06_03_21_25_33/k_core.csv\"\n",
      "[1] \"../../log/URV-contact-active/2019_06_03_21_25_37/k_core.csv\"\n",
      "[1] \"../../log/URV-contact-active/2019_06_03_21_26_22/k_core.csv\"\n",
      "[1] \"../../log/URV-contact-active/2019_06_03_21_26_30/k_core.csv\"\n",
      "[1] \"../../log/URV-contact-active/2019_06_03_21_26_31/k_core.csv\"\n",
      "[1] \"../../log/URV-contact-active/2019_06_03_21_26_36/k_core.csv\"\n",
      "[1] \"../../log/URV-contact-active/2019_06_03_21_27_23/k_core.csv\"\n",
      "[1] \"../../log/URV-contact-active/2019_06_03_21_27_29/k_core.csv\"\n",
      "[1] \"../../log/URV-contact-active/2019_06_03_21_27_31/k_core.csv\"\n",
      "[1] \"../../log/URV-contact-active/2019_06_03_21_27_35/k_core.csv\"\n",
      "[1] \"../../log/URV-contact-active/2019_06_03_21_28_24/k_core.csv\"\n",
      "[1] \"../../log/URV-contact-active/2019_06_03_21_28_31/k_core.csv\"\n",
      "[1] \"../../log/URV-contact-active/2019_06_03_21_28_32/k_core.csv\"\n",
      "[1] \"../../log/URV-contact-active/2019_06_03_21_28_36/k_core.csv\"\n",
      "[1] \"../../log/URV-contact-active/2019_06_03_21_29_27/k_core.csv\"\n",
      "[1] \"../../log/URV-contact-active/2019_06_03_21_29_31/k_core.csv\"\n",
      "[1] \"../../log/URV-contact-active/2019_06_03_21_29_32/k_core.csv\"\n",
      "[1] \"../../log/URV-contact-active/2019_06_03_21_29_36/k_core.csv\"\n",
      "[1] \"../../log/URV-contact-active/2019_06_03_21_30_28/k_core.csv\"\n",
      "[1] \"../../log/URV-contact-active/2019_06_03_21_30_29/k_core.csv\"\n",
      "[1] \"../../log/URV-contact-active/2019_06_03_21_30_32/k_core.csv\"\n",
      "[1] \"../../log/URV-contact-active/2019_06_03_21_31_23/k_core.csv\"\n",
      "[1] \"../../log/URV-contact-active/2019_06_03_21_31_26/k_core.csv\"\n",
      "[1] \"../../log/URV-contact-active/2019_06_03_21_32_16/k_core.csv\"\n",
      "[1] \"../../log/URV-contact-active/2019_06_03_21_32_17/k_core.csv\"\n",
      "[1] \"../../log/URV-contact-active/2019_06_03_21_32_30/k_core.csv\"\n",
      "[1] \"../../log/URV-contact-active/2019_06_03_21_33_05/k_core.csv\"\n",
      "[1] \"../../log/URV-contact-active/2019_06_03_21_33_08/k_core.csv\"\n",
      "[1] \"../../log/URV-contact-active/2019_06_03_21_33_10/k_core.csv\"\n",
      "[1] \"../../log/URV-contact-active/2019_06_03_21_33_22/k_core.csv\"\n",
      "[1] \"../../log/URV-contact-active/2019_06_03_21_33_57/k_core.csv\"\n",
      "[1] \"../../log/URV-contact-active/2019_06_03_21_34_00/k_core.csv\"\n",
      "[1] \"../../log/URV-contact-active/2019_06_03_21_34_03/k_core.csv\"\n",
      "[1] \"../../log/URV-contact-active/2019_06_03_21_34_15/k_core.csv\"\n",
      "[1] \"../../log/URV-contact-active/2019_06_03_21_34_50/k_core.csv\"\n",
      "[1] \"../../log/URV-contact-active/2019_06_03_21_34_52/k_core.csv\"\n",
      "[1] \"../../log/URV-contact-active/2019_06_03_21_34_56/k_core.csv\"\n",
      "[1] \"../../log/URV-contact-active/2019_06_03_21_35_08/k_core.csv\"\n",
      "[1] \"../../log/URV-contact-active/2019_06_03_21_35_44/k_core.csv\"\n",
      "[1] \"../../log/URV-contact-active/2019_06_03_21_35_47/k_core.csv\"\n",
      "[1] \"../../log/URV-contact-active/2019_06_03_21_35_48/k_core.csv\"\n",
      "[1] \"../../log/URV-contact-active/2019_06_03_21_36_01/k_core.csv\"\n",
      "[1] \"../../log/URV-contact-active/2019_06_03_21_36_39/k_core.csv\"\n",
      "[1] \"../../log/URV-contact-active/2019_06_03_21_36_54/k_core.csv\"\n",
      "[1] \"../../log/URV-contact-active/2019_06_03_21_37_33/k_core.csv\"\n",
      "[1] \"../../log/URV-contact-active/2019_06_03_21_37_34/k_core.csv\"\n",
      "[1] \"../../log/URV-contact-active/2019_06_03_21_37_47/k_core.csv\"\n",
      "[1] \"../../log/URV-contact-active/2019_06_03_21_38_27/k_core.csv\"\n",
      "[1] \"../../log/URV-contact-active/2019_06_03_21_39_03/k_core.csv\"\n",
      "[1] \"../../log/URV-contact-active/2019_06_03_21_39_26/k_core.csv\"\n",
      "[1] \"../../log/URV-contact-active/2019_06_03_21_39_27/k_core.csv\"\n",
      "[1] \"../../log/URV-contact-active/2019_06_03_21_39_56/k_core.csv\"\n",
      "[1] \"../../log/URV-contact-active/2019_06_03_21_40_19/k_core.csv\"\n",
      "[1] \"../../log/URV-contact-active/2019_06_03_21_40_48/k_core.csv\"\n",
      "[1] \"../../log/URV-contact-active/2019_06_03_21_41_14/k_core.csv\"\n",
      "[1] \"../../log/URV-contact-active/2019_06_03_21_41_18/k_core.csv\"\n",
      "[1] \"../../log/URV-contact-active/2019_06_03_21_41_53/k_core.csv\"\n",
      "[1] \"../../log/URV-contact-active/2019_06_03_21_42_28/k_core.csv\"\n",
      "[1] \"../../log/URV-contact-active/2019_06_03_21_43_11/k_core.csv\"\n",
      "[1] \"../../log/URV-contact-active/2019_06_03_21_43_42/k_core.csv\"\n",
      "[1] \"../../log/URV-contact-active/2019_06_03_21_43_48/k_core.csv\"\n",
      "[1] \"../../log/URV-contact-active/2019_06_03_21_44_26/k_core.csv\"\n",
      "[1] \"../../log/URV-contact-active/2019_06_03_21_44_55/k_core.csv\"\n",
      "[1] \"../../log/URV-contact-active/2019_06_03_21_44_57/k_core.csv\"\n",
      "[1] \"../../log/URV-contact-active/2019_06_03_21_45_00/k_core.csv\"\n",
      "[1] \"../../log/URV-contact-active/2019_06_03_21_45_36/k_core.csv\"\n",
      "[1] \"../../log/URV-contact-active/2019_06_03_21_45_56/k_core.csv\"\n",
      "[1] \"../../log/URV-contact-active/2019_06_03_21_45_58/k_core.csv\"\n",
      "[1] \"../../log/URV-contact-active/2019_06_03_21_46_01/k_core.csv\"\n",
      "[1] \"../../log/URV-contact-active/2019_06_03_21_46_31/k_core.csv\"\n",
      "[1] \"../../log/URV-contact-active/2019_06_03_21_46_50/k_core.csv\"\n",
      "[1] \"../../log/URV-contact-active/2019_06_03_21_46_52/k_core.csv\"\n",
      "[1] \"../../log/URV-contact-active/2019_06_03_21_46_54/k_core.csv\"\n",
      "[1] \"../../log/URV-contact-active/2019_06_03_21_47_27/k_core.csv\"\n",
      "[1] \"../../log/URV-contact-active/2019_06_03_21_47_42/k_core.csv\"\n",
      "[1] \"../../log/URV-contact-active/2019_06_03_21_47_45/k_core.csv\"\n",
      "[1] \"../../log/URV-contact-active/2019_06_03_21_47_48/k_core.csv\"\n",
      "[1] \"../../log/URV-contact-active/2019_06_03_21_48_22/k_core.csv\"\n",
      "[1] \"../../log/URV-contact-active/2019_06_03_21_48_36/k_core.csv\"\n",
      "[1] \"../../log/URV-contact-active/2019_06_03_21_48_38/k_core.csv\"\n",
      "[1] \"../../log/URV-contact-active/2019_06_03_21_48_41/k_core.csv\"\n",
      "[1] \"../../log/URV-contact-active/2019_06_03_21_49_17/k_core.csv\"\n",
      "[1] \"../../log/URV-contact-active/2019_06_03_21_49_31/k_core.csv\"\n",
      "[1] \"../../log/URV-contact-active/2019_06_03_21_49_56/k_core.csv\"\n",
      "[1] \"../../log/URV-contact-active/2019_06_03_21_50_07/k_core.csv\"\n",
      "[1] \"../../log/URV-contact-active/2019_06_03_21_50_51/k_core.csv\"\n",
      "[1] \"../../log/URV-contact-active/2019_06_03_21_50_52/k_core.csv\"\n",
      "[1] \"../../log/URV-contact-active/2019_06_03_21_50_54/k_core.csv\"\n",
      "[1] \"../../log/URV-contact-active/2019_06_03_21_50_55/k_core.csv\"\n",
      "[1] \"../../log/URV-contact-active/2019_06_03_21_51_44/k_core.csv\"\n",
      "[1] \"../../log/URV-contact-active/2019_06_03_21_51_45/k_core.csv\"\n",
      "[1] \"../../log/URV-contact-active/2019_06_03_21_51_48/k_core.csv\"\n",
      "[1] \"../../log/URV-contact-active/2019_06_03_21_52_47/k_core.csv\"\n",
      "[1] \"../../log/URV-contact-active/2019_06_03_21_52_48/k_core.csv\"\n",
      "[1] \"../../log/URV-contact-active/2019_06_03_21_52_52/k_core.csv\"\n",
      "[1] \"../../log/URV-contact-active/2019_06_03_21_52_53/k_core.csv\"\n",
      "[1] \"../../log/URV-contact-active/2019_06_03_21_53_56/k_core.csv\"\n",
      "[1] \"../../log/URV-contact-active/2019_06_03_21_54_01/k_core.csv\"\n",
      "[1] \"../../log/URV-contact-active/2019_06_03_21_54_11/k_core.csv\"\n",
      "[1] \"../../log/URV-contact-active/2019_06_03_21_55_03/k_core.csv\"\n",
      "[1] \"../../log/URV-contact-active/2019_06_03_21_55_07/k_core.csv\"\n",
      "[1] \"../../log/URV-contact-active/2019_06_03_21_55_08/k_core.csv\"\n",
      "[1] \"../../log/URV-contact-active/2019_06_03_21_55_21/k_core.csv\"\n",
      "[1] \"../../log/URV-contact-active/2019_06_03_21_56_08/k_core.csv\"\n",
      "[1] \"../../log/URV-contact-active/2019_06_03_21_56_09/k_core.csv\"\n",
      "[1] \"../../log/URV-contact-active/2019_06_03_21_56_14/k_core.csv\"\n",
      "[1] \"../../log/URV-contact-active/2019_06_03_21_56_23/k_core.csv\"\n",
      "[1] \"../../log/URV-contact-active/2019_06_03_21_57_07/k_core.csv\"\n",
      "[1] \"../../log/URV-contact-active/2019_06_03_21_57_08/k_core.csv\"\n",
      "[1] \"../../log/URV-contact-active/2019_06_03_21_57_19/k_core.csv\"\n",
      "[1] \"../../log/URV-contact-active/2019_06_03_21_58_08/k_core.csv\"\n",
      "[1] \"../../log/URV-contact-active/2019_06_03_21_58_19/k_core.csv\"\n",
      "[1] \"../../log/URV-contact-active/2019_06_03_21_59_12/k_core.csv\"\n",
      "[1] \"../../log/URV-contact-active/2019_06_03_21_59_14/k_core.csv\"\n",
      "[1] \"../../log/URV-contact-active/2019_06_03_21_59_15/k_core.csv\"\n",
      "[1] \"../../log/URV-contact-active/2019_06_03_21_59_20/k_core.csv\"\n",
      "[1] \"../../log/URV-contact-active/2019_06_03_22_00_10/k_core.csv\"\n",
      "[1] \"../../log/URV-contact-active/2019_06_03_22_00_13/k_core.csv\"\n",
      "[1] \"../../log/URV-contact-active/2019_06_03_22_00_14/k_core.csv\"\n",
      "[1] \"../../log/URV-contact-active/2019_06_03_22_00_19/k_core.csv\"\n",
      "[1] \"../../log/URV-contact-active/2019_06_03_22_01_08/k_core.csv\"\n",
      "[1] \"../../log/URV-contact-active/2019_06_03_22_01_11/k_core.csv\"\n",
      "[1] \"../../log/URV-contact-active/2019_06_03_22_01_14/k_core.csv\"\n",
      "[1] \"../../log/URV-contact-active/2019_06_03_22_01_20/k_core.csv\"\n",
      "[1] \"../../log/URV-contact-active/2019_06_03_22_02_07/k_core.csv\"\n",
      "[1] \"../../log/URV-contact-active/2019_06_03_22_02_09/k_core.csv\"\n",
      "[1] \"../../log/URV-contact-active/2019_06_03_22_02_14/k_core.csv\"\n",
      "[1] \"../../log/URV-contact-active/2019_06_03_22_03_02/k_core.csv\"\n",
      "[1] \"../../log/URV-contact-active/2019_06_03_22_03_03/k_core.csv\"\n",
      "[1] \"../../log/URV-contact-active/2019_06_03_22_03_09/k_core.csv\"\n",
      "[1] \"../../log/URV-contact-active/2019_06_03_22_04_00/k_core.csv\"\n",
      "[1] \"../../log/URV-contact-active/2019_06_03_22_04_01/k_core.csv\"\n",
      "[1] \"../../log/URV-contact-active/2019_06_03_22_04_07/k_core.csv\"\n",
      "[1] \"../../log/URV-contact-active/2019_06_03_22_05_00/k_core.csv\"\n",
      "[1] \"../../log/URV-contact-active/2019_06_03_22_05_04/k_core.csv\"\n",
      "[1] \"../../log/URV-contact-active/2019_06_03_22_06_01/k_core.csv\"\n",
      "[1] \"../../log/URV-contact-active/2019_06_03_22_06_03/k_core.csv\"\n",
      "[1] \"../../log/URV-contact-active/2019_06_03_22_06_06/k_core.csv\"\n",
      "[1] \"../../log/URV-contact-active/2019_06_03_22_07_01/k_core.csv\"\n",
      "[1] \"../../log/URV-contact-active/2019_06_03_22_07_03/k_core.csv\"\n",
      "[1] \"../../log/URV-contact-active/2019_06_03_22_07_56/k_core.csv\"\n",
      "[1] \"../../log/URV-contact-active/2019_06_03_22_07_57/k_core.csv\"\n",
      "[1] \"../../log/URV-contact-active/2019_06_03_22_07_58/k_core.csv\"\n",
      "[1] \"../../log/URV-contact-active/2019_06_03_22_08_56/k_core.csv\"\n",
      "[1] \"../../log/URV-contact-active/2019_06_03_22_08_57/k_core.csv\"\n",
      "[1] \"../../log/URV-contact-active/2019_06_03_22_08_58/k_core.csv\"\n",
      "[1] \"../../log/URV-contact-active/2019_06_03_22_09_59/k_core.csv\"\n",
      "[1] \"../../log/URV-contact-active/2019_06_03_22_10_01/k_core.csv\"\n",
      "[1] \"../../log/URV-contact-active/2019_06_03_22_10_10/k_core.csv\"\n",
      "[1] \"../../log/URV-contact-active/2019_06_03_22_11_02/k_core.csv\"\n",
      "[1] \"../../log/URV-contact-active/2019_06_03_22_11_14/k_core.csv\"\n",
      "[1] \"../../log/URV-contact-active/2019_06_03_22_11_16/k_core.csv\"\n",
      "[1] \"../../log/URV-contact-active/2019_06_03_22_11_18/k_core.csv\"\n",
      "[1] \"../../log/URV-contact-active/2019_06_03_22_12_04/k_core.csv\"\n",
      "[1] \"../../log/URV-contact-active/2019_06_03_22_12_15/k_core.csv\"\n",
      "[1] \"../../log/URV-contact-active/2019_06_03_22_12_18/k_core.csv\"\n",
      "[1] \"../../log/URV-contact-active/2019_06_03_22_13_07/k_core.csv\"\n",
      "[1] \"../../log/URV-contact-active/2019_06_03_22_13_21/k_core.csv\"\n",
      "[1] \"../../log/URV-contact-active/2019_06_03_22_13_23/k_core.csv\"\n",
      "[1] \"../../log/URV-contact-active/2019_06_03_22_13_24/k_core.csv\"\n",
      "[1] \"../../log/URV-contact-active/2019_06_03_22_14_14/k_core.csv\"\n",
      "[1] \"../../log/URV-contact-active/2019_06_03_22_14_28/k_core.csv\"\n",
      "[1] \"../../log/URV-contact-active/2019_06_03_22_14_31/k_core.csv\"\n",
      "[1] \"../../log/URV-contact-active/2019_06_03_22_14_33/k_core.csv\"\n",
      "[1] \"../../log/URV-contact-active/2019_06_03_22_15_24/k_core.csv\"\n",
      "[1] \"../../log/URV-contact-active/2019_06_03_22_15_36/k_core.csv\"\n",
      "[1] \"../../log/URV-contact-active/2019_06_03_22_15_40/k_core.csv\"\n",
      "[1] \"../../log/URV-contact-active/2019_06_03_22_15_41/k_core.csv\"\n",
      "[1] \"../../log/URV-contact-active/2019_06_03_22_16_32/k_core.csv\"\n",
      "[1] \"../../log/URV-contact-active/2019_06_03_22_16_44/k_core.csv\"\n",
      "[1] \"../../log/URV-contact-active/2019_06_03_22_16_46/k_core.csv\"\n",
      "[1] \"../../log/URV-contact-active/2019_06_03_22_16_48/k_core.csv\"\n",
      "[1] \"../../log/URV-contact-active/2019_06_03_22_17_44/k_core.csv\"\n",
      "[1] \"../../log/URV-contact-active/2019_06_03_22_17_49/k_core.csv\"\n",
      "[1] \"../../log/URV-contact-active/2019_06_03_22_17_53/k_core.csv\"\n",
      "[1] \"../../log/URV-contact-active/2019_06_03_22_18_47/k_core.csv\"\n",
      "[1] \"../../log/URV-contact-active/2019_06_03_22_18_52/k_core.csv\"\n",
      "[1] \"../../log/URV-contact-active/2019_06_03_22_18_53/k_core.csv\"\n",
      "[1] \"../../log/URV-contact-active/2019_06_03_22_18_55/k_core.csv\"\n",
      "[1] \"../../log/URV-contact-active/2019_06_03_22_20_01/k_core.csv\"\n",
      "[1] \"../../log/URV-contact-active/2019_06_03_22_20_04/k_core.csv\"\n",
      "[1] \"../../log/URV-contact-active/2019_06_03_22_20_05/k_core.csv\"\n",
      "[1] \"../../log/URV-contact-active/2019_06_03_22_20_10/k_core.csv\"\n",
      "[1] \"../../log/URV-contact-active/2019_06_03_22_21_16/k_core.csv\"\n",
      "[1] \"../../log/URV-contact-active/2019_06_03_22_21_18/k_core.csv\"\n",
      "[1] \"../../log/URV-contact-active/2019_06_03_22_21_24/k_core.csv\"\n",
      "[1] \"../../log/URV-contact-active/2019_06_03_22_21_33/k_core.csv\"\n",
      "[1] \"../../log/URV-contact-active/2019_06_03_22_22_50/k_core.csv\"\n",
      "[1] \"../../log/URV-contact-active/2019_06_03_22_22_52/k_core.csv\"\n",
      "[1] \"../../log/URV-contact-active/2019_06_03_22_22_53/k_core.csv\"\n",
      "[1] \"../../log/URV-contact-active/2019_06_03_22_24_10/k_core.csv\"\n",
      "[1] \"../../log/URV-contact-active/2019_06_03_22_24_11/k_core.csv\"\n",
      "[1] \"../../log/URV-contact-active/2019_06_03_22_25_11/k_core.csv\"\n",
      "[1] \"../../log/URV-contact-active/2019_06_03_22_25_12/k_core.csv\"\n",
      "[1] \"../../log/URV-contact-active/2019_06_03_22_26_07/k_core.csv\"\n",
      "[1] \"../../log/URV-contact-active/2019_06_03_22_26_08/k_core.csv\"\n",
      "[1] \"../../log/URV-contact-active/2019_06_03_22_26_09/k_core.csv\"\n",
      "[1] \"../../log/URV-contact-active/2019_06_03_22_27_02/k_core.csv\"\n",
      "[1] \"../../log/URV-contact-active/2019_06_03_22_27_03/k_core.csv\"\n",
      "[1] \"../../log/URV-contact-active/2019_06_03_22_27_05/k_core.csv\"\n",
      "[1] \"../../log/URV-contact-active/2019_06_03_22_27_57/k_core.csv\"\n",
      "[1] \"../../log/URV-contact-active/2019_06_03_22_27_58/k_core.csv\"\n",
      "[1] \"../../log/URV-contact-active/2019_06_03_22_28_07/k_core.csv\"\n",
      "[1] \"../../log/URV-contact-active/2019_06_03_22_28_43/k_core.csv\"\n",
      "[1] \"../../log/URV-contact-active/2019_06_03_22_28_59/k_core.csv\"\n",
      "[1] \"../../log/URV-contact-active/2019_06_03_22_29_00/k_core.csv\"\n",
      "[1] \"../../log/URV-contact-active/2019_06_03_22_29_01/k_core.csv\"\n",
      "[1] \"../../log/URV-contact-active/2019_06_03_22_29_34/k_core.csv\"\n",
      "[1] \"../../log/URV-contact-active/2019_06_03_22_29_52/k_core.csv\"\n",
      "[1] \"../../log/URV-contact-active/2019_06_03_22_29_53/k_core.csv\"\n",
      "[1] \"../../log/URV-contact-active/2019_06_03_22_30_26/k_core.csv\"\n",
      "[1] \"../../log/URV-contact-active/2019_06_03_22_30_45/k_core.csv\"\n",
      "[1] \"../../log/URV-contact-active/2019_06_03_22_31_21/k_core.csv\"\n",
      "[1] \"../../log/URV-contact-active/2019_06_03_22_31_38/k_core.csv\"\n",
      "[1] \"../../log/URV-contact-active/2019_06_03_22_31_40/k_core.csv\"\n",
      "[1] \"../../log/URV-contact-active/2019_06_03_22_32_17/k_core.csv\"\n",
      "[1] \"../../log/URV-contact-active/2019_06_03_22_32_32/k_core.csv\"\n",
      "[1] \"../../log/URV-contact-active/2019_06_03_22_32_33/k_core.csv\"\n",
      "[1] \"../../log/URV-contact-active/2019_06_03_22_33_13/k_core.csv\"\n",
      "[1] \"../../log/URV-contact-active/2019_06_03_22_33_28/k_core.csv\"\n",
      "[1] \"../../log/URV-contact-active/2019_06_03_22_33_29/k_core.csv\"\n",
      "[1] \"../../log/URV-contact-active/2019_06_03_22_33_30/k_core.csv\"\n",
      "[1] \"../../log/URV-contact-active/2019_06_03_22_34_13/k_core.csv\"\n",
      "[1] \"../../log/URV-contact-active/2019_06_03_22_34_26/k_core.csv\"\n",
      "[1] \"../../log/URV-contact-active/2019_06_03_22_34_27/k_core.csv\"\n",
      "[1] \"../../log/URV-contact-active/2019_06_03_22_35_39/k_core.csv\"\n",
      "[1] \"../../log/URV-contact-active/2019_06_03_22_36_11/k_core.csv\"\n",
      "[1] \"../../log/URV-contact-active/2019_06_03_22_36_34/k_core.csv\"\n",
      "[1] \"../../log/URV-contact-active/2019_06_03_22_36_35/k_core.csv\"\n",
      "[1] \"../../log/URV-contact-active/2019_06_03_22_37_04/k_core.csv\"\n",
      "[1] \"../../log/URV-contact-active/2019_06_03_22_37_27/k_core.csv\"\n",
      "[1] \"../../log/URV-contact-active/2019_06_03_22_37_28/k_core.csv\"\n",
      "[1] \"../../log/URV-contact-active/2019_06_03_22_38_01/k_core.csv\"\n",
      "[1] \"../../log/URV-contact-active/2019_06_03_22_38_25/k_core.csv\"\n",
      "[1] \"../../log/URV-contact-active/2019_06_03_22_38_27/k_core.csv\"\n",
      "[1] \"../../log/URV-contact-active/2019_06_03_22_39_03/k_core.csv\"\n",
      "[1] \"../../log/URV-contact-active/2019_06_03_22_39_27/k_core.csv\"\n",
      "[1] \"../../log/URV-contact-active/2019_06_03_22_39_30/k_core.csv\"\n",
      "[1] \"../../log/URV-contact-active/2019_06_03_22_40_01/k_core.csv\"\n",
      "[1] \"../../log/URV-contact-active/2019_06_03_22_40_18/k_core.csv\"\n",
      "[1] \"../../log/URV-contact-active/2019_06_03_22_40_24/k_core.csv\"\n",
      "[1] \"../../log/URV-contact-active/2019_06_03_22_41_05/k_core.csv\"\n",
      "[1] \"../../log/URV-contact-active/2019_06_03_22_41_20/k_core.csv\"\n",
      "[1] \"../../log/URV-contact-active/2019_06_03_22_41_21/k_core.csv\"\n",
      "[1] \"../../log/URV-contact-active/2019_06_03_22_41_26/k_core.csv\"\n",
      "[1] \"../../log/URV-contact-active/2019_06_03_22_42_03/k_core.csv\"\n",
      "[1] \"../../log/URV-contact-active/2019_06_03_22_42_17/k_core.csv\"\n",
      "[1] \"../../log/URV-contact-active/2019_06_03_22_42_22/k_core.csv\"\n",
      "[1] \"../../log/URV-contact-active/2019_06_03_22_42_25/k_core.csv\"\n",
      "[1] \"../../log/URV-contact-active/2019_06_03_22_42_57/k_core.csv\"\n",
      "[1] \"../../log/URV-contact-active/2019_06_03_22_43_12/k_core.csv\"\n",
      "[1] \"../../log/URV-contact-active/2019_06_03_22_43_17/k_core.csv\"\n",
      "[1] \"../../log/URV-contact-active/2019_06_03_22_43_19/k_core.csv\"\n",
      "[1] \"../../log/URV-contact-active/2019_06_03_22_43_51/k_core.csv\"\n",
      "[1] \"../../log/URV-contact-active/2019_06_03_22_44_06/k_core.csv\"\n",
      "[1] \"../../log/URV-contact-active/2019_06_03_22_44_11/k_core.csv\"\n",
      "[1] \"../../log/URV-contact-active/2019_06_03_22_44_13/k_core.csv\"\n",
      "[1] \"../../log/URV-contact-active/2019_06_03_22_44_46/k_core.csv\"\n",
      "[1] \"../../log/URV-contact-active/2019_06_03_22_45_01/k_core.csv\"\n",
      "[1] \"../../log/URV-contact-active/2019_06_03_22_45_04/k_core.csv\"\n",
      "[1] \"../../log/URV-contact-active/2019_06_03_22_45_06/k_core.csv\"\n",
      "[1] \"../../log/URV-contact-active/2019_06_03_22_45_38/k_core.csv\"\n",
      "[1] \"../../log/URV-contact-active/2019_06_03_22_45_55/k_core.csv\"\n",
      "[1] \"../../log/URV-contact-active/2019_06_03_22_45_57/k_core.csv\"\n",
      "[1] \"../../log/URV-contact-active/2019_06_03_22_45_59/k_core.csv\"\n",
      "[1] \"../../log/URV-contact-active/2019_06_03_22_46_31/k_core.csv\"\n",
      "[1] \"../../log/URV-contact-active/2019_06_03_22_46_48/k_core.csv\"\n",
      "[1] \"../../log/URV-contact-active/2019_06_03_22_46_51/k_core.csv\"\n",
      "[1] \"../../log/URV-contact-active/2019_06_03_22_46_53/k_core.csv\"\n",
      "[1] \"../../log/URV-contact-active/2019_06_03_22_47_25/k_core.csv\"\n",
      "[1] \"../../log/URV-contact-active/2019_06_03_22_47_42/k_core.csv\"\n",
      "[1] \"../../log/URV-contact-active/2019_06_03_22_47_45/k_core.csv\"\n",
      "[1] \"../../log/URV-contact-active/2019_06_03_22_47_47/k_core.csv\"\n",
      "[1] \"../../log/URV-contact-active/2019_06_03_22_48_18/k_core.csv\"\n",
      "[1] \"../../log/URV-contact-active/2019_06_03_22_48_36/k_core.csv\"\n",
      "[1] \"../../log/URV-contact-active/2019_06_03_22_48_38/k_core.csv\"\n",
      "[1] \"../../log/URV-contact-active/2019_06_03_22_48_40/k_core.csv\"\n",
      "[1] \"../../log/URV-contact-active/2019_06_03_22_49_11/k_core.csv\"\n",
      "[1] \"../../log/URV-contact-active/2019_06_03_22_49_30/k_core.csv\"\n",
      "[1] \"../../log/URV-contact-active/2019_06_03_22_49_32/k_core.csv\"\n",
      "[1] \"../../log/URV-contact-active/2019_06_03_22_49_34/k_core.csv\"\n",
      "[1] \"../../log/URV-contact-active/2019_06_03_22_50_04/k_core.csv\"\n",
      "[1] \"../../log/URV-contact-active/2019_06_03_22_50_24/k_core.csv\"\n",
      "[1] \"../../log/URV-contact-active/2019_06_03_22_50_25/k_core.csv\"\n",
      "[1] \"../../log/URV-contact-active/2019_06_03_22_50_29/k_core.csv\"\n",
      "[1] \"../../log/URV-contact-active/2019_06_03_22_50_58/k_core.csv\"\n",
      "[1] \"../../log/URV-contact-active/2019_06_03_22_51_17/k_core.csv\"\n",
      "[1] \"../../log/URV-contact-active/2019_06_03_22_51_18/k_core.csv\"\n",
      "[1] \"../../log/URV-contact-active/2019_06_03_22_51_23/k_core.csv\"\n",
      "[1] \"../../log/URV-contact-active/2019_06_03_22_51_51/k_core.csv\"\n",
      "[1] \"../../log/URV-contact-active/2019_06_03_22_52_10/k_core.csv\"\n",
      "[1] \"../../log/URV-contact-active/2019_06_03_22_52_12/k_core.csv\"\n",
      "[1] \"../../log/URV-contact-active/2019_06_03_22_52_18/k_core.csv\"\n",
      "[1] \"../../log/URV-contact-active/2019_06_03_22_52_44/k_core.csv\"\n",
      "[1] \"../../log/URV-contact-active/2019_06_03_22_53_05/k_core.csv\"\n",
      "[1] \"../../log/URV-contact-active/2019_06_03_22_53_07/k_core.csv\"\n",
      "[1] \"../../log/URV-contact-active/2019_06_03_22_53_15/k_core.csv\"\n",
      "[1] \"../../log/URV-contact-active/2019_06_03_22_53_38/k_core.csv\"\n",
      "[1] \"../../log/URV-contact-active/2019_06_03_22_54_00/k_core.csv\"\n",
      "[1] \"../../log/URV-contact-active/2019_06_03_22_54_02/k_core.csv\"\n",
      "[1] \"../../log/URV-contact-active/2019_06_03_22_54_10/k_core.csv\"\n",
      "[1] \"../../log/URV-contact-active/2019_06_03_22_54_33/k_core.csv\"\n",
      "[1] \"../../log/URV-contact-active/2019_06_03_22_54_53/k_core.csv\"\n",
      "[1] \"../../log/URV-contact-active/2019_06_03_22_54_57/k_core.csv\"\n",
      "[1] \"../../log/URV-contact-active/2019_06_03_22_55_04/k_core.csv\"\n",
      "[1] \"../../log/URV-contact-active/2019_06_03_22_55_26/k_core.csv\"\n",
      "[1] \"../../log/URV-contact-active/2019_06_03_22_55_47/k_core.csv\"\n",
      "[1] \"../../log/URV-contact-active/2019_06_03_22_55_53/k_core.csv\"\n",
      "[1] \"../../log/URV-contact-active/2019_06_03_22_55_58/k_core.csv\"\n",
      "[1] \"../../log/URV-contact-active/2019_06_03_22_56_20/k_core.csv\"\n",
      "[1] \"../../log/URV-contact-active/2019_06_03_22_56_41/k_core.csv\"\n",
      "[1] \"../../log/URV-contact-active/2019_06_03_22_56_47/k_core.csv\"\n",
      "[1] \"../../log/URV-contact-active/2019_06_03_22_56_53/k_core.csv\"\n",
      "[1] \"../../log/URV-contact-active/2019_06_03_22_57_13/k_core.csv\"\n",
      "[1] \"../../log/URV-contact-active/2019_06_03_22_57_35/k_core.csv\"\n",
      "[1] \"../../log/URV-contact-active/2019_06_03_22_57_42/k_core.csv\"\n",
      "[1] \"../../log/URV-contact-active/2019_06_03_22_57_47/k_core.csv\"\n",
      "[1] \"../../log/URV-contact-active/2019_06_03_22_58_06/k_core.csv\"\n",
      "[1] \"../../log/URV-contact-active/2019_06_03_22_58_30/k_core.csv\"\n",
      "[1] \"../../log/URV-contact-active/2019_06_03_22_58_37/k_core.csv\"\n",
      "[1] \"../../log/URV-contact-active/2019_06_03_22_58_41/k_core.csv\"\n",
      "[1] \"../../log/URV-contact-active/2019_06_03_22_58_59/k_core.csv\"\n",
      "[1] \"../../log/URV-contact-active/2019_06_03_22_59_24/k_core.csv\"\n",
      "[1] \"../../log/URV-contact-active/2019_06_03_22_59_32/k_core.csv\"\n",
      "[1] \"../../log/URV-contact-active/2019_06_03_22_59_36/k_core.csv\"\n",
      "[1] \"../../log/URV-contact-active/2019_06_03_22_59_53/k_core.csv\"\n",
      "[1] \"../../log/URV-contact-active/2019_06_03_23_00_29/k_core.csv\"\n",
      "[1] \"../../log/URV-contact-active/2019_06_03_23_00_44/k_core.csv\"\n"
     ]
    }
   ],
   "source": [
    "emptytable <- data.table()\n",
    "lista = list.dirs(mypath)\n",
    "for (i in lista){    \n",
    "    filename = paste(mypath, '/', i, '/', 'k_core.csv', sep = \"\")\n",
    "    print(filename)\n",
    "    DF <- read.csv(file = filename, skip=12)\n",
    "    tempDF <- DF[DF$state =='i',]\n",
    "    tempDF <- tempDF[tempDF$time == 1,]\n",
    "\n",
    "    agent <- as.integer(tempDF['agent'])\n",
    "    kcore <- as.integer(tempDF['k.core'])\n",
    "\n",
    "    DF$'agent.init' <- agent\n",
    "    DF$'k.core.init' <- kcore\n",
    "    DF$'density' <- 1\n",
    "    DF$'density.mean' <- 1\n",
    "    DF$'density.std' <- 1\n",
    "\n",
    "    DT <- data.table(DF)\n",
    "    DT1 = DT[, sum(density), by=list(time, state)]\n",
    "    \n",
    "    names(DT1)[names(DT1)==\"V1\"] <- \"density\"\n",
    "\n",
    "    DT1$density <- DT1$density / N_AGENTS\n",
    "\n",
    "    DT1$'agent.init' <- agent\n",
    "    DT1$'k.core.init' <- kcore\n",
    "    \n",
    "    tempDT1 <- DT1[DT1$state == 'r']\n",
    "    tempDT1 <- tempDT1[tempDT1$time == 200]\n",
    "    density <- as.numeric(tempDT1[,'density'])\n",
    "    \n",
    "    DT1 = DT1[DT1$state == 'r']\n",
    "    DT1[,state:=NULL]\n",
    "    #print(DT1)\n",
    "    emptytable <- rbind(emptytable, DT1)\n",
    "}"
   ]
  },
  {
   "cell_type": "code",
   "execution_count": 428,
   "metadata": {
    "scrolled": true
   },
   "outputs": [],
   "source": [
    "rawtable <- emptytable"
   ]
  },
  {
   "cell_type": "markdown",
   "metadata": {},
   "source": [
    "Compute mean and standard deviation and add to data table"
   ]
  },
  {
   "cell_type": "code",
   "execution_count": 488,
   "metadata": {},
   "outputs": [],
   "source": [
    "emptytable <- rawtable"
   ]
  },
  {
   "cell_type": "code",
   "execution_count": 489,
   "metadata": {},
   "outputs": [],
   "source": [
    "emptytabletime <- emptytable[emptytable$time == 200]\n",
    "emptytabletime$density <- emptytabletime$density + 1e-3\n",
    "#emptytabletime <- emptytabletime[emptytabletime$density < 0.21]\n",
    "#emptytabletime <- emptytabletime[emptytabletime$density > 0.05]\n",
    "#emptytabletime$k.core.init <- emptytabletime$k.core.init + emptytabletime$k.core.init %% 2\n",
    "toplot <- emptytabletime[, mean(density), by=list(time, k.core.init)][,'k.core.init']\n",
    "toplot$mean <- emptytabletime[emptytabletime$time == 200][, mean(density), by=list(time, k.core.init)][,'V1']\n",
    "toplot$std <- emptytabletime[emptytabletime$time == 200][, sd(density), by=list(time, k.core.init)][,'V1']"
   ]
  },
  {
   "cell_type": "markdown",
   "metadata": {},
   "source": [
    "Clean NaN values"
   ]
  },
  {
   "cell_type": "code",
   "execution_count": 490,
   "metadata": {},
   "outputs": [],
   "source": [
    "toplot[is.na(toplot)] <- 1e-4"
   ]
  },
  {
   "cell_type": "code",
   "execution_count": 491,
   "metadata": {},
   "outputs": [],
   "source": [
    "toplot = toplot[order(toplot$k.core.init),]"
   ]
  },
  {
   "cell_type": "code",
   "execution_count": 492,
   "metadata": {
    "scrolled": false
   },
   "outputs": [
    {
     "data": {
      "text/html": [
       "<table>\n",
       "<thead><tr><th scope=col>k.core.init</th><th scope=col>mean</th><th scope=col>std</th></tr></thead>\n",
       "<tbody>\n",
       "\t<tr><td> 1             </td><td>0.0460569617236</td><td>0.0789717986364</td></tr>\n",
       "\t<tr><td> 2             </td><td>0.1034357691024</td><td>0.0925949541326</td></tr>\n",
       "\t<tr><td> 3             </td><td>0.0785119494926</td><td>0.0915521535442</td></tr>\n",
       "\t<tr><td> 4             </td><td>0.1219523809524</td><td>0.0870678809188</td></tr>\n",
       "\t<tr><td> 5             </td><td>0.1132011561826</td><td>0.0900303998051</td></tr>\n",
       "\t<tr><td> 6             </td><td>0.1414585537919</td><td>0.0751596952735</td></tr>\n",
       "\t<tr><td> 7             </td><td>0.1580245057087</td><td>0.0634965272986</td></tr>\n",
       "\t<tr><td> 8             </td><td>0.1756619635509</td><td>0.0412643544799</td></tr>\n",
       "\t<tr><td> 9             </td><td>0.1759860763019</td><td>0.0359973714881</td></tr>\n",
       "\t<tr><td>10             </td><td>0.1802983459650</td><td>0.0209231194383</td></tr>\n",
       "\t<tr><td>11             </td><td>0.1764734057366</td><td>0.0334451227817</td></tr>\n",
       "</tbody>\n",
       "</table>\n"
      ],
      "text/latex": [
       "\\begin{tabular}{r|lll}\n",
       " k.core.init & mean & std\\\\\n",
       "\\hline\n",
       "\t  1              & 0.0460569617236 & 0.0789717986364\\\\\n",
       "\t  2              & 0.1034357691024 & 0.0925949541326\\\\\n",
       "\t  3              & 0.0785119494926 & 0.0915521535442\\\\\n",
       "\t  4              & 0.1219523809524 & 0.0870678809188\\\\\n",
       "\t  5              & 0.1132011561826 & 0.0900303998051\\\\\n",
       "\t  6              & 0.1414585537919 & 0.0751596952735\\\\\n",
       "\t  7              & 0.1580245057087 & 0.0634965272986\\\\\n",
       "\t  8              & 0.1756619635509 & 0.0412643544799\\\\\n",
       "\t  9              & 0.1759860763019 & 0.0359973714881\\\\\n",
       "\t 10              & 0.1802983459650 & 0.0209231194383\\\\\n",
       "\t 11              & 0.1764734057366 & 0.0334451227817\\\\\n",
       "\\end{tabular}\n"
      ],
      "text/markdown": [
       "\n",
       "k.core.init | mean | std | \n",
       "|---|---|---|---|---|---|---|---|---|---|---|\n",
       "|  1              | 0.0460569617236 | 0.0789717986364 | \n",
       "|  2              | 0.1034357691024 | 0.0925949541326 | \n",
       "|  3              | 0.0785119494926 | 0.0915521535442 | \n",
       "|  4              | 0.1219523809524 | 0.0870678809188 | \n",
       "|  5              | 0.1132011561826 | 0.0900303998051 | \n",
       "|  6              | 0.1414585537919 | 0.0751596952735 | \n",
       "|  7              | 0.1580245057087 | 0.0634965272986 | \n",
       "|  8              | 0.1756619635509 | 0.0412643544799 | \n",
       "|  9              | 0.1759860763019 | 0.0359973714881 | \n",
       "| 10              | 0.1802983459650 | 0.0209231194383 | \n",
       "| 11              | 0.1764734057366 | 0.0334451227817 | \n",
       "\n",
       "\n"
      ],
      "text/plain": [
       "   k.core.init mean            std            \n",
       "1   1          0.0460569617236 0.0789717986364\n",
       "2   2          0.1034357691024 0.0925949541326\n",
       "3   3          0.0785119494926 0.0915521535442\n",
       "4   4          0.1219523809524 0.0870678809188\n",
       "5   5          0.1132011561826 0.0900303998051\n",
       "6   6          0.1414585537919 0.0751596952735\n",
       "7   7          0.1580245057087 0.0634965272986\n",
       "8   8          0.1756619635509 0.0412643544799\n",
       "9   9          0.1759860763019 0.0359973714881\n",
       "10 10          0.1802983459650 0.0209231194383\n",
       "11 11          0.1764734057366 0.0334451227817"
      ]
     },
     "metadata": {},
     "output_type": "display_data"
    }
   ],
   "source": [
    "toplot"
   ]
  },
  {
   "cell_type": "markdown",
   "metadata": {},
   "source": [
    "Plot"
   ]
  },
  {
   "cell_type": "code",
   "execution_count": 493,
   "metadata": {},
   "outputs": [
    {
     "data": {
      "image/png": "[encoded data removed]",
      "text/plain": [
       "plot without title"
      ]
     },
     "metadata": {},
     "output_type": "display_data"
    }
   ],
   "source": [
    "plot(emptytabletime$k.core.init, emptytabletime$density)"
   ]
  },
  {
   "cell_type": "code",
   "execution_count": 494,
   "metadata": {},
   "outputs": [],
   "source": [
    "f <- function(x,a,b) {a * exp(b * x)} \n"
   ]
  },
  {
   "cell_type": "code",
   "execution_count": 495,
   "metadata": {
    "scrolled": false
   },
   "outputs": [
    {
     "data": {
      "text/plain": [
       "\n",
       "Call:\n",
       "lm(formula = y ~ x)\n",
       "\n",
       "Residuals:\n",
       "           Min             1Q         Median             3Q            Max \n",
       "-0.02384870711 -0.01234540934  0.00395695855  0.01263833448  0.02076466915 \n",
       "\n",
       "Coefficients:\n",
       "                 Estimate    Std. Error t value   Pr(>|t|)\n",
       "(Intercept) 0.05714023772 0.01072970508 5.32542 0.00047756\n",
       "x           0.01276543112 0.00158200871 8.06913 2.0663e-05\n",
       "\n",
       "Residual standard error: 0.0165922473 on 9 degrees of freedom\n",
       "Multiple R-squared:  0.87856026,\tAdjusted R-squared:  0.865066955 \n",
       "F-statistic: 65.1108304 on 1 and 9 DF,  p-value: 2.06630369e-05\n"
      ]
     },
     "metadata": {},
     "output_type": "display_data"
    },
    {
     "data": {
      "text/html": [
       "0.937315453682549"
      ],
      "text/latex": [
       "0.937315453682549"
      ],
      "text/markdown": [
       "0.937315453682549"
      ],
      "text/plain": [
       "[1] 0.937315453683"
      ]
     },
     "metadata": {},
     "output_type": "display_data"
    },
    {
     "data": {
      "text/plain": [
       "\n",
       "Call:\n",
       "lm(formula = y ~ poly(x, 2))\n",
       "\n",
       "Residuals:\n",
       "           Min             1Q         Median             3Q            Max \n",
       "-0.01792159834 -0.00751238919  0.00148589769  0.00536412998  0.02674676975 \n",
       "\n",
       "Coefficients:\n",
       "                  Estimate     Std. Error  t value   Pr(>|t|)\n",
       "(Intercept)  0.13373282441  0.00429698047 31.12251 1.2353e-09\n",
       "poly(x, 2)1  0.13388497104  0.01425147196  9.39447 1.3505e-05\n",
       "poly(x, 2)2 -0.02920425323  0.01425147196 -2.04921     0.0746\n",
       "\n",
       "Residual standard error: 0.014251472 on 8 degrees of freedom\n",
       "Multiple R-squared:  0.920362553,\tAdjusted R-squared:  0.900453191 \n",
       "F-statistic: 46.2276272 on 2 and 8 DF,  p-value: 4.02225237e-05\n"
      ]
     },
     "metadata": {},
     "output_type": "display_data"
    },
    {
     "data": {
      "text/html": [
       "0.959355279859609"
      ],
      "text/latex": [
       "0.959355279859609"
      ],
      "text/markdown": [
       "0.959355279859609"
      ],
      "text/plain": [
       "[1] 0.95935527986"
      ]
     },
     "metadata": {},
     "output_type": "display_data"
    },
    {
     "data": {
      "image/png": "[encoded data removed]",
      "text/plain": [
       "plot without title"
      ]
     },
     "metadata": {},
     "output_type": "display_data"
    }
   ],
   "source": [
    "x <- toplot$k.core.init\n",
    "y <- toplot$mean\n",
    "dy <- toplot$std\n",
    "plot(x, y,\n",
    "    ylim=range(c(y-dy, y+dy)),\n",
    "     #log='y',\n",
    "     xlab=TeX('$k_S$'), ylab=TeX('$M_{k_S}$'),\n",
    "    #main=\"Scatter plot with std.dev error bars\"\n",
    "     panel.first=grid()\n",
    ")\n",
    "arrows(x, y-dy, x, y+dy, length=0.05, angle=90, code=3)\n",
    "\n",
    "\n",
    "#nonlin_mod=nls(y~a*exp(b*x),start=list(a=1,b=0.1)) #a is the starting value and b is the exponential start\n",
    "#lines(x,predict(nonlin_mod),col=\"red\")\n",
    "#summary(nonlin_mod)\n",
    "\n",
    "# constant\n",
    "m<-lm(y~x)\n",
    "summary(m)\n",
    "cor(y,predict(m))\n",
    "lines(x,predict(m),lty=2,col=\"black\",lwd=2)\n",
    "\n",
    "# polynomial\n",
    "m<-lm(y ~ poly(x,2))\n",
    "summary(m)\n",
    "cor(y,predict(m))\n",
    "#plot\n",
    "lines(x,predict(m),lty=5,col=\"black\",lwd=2)\n"
   ]
  },
  {
   "cell_type": "code",
   "execution_count": 496,
   "metadata": {
    "scrolled": false
   },
   "outputs": [
    {
     "data": {
      "text/plain": [
       "\n",
       "Formula: y ~ a * x/(b + x)\n",
       "\n",
       "Parameters:\n",
       "      Estimate   Std. Error t value   Pr(>|t|)\n",
       "a 0.2660418269 0.0334292644 7.95835 2.3077e-05\n",
       "b 5.0055434829 1.4603527267 3.42763  0.0075365\n",
       "\n",
       "Residual standard error: 0.0143445661 on 9 degrees of freedom\n",
       "\n",
       "Number of iterations to convergence: 8 \n",
       "Achieved convergence tolerance: 1.37792355e-06\n"
      ]
     },
     "metadata": {},
     "output_type": "display_data"
    },
    {
     "data": {
      "text/html": [
       "0.954192787713586"
      ],
      "text/latex": [
       "0.954192787713586"
      ],
      "text/markdown": [
       "0.954192787713586"
      ],
      "text/plain": [
       "[1] 0.954192787714"
      ]
     },
     "metadata": {},
     "output_type": "display_data"
    },
    {
     "data": {
      "text/plain": [
       "\n",
       "Formula: y ~ 1 - exp(-(1 + b) * x)\n",
       "\n",
       "Parameters:\n",
       "        Estimate     Std. Error    t value   Pr(>|t|)\n",
       "b -0.97758378474  0.00156238283 -625.70054 < 2.22e-16\n",
       "\n",
       "Residual standard error: 0.0290504942 on 10 degrees of freedom\n",
       "\n",
       "Number of iterations to convergence: 6 \n",
       "Achieved convergence tolerance: 6.33015763e-06\n"
      ]
     },
     "metadata": {},
     "output_type": "display_data"
    },
    {
     "data": {
      "text/html": [
       "0.94321455642025"
      ],
      "text/latex": [
       "0.94321455642025"
      ],
      "text/markdown": [
       "0.94321455642025"
      ],
      "text/plain": [
       "[1] 0.94321455642"
      ]
     },
     "metadata": {},
     "output_type": "display_data"
    },
    {
     "data": {
      "image/png": "[encoded data removed]",
      "text/plain": [
       "plot without title"
      ]
     },
     "metadata": {},
     "output_type": "display_data"
    }
   ],
   "source": [
    "plot(x, y,\n",
    "    ylim=range(c(y-dy, y+dy)),\n",
    "     #log='y',\n",
    "     xlab=TeX('$k_S$'), ylab=TeX('$M_{k_S}$'),\n",
    "    #main=\"Scatter plot with std.dev error bars\"\n",
    ")\n",
    "arrows(x, y-dy, x, y+dy, length=0.05, angle=90, code=3)\n",
    "\n",
    "# hyperbolic\n",
    "m<-nls(y~a*x/(b+x), start=c(a=1,b=1))\n",
    "summary(m)\n",
    "cor(y,predict(m))\n",
    "#plot\n",
    "lines(x,predict(m),lty=3,col=\"black\",lwd=2)\n",
    "\n",
    "# exponential\n",
    "m<-nls(y~1 - exp(-(1+b)*x), start=list(b=0.1))\n",
    "summary(m)\n",
    "cor(y,predict(m))\n",
    "#plot\n",
    "lines(x,predict(m),lty=4,col=\"black\",lwd=2)"
   ]
  },
  {
   "cell_type": "code",
   "execution_count": 462,
   "metadata": {
    "scrolled": false
   },
   "outputs": [
    {
     "data": {
      "text/html": [
       "<strong>png:</strong> 2"
      ],
      "text/latex": [
       "\\textbf{png:} 2"
      ],
      "text/markdown": [
       "**png:** 2"
      ],
      "text/plain": [
       "png \n",
       "  2 "
      ]
     },
     "metadata": {},
     "output_type": "display_data"
    }
   ],
   "source": [
    "pdf('mksonks.pdf')\n",
    "plot(toplot$k.core.init, toplot$mean,\n",
    "    ylim=range(c(toplot$mean-toplot$std, toplot$mean+toplot$std)),\n",
    "     #log='y',\n",
    "     xlab=TeX('$k_S$'), ylab=TeX('$M_{k_S}$'),\n",
    "    #main=\"Scatter plot with std.dev error bars\"\n",
    ")\n",
    "arrows(toplot$k.core.init, toplot$mean-toplot$std, \n",
    "       toplot$k.core.init, toplot$mean+toplot$std, length=0.05, angle=90, code=3)\n",
    "dev.off()\n"
   ]
  },
  {
   "cell_type": "markdown",
   "metadata": {},
   "source": [
    "Log y plot"
   ]
  },
  {
   "cell_type": "code",
   "execution_count": 463,
   "metadata": {},
   "outputs": [
    {
     "data": {
      "image/png": "[encoded data removed]",
      "text/plain": [
       "plot without title"
      ]
     },
     "metadata": {},
     "output_type": "display_data"
    }
   ],
   "source": [
    "plot(x, y,\n",
    "    ylim=range(c(2e-3, y+dy)),\n",
    "     log='y',\n",
    "     xlab=TeX('$k_S$'), ylab=TeX('$M_{k_S}$'),\n",
    "    #main=\"Scatter plot with std.dev error bars\"\n",
    ")\n",
    "arrows(x, y-dy, x, y+dy, length=0.05, angle=90, code=3)\n"
   ]
  },
  {
   "cell_type": "code",
   "execution_count": 452,
   "metadata": {
    "scrolled": false
   },
   "outputs": [
    {
     "data": {
      "text/html": [
       "<strong>png:</strong> 2"
      ],
      "text/latex": [
       "\\textbf{png:} 2"
      ],
      "text/markdown": [
       "**png:** 2"
      ],
      "text/plain": [
       "png \n",
       "  2 "
      ]
     },
     "metadata": {},
     "output_type": "display_data"
    }
   ],
   "source": [
    "pdf('logmksonks.pdf')\n",
    "plot(toplot$k.core.init, toplot$mean,\n",
    "     ylim=range(c(toplot$mean-toplot$std, toplot$mean+toplot$std)),\n",
    "     log='y',\n",
    "     xlab=TeX('$k_S$'), ylab=TeX('$M_{k_S}$'),\n",
    "    #main=\"Scatter plot with std.dev error bars\"\n",
    ")\n",
    "arrows(toplot$k.core.init, toplot$mean-toplot$std, \n",
    "       toplot$k.core.init, toplot$mean+toplot$std, length=0.05, angle=90, code=3)\n",
    "dev.off()"
   ]
  },
  {
   "cell_type": "code",
   "execution_count": null,
   "metadata": {},
   "outputs": [],
   "source": []
  },
  {
   "cell_type": "code",
   "execution_count": null,
   "metadata": {},
   "outputs": [],
   "source": []
  }
 ],
 "metadata": {
  "kernelspec": {
   "display_name": "R",
   "language": "R",
   "name": "ir"
  },
  "language_info": {
   "codemirror_mode": "r",
   "file_extension": ".r",
   "mimetype": "text/x-r-source",
   "name": "R",
   "pygments_lexer": "r",
   "version": "3.5.2"
  }
 },
 "nbformat": 4,
 "nbformat_minor": 2
}
