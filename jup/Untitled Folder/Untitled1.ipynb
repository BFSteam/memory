{
 "cells": [
  {
   "cell_type": "code",
   "execution_count": 367,
   "metadata": {},
   "outputs": [],
   "source": [
    "library(data.table)\n",
    "library(ggplot2)\n",
    "library(latex2exp)\n"
   ]
  },
  {
   "cell_type": "code",
   "execution_count": 368,
   "metadata": {},
   "outputs": [],
   "source": [
    "time <- 500"
   ]
  },
  {
   "cell_type": "code",
   "execution_count": 369,
   "metadata": {},
   "outputs": [],
   "source": [
    "N_AGENTS <- 12625"
   ]
  },
  {
   "cell_type": "code",
   "execution_count": 370,
   "metadata": {},
   "outputs": [],
   "source": [
    "mypath <- \"../../log/ProvaEmailcontacts-act-1\""
   ]
  },
  {
   "cell_type": "code",
   "execution_count": 371,
   "metadata": {},
   "outputs": [],
   "source": [
    "mypath <- \"/home/nik/ProvaEmailcontacts2.5/ProvaEmailcontacts2.5\""
   ]
  },
  {
   "cell_type": "code",
   "execution_count": 372,
   "metadata": {},
   "outputs": [],
   "source": [
    "list.dirs <- function(path=\".\", pattern=NULL, all.dirs=FALSE,\n",
    "  full.names=FALSE, ignore.case=FALSE) {\n",
    "  # use full.names=TRUE to pass to file.info\n",
    "  all <- list.files(path, pattern, all.dirs,\n",
    "           full.names=TRUE, recursive=FALSE, ignore.case)\n",
    "  dirs <- all[file.info(all)$isdir]\n",
    "  # determine whether to return full names or just dir names\n",
    "  if(isTRUE(full.names))\n",
    "    return(dirs)\n",
    "  else\n",
    "    return(basename(dirs))\n",
    "}"
   ]
  },
  {
   "cell_type": "code",
   "execution_count": 373,
   "metadata": {},
   "outputs": [],
   "source": [
    "thepath = list.dirs(mypath)[1]"
   ]
  },
  {
   "cell_type": "code",
   "execution_count": 374,
   "metadata": {},
   "outputs": [],
   "source": [
    "filename = paste(mypath, '/', thepath, '/', 'k_core.csv', sep = \"\")"
   ]
  },
  {
   "cell_type": "code",
   "execution_count": 375,
   "metadata": {},
   "outputs": [],
   "source": [
    "DF <- read.csv(file = filename, skip=12)"
   ]
  },
  {
   "cell_type": "code",
   "execution_count": 376,
   "metadata": {},
   "outputs": [],
   "source": [
    "tempDF <- DF[DF$state =='i',]\n",
    "tempDF <- tempDF[tempDF$time == 1,]"
   ]
  },
  {
   "cell_type": "code",
   "execution_count": 377,
   "metadata": {},
   "outputs": [
    {
     "data": {
      "text/html": [
       "<table>\n",
       "<thead><tr><th></th><th scope=col>time</th><th scope=col>agent</th><th scope=col>k.core</th><th scope=col>state</th><th scope=col>degree</th></tr></thead>\n",
       "<tbody>\n",
       "\t<tr><th scope=row>1600</th><td>1   </td><td>1599</td><td>2   </td><td>i   </td><td>2   </td></tr>\n",
       "</tbody>\n",
       "</table>\n"
      ],
      "text/latex": [
       "\\begin{tabular}{r|lllll}\n",
       "  & time & agent & k.core & state & degree\\\\\n",
       "\\hline\n",
       "\t1600 & 1    & 1599 & 2    & i    & 2   \\\\\n",
       "\\end{tabular}\n"
      ],
      "text/markdown": [
       "\n",
       "| <!--/--> | time | agent | k.core | state | degree | \n",
       "|---|\n",
       "| 1600 | 1    | 1599 | 2    | i    | 2    | \n",
       "\n",
       "\n"
      ],
      "text/plain": [
       "     time agent k.core state degree\n",
       "1600 1    1599  2      i     2     "
      ]
     },
     "metadata": {},
     "output_type": "display_data"
    }
   ],
   "source": [
    "tempDF"
   ]
  },
  {
   "cell_type": "code",
   "execution_count": 378,
   "metadata": {},
   "outputs": [],
   "source": [
    "agent <- as.integer(tempDF['agent'])\n",
    "kcore <- as.integer(tempDF['k.core'])"
   ]
  },
  {
   "cell_type": "code",
   "execution_count": 379,
   "metadata": {},
   "outputs": [],
   "source": [
    "DF$'agent.init' <- agent\n",
    "DF$'k.core.init' <- kcore\n",
    "DF$'density' <- 1"
   ]
  },
  {
   "cell_type": "code",
   "execution_count": 380,
   "metadata": {
    "scrolled": true
   },
   "outputs": [],
   "source": [
    "DT <- data.table(DF)"
   ]
  },
  {
   "cell_type": "code",
   "execution_count": 381,
   "metadata": {},
   "outputs": [],
   "source": [
    "DT1 = DT[, sum(density), by=list(time, state)]"
   ]
  },
  {
   "cell_type": "code",
   "execution_count": 382,
   "metadata": {},
   "outputs": [],
   "source": [
    "names(DT1)[names(DT1)==\"V1\"] <- \"density\""
   ]
  },
  {
   "cell_type": "code",
   "execution_count": 383,
   "metadata": {},
   "outputs": [],
   "source": [
    "DT1$density <- DT1$density / N_AGENTS"
   ]
  },
  {
   "cell_type": "code",
   "execution_count": 384,
   "metadata": {},
   "outputs": [],
   "source": [
    "DT1$'agent.init' <- agent\n",
    "DT1$'k.core.init' <- kcore"
   ]
  },
  {
   "cell_type": "code",
   "execution_count": 385,
   "metadata": {},
   "outputs": [],
   "source": [
    "tempDT1 <- DT1[DT1$state == 'r']\n",
    "tempDT1 <- tempDT1[tempDT1$time == 500]\n",
    "density <- as.numeric(tempDT1[,'density'])"
   ]
  },
  {
   "cell_type": "code",
   "execution_count": 386,
   "metadata": {},
   "outputs": [
    {
     "data": {},
     "metadata": {},
     "output_type": "display_data"
    }
   ],
   "source": [
    "DT1 = DT1[DT1$state == 'r']\n",
    "DT1[,state:=NULL]"
   ]
  },
  {
   "cell_type": "markdown",
   "metadata": {},
   "source": [
    "## All datasets"
   ]
  },
  {
   "cell_type": "markdown",
   "metadata": {},
   "source": [
    "Assemble everything and do the loops"
   ]
  },
  {
   "cell_type": "code",
   "execution_count": null,
   "metadata": {
    "scrolled": false
   },
   "outputs": [],
   "source": [
    "emptytable <- data.table()\n",
    "lista = list.dirs(mypath)\n",
    "for (i in lista){    \n",
    "    filename = paste(mypath, '/', i, '/', 'k_core.csv', sep = \"\")\n",
    "    print(filename)\n",
    "    DF <- read.csv(file = filename, skip=12)\n",
    "    tempDF <- DF[DF$state =='i',]\n",
    "    tempDF <- tempDF[tempDF$time == 1,]\n",
    "\n",
    "    agent <- as.integer(tempDF['agent'])\n",
    "    kcore <- as.integer(tempDF['k.core'])\n",
    "\n",
    "    DF$'agent.init' <- agent\n",
    "    DF$'k.core.init' <- kcore\n",
    "    DF$'density' <- 1\n",
    "    DF$'density.mean' <- 1\n",
    "    DF$'density.std' <- 1\n",
    "\n",
    "    DT <- data.table(DF)\n",
    "    DT1 = DT[, sum(density), by=list(time, state)]\n",
    "    \n",
    "    names(DT1)[names(DT1)==\"V1\"] <- \"density\"\n",
    "\n",
    "    DT1$density <- DT1$density / N_AGENTS\n",
    "\n",
    "    DT1$'agent.init' <- agent\n",
    "    DT1$'k.core.init' <- kcore\n",
    "    \n",
    "    tempDT1 <- DT1[DT1$state == 'r']\n",
    "    tempDT1 <- tempDT1[tempDT1$time == 500]\n",
    "    density <- as.numeric(tempDT1[,'density'])\n",
    "    \n",
    "    DT1 = DT1[DT1$state == 'r']\n",
    "    DT1[,state:=NULL]\n",
    "    #print(DT1)\n",
    "    emptytable <- rbind(emptytable, DT1)\n",
    "}"
   ]
  },
  {
   "cell_type": "code",
   "execution_count": null,
   "metadata": {
    "scrolled": true
   },
   "outputs": [],
   "source": [
    "rawtable <- emptytable"
   ]
  },
  {
   "cell_type": "markdown",
   "metadata": {},
   "source": [
    "Compute mean and standard deviation and add to data table"
   ]
  },
  {
   "cell_type": "code",
   "execution_count": null,
   "metadata": {},
   "outputs": [],
   "source": [
    "emptytable <- rawtable"
   ]
  },
  {
   "cell_type": "code",
   "execution_count": null,
   "metadata": {},
   "outputs": [],
   "source": [
    "emptytabletime <- emptytable[emptytable$time == 500]\n",
    "#emptytabletime <- emptytabletime[emptytabletime$density < 0.46]\n",
    "#emptytabletime <- emptytabletime[emptytabletime$density > 0.05]\n",
    "#emptytabletime$k.core.init <- emptytabletime$k.core.init + 1 + emptytabletime$k.core.init %% 2 \n",
    "toplot <- emptytabletime[, mean(density), by=list(time, k.core.init)][,'k.core.init']\n",
    "toplot$mean <- emptytabletime[emptytabletime$time == 500][, mean(density), by=list(time, k.core.init)][,'V1']\n",
    "toplot$std <- emptytabletime[emptytabletime$time == 500][, sd(density), by=list(time, k.core.init)][,'V1']"
   ]
  },
  {
   "cell_type": "markdown",
   "metadata": {},
   "source": [
    "Clean NaN values"
   ]
  },
  {
   "cell_type": "code",
   "execution_count": null,
   "metadata": {},
   "outputs": [],
   "source": [
    "toplot[is.na(toplot)] <- 0"
   ]
  },
  {
   "cell_type": "code",
   "execution_count": null,
   "metadata": {
    "scrolled": false
   },
   "outputs": [],
   "source": [
    "toplot"
   ]
  },
  {
   "cell_type": "markdown",
   "metadata": {},
   "source": [
    "Plot"
   ]
  },
  {
   "cell_type": "code",
   "execution_count": null,
   "metadata": {
    "scrolled": false
   },
   "outputs": [],
   "source": [
    "plot(toplot$k.core.init, toplot$mean,\n",
    "    ylim=range(c(toplot$mean-toplot$std, toplot$mean+toplot$std)),\n",
    "     #log='y',\n",
    "     xlab=TeX('$k_S$'), ylab=TeX('$M_{k_S}$'),\n",
    "    #main=\"Scatter plot with std.dev error bars\"\n",
    ")\n",
    "arrows(toplot$k.core.init, toplot$mean-toplot$std, \n",
    "       toplot$k.core.init, toplot$mean+toplot$std, length=0.05, angle=90, code=3)\n"
   ]
  },
  {
   "cell_type": "markdown",
   "metadata": {},
   "source": [
    "Log y plot"
   ]
  },
  {
   "cell_type": "code",
   "execution_count": null,
   "metadata": {
    "scrolled": false
   },
   "outputs": [],
   "source": [
    "plot(toplot$k.core.init, toplot$mean,\n",
    "     ylim=range(c(toplot$mean-toplot$std, toplot$mean+toplot$std)),\n",
    "     log='y',\n",
    "     xlab=TeX('$k_S$'), ylab=TeX('$M_{k_S}$'),\n",
    "    #main=\"Scatter plot with std.dev error bars\"\n",
    ")\n",
    "arrows(toplot$k.core.init, toplot$mean-toplot$std, \n",
    "       toplot$k.core.init, toplot$mean+toplot$std, length=0.05, angle=90, code=3)"
   ]
  },
  {
   "cell_type": "code",
   "execution_count": null,
   "metadata": {},
   "outputs": [],
   "source": []
  }
 ],
 "metadata": {
  "kernelspec": {
   "display_name": "R",
   "language": "R",
   "name": "ir"
  },
  "language_info": {
   "codemirror_mode": "r",
   "file_extension": ".r",
   "mimetype": "text/x-r-source",
   "name": "R",
   "pygments_lexer": "r",
   "version": "3.5.2"
  }
 },
 "nbformat": 4,
 "nbformat_minor": 2
}
