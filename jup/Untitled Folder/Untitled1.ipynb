{
 "cells": [
  {
   "cell_type": "code",
   "execution_count": 543,
   "metadata": {},
   "outputs": [],
   "source": [
    "library(data.table)\n",
    "library(ggplot2)\n",
    "library(latex2exp)\n"
   ]
  },
  {
   "cell_type": "code",
   "execution_count": 544,
   "metadata": {},
   "outputs": [],
   "source": [
    "time <- 200"
   ]
  },
  {
   "cell_type": "code",
   "execution_count": 515,
   "metadata": {},
   "outputs": [],
   "source": [
    "N_AGENTS <- 1134"
   ]
  },
  {
   "cell_type": "code",
   "execution_count": 545,
   "metadata": {},
   "outputs": [],
   "source": [
    "N_AGENTS <- 12625"
   ]
  },
  {
   "cell_type": "code",
   "execution_count": 516,
   "metadata": {},
   "outputs": [],
   "source": [
    "mypath <- \"../../log/ProvaURV-rand\""
   ]
  },
  {
   "cell_type": "code",
   "execution_count": 546,
   "metadata": {},
   "outputs": [],
   "source": [
    "mypath <- \"/home/nik/ProvaEmailcontacts2.5/ProvaEmailcontacts2.5\""
   ]
  },
  {
   "cell_type": "code",
   "execution_count": 547,
   "metadata": {},
   "outputs": [],
   "source": [
    "list.dirs <- function(path=\".\", pattern=NULL, all.dirs=FALSE,\n",
    "  full.names=FALSE, ignore.case=FALSE) {\n",
    "  # use full.names=TRUE to pass to file.info\n",
    "  all <- list.files(path, pattern, all.dirs,\n",
    "           full.names=TRUE, recursive=FALSE, ignore.case)\n",
    "  dirs <- all[file.info(all)$isdir]\n",
    "  # determine whether to return full names or just dir names\n",
    "  if(isTRUE(full.names))\n",
    "    return(dirs)\n",
    "  else\n",
    "    return(basename(dirs))\n",
    "}"
   ]
  },
  {
   "cell_type": "code",
   "execution_count": 548,
   "metadata": {},
   "outputs": [],
   "source": [
    "thepath = list.dirs(mypath)[1]"
   ]
  },
  {
   "cell_type": "code",
   "execution_count": 549,
   "metadata": {},
   "outputs": [],
   "source": [
    "filename = paste(mypath, '/', thepath, '/', 'k_core.csv', sep = \"\")"
   ]
  },
  {
   "cell_type": "code",
   "execution_count": 550,
   "metadata": {},
   "outputs": [],
   "source": [
    "DF <- read.csv(file = filename, skip=12)"
   ]
  },
  {
   "cell_type": "code",
   "execution_count": 551,
   "metadata": {},
   "outputs": [],
   "source": [
    "tempDF <- DF[DF$state =='i',]\n",
    "tempDF <- tempDF[tempDF$time == 1,]"
   ]
  },
  {
   "cell_type": "code",
   "execution_count": 552,
   "metadata": {},
   "outputs": [
    {
     "data": {
      "text/html": [
       "<table>\n",
       "<thead><tr><th></th><th scope=col>time</th><th scope=col>agent</th><th scope=col>k.core</th><th scope=col>state</th><th scope=col>degree</th></tr></thead>\n",
       "<tbody>\n",
       "\t<tr><th scope=row>1600</th><td>1   </td><td>1599</td><td>2   </td><td>i   </td><td>2   </td></tr>\n",
       "</tbody>\n",
       "</table>\n"
      ],
      "text/latex": [
       "\\begin{tabular}{r|lllll}\n",
       "  & time & agent & k.core & state & degree\\\\\n",
       "\\hline\n",
       "\t1600 & 1    & 1599 & 2    & i    & 2   \\\\\n",
       "\\end{tabular}\n"
      ],
      "text/markdown": [
       "\n",
       "| <!--/--> | time | agent | k.core | state | degree | \n",
       "|---|\n",
       "| 1600 | 1    | 1599 | 2    | i    | 2    | \n",
       "\n",
       "\n"
      ],
      "text/plain": [
       "     time agent k.core state degree\n",
       "1600 1    1599  2      i     2     "
      ]
     },
     "metadata": {},
     "output_type": "display_data"
    }
   ],
   "source": [
    "tempDF"
   ]
  },
  {
   "cell_type": "code",
   "execution_count": 553,
   "metadata": {},
   "outputs": [],
   "source": [
    "agent <- as.integer(tempDF['agent'])\n",
    "kcore <- as.integer(tempDF['k.core'])"
   ]
  },
  {
   "cell_type": "code",
   "execution_count": 554,
   "metadata": {},
   "outputs": [],
   "source": [
    "DF$'agent.init' <- agent\n",
    "DF$'k.core.init' <- kcore\n",
    "DF$'density' <- 1"
   ]
  },
  {
   "cell_type": "code",
   "execution_count": 555,
   "metadata": {
    "scrolled": true
   },
   "outputs": [],
   "source": [
    "DT <- data.table(DF)"
   ]
  },
  {
   "cell_type": "code",
   "execution_count": 556,
   "metadata": {},
   "outputs": [],
   "source": [
    "DT1 = DT[, sum(density), by=list(time, state)]"
   ]
  },
  {
   "cell_type": "code",
   "execution_count": 557,
   "metadata": {},
   "outputs": [],
   "source": [
    "names(DT1)[names(DT1)==\"V1\"] <- \"density\""
   ]
  },
  {
   "cell_type": "code",
   "execution_count": 558,
   "metadata": {},
   "outputs": [],
   "source": [
    "DT1$density <- DT1$density / N_AGENTS"
   ]
  },
  {
   "cell_type": "code",
   "execution_count": 559,
   "metadata": {},
   "outputs": [],
   "source": [
    "DT1$'agent.init' <- agent\n",
    "DT1$'k.core.init' <- kcore"
   ]
  },
  {
   "cell_type": "code",
   "execution_count": 560,
   "metadata": {},
   "outputs": [],
   "source": [
    "tempDT1 <- DT1[DT1$state == 'r']\n",
    "tempDT1 <- tempDT1[tempDT1$time == 200]\n",
    "density <- as.numeric(tempDT1[,'density'])"
   ]
  },
  {
   "cell_type": "code",
   "execution_count": 561,
   "metadata": {},
   "outputs": [
    {
     "data": {},
     "metadata": {},
     "output_type": "display_data"
    }
   ],
   "source": [
    "DT1 = DT1[DT1$state == 'r']\n",
    "DT1[,state:=NULL]"
   ]
  },
  {
   "cell_type": "markdown",
   "metadata": {},
   "source": [
    "## All datasets"
   ]
  },
  {
   "cell_type": "markdown",
   "metadata": {},
   "source": [
    "Assemble everything and do the loops"
   ]
  },
  {
   "cell_type": "code",
   "execution_count": 562,
   "metadata": {
    "scrolled": false
   },
   "outputs": [
    {
     "name": "stdout",
     "output_type": "stream",
     "text": [
      "[1] \"/home/nik/ProvaEmailcontacts2.5/ProvaEmailcontacts2.5/2019_27_02_12_58_46/k_core.csv\"\n",
      "[1] \"/home/nik/ProvaEmailcontacts2.5/ProvaEmailcontacts2.5/2019_27_02_12_58_55/k_core.csv\"\n",
      "[1] \"/home/nik/ProvaEmailcontacts2.5/ProvaEmailcontacts2.5/2019_27_02_12_59_12/k_core.csv\"\n",
      "[1] \"/home/nik/ProvaEmailcontacts2.5/ProvaEmailcontacts2.5/2019_27_02_12_59_19/k_core.csv\"\n",
      "[1] \"/home/nik/ProvaEmailcontacts2.5/ProvaEmailcontacts2.5/2019_27_02_13_19_42/k_core.csv\"\n",
      "[1] \"/home/nik/ProvaEmailcontacts2.5/ProvaEmailcontacts2.5/2019_27_02_13_19_51/k_core.csv\"\n",
      "[1] \"/home/nik/ProvaEmailcontacts2.5/ProvaEmailcontacts2.5/2019_27_02_13_19_56/k_core.csv\"\n",
      "[1] \"/home/nik/ProvaEmailcontacts2.5/ProvaEmailcontacts2.5/2019_27_02_13_20_05/k_core.csv\"\n",
      "[1] \"/home/nik/ProvaEmailcontacts2.5/ProvaEmailcontacts2.5/2019_27_02_13_38_12/k_core.csv\"\n",
      "[1] \"/home/nik/ProvaEmailcontacts2.5/ProvaEmailcontacts2.5/2019_27_02_13_40_29/k_core.csv\"\n",
      "[1] \"/home/nik/ProvaEmailcontacts2.5/ProvaEmailcontacts2.5/2019_27_02_13_40_31/k_core.csv\"\n",
      "[1] \"/home/nik/ProvaEmailcontacts2.5/ProvaEmailcontacts2.5/2019_27_02_13_41_05/k_core.csv\"\n",
      "[1] \"/home/nik/ProvaEmailcontacts2.5/ProvaEmailcontacts2.5/2019_27_02_13_58_54/k_core.csv\"\n",
      "[1] \"/home/nik/ProvaEmailcontacts2.5/ProvaEmailcontacts2.5/2019_27_02_14_01_06/k_core.csv\"\n",
      "[1] \"/home/nik/ProvaEmailcontacts2.5/ProvaEmailcontacts2.5/2019_27_02_14_01_32/k_core.csv\"\n",
      "[1] \"/home/nik/ProvaEmailcontacts2.5/ProvaEmailcontacts2.5/2019_27_02_14_01_50/k_core.csv\"\n",
      "[1] \"/home/nik/ProvaEmailcontacts2.5/ProvaEmailcontacts2.5/2019_27_02_14_19_36/k_core.csv\"\n",
      "[1] \"/home/nik/ProvaEmailcontacts2.5/ProvaEmailcontacts2.5/2019_27_02_14_21_27/k_core.csv\"\n",
      "[1] \"/home/nik/ProvaEmailcontacts2.5/ProvaEmailcontacts2.5/2019_27_02_14_22_19/k_core.csv\"\n",
      "[1] \"/home/nik/ProvaEmailcontacts2.5/ProvaEmailcontacts2.5/2019_27_02_14_22_58/k_core.csv\"\n",
      "[1] \"/home/nik/ProvaEmailcontacts2.5/ProvaEmailcontacts2.5/2019_27_02_14_39_56/k_core.csv\"\n",
      "[1] \"/home/nik/ProvaEmailcontacts2.5/ProvaEmailcontacts2.5/2019_27_02_14_42_17/k_core.csv\"\n",
      "[1] \"/home/nik/ProvaEmailcontacts2.5/ProvaEmailcontacts2.5/2019_27_02_14_42_48/k_core.csv\"\n",
      "[1] \"/home/nik/ProvaEmailcontacts2.5/ProvaEmailcontacts2.5/2019_27_02_14_43_47/k_core.csv\"\n",
      "[1] \"/home/nik/ProvaEmailcontacts2.5/ProvaEmailcontacts2.5/2019_27_02_15_00_32/k_core.csv\"\n",
      "[1] \"/home/nik/ProvaEmailcontacts2.5/ProvaEmailcontacts2.5/2019_27_02_15_02_11/k_core.csv\"\n",
      "[1] \"/home/nik/ProvaEmailcontacts2.5/ProvaEmailcontacts2.5/2019_27_02_15_03_22/k_core.csv\"\n",
      "[1] \"/home/nik/ProvaEmailcontacts2.5/ProvaEmailcontacts2.5/2019_27_02_15_04_18/k_core.csv\"\n",
      "[1] \"/home/nik/ProvaEmailcontacts2.5/ProvaEmailcontacts2.5/2019_27_02_15_20_45/k_core.csv\"\n",
      "[1] \"/home/nik/ProvaEmailcontacts2.5/ProvaEmailcontacts2.5/2019_27_02_15_22_46/k_core.csv\"\n",
      "[1] \"/home/nik/ProvaEmailcontacts2.5/ProvaEmailcontacts2.5/2019_27_02_15_24_09/k_core.csv\"\n",
      "[1] \"/home/nik/ProvaEmailcontacts2.5/ProvaEmailcontacts2.5/2019_27_02_15_24_48/k_core.csv\"\n",
      "[1] \"/home/nik/ProvaEmailcontacts2.5/ProvaEmailcontacts2.5/2019_27_02_15_41_37/k_core.csv\"\n",
      "[1] \"/home/nik/ProvaEmailcontacts2.5/ProvaEmailcontacts2.5/2019_27_02_15_43_24/k_core.csv\"\n",
      "[1] \"/home/nik/ProvaEmailcontacts2.5/ProvaEmailcontacts2.5/2019_27_02_15_44_49/k_core.csv\"\n",
      "[1] \"/home/nik/ProvaEmailcontacts2.5/ProvaEmailcontacts2.5/2019_27_02_15_45_30/k_core.csv\"\n",
      "[1] \"/home/nik/ProvaEmailcontacts2.5/ProvaEmailcontacts2.5/2019_27_02_16_02_23/k_core.csv\"\n",
      "[1] \"/home/nik/ProvaEmailcontacts2.5/ProvaEmailcontacts2.5/2019_27_02_16_03_50/k_core.csv\"\n",
      "[1] \"/home/nik/ProvaEmailcontacts2.5/ProvaEmailcontacts2.5/2019_27_02_16_05_19/k_core.csv\"\n",
      "[1] \"/home/nik/ProvaEmailcontacts2.5/ProvaEmailcontacts2.5/2019_27_02_16_06_01/k_core.csv\"\n",
      "[1] \"/home/nik/ProvaEmailcontacts2.5/ProvaEmailcontacts2.5/2019_27_02_16_22_45/k_core.csv\"\n",
      "[1] \"/home/nik/ProvaEmailcontacts2.5/ProvaEmailcontacts2.5/2019_27_02_16_24_10/k_core.csv\"\n",
      "[1] \"/home/nik/ProvaEmailcontacts2.5/ProvaEmailcontacts2.5/2019_27_02_16_25_51/k_core.csv\"\n",
      "[1] \"/home/nik/ProvaEmailcontacts2.5/ProvaEmailcontacts2.5/2019_27_02_16_26_21/k_core.csv\"\n",
      "[1] \"/home/nik/ProvaEmailcontacts2.5/ProvaEmailcontacts2.5/2019_27_02_16_43_25/k_core.csv\"\n",
      "[1] \"/home/nik/ProvaEmailcontacts2.5/ProvaEmailcontacts2.5/2019_27_02_16_44_47/k_core.csv\"\n",
      "[1] \"/home/nik/ProvaEmailcontacts2.5/ProvaEmailcontacts2.5/2019_27_02_16_46_06/k_core.csv\"\n",
      "[1] \"/home/nik/ProvaEmailcontacts2.5/ProvaEmailcontacts2.5/2019_27_02_16_46_44/k_core.csv\"\n",
      "[1] \"/home/nik/ProvaEmailcontacts2.5/ProvaEmailcontacts2.5/2019_27_02_17_03_59/k_core.csv\"\n",
      "[1] \"/home/nik/ProvaEmailcontacts2.5/ProvaEmailcontacts2.5/2019_27_02_17_05_19/k_core.csv\"\n",
      "[1] \"/home/nik/ProvaEmailcontacts2.5/ProvaEmailcontacts2.5/2019_27_02_17_06_24/k_core.csv\"\n",
      "[1] \"/home/nik/ProvaEmailcontacts2.5/ProvaEmailcontacts2.5/2019_27_02_17_07_07/k_core.csv\"\n",
      "[1] \"/home/nik/ProvaEmailcontacts2.5/ProvaEmailcontacts2.5/2019_27_02_17_24_30/k_core.csv\"\n",
      "[1] \"/home/nik/ProvaEmailcontacts2.5/ProvaEmailcontacts2.5/2019_27_02_17_26_07/k_core.csv\"\n",
      "[1] \"/home/nik/ProvaEmailcontacts2.5/ProvaEmailcontacts2.5/2019_27_02_17_26_53/k_core.csv\"\n",
      "[1] \"/home/nik/ProvaEmailcontacts2.5/ProvaEmailcontacts2.5/2019_27_02_17_27_38/k_core.csv\"\n",
      "[1] \"/home/nik/ProvaEmailcontacts2.5/ProvaEmailcontacts2.5/2019_27_02_17_44_45/k_core.csv\"\n",
      "[1] \"/home/nik/ProvaEmailcontacts2.5/ProvaEmailcontacts2.5/2019_27_02_17_46_48/k_core.csv\"\n",
      "[1] \"/home/nik/ProvaEmailcontacts2.5/ProvaEmailcontacts2.5/2019_27_02_17_47_17/k_core.csv\"\n",
      "[1] \"/home/nik/ProvaEmailcontacts2.5/ProvaEmailcontacts2.5/2019_27_02_17_48_28/k_core.csv\"\n",
      "[1] \"/home/nik/ProvaEmailcontacts2.5/ProvaEmailcontacts2.5/2019_27_02_18_05_17/k_core.csv\"\n",
      "[1] \"/home/nik/ProvaEmailcontacts2.5/ProvaEmailcontacts2.5/2019_27_02_18_07_25/k_core.csv\"\n",
      "[1] \"/home/nik/ProvaEmailcontacts2.5/ProvaEmailcontacts2.5/2019_27_02_18_07_38/k_core.csv\"\n",
      "[1] \"/home/nik/ProvaEmailcontacts2.5/ProvaEmailcontacts2.5/2019_27_02_18_08_57/k_core.csv\"\n",
      "[1] \"/home/nik/ProvaEmailcontacts2.5/ProvaEmailcontacts2.5/2019_27_02_18_25_32/k_core.csv\"\n",
      "[1] \"/home/nik/ProvaEmailcontacts2.5/ProvaEmailcontacts2.5/2019_27_02_18_28_02/k_core.csv\"\n",
      "[1] \"/home/nik/ProvaEmailcontacts2.5/ProvaEmailcontacts2.5/2019_27_02_18_28_11/k_core.csv\"\n",
      "[1] \"/home/nik/ProvaEmailcontacts2.5/ProvaEmailcontacts2.5/2019_27_02_18_29_56/k_core.csv\"\n",
      "[1] \"/home/nik/ProvaEmailcontacts2.5/ProvaEmailcontacts2.5/2019_27_02_18_46_11/k_core.csv\"\n",
      "[1] \"/home/nik/ProvaEmailcontacts2.5/ProvaEmailcontacts2.5/2019_27_02_18_48_57/k_core.csv\"\n",
      "[1] \"/home/nik/ProvaEmailcontacts2.5/ProvaEmailcontacts2.5/2019_27_02_18_49_22/k_core.csv\"\n",
      "[1] \"/home/nik/ProvaEmailcontacts2.5/ProvaEmailcontacts2.5/2019_27_02_18_51_03/k_core.csv\"\n",
      "[1] \"/home/nik/ProvaEmailcontacts2.5/ProvaEmailcontacts2.5/2019_27_02_19_06_43/k_core.csv\"\n",
      "[1] \"/home/nik/ProvaEmailcontacts2.5/ProvaEmailcontacts2.5/2019_27_02_19_09_43/k_core.csv\"\n",
      "[1] \"/home/nik/ProvaEmailcontacts2.5/ProvaEmailcontacts2.5/2019_27_02_19_09_45/k_core.csv\"\n",
      "[1] \"/home/nik/ProvaEmailcontacts2.5/ProvaEmailcontacts2.5/2019_27_02_19_11_23/k_core.csv\"\n",
      "[1] \"/home/nik/ProvaEmailcontacts2.5/ProvaEmailcontacts2.5/2019_27_02_19_27_01/k_core.csv\"\n",
      "[1] \"/home/nik/ProvaEmailcontacts2.5/ProvaEmailcontacts2.5/2019_27_02_19_30_31/k_core.csv\"\n",
      "[1] \"/home/nik/ProvaEmailcontacts2.5/ProvaEmailcontacts2.5/2019_27_02_19_30_40/k_core.csv\"\n",
      "[1] \"/home/nik/ProvaEmailcontacts2.5/ProvaEmailcontacts2.5/2019_27_02_19_31_45/k_core.csv\"\n",
      "[1] \"/home/nik/ProvaEmailcontacts2.5/ProvaEmailcontacts2.5/2019_27_02_19_47_46/k_core.csv\"\n",
      "[1] \"/home/nik/ProvaEmailcontacts2.5/ProvaEmailcontacts2.5/2019_27_02_19_50_51/k_core.csv\"\n",
      "[1] \"/home/nik/ProvaEmailcontacts2.5/ProvaEmailcontacts2.5/2019_27_02_19_51_46/k_core.csv\"\n",
      "[1] \"/home/nik/ProvaEmailcontacts2.5/ProvaEmailcontacts2.5/2019_27_02_19_52_30/k_core.csv\"\n",
      "[1] \"/home/nik/ProvaEmailcontacts2.5/ProvaEmailcontacts2.5/2019_27_02_20_08_23/k_core.csv\"\n",
      "[1] \"/home/nik/ProvaEmailcontacts2.5/ProvaEmailcontacts2.5/2019_27_02_20_11_26/k_core.csv\"\n",
      "[1] \"/home/nik/ProvaEmailcontacts2.5/ProvaEmailcontacts2.5/2019_27_02_20_12_33/k_core.csv\"\n",
      "[1] \"/home/nik/ProvaEmailcontacts2.5/ProvaEmailcontacts2.5/2019_27_02_20_12_50/k_core.csv\"\n",
      "[1] \"/home/nik/ProvaEmailcontacts2.5/ProvaEmailcontacts2.5/2019_27_02_20_29_05/k_core.csv\"\n",
      "[1] \"/home/nik/ProvaEmailcontacts2.5/ProvaEmailcontacts2.5/2019_27_02_20_32_14/k_core.csv\"\n",
      "[1] \"/home/nik/ProvaEmailcontacts2.5/ProvaEmailcontacts2.5/2019_27_02_20_33_04/k_core.csv\"\n",
      "[1] \"/home/nik/ProvaEmailcontacts2.5/ProvaEmailcontacts2.5/2019_27_02_20_33_13/k_core.csv\"\n",
      "[1] \"/home/nik/ProvaEmailcontacts2.5/ProvaEmailcontacts2.5/2019_27_02_20_49_25/k_core.csv\"\n",
      "[1] \"/home/nik/ProvaEmailcontacts2.5/ProvaEmailcontacts2.5/2019_27_02_20_52_50/k_core.csv\"\n",
      "[1] \"/home/nik/ProvaEmailcontacts2.5/ProvaEmailcontacts2.5/2019_27_02_20_53_27/k_core.csv\"\n",
      "[1] \"/home/nik/ProvaEmailcontacts2.5/ProvaEmailcontacts2.5/2019_27_02_20_53_33/k_core.csv\"\n",
      "[1] \"/home/nik/ProvaEmailcontacts2.5/ProvaEmailcontacts2.5/2019_27_02_21_10_07/k_core.csv\"\n",
      "[1] \"/home/nik/ProvaEmailcontacts2.5/ProvaEmailcontacts2.5/2019_27_02_21_13_28/k_core.csv\"\n",
      "[1] \"/home/nik/ProvaEmailcontacts2.5/ProvaEmailcontacts2.5/2019_27_02_21_14_11/k_core.csv\"\n",
      "[1] \"/home/nik/ProvaEmailcontacts2.5/ProvaEmailcontacts2.5/2019_27_02_21_14_25/k_core.csv\"\n",
      "[1] \"/home/nik/ProvaEmailcontacts2.5/ProvaEmailcontacts2.5/2019_27_02_21_30_19/k_core.csv\"\n",
      "[1] \"/home/nik/ProvaEmailcontacts2.5/ProvaEmailcontacts2.5/2019_27_02_21_33_42/k_core.csv\"\n",
      "[1] \"/home/nik/ProvaEmailcontacts2.5/ProvaEmailcontacts2.5/2019_27_02_21_34_30/k_core.csv\"\n",
      "[1] \"/home/nik/ProvaEmailcontacts2.5/ProvaEmailcontacts2.5/2019_27_02_21_34_46/k_core.csv\"\n",
      "[1] \"/home/nik/ProvaEmailcontacts2.5/ProvaEmailcontacts2.5/2019_27_02_21_50_53/k_core.csv\"\n",
      "[1] \"/home/nik/ProvaEmailcontacts2.5/ProvaEmailcontacts2.5/2019_27_02_21_54_33/k_core.csv\"\n",
      "[1] \"/home/nik/ProvaEmailcontacts2.5/ProvaEmailcontacts2.5/2019_27_02_21_55_18/k_core.csv\"\n",
      "[1] \"/home/nik/ProvaEmailcontacts2.5/ProvaEmailcontacts2.5/2019_27_02_21_55_27/k_core.csv\"\n",
      "[1] \"/home/nik/ProvaEmailcontacts2.5/ProvaEmailcontacts2.5/2019_27_02_22_11_09/k_core.csv\"\n",
      "[1] \"/home/nik/ProvaEmailcontacts2.5/ProvaEmailcontacts2.5/2019_27_02_22_15_13/k_core.csv\"\n",
      "[1] \"/home/nik/ProvaEmailcontacts2.5/ProvaEmailcontacts2.5/2019_27_02_22_15_37/k_core.csv\"\n",
      "[1] \"/home/nik/ProvaEmailcontacts2.5/ProvaEmailcontacts2.5/2019_27_02_22_15_58/k_core.csv\"\n",
      "[1] \"/home/nik/ProvaEmailcontacts2.5/ProvaEmailcontacts2.5/2019_27_02_22_31_45/k_core.csv\"\n",
      "[1] \"/home/nik/ProvaEmailcontacts2.5/ProvaEmailcontacts2.5/2019_27_02_22_36_13/k_core.csv\"\n",
      "[1] \"/home/nik/ProvaEmailcontacts2.5/ProvaEmailcontacts2.5/2019_27_02_22_36_14/k_core.csv\"\n",
      "[1] \"/home/nik/ProvaEmailcontacts2.5/ProvaEmailcontacts2.5/2019_27_02_22_36_26/k_core.csv\"\n",
      "[1] \"/home/nik/ProvaEmailcontacts2.5/ProvaEmailcontacts2.5/2019_27_02_22_52_29/k_core.csv\"\n",
      "[1] \"/home/nik/ProvaEmailcontacts2.5/ProvaEmailcontacts2.5/2019_27_02_22_56_42/k_core.csv\"\n",
      "[1] \"/home/nik/ProvaEmailcontacts2.5/ProvaEmailcontacts2.5/2019_27_02_22_57_04/k_core.csv\"\n",
      "[1] \"/home/nik/ProvaEmailcontacts2.5/ProvaEmailcontacts2.5/2019_27_02_23_13_05/k_core.csv\"\n",
      "[1] \"/home/nik/ProvaEmailcontacts2.5/ProvaEmailcontacts2.5/2019_27_02_23_17_10/k_core.csv\"\n",
      "[1] \"/home/nik/ProvaEmailcontacts2.5/ProvaEmailcontacts2.5/2019_27_02_23_17_18/k_core.csv\"\n",
      "[1] \"/home/nik/ProvaEmailcontacts2.5/ProvaEmailcontacts2.5/2019_27_02_23_17_33/k_core.csv\"\n",
      "[1] \"/home/nik/ProvaEmailcontacts2.5/ProvaEmailcontacts2.5/2019_27_02_23_33_37/k_core.csv\"\n",
      "[1] \"/home/nik/ProvaEmailcontacts2.5/ProvaEmailcontacts2.5/2019_27_02_23_37_44/k_core.csv\"\n",
      "[1] \"/home/nik/ProvaEmailcontacts2.5/ProvaEmailcontacts2.5/2019_27_02_23_37_56/k_core.csv\"\n",
      "[1] \"/home/nik/ProvaEmailcontacts2.5/ProvaEmailcontacts2.5/2019_27_02_23_38_37/k_core.csv\"\n",
      "[1] \"/home/nik/ProvaEmailcontacts2.5/ProvaEmailcontacts2.5/2019_27_02_23_54_04/k_core.csv\"\n",
      "[1] \"/home/nik/ProvaEmailcontacts2.5/ProvaEmailcontacts2.5/2019_27_02_23_58_22/k_core.csv\"\n",
      "[1] \"/home/nik/ProvaEmailcontacts2.5/ProvaEmailcontacts2.5/2019_27_02_23_58_31/k_core.csv\"\n",
      "[1] \"/home/nik/ProvaEmailcontacts2.5/ProvaEmailcontacts2.5/2019_27_02_23_59_10/k_core.csv\"\n",
      "[1] \"/home/nik/ProvaEmailcontacts2.5/ProvaEmailcontacts2.5/2019_28_02_00_14_44/k_core.csv\"\n",
      "[1] \"/home/nik/ProvaEmailcontacts2.5/ProvaEmailcontacts2.5/2019_28_02_00_19_18/k_core.csv\"\n",
      "[1] \"/home/nik/ProvaEmailcontacts2.5/ProvaEmailcontacts2.5/2019_28_02_00_19_21/k_core.csv\"\n",
      "[1] \"/home/nik/ProvaEmailcontacts2.5/ProvaEmailcontacts2.5/2019_28_02_00_19_48/k_core.csv\"\n"
     ]
    }
   ],
   "source": [
    "emptytable <- data.table()\n",
    "lista = list.dirs(mypath)\n",
    "for (i in lista){    \n",
    "    filename = paste(mypath, '/', i, '/', 'k_core.csv', sep = \"\")\n",
    "    print(filename)\n",
    "    DF <- read.csv(file = filename, skip=12)\n",
    "    tempDF <- DF[DF$state =='i',]\n",
    "    tempDF <- tempDF[tempDF$time == 1,]\n",
    "\n",
    "    agent <- as.integer(tempDF['agent'])\n",
    "    kcore <- as.integer(tempDF['k.core'])\n",
    "\n",
    "    DF$'agent.init' <- agent\n",
    "    DF$'k.core.init' <- kcore\n",
    "    DF$'density' <- 1\n",
    "    DF$'density.mean' <- 1\n",
    "    DF$'density.std' <- 1\n",
    "\n",
    "    DT <- data.table(DF)\n",
    "    DT1 = DT[, sum(density), by=list(time, state)]\n",
    "    \n",
    "    names(DT1)[names(DT1)==\"V1\"] <- \"density\"\n",
    "\n",
    "    DT1$density <- DT1$density / N_AGENTS\n",
    "\n",
    "    DT1$'agent.init' <- agent\n",
    "    DT1$'k.core.init' <- kcore\n",
    "    \n",
    "    tempDT1 <- DT1[DT1$state == 'r']\n",
    "    tempDT1 <- tempDT1[tempDT1$time == 200]\n",
    "    density <- as.numeric(tempDT1[,'density'])\n",
    "    \n",
    "    DT1 = DT1[DT1$state == 'r']\n",
    "    DT1[,state:=NULL]\n",
    "    #print(DT1)\n",
    "    emptytable <- rbind(emptytable, DT1)\n",
    "}"
   ]
  },
  {
   "cell_type": "code",
   "execution_count": 563,
   "metadata": {
    "scrolled": true
   },
   "outputs": [],
   "source": [
    "rawtable <- emptytable"
   ]
  },
  {
   "cell_type": "markdown",
   "metadata": {},
   "source": [
    "Compute mean and standard deviation and add to data table"
   ]
  },
  {
   "cell_type": "code",
   "execution_count": 618,
   "metadata": {},
   "outputs": [],
   "source": [
    "emptytable <- rawtable"
   ]
  },
  {
   "cell_type": "code",
   "execution_count": 619,
   "metadata": {},
   "outputs": [],
   "source": [
    "emptytabletime <- emptytable[emptytable$time == 200]\n",
    "#emptytabletime <- emptytabletime[emptytabletime$density < 0.46]\n",
    "emptytabletime <- emptytabletime[emptytabletime$density > 0.005]\n",
    "emptytabletime$k.core.init <- emptytabletime$k.core.init  + emptytabletime$k.core.init %% 2 \n",
    "toplot <- emptytabletime[, mean(density), by=list(time, k.core.init)][,'k.core.init']\n",
    "toplot$mean <- emptytabletime[emptytabletime$time == 200][, mean(density), by=list(time, k.core.init)][,'V1']\n",
    "toplot$std <- emptytabletime[emptytabletime$time == 200][, sd(density), by=list(time, k.core.init)][,'V1']"
   ]
  },
  {
   "cell_type": "markdown",
   "metadata": {},
   "source": [
    "Clean NaN values"
   ]
  },
  {
   "cell_type": "code",
   "execution_count": 620,
   "metadata": {},
   "outputs": [],
   "source": [
    "toplot[is.na(toplot)] <- 0"
   ]
  },
  {
   "cell_type": "code",
   "execution_count": 621,
   "metadata": {
    "scrolled": false
   },
   "outputs": [
    {
     "data": {
      "text/html": [
       "<table>\n",
       "<thead><tr><th scope=col>k.core.init</th><th scope=col>mean</th><th scope=col>std</th></tr></thead>\n",
       "<tbody>\n",
       "\t<tr><td> 2              </td><td>0.0317029702970 </td><td>0.00471247795407</td></tr>\n",
       "\t<tr><td> 4              </td><td>0.0328347296268 </td><td>0.00539085557234</td></tr>\n",
       "\t<tr><td> 6              </td><td>0.0323655750190 </td><td>0.00639850474818</td></tr>\n",
       "\t<tr><td> 8              </td><td>0.0342376237624 </td><td>0.00365889234670</td></tr>\n",
       "\t<tr><td>10              </td><td>0.0343031226200 </td><td>0.00346218983630</td></tr>\n",
       "\t<tr><td>12              </td><td>0.0349063214014 </td><td>0.00429325741132</td></tr>\n",
       "\t<tr><td>14              </td><td>0.0346226622662 </td><td>0.00453140000793</td></tr>\n",
       "\t<tr><td>16              </td><td>0.0342970297030 </td><td>0.00296822181161</td></tr>\n",
       "\t<tr><td>18              </td><td>0.0303762376238 </td><td>0.00216678668677</td></tr>\n",
       "\t<tr><td>24              </td><td>0.0329702970297 </td><td>0.00758506315210</td></tr>\n",
       "\t<tr><td>20              </td><td>0.0343762376238 </td><td>0.00439300582142</td></tr>\n",
       "\t<tr><td>22              </td><td>0.0358336633663 </td><td>0.00874586014072</td></tr>\n",
       "</tbody>\n",
       "</table>\n"
      ],
      "text/latex": [
       "\\begin{tabular}{r|lll}\n",
       " k.core.init & mean & std\\\\\n",
       "\\hline\n",
       "\t  2               & 0.0317029702970  & 0.00471247795407\\\\\n",
       "\t  4               & 0.0328347296268  & 0.00539085557234\\\\\n",
       "\t  6               & 0.0323655750190  & 0.00639850474818\\\\\n",
       "\t  8               & 0.0342376237624  & 0.00365889234670\\\\\n",
       "\t 10               & 0.0343031226200  & 0.00346218983630\\\\\n",
       "\t 12               & 0.0349063214014  & 0.00429325741132\\\\\n",
       "\t 14               & 0.0346226622662  & 0.00453140000793\\\\\n",
       "\t 16               & 0.0342970297030  & 0.00296822181161\\\\\n",
       "\t 18               & 0.0303762376238  & 0.00216678668677\\\\\n",
       "\t 24               & 0.0329702970297  & 0.00758506315210\\\\\n",
       "\t 20               & 0.0343762376238  & 0.00439300582142\\\\\n",
       "\t 22               & 0.0358336633663  & 0.00874586014072\\\\\n",
       "\\end{tabular}\n"
      ],
      "text/markdown": [
       "\n",
       "k.core.init | mean | std | \n",
       "|---|---|---|---|---|---|---|---|---|---|---|---|\n",
       "|  2               | 0.0317029702970  | 0.00471247795407 | \n",
       "|  4               | 0.0328347296268  | 0.00539085557234 | \n",
       "|  6               | 0.0323655750190  | 0.00639850474818 | \n",
       "|  8               | 0.0342376237624  | 0.00365889234670 | \n",
       "| 10               | 0.0343031226200  | 0.00346218983630 | \n",
       "| 12               | 0.0349063214014  | 0.00429325741132 | \n",
       "| 14               | 0.0346226622662  | 0.00453140000793 | \n",
       "| 16               | 0.0342970297030  | 0.00296822181161 | \n",
       "| 18               | 0.0303762376238  | 0.00216678668677 | \n",
       "| 24               | 0.0329702970297  | 0.00758506315210 | \n",
       "| 20               | 0.0343762376238  | 0.00439300582142 | \n",
       "| 22               | 0.0358336633663  | 0.00874586014072 | \n",
       "\n",
       "\n"
      ],
      "text/plain": [
       "   k.core.init mean            std             \n",
       "1   2          0.0317029702970 0.00471247795407\n",
       "2   4          0.0328347296268 0.00539085557234\n",
       "3   6          0.0323655750190 0.00639850474818\n",
       "4   8          0.0342376237624 0.00365889234670\n",
       "5  10          0.0343031226200 0.00346218983630\n",
       "6  12          0.0349063214014 0.00429325741132\n",
       "7  14          0.0346226622662 0.00453140000793\n",
       "8  16          0.0342970297030 0.00296822181161\n",
       "9  18          0.0303762376238 0.00216678668677\n",
       "10 24          0.0329702970297 0.00758506315210\n",
       "11 20          0.0343762376238 0.00439300582142\n",
       "12 22          0.0358336633663 0.00874586014072"
      ]
     },
     "metadata": {},
     "output_type": "display_data"
    }
   ],
   "source": [
    "toplot"
   ]
  },
  {
   "cell_type": "markdown",
   "metadata": {},
   "source": [
    "Plot"
   ]
  },
  {
   "cell_type": "code",
   "execution_count": 622,
   "metadata": {},
   "outputs": [
    {
     "data": {
      "image/png": "[encoded data removed]",
      "text/plain": [
       "plot without title"
      ]
     },
     "metadata": {},
     "output_type": "display_data"
    }
   ],
   "source": [
    "plot(toplot$k.core.init, toplot$mean,\n",
    "    ylim=range(c(toplot$mean-toplot$std, toplot$mean+toplot$std)),\n",
    "     #log='y',\n",
    "     xlab=TeX('$k_S$'), ylab=TeX('$M_{k_S}$'),\n",
    "    #main=\"Scatter plot with std.dev error bars\"\n",
    ")\n",
    "arrows(toplot$k.core.init, toplot$mean-toplot$std, \n",
    "       toplot$k.core.init, toplot$mean+toplot$std, length=0.05, angle=90, code=3)"
   ]
  },
  {
   "cell_type": "code",
   "execution_count": 623,
   "metadata": {
    "scrolled": false
   },
   "outputs": [
    {
     "data": {
      "text/html": [
       "<strong>png:</strong> 2"
      ],
      "text/latex": [
       "\\textbf{png:} 2"
      ],
      "text/markdown": [
       "**png:** 2"
      ],
      "text/plain": [
       "png \n",
       "  2 "
      ]
     },
     "metadata": {},
     "output_type": "display_data"
    }
   ],
   "source": [
    "pdf('mksonks.pdf')\n",
    "plot(toplot$k.core.init, toplot$mean,\n",
    "    ylim=range(c(toplot$mean-toplot$std, toplot$mean+toplot$std)),\n",
    "     #log='y',\n",
    "     xlab=TeX('$k_S$'), ylab=TeX('$M_{k_S}$'),\n",
    "    #main=\"Scatter plot with std.dev error bars\"\n",
    ")\n",
    "arrows(toplot$k.core.init, toplot$mean-toplot$std, \n",
    "       toplot$k.core.init, toplot$mean+toplot$std, length=0.05, angle=90, code=3)\n",
    "dev.off()\n"
   ]
  },
  {
   "cell_type": "markdown",
   "metadata": {},
   "source": [
    "Log y plot"
   ]
  },
  {
   "cell_type": "code",
   "execution_count": 624,
   "metadata": {},
   "outputs": [
    {
     "data": {
      "image/png": "[encoded data removed]",
      "text/plain": [
       "plot without title"
      ]
     },
     "metadata": {},
     "output_type": "display_data"
    }
   ],
   "source": [
    "plot(toplot$k.core.init, toplot$mean,\n",
    "     ylim=range(c(toplot$mean-toplot$std, toplot$mean+toplot$std)),\n",
    "     log='y',\n",
    "     xlab=TeX('$k_S$'), ylab=TeX('$M_{k_S}$'),\n",
    "    #main=\"Scatter plot with std.dev error bars\"\n",
    ")\n",
    "arrows(toplot$k.core.init, toplot$mean-toplot$std, \n",
    "       toplot$k.core.init, toplot$mean+toplot$std, length=0.05, angle=90, code=3)"
   ]
  },
  {
   "cell_type": "code",
   "execution_count": 625,
   "metadata": {
    "scrolled": false
   },
   "outputs": [
    {
     "data": {
      "text/html": [
       "<strong>png:</strong> 2"
      ],
      "text/latex": [
       "\\textbf{png:} 2"
      ],
      "text/markdown": [
       "**png:** 2"
      ],
      "text/plain": [
       "png \n",
       "  2 "
      ]
     },
     "metadata": {},
     "output_type": "display_data"
    }
   ],
   "source": [
    "pdf('logmksonks.pdf')\n",
    "plot(toplot$k.core.init, toplot$mean,\n",
    "     ylim=range(c(toplot$mean-toplot$std, toplot$mean+toplot$std)),\n",
    "     log='y',\n",
    "     xlab=TeX('$k_S$'), ylab=TeX('$M_{k_S}$'),\n",
    "    #main=\"Scatter plot with std.dev error bars\"\n",
    ")\n",
    "arrows(toplot$k.core.init, toplot$mean-toplot$std, \n",
    "       toplot$k.core.init, toplot$mean+toplot$std, length=0.05, angle=90, code=3)\n",
    "dev.off()"
   ]
  },
  {
   "cell_type": "code",
   "execution_count": null,
   "metadata": {},
   "outputs": [],
   "source": []
  }
 ],
 "metadata": {
  "kernelspec": {
   "display_name": "R",
   "language": "R",
   "name": "ir"
  },
  "language_info": {
   "codemirror_mode": "r",
   "file_extension": ".r",
   "mimetype": "text/x-r-source",
   "name": "R",
   "pygments_lexer": "r",
   "version": "3.5.2"
  }
 },
 "nbformat": 4,
 "nbformat_minor": 2
}
