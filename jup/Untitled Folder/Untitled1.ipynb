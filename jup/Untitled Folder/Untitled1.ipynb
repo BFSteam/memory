{
 "cells": [
  {
   "cell_type": "code",
   "execution_count": 1,
   "metadata": {},
   "outputs": [],
   "source": [
    "library(data.table)\n",
    "library(ggplot2)\n",
    "library(latex2exp)\n"
   ]
  },
  {
   "cell_type": "code",
   "execution_count": 205,
   "metadata": {},
   "outputs": [],
   "source": [
    "time <- as.integer(50)"
   ]
  },
  {
   "cell_type": "code",
   "execution_count": 323,
   "metadata": {},
   "outputs": [],
   "source": [
    "N_AGENTS <- 1134"
   ]
  },
  {
   "cell_type": "code",
   "execution_count": 324,
   "metadata": {},
   "outputs": [],
   "source": [
    "N_AGENTS <- 12625"
   ]
  },
  {
   "cell_type": "code",
   "execution_count": 325,
   "metadata": {},
   "outputs": [],
   "source": [
    "mypath <- \"../../log/EmailURV-oldnews\""
   ]
  },
  {
   "cell_type": "code",
   "execution_count": 326,
   "metadata": {},
   "outputs": [],
   "source": [
    "#mypath <- \"/home/nik/ProvaEmailcontacts2.5/ProvaEmailcontacts2.5\""
   ]
  },
  {
   "cell_type": "code",
   "execution_count": 327,
   "metadata": {},
   "outputs": [],
   "source": [
    "list.dirs <- function(path=\".\", pattern=NULL, all.dirs=FALSE,\n",
    "  full.names=FALSE, ignore.case=FALSE) {\n",
    "  # use full.names=TRUE to pass to file.info\n",
    "  all <- list.files(path, pattern, all.dirs,\n",
    "           full.names=TRUE, recursive=FALSE, ignore.case)\n",
    "  dirs <- all[file.info(all)$isdir]\n",
    "  # determine whether to return full names or just dir names\n",
    "  if(isTRUE(full.names))\n",
    "    return(dirs)\n",
    "  else\n",
    "    return(basename(dirs))\n",
    "}"
   ]
  },
  {
   "cell_type": "code",
   "execution_count": 328,
   "metadata": {},
   "outputs": [
    {
     "data": {
      "text/html": [
       "<ol class=list-inline>\n",
       "\t<li>'2019_10_03_21_36_14'</li>\n",
       "\t<li>'2019_10_03_21_36_16'</li>\n",
       "\t<li>'2019_10_03_21_36_34'</li>\n",
       "\t<li>'2019_10_03_21_36_36'</li>\n",
       "\t<li>'2019_10_03_21_36_55'</li>\n",
       "\t<li>'2019_10_03_21_36_58'</li>\n",
       "\t<li>'2019_10_03_21_37_16'</li>\n",
       "\t<li>'2019_10_03_21_37_18'</li>\n",
       "</ol>\n"
      ],
      "text/latex": [
       "\\begin{enumerate*}\n",
       "\\item '2019\\_10\\_03\\_21\\_36\\_14'\n",
       "\\item '2019\\_10\\_03\\_21\\_36\\_16'\n",
       "\\item '2019\\_10\\_03\\_21\\_36\\_34'\n",
       "\\item '2019\\_10\\_03\\_21\\_36\\_36'\n",
       "\\item '2019\\_10\\_03\\_21\\_36\\_55'\n",
       "\\item '2019\\_10\\_03\\_21\\_36\\_58'\n",
       "\\item '2019\\_10\\_03\\_21\\_37\\_16'\n",
       "\\item '2019\\_10\\_03\\_21\\_37\\_18'\n",
       "\\end{enumerate*}\n"
      ],
      "text/markdown": [
       "1. '2019_10_03_21_36_14'\n",
       "2. '2019_10_03_21_36_16'\n",
       "3. '2019_10_03_21_36_34'\n",
       "4. '2019_10_03_21_36_36'\n",
       "5. '2019_10_03_21_36_55'\n",
       "6. '2019_10_03_21_36_58'\n",
       "7. '2019_10_03_21_37_16'\n",
       "8. '2019_10_03_21_37_18'\n",
       "\n",
       "\n"
      ],
      "text/plain": [
       "[1] \"2019_10_03_21_36_14\" \"2019_10_03_21_36_16\" \"2019_10_03_21_36_34\"\n",
       "[4] \"2019_10_03_21_36_36\" \"2019_10_03_21_36_55\" \"2019_10_03_21_36_58\"\n",
       "[7] \"2019_10_03_21_37_16\" \"2019_10_03_21_37_18\""
      ]
     },
     "metadata": {},
     "output_type": "display_data"
    }
   ],
   "source": [
    "list.dirs(mypath)"
   ]
  },
  {
   "cell_type": "code",
   "execution_count": 329,
   "metadata": {},
   "outputs": [],
   "source": [
    "thepath = list.dirs(mypath)[1]"
   ]
  },
  {
   "cell_type": "code",
   "execution_count": 330,
   "metadata": {},
   "outputs": [],
   "source": [
    "filename = paste(mypath, '/', thepath, '/', 'k_core.csv', sep = \"\")"
   ]
  },
  {
   "cell_type": "code",
   "execution_count": 331,
   "metadata": {},
   "outputs": [],
   "source": [
    "DF <- read.csv(file = filename, skip=12)"
   ]
  },
  {
   "cell_type": "code",
   "execution_count": 332,
   "metadata": {},
   "outputs": [],
   "source": [
    "tempDF <- DF[DF$state =='i',]\n",
    "tempDF <- tempDF[tempDF$time == 1,]"
   ]
  },
  {
   "cell_type": "code",
   "execution_count": 333,
   "metadata": {},
   "outputs": [
    {
     "data": {
      "text/html": [
       "<table>\n",
       "<thead><tr><th></th><th scope=col>time</th><th scope=col>agent</th><th scope=col>k.core</th><th scope=col>state</th><th scope=col>degree</th></tr></thead>\n",
       "<tbody>\n",
       "\t<tr><th scope=row>1053</th><td>1   </td><td>1052</td><td>1   </td><td>i   </td><td>1   </td></tr>\n",
       "</tbody>\n",
       "</table>\n"
      ],
      "text/latex": [
       "\\begin{tabular}{r|lllll}\n",
       "  & time & agent & k.core & state & degree\\\\\n",
       "\\hline\n",
       "\t1053 & 1    & 1052 & 1    & i    & 1   \\\\\n",
       "\\end{tabular}\n"
      ],
      "text/markdown": [
       "\n",
       "| <!--/--> | time | agent | k.core | state | degree | \n",
       "|---|\n",
       "| 1053 | 1    | 1052 | 1    | i    | 1    | \n",
       "\n",
       "\n"
      ],
      "text/plain": [
       "     time agent k.core state degree\n",
       "1053 1    1052  1      i     1     "
      ]
     },
     "metadata": {},
     "output_type": "display_data"
    }
   ],
   "source": [
    "tempDF"
   ]
  },
  {
   "cell_type": "code",
   "execution_count": 334,
   "metadata": {},
   "outputs": [],
   "source": [
    "agent <- as.integer(tempDF['agent'])\n",
    "kcore <- as.integer(tempDF['k.core'])"
   ]
  },
  {
   "cell_type": "code",
   "execution_count": 335,
   "metadata": {},
   "outputs": [],
   "source": [
    "DF$'agent.init' <- agent\n",
    "DF$'k.core.init' <- kcore\n",
    "DF$'density' <- 1"
   ]
  },
  {
   "cell_type": "code",
   "execution_count": 336,
   "metadata": {
    "scrolled": true
   },
   "outputs": [],
   "source": [
    "DT <- data.table(DF)"
   ]
  },
  {
   "cell_type": "code",
   "execution_count": 337,
   "metadata": {},
   "outputs": [],
   "source": [
    "DT1 = DT[, sum(density), by=list(time, state)]"
   ]
  },
  {
   "cell_type": "code",
   "execution_count": 338,
   "metadata": {},
   "outputs": [],
   "source": [
    "names(DT1)[names(DT1)==\"V1\"] <- \"density\""
   ]
  },
  {
   "cell_type": "code",
   "execution_count": 339,
   "metadata": {},
   "outputs": [],
   "source": [
    "DT1$density <- DT1$density / N_AGENTS"
   ]
  },
  {
   "cell_type": "code",
   "execution_count": 340,
   "metadata": {},
   "outputs": [],
   "source": [
    "DT1$'agent.init' <- agent\n",
    "DT1$'k.core.init' <- kcore"
   ]
  },
  {
   "cell_type": "code",
   "execution_count": 341,
   "metadata": {},
   "outputs": [],
   "source": [
    "tempDT1 <- DT1[DT1$state == 'r']\n",
    "tempDT1 <- tempDT1[tempDT1$time == 100]\n",
    "density <- as.numeric(tempDT1[,'density'])"
   ]
  },
  {
   "cell_type": "code",
   "execution_count": 342,
   "metadata": {},
   "outputs": [
    {
     "data": {},
     "metadata": {},
     "output_type": "display_data"
    }
   ],
   "source": [
    "DT1 = DT1[DT1$state == 'r']\n",
    "DT1[,state:=NULL]"
   ]
  },
  {
   "cell_type": "markdown",
   "metadata": {},
   "source": [
    "## All datasets"
   ]
  },
  {
   "cell_type": "markdown",
   "metadata": {},
   "source": [
    "Assemble everything and do the loops"
   ]
  },
  {
   "cell_type": "code",
   "execution_count": 358,
   "metadata": {
    "scrolled": true
   },
   "outputs": [
    {
     "name": "stdout",
     "output_type": "stream",
     "text": [
      "[1] \"../../log/EmailURV-oldnews/2019_10_03_21_36_14/k_core.csv\"\n",
      "[1] \"../../log/EmailURV-oldnews/2019_10_03_21_36_16/k_core.csv\"\n",
      "[1] \"../../log/EmailURV-oldnews/2019_10_03_21_36_34/k_core.csv\"\n",
      "[1] \"../../log/EmailURV-oldnews/2019_10_03_21_36_36/k_core.csv\"\n",
      "[1] \"../../log/EmailURV-oldnews/2019_10_03_21_36_55/k_core.csv\"\n",
      "[1] \"../../log/EmailURV-oldnews/2019_10_03_21_36_58/k_core.csv\"\n",
      "[1] \"../../log/EmailURV-oldnews/2019_10_03_21_37_16/k_core.csv\"\n",
      "[1] \"../../log/EmailURV-oldnews/2019_10_03_21_37_18/k_core.csv\"\n",
      "[1] \"../../log/EmailURV-oldnews/2019_10_03_21_37_38/k_core.csv\"\n",
      "[1] \"../../log/EmailURV-oldnews/2019_10_03_21_37_40/k_core.csv\"\n",
      "[1] \"../../log/EmailURV-oldnews/2019_10_03_21_38_00/k_core.csv\"\n",
      "[1] \"../../log/EmailURV-oldnews/2019_10_03_21_38_01/k_core.csv\"\n"
     ]
    }
   ],
   "source": [
    "emptytable <- data.table()\n",
    "lista = list.dirs(mypath)\n",
    "for (i in lista){    \n",
    "    filename = paste(mypath, '/', i, '/', 'k_core.csv', sep = \"\")\n",
    "    print(filename)\n",
    "    DF <- read.csv(file = filename, skip=12)\n",
    "    tempDF <- DF[DF$state =='i',]\n",
    "    tempDF <- tempDF[tempDF$time == 1,]\n",
    "\n",
    "    agent <- as.integer(tempDF['agent'])\n",
    "    kcore <- as.integer(tempDF['k.core'])\n",
    "\n",
    "    DF$'agent.init' <- agent\n",
    "    DF$'k.core.init' <- kcore\n",
    "    DF$'density' <- 1\n",
    "    DF$'density.mean' <- 1\n",
    "    DF$'density.std' <- 1\n",
    "\n",
    "    DT <- data.table(DF)\n",
    "    DT1 = DT[, sum(density), by=list(time, state)]\n",
    "    \n",
    "    names(DT1)[names(DT1)==\"V1\"] <- \"density\"\n",
    "\n",
    "    DT1$density <- DT1$density / N_AGENTS\n",
    "\n",
    "    DT1$'agent.init' <- agent\n",
    "    DT1$'k.core.init' <- kcore\n",
    "    \n",
    "    tempDT1 <- DT1[DT1$state == 'r']\n",
    "    tempDT1 <- tempDT1[tempDT1$time == 100]\n",
    "    density <- as.numeric(tempDT1[,'density'])\n",
    "    \n",
    "    DT1 = DT1[DT1$state == 'r']\n",
    "    DT1[,state:=NULL]\n",
    "    #print(DT1)\n",
    "    emptytable <- rbind(emptytable, DT1)\n",
    "}"
   ]
  },
  {
   "cell_type": "code",
   "execution_count": 359,
   "metadata": {
    "scrolled": true
   },
   "outputs": [],
   "source": [
    "rawtable <- emptytable"
   ]
  },
  {
   "cell_type": "markdown",
   "metadata": {},
   "source": [
    "Compute mean and standard deviation and add to data table"
   ]
  },
  {
   "cell_type": "code",
   "execution_count": 360,
   "metadata": {},
   "outputs": [],
   "source": [
    "emptytable <- rawtable"
   ]
  },
  {
   "cell_type": "code",
   "execution_count": 361,
   "metadata": {},
   "outputs": [],
   "source": [
    "emptytabletime <- emptytable[emptytable$time == 100]\n",
    "#emptytabletime$density <- emptytabletime$density + 1e-3\n",
    "#emptytabletime <- emptytabletime[emptytabletime$density < 0.21]\n",
    "#emptytabletime <- emptytabletime[emptytabletime$density > 0.01]\n",
    "#emptytabletime$k.core.init <- emptytabletime$k.core.init + emptytabletime$k.core.init %% 2\n",
    "toplot <- emptytabletime[, mean(density), by=list(time, k.core.init)][,'k.core.init']\n",
    "toplot$mean <- emptytabletime[emptytabletime$time == 100][, mean(density), by=list(time, k.core.init)][,'V1']\n",
    "toplot$std <- emptytabletime[emptytabletime$time == 100][, sd(density), by=list(time, k.core.init)][,'V1']"
   ]
  },
  {
   "cell_type": "markdown",
   "metadata": {},
   "source": [
    "Clean NaN values"
   ]
  },
  {
   "cell_type": "code",
   "execution_count": 362,
   "metadata": {},
   "outputs": [],
   "source": [
    "toplot[is.na(toplot)] <- 1e-4"
   ]
  },
  {
   "cell_type": "code",
   "execution_count": 363,
   "metadata": {},
   "outputs": [],
   "source": [
    "toplot = toplot[order(toplot$k.core.init),]"
   ]
  },
  {
   "cell_type": "code",
   "execution_count": 364,
   "metadata": {},
   "outputs": [
    {
     "data": {
      "text/html": [
       "'list'"
      ],
      "text/latex": [
       "'list'"
      ],
      "text/markdown": [
       "'list'"
      ],
      "text/plain": [
       "[1] \"list\""
      ]
     },
     "metadata": {},
     "output_type": "display_data"
    }
   ],
   "source": [
    "typeof(toplot)"
   ]
  },
  {
   "cell_type": "code",
   "execution_count": 365,
   "metadata": {},
   "outputs": [],
   "source": [
    "save(toplot,file=paste(mypath, \"/\", \"toplot.Rda\", sep=\"\"))"
   ]
  },
  {
   "cell_type": "code",
   "execution_count": 366,
   "metadata": {},
   "outputs": [],
   "source": [
    "load(paste(mypath, \"/\", \"toplot.Rda\", sep=\"\"))"
   ]
  },
  {
   "cell_type": "code",
   "execution_count": null,
   "metadata": {},
   "outputs": [],
   "source": []
  },
  {
   "cell_type": "code",
   "execution_count": 367,
   "metadata": {
    "scrolled": false
   },
   "outputs": [
    {
     "data": {
      "text/html": [
       "<table>\n",
       "<thead><tr><th scope=col>k.core.init</th><th scope=col>mean</th><th scope=col>std</th></tr></thead>\n",
       "<tbody>\n",
       "\t<tr><td> 1               </td><td>0.000158415841584</td><td>0.00010000000000 </td></tr>\n",
       "\t<tr><td> 2               </td><td>0.041821782178218</td><td>0.00010000000000 </td></tr>\n",
       "\t<tr><td> 3               </td><td>0.039841584158416</td><td>0.00010000000000 </td></tr>\n",
       "\t<tr><td> 4               </td><td>0.041346534653465</td><td>0.00010000000000 </td></tr>\n",
       "\t<tr><td> 5               </td><td>0.033504950495050</td><td>0.00010000000000 </td></tr>\n",
       "\t<tr><td> 6               </td><td>0.038297029702970</td><td>0.00173626219539 </td></tr>\n",
       "\t<tr><td> 7               </td><td>0.038257425742574</td><td>0.00010000000000 </td></tr>\n",
       "\t<tr><td> 8               </td><td>0.000158415841584</td><td>0.00010000000000 </td></tr>\n",
       "\t<tr><td> 9               </td><td>0.038019801980198</td><td>0.00010000000000 </td></tr>\n",
       "\t<tr><td>10               </td><td>0.038891089108911</td><td>0.00010000000000 </td></tr>\n",
       "\t<tr><td>11               </td><td>0.037702970297030</td><td>0.00010000000000 </td></tr>\n",
       "</tbody>\n",
       "</table>\n"
      ],
      "text/latex": [
       "\\begin{tabular}{r|lll}\n",
       " k.core.init & mean & std\\\\\n",
       "\\hline\n",
       "\t  1                & 0.000158415841584 & 0.00010000000000 \\\\\n",
       "\t  2                & 0.041821782178218 & 0.00010000000000 \\\\\n",
       "\t  3                & 0.039841584158416 & 0.00010000000000 \\\\\n",
       "\t  4                & 0.041346534653465 & 0.00010000000000 \\\\\n",
       "\t  5                & 0.033504950495050 & 0.00010000000000 \\\\\n",
       "\t  6                & 0.038297029702970 & 0.00173626219539 \\\\\n",
       "\t  7                & 0.038257425742574 & 0.00010000000000 \\\\\n",
       "\t  8                & 0.000158415841584 & 0.00010000000000 \\\\\n",
       "\t  9                & 0.038019801980198 & 0.00010000000000 \\\\\n",
       "\t 10                & 0.038891089108911 & 0.00010000000000 \\\\\n",
       "\t 11                & 0.037702970297030 & 0.00010000000000 \\\\\n",
       "\\end{tabular}\n"
      ],
      "text/markdown": [
       "\n",
       "k.core.init | mean | std | \n",
       "|---|---|---|---|---|---|---|---|---|---|---|\n",
       "|  1                | 0.000158415841584 | 0.00010000000000  | \n",
       "|  2                | 0.041821782178218 | 0.00010000000000  | \n",
       "|  3                | 0.039841584158416 | 0.00010000000000  | \n",
       "|  4                | 0.041346534653465 | 0.00010000000000  | \n",
       "|  5                | 0.033504950495050 | 0.00010000000000  | \n",
       "|  6                | 0.038297029702970 | 0.00173626219539  | \n",
       "|  7                | 0.038257425742574 | 0.00010000000000  | \n",
       "|  8                | 0.000158415841584 | 0.00010000000000  | \n",
       "|  9                | 0.038019801980198 | 0.00010000000000  | \n",
       "| 10                | 0.038891089108911 | 0.00010000000000  | \n",
       "| 11                | 0.037702970297030 | 0.00010000000000  | \n",
       "\n",
       "\n"
      ],
      "text/plain": [
       "   k.core.init mean              std             \n",
       "1   1          0.000158415841584 0.00010000000000\n",
       "2   2          0.041821782178218 0.00010000000000\n",
       "3   3          0.039841584158416 0.00010000000000\n",
       "4   4          0.041346534653465 0.00010000000000\n",
       "5   5          0.033504950495050 0.00010000000000\n",
       "6   6          0.038297029702970 0.00173626219539\n",
       "7   7          0.038257425742574 0.00010000000000\n",
       "8   8          0.000158415841584 0.00010000000000\n",
       "9   9          0.038019801980198 0.00010000000000\n",
       "10 10          0.038891089108911 0.00010000000000\n",
       "11 11          0.037702970297030 0.00010000000000"
      ]
     },
     "metadata": {},
     "output_type": "display_data"
    }
   ],
   "source": [
    "toplot"
   ]
  },
  {
   "cell_type": "markdown",
   "metadata": {},
   "source": [
    "Plot"
   ]
  },
  {
   "cell_type": "code",
   "execution_count": 368,
   "metadata": {},
   "outputs": [
    {
     "data": {
      "image/png": "[encoded data removed]",
      "text/plain": [
       "plot without title"
      ]
     },
     "metadata": {},
     "output_type": "display_data"
    }
   ],
   "source": [
    "plot(emptytabletime$k.core.init, emptytabletime$density)"
   ]
  },
  {
   "cell_type": "code",
   "execution_count": 369,
   "metadata": {},
   "outputs": [],
   "source": [
    "f <- function(x,a,b) {a * exp(b * x)} \n"
   ]
  },
  {
   "cell_type": "code",
   "execution_count": 370,
   "metadata": {
    "scrolled": false
   },
   "outputs": [
    {
     "data": {
      "text/plain": [
       "\n",
       "Call:\n",
       "lm(formula = y ~ x)\n",
       "\n",
       "Residuals:\n",
       "           Min             1Q         Median             3Q            Max \n",
       "-0.03316723672  0.00227830783  0.00387614761  0.00869990999  0.01356399640 \n",
       "\n",
       "Coefficients:\n",
       "                  Estimate     Std. Error t value Pr(>|t|)\n",
       "(Intercept) 0.026568496850 0.010539106602 2.52094 0.032718\n",
       "x           0.000844644464 0.001553906493 0.54356 0.599946\n",
       "\n",
       "Residual standard error: 0.0162975088 on 9 degrees of freedom\n",
       "Multiple R-squared:  0.0317853684,\tAdjusted R-squared:  -0.0757940351 \n",
       "F-statistic: 0.295459608 on 1 and 9 DF,  p-value: 0.599946036\n"
      ]
     },
     "metadata": {},
     "output_type": "display_data"
    },
    {
     "data": {
      "text/html": [
       "0.178284515281436"
      ],
      "text/latex": [
       "0.178284515281436"
      ],
      "text/markdown": [
       "0.178284515281436"
      ],
      "text/plain": [
       "[1] 0.178284515281"
      ]
     },
     "metadata": {},
     "output_type": "display_data"
    },
    {
     "data": {
      "text/plain": [
       "\n",
       "Call:\n",
       "lm(formula = y ~ poly(x, 2))\n",
       "\n",
       "Residuals:\n",
       "           Min             1Q         Median             3Q            Max \n",
       "-0.03528978744  0.00106099841  0.00349574650  0.00821333518  0.01568654712 \n",
       "\n",
       "Coefficients:\n",
       "                  Estimate     Std. Error  t value   Pr(>|t|)\n",
       "(Intercept)  0.03163636364  0.00509356177  6.21105 0.00025633\n",
       "poly(x, 2)1  0.00885870588  0.01689343323  0.52439 0.61422420\n",
       "poly(x, 2)2 -0.01036216420  0.01689343323 -0.61338 0.55665567\n",
       "\n",
       "Residual standard error: 0.0168934332 on 8 degrees of freedom\n",
       "Multiple R-squared:  0.0752751897,\tAdjusted R-squared:  -0.155906013 \n",
       "F-statistic: 0.325611204 on 2 and 8 DF,  p-value: 0.73122333\n"
      ]
     },
     "metadata": {},
     "output_type": "display_data"
    },
    {
     "data": {
      "text/html": [
       "0.27436324405009"
      ],
      "text/latex": [
       "0.27436324405009"
      ],
      "text/markdown": [
       "0.27436324405009"
      ],
      "text/plain": [
       "[1] 0.27436324405"
      ]
     },
     "metadata": {},
     "output_type": "display_data"
    },
    {
     "data": {
      "image/png": "[encoded data removed]",
      "text/plain": [
       "plot without title"
      ]
     },
     "metadata": {},
     "output_type": "display_data"
    }
   ],
   "source": [
    "x <- toplot$k.core.init\n",
    "y <- toplot$mean\n",
    "dy <- toplot$std\n",
    "plot(x, y,\n",
    "    ylim=range(c(y-dy, y+dy)),\n",
    "     #log='y',\n",
    "     xlab=TeX('$k_S$'), ylab=TeX('$M_{k_S}$'),\n",
    "    #main=\"Scatter plot with std.dev error bars\"\n",
    "     panel.first=grid()\n",
    ")\n",
    "arrows(x, y-dy, x, y+dy, length=0.05, angle=90, code=3)\n",
    "\n",
    "\n",
    "#nonlin_mod=nls(y~a*exp(b*x),start=list(a=1,b=0.1)) #a is the starting value and b is the exponential start\n",
    "#lines(x,predict(nonlin_mod),col=\"red\")\n",
    "#summary(nonlin_mod)\n",
    "\n",
    "# constant\n",
    "m<-lm(y~x)\n",
    "summary(m)\n",
    "cor(y,predict(m))\n",
    "lines(x,predict(m),lty=2,col=\"black\",lwd=2)\n",
    "\n",
    "# polynomial\n",
    "m<-lm(y ~ poly(x,2))\n",
    "summary(m)\n",
    "cor(y,predict(m))\n",
    "#plot\n",
    "lines(x,predict(m),lty=5,col=\"black\",lwd=2)\n"
   ]
  },
  {
   "cell_type": "code",
   "execution_count": 371,
   "metadata": {
    "scrolled": false
   },
   "outputs": [
    {
     "data": {
      "text/plain": [
       "\n",
       "Formula: y ~ a * x/(b + x)\n",
       "\n",
       "Parameters:\n",
       "      Estimate   Std. Error t value  Pr(>|t|)\n",
       "a 0.0387782384 0.0107843917 3.59577 0.0057864\n",
       "b 0.9121141748 1.4547629731 0.62698 0.5462433\n",
       "\n",
       "Residual standard error: 0.0152540141 on 9 degrees of freedom\n",
       "\n",
       "Number of iterations to convergence: 24 \n",
       "Achieved convergence tolerance: 7.48579471e-06\n"
      ]
     },
     "metadata": {},
     "output_type": "display_data"
    },
    {
     "data": {
      "text/html": [
       "0.402672265357887"
      ],
      "text/latex": [
       "0.402672265357887"
      ],
      "text/markdown": [
       "0.402672265357887"
      ],
      "text/plain": [
       "[1] 0.402672265358"
      ]
     },
     "metadata": {},
     "output_type": "display_data"
    },
    {
     "data": {
      "text/plain": [
       "\n",
       "Formula: y ~ 1 - exp(-(1 + b) * x)\n",
       "\n",
       "Parameters:\n",
       "         Estimate      Std. Error     t value   Pr(>|t|)\n",
       "b -0.995590333137  0.000928203354 -1072.59937 < 2.22e-16\n",
       "\n",
       "Residual standard error: 0.0201035818 on 10 degrees of freedom\n",
       "\n",
       "Number of iterations to convergence: 6 \n",
       "Achieved convergence tolerance: 7.5877752e-07\n"
      ]
     },
     "metadata": {},
     "output_type": "display_data"
    },
    {
     "data": {
      "text/html": [
       "0.17958067074536"
      ],
      "text/latex": [
       "0.17958067074536"
      ],
      "text/markdown": [
       "0.17958067074536"
      ],
      "text/plain": [
       "[1] 0.179580670745"
      ]
     },
     "metadata": {},
     "output_type": "display_data"
    },
    {
     "data": {
      "image/png": "[encoded data removed]",
      "text/plain": [
       "plot without title"
      ]
     },
     "metadata": {},
     "output_type": "display_data"
    }
   ],
   "source": [
    "plot(x, y,\n",
    "    ylim=range(c(y-dy, y+dy)),\n",
    "     #log='y',\n",
    "     xlab=TeX('$k_S$'), ylab=TeX('$M_{k_S}$'),\n",
    "    #main=\"Scatter plot with std.dev error bars\"\n",
    ")\n",
    "arrows(x, y-dy, x, y+dy, length=0.05, angle=90, code=3)\n",
    "\n",
    "# hyperbolic\n",
    "m<-nls(y~a*x/(b+x), start=c(a=1,b=1))\n",
    "summary(m)\n",
    "cor(y,predict(m))\n",
    "#plot\n",
    "lines(x,predict(m),lty=3,col=\"black\",lwd=2)\n",
    "\n",
    "# exponential\n",
    "m<-nls(y~1 - exp(-(1+b)*x), start=list(b=0.1))\n",
    "summary(m)\n",
    "cor(y,predict(m))\n",
    "#plot\n",
    "lines(x,predict(m),lty=4,col=\"black\",lwd=2)"
   ]
  },
  {
   "cell_type": "code",
   "execution_count": 372,
   "metadata": {
    "scrolled": false
   },
   "outputs": [
    {
     "data": {
      "text/html": [
       "<strong>png:</strong> 2"
      ],
      "text/latex": [
       "\\textbf{png:} 2"
      ],
      "text/markdown": [
       "**png:** 2"
      ],
      "text/plain": [
       "png \n",
       "  2 "
      ]
     },
     "metadata": {},
     "output_type": "display_data"
    }
   ],
   "source": [
    "pdf('mksonks.pdf')\n",
    "plot(toplot$k.core.init, toplot$mean,\n",
    "    ylim=range(c(toplot$mean-toplot$std, toplot$mean+toplot$std)),\n",
    "     #log='y',\n",
    "     xlab=TeX('$k_S$'), ylab=TeX('$M_{k_S}$'),\n",
    "    #main=\"Scatter plot with std.dev error bars\"\n",
    ")\n",
    "arrows(toplot$k.core.init, toplot$mean-toplot$std, \n",
    "       toplot$k.core.init, toplot$mean+toplot$std, length=0.05, angle=90, code=3)\n",
    "dev.off()\n"
   ]
  },
  {
   "cell_type": "markdown",
   "metadata": {},
   "source": [
    "Log y plot"
   ]
  },
  {
   "cell_type": "code",
   "execution_count": 373,
   "metadata": {},
   "outputs": [
    {
     "data": {
      "image/png": "[encoded data removed]",
      "text/plain": [
       "plot without title"
      ]
     },
     "metadata": {},
     "output_type": "display_data"
    }
   ],
   "source": [
    "plot(x, y,\n",
    "    ylim=range(c(y-dy, y+dy)),\n",
    "     log='y',\n",
    "     xlab=TeX('$k_S$'), ylab=TeX('$M_{k_S}$'),\n",
    "    #main=\"Scatter plot with std.dev error bars\"\n",
    ")\n",
    "arrows(x, y-dy, x, y+dy, length=0.05, angle=90, code=3)\n"
   ]
  },
  {
   "cell_type": "code",
   "execution_count": 374,
   "metadata": {
    "scrolled": false
   },
   "outputs": [
    {
     "data": {
      "text/html": [
       "<strong>png:</strong> 2"
      ],
      "text/latex": [
       "\\textbf{png:} 2"
      ],
      "text/markdown": [
       "**png:** 2"
      ],
      "text/plain": [
       "png \n",
       "  2 "
      ]
     },
     "metadata": {},
     "output_type": "display_data"
    }
   ],
   "source": [
    "pdf('logmksonks.pdf')\n",
    "plot(toplot$k.core.init, toplot$mean,\n",
    "     ylim=range(c(toplot$mean-toplot$std, toplot$mean+toplot$std)),\n",
    "     log='y',\n",
    "     xlab=TeX('$k_S$'), ylab=TeX('$M_{k_S}$'),\n",
    "    #main=\"Scatter plot with std.dev error bars\"\n",
    ")\n",
    "arrows(toplot$k.core.init, toplot$mean-toplot$std, \n",
    "       toplot$k.core.init, toplot$mean+toplot$std, length=0.05, angle=90, code=3)\n",
    "dev.off()"
   ]
  },
  {
   "cell_type": "code",
   "execution_count": null,
   "metadata": {},
   "outputs": [],
   "source": []
  },
  {
   "cell_type": "code",
   "execution_count": null,
   "metadata": {},
   "outputs": [],
   "source": []
  }
 ],
 "metadata": {
  "kernelspec": {
   "display_name": "R",
   "language": "R",
   "name": "ir"
  },
  "language_info": {
   "codemirror_mode": "r",
   "file_extension": ".r",
   "mimetype": "text/x-r-source",
   "name": "R",
   "pygments_lexer": "r",
   "version": "3.5.2"
  }
 },
 "nbformat": 4,
 "nbformat_minor": 2
}
