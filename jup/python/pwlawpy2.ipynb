{
 "cells": [
  {
   "cell_type": "code",
   "execution_count": 32,
   "metadata": {},
   "outputs": [
    {
     "name": "stdout",
     "output_type": "stream",
     "text": [
      "Populating the interactive namespace from numpy and matplotlib\n"
     ]
    }
   ],
   "source": [
    "import networkx as nx\n",
    "import numpy as np\n",
    "%pylab inline\n",
    "from collections import Counter\n",
    "from scipy import optimize"
   ]
  },
  {
   "cell_type": "code",
   "execution_count": 33,
   "metadata": {
    "collapsed": true
   },
   "outputs": [],
   "source": [
    "G = nx.read_gml('../log/graph.gml')\n",
    "G.remove_nodes_from([0,1,2])"
   ]
  },
  {
   "cell_type": "code",
   "execution_count": 34,
   "metadata": {},
   "outputs": [
    {
     "data": {
      "image/png": "[encoded data removed]",
      "text/plain": [
       "<matplotlib.figure.Figure at 0x7fe9b52515c0>"
      ]
     },
     "metadata": {},
     "output_type": "display_data"
    }
   ],
   "source": [
    "def func(x, a, b):\n",
    "    return b* pow(x,a)\n",
    "\n",
    "\n",
    "Pk=Counter(dict(G.degree()).values())\n",
    "\n",
    "x=[]\n",
    "y=[]\n",
    "for i in sorted(Pk):   \n",
    "    x.append(i)\n",
    "    y.append(float(Pk[i])/len(G))\n",
    "\n",
    "X=np.array(x)#[3:]\n",
    "Y=np.array(y)#[3:]\n",
    "\n",
    "#y = func(X, -1.35591138, 1.61640025) #disegno la curva data dai parametri trovati sotto sulla diagonale\n",
    "#popt, pcov = optimize.curve_fit(func, X, Y)\n",
    "#print (popt)\n",
    "#print (pcov)\n",
    "\n",
    "\n",
    "fig = figure(figsize(8,6))\n",
    "ax = fig.gca()\n",
    "xlabel('$k$',fontsize='18')\n",
    "ylabel('$P[k]$',fontsize='18')\n",
    "title('Initial Degree Distribution',fontsize='18')\n",
    "\n",
    "plot(X,y,'D')\n",
    "#plt.loglog(X, Y, 'b*')\n",
    "\n",
    "grid()\n",
    "savefig('gaus.pdf')\n",
    "show()\n"
   ]
  },
  {
   "cell_type": "code",
   "execution_count": 31,
   "metadata": {},
   "outputs": [
    {
     "data": {
      "text/plain": [
       "DegreeView({'3': 1, '4': 11, '5': 1, '6': 1, '7': 1, '8': 10, '9': 4, '10': 16, '11': 1, '12': 2, '13': 6, '14': 1, '15': 13, '16': 16, '17': 1, '18': 4, '19': 15, '20': 0, '21': 2, '22': 20, '23': 16, '24': 3, '25': 1, '26': 1, '27': 8, '28': 3, '29': 7, '30': 6, '31': 0, '32': 6, '33': 2, '34': 4, '35': 16, '36': 15, '37': 15, '38': 5, '39': 5, '40': 5, '41': 2, '42': 3, '43': 7, '44': 10, '45': 6, '46': 1, '47': 6, '48': 1, '49': 4, '50': 1, '51': 15, '52': 13, '53': 10, '54': 5, '55': 4, '56': 0, '57': 4, '58': 4, '59': 3, '60': 7, '61': 4, '62': 0, '63': 7, '64': 1, '65': 7, '66': 13, '67': 15, '68': 19, '69': 4, '70': 1, '71': 10, '72': 2, '73': 5, '74': 11, '75': 8, '76': 2, '77': 8, '78': 6, '79': 14, '80': 10, '81': 6, '82': 9, '83': 1, '84': 1, '85': 12, '86': 2, '87': 5, '88': 9, '89': 16, '90': 9, '91': 1, '92': 15, '93': 20, '94': 3, '95': 8, '96': 3, '97': 4, '98': 1, '99': 16, '100': 16, '101': 3, '102': 2, '103': 11, '104': 12, '105': 11, '106': 3, '107': 1, '108': 18, '109': 6, '110': 12, '111': 9, '112': 2, '113': 18, '114': 6, '115': 4, '116': 17, '117': 1, '118': 1, '119': 7, '120': 5, '121': 5, '122': 7, '123': 12, '124': 8, '125': 14, '126': 16, '127': 7, '128': 0, '129': 3, '130': 2, '131': 1, '132': 2, '133': 6, '134': 14, '135': 7, '136': 13, '137': 8, '138': 1, '139': 1, '140': 14, '141': 6, '142': 2, '143': 10, '144': 2, '145': 12, '146': 6, '147': 19, '148': 0, '149': 17, '150': 1, '151': 5, '152': 6, '153': 6, '154': 3, '155': 9, '156': 6, '157': 1, '158': 1, '159': 1, '160': 4, '161': 16, '162': 1, '163': 5, '164': 1, '165': 8, '166': 3, '167': 0, '168': 9, '169': 7, '170': 2, '171': 4, '172': 10, '173': 1, '174': 9, '175': 6, '176': 8, '177': 9, '178': 3, '179': 4, '180': 6, '181': 18, '182': 8, '183': 10, '184': 5, '185': 4, '186': 0, '187': 12, '188': 18, '189': 3, '190': 12, '191': 17, '192': 24, '193': 6, '194': 1, '195': 4, '196': 14, '197': 15, '198': 1, '199': 3, '200': 13, '201': 3, '202': 7, '0': 14, '1': 69, '2': 14})"
      ]
     },
     "execution_count": 31,
     "metadata": {},
     "output_type": "execute_result"
    }
   ],
   "source": [
    "G.degree()"
   ]
  },
  {
   "cell_type": "code",
   "execution_count": null,
   "metadata": {
    "collapsed": true
   },
   "outputs": [],
   "source": []
  }
 ],
 "metadata": {
  "kernelspec": {
   "display_name": "Python 3",
   "language": "python",
   "name": "python3"
  },
  "language_info": {
   "codemirror_mode": {
    "name": "ipython",
    "version": 3
   },
   "file_extension": ".py",
   "mimetype": "text/x-python",
   "name": "python",
   "nbconvert_exporter": "python",
   "pygments_lexer": "ipython3",
   "version": "3.6.3"
  }
 },
 "nbformat": 4,
 "nbformat_minor": 2
}
