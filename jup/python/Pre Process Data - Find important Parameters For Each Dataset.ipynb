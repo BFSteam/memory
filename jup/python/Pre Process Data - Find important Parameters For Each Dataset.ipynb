{
 "cells": [
  {
   "cell_type": "code",
   "execution_count": 15,
   "metadata": {},
   "outputs": [],
   "source": [
    "import csv\n",
    "import networkx as nx\n",
    "import matplotlib.pyplot as plt\n",
    "\n",
    "from collections import OrderedDict\n",
    "from os import listdir\n",
    "from os.path import isfile, isdir, join, exists"
   ]
  },
  {
   "cell_type": "code",
   "execution_count": 2,
   "metadata": {},
   "outputs": [],
   "source": [
    "plt.rcParams['figure.figsize'] = [10,5]\n",
    "plt.rcParams['patch.force_edgecolor'] = True\n",
    "plt.rcParams['font.size'] = 14"
   ]
  },
  {
   "cell_type": "code",
   "execution_count": 61,
   "metadata": {},
   "outputs": [],
   "source": [
    "def human_format(num, round_to=2):\n",
    "    magnitude = 0\n",
    "    while abs(num) >= 1000:\n",
    "        magnitude += 1\n",
    "        num = round(num / 1000.0, round_to)\n",
    "    return '{:.{}f}{}'.format(round(num, round_to), round_to, ['', 'K', 'M', 'G', 'T', 'P'][magnitude])"
   ]
  },
  {
   "cell_type": "code",
   "execution_count": 3,
   "metadata": {},
   "outputs": [
    {
     "data": {
      "text/plain": [
       "['Emailcontacts',\n",
       " 'EmailURV',\n",
       " 'EmailEUCore',\n",
       " 'POK',\n",
       " 'AdultIMDB',\n",
       " 'LesMiserables']"
      ]
     },
     "execution_count": 3,
     "metadata": {},
     "output_type": "execute_result"
    }
   ],
   "source": [
    "datasetpath = '../../src/datasets/'\n",
    "data = [ f for f in listdir(datasetpath) if isdir(join(datasetpath, f))] \n",
    "data"
   ]
  },
  {
   "cell_type": "code",
   "execution_count": 59,
   "metadata": {},
   "outputs": [],
   "source": [
    "big_loops = 1000\n",
    "small_loops = 100"
   ]
  },
  {
   "cell_type": "code",
   "execution_count": 63,
   "metadata": {},
   "outputs": [
    {
     "name": "stdout",
     "output_type": "stream",
     "text": [
      "Emailcontacts\n",
      "\n",
      "nodes: 12625\n",
      "edges: 20362\n",
      "min k-core: 1 , max k-core: 23\n",
      "all cores: False\n",
      "\n",
      "command full:\n",
      "bash ./loopRunProject.sh -n 1000 -m 12625\n",
      "total runs big:   12.63M\n",
      "total runs small: 1.26M\n",
      "\n",
      "command lazy:\n",
      "bash ./loopRunProject.sh -n 1000 -r 22\n",
      "total runs big:   22.00K\n",
      "total runs small: 2.20K\n",
      "\n",
      "====================================\n",
      "\n",
      "EmailURV\n",
      "\n",
      "nodes: 1133\n",
      "edges: 5451\n",
      "min k-core: 1 , max k-core: 11\n",
      "all cores: True\n",
      "\n",
      "command full:\n",
      "bash ./loopRunProject.sh -n 1000 -m 1133\n",
      "total runs big:   1.13M\n",
      "total runs small: 113.40K\n",
      "\n",
      "command lazy:\n",
      "bash ./loopRunProject.sh -n 1000 -r 11\n",
      "total runs big:   11.00K\n",
      "total runs small: 1.10K\n",
      "\n",
      "====================================\n",
      "\n",
      "EmailEUCore\n",
      "\n",
      "nodes: 986\n",
      "edges: 16064\n",
      "min k-core: 1 , max k-core: 34\n",
      "all cores: True\n",
      "\n",
      "command full:\n",
      "bash ./loopRunProject.sh -n 1000 -m 986\n",
      "total runs big:   987.00K\n",
      "total runs small: 98.70K\n",
      "\n",
      "command lazy:\n",
      "bash ./loopRunProject.sh -n 1000 -r 34\n",
      "total runs big:   34.00K\n",
      "total runs small: 3.40K\n",
      "\n",
      "====================================\n",
      "\n",
      "POK\n",
      "\n",
      "nodes: 28876\n",
      "edges: 115324\n",
      "min k-core: 1 , max k-core: 17\n",
      "all cores: True\n",
      "\n",
      "command full:\n",
      "bash ./loopRunProject.sh -n 1000 -m 28876\n",
      "total runs big:   28.88M\n",
      "total runs small: 2.89M\n",
      "\n",
      "command lazy:\n",
      "bash ./loopRunProject.sh -n 1000 -r 17\n",
      "total runs big:   17.00K\n",
      "total runs small: 1.70K\n",
      "\n",
      "====================================\n",
      "\n",
      "AdultIMDB\n",
      "\n",
      "nodes: 47719\n",
      "edges: 1098451\n",
      "min k-core: 1 , max k-core: 199\n",
      "all cores: True\n",
      "\n",
      "command full:\n",
      "bash ./loopRunProject.sh -n 1000 -m 47719\n",
      "total runs big:   47.72M\n",
      "total runs small: 4.77M\n",
      "\n",
      "command lazy:\n",
      "bash ./loopRunProject.sh -n 1000 -r 199\n",
      "total runs big:   199.00K\n",
      "total runs small: 19.90K\n",
      "\n",
      "====================================\n",
      "\n",
      "LesMiserables\n",
      "\n",
      "nodes: 77\n",
      "edges: 254\n",
      "min k-core: 1 , max k-core: 9\n",
      "all cores: False\n",
      "\n",
      "command full:\n",
      "bash ./loopRunProject.sh -n 1000 -m 77\n",
      "total runs big:   78.00K\n",
      "total runs small: 7.80K\n",
      "\n",
      "command lazy:\n",
      "bash ./loopRunProject.sh -n 1000 -r 8\n",
      "total runs big:   8.00K\n",
      "total runs small: 800.00\n",
      "\n",
      "====================================\n",
      "\n"
     ]
    }
   ],
   "source": [
    "for dataset in data:\n",
    "    G = nx.Graph()\n",
    "    with open(join(datasetpath,dataset,dataset+'.csv'), 'r') as file:\n",
    "        reader = csv.reader(file, delimiter=\",\")\n",
    "        for row in reader:\n",
    "            G.add_edge(int(row[0]), int(row[1]))\n",
    "\n",
    "    n_nodes = len(G.nodes())\n",
    "    n_edges = len(G.edges())\n",
    "    kcores = sorted(list(OrderedDict.fromkeys(nx.core_number(G).values()))) \n",
    "    n_cores = len(kcores)\n",
    "\n",
    "    print(dataset)\n",
    "    print(\"\")\n",
    "    print(\"nodes:\", n_nodes)\n",
    "    print(\"edges:\", n_edges)\n",
    "    print(\"min k-core:\", min(kcores), \", max k-core:\", max(kcores))\n",
    "    print(\"all cores:\", kcores == list(range(min(kcores), max(kcores)+1)))\n",
    "    print(\"\")\n",
    "    print(\"command full:\")\n",
    "    print(\"bash ./loopRunProject.sh -n\", loops, \"-m\", n_nodes)\n",
    "    print(\"total runs big:  \", human_format(big_loops*(n_nodes+1)))\n",
    "    print(\"total runs small:\", human_format(small_loops*(n_nodes+1)))\n",
    "    print(\"\")\n",
    "    print(\"command lazy:\")\n",
    "    print(\"bash ./loopRunProject.sh -n\", loops, \"-r\", n_cores)\n",
    "    print(\"total runs big:  \", human_format(big_loops*n_cores))\n",
    "    print(\"total runs small:\", human_format(small_loops*n_cores))\n",
    "    print(\"\")\n",
    "    print(\"====================================\")\n",
    "    print(\"\")"
   ]
  },
  {
   "cell_type": "code",
   "execution_count": null,
   "metadata": {},
   "outputs": [],
   "source": []
  }
 ],
 "metadata": {
  "kernelspec": {
   "display_name": "Python 3",
   "language": "python",
   "name": "python3"
  },
  "language_info": {
   "codemirror_mode": {
    "name": "ipython",
    "version": 3
   },
   "file_extension": ".py",
   "mimetype": "text/x-python",
   "name": "python",
   "nbconvert_exporter": "python",
   "pygments_lexer": "ipython3",
   "version": "3.6.3"
  }
 },
 "nbformat": 4,
 "nbformat_minor": 2
}
