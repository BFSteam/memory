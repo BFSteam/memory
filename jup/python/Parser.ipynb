{
 "cells": [
  {
   "cell_type": "code",
   "execution_count": 1,
   "metadata": {},
   "outputs": [],
   "source": [
    "import networkx as nx\n",
    "import os\n",
    "import csv"
   ]
  },
  {
   "cell_type": "code",
   "execution_count": 2,
   "metadata": {},
   "outputs": [
    {
     "data": {
      "text/plain": [
       "['c5bb90beec238c9d',\n",
       " '72a6e7014a4ae699',\n",
       " 'a00d1ef10e216c16',\n",
       " '5a68e5b05327f612',\n",
       " '1a30262ea5519acf',\n",
       " '007a94120c688c9f',\n",
       " '87326f391490d2c0',\n",
       " '71251d8b77621651',\n",
       " 'fef41285dd7f183a',\n",
       " '1052dbaeb551521a',\n",
       " '0cbec67515e10a56',\n",
       " '5ee6ff4298e42e74',\n",
       " '3d61a33e093dd7b1',\n",
       " '28fa93e07bd390c0',\n",
       " '1ed28ca295e00826',\n",
       " '4b08697d42b50bc2',\n",
       " 'ab30cc3468fb93d0',\n",
       " '33eae07c620add16',\n",
       " 'c0c3431403ba3fca',\n",
       " '7f5dc125dc89f78a']"
      ]
     },
     "execution_count": 2,
     "metadata": {},
     "output_type": "execute_result"
    }
   ],
   "source": [
    "newslist = []\n",
    "with open('memoryLog2018_02_05_19_19_42.csv') as csvfile:\n",
    "    readCSV = csv.reader(csvfile, delimiter=',')\n",
    "    for row in readCSV:\n",
    "        try:\n",
    "            if row[3] == 'news0' : continue\n",
    "            if row[3] == '0' : break\n",
    "            if row[3] == 0 : break\n",
    "            if row[3] not in newslist: newslist = newslist + [row[3]]\n",
    "        except:\n",
    "            continue\n",
    "newslist"
   ]
  },
  {
   "cell_type": "code",
   "execution_count": 3,
   "metadata": {
    "scrolled": true
   },
   "outputs": [
    {
     "data": {
      "text/plain": [
       "['graph2018_02_05_19_19_42.gml']"
      ]
     },
     "execution_count": 3,
     "metadata": {},
     "output_type": "execute_result"
    }
   ],
   "source": [
    "listfilesGraph = [x for x in os.listdir('.') if 'graph' in x and 'new' not in x and 'graphN' not in x]\n",
    "listfilesGraph"
   ]
  },
  {
   "cell_type": "code",
   "execution_count": 4,
   "metadata": {},
   "outputs": [],
   "source": [
    "G = nx.read_gml(listfilesGraph[0])"
   ]
  },
  {
   "cell_type": "code",
   "execution_count": 5,
   "metadata": {},
   "outputs": [
    {
     "data": {
      "text/plain": [
       "['28fa93e07bd390c0',\n",
       " '1ed28ca295e00826',\n",
       " '5a68e5b05327f612',\n",
       " '71251d8b77621651']"
      ]
     },
     "execution_count": 5,
     "metadata": {},
     "output_type": "execute_result"
    }
   ],
   "source": [
    "sublist = []\n",
    "for i in range(len(G.node['324']['agent'].split('id-n'))):\n",
    "    if i == 0: continue\n",
    "    sublist = sublist + [G.node['144']['agent'].split('id-n')[i][5:21]]\n",
    "sublist"
   ]
  },
  {
   "cell_type": "code",
   "execution_count": 6,
   "metadata": {},
   "outputs": [
    {
     "name": "stdout",
     "output_type": "stream",
     "text": [
      "b'72a6e7014a4ae699'\n"
     ]
    }
   ],
   "source": [
    "s = G.node[str(1)]['agent']\n",
    "nl = s.split(\"'id-n': \")\n",
    "for i in range(len(nl)):\n",
    "    if i == 0: continue\n",
    "    print(nl[i][:19])"
   ]
  },
  {
   "cell_type": "code",
   "execution_count": 7,
   "metadata": {},
   "outputs": [],
   "source": [
    "for k in range(len(listfilesGraph)):\n",
    "    G = nx.read_gml(listfilesGraph[k])\n",
    "\n",
    "    for i in range(len(list(G.node))):\n",
    "        \n",
    "        # suddivide lo stato per voci dim0, dim1, ...\n",
    "        s = G.node[str(i)]['agent']\n",
    "        start = s.find('array([') + 7\n",
    "        end = s.find('])', start)\n",
    "        temp = [float(x) for x in s[start:end].split(',')]\n",
    "        for j in range(len(temp)):\n",
    "            try:\n",
    "                G.node[str(i)]['dim'+str(j)] = float(temp[j])            \n",
    "            except:\n",
    "                print('exception during state eval: ',j)\n",
    "                \n",
    "        # crea la lista di notizie presenti in memoria\n",
    "        sublist = []\n",
    "        for j in range(len(G.node[str(i)]['agent'].split('id-n'))):\n",
    "            if j == 0: continue\n",
    "            sublist = sublist + [G.node[str(i)]['agent'].split('id-n')[j][5:21]]\n",
    "        \n",
    "        # se la notizia della lista totale e` nella sublist allora scrive 1 altrimenti 0\n",
    "        for news in newslist:\n",
    "            if news in sublist:\n",
    "                G.node[str(i)]['n'+ news] = 1\n",
    "            else:\n",
    "                G.node[str(i)]['n' + news] = 0\n",
    "        G.node[str(i)]['news'] = sublist\n",
    "        # elimina le vecchie voci dal dizionario\n",
    "        G.node[str(i)].pop('agent', None)\n",
    "        \n",
    "    # scrive il .gml\n",
    "    nx.write_gml(G,'./new_'+listfilesGraph[k])\n"
   ]
  },
  {
   "cell_type": "code",
   "execution_count": 8,
   "metadata": {},
   "outputs": [
    {
     "name": "stdout",
     "output_type": "stream",
     "text": [
      "{'dim0': 0.04402092, 'dim1': 0.97656302, 'dim2': 0.12927667, 'dim3': 0.16614406, 'nc5bb90beec238c9d': 0, 'n72a6e7014a4ae699': 1, 'na00d1ef10e216c16': 0, 'n5a68e5b05327f612': 0, 'n1a30262ea5519acf': 0, 'n007a94120c688c9f': 0, 'n87326f391490d2c0': 0, 'n71251d8b77621651': 0, 'nfef41285dd7f183a': 0, 'n1052dbaeb551521a': 0, 'n0cbec67515e10a56': 0, 'n5ee6ff4298e42e74': 0, 'n3d61a33e093dd7b1': 0, 'n28fa93e07bd390c0': 0, 'n1ed28ca295e00826': 0, 'n4b08697d42b50bc2': 0, 'nab30cc3468fb93d0': 0, 'n33eae07c620add16': 0, 'nc0c3431403ba3fca': 0, 'n7f5dc125dc89f78a': 0, 'news': ['72a6e7014a4ae699']}\n"
     ]
    }
   ],
   "source": [
    "print(G.node['1'])"
   ]
  },
  {
   "cell_type": "code",
   "execution_count": null,
   "metadata": {},
   "outputs": [],
   "source": [
    "maxparam = max(G.node['30'], key=G.node['30'].get)"
   ]
  },
  {
   "cell_type": "code",
   "execution_count": null,
   "metadata": {},
   "outputs": [],
   "source": [
    "for k in range(len(listfilesGraphN)):\n",
    "    G = nx.read_gml(listfilesGraphN[k])\n",
    "\n",
    "    max = 0\n",
    "    index = 0\n",
    "    newslist = []\n",
    "    for i in range(len(list(G.node))):\n",
    "        if len(G.node[str(i)]['agent'][1:-1].split(\", \")) > max:\n",
    "            max = len(G.node[str(i)]['agent'][1:-1].split(\", \"))\n",
    "            index = i\n",
    "            newslist = G.node[str(i)]['agent'][1:-1].split(\", \")\n",
    "    #print(max)\n",
    "    #print(index)\n",
    "    #print(newslist)\n",
    "\n",
    "    for j in range(max):\n",
    "        for i in range(len(list(G.node))):\n",
    "            for n in newslist:\n",
    "                if n == '' : print('diosberla')\n",
    "                if n in G.node[str(i)]['agent'][1:-1].split(\", \"):\n",
    "                    G.node[str(i)]['n'+n[2:-1]] = '1'\n",
    "                else:\n",
    "                    G.node[str(i)]['n'+n[2:-1]] = '0'\n",
    "                    \n",
    "    nx.write_gml(G,'./new_'+listfilesGraphN[k])\n"
   ]
  },
  {
   "cell_type": "code",
   "execution_count": null,
   "metadata": {},
   "outputs": [],
   "source": [
    "newslist[0][2:-1]"
   ]
  },
  {
   "cell_type": "code",
   "execution_count": null,
   "metadata": {},
   "outputs": [],
   "source": [
    "G.node['40']"
   ]
  },
  {
   "cell_type": "code",
   "execution_count": null,
   "metadata": {},
   "outputs": [],
   "source": []
  }
 ],
 "metadata": {
  "kernelspec": {
   "display_name": "Python 3",
   "language": "python",
   "name": "python3"
  },
  "language_info": {
   "codemirror_mode": {
    "name": "ipython",
    "version": 3
   },
   "file_extension": ".py",
   "mimetype": "text/x-python",
   "name": "python",
   "nbconvert_exporter": "python",
   "pygments_lexer": "ipython3",
   "version": "3.6.5"
  }
 },
 "nbformat": 4,
 "nbformat_minor": 2
}
