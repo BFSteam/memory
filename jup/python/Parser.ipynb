{
 "cells": [
  {
   "cell_type": "code",
   "execution_count": 1,
   "metadata": {},
   "outputs": [
    {
     "data": {
      "text/plain": [
       "['graphN2018_08_03_18_21_08.gml',\n",
       " 'graphN2018_08_03_18_32_05.gml',\n",
       " 'graphN2018_08_03_18_44_28.gml',\n",
       " 'graphN2018_08_03_18_20_17.gml',\n",
       " 'graphN2018_08_03_18_19_58.gml',\n",
       " 'graphN2018_08_03_18_30_45.gml',\n",
       " 'graphN2018_08_03_18_18_47.gml',\n",
       " 'graphN2018_08_03_18_32_35.gml',\n",
       " 'graphN2018_08_03_18_44_12.gml',\n",
       " 'graphN2018_08_03_18_31_53.gml',\n",
       " 'graphN2018_08_03_18_44_56.gml',\n",
       " 'graphN2018_08_03_18_20_50.gml',\n",
       " 'graphN2018_08_03_18_44_41.gml',\n",
       " 'graphN2018_08_03_18_19_38.gml',\n",
       " 'graphN2018_08_03_18_20_35.gml',\n",
       " 'graphN2018_08_03_18_19_18.gml',\n",
       " 'graphN2018_08_03_18_32_19.gml',\n",
       " 'graphN2018_08_03_18_31_41.gml',\n",
       " 'graphN2018_08_03_18_30_58.gml',\n",
       " 'graphN2018_08_03_18_31_12.gml']"
      ]
     },
     "execution_count": 1,
     "metadata": {},
     "output_type": "execute_result"
    }
   ],
   "source": [
    "import networkx as nx\n",
    "import os\n",
    "listfiles = [x for x in os.listdir('.') if 'graphN' in x]\n",
    "listfiles"
   ]
  },
  {
   "cell_type": "code",
   "execution_count": 6,
   "metadata": {},
   "outputs": [],
   "source": [
    "for k in range(len(listfiles)):\n",
    "    G = nx.read_gml(listfiles[k])\n",
    "\n",
    "    max = 0\n",
    "    index = 0\n",
    "    newslist = []\n",
    "    for i in range(len(list(G.node))):\n",
    "        if len(G.node[str(i)]['agent'][1:-1].split(\", \")) > max:\n",
    "            max = len(G.node[str(i)]['agent'][1:-1].split(\", \"))\n",
    "            index = i\n",
    "            newslist = G.node[str(i)]['agent'][1:-1].split(\", \")\n",
    "    #print(max)\n",
    "    #print(index)\n",
    "    #print(newslist)\n",
    "\n",
    "    for j in range(max):\n",
    "        for i in range(len(list(G.node))):\n",
    "            for n in newslist:\n",
    "                if n == '' : print('diosberla')\n",
    "                if n in G.node[str(i)]['agent'][1:-1].split(\", \"):\n",
    "                    G.node[str(i)]['n'+n[2:-1]] = '1'\n",
    "                else:\n",
    "                    G.node[str(i)]['n'+n[2:-1]] = '0'\n",
    "                    \n",
    "    nx.write_gml(G,'./new_'+listfiles[k])\n"
   ]
  },
  {
   "cell_type": "code",
   "execution_count": null,
   "metadata": {},
   "outputs": [],
   "source": [
    "newslist[0][2:-1]"
   ]
  },
  {
   "cell_type": "code",
   "execution_count": 7,
   "metadata": {},
   "outputs": [
    {
     "data": {
      "text/plain": [
       "{'agent': \"[b'd560a0c2a5074abd', b'12e2595026fc7b30', b'c6b78515eec2dac5', b'b009656d9f4d7cd0', b'eda728be8f192031']\",\n",
       " 'n12e2595026fc7b30': '1',\n",
       " 'n3df83d4c5b3274e0': '0',\n",
       " 'n7d646ef724f96523': '0',\n",
       " 'n9121092d427505e0': '0',\n",
       " 'n9b7bd790938f369b': '0',\n",
       " 'nb009656d9f4d7cd0': '1',\n",
       " 'nba4a28374094fa61': '0',\n",
       " 'nc6b78515eec2dac5': '1',\n",
       " 'nd560a0c2a5074abd': '1',\n",
       " 'neda728be8f192031': '1'}"
      ]
     },
     "execution_count": 7,
     "metadata": {},
     "output_type": "execute_result"
    }
   ],
   "source": [
    "G.node['40']"
   ]
  },
  {
   "cell_type": "code",
   "execution_count": null,
   "metadata": {},
   "outputs": [],
   "source": []
  }
 ],
 "metadata": {
  "kernelspec": {
   "display_name": "Python 3",
   "language": "python",
   "name": "python3"
  },
  "language_info": {
   "codemirror_mode": {
    "name": "ipython",
    "version": 3
   },
   "file_extension": ".py",
   "mimetype": "text/x-python",
   "name": "python",
   "nbconvert_exporter": "python",
   "pygments_lexer": "ipython3",
   "version": "3.6.5"
  }
 },
 "nbformat": 4,
 "nbformat_minor": 2
}
