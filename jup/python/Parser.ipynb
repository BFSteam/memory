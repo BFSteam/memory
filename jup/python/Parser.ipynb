{
 "cells": [
  {
   "cell_type": "code",
   "execution_count": 1,
   "metadata": {},
   "outputs": [],
   "source": [
    "import networkx as nx\n",
    "import os\n",
    "import csv"
   ]
  },
  {
   "cell_type": "code",
   "execution_count": 11,
   "metadata": {},
   "outputs": [
    {
     "data": {
      "text/plain": [
       "['e892e71450e2ab07',\n",
       " 'c580954153f4213c',\n",
       " '33e7df83a1c67e16',\n",
       " '047a3923c9bd6b4c',\n",
       " 'cdf715ca518a242b',\n",
       " '0ecf46f766654675',\n",
       " '614deffae2be0720',\n",
       " '6f6c72e3630337f4',\n",
       " '141ad852047acef0',\n",
       " '61681b4d1bcea672',\n",
       " '61f7eaf7be18136f',\n",
       " '1f2e8f1823b14aa9',\n",
       " '6831b889f57c9b88',\n",
       " 'd13ebf905473e44e',\n",
       " '8856ea9597f191d0',\n",
       " '2786d3d6d5341d6f',\n",
       " 'a36419952780370a',\n",
       " '0924f6f4bbe80bb8',\n",
       " '3c2916d98c42e6b3',\n",
       " 'a478bae161e93c19']"
      ]
     },
     "execution_count": 11,
     "metadata": {},
     "output_type": "execute_result"
    }
   ],
   "source": [
    "newslist = []\n",
    "with open('memoryLog2018_23_04_17_09_00.csv') as csvfile:\n",
    "    readCSV = csv.reader(csvfile, delimiter=',')\n",
    "    for row in readCSV:\n",
    "        try:\n",
    "            if row[3] == 'news0' : continue\n",
    "            if row[3] == '0' : break\n",
    "            if row[3] == 0 : break\n",
    "            if row[3] not in newslist: newslist = newslist + [row[3]]\n",
    "        except:\n",
    "            continue\n",
    "newslist"
   ]
  },
  {
   "cell_type": "code",
   "execution_count": 12,
   "metadata": {
    "scrolled": true
   },
   "outputs": [
    {
     "data": {
      "text/plain": [
       "['graph2018_23_04_16_48_14.gml', 'graph2018_23_04_17_09_00.gml']"
      ]
     },
     "execution_count": 12,
     "metadata": {},
     "output_type": "execute_result"
    }
   ],
   "source": [
    "listfilesGraph = [x for x in os.listdir('.') if 'graph' in x and 'new' not in x and 'graphN' not in x]\n",
    "listfilesGraph"
   ]
  },
  {
   "cell_type": "code",
   "execution_count": 13,
   "metadata": {},
   "outputs": [],
   "source": [
    "G = nx.read_gml(listfilesGraph[0])"
   ]
  },
  {
   "cell_type": "code",
   "execution_count": 14,
   "metadata": {},
   "outputs": [
    {
     "data": {
      "text/plain": [
       "['c0242f89e5b3891f',\n",
       " 'c1fdc0db5c609226',\n",
       " 'a7d970cad9fb423f',\n",
       " 'b9fba1119779a0ce',\n",
       " '907fd0487f0de945',\n",
       " '7ffb84f1563d96c3',\n",
       " '17a0c9a9e2739686',\n",
       " '46f60d7e390dc5e2',\n",
       " 'dbc64b05a8698f5b',\n",
       " '72acd789e3c74cd5',\n",
       " '3eb7908c10b76222']"
      ]
     },
     "execution_count": 14,
     "metadata": {},
     "output_type": "execute_result"
    }
   ],
   "source": [
    "sublist = []\n",
    "for i in range(len(G.node['324']['agent'].split('id-n'))):\n",
    "    if i == 0: continue\n",
    "    sublist = sublist + [G.node['144']['agent'].split('id-n')[i][5:21]]\n",
    "sublist"
   ]
  },
  {
   "cell_type": "code",
   "execution_count": 15,
   "metadata": {},
   "outputs": [
    {
     "name": "stdout",
     "output_type": "stream",
     "text": [
      "b'3eb7908c10b76222'\n"
     ]
    }
   ],
   "source": [
    "s = G.node[str(1)]['agent']\n",
    "nl = s.split(\"'id-n': \")\n",
    "for i in range(len(nl)):\n",
    "    if i == 0: continue\n",
    "    print(nl[i][:19])"
   ]
  },
  {
   "cell_type": "code",
   "execution_count": 16,
   "metadata": {},
   "outputs": [],
   "source": [
    "for k in range(len(listfilesGraph)):\n",
    "    G = nx.read_gml(listfilesGraph[k])\n",
    "\n",
    "    for i in range(len(list(G.node))):\n",
    "        \n",
    "        # suddivide lo stato per voci dim0, dim1, ...\n",
    "        s = G.node[str(i)]['agent']\n",
    "        start = s.find('array([') + 7\n",
    "        end = s.find('])', start)\n",
    "        temp = [float(x) for x in s[start:end].split(',')]\n",
    "        for j in range(len(temp)):\n",
    "            try:\n",
    "                G.node[str(i)]['dim'+str(j)] = float(temp[j])            \n",
    "            except:\n",
    "                print('exception during state eval: ',j)\n",
    "                \n",
    "        # crea la lista di notizie presenti in memoria\n",
    "        sublist = []\n",
    "        for j in range(len(G.node[str(i)]['agent'].split('id-n'))):\n",
    "            if j == 0: continue\n",
    "            sublist = sublist + [G.node[str(i)]['agent'].split('id-n')[j][5:21]]\n",
    "        \n",
    "        # se la notizia della lista totale e` nella sublist allora scrive 1 altrimenti 0\n",
    "        for news in newslist:\n",
    "            if news in sublist:\n",
    "                G.node[str(i)]['n'+ news] = 1\n",
    "            else:\n",
    "                G.node[str(i)]['n' + news] = 0\n",
    "        G.node[str(i)]['news'] = sublist\n",
    "        # elimina le vecchie voci dal dizionario\n",
    "        G.node[str(i)].pop('agent', None)\n",
    "        \n",
    "    # scrive il .gml\n",
    "    nx.write_gml(G,'./new_'+listfilesGraph[k])\n"
   ]
  },
  {
   "cell_type": "code",
   "execution_count": 18,
   "metadata": {},
   "outputs": [
    {
     "name": "stdout",
     "output_type": "stream",
     "text": [
      "{'dim0': 0.03431562, 'dim1': 0.05025226, 'dim2': 0.07663428, 'dim3': 0.01426872, 'dim4': 0.01402269, 'dim5': 0.00459581, 'dim6': 0.07698602, 'dim7': 0.08387254, 'dim8': 0.01206749, 'dim9': 0.02484903, 'dim10': 0.04773409, 'dim11': 0.07842627, 'dim12': 0.01189895, 'dim13': 0.01391325, 'dim14': 0.01084583, 'dim15': 0.0540312, 'dim16': 0.03991711, 'dim17': 0.07059158, 'dim18': 0.032848, 'dim19': 0.03941626, 'dim20': 0.01178124, 'dim21': 0.06438761, 'dim22': 0.08738396, 'dim23': 0.06388566, 'dim24': 0.00192245, 'dim25': 0.04930116, 'dim26': 0.07084111, 'dim27': 0.07083673, 'dim28': 0.02604635, 'dim29': 0.0270222, 'dim30': 0.05592326, 'dim31': 0.06437319, 'dim32': 0.01251714, 'dim33': 0.04091904, 'dim34': 0.04385384, 'dim35': 0.04132736, 'dim36': 0.04459455, 'dim37': 0.01514905, 'dim38': 0.04060115, 'dim39': 0.07849018, 'dim40': 0.10097759, 'dim41': 0.0341938, 'dim42': 0.06724913, 'dim43': 0.07956712, 'dim44': 0.05400724, 'dim45': 0.22567346, 'dim46': 0.01057051, 'dim47': 0.00878549, 'dim48': 0.05003006, 'dim49': 0.09966756, 'dim50': 0.07861621, 'dim51': 0.04813811, 'dim52': 0.03051792, 'dim53': 0.07737271, 'dim54': 0.05783225, 'dim55': 0.03614346, 'dim56': 0.08733909, 'dim57': 0.04425101, 'dim58': 0.22939782, 'dim59': 0.08824468, 'dim60': 0.09457162, 'dim61': 0.04583197, 'dim62': 0.09193939, 'dim63': 0.0432795, 'dim64': 0.00683491, 'dim65': 0.08060893, 'dim66': 0.05379506, 'dim67': 0.06472801, 'dim68': 0.05407294, 'dim69': 0.0310601, 'dim70': 0.03770149, 'dim71': 0.01329015, 'dim72': 0.09480623, 'dim73': 0.18695655, 'dim74': 0.07253051, 'dim75': 0.08735649, 'dim76': 0.04410435, 'dim77': 0.0826604, 'dim78': 0.08697894, 'dim79': 0.06237935, 'dim80': 0.01620363, 'dim81': 0.03473356, 'dim82': 0.10099853, 'dim83': 0.0576083, 'dim84': 0.08184697, 'dim85': 0.00854352, 'dim86': 0.02779687, 'dim87': 0.08886082, 'dim88': 0.07509647, 'dim89': 0.05129888, 'dim90': 0.01152276, 'dim91': 0.00746769, 'dim92': 0.07181616, 'dim93': 0.03742746, 'dim94': 0.03395141, 'dim95': 0.04699508, 'dim96': 0.05507956, 'dim97': 0.10119527, 'dim98': 0.06616972, 'dim99': 0.10353258, 'ne892e71450e2ab07': 0, 'nc580954153f4213c': 1, 'n33e7df83a1c67e16': 0, 'n047a3923c9bd6b4c': 0, 'ncdf715ca518a242b': 0, 'n0ecf46f766654675': 0, 'n614deffae2be0720': 0, 'n6f6c72e3630337f4': 0, 'n141ad852047acef0': 0, 'n61681b4d1bcea672': 0, 'n61f7eaf7be18136f': 0, 'n1f2e8f1823b14aa9': 0, 'n6831b889f57c9b88': 0, 'nd13ebf905473e44e': 0, 'n8856ea9597f191d0': 0, 'n2786d3d6d5341d6f': 0, 'na36419952780370a': 0, 'n0924f6f4bbe80bb8': 0, 'n3c2916d98c42e6b3': 0, 'na478bae161e93c19': 0, 'news': ['c580954153f4213c']}\n"
     ]
    }
   ],
   "source": [
    "print(G.node['1'])"
   ]
  },
  {
   "cell_type": "code",
   "execution_count": null,
   "metadata": {},
   "outputs": [],
   "source": [
    "maxparam = max(G.node['30'], key=G.node['30'].get)"
   ]
  },
  {
   "cell_type": "code",
   "execution_count": null,
   "metadata": {},
   "outputs": [],
   "source": [
    "for k in range(len(listfilesGraphN)):\n",
    "    G = nx.read_gml(listfilesGraphN[k])\n",
    "\n",
    "    max = 0\n",
    "    index = 0\n",
    "    newslist = []\n",
    "    for i in range(len(list(G.node))):\n",
    "        if len(G.node[str(i)]['agent'][1:-1].split(\", \")) > max:\n",
    "            max = len(G.node[str(i)]['agent'][1:-1].split(\", \"))\n",
    "            index = i\n",
    "            newslist = G.node[str(i)]['agent'][1:-1].split(\", \")\n",
    "    #print(max)\n",
    "    #print(index)\n",
    "    #print(newslist)\n",
    "\n",
    "    for j in range(max):\n",
    "        for i in range(len(list(G.node))):\n",
    "            for n in newslist:\n",
    "                if n == '' : print('diosberla')\n",
    "                if n in G.node[str(i)]['agent'][1:-1].split(\", \"):\n",
    "                    G.node[str(i)]['n'+n[2:-1]] = '1'\n",
    "                else:\n",
    "                    G.node[str(i)]['n'+n[2:-1]] = '0'\n",
    "                    \n",
    "    nx.write_gml(G,'./new_'+listfilesGraphN[k])\n"
   ]
  },
  {
   "cell_type": "code",
   "execution_count": null,
   "metadata": {},
   "outputs": [],
   "source": [
    "newslist[0][2:-1]"
   ]
  },
  {
   "cell_type": "code",
   "execution_count": null,
   "metadata": {},
   "outputs": [],
   "source": [
    "G.node['40']"
   ]
  },
  {
   "cell_type": "code",
   "execution_count": null,
   "metadata": {},
   "outputs": [],
   "source": []
  }
 ],
 "metadata": {
  "kernelspec": {
   "display_name": "Python 3",
   "language": "python",
   "name": "python3"
  },
  "language_info": {
   "codemirror_mode": {
    "name": "ipython",
    "version": 3
   },
   "file_extension": ".py",
   "mimetype": "text/x-python",
   "name": "python",
   "nbconvert_exporter": "python",
   "pygments_lexer": "ipython3",
   "version": "3.6.5"
  }
 },
 "nbformat": 4,
 "nbformat_minor": 2
}
