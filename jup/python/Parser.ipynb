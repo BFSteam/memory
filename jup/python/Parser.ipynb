{
 "cells": [
  {
   "cell_type": "code",
   "execution_count": 1,
   "metadata": {},
   "outputs": [],
   "source": [
    "import networkx as nx\n",
    "import os\n",
    "import csv"
   ]
  },
  {
   "cell_type": "code",
   "execution_count": 2,
   "metadata": {},
   "outputs": [
    {
     "data": {
      "text/plain": [
       "['ed37d54241cace10',\n",
       " 'b995d20bb75dce30',\n",
       " '85c914b04060cdee',\n",
       " '95bb529b4cfdcb53',\n",
       " '24e86d54d38ca838',\n",
       " 'e7bb832da5c94b71',\n",
       " '5a25238eca86f757',\n",
       " '10cb5bf341443ba3',\n",
       " '281931a032cc03b4',\n",
       " '1e62ea17e15f7c1f',\n",
       " '7d7743fb4e518dc6',\n",
       " 'a2359f08860efcbe',\n",
       " '36d7b7f97487e29b',\n",
       " 'f1e41ea9157e8c0b',\n",
       " 'e0c58e446c5775a0',\n",
       " '81e3bd2711c5a0e2',\n",
       " '9ba0539d76ca127b',\n",
       " 'a0690a0fa912e1b6',\n",
       " 'a2231d16ad2d3b2b',\n",
       " 'd27b45cb28030feb']"
      ]
     },
     "execution_count": 2,
     "metadata": {},
     "output_type": "execute_result"
    }
   ],
   "source": [
    "newslist = []\n",
    "with open('memoryLog2018_09_05_15_36_58.csv') as csvfile:\n",
    "    readCSV = csv.reader(csvfile, delimiter=',')\n",
    "    for row in readCSV:\n",
    "        try:\n",
    "            if row[3] == 'news0' : continue\n",
    "            if row[3] == '0' : break\n",
    "            if row[3] == 0 : break\n",
    "            if row[3] not in newslist: newslist = newslist + [row[3]]\n",
    "        except:\n",
    "            continue\n",
    "newslist"
   ]
  },
  {
   "cell_type": "code",
   "execution_count": 3,
   "metadata": {
    "scrolled": true
   },
   "outputs": [
    {
     "data": {
      "text/plain": [
       "['graph2018_09_05_15_36_58.gml']"
      ]
     },
     "execution_count": 3,
     "metadata": {},
     "output_type": "execute_result"
    }
   ],
   "source": [
    "listfilesGraph = [x for x in os.listdir('.') if 'graph' in x and 'new' not in x and 'graphN' not in x]\n",
    "listfilesGraph"
   ]
  },
  {
   "cell_type": "code",
   "execution_count": 4,
   "metadata": {},
   "outputs": [],
   "source": [
    "G = nx.read_gml(listfilesGraph[0])"
   ]
  },
  {
   "cell_type": "code",
   "execution_count": 5,
   "metadata": {},
   "outputs": [
    {
     "data": {
      "text/plain": [
       "['d27b45cb28030feb', '36d7b7f97487e29b', '281931a032cc03b4']"
      ]
     },
     "execution_count": 5,
     "metadata": {},
     "output_type": "execute_result"
    }
   ],
   "source": [
    "sublist = []\n",
    "for i in range(len(G.node['324']['agent'].split('id-n'))):\n",
    "    if i == 0: continue\n",
    "    sublist = sublist + [G.node['144']['agent'].split('id-n')[i][5:21]]\n",
    "sublist"
   ]
  },
  {
   "cell_type": "code",
   "execution_count": 6,
   "metadata": {},
   "outputs": [
    {
     "name": "stdout",
     "output_type": "stream",
     "text": [
      "b'b995d20bb75dce30'\n"
     ]
    }
   ],
   "source": [
    "s = G.node[str(1)]['agent']\n",
    "nl = s.split(\"'id-n': \")\n",
    "for i in range(len(nl)):\n",
    "    if i == 0: continue\n",
    "    print(nl[i][:19])"
   ]
  },
  {
   "cell_type": "code",
   "execution_count": 7,
   "metadata": {},
   "outputs": [],
   "source": [
    "for k in range(len(listfilesGraph)):\n",
    "    G = nx.read_gml(listfilesGraph[k])\n",
    "\n",
    "    for i in range(len(list(G.node))):\n",
    "        \n",
    "        # suddivide lo stato per voci dim0, dim1, ...\n",
    "        s = G.node[str(i)]['agent']\n",
    "        start = s.find('array([') + 7\n",
    "        end = s.find('])', start)\n",
    "        temp = [float(x) for x in s[start:end].split(',')]\n",
    "        for j in range(len(temp)):\n",
    "            try:\n",
    "                G.node[str(i)]['dim'+str(j)] = float(temp[j])            \n",
    "            except:\n",
    "                print('exception during state eval: ',j)\n",
    "                \n",
    "        # crea la lista di notizie presenti in memoria\n",
    "        sublist = []\n",
    "        for j in range(len(G.node[str(i)]['agent'].split('id-n'))):\n",
    "            if j == 0: continue\n",
    "            sublist = sublist + [G.node[str(i)]['agent'].split('id-n')[j][5:21]]\n",
    "        \n",
    "        # se la notizia della lista totale e` nella sublist allora scrive 1 altrimenti 0\n",
    "        for news in newslist:\n",
    "            if news in sublist:\n",
    "                G.node[str(i)]['n'+ news] = 1\n",
    "            else:\n",
    "                G.node[str(i)]['n' + news] = 0\n",
    "        G.node[str(i)]['news'] = sublist\n",
    "        # elimina le vecchie voci dal dizionario\n",
    "        G.node[str(i)].pop('agent', None)\n",
    "        \n",
    "    # scrive il .gml\n",
    "    nx.write_gml(G,'./new_'+listfilesGraph[k])\n"
   ]
  },
  {
   "cell_type": "code",
   "execution_count": 8,
   "metadata": {},
   "outputs": [
    {
     "name": "stdout",
     "output_type": "stream",
     "text": [
      "{'dim0': 0.05573453, 'dim1': 0.06081773, 'dim2': 0.05339778, 'dim3': 0.09129934, 'dim4': 0.03516199, 'dim5': 0.09796211, 'dim6': 0.02177167, 'dim7': 0.09748257, 'dim8': 0.02903404, 'dim9': 0.08366728, 'dim10': 0.03029991, 'dim11': 0.08321427, 'dim12': 0.10142315, 'dim13': 0.20256357, 'dim14': 0.04568751, 'dim15': 0.00742621, 'dim16': 0.04591333, 'dim17': 0.02639046, 'dim18': 0.0965044, 'dim19': 0.0748506, 'dim20': 0.03683622, 'dim21': 0.04628567, 'dim22': 0.09479258, 'dim23': 0.0771156, 'dim24': 0.00495865, 'dim25': 0.08697009, 'dim26': 0.09693929, 'dim27': 0.0809856, 'dim28': 0.10130022, 'dim29': 0.04783685, 'dim30': 0.08251656, 'dim31': 0.00147603, 'dim32': 0.03407358, 'dim33': 0.0668643, 'dim34': 0.03873593, 'dim35': 0.00111075, 'dim36': 0.04313925, 'dim37': 0.2256497, 'dim38': 0.08540038, 'dim39': 0.05831676, 'dim40': 0.02709144, 'dim41': 0.05318052, 'dim42': 0.0861181, 'dim43': 0.01747771, 'dim44': 0.07865662, 'dim45': 0.06858125, 'dim46': 0.02363235, 'dim47': 0.03344748, 'dim48': 0.08772503, 'dim49': 0.08377501, 'dim50': 0.08821637, 'dim51': 0.02973139, 'dim52': 0.0601188, 'dim53': 0.07782738, 'dim54': 0.10579284, 'dim55': 0.04260283, 'dim56': 0.03883676, 'dim57': 0.04637227, 'dim58': 0.05574606, 'dim59': 0.08089652, 'dim60': 0.03678312, 'dim61': 0.10034668, 'dim62': 0.0634856, 'dim63': 0.02483646, 'dim64': 0.03370215, 'dim65': 0.01553121, 'dim66': 0.0983577, 'dim67': 0.02178711, 'dim68': 0.07355223, 'dim69': 0.10319455, 'dim70': 0.01049686, 'dim71': 0.09750091, 'dim72': 0.06961957, 'dim73': 0.02566598, 'dim74': 0.0904821, 'dim75': 0.04275806, 'dim76': 0.09358618, 'dim77': 0.03380227, 'dim78': 0.03485028, 'dim79': 0.10309577, 'dim80': 0.04084758, 'dim81': 0.01281601, 'dim82': 0.20808758, 'dim83': 0.05361208, 'dim84': 0.05242145, 'dim85': 0.03185208, 'dim86': 0.05853094, 'dim87': 0.09387787, 'dim88': 0.08352134, 'dim89': 0.06199466, 'dim90': 0.08487385, 'dim91': 0.04636931, 'dim92': 0.02849561, 'dim93': 0.09215396, 'dim94': 0.03673266, 'dim95': 0.03141107, 'dim96': 0.01899935, 'dim97': 0.06569599, 'dim98': 0.08460456, 'dim99': 0.0363274, 'ned37d54241cace10': 0, 'nb995d20bb75dce30': 1, 'n85c914b04060cdee': 0, 'n95bb529b4cfdcb53': 0, 'n24e86d54d38ca838': 0, 'ne7bb832da5c94b71': 0, 'n5a25238eca86f757': 0, 'n10cb5bf341443ba3': 0, 'n281931a032cc03b4': 0, 'n1e62ea17e15f7c1f': 0, 'n7d7743fb4e518dc6': 0, 'na2359f08860efcbe': 0, 'n36d7b7f97487e29b': 0, 'nf1e41ea9157e8c0b': 0, 'ne0c58e446c5775a0': 0, 'n81e3bd2711c5a0e2': 0, 'n9ba0539d76ca127b': 0, 'na0690a0fa912e1b6': 0, 'na2231d16ad2d3b2b': 0, 'nd27b45cb28030feb': 0, 'news': ['b995d20bb75dce30']}\n"
     ]
    }
   ],
   "source": [
    "print(G.node['1'])"
   ]
  },
  {
   "cell_type": "code",
   "execution_count": null,
   "metadata": {},
   "outputs": [],
   "source": [
    "maxparam = max(G.node['30'], key=G.node['30'].get)"
   ]
  },
  {
   "cell_type": "code",
   "execution_count": null,
   "metadata": {},
   "outputs": [],
   "source": [
    "for k in range(len(listfilesGraphN)):\n",
    "    G = nx.read_gml(listfilesGraphN[k])\n",
    "\n",
    "    max = 0\n",
    "    index = 0\n",
    "    newslist = []\n",
    "    for i in range(len(list(G.node))):\n",
    "        if len(G.node[str(i)]['agent'][1:-1].split(\", \")) > max:\n",
    "            max = len(G.node[str(i)]['agent'][1:-1].split(\", \"))\n",
    "            index = i\n",
    "            newslist = G.node[str(i)]['agent'][1:-1].split(\", \")\n",
    "    #print(max)\n",
    "    #print(index)\n",
    "    #print(newslist)\n",
    "\n",
    "    for j in range(max):\n",
    "        for i in range(len(list(G.node))):\n",
    "            for n in newslist:\n",
    "                if n == '' : print('diosberla')\n",
    "                if n in G.node[str(i)]['agent'][1:-1].split(\", \"):\n",
    "                    G.node[str(i)]['n'+n[2:-1]] = '1'\n",
    "                else:\n",
    "                    G.node[str(i)]['n'+n[2:-1]] = '0'\n",
    "                    \n",
    "    nx.write_gml(G,'./new_'+listfilesGraphN[k])\n"
   ]
  },
  {
   "cell_type": "code",
   "execution_count": null,
   "metadata": {},
   "outputs": [],
   "source": [
    "newslist[0][2:-1]"
   ]
  },
  {
   "cell_type": "code",
   "execution_count": null,
   "metadata": {},
   "outputs": [],
   "source": [
    "G.node['40']"
   ]
  },
  {
   "cell_type": "code",
   "execution_count": null,
   "metadata": {},
   "outputs": [],
   "source": []
  }
 ],
 "metadata": {
  "kernelspec": {
   "display_name": "Python 3",
   "language": "python",
   "name": "python3"
  },
  "language_info": {
   "codemirror_mode": {
    "name": "ipython",
    "version": 3
   },
   "file_extension": ".py",
   "mimetype": "text/x-python",
   "name": "python",
   "nbconvert_exporter": "python",
   "pygments_lexer": "ipython3",
   "version": "3.6.5"
  }
 },
 "nbformat": 4,
 "nbformat_minor": 2
}
