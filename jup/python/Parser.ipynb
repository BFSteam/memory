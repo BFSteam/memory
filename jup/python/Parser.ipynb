{
 "cells": [
  {
   "cell_type": "code",
   "execution_count": 11,
   "metadata": {},
   "outputs": [],
   "source": [
    "import networkx as nx\n",
    "import os\n",
    "import csv"
   ]
  },
  {
   "cell_type": "code",
   "execution_count": 12,
   "metadata": {},
   "outputs": [
    {
     "data": {
      "text/plain": [
       "['4d9451d5d03cb0fa',\n",
       " '1effff8bb1182134',\n",
       " '7353260b966800b5',\n",
       " '63a648d6935845bd',\n",
       " '777d70c7e3288225',\n",
       " 'e92fa0b030dd3078',\n",
       " '2a663caf22789580',\n",
       " '6c236f7ae9dd87a4',\n",
       " '05b89b6847fb6dc1',\n",
       " 'e495cdda1b8ea62f',\n",
       " '14bf7a8e3d726187',\n",
       " 'f0fe2b3db363dfca',\n",
       " '0a7ff0df60de10d9',\n",
       " 'd37ef447d0f81b86',\n",
       " 'e9d3654e15751ab1',\n",
       " 'cd582ff8576a95a8',\n",
       " '163b7545b95e3824',\n",
       " 'a3a7b19fa6efbb9e',\n",
       " '74f1ac6e9d2cfca2',\n",
       " 'ec99d462812e1fd3']"
      ]
     },
     "execution_count": 12,
     "metadata": {},
     "output_type": "execute_result"
    }
   ],
   "source": [
    "newslist = []\n",
    "with open('../../log/memoryLog2018_01_06_19_16_55.csv') as csvfile:\n",
    "    readCSV = csv.reader(csvfile, delimiter=',')\n",
    "    for row in readCSV:\n",
    "        try:\n",
    "            if row[3] == 'news0' : continue\n",
    "            if row[3] == '0' : break\n",
    "            if row[3] == 0 : break\n",
    "            if row[3] not in newslist: newslist = newslist + [row[3]]\n",
    "        except:\n",
    "            continue\n",
    "newslist"
   ]
  },
  {
   "cell_type": "code",
   "execution_count": 15,
   "metadata": {
    "scrolled": true
   },
   "outputs": [
    {
     "data": {
      "text/plain": [
       "['graph2018_01_06_19_16_55.gml',\n",
       " 'graph2018_01_06_19_43_55.gml',\n",
       " 'graph2018_01_06_19_57_52.gml',\n",
       " 'graph2018_08_03_15_29_49.gml',\n",
       " 'graph2018_08_03_15_30_44.gml',\n",
       " 'graph2018_08_03_15_31_04.gml',\n",
       " 'graph2018_08_03_15_31_22.gml',\n",
       " 'graph2018_08_03_15_31_53.gml',\n",
       " 'graph2018_08_03_15_32_09.gml',\n",
       " 'graph2018_15_04_16_49_37.gml',\n",
       " 'graph2018_20_03_17_22_41.gml',\n",
       " 'graph2018_29_05_17_28_42.gml']"
      ]
     },
     "execution_count": 15,
     "metadata": {},
     "output_type": "execute_result"
    }
   ],
   "source": [
    "listfilesGraph = [x for x in os.listdir('../../log') if 'graph' in x and 'new' not in x and 'graphN' not in x]\n",
    "listfilesGraph"
   ]
  },
  {
   "cell_type": "code",
   "execution_count": 18,
   "metadata": {},
   "outputs": [],
   "source": [
    "G = nx.read_gml('../../log/' + listfilesGraph[0])"
   ]
  },
  {
   "cell_type": "code",
   "execution_count": 19,
   "metadata": {},
   "outputs": [
    {
     "ename": "IndexError",
     "evalue": "list index out of range",
     "output_type": "error",
     "traceback": [
      "\u001b[1;31m---------------------------------------------------------------------------\u001b[0m",
      "\u001b[1;31mIndexError\u001b[0m                                Traceback (most recent call last)",
      "\u001b[1;32m<ipython-input-19-8c0f3680e0c9>\u001b[0m in \u001b[0;36m<module>\u001b[1;34m()\u001b[0m\n\u001b[0;32m      2\u001b[0m \u001b[1;32mfor\u001b[0m \u001b[0mi\u001b[0m \u001b[1;32min\u001b[0m \u001b[0mrange\u001b[0m\u001b[1;33m(\u001b[0m\u001b[0mlen\u001b[0m\u001b[1;33m(\u001b[0m\u001b[0mG\u001b[0m\u001b[1;33m.\u001b[0m\u001b[0mnode\u001b[0m\u001b[1;33m[\u001b[0m\u001b[1;34m'324'\u001b[0m\u001b[1;33m]\u001b[0m\u001b[1;33m[\u001b[0m\u001b[1;34m'agent'\u001b[0m\u001b[1;33m]\u001b[0m\u001b[1;33m.\u001b[0m\u001b[0msplit\u001b[0m\u001b[1;33m(\u001b[0m\u001b[1;34m'id-n'\u001b[0m\u001b[1;33m)\u001b[0m\u001b[1;33m)\u001b[0m\u001b[1;33m)\u001b[0m\u001b[1;33m:\u001b[0m\u001b[1;33m\u001b[0m\u001b[0m\n\u001b[0;32m      3\u001b[0m     \u001b[1;32mif\u001b[0m \u001b[0mi\u001b[0m \u001b[1;33m==\u001b[0m \u001b[1;36m0\u001b[0m\u001b[1;33m:\u001b[0m \u001b[1;32mcontinue\u001b[0m\u001b[1;33m\u001b[0m\u001b[0m\n\u001b[1;32m----> 4\u001b[1;33m     \u001b[0msublist\u001b[0m \u001b[1;33m=\u001b[0m \u001b[0msublist\u001b[0m \u001b[1;33m+\u001b[0m \u001b[1;33m[\u001b[0m\u001b[0mG\u001b[0m\u001b[1;33m.\u001b[0m\u001b[0mnode\u001b[0m\u001b[1;33m[\u001b[0m\u001b[1;34m'144'\u001b[0m\u001b[1;33m]\u001b[0m\u001b[1;33m[\u001b[0m\u001b[1;34m'agent'\u001b[0m\u001b[1;33m]\u001b[0m\u001b[1;33m.\u001b[0m\u001b[0msplit\u001b[0m\u001b[1;33m(\u001b[0m\u001b[1;34m'id-n'\u001b[0m\u001b[1;33m)\u001b[0m\u001b[1;33m[\u001b[0m\u001b[0mi\u001b[0m\u001b[1;33m]\u001b[0m\u001b[1;33m[\u001b[0m\u001b[1;36m5\u001b[0m\u001b[1;33m:\u001b[0m\u001b[1;36m21\u001b[0m\u001b[1;33m]\u001b[0m\u001b[1;33m]\u001b[0m\u001b[1;33m\u001b[0m\u001b[0m\n\u001b[0m\u001b[0;32m      5\u001b[0m \u001b[0msublist\u001b[0m\u001b[1;33m\u001b[0m\u001b[0m\n",
      "\u001b[1;31mIndexError\u001b[0m: list index out of range"
     ]
    }
   ],
   "source": [
    "sublist = []\n",
    "for i in range(len(G.node['324']['agent'].split('id-n'))):\n",
    "    if i == 0: continue\n",
    "    sublist = sublist + [G.node['144']['agent'].split('id-n')[i][5:21]]\n",
    "sublist"
   ]
  },
  {
   "cell_type": "code",
   "execution_count": 20,
   "metadata": {},
   "outputs": [
    {
     "name": "stdout",
     "output_type": "stream",
     "text": [
      "b'1effff8bb1182134'\n"
     ]
    }
   ],
   "source": [
    "s = G.node[str(1)]['agent']\n",
    "nl = s.split(\"'id-n': \")\n",
    "for i in range(len(nl)):\n",
    "    if i == 0: continue\n",
    "    print(nl[i][:19])"
   ]
  },
  {
   "cell_type": "code",
   "execution_count": 22,
   "metadata": {},
   "outputs": [],
   "source": [
    "for k in range(len(listfilesGraph)):\n",
    "    G = nx.read_gml('../../log/'+listfilesGraph[k])\n",
    "\n",
    "    for i in range(len(list(G.node))):\n",
    "        \n",
    "        # suddivide lo stato per voci dim0, dim1, ...\n",
    "        s = G.node[str(i)]['agent']\n",
    "        start = s.find('array([') + 7\n",
    "        end = s.find('])', start)\n",
    "        temp = [float(x) for x in s[start:end].split(',')]\n",
    "        for j in range(len(temp)):\n",
    "            try:\n",
    "                G.node[str(i)]['dim'+str(j)] = float(temp[j])            \n",
    "            except:\n",
    "                print('exception during state eval: ',j)\n",
    "                \n",
    "        # crea la lista di notizie presenti in memoria\n",
    "        sublist = []\n",
    "        for j in range(len(G.node[str(i)]['agent'].split('id-n'))):\n",
    "            if j == 0: continue\n",
    "            sublist = sublist + [G.node[str(i)]['agent'].split('id-n')[j][5:21]]\n",
    "        \n",
    "        # se la notizia della lista totale e` nella sublist allora scrive 1 altrimenti 0\n",
    "        for news in newslist:\n",
    "            if news in sublist:\n",
    "                G.node[str(i)]['n'+ news] = 1\n",
    "            else:\n",
    "                G.node[str(i)]['n' + news] = 0\n",
    "        G.node[str(i)]['news'] = sublist\n",
    "        # elimina le vecchie voci dal dizionario\n",
    "        G.node[str(i)].pop('agent', None)\n",
    "        \n",
    "    # scrive il .gml\n",
    "    nx.write_gml(G,'./new_'+listfilesGraph[k])\n"
   ]
  },
  {
   "cell_type": "code",
   "execution_count": 23,
   "metadata": {},
   "outputs": [
    {
     "name": "stdout",
     "output_type": "stream",
     "text": [
      "{'dim1': 0.14892958, 'n4d9451d5d03cb0fa': 0, 'na3a7b19fa6efbb9e': 0, 'nd37ef447d0f81b86': 0, 'n0a7ff0df60de10d9': 0, 'n1effff8bb1182134': 0, 'ne495cdda1b8ea62f': 0, 'dim0': 0.73663525, 'n74f1ac6e9d2cfca2': 0, 'dim2': 0.11443516, 'n05b89b6847fb6dc1': 0, 'n777d70c7e3288225': 0, 'ne9d3654e15751ab1': 0, 'ne92fa0b030dd3078': 0, 'n14bf7a8e3d726187': 0, 'nf0fe2b3db363dfca': 0, 'n2a663caf22789580': 0, 'n6c236f7ae9dd87a4': 0, 'ncd582ff8576a95a8': 0, 'n163b7545b95e3824': 0, 'nec99d462812e1fd3': 0, 'n63a648d6935845bd': 0, 'news': ['ee3bd9475b394496'], 'n7353260b966800b5': 0}\n"
     ]
    }
   ],
   "source": [
    "print(G.node['1'])"
   ]
  },
  {
   "cell_type": "code",
   "execution_count": 24,
   "metadata": {},
   "outputs": [
    {
     "ename": "TypeError",
     "evalue": "unorderable types: list() > float()",
     "output_type": "error",
     "traceback": [
      "\u001b[1;31m---------------------------------------------------------------------------\u001b[0m",
      "\u001b[1;31mTypeError\u001b[0m                                 Traceback (most recent call last)",
      "\u001b[1;32m<ipython-input-24-d715952126ca>\u001b[0m in \u001b[0;36m<module>\u001b[1;34m()\u001b[0m\n\u001b[1;32m----> 1\u001b[1;33m \u001b[0mmaxparam\u001b[0m \u001b[1;33m=\u001b[0m \u001b[0mmax\u001b[0m\u001b[1;33m(\u001b[0m\u001b[0mG\u001b[0m\u001b[1;33m.\u001b[0m\u001b[0mnode\u001b[0m\u001b[1;33m[\u001b[0m\u001b[1;34m'30'\u001b[0m\u001b[1;33m]\u001b[0m\u001b[1;33m,\u001b[0m \u001b[0mkey\u001b[0m\u001b[1;33m=\u001b[0m\u001b[0mG\u001b[0m\u001b[1;33m.\u001b[0m\u001b[0mnode\u001b[0m\u001b[1;33m[\u001b[0m\u001b[1;34m'30'\u001b[0m\u001b[1;33m]\u001b[0m\u001b[1;33m.\u001b[0m\u001b[0mget\u001b[0m\u001b[1;33m)\u001b[0m\u001b[1;33m\u001b[0m\u001b[0m\n\u001b[0m",
      "\u001b[1;31mTypeError\u001b[0m: unorderable types: list() > float()"
     ]
    }
   ],
   "source": [
    "maxparam = max(G.node['30'], key=G.node['30'].get)"
   ]
  },
  {
   "cell_type": "code",
   "execution_count": 26,
   "metadata": {},
   "outputs": [
    {
     "ename": "NameError",
     "evalue": "name 'listfilesGraphN' is not defined",
     "output_type": "error",
     "traceback": [
      "\u001b[1;31m---------------------------------------------------------------------------\u001b[0m",
      "\u001b[1;31mNameError\u001b[0m                                 Traceback (most recent call last)",
      "\u001b[1;32m<ipython-input-26-64078aa0aad0>\u001b[0m in \u001b[0;36m<module>\u001b[1;34m()\u001b[0m\n\u001b[1;32m----> 1\u001b[1;33m \u001b[1;32mfor\u001b[0m \u001b[0mk\u001b[0m \u001b[1;32min\u001b[0m \u001b[0mrange\u001b[0m\u001b[1;33m(\u001b[0m\u001b[0mlen\u001b[0m\u001b[1;33m(\u001b[0m\u001b[0mlistfilesGraphN\u001b[0m\u001b[1;33m)\u001b[0m\u001b[1;33m)\u001b[0m\u001b[1;33m:\u001b[0m\u001b[1;33m\u001b[0m\u001b[0m\n\u001b[0m\u001b[0;32m      2\u001b[0m     \u001b[0mG\u001b[0m \u001b[1;33m=\u001b[0m \u001b[0mnx\u001b[0m\u001b[1;33m.\u001b[0m\u001b[0mread_gml\u001b[0m\u001b[1;33m(\u001b[0m\u001b[1;34m'../../log/'\u001b[0m\u001b[1;33m+\u001b[0m\u001b[0mlistfilesGraphN\u001b[0m\u001b[1;33m[\u001b[0m\u001b[0mk\u001b[0m\u001b[1;33m]\u001b[0m\u001b[1;33m)\u001b[0m\u001b[1;33m\u001b[0m\u001b[0m\n\u001b[0;32m      3\u001b[0m \u001b[1;33m\u001b[0m\u001b[0m\n\u001b[0;32m      4\u001b[0m     \u001b[0mmax\u001b[0m \u001b[1;33m=\u001b[0m \u001b[1;36m0\u001b[0m\u001b[1;33m\u001b[0m\u001b[0m\n\u001b[0;32m      5\u001b[0m     \u001b[0mindex\u001b[0m \u001b[1;33m=\u001b[0m \u001b[1;36m0\u001b[0m\u001b[1;33m\u001b[0m\u001b[0m\n",
      "\u001b[1;31mNameError\u001b[0m: name 'listfilesGraphN' is not defined"
     ]
    }
   ],
   "source": [
    "for k in range(len(listfilesGraphN)):\n",
    "    G = nx.read_gml('../../log/'+listfilesGraphN[k])\n",
    "\n",
    "    max = 0\n",
    "    index = 0\n",
    "    newslist = []\n",
    "    for i in range(len(list(G.node))):\n",
    "        if len(G.node[str(i)]['agent'][1:-1].split(\", \")) > max:\n",
    "            max = len(G.node[str(i)]['agent'][1:-1].split(\", \"))\n",
    "            index = i\n",
    "            newslist = G.node[str(i)]['agent'][1:-1].split(\", \")\n",
    "    #print(max)\n",
    "    #print(index)\n",
    "    #print(newslist)\n",
    "\n",
    "    for j in range(max):\n",
    "        for i in range(len(list(G.node))):\n",
    "            for n in newslist:\n",
    "                if n == '' : print('diosberla')\n",
    "                if n in G.node[str(i)]['agent'][1:-1].split(\", \"):\n",
    "                    G.node[str(i)]['n'+n[2:-1]] = '1'\n",
    "                else:\n",
    "                    G.node[str(i)]['n'+n[2:-1]] = '0'\n",
    "                    \n",
    "    nx.write_gml(G,'./new_'+listfilesGraphN[k])\n"
   ]
  },
  {
   "cell_type": "code",
   "execution_count": null,
   "metadata": {},
   "outputs": [],
   "source": [
    "newslist[0][2:-1]"
   ]
  },
  {
   "cell_type": "code",
   "execution_count": null,
   "metadata": {},
   "outputs": [],
   "source": [
    "G.node['40']"
   ]
  },
  {
   "cell_type": "code",
   "execution_count": null,
   "metadata": {},
   "outputs": [],
   "source": []
  }
 ],
 "metadata": {
  "kernelspec": {
   "display_name": "Python 3",
   "language": "python",
   "name": "python3"
  },
  "language_info": {
   "codemirror_mode": {
    "name": "ipython",
    "version": 3
   },
   "file_extension": ".py",
   "mimetype": "text/x-python",
   "name": "python",
   "nbconvert_exporter": "python",
   "pygments_lexer": "ipython3",
   "version": "3.5.4"
  }
 },
 "nbformat": 4,
 "nbformat_minor": 2
}
