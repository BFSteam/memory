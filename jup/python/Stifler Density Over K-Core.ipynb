{
 "cells": [
  {
   "cell_type": "markdown",
   "metadata": {},
   "source": [
    "Stifler density over k-core"
   ]
  },
  {
   "cell_type": "code",
   "execution_count": 1,
   "metadata": {},
   "outputs": [],
   "source": [
    "import csv\n",
    "\n",
    "import networkx as nx\n",
    "import numpy as np\n",
    "\n",
    "import feather as ft\n",
    "import seaborn as sns; sns.set()\n",
    "from mpl_toolkits.mplot3d import Axes3D\n",
    "import matplotlib.mlab as mlab\n",
    "import matplotlib.pyplot as plt\n",
    "import pandas as pd\n",
    "\n",
    "from collections import Counter\n",
    "from operator import itemgetter\n",
    "from os import listdir\n",
    "from os.path import isfile, isdir, join, exists\n",
    "from sklearn.preprocessing import MinMaxScaler"
   ]
  },
  {
   "cell_type": "code",
   "execution_count": 2,
   "metadata": {},
   "outputs": [],
   "source": [
    "plt.rcParams['figure.figsize'] = [10,5]\n",
    "plt.rcParams['patch.force_edgecolor'] = True\n",
    "plt.rcParams['font.size'] = 18"
   ]
  },
  {
   "cell_type": "code",
   "execution_count": 11,
   "metadata": {},
   "outputs": [
    {
     "data": {
      "text/plain": [
       "['../../log/TestingDTIPwl']"
      ]
     },
     "execution_count": 11,
     "metadata": {},
     "output_type": "execute_result"
    }
   ],
   "source": [
    "mypath = '../../log/'\n",
    "dirs = [join(mypath, f) for f in listdir(mypath) if isdir(join(mypath,f)) and \"DTI\" in f ]\n",
    "#dirs = [join(mypath, f) for f in listdir(mypath) if isdir(join(mypath,f)) and (\"Graph\" in f or \"URV\" in f)]\n",
    "dirs"
   ]
  },
  {
   "cell_type": "markdown",
   "metadata": {},
   "source": [
    "read all files. skip intestation rows, create an array of raw data, [k-core, stifler-density]"
   ]
  },
  {
   "cell_type": "code",
   "execution_count": 12,
   "metadata": {},
   "outputs": [],
   "source": [
    "G = nx.Graph()\n",
    "with open('../../src/datasets/EmailURV/EmailURV.csv', 'r') as file:\n",
    "    reader = csv.reader(file, delimiter=\",\")\n",
    "    for row in reader:\n",
    "        G.add_edge(int(row[0]), int(row[1]))\n",
    "N_AGENTS = len(G.nodes())"
   ]
  },
  {
   "cell_type": "code",
   "execution_count": 18,
   "metadata": {
    "scrolled": false
   },
   "outputs": [
    {
     "name": "stdout",
     "output_type": "stream",
     "text": [
      "[[1, 1, 0.9947089947089947, 0.0, 0.005291005291005291], [10, 37, 0.9955908289241623, 0.0, 0.004409171075837742], [9, 16, 0.9955908289241623, 0.0, 0.004409171075837742], [8, 31, 0.9955908289241623, 0.0, 0.004409171075837742], [1, 1, 0.9947089947089947, 0.0, 0.005291005291005291], [9, 19, 0.9964726631393298, 0.0, 0.003527336860670194], [6, 7, 0.9964726631393298, 0.0, 0.003527336860670194], [8, 29, 0.9955908289241623, 0.0, 0.004409171075837742], [8, 15, 0.9955908289241623, 0.0, 0.004409171075837742], [3, 3, 0.9947089947089947, 0.0, 0.005291005291005291], [4, 4, 0.9964726631393298, 0.0, 0.003527336860670194], [5, 7, 0.9947089947089947, 0.0, 0.005291005291005291], [7, 16, 0.9955908289241623, 0.0, 0.004409171075837742], [7, 10, 0.9964726631393298, 0.0, 0.003527336860670194], [3, 6, 0.9955908289241623, 0.0, 0.004409171075837742], [10, 45, 0.9964726631393298, 0.0, 0.003527336860670194], [2, 3, 0.9955908289241623, 0.0, 0.004409171075837742], [7, 8, 0.9955908289241623, 0.0, 0.004409171075837742], [4, 5, 0.9955908289241623, 0.0, 0.004409171075837742], [6, 8, 0.9964726631393298, 0.0, 0.003527336860670194], [2, 2, 0.9955908289241623, 0.0, 0.004409171075837742], [5, 6, 0.9947089947089947, 0.0, 0.005291005291005291], [5, 9, 0.9955908289241623, 0.0, 0.004409171075837742], [1, 1, 0.9964726631393298, 0.0, 0.003527336860670194], [11, 12, 0.9955908289241623, 0.0, 0.004409171075837742], [6, 7, 0.9955908289241623, 0.0, 0.004409171075837742], [2, 2, 0.9955908289241623, 0.0, 0.004409171075837742], [8, 12, 0.9955908289241623, 0.0, 0.004409171075837742], [3, 3, 0.9955908289241623, 0.0, 0.004409171075837742], [11, 35, 0.9955908289241623, 0.0, 0.004409171075837742], [10, 22, 0.9964726631393298, 0.0, 0.003527336860670194], [5, 7, 0.9955908289241623, 0.0, 0.004409171075837742], [3, 3, 0.9964726631393298, 0.0, 0.003527336860670194], [1, 1, 0.9947089947089947, 0.0, 0.005291005291005291], [2, 2, 0.9955908289241623, 0.0, 0.004409171075837742], [5, 5, 0.9955908289241623, 0.0, 0.004409171075837742], [4, 6, 0.9955908289241623, 0.0, 0.004409171075837742], [3, 4, 0.9955908289241623, 0.0, 0.004409171075837742], [4, 4, 0.9955908289241623, 0.0, 0.004409171075837742], [6, 8, 0.9964726631393298, 0.0, 0.003527336860670194], [4, 4, 0.9955908289241623, 0.0, 0.004409171075837742], [3, 3, 0.9955908289241623, 0.0, 0.004409171075837742], [2, 2, 0.9947089947089947, 0.0, 0.005291005291005291], [1, 1, 0.9955908289241623, 0.0, 0.004409171075837742], [6, 7, 0.9964726631393298, 0.0, 0.003527336860670194], [6, 8, 0.9955908289241623, 0.0, 0.004409171075837742], [9, 12, 0.9955908289241623, 0.0, 0.004409171075837742], [4, 4, 0.9955908289241623, 0.0, 0.004409171075837742], [5, 6, 0.9955908289241623, 0.0, 0.004409171075837742], [2, 2, 0.9964726631393298, 0.0, 0.003527336860670194]]\n"
     ]
    },
    {
     "ename": "ValueError",
     "evalue": "not enough values to unpack (expected 5, got 0)",
     "output_type": "error",
     "traceback": [
      "\u001b[0;31m---------------------------------------------------------------------------\u001b[0m",
      "\u001b[0;31mValueError\u001b[0m                                Traceback (most recent call last)",
      "\u001b[0;32m<ipython-input-18-51513695b4c9>\u001b[0m in \u001b[0;36m<module>\u001b[0;34m\u001b[0m\n\u001b[1;32m     52\u001b[0m     \u001b[0;31m# sort by k-core\u001b[0m\u001b[0;34m\u001b[0m\u001b[0;34m\u001b[0m\u001b[0m\n\u001b[1;32m     53\u001b[0m     \u001b[0mrawdensities\u001b[0m \u001b[0;34m=\u001b[0m \u001b[0mnp\u001b[0m\u001b[0;34m.\u001b[0m\u001b[0marray\u001b[0m\u001b[0;34m(\u001b[0m\u001b[0msorted\u001b[0m\u001b[0;34m(\u001b[0m\u001b[0mrawdensities\u001b[0m\u001b[0;34m,\u001b[0m \u001b[0mkey\u001b[0m\u001b[0;34m=\u001b[0m\u001b[0mitemgetter\u001b[0m\u001b[0;34m(\u001b[0m\u001b[0;36m0\u001b[0m\u001b[0;34m)\u001b[0m\u001b[0;34m)\u001b[0m\u001b[0;34m)\u001b[0m\u001b[0;34m\u001b[0m\u001b[0m\n\u001b[0;32m---> 54\u001b[0;31m     \u001b[0mk\u001b[0m\u001b[0;34m,\u001b[0m \u001b[0md\u001b[0m\u001b[0;34m,\u001b[0m \u001b[0ms\u001b[0m\u001b[0;34m,\u001b[0m \u001b[0mi\u001b[0m\u001b[0;34m,\u001b[0m \u001b[0mr\u001b[0m \u001b[0;34m=\u001b[0m \u001b[0mrawdensities\u001b[0m\u001b[0;34m.\u001b[0m\u001b[0mT\u001b[0m\u001b[0;34m\u001b[0m\u001b[0m\n\u001b[0m\u001b[1;32m     55\u001b[0m     rawdataframe = rawdataframe.append( pd.DataFrame(data={\"k-core\" : k.astype(int), \n\u001b[1;32m     56\u001b[0m                             \u001b[0;34m\"degree\"\u001b[0m \u001b[0;34m:\u001b[0m \u001b[0md\u001b[0m\u001b[0;34m.\u001b[0m\u001b[0mastype\u001b[0m\u001b[0;34m(\u001b[0m\u001b[0mint\u001b[0m\u001b[0;34m)\u001b[0m\u001b[0;34m,\u001b[0m\u001b[0;34m\u001b[0m\u001b[0m\n",
      "\u001b[0;31mValueError\u001b[0m: not enough values to unpack (expected 5, got 0)"
     ]
    }
   ],
   "source": [
    "cleanlist_final = []\n",
    "rawdataframe = pd.DataFrame()\n",
    "time = 200\n",
    "for ddir in dirs:\n",
    "    dff = pd.DataFrame()\n",
    "    kdirs = [f for f in listdir(ddir) if isdir(join(ddir,f))]\n",
    "    kcores = [join(join(ddir, f),'k_core.csv') for f in kdirs]\n",
    "    rawdensities = []\n",
    "    for index, filename in enumerate(kcores):\n",
    "        s_den = 0\n",
    "        i_den = 0\n",
    "        r_den = 0\n",
    "        k_core = 0\n",
    "        degree = 0\n",
    "        number = 0\n",
    "        with open(filename, 'r') as file:\n",
    "            reader = csv.reader(file, delimiter=\",\")\n",
    "            for row in reader:\n",
    "                if len(row) < 5:\n",
    "                    continue\n",
    "                try:\n",
    "                    int(row[0])\n",
    "                except:\n",
    "                    continue\n",
    "                if int(row[0]) == 1 and row[3] == 'i':\n",
    "                    k_core = int(row[2])\n",
    "                    number = int(row[1]) if int(row[1]) != 0 else 1 ### FIX THIS \n",
    "                    ## ERROR ON INDEX 0\n",
    "                if int(row[0]) == time:\n",
    "                    if row[3] == 's':\n",
    "                        s_den += 1\n",
    "                    elif row[3] == 'i':\n",
    "                        i_den += 1\n",
    "                    elif row[3] == 'r':\n",
    "                        r_den += 1\n",
    "                    else:\n",
    "                        print(\"unrecognized option\", row[3])\n",
    "        total = s_den +i_den + r_den\n",
    "        s_den /= total\n",
    "        i_den /= total\n",
    "        r_den /= total\n",
    "        degree = G.degree(number)\n",
    "        rawdensities.append([k_core, degree, s_den, i_den, r_den])\n",
    "    print(rawdensities)\n",
    "\n",
    "    # clean spreading that failed\n",
    "    rawdensities = [el for el in rawdensities if el[2] < 0.99]\n",
    "    rawdensities = np.array(rawdensities)\n",
    "\n",
    "    \n",
    "\n",
    "    # sort by k-core\n",
    "    rawdensities = np.array(sorted(rawdensities, key=itemgetter(0)))\n",
    "    k, d, s, i, r = rawdensities.T\n",
    "    rawdataframe = rawdataframe.append( pd.DataFrame(data={\"k-core\" : k.astype(int), \n",
    "                            \"degree\" : d.astype(int), \n",
    "                            \"val\" : s, \n",
    "                            \"state\" : ['s'] * len(k),\n",
    "                            \"data\": [ddir] * len(k)}) )\n",
    "    rawdataframe = rawdataframe.append( pd.DataFrame(data={\"k-core\" : k.astype(int), \n",
    "                            \"degree\" : d.astype(int), \n",
    "                            \"val\" : i, \n",
    "                            \"state\" : ['i'] * len(k),\n",
    "                            \"data\": [ddir] * len(k)}) )\n",
    "    rawdataframe = rawdataframe.append( pd.DataFrame(data={\"k-core\" : k.astype(int), \n",
    "                            \"degree\" : d.astype(int), \n",
    "                            \"val\" : r, \n",
    "                            \"state\" : ['r'] * len(k),\n",
    "                            \"data\": [ddir] * len(k)}) )\n",
    "    cleanlist = []\n",
    "    s_sublist = []\n",
    "    i_sublist = []\n",
    "    r_sublist = []\n",
    "\n",
    "    for i in range(int(max([el[0] for el in np.sort(rawdensities, axis=0)])) + 1):\n",
    "        if i == 0:\n",
    "            continue\n",
    "        s_sublist = [el[2] for el in rawdensities if int(el[0]) == i ]\n",
    "        i_sublist = [el[3] for el in rawdensities if int(el[0]) == i ]\n",
    "        r_sublist = [el[4] for el in rawdensities if int(el[0]) == i ]\n",
    "\n",
    "        cleanlist.append([\n",
    "            i,\n",
    "            np.mean(s_sublist),\n",
    "            np.std(s_sublist),\n",
    "            np.mean(i_sublist),\n",
    "            np.std(i_sublist),\n",
    "            np.mean(r_sublist),\n",
    "            np.std(r_sublist)\n",
    "        ])\n",
    "        s_sublist = []\n",
    "        i_sublist = []\n",
    "        r_sublist = []\n",
    "\n",
    "    fig1 = plt.figure()\n",
    "    ax2 = fig1.add_subplot(111)\n",
    "\n",
    "    k_m, s_m, s_s, i_m, i_s, r_m, r_s = np.array([el for el in cleanlist if ~np.isnan(el[1])]).T\n",
    "\n",
    "    #ax2.errorbar(k_m, s_m, yerr=s_s, fmt='gs-', label='S = Ignorant')\n",
    "    #ax2.errorbar(k_m, i_m, yerr=i_s, fmt='ro-', label='I = Spreader')\n",
    "    ax2.errorbar(k_m, r_m, yerr=r_s, fmt='b^-', label='R = Stifler')\n",
    "    ax2.set_yscale('log')\n",
    "\n",
    "    print(ddir)\n",
    "    plt.legend(loc='left', fontsize=10)\n",
    "    plt.title(\"Average stifler density over k-core\", fontsize=24)\n",
    "    plt.ylabel(\"$M_{k_s}$\", fontsize=20)\n",
    "    plt.xlabel(\"$k$-core index\", fontsize=20)\n",
    "    plt.savefig(\"stiflerdensityoverkcore\"+ddir[10:]+\".pdf\")\n",
    "    plt.show()\n",
    "    \n",
    "    cleanlist_final.append(cleanlist)\n",
    "\n",
    "    rawdensities = np.array(sorted(rawdensities, key=itemgetter(1)))\n",
    "    rawdensities = np.array(sorted(rawdensities, key=itemgetter(0)))\n",
    "    l = rawdensities.tolist()\n",
    "    li = [ [int(el[0]), int(el[1]), el[2], el[3], el[4]] for el in l ]\n",
    "\n",
    "    \"\"\"\n",
    "    #\n",
    "    # Filter dataframe by state == 'r'\n",
    "    #\n",
    "    dff = rawdataframe.loc[rawdataframe[\"state\"] == 'r']\n",
    "    dff = dff.loc[dff[\"data\"] == ddir]\n",
    "    col1 = 'k-core'\n",
    "    col2 = 'degree'\n",
    "    x = list(dff[col1])\n",
    "    y = list(dff[col2])\n",
    "    xnbins = int(max(x))\n",
    "    ynbins = xnbins\n",
    "    xmax = dff[col1].max()\n",
    "    xmin = dff[col1].min()\n",
    "    ymax = dff[col2].max()\n",
    "    ymin = dff[col2].min()\n",
    "    xbins = np.linspace(xmin, xmax, num=xnbins)\n",
    "    ybins = np.logspace(int(np.log10(ymin)), int(np.log10(ymax)) + 1, num=21, endpoint=True)\n",
    "    #ybins = np.linspace(ymin, ymax, num=ynbins + 10)\n",
    "    #\n",
    "    # Empty dictionary of ranges\n",
    "    #\n",
    "    dict = {}\n",
    "    for i, el in enumerate(xbins):\n",
    "        if i + 1 == len(xbins):\n",
    "            continue\n",
    "        for j, ll in enumerate(ybins):\n",
    "            if j + 1 == len(ybins):\n",
    "                continue\n",
    "            dict[(xbins[i],\n",
    "                  xbins[i+1],\n",
    "                  ybins[j],\n",
    "                  ybins[j+1])] = []\n",
    "    \n",
    "    #\n",
    "    # Fill dict with average of M,ks,k\n",
    "    #\n",
    "    for key in dict:\n",
    "        dict[key] = list(dff.loc[\n",
    "            dff[col1] >= key[0]].loc[\n",
    "            dff[col1] < key[1]].loc[\n",
    "            dff[col2] >= key[2]].loc[\n",
    "            dff[col2] < key[3]]['val'])\n",
    "        if dict[key] == []:\n",
    "            dict[key] = [0]\n",
    "        dict[key] = np.nanmean(dict[key])\n",
    "    #\n",
    "    # Clean dict and use finaldict\n",
    "    #\n",
    "    finaldict = {}\n",
    "    for key in dict:\n",
    "        if key[0] == 0:\n",
    "            continue\n",
    "        if key[2] == 0:\n",
    "            continue\n",
    "        finaldict[(key[0], key[2])] = dict[key]\n",
    "    #\n",
    "    # Put everything in list and create a new dataframe df\n",
    "    # plot the data\n",
    "    #\n",
    "    kk = []\n",
    "    dd = []\n",
    "    rr = []\n",
    "    for key in finaldict:\n",
    "        kk.append(key[0])\n",
    "        dd.append(key[1])\n",
    "        rr.append(finaldict[key])\n",
    "    df = pd.DataFrame(data={'k-core': kk, 'degree': dd, 'stiflers': rr})\n",
    "    asdf = df\n",
    "    minimum = df.iloc[df['stiflers'].nonzero()[0]]['stiflers'].min()\n",
    "    df = df['stiflers'] - minimum\n",
    "    df = df.loc[~(df['stiflers'] > 0), 'stiflers'] = 0\n",
    "    df =df.pivot(\"degree\", \"k-core\", \"stiflers\", ).fillna(0)\n",
    "    df = df.iloc[::-1]\n",
    "    #df = df.applymap(np.exp)\n",
    "    f, ax = plt.subplots()\n",
    "    sns.heatmap(df, linewidths=0, ax=ax, square=True)\n",
    "    plt.show()\n",
    "    \n",
    "    #\n",
    "    # Empty dictionary of ranges\n",
    "    #\n",
    "    dict = {}\n",
    "    for i, el in enumerate(xbins):\n",
    "        if i + 1 == len(xbins):\n",
    "            continue\n",
    "        for j, ll in enumerate(ybins):\n",
    "            if j + 1 == len(ybins):\n",
    "                continue\n",
    "            dict[(xbins[i],\n",
    "                  xbins[i+1],\n",
    "                  ybins[j],\n",
    "                  ybins[j+1])] = 0\n",
    "    #\n",
    "    # Fill dict with counting of M,ks,k\n",
    "    #\n",
    "    for key in dict:\n",
    "        dict[key] = list(dff.loc[\n",
    "            dff[col1] >= key[0]].loc[\n",
    "            dff[col1] < key[1]].loc[\n",
    "            dff[col2] >= key[2]].loc[\n",
    "            dff[col2] < key[3]]['val'])\n",
    "        if dict[key] == []:\n",
    "            dict[key] = []\n",
    "        dict[key] = len(dict[key]) \n",
    "\n",
    "    #\n",
    "    # Clean dict and use the finaldict\n",
    "    #\n",
    "    finaldict = {}\n",
    "    for key in dict:\n",
    "        if key[0] == 0:\n",
    "            continue\n",
    "        if key[2] == 0:\n",
    "            continue\n",
    "        finaldict[(key[0], key[2])] = dict[key]\n",
    "    #\n",
    "    # Put everything in list and create a new dataframe df\n",
    "    # plot the data\n",
    "    #\n",
    "    kk = []\n",
    "    dd = []\n",
    "    rr = []\n",
    "    for key in finaldict:\n",
    "        kk.append(key[0])\n",
    "        dd.append(key[1])\n",
    "        rr.append(finaldict[key])\n",
    "    df = pd.DataFrame(data={'k-core': kk, 'degree': dd, 'stiflers': rr})\n",
    "    df =df.pivot(\"degree\", \"k-core\", \"stiflers\", ).fillna(0)\n",
    "    df = df.iloc[::-1]\n",
    "    #df = df.applymap(np.log)\n",
    "    f, ax = plt.subplots()\n",
    "    sns.heatmap(df, linewidths=0, ax=ax, square=True, )\n",
    "    plt.title(\"Mks over ks and k\")\n",
    "    plt.savefig(\"Mksoverksandk\"+ddir[10:]+\".pdf\")\n",
    "    plt.show()\n",
    "    \"\"\""
   ]
  },
  {
   "cell_type": "markdown",
   "metadata": {},
   "source": [
    "write dataframe to file"
   ]
  },
  {
   "cell_type": "code",
   "execution_count": 27,
   "metadata": {},
   "outputs": [],
   "source": [
    "rawdataframe = rawdataframe.reset_index()\n",
    "rawdataframe.to_feather('../rawdataframe.feather')"
   ]
  },
  {
   "cell_type": "code",
   "execution_count": 28,
   "metadata": {},
   "outputs": [
    {
     "data": {
      "text/html": [
       "<div>\n",
       "<style scoped>\n",
       "    .dataframe tbody tr th:only-of-type {\n",
       "        vertical-align: middle;\n",
       "    }\n",
       "\n",
       "    .dataframe tbody tr th {\n",
       "        vertical-align: top;\n",
       "    }\n",
       "\n",
       "    .dataframe thead th {\n",
       "        text-align: right;\n",
       "    }\n",
       "</style>\n",
       "<table border=\"1\" class=\"dataframe\">\n",
       "  <thead>\n",
       "    <tr style=\"text-align: right;\">\n",
       "      <th></th>\n",
       "      <th>index</th>\n",
       "      <th>k-core</th>\n",
       "      <th>degree</th>\n",
       "      <th>val</th>\n",
       "      <th>state</th>\n",
       "      <th>data</th>\n",
       "    </tr>\n",
       "  </thead>\n",
       "  <tbody>\n",
       "    <tr>\n",
       "      <th>0</th>\n",
       "      <td>0</td>\n",
       "      <td>1</td>\n",
       "      <td>1</td>\n",
       "      <td>0.972663</td>\n",
       "      <td>s</td>\n",
       "      <td>../../log/TestingPowerlaw</td>\n",
       "    </tr>\n",
       "    <tr>\n",
       "      <th>1</th>\n",
       "      <td>1</td>\n",
       "      <td>1</td>\n",
       "      <td>1</td>\n",
       "      <td>0.893298</td>\n",
       "      <td>s</td>\n",
       "      <td>../../log/TestingPowerlaw</td>\n",
       "    </tr>\n",
       "    <tr>\n",
       "      <th>2</th>\n",
       "      <td>2</td>\n",
       "      <td>1</td>\n",
       "      <td>1</td>\n",
       "      <td>0.987654</td>\n",
       "      <td>s</td>\n",
       "      <td>../../log/TestingPowerlaw</td>\n",
       "    </tr>\n",
       "    <tr>\n",
       "      <th>3</th>\n",
       "      <td>3</td>\n",
       "      <td>1</td>\n",
       "      <td>1</td>\n",
       "      <td>0.946208</td>\n",
       "      <td>s</td>\n",
       "      <td>../../log/TestingPowerlaw</td>\n",
       "    </tr>\n",
       "    <tr>\n",
       "      <th>4</th>\n",
       "      <td>0</td>\n",
       "      <td>1</td>\n",
       "      <td>1</td>\n",
       "      <td>0.000000</td>\n",
       "      <td>i</td>\n",
       "      <td>../../log/TestingPowerlaw</td>\n",
       "    </tr>\n",
       "    <tr>\n",
       "      <th>5</th>\n",
       "      <td>1</td>\n",
       "      <td>1</td>\n",
       "      <td>1</td>\n",
       "      <td>0.000000</td>\n",
       "      <td>i</td>\n",
       "      <td>../../log/TestingPowerlaw</td>\n",
       "    </tr>\n",
       "    <tr>\n",
       "      <th>6</th>\n",
       "      <td>2</td>\n",
       "      <td>1</td>\n",
       "      <td>1</td>\n",
       "      <td>0.000000</td>\n",
       "      <td>i</td>\n",
       "      <td>../../log/TestingPowerlaw</td>\n",
       "    </tr>\n",
       "    <tr>\n",
       "      <th>7</th>\n",
       "      <td>3</td>\n",
       "      <td>1</td>\n",
       "      <td>1</td>\n",
       "      <td>0.000000</td>\n",
       "      <td>i</td>\n",
       "      <td>../../log/TestingPowerlaw</td>\n",
       "    </tr>\n",
       "    <tr>\n",
       "      <th>8</th>\n",
       "      <td>0</td>\n",
       "      <td>1</td>\n",
       "      <td>1</td>\n",
       "      <td>0.027337</td>\n",
       "      <td>r</td>\n",
       "      <td>../../log/TestingPowerlaw</td>\n",
       "    </tr>\n",
       "    <tr>\n",
       "      <th>9</th>\n",
       "      <td>1</td>\n",
       "      <td>1</td>\n",
       "      <td>1</td>\n",
       "      <td>0.106702</td>\n",
       "      <td>r</td>\n",
       "      <td>../../log/TestingPowerlaw</td>\n",
       "    </tr>\n",
       "    <tr>\n",
       "      <th>10</th>\n",
       "      <td>2</td>\n",
       "      <td>1</td>\n",
       "      <td>1</td>\n",
       "      <td>0.012346</td>\n",
       "      <td>r</td>\n",
       "      <td>../../log/TestingPowerlaw</td>\n",
       "    </tr>\n",
       "    <tr>\n",
       "      <th>11</th>\n",
       "      <td>3</td>\n",
       "      <td>1</td>\n",
       "      <td>1</td>\n",
       "      <td>0.053792</td>\n",
       "      <td>r</td>\n",
       "      <td>../../log/TestingPowerlaw</td>\n",
       "    </tr>\n",
       "  </tbody>\n",
       "</table>\n",
       "</div>"
      ],
      "text/plain": [
       "    index  k-core  degree       val state                       data\n",
       "0       0       1       1  0.972663     s  ../../log/TestingPowerlaw\n",
       "1       1       1       1  0.893298     s  ../../log/TestingPowerlaw\n",
       "2       2       1       1  0.987654     s  ../../log/TestingPowerlaw\n",
       "3       3       1       1  0.946208     s  ../../log/TestingPowerlaw\n",
       "4       0       1       1  0.000000     i  ../../log/TestingPowerlaw\n",
       "5       1       1       1  0.000000     i  ../../log/TestingPowerlaw\n",
       "6       2       1       1  0.000000     i  ../../log/TestingPowerlaw\n",
       "7       3       1       1  0.000000     i  ../../log/TestingPowerlaw\n",
       "8       0       1       1  0.027337     r  ../../log/TestingPowerlaw\n",
       "9       1       1       1  0.106702     r  ../../log/TestingPowerlaw\n",
       "10      2       1       1  0.012346     r  ../../log/TestingPowerlaw\n",
       "11      3       1       1  0.053792     r  ../../log/TestingPowerlaw"
      ]
     },
     "execution_count": 28,
     "metadata": {},
     "output_type": "execute_result"
    }
   ],
   "source": [
    "rawdataframe"
   ]
  },
  {
   "cell_type": "markdown",
   "metadata": {},
   "source": [
    "Here we group by same kcore and degree and compute the average and standard deviation"
   ]
  },
  {
   "cell_type": "markdown",
   "metadata": {},
   "source": [
    "read dataframe from file"
   ]
  },
  {
   "cell_type": "code",
   "execution_count": 11,
   "metadata": {},
   "outputs": [],
   "source": [
    "averagedataframe = ft.read_dataframe('../rawdataframe.feather')\n",
    "try:\n",
    "    averagedataframe = averagedataframe.drop(columns=['index'])\n",
    "except:\n",
    "    pass"
   ]
  },
  {
   "cell_type": "markdown",
   "metadata": {},
   "source": [
    "scale and bin data"
   ]
  },
  {
   "cell_type": "code",
   "execution_count": 12,
   "metadata": {},
   "outputs": [],
   "source": [
    "def which_bin(data, bins):\n",
    "    try:\n",
    "        return bins[np.digitize(data, bins)]\n",
    "    except:\n",
    "        print(\"except\")\n",
    "        return bins[-1]"
   ]
  },
  {
   "cell_type": "code",
   "execution_count": 13,
   "metadata": {
    "scrolled": true
   },
   "outputs": [
    {
     "data": {
      "text/plain": [
       "array([  1.        ,   1.1721023 ,   1.3738238 ,   1.61026203,\n",
       "         1.88739182,   2.21221629,   2.5929438 ,   3.03919538,\n",
       "         3.56224789,   4.17531894,   4.89390092,   5.73615251,\n",
       "         6.72335754,   7.88046282,   9.23670857,  10.82636734,\n",
       "        12.68961003,  14.87352107,  17.43328822,  20.43359718,\n",
       "        23.9502662 ,  28.07216204,  32.90344562,  38.56620421,\n",
       "        45.20353656,  52.98316906,  62.10169419,  72.78953844,\n",
       "        85.31678524, 100.        ])"
      ]
     },
     "execution_count": 13,
     "metadata": {},
     "output_type": "execute_result"
    }
   ],
   "source": [
    "bins = np.logspace(0,2, 30, endpoint=True)\n",
    "bins"
   ]
  },
  {
   "cell_type": "code",
   "execution_count": 14,
   "metadata": {},
   "outputs": [],
   "source": [
    "scaler = MinMaxScaler()\n",
    "#averagedataframe[['degree']] = scaler.fit_transform(averagedataframe[['degree']])\n",
    "#averagedataframe['degree'] = averagedataframe['degree'].apply(lambda x: x*999)\n",
    "averagedataframe['degree'] = averagedataframe['degree'].apply(lambda x: which_bin(x,bins))\n",
    "#averagedataframe['degree'] = averagedataframe['degree'].apply(lambda x: x + 1)\n",
    "#averagedataframe['degree'] = averagedataframe['degree'].apply(lambda x: np.log10(x) )\n",
    "#averagedataframe['degree'] = averagedataframe['degree'].apply(lambda x: int(x))\n"
   ]
  },
  {
   "cell_type": "markdown",
   "metadata": {},
   "source": [
    "Compute mean and standard deviation"
   ]
  },
  {
   "cell_type": "code",
   "execution_count": 15,
   "metadata": {},
   "outputs": [],
   "source": [
    "count_col = averagedataframe.groupby(['k-core','degree', 'state', 'data'])[['val']].apply(len)\n",
    "mean_col = averagedataframe.groupby(['k-core','degree', 'state', 'data'])[['val']].apply(np.mean)\n",
    "std_col = averagedataframe.groupby(['k-core','degree', 'state', 'data'])[['val']].apply(np.std)\n",
    "\n",
    "averagedataframe = averagedataframe.set_index(['k-core', 'degree', 'state', 'data']) # make the same index here\n",
    "\n",
    "averagedataframe['mean'] = mean_col\n",
    "averagedataframe['std'] = std_col\n",
    "averagedataframe['count'] = count_col\n",
    "\n",
    "averagedataframe = averagedataframe.drop(columns=['val'])\n",
    "try:\n",
    "    averagedataframe = averagedataframe.drop(columns=['index'])\n",
    "except:\n",
    "    pass\n",
    "averagedataframe = averagedataframe.drop_duplicates()\n",
    "averagedataframe = averagedataframe.reset_index() # t"
   ]
  },
  {
   "cell_type": "markdown",
   "metadata": {},
   "source": [
    "Clean and normalize data"
   ]
  },
  {
   "cell_type": "code",
   "execution_count": 16,
   "metadata": {},
   "outputs": [
    {
     "name": "stdout",
     "output_type": "stream",
     "text": [
      "[ 0.7292768959435626 , 0.7720458553791887 ]\n",
      "[ 0.00017048639334996438 , 1.0 ]\n"
     ]
    }
   ],
   "source": [
    "# subtract by minimum NON ZERO\n",
    "df = averagedataframe.loc[averagedataframe['state'] == 'r'].reset_index()\n",
    "minimum = df.iloc[df['mean'].nonzero()[0]]['mean'].min()\n",
    "maximum = df.iloc[df['mean'].nonzero()[0]]['mean'].max()\n",
    "print(\"[\",minimum,\",\", maximum,\"]\")\n",
    "\n",
    "#df['mean'] -= minimum\n",
    "df['mean'] = df['mean'].apply(lambda x: x - minimum * 0.99999)\n",
    "\n",
    "# divide by maximum\n",
    "maximum = df.iloc[df['mean'].nonzero()[0]]['mean'].max()\n",
    "df['mean'] = df['mean'].apply(lambda x: x / maximum)\n",
    "df['std']  = df['std'].apply(lambda x: x / maximum)\n",
    "\n",
    "# remove negatives and NaN\n",
    "df.loc[(df['mean'] < 0) | (df['mean'].isnull()), 'mean'] = 0\n",
    "\n",
    "minimum = df.iloc[df['mean'].nonzero()[0]]['mean'].min()\n",
    "maximum = df.iloc[df['mean'].nonzero()[0]]['mean'].max()\n",
    "\n",
    "#df['count'] = df['count'].apply(lambda x: x/N_AGENTS)\n",
    "print(\"[\",minimum,\",\", maximum,\"]\")\n",
    "try:\n",
    "    df = df.drop(columns=['index'])\n",
    "except:\n",
    "    pass"
   ]
  },
  {
   "cell_type": "markdown",
   "metadata": {},
   "source": [
    "pivot and plot"
   ]
  },
  {
   "cell_type": "code",
   "execution_count": 17,
   "metadata": {},
   "outputs": [
    {
     "data": {
      "image/png": "[encoded data removed]",
      "text/plain": [
       "<Figure size 720x360 with 2 Axes>"
      ]
     },
     "metadata": {
      "needs_background": "light"
     },
     "output_type": "display_data"
    }
   ],
   "source": [
    "from matplotlib.colors import LogNorm, NoNorm, PowerNorm\n",
    "\n",
    "dfpiv =df.pivot(\"degree\", \"k-core\", \"count\", ).fillna(0.)\n",
    "dfpiv = dfpiv.iloc[::-1]\n",
    "#df = df.applymap(np.exp)\n",
    "f, ax = plt.subplots()\n",
    "sns.heatmap(dfpiv,  linewidths=0, annot=False, ax=ax, square=True,\n",
    "           cmap=sns.color_palette(\"cubehelix\", 8)\n",
    "           )\n",
    "plt.show()"
   ]
  },
  {
   "cell_type": "code",
   "execution_count": 18,
   "metadata": {},
   "outputs": [],
   "source": [
    "mybins=np.logspace(0,np.log(100),100)\n"
   ]
  },
  {
   "cell_type": "code",
   "execution_count": 19,
   "metadata": {
    "scrolled": false
   },
   "outputs": [
    {
     "data": {
      "image/png": "[encoded data removed]",
      "text/plain": [
       "<Figure size 432x432 with 3 Axes>"
      ]
     },
     "metadata": {},
     "output_type": "display_data"
    }
   ],
   "source": [
    "data = df.loc[df[\"data\"] == \"../../log/EmailURV\"]\n",
    "with sns.axes_style(\"white\"):\n",
    "    sns.set_style(\"whitegrid\")\n",
    "    g= sns.jointplot(x=\"k-core\", y=\"degree\", data=data, color=\"m\");\n",
    "    ax = g.ax_joint\n",
    "    ax.set_yscale('log')\n",
    "    g.ax_marg_y.set_yscale('log')\n",
    "    plt.title(\"M,ks,k over ks and k\")\n",
    "    plt.savefig(\"Mksoverksandk.pdf\")\n",
    "    \n",
    "data.reset_index().to_feather('data.feather')"
   ]
  },
  {
   "cell_type": "code",
   "execution_count": 16,
   "metadata": {},
   "outputs": [
    {
     "name": "stderr",
     "output_type": "stream",
     "text": [
      "/home/nik/.pyenv/versions/3.6.3/envs/memoryjupyter/lib/python3.6/site-packages/IPython/core/display.py:689: UserWarning:\n",
      "\n",
      "Consider using IPython.display.IFrame instead\n",
      "\n"
     ]
    },
    {
     "data": {
      "text/html": [
       "<iframe id=\"igraph\" scrolling=\"no\" style=\"border:none;\" seamless=\"seamless\" src=\"https://plot.ly/~inknos/30.embed\" height=\"525px\" width=\"100%\"></iframe>"
      ],
      "text/plain": [
       "<plotly.tools.PlotlyDisplay object>"
      ]
     },
     "execution_count": 16,
     "metadata": {},
     "output_type": "execute_result"
    }
   ],
   "source": [
    "ddd = df.loc[df[\"data\"] == \"../../log/EmailURV\"]\n",
    "\n",
    "import plotly.plotly as py\n",
    "import plotly.graph_objs as go\n",
    "\n",
    "import numpy as np\n",
    "\n",
    "x = ddd['k-core']\n",
    "y = ddd['degree']\n",
    "\n",
    "data = [\n",
    "    go.Histogram2d(\n",
    "        x=x,\n",
    "        y=y,\n",
    "        #histnorm=\"probability\",\n",
    "        autobinx=False,\n",
    "        xbins=dict(start=1, end=12, size=2),\n",
    "        autobiny=False,\n",
    "        ybins=dict(start=0, end=60, size=4),\n",
    "    )\n",
    "]\n",
    "py.iplot(data)"
   ]
  },
  {
   "cell_type": "code",
   "execution_count": 30,
   "metadata": {},
   "outputs": [
    {
     "ename": "SyntaxError",
     "evalue": "invalid syntax (<ipython-input-30-cb88c199f2ad>, line 5)",
     "output_type": "error",
     "traceback": [
      "\u001b[0;36m  File \u001b[0;32m\"<ipython-input-30-cb88c199f2ad>\"\u001b[0;36m, line \u001b[0;32m5\u001b[0m\n\u001b[0;31m    k_m, s_m, s_s, i_m, i_s, r_m, r_s = np.array([el el in clean if ~np.isnan(el[1])]).T\u001b[0m\n\u001b[0m                                                      ^\u001b[0m\n\u001b[0;31mSyntaxError\u001b[0m\u001b[0;31m:\u001b[0m invalid syntax\n"
     ]
    }
   ],
   "source": [
    "ffig = plt.figure()\n",
    "ax3 = ffig.add_subplot(111)\n",
    "\n",
    "for clean in cleanlist_final:\n",
    "    k_m, s_m, s_s, i_m, i_s, r_m, r_s = np.array([el el in clean if ~np.isnan(el[1])]).T\n",
    "    ax3.errorbar(k_m, r_m, yerr=r_s, fmt='go-', label='0.01')\n",
    "\n",
    "    plt.legend(loc='upper left')\n",
    "    plt.title(\"Average stifler density over k-core\")\n",
    "    plt.xlabel(\"k-core\")\n",
    "    plt.ylabel(\"stifler density\")\n",
    "\n",
    "    #plt.savefig('/home/nik/Documents/masterthesis/img/pdf/stiflerdensityoverkcore.pdf')"
   ]
  },
  {
   "cell_type": "code",
   "execution_count": 47,
   "metadata": {},
   "outputs": [
    {
     "data": {
      "image/png": "[encoded data removed]",
      "text/plain": [
       "<Figure size 720x360 with 1 Axes>"
      ]
     },
     "metadata": {},
     "output_type": "display_data"
    }
   ],
   "source": [
    "asdf = rawdataframe.loc[rawdataframe['state']=='r']\n",
    "asdf = asdf.loc[asdf['data'] != \"../../log/EmailURV\"]\n",
    "asdf = asdf.loc[asdf['data'] != \"../../log/EmailGraph02\"]\n",
    "import seaborn as sns; sns.set()\n",
    "import matplotlib.pyplot as plt\n",
    "ax = sns.lineplot(x=\"k-core\", y=\"val\", hue=\"data\", style=\"state\",\n",
    "                  markers=True, dashes=False,\n",
    "                  data=asdf)\n",
    "plt.ylabel(\"Average Stifler Density: $M_{k_s}$\", fontsize=20)\n",
    "plt.xlabel(\"$k$-core index\", fontsize=20)\n",
    "plt.title(\"Average stifler density over k-core\", fontsize=24)\n",
    "plt.legend(loc='left', fontsize=10)\n",
    "\n",
    "plt.savefig(\"stiflerdensityoverkcorealpha.pdf\")\n"
   ]
  },
  {
   "cell_type": "code",
   "execution_count": 19,
   "metadata": {
    "scrolled": false
   },
   "outputs": [
    {
     "ename": "ValueError",
     "evalue": "Could not interpret input 'val'",
     "output_type": "error",
     "traceback": [
      "\u001b[0;31m---------------------------------------------------------------------------\u001b[0m",
      "\u001b[0;31mValueError\u001b[0m                                Traceback (most recent call last)",
      "\u001b[0;32m<ipython-input-19-fdf1de439d1f>\u001b[0m in \u001b[0;36m<module>\u001b[0;34m\u001b[0m\n\u001b[1;32m      3\u001b[0m ax = sns.lineplot(x=\"k-core\", y=\"val\", hue=\"state\", style=\"data\",\n\u001b[1;32m      4\u001b[0m                   \u001b[0mmarkers\u001b[0m\u001b[0;34m=\u001b[0m\u001b[0;32mTrue\u001b[0m\u001b[0;34m,\u001b[0m \u001b[0mdashes\u001b[0m\u001b[0;34m=\u001b[0m\u001b[0;32mFalse\u001b[0m\u001b[0;34m,\u001b[0m\u001b[0;34m\u001b[0m\u001b[0m\n\u001b[0;32m----> 5\u001b[0;31m                   data=data)\n\u001b[0m\u001b[1;32m      6\u001b[0m \u001b[0mplt\u001b[0m\u001b[0;34m.\u001b[0m\u001b[0mtitle\u001b[0m\u001b[0;34m(\u001b[0m\u001b[0;34m\"Stifler density over k-core for the Email URV dataset\"\u001b[0m\u001b[0;34m)\u001b[0m\u001b[0;34m\u001b[0m\u001b[0m\n\u001b[1;32m      7\u001b[0m \u001b[0mplt\u001b[0m\u001b[0;34m.\u001b[0m\u001b[0msavefig\u001b[0m\u001b[0;34m(\u001b[0m\u001b[0;34m\"stiflerdensityoverkcoreurv.pdf\"\u001b[0m\u001b[0;34m)\u001b[0m\u001b[0;34m\u001b[0m\u001b[0m\n",
      "\u001b[0;32m~/.pyenv/versions/3.6.3/envs/memoryjupyter/lib/python3.6/site-packages/seaborn/relational.py\u001b[0m in \u001b[0;36mlineplot\u001b[0;34m(x, y, hue, size, style, data, palette, hue_order, hue_norm, sizes, size_order, size_norm, dashes, markers, style_order, units, estimator, ci, n_boot, sort, err_style, err_kws, legend, ax, **kwargs)\u001b[0m\n\u001b[1;32m   1076\u001b[0m         \u001b[0mdashes\u001b[0m\u001b[0;34m=\u001b[0m\u001b[0mdashes\u001b[0m\u001b[0;34m,\u001b[0m \u001b[0mmarkers\u001b[0m\u001b[0;34m=\u001b[0m\u001b[0mmarkers\u001b[0m\u001b[0;34m,\u001b[0m \u001b[0mstyle_order\u001b[0m\u001b[0;34m=\u001b[0m\u001b[0mstyle_order\u001b[0m\u001b[0;34m,\u001b[0m\u001b[0;34m\u001b[0m\u001b[0m\n\u001b[1;32m   1077\u001b[0m         \u001b[0munits\u001b[0m\u001b[0;34m=\u001b[0m\u001b[0munits\u001b[0m\u001b[0;34m,\u001b[0m \u001b[0mestimator\u001b[0m\u001b[0;34m=\u001b[0m\u001b[0mestimator\u001b[0m\u001b[0;34m,\u001b[0m \u001b[0mci\u001b[0m\u001b[0;34m=\u001b[0m\u001b[0mci\u001b[0m\u001b[0;34m,\u001b[0m \u001b[0mn_boot\u001b[0m\u001b[0;34m=\u001b[0m\u001b[0mn_boot\u001b[0m\u001b[0;34m,\u001b[0m\u001b[0;34m\u001b[0m\u001b[0m\n\u001b[0;32m-> 1078\u001b[0;31m         \u001b[0msort\u001b[0m\u001b[0;34m=\u001b[0m\u001b[0msort\u001b[0m\u001b[0;34m,\u001b[0m \u001b[0merr_style\u001b[0m\u001b[0;34m=\u001b[0m\u001b[0merr_style\u001b[0m\u001b[0;34m,\u001b[0m \u001b[0merr_kws\u001b[0m\u001b[0;34m=\u001b[0m\u001b[0merr_kws\u001b[0m\u001b[0;34m,\u001b[0m \u001b[0mlegend\u001b[0m\u001b[0;34m=\u001b[0m\u001b[0mlegend\u001b[0m\u001b[0;34m,\u001b[0m\u001b[0;34m\u001b[0m\u001b[0m\n\u001b[0m\u001b[1;32m   1079\u001b[0m     )\n\u001b[1;32m   1080\u001b[0m \u001b[0;34m\u001b[0m\u001b[0m\n",
      "\u001b[0;32m~/.pyenv/versions/3.6.3/envs/memoryjupyter/lib/python3.6/site-packages/seaborn/relational.py\u001b[0m in \u001b[0;36m__init__\u001b[0;34m(self, x, y, hue, size, style, data, palette, hue_order, hue_norm, sizes, size_order, size_norm, dashes, markers, style_order, units, estimator, ci, n_boot, sort, err_style, err_kws, legend)\u001b[0m\n\u001b[1;32m    661\u001b[0m \u001b[0;34m\u001b[0m\u001b[0m\n\u001b[1;32m    662\u001b[0m         plot_data = self.establish_variables(\n\u001b[0;32m--> 663\u001b[0;31m             \u001b[0mx\u001b[0m\u001b[0;34m,\u001b[0m \u001b[0my\u001b[0m\u001b[0;34m,\u001b[0m \u001b[0mhue\u001b[0m\u001b[0;34m,\u001b[0m \u001b[0msize\u001b[0m\u001b[0;34m,\u001b[0m \u001b[0mstyle\u001b[0m\u001b[0;34m,\u001b[0m \u001b[0munits\u001b[0m\u001b[0;34m,\u001b[0m \u001b[0mdata\u001b[0m\u001b[0;34m\u001b[0m\u001b[0m\n\u001b[0m\u001b[1;32m    664\u001b[0m         )\n\u001b[1;32m    665\u001b[0m \u001b[0;34m\u001b[0m\u001b[0m\n",
      "\u001b[0;32m~/.pyenv/versions/3.6.3/envs/memoryjupyter/lib/python3.6/site-packages/seaborn/relational.py\u001b[0m in \u001b[0;36mestablish_variables\u001b[0;34m(self, x, y, hue, size, style, units, data)\u001b[0m\n\u001b[1;32m    140\u001b[0m                 \u001b[0;32mif\u001b[0m \u001b[0misinstance\u001b[0m\u001b[0;34m(\u001b[0m\u001b[0mvar\u001b[0m\u001b[0;34m,\u001b[0m \u001b[0mstring_types\u001b[0m\u001b[0;34m)\u001b[0m\u001b[0;34m:\u001b[0m\u001b[0;34m\u001b[0m\u001b[0m\n\u001b[1;32m    141\u001b[0m                     \u001b[0merr\u001b[0m \u001b[0;34m=\u001b[0m \u001b[0;34m\"Could not interpret input '{}'\"\u001b[0m\u001b[0;34m.\u001b[0m\u001b[0mformat\u001b[0m\u001b[0;34m(\u001b[0m\u001b[0mvar\u001b[0m\u001b[0;34m)\u001b[0m\u001b[0;34m\u001b[0m\u001b[0m\n\u001b[0;32m--> 142\u001b[0;31m                     \u001b[0;32mraise\u001b[0m \u001b[0mValueError\u001b[0m\u001b[0;34m(\u001b[0m\u001b[0merr\u001b[0m\u001b[0;34m)\u001b[0m\u001b[0;34m\u001b[0m\u001b[0m\n\u001b[0m\u001b[1;32m    143\u001b[0m \u001b[0;34m\u001b[0m\u001b[0m\n\u001b[1;32m    144\u001b[0m             \u001b[0;31m# Extract variable names\u001b[0m\u001b[0;34m\u001b[0m\u001b[0;34m\u001b[0m\u001b[0m\n",
      "\u001b[0;31mValueError\u001b[0m: Could not interpret input 'val'"
     ]
    }
   ],
   "source": [
    "import seaborn as sns; sns.set()\n",
    "import matplotlib.pyplot as plt\n",
    "ax = sns.lineplot(x=\"k-core\", y=\"val\", hue=\"state\", style=\"data\",\n",
    "                  markers=True, dashes=False,\n",
    "                  data=data)\n",
    "plt.title(\"Stifler density over k-core for the Email URV dataset\")\n",
    "plt.savefig(\"stiflerdensityoverkcoreurv.pdf\")"
   ]
  },
  {
   "cell_type": "code",
   "execution_count": null,
   "metadata": {},
   "outputs": [],
   "source": [
    "dff = rawdataframe.loc[rawdataframe[\"state\"] == 'r']\n",
    "xnbins = 11\n",
    "ynbins = 10\n",
    "col1 = 'k-core'\n",
    "col2 = 'degree'\n",
    "x = list(dff[col1])\n",
    "y = list(dff[col2])\n",
    "xmax = dff[col1].max()\n",
    "xmin = dff[col1].min()\n",
    "ymax = dff[col2].max()\n",
    "ymin = dff[col2].min()\n",
    "xbins, xstep = np.linspace(xmin, xmax, num=xnbins, retstep=True)\n",
    "ybins = np.logspace(int(np.log10(ymin)), int(np.log10(ymax)) + 1, num=ynbins, endpoint=True)"
   ]
  },
  {
   "cell_type": "code",
   "execution_count": null,
   "metadata": {},
   "outputs": [],
   "source": [
    "dict = {}\n",
    "for i, el in enumerate(xbins):\n",
    "    if i + 1 == len(xbins):\n",
    "        continue\n",
    "    for j, ll in enumerate(ybins):\n",
    "        if j + 1 == len(ybins):\n",
    "            continue\n",
    "        dict[(xbins[i],\n",
    "              xbins[i+1],\n",
    "              ybins[j],\n",
    "              ybins[j+1])] = []\n",
    "        \n",
    "for key in dict:\n",
    "    dict[key] = list(dff.loc[\n",
    "        dff[col1] >= key[0]].loc[\n",
    "        dff[col1] < key[1]].loc[\n",
    "        dff[col2] >= key[2]].loc[\n",
    "        dff[col2] < key[3]]['val'])\n",
    "    if dict[key] == []:\n",
    "        dict[key] = [0.]\n",
    "    dict[key] = np.nanmean(dict[key])\n",
    "finaldict = {}\n",
    "for key in dict:\n",
    "    if key[0] == 0:\n",
    "        continue\n",
    "    if key[2] == 0:\n",
    "        continue\n",
    "    finaldict[(key[0], key[2])] = dict[key]\n",
    "\n",
    "\n",
    "kk = []\n",
    "dd = []\n",
    "rr = []\n",
    "for key in finaldict:\n",
    "    kk.append(key[0])\n",
    "    dd.append(key[1])\n",
    "    rr.append(finaldict[key])\n",
    "\n",
    "\n",
    "df = pd.DataFrame(data={'k-core': kk, 'degree': dd, 'stiflers': rr})\n",
    "df =df.pivot(\"degree\", \"k-core\", \"stiflers\", ).fillna(0.0001)\n",
    "\n",
    "df = df.iloc[::-1]\n",
    "#df = df.applymap(np.exp)\n",
    "f, ax = plt.subplots()\n",
    "sns.heatmap(df, linewidths=0, ax=ax, square=True)\n",
    "plt.show()"
   ]
  },
  {
   "cell_type": "code",
   "execution_count": null,
   "metadata": {},
   "outputs": [],
   "source": [
    "dict = {}\n",
    "for i, el in enumerate(xbins):\n",
    "    if i + 1 == len(xbins):\n",
    "        continue\n",
    "    for j, ll in enumerate(ybins):\n",
    "        if j + 1 == len(ybins):\n",
    "            continue\n",
    "        dict[(xbins[i],\n",
    "              xbins[i+1],\n",
    "              ybins[j],\n",
    "              ybins[j+1])] = 0\n",
    "        \n",
    "for key in dict:\n",
    "    dict[key] = list(dff.loc[\n",
    "        dff[col1] >= key[0]].loc[\n",
    "        dff[col1] < key[1]].loc[\n",
    "        dff[col2] >= key[2]].loc[\n",
    "        dff[col2] < key[3]]['val'])\n",
    "    if dict[key] == []:\n",
    "        dict[key] = []\n",
    "    dict[key] = len(dict[key])\n",
    "\n",
    "finaldict = {}\n",
    "for key in dict:\n",
    "    if key[0] == 0:\n",
    "        continue\n",
    "    if key[2] == 0:\n",
    "        continue\n",
    "    finaldict[(key[0], key[2])] = dict[key]\n",
    "\n",
    "kk = []\n",
    "dd = []\n",
    "rr = []\n",
    "for key in finaldict:\n",
    "    kk.append(key[0])\n",
    "    dd.append(key[1])\n",
    "    rr.append(finaldict[key])\n",
    "\n",
    "\n",
    "df = pd.DataFrame(data={'k-core': kk, 'degree': dd, 'stiflers': rr})\n",
    "df =df.pivot(\"degree\", \"k-core\", \"stiflers\", ).fillna(0.0001)\n",
    "\n",
    "df = df.iloc[::-1]\n",
    "#df = df.applymap(np.exp)\n",
    "f, ax = plt.subplots()\n",
    "sns.heatmap(df, linewidths=0, ax=ax, square=True)\n",
    "plt.show()"
   ]
  },
  {
   "cell_type": "code",
   "execution_count": null,
   "metadata": {},
   "outputs": [],
   "source": [
    "x, y, sadf,asdf, z, err = df.values.T"
   ]
  },
  {
   "cell_type": "code",
   "execution_count": null,
   "metadata": {},
   "outputs": [],
   "source": [
    "plt.hist2d(x,y, (10, 10), cmap=plt.cm.jet)\n",
    "plt.colorbar()"
   ]
  },
  {
   "cell_type": "code",
   "execution_count": null,
   "metadata": {},
   "outputs": [],
   "source": [
    "import feather as ft"
   ]
  },
  {
   "cell_type": "code",
   "execution_count": null,
   "metadata": {},
   "outputs": [],
   "source": [
    "df.reset_index().to_feather(\"../database.feather\")"
   ]
  },
  {
   "cell_type": "code",
   "execution_count": null,
   "metadata": {},
   "outputs": [],
   "source": [
    "def sinplot(flip=1):\n",
    "    x = np.linspace(0, 14, 100)\n",
    "    for i in range(1, 7):\n",
    "        plt.plot(x, np.sin(x + i * .5) * (7 - i) * flip)\n",
    "        \n",
    "sinplot()"
   ]
  },
  {
   "cell_type": "code",
   "execution_count": null,
   "metadata": {},
   "outputs": [],
   "source": []
  }
 ],
 "metadata": {
  "kernelspec": {
   "display_name": "Python 3",
   "language": "python",
   "name": "python3"
  },
  "language_info": {
   "codemirror_mode": {
    "name": "ipython",
    "version": 3
   },
   "file_extension": ".py",
   "mimetype": "text/x-python",
   "name": "python",
   "nbconvert_exporter": "python",
   "pygments_lexer": "ipython3",
   "version": "3.6.3"
  }
 },
 "nbformat": 4,
 "nbformat_minor": 2
}
