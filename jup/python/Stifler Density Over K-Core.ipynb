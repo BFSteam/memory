{
 "cells": [
  {
   "cell_type": "markdown",
   "metadata": {},
   "source": [
    "Stifler density over k-core"
   ]
  },
  {
   "cell_type": "code",
   "execution_count": 37,
   "metadata": {},
   "outputs": [],
   "source": [
    "import csv\n",
    "\n",
    "import numpy as np\n",
    "import matplotlib.mlab as mlab\n",
    "import matplotlib.pyplot as plt\n",
    "\n",
    "from collections import Counter\n",
    "from operator import itemgetter\n",
    "from os import listdir\n",
    "from os.path import isfile, isdir, join, exists"
   ]
  },
  {
   "cell_type": "code",
   "execution_count": 38,
   "metadata": {},
   "outputs": [],
   "source": [
    "plt.rcParams['figure.figsize'] = [10,5]\n",
    "plt.rcParams['patch.force_edgecolor'] = True"
   ]
  },
  {
   "cell_type": "code",
   "execution_count": 39,
   "metadata": {},
   "outputs": [
    {
     "data": {
      "text/plain": [
       "['../../log/EmailURV2/2019_19_01_17_44_09/k_core.csv',\n",
       " '../../log/EmailURV2/2019_19_01_17_52_04/k_core.csv',\n",
       " '../../log/EmailURV2/2019_19_01_17_41_35/k_core.csv',\n",
       " '../../log/EmailURV2/2019_19_01_17_40_16/k_core.csv',\n",
       " '../../log/EmailURV2/2019_19_01_17_50_41/k_core.csv',\n",
       " '../../log/EmailURV2/2019_19_01_17_34_59/k_core.csv',\n",
       " '../../log/EmailURV2/2019_19_01_17_46_51/k_core.csv',\n",
       " '../../log/EmailURV2/2019_19_01_17_42_54/k_core.csv',\n",
       " '../../log/EmailURV2/2019_19_01_17_48_09/k_core.csv',\n",
       " '../../log/EmailURV2/2019_19_01_17_36_17/k_core.csv',\n",
       " '../../log/EmailURV2/2019_19_01_17_37_37/k_core.csv',\n",
       " '../../log/EmailURV2/2019_19_01_17_45_32/k_core.csv',\n",
       " '../../log/EmailURV2/2019_19_01_17_33_33/k_core.csv',\n",
       " '../../log/EmailURV2/2019_19_01_17_49_25/k_core.csv',\n",
       " '../../log/EmailURV2/2019_19_01_17_38_55/k_core.csv']"
      ]
     },
     "execution_count": 39,
     "metadata": {},
     "output_type": "execute_result"
    }
   ],
   "source": [
    "mypath = '../../log/EmailURV2'\n",
    "dirs = [f for f in listdir(mypath) if isdir(join(mypath,f))]\n",
    "kcores = [join(join(mypath, f),'k_core.csv') for f in dirs]\n",
    "N_AGENTS = 1133\n",
    "kcores"
   ]
  },
  {
   "cell_type": "markdown",
   "metadata": {},
   "source": [
    "read all files. skip intestation rows, create an array of raw data, [k-core, stifler-density]"
   ]
  },
  {
   "cell_type": "code",
   "execution_count": 40,
   "metadata": {},
   "outputs": [],
   "source": [
    "#s_rawdensities = []\n",
    "#i_rawdensities = []\n",
    "#r_rawdensities = []\n",
    "rawdensities = []\n",
    "for index, filename in enumerate(kcores):\n",
    "    s_den = 0\n",
    "    i_den = 0\n",
    "    r_den = 0\n",
    "    k_core = 0\n",
    "    with open(filename, 'r') as file:\n",
    "        reader = csv.reader(file, delimiter=\",\")\n",
    "        for row in reader:\n",
    "            if len(row) < 4:\n",
    "                continue\n",
    "            try:\n",
    "                int(row[0])\n",
    "            except:\n",
    "                continue\n",
    "            if int(row[0]) == 1 and row[3] == 'i':\n",
    "                k_core = int(row[2])\n",
    "            if int(row[0]) != 1:\n",
    "                if row[3] == 's':\n",
    "                    s_den += 1\n",
    "                elif row[3] == 'i':\n",
    "                    i_den += 1\n",
    "                elif row[3] == 'r':\n",
    "                    r_den += 1\n",
    "                else:\n",
    "                    print(\"unrecognized option\", row[3])\n",
    "    total = s_den +i_den + r_den\n",
    "    s_den /= total\n",
    "    i_den /= total\n",
    "    r_den /= total\n",
    "    #s_rawdensities.append([k_core, s_den])\n",
    "    #i_rawdensities.append([k_core, i_den])\n",
    "    #r_rawdensities.append([k_core, r_den])\n",
    "    rawdensities.append([k_core, s_den, i_den, r_den])\n",
    "\n",
    "#s_rawdensities = np.array(s_rawdensities)\n",
    "#i_rawdensities = np.array(i_rawdensities)\n",
    "#r_rawdensities = np.array(r_rawdensities)\n",
    "\n",
    "\n",
    "# clean spreading that failed\n",
    "rawdensities = [el for el in rawdensities if el[1] < 0.99]\n",
    "rawdensities = np.array(rawdensities)\n"
   ]
  },
  {
   "cell_type": "code",
   "execution_count": 41,
   "metadata": {},
   "outputs": [
    {
     "data": {
      "image/png": "[encoded data removed]",
      "text/plain": [
       "<Figure size 720x360 with 1 Axes>"
      ]
     },
     "metadata": {
      "needs_background": "light"
     },
     "output_type": "display_data"
    }
   ],
   "source": [
    "fig = plt.figure()\n",
    "ax1 = fig.add_subplot(111)\n",
    "\n",
    "# sort by k-core\n",
    "#s_rawdensities = np.array(sorted(s_rawdensities, key=itemgetter(0)))\n",
    "#i_rawdensities = np.array(sorted(i_rawdensities, key=itemgetter(0)))\n",
    "#r_rawdensities = np.array(sorted(r_rawdensities, key=itemgetter(0)))\n",
    "rawdensities = np.array(sorted(rawdensities, key=itemgetter(0)))\n",
    "k, s, i, r = rawdensities.T\n",
    "#s_x, s_y = s_rawdensities.T\n",
    "#i_x, i_y = i_rawdensities.T\n",
    "#r_x, r_y = r_rawdensities.T\n",
    "\n",
    "#s_x, s_y = (list(x) for x in zip(*sorted(zip(s_x, s_y), key=lambda pair: pair[0])))\n",
    "#i_x, i_y = (list(x) for x in zip(*sorted(zip(i_x, i_y), key=lambda pair: pair[0])))\n",
    "#r_x, r_y = (list(x) for x in zip(*sorted(zip(r_x, r_y), key=lambda pair: pair[0])))\n",
    "\n",
    "ax1.plot(k, s, 'sg-', label='S')\n",
    "ax1.plot(k, i, 'or-', label='I')\n",
    "ax1.plot(k, r, '^b-', label='R')\n",
    "\n",
    "plt.legend(loc='upper left')\n",
    "plt.title(\"stifler density over k-core: raw data\")\n",
    "plt.ylabel(\"stifler density\")\n",
    "plt.xlabel(\"k-core\")\n",
    "plt.show()"
   ]
  },
  {
   "cell_type": "code",
   "execution_count": 42,
   "metadata": {},
   "outputs": [
    {
     "data": {
      "text/plain": [
       "Text(0.5, 0, 'k-core')"
      ]
     },
     "execution_count": 42,
     "metadata": {},
     "output_type": "execute_result"
    },
    {
     "data": {
      "image/png": "[encoded data removed]",
      "text/plain": [
       "<Figure size 720x360 with 1 Axes>"
      ]
     },
     "metadata": {
      "needs_background": "light"
     },
     "output_type": "display_data"
    }
   ],
   "source": [
    "cleanlist = []\n",
    "s_sublist = []\n",
    "i_sublist = []\n",
    "r_sublist = []\n",
    "\n",
    "for i in range(int(max([el[0] for el in np.sort(rawdensities, axis=0)])) + 1):\n",
    "    s_sublist = [el[1] for el in rawdensities if int(el[0]) == i ]\n",
    "    i_sublist = [el[2] for el in rawdensities if int(el[0]) == i ]\n",
    "    r_sublist = [el[3] for el in rawdensities if int(el[0]) == i ]\n",
    "    cleanlist.append([\n",
    "        i,\n",
    "        np.mean(s_sublist),\n",
    "        np.std(s_sublist),\n",
    "        np.mean(i_sublist),\n",
    "        np.std(i_sublist),\n",
    "        np.mean(r_sublist),\n",
    "        np.std(r_sublist)\n",
    "    ])\n",
    "    s_sublist = []\n",
    "    i_sublist = []\n",
    "    r_sublist = []\n",
    "\n",
    "fig = plt.figure()\n",
    "ax2 = fig.add_subplot(111)\n",
    "\n",
    "k_m, s_m, s_s, i_m, i_s, r_m, r_s = np.array([el for el in cleanlist if ~np.isnan(el[1])]).T\n",
    "\n",
    "ax2.errorbar(k_m, s_m, yerr=s_s, fmt='gs-', label='S')\n",
    "ax2.errorbar(k_m, i_m, yerr=i_s, fmt='ro-', label='I')\n",
    "ax2.errorbar(k_m, r_m, yerr=r_s, fmt='b^-', label='R')\n",
    "\n",
    "plt.legend(loc='upper left')\n",
    "plt.title(\"stifler density over k-core: average and std\")\n",
    "plt.ylabel(\"stifler density\")\n",
    "plt.xlabel(\"k-core\")"
   ]
  },
  {
   "cell_type": "code",
   "execution_count": null,
   "metadata": {},
   "outputs": [],
   "source": []
  },
  {
   "cell_type": "code",
   "execution_count": null,
   "metadata": {},
   "outputs": [],
   "source": []
  }
 ],
 "metadata": {
  "kernelspec": {
   "display_name": "Python 3",
   "language": "python",
   "name": "python3"
  },
  "language_info": {
   "codemirror_mode": {
    "name": "ipython",
    "version": 3
   },
   "file_extension": ".py",
   "mimetype": "text/x-python",
   "name": "python",
   "nbconvert_exporter": "python",
   "pygments_lexer": "ipython3",
   "version": "3.6.3"
  }
 },
 "nbformat": 4,
 "nbformat_minor": 2
}
