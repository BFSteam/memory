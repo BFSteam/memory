{
 "cells": [
  {
   "cell_type": "markdown",
   "metadata": {},
   "source": [
    "Stifler density over k-core"
   ]
  },
  {
   "cell_type": "code",
   "execution_count": 153,
   "metadata": {},
   "outputs": [],
   "source": [
    "import csv\n",
    "\n",
    "import numpy as np\n",
    "import matplotlib.pyplot as plt\n",
    "\n",
    "from os import listdir\n",
    "from os.path import isfile, isdir, join, exists"
   ]
  },
  {
   "cell_type": "code",
   "execution_count": 154,
   "metadata": {},
   "outputs": [
    {
     "data": {
      "text/plain": [
       "['../../log/EmailEUCore/2019_10_01_17_49_26/k_core.csv',\n",
       " '../../log/EmailEUCore/2019_10_01_18_08_15/k_core.csv',\n",
       " '../../log/EmailEUCore/2019_10_01_17_50_13/k_core.csv',\n",
       " '../../log/EmailEUCore/2019_10_01_18_13_14/k_core.csv',\n",
       " '../../log/EmailEUCore/2019_10_01_18_09_18/k_core.csv',\n",
       " '../../log/EmailEUCore/2019_10_01_17_53_10/k_core.csv',\n",
       " '../../log/EmailEUCore/2019_10_01_17_49_48/k_core.csv',\n",
       " '../../log/EmailEUCore/2019_10_01_18_10_23/k_core.csv',\n",
       " '../../log/EmailEUCore/2019_10_01_17_51_36/k_core.csv',\n",
       " '../../log/EmailEUCore/2019_10_01_18_04_54/k_core.csv',\n",
       " '../../log/EmailEUCore/2019_10_01_18_12_53/k_core.csv',\n",
       " '../../log/EmailEUCore/2019_10_01_17_52_22/k_core.csv',\n",
       " '../../log/EmailEUCore/2019_10_01_18_12_31/k_core.csv',\n",
       " '../../log/EmailEUCore/2019_10_01_17_48_11/k_core.csv',\n",
       " '../../log/EmailEUCore/2019_10_01_18_08_58/k_core.csv',\n",
       " '../../log/EmailEUCore/2019_10_01_18_12_09/k_core.csv',\n",
       " '../../log/EmailEUCore/2019_10_01_17_40_46/k_core.csv',\n",
       " '../../log/EmailEUCore/2019_10_01_18_03_22/k_core.csv',\n",
       " '../../log/EmailEUCore/2019_10_01_17_50_33/k_core.csv',\n",
       " '../../log/EmailEUCore/2019_10_01_18_10_43/k_core.csv',\n",
       " '../../log/EmailEUCore/2019_10_01_18_11_25/k_core.csv',\n",
       " '../../log/EmailEUCore/2019_10_01_17_47_44/k_core.csv',\n",
       " '../../log/EmailEUCore/2019_10_01_18_05_18/k_core.csv',\n",
       " '../../log/EmailEUCore/2019_10_01_17_51_00/k_core.csv',\n",
       " '../../log/EmailEUCore/2019_10_01_18_07_56/k_core.csv',\n",
       " '../../log/EmailEUCore/2019_10_01_17_53_56/k_core.csv',\n",
       " '../../log/EmailEUCore/2019_10_01_18_11_03/k_core.csv',\n",
       " '../../log/EmailEUCore/2019_10_01_18_04_31/k_core.csv',\n",
       " '../../log/EmailEUCore/2019_10_01_17_48_36/k_core.csv',\n",
       " '../../log/EmailEUCore/2019_10_01_17_51_59/k_core.csv',\n",
       " '../../log/EmailEUCore/2019_10_01_18_10_01/k_core.csv',\n",
       " '../../log/EmailEUCore/2019_10_01_17_47_22/k_core.csv',\n",
       " '../../log/EmailEUCore/2019_10_01_17_52_45/k_core.csv',\n",
       " '../../log/EmailEUCore/2019_10_01_18_02_19/k_core.csv',\n",
       " '../../log/EmailEUCore/2019_10_01_18_11_45/k_core.csv',\n",
       " '../../log/EmailEUCore/2019_10_01_18_08_37/k_core.csv',\n",
       " '../../log/EmailEUCore/2019_10_01_18_05_50/k_core.csv',\n",
       " '../../log/EmailEUCore/2019_10_01_18_07_38/k_core.csv',\n",
       " '../../log/EmailEUCore/2019_10_01_18_09_41/k_core.csv',\n",
       " '../../log/EmailEUCore/2019_10_01_17_48_56/k_core.csv',\n",
       " '../../log/EmailEUCore/2019_10_01_18_06_58/k_core.csv',\n",
       " '../../log/EmailEUCore/2019_10_01_17_53_32/k_core.csv']"
      ]
     },
     "execution_count": 154,
     "metadata": {},
     "output_type": "execute_result"
    }
   ],
   "source": [
    "mypath = '../../log/EmailEUCore'\n",
    "dirs = [f for f in listdir(mypath) if isdir(join(mypath,f))]\n",
    "kcores = [join(join(mypath, f),'k_core.csv') for f in dirs]\n",
    "rawdensities = []\n",
    "N_AGENTS = 77\n",
    "kcores"
   ]
  },
  {
   "cell_type": "code",
   "execution_count": 155,
   "metadata": {},
   "outputs": [
    {
     "data": {
      "text/plain": [
       "<ErrorbarContainer object of 3 artists>"
      ]
     },
     "execution_count": 155,
     "metadata": {},
     "output_type": "execute_result"
    },
    {
     "data": {
      "image/png": "[encoded data removed]",
      "text/plain": [
       "<Figure size 432x288 with 1 Axes>"
      ]
     },
     "metadata": {
      "needs_background": "light"
     },
     "output_type": "display_data"
    },
    {
     "data": {
      "image/png": "[encoded data removed]",
      "text/plain": [
       "<Figure size 432x288 with 1 Axes>"
      ]
     },
     "metadata": {
      "needs_background": "light"
     },
     "output_type": "display_data"
    }
   ],
   "source": [
    "for index, filename in enumerate(kcores):\n",
    "    s_den = 0\n",
    "    i_den = 0\n",
    "    r_den = 0\n",
    "    k_core = 0\n",
    "    with open(filename, 'r') as file:\n",
    "        reader = csv.reader(file, delimiter=\",\")\n",
    "        for row in reader:\n",
    "            if len(row) < 4:\n",
    "                continue\n",
    "            try:\n",
    "                int(row[0])\n",
    "            except:\n",
    "                continue\n",
    "            if int(row[0]) == 1 and row[3] == 'i':\n",
    "                k_core = int(row[2])\n",
    "            if row[3] == 's':\n",
    "                s_den += 1\n",
    "    s_den /= N_AGENTS\n",
    "    rawdensities.append([k_core, s_den]) \n",
    "rawdensities = np.array(rawdensities)\n",
    "x,y = rawdensities.T\n",
    "plt.scatter(x,y)\n",
    "\n",
    "cleanlist = []\n",
    "for i in range(int(max([el[0] for el in np.sort(rawdensities, axis=0)])) + 1):\n",
    "    sublist = [el[1] for el in rawdensities if int(el[0]) == i ]\n",
    "    cleanlist.append([i,\n",
    "        np.mean(sublist),\n",
    "        np.std(sublist)]\n",
    "    )\n",
    "    sublist = []\n",
    "x,y,e = np.array([el for el in cleanlist if ~np.isnan(el[1])]).T\n",
    "plt.figure()\n",
    "plt.errorbar(x,y, yerr=e, fmt='o')"
   ]
  },
  {
   "cell_type": "code",
   "execution_count": 156,
   "metadata": {},
   "outputs": [
    {
     "data": {
      "text/plain": [
       "['../../log/EmailEUCore/2019_10_01_17_49_26/k_core.csv',\n",
       " '../../log/EmailEUCore/2019_10_01_18_08_15/k_core.csv',\n",
       " '../../log/EmailEUCore/2019_10_01_17_50_13/k_core.csv',\n",
       " '../../log/EmailEUCore/2019_10_01_18_13_14/k_core.csv',\n",
       " '../../log/EmailEUCore/2019_10_01_18_09_18/k_core.csv',\n",
       " '../../log/EmailEUCore/2019_10_01_17_53_10/k_core.csv',\n",
       " '../../log/EmailEUCore/2019_10_01_17_49_48/k_core.csv',\n",
       " '../../log/EmailEUCore/2019_10_01_18_10_23/k_core.csv',\n",
       " '../../log/EmailEUCore/2019_10_01_17_51_36/k_core.csv',\n",
       " '../../log/EmailEUCore/2019_10_01_18_04_54/k_core.csv',\n",
       " '../../log/EmailEUCore/2019_10_01_18_12_53/k_core.csv',\n",
       " '../../log/EmailEUCore/2019_10_01_17_52_22/k_core.csv',\n",
       " '../../log/EmailEUCore/2019_10_01_18_12_31/k_core.csv',\n",
       " '../../log/EmailEUCore/2019_10_01_17_48_11/k_core.csv',\n",
       " '../../log/EmailEUCore/2019_10_01_18_08_58/k_core.csv',\n",
       " '../../log/EmailEUCore/2019_10_01_18_12_09/k_core.csv',\n",
       " '../../log/EmailEUCore/2019_10_01_17_40_46/k_core.csv',\n",
       " '../../log/EmailEUCore/2019_10_01_18_03_22/k_core.csv',\n",
       " '../../log/EmailEUCore/2019_10_01_17_50_33/k_core.csv',\n",
       " '../../log/EmailEUCore/2019_10_01_18_10_43/k_core.csv',\n",
       " '../../log/EmailEUCore/2019_10_01_18_11_25/k_core.csv',\n",
       " '../../log/EmailEUCore/2019_10_01_17_47_44/k_core.csv',\n",
       " '../../log/EmailEUCore/2019_10_01_18_05_18/k_core.csv',\n",
       " '../../log/EmailEUCore/2019_10_01_17_51_00/k_core.csv',\n",
       " '../../log/EmailEUCore/2019_10_01_18_07_56/k_core.csv',\n",
       " '../../log/EmailEUCore/2019_10_01_17_53_56/k_core.csv',\n",
       " '../../log/EmailEUCore/2019_10_01_18_11_03/k_core.csv',\n",
       " '../../log/EmailEUCore/2019_10_01_18_04_31/k_core.csv',\n",
       " '../../log/EmailEUCore/2019_10_01_17_48_36/k_core.csv',\n",
       " '../../log/EmailEUCore/2019_10_01_17_51_59/k_core.csv',\n",
       " '../../log/EmailEUCore/2019_10_01_18_10_01/k_core.csv',\n",
       " '../../log/EmailEUCore/2019_10_01_17_47_22/k_core.csv',\n",
       " '../../log/EmailEUCore/2019_10_01_17_52_45/k_core.csv',\n",
       " '../../log/EmailEUCore/2019_10_01_18_02_19/k_core.csv',\n",
       " '../../log/EmailEUCore/2019_10_01_18_11_45/k_core.csv',\n",
       " '../../log/EmailEUCore/2019_10_01_18_08_37/k_core.csv',\n",
       " '../../log/EmailEUCore/2019_10_01_18_05_50/k_core.csv',\n",
       " '../../log/EmailEUCore/2019_10_01_18_07_38/k_core.csv',\n",
       " '../../log/EmailEUCore/2019_10_01_18_09_41/k_core.csv',\n",
       " '../../log/EmailEUCore/2019_10_01_17_48_56/k_core.csv',\n",
       " '../../log/EmailEUCore/2019_10_01_18_06_58/k_core.csv',\n",
       " '../../log/EmailEUCore/2019_10_01_17_53_32/k_core.csv']"
      ]
     },
     "execution_count": 156,
     "metadata": {},
     "output_type": "execute_result"
    }
   ],
   "source": [
    "kcores"
   ]
  },
  {
   "cell_type": "code",
   "execution_count": 31,
   "metadata": {},
   "outputs": [
    {
     "data": {
      "text/plain": [
       "{'9': [0, 0, 0],\n",
       " '3': [0, 0, 0],\n",
       " '7': [0, 0, 0],\n",
       " '6': [0, 0, 0],\n",
       " '1': [0, 0, 0],\n",
       " '8': [0, 0, 0],\n",
       " '2': [0, 0, 0]}"
      ]
     },
     "execution_count": 31,
     "metadata": {},
     "output_type": "execute_result"
    }
   ],
   "source": [
    "kcoredict"
   ]
  },
  {
   "cell_type": "code",
   "execution_count": null,
   "metadata": {},
   "outputs": [],
   "source": []
  }
 ],
 "metadata": {
  "kernelspec": {
   "display_name": "Python 3",
   "language": "python",
   "name": "python3"
  },
  "language_info": {
   "codemirror_mode": {
    "name": "ipython",
    "version": 3
   },
   "file_extension": ".py",
   "mimetype": "text/x-python",
   "name": "python",
   "nbconvert_exporter": "python",
   "pygments_lexer": "ipython3",
   "version": "3.6.3"
  }
 },
 "nbformat": 4,
 "nbformat_minor": 2
}
