{
 "cells": [
  {
   "cell_type": "markdown",
   "metadata": {},
   "source": [
    "### Plot the activation and deactivation time intervals of the agents"
   ]
  },
  {
   "cell_type": "code",
   "execution_count": 17,
   "metadata": {},
   "outputs": [],
   "source": [
    "import csv\n",
    "from collections import Counter\n",
    "\n",
    "import numpy as np\n",
    "import matplotlib.mlab as mlab\n",
    "import matplotlib.pyplot as plt\n",
    "\n",
    "from os import listdir\n",
    "from os.path import isfile, isdir, join, exists"
   ]
  },
  {
   "cell_type": "code",
   "execution_count": 18,
   "metadata": {},
   "outputs": [
    {
     "data": {
      "text/plain": [
       "['../../log/TestingPowerlaw']"
      ]
     },
     "execution_count": 18,
     "metadata": {},
     "output_type": "execute_result"
    }
   ],
   "source": [
    "mypath = '../../log/'\n",
    "dirs = [join(mypath, f) for f in listdir(mypath) if isdir(join(mypath,f)) and \"Powerlaw\" in f ]\n",
    "#dirs = [join(mypath, f) for f in listdir(mypath) if isdir(join(mypath,f)) and (\"Graph\" in f or \"URV\" in f)]\n",
    "dirs"
   ]
  },
  {
   "cell_type": "code",
   "execution_count": 19,
   "metadata": {},
   "outputs": [
    {
     "data": {
      "text/plain": [
       "['../../log/TestingPowerlaw/2019_18_02_17_08_38/activationLog.csv',\n",
       " '../../log/TestingPowerlaw/2019_18_02_17_11_08/activationLog.csv',\n",
       " '../../log/TestingPowerlaw/2019_18_02_17_09_59/activationLog.csv',\n",
       " '../../log/TestingPowerlaw/2019_18_02_17_06_09/activationLog.csv',\n",
       " '../../log/TestingPowerlaw/2019_18_02_17_07_15/activationLog.csv',\n",
       " '../../log/TestingPowerlaw/2019_18_02_17_08_58/activationLog.csv',\n",
       " '../../log/TestingPowerlaw/2019_18_02_17_06_34/activationLog.csv',\n",
       " '../../log/TestingPowerlaw/2019_18_02_17_10_18/activationLog.csv',\n",
       " '../../log/TestingPowerlaw/2019_18_02_17_11_15/activationLog.csv',\n",
       " '../../log/TestingPowerlaw/2019_18_02_17_10_56/activationLog.csv',\n",
       " '../../log/TestingPowerlaw/2019_18_02_17_06_54/activationLog.csv',\n",
       " '../../log/TestingPowerlaw/2019_18_02_17_07_57/activationLog.csv',\n",
       " '../../log/TestingPowerlaw/2019_18_02_17_08_18/activationLog.csv',\n",
       " '../../log/TestingPowerlaw/2019_18_02_17_10_37/activationLog.csv',\n",
       " '../../log/TestingPowerlaw/2019_18_02_17_09_19/activationLog.csv',\n",
       " '../../log/TestingPowerlaw/2019_18_02_17_07_36/activationLog.csv',\n",
       " '../../log/TestingPowerlaw/2019_18_02_17_09_39/activationLog.csv']"
      ]
     },
     "execution_count": 19,
     "metadata": {},
     "output_type": "execute_result"
    }
   ],
   "source": [
    "datapath = dirs[0]\n",
    "data = [join(datapath,f,'activationLog.csv') for f in listdir(datapath) if isfile(join(datapath, f, 'activationLog.csv'))]\n",
    "data"
   ]
  },
  {
   "cell_type": "code",
   "execution_count": 23,
   "metadata": {},
   "outputs": [],
   "source": [
    "list_of_tup = []\n",
    "with open(data[10], 'r') as csvfile:\n",
    "    spamreader = csv.reader(csvfile, delimiter=',')\n",
    "    for row in spamreader:\n",
    "        if '#' in row[0]: continue\n",
    "        if 'agent' in row: continue\n",
    "        list_of_tup.append((int(row[0]), int(row[1]), row[2], int(row[3])))\n",
    "listup = [e[3] for e in [element for element in list_of_tup if element[2] == 'u']]\n",
    "listdown = [e[3] for e in [element for element in list_of_tup if element[2] == 'd']]"
   ]
  },
  {
   "cell_type": "code",
   "execution_count": 24,
   "metadata": {},
   "outputs": [
    {
     "data": {
      "image/png": "[encoded data removed]",
      "text/plain": [
       "<Figure size 432x288 with 1 Axes>"
      ]
     },
     "metadata": {
      "needs_background": "light"
     },
     "output_type": "display_data"
    }
   ],
   "source": [
    "x = listup\n",
    "num_bins = 1 + max(x)\n",
    "n, bins, patches = plt.hist(x, num_bins, facecolor='blue', alpha=0.5)\n",
    "plt.show()"
   ]
  },
  {
   "cell_type": "code",
   "execution_count": 25,
   "metadata": {},
   "outputs": [
    {
     "data": {
      "image/png": "[encoded data removed]",
      "text/plain": [
       "<Figure size 432x288 with 1 Axes>"
      ]
     },
     "metadata": {
      "needs_background": "light"
     },
     "output_type": "display_data"
    }
   ],
   "source": [
    "x = listdown\n",
    "num_bins = 1 + max(x)\n",
    "n, bins, patches = plt.hist(x, num_bins, facecolor='blue', alpha=0.5)\n",
    "plt.show()"
   ]
  },
  {
   "cell_type": "code",
   "execution_count": null,
   "metadata": {},
   "outputs": [],
   "source": []
  }
 ],
 "metadata": {
  "kernelspec": {
   "display_name": "Python 3",
   "language": "python",
   "name": "python3"
  },
  "language_info": {
   "codemirror_mode": {
    "name": "ipython",
    "version": 3
   },
   "file_extension": ".py",
   "mimetype": "text/x-python",
   "name": "python",
   "nbconvert_exporter": "python",
   "pygments_lexer": "ipython3",
   "version": "3.6.3"
  }
 },
 "nbformat": 4,
 "nbformat_minor": 2
}
