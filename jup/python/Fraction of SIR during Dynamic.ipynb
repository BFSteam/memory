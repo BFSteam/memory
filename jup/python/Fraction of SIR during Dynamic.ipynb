{
 "cells": [
  {
   "cell_type": "markdown",
   "metadata": {},
   "source": [
    "### Plot the fraction of SIR during the dynamic"
   ]
  },
  {
   "cell_type": "code",
   "execution_count": 38,
   "metadata": {},
   "outputs": [],
   "source": [
    "import csv\n",
    "import configparser\n",
    "import numpy\n",
    "\n",
    "import matplotlib.pyplot as plt\n",
    "import networkx as nx\n",
    "\n",
    "from operator import itemgetter\n",
    "from os import listdir\n",
    "from os.path import isfile, isdir, join, exists"
   ]
  },
  {
   "cell_type": "code",
   "execution_count": 39,
   "metadata": {},
   "outputs": [],
   "source": [
    "plt.rcParams['figure.figsize'] = [10,5]"
   ]
  },
  {
   "cell_type": "code",
   "execution_count": 40,
   "metadata": {},
   "outputs": [],
   "source": [
    "EmailURV = '../../src/datasets/EmailURV/EmailURV.csv'\n",
    "Emailcontacts = '../../src/datasets/Emailcontacts/Emailcontacts.csv'\n",
    "\n",
    "G = nx.Graph()\n",
    "with open(EmailURV, 'r') as file:\n",
    "    reader = csv.reader(file, delimiter=\",\")\n",
    "    for row in reader:\n",
    "        G.add_edge(int(row[0]), int(row[1]))\n",
    "N_AGENTS = len(G.nodes())\n",
    "N_USERS = N_AGENTS"
   ]
  },
  {
   "cell_type": "code",
   "execution_count": 41,
   "metadata": {},
   "outputs": [],
   "source": [
    "time = 200"
   ]
  },
  {
   "cell_type": "code",
   "execution_count": 42,
   "metadata": {
    "scrolled": true
   },
   "outputs": [
    {
     "data": {
      "text/plain": [
       "['../../log/URV-truncated/2019_05_03_18_24_30/memoryLog.csv']"
      ]
     },
     "execution_count": 42,
     "metadata": {},
     "output_type": "execute_result"
    }
   ],
   "source": [
    "mypath = '../../log/URV-truncated/'\n",
    "dirs = [f for f in listdir(mypath) if isdir(join(mypath, f))]\n",
    "memlogs = [join(join(mypath, f), 'memoryLog.csv') for f in dirs]\n",
    "memlogs"
   ]
  },
  {
   "cell_type": "markdown",
   "metadata": {},
   "source": [
    "### Compute and plot the fraction of S, I, R during the dynamics"
   ]
  },
  {
   "cell_type": "code",
   "execution_count": 43,
   "metadata": {},
   "outputs": [
    {
     "data": {
      "image/png": "[encoded data removed]",
      "text/plain": [
       "<Figure size 720x360 with 1 Axes>"
      ]
     },
     "metadata": {
      "needs_background": "light"
     },
     "output_type": "display_data"
    }
   ],
   "source": [
    "counter = 0\n",
    "timelist = []\n",
    "\n",
    "for file in memlogs:\n",
    "    time_SIR_frac = [[0,0,0]]*(time + 1)\n",
    "    time_SIR_frac = numpy.array(time_SIR_frac)\n",
    "    SIR_dict = {'s' : 0, 'i':1, 'r': 2}\n",
    "\n",
    "    with open(file, 'r') as csvfile:\n",
    "        spamreader = csv.reader(csvfile, delimiter=',')\n",
    "        for row in spamreader:\n",
    "            if '#' in row[0]: continue\n",
    "            if 'agent' in row: continue\n",
    "            try:\n",
    "                time_SIR_frac[int(float(row[1]))][SIR_dict[row[3]]] +=1\n",
    "            except IndexError as e:\n",
    "                print(e)\n",
    "                print(row)\n",
    "                break\n",
    "\n",
    "        #list_of_tup.append((int(row[0]), int(row[1]), row[2], int(row[3])))\n",
    "        #listup = [e[3] for e in [element for element in list_of_tup if element[2] == 'u']]\n",
    "        #listdown = [e[3] for e in [element for element in list_of_tup if element[2] == 'd']]\n",
    "\n",
    "        x = time_SIR_frac[1:] / N_USERS \n",
    "        t = range(time)\n",
    "        try:\n",
    "            timelist.append( numpy.min(\n",
    "                numpy.where(\n",
    "                    numpy.array([e[1] for e in x]) == 0.\n",
    "                )[0]\n",
    "            ))\n",
    "        except:\n",
    "            pass\n",
    "        \n",
    "        #if all(i >= 0.99 for i in [e[0] for e in x]) :\n",
    "        #    counter += 1\n",
    "        #    print(\"lost graphs:\", counter/len(memlogs), \"%\")\n",
    "        #    continue\n",
    "        #plt.figure()\n",
    "        #plt.plot(t, [e[0] for e in x], 'g--', alpha=0.2) # S\n",
    "        plt.plot(t, [e[1] for e in x], 'r-', alpha=0.2) # I\n",
    "        plt.plot(t, [e[2] for e in x], 'b.', alpha=0.2) # R\n",
    "        plt.show"
   ]
  },
  {
   "cell_type": "markdown",
   "metadata": {},
   "source": [
    "### Distribution of the time at which all nodes are S or R"
   ]
  },
  {
   "cell_type": "code",
   "execution_count": 28,
   "metadata": {
    "scrolled": false
   },
   "outputs": [
    {
     "data": {
      "image/png": "[encoded data removed]",
      "text/plain": [
       "<Figure size 720x360 with 1 Axes>"
      ]
     },
     "metadata": {
      "needs_background": "light"
     },
     "output_type": "display_data"
    },
    {
     "ename": "ValueError",
     "evalue": "min() arg is an empty sequence",
     "output_type": "error",
     "traceback": [
      "\u001b[0;31m---------------------------------------------------------------------------\u001b[0m",
      "\u001b[0;31mValueError\u001b[0m                                Traceback (most recent call last)",
      "\u001b[0;32m<ipython-input-28-16f9843e51b3>\u001b[0m in \u001b[0;36m<module>\u001b[0;34m\u001b[0m\n\u001b[1;32m      3\u001b[0m \u001b[0mplt\u001b[0m\u001b[0;34m.\u001b[0m\u001b[0mshow\u001b[0m\u001b[0;34m(\u001b[0m\u001b[0;34m)\u001b[0m\u001b[0;34m\u001b[0m\u001b[0m\n\u001b[1;32m      4\u001b[0m \u001b[0;34m\u001b[0m\u001b[0m\n\u001b[0;32m----> 5\u001b[0;31m \u001b[0mprint\u001b[0m\u001b[0;34m(\u001b[0m\u001b[0;34m\"min:\"\u001b[0m\u001b[0;34m,\u001b[0m \u001b[0mmin\u001b[0m\u001b[0;34m(\u001b[0m\u001b[0mtimelist\u001b[0m\u001b[0;34m)\u001b[0m\u001b[0;34m,\u001b[0m \u001b[0msep\u001b[0m\u001b[0;34m=\u001b[0m\u001b[0;34m'\\t'\u001b[0m\u001b[0;34m)\u001b[0m\u001b[0;34m\u001b[0m\u001b[0m\n\u001b[0m\u001b[1;32m      6\u001b[0m \u001b[0mprint\u001b[0m\u001b[0;34m(\u001b[0m\u001b[0;34m\"max:\"\u001b[0m\u001b[0;34m,\u001b[0m \u001b[0mmax\u001b[0m\u001b[0;34m(\u001b[0m\u001b[0mtimelist\u001b[0m\u001b[0;34m)\u001b[0m\u001b[0;34m,\u001b[0m \u001b[0msep\u001b[0m\u001b[0;34m=\u001b[0m\u001b[0;34m'\\t'\u001b[0m\u001b[0;34m)\u001b[0m\u001b[0;34m\u001b[0m\u001b[0m\n\u001b[1;32m      7\u001b[0m \u001b[0mprint\u001b[0m\u001b[0;34m(\u001b[0m\u001b[0;34m\"1.5max:\"\u001b[0m\u001b[0;34m,\u001b[0m \u001b[0mmax\u001b[0m\u001b[0;34m(\u001b[0m\u001b[0mtimelist\u001b[0m\u001b[0;34m)\u001b[0m\u001b[0;34m*\u001b[0m\u001b[0;36m1.5\u001b[0m\u001b[0;34m,\u001b[0m \u001b[0msep\u001b[0m\u001b[0;34m=\u001b[0m\u001b[0;34m'\\t'\u001b[0m\u001b[0;34m)\u001b[0m\u001b[0;34m\u001b[0m\u001b[0m\n",
      "\u001b[0;31mValueError\u001b[0m: min() arg is an empty sequence"
     ]
    }
   ],
   "source": [
    "plt.hist(timelist, bins='auto')  # arguments are passed to np.histogram\n",
    "plt.title(\"Spreading Time Dstribution\")\n",
    "plt.show()\n",
    "\n",
    "print(\"min:\", min(timelist), sep='\\t')\n",
    "print(\"max:\", max(timelist), sep='\\t')\n",
    "print(\"1.5max:\", max(timelist)*1.5, sep='\\t')\n",
    "print(\"10max:\", max(timelist)*10, sep='\\t')\n",
    "print(\"avg:\", int(numpy.mean(timelist))+1, sep='\\t')\n",
    "print(\"2avg:\", int(numpy.mean(timelist)*2)+1, sep='\\t')\n",
    "print(\"10avg:\", int(numpy.mean(timelist)*10)+1, sep='\\t')"
   ]
  },
  {
   "cell_type": "code",
   "execution_count": null,
   "metadata": {},
   "outputs": [],
   "source": []
  }
 ],
 "metadata": {
  "kernelspec": {
   "display_name": "Python 3",
   "language": "python",
   "name": "python3"
  },
  "language_info": {
   "codemirror_mode": {
    "name": "ipython",
    "version": 3
   },
   "file_extension": ".py",
   "mimetype": "text/x-python",
   "name": "python",
   "nbconvert_exporter": "python",
   "pygments_lexer": "ipython3",
   "version": "3.6.3"
  }
 },
 "nbformat": 4,
 "nbformat_minor": 2
}
