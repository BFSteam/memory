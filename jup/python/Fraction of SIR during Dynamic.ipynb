{
 "cells": [
  {
   "cell_type": "markdown",
   "metadata": {},
   "source": [
    "### Plot the fraction of SIR during the dynamic"
   ]
  },
  {
   "cell_type": "code",
   "execution_count": 67,
   "metadata": {},
   "outputs": [],
   "source": [
    "import csv\n",
    "import configparser\n",
    "import numpy\n",
    "\n",
    "import matplotlib.pyplot as plt"
   ]
  },
  {
   "cell_type": "code",
   "execution_count": 73,
   "metadata": {},
   "outputs": [],
   "source": [
    "dirpath = '/home/nik/Documents/test/memory/log/SIR/2019_03_01_21_37_44/'"
   ]
  },
  {
   "cell_type": "code",
   "execution_count": 74,
   "metadata": {},
   "outputs": [],
   "source": [
    "N_USERS = 12625\n",
    "time = 100"
   ]
  },
  {
   "cell_type": "code",
   "execution_count": 75,
   "metadata": {},
   "outputs": [],
   "source": [
    "time_SIR_frac = [[0,0,0]]*(100 + 1)\n",
    "time_SIR_frac = numpy.array(time_SIR_frac)\n",
    "SIR_dict = {'s' : 0, 'i':1, 'r': 2}\n",
    "with open(dirpath + 'memoryLog.csv', 'r') as csvfile:\n",
    "    spamreader = csv.reader(csvfile, delimiter=',')\n",
    "    for row in spamreader:\n",
    "        if '#' in row[0]: continue\n",
    "        if 'agent' in row: continue\n",
    "        try:\n",
    "            time_SIR_frac[int(float(row[1]))][SIR_dict[row[3]]] +=1\n",
    "        except IndexError:\n",
    "            print(row)\n",
    "\n",
    "#list_of_tup.append((int(row[0]), int(row[1]), row[2], int(row[3])))\n",
    "#listup = [e[3] for e in [element for element in list_of_tup if element[2] == 'u']]\n",
    "#listdown = [e[3] for e in [element for element in list_of_tup if element[2] == 'd']]"
   ]
  },
  {
   "cell_type": "code",
   "execution_count": 76,
   "metadata": {},
   "outputs": [],
   "source": [
    "x = time_SIR_frac[1:] / N_USERS \n",
    "t = range(time)"
   ]
  },
  {
   "cell_type": "code",
   "execution_count": 77,
   "metadata": {},
   "outputs": [
    {
     "data": {
      "text/plain": [
       "<function matplotlib.pyplot.show(*args, **kw)>"
      ]
     },
     "execution_count": 77,
     "metadata": {},
     "output_type": "execute_result"
    },
    {
     "data": {
      "image/png": "[encoded data removed]",
      "text/plain": [
       "<Figure size 432x288 with 1 Axes>"
      ]
     },
     "metadata": {
      "needs_background": "light"
     },
     "output_type": "display_data"
    }
   ],
   "source": [
    "plt.plot(t, [e[0] for e in x], 'g--')\n",
    "plt.plot(t, [e[1] for e in x], 'rs')\n",
    "plt.plot(t, [e[2] for e in x], 'b^')\n",
    "plt.show"
   ]
  },
  {
   "cell_type": "code",
   "execution_count": null,
   "metadata": {},
   "outputs": [],
   "source": []
  }
 ],
 "metadata": {
  "kernelspec": {
   "display_name": "Python 3",
   "language": "python",
   "name": "python3"
  },
  "language_info": {
   "codemirror_mode": {
    "name": "ipython",
    "version": 3
   },
   "file_extension": ".py",
   "mimetype": "text/x-python",
   "name": "python",
   "nbconvert_exporter": "python",
   "pygments_lexer": "ipython3",
   "version": "3.6.3"
  }
 },
 "nbformat": 4,
 "nbformat_minor": 2
}
