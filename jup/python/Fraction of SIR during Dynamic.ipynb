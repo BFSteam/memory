{
 "cells": [
  {
   "cell_type": "markdown",
   "metadata": {},
   "source": [
    "### Plot the fraction of SIR during the dynamic"
   ]
  },
  {
   "cell_type": "code",
   "execution_count": 218,
   "metadata": {},
   "outputs": [],
   "source": [
    "import csv\n",
    "import configparser\n",
    "import numpy\n",
    "\n",
    "import matplotlib.pyplot as plt\n",
    "import networkx as nx\n",
    "\n",
    "from operator import itemgetter\n",
    "from os import listdir\n",
    "from os.path import isfile, isdir, join, exists"
   ]
  },
  {
   "cell_type": "code",
   "execution_count": 219,
   "metadata": {},
   "outputs": [],
   "source": [
    "plt.rcParams['figure.figsize'] = [10,5]"
   ]
  },
  {
   "cell_type": "code",
   "execution_count": 220,
   "metadata": {},
   "outputs": [],
   "source": [
    "EmailURV = '../../src/datasets/EmailURV/EmailURV.csv'\n",
    "Emailcontacts = '../../src/datasets/Emailcontacts/Emailcontacts.csv'\n",
    "\n",
    "G = nx.Graph()\n",
    "with open(Emailcontacts, 'r') as file:\n",
    "    reader = csv.reader(file, delimiter=\",\")\n",
    "    for row in reader:\n",
    "        G.add_edge(int(row[0]), int(row[1]))\n",
    "N_AGENTS = len(G.nodes())"
   ]
  },
  {
   "cell_type": "code",
   "execution_count": 224,
   "metadata": {},
   "outputs": [
    {
     "data": {
      "text/plain": [
       "['../../log/TestingSIRcontacts/2019_08_02_18_17_43/memoryLog.csv',\n",
       " '../../log/TestingSIRcontacts/2019_08_02_18_08_04/memoryLog.csv']"
      ]
     },
     "execution_count": 224,
     "metadata": {},
     "output_type": "execute_result"
    }
   ],
   "source": [
    "mypath = '../../log/TestingSIRcontacts/'\n",
    "dirs = [f for f in listdir(mypath) if isdir(join(mypath, f))]\n",
    "memlogs = [join(join(mypath, f), 'memoryLog.csv') for f in dirs]\n",
    "memlogs"
   ]
  },
  {
   "cell_type": "code",
   "execution_count": 225,
   "metadata": {},
   "outputs": [],
   "source": [
    "time = 70"
   ]
  },
  {
   "cell_type": "code",
   "execution_count": 226,
   "metadata": {},
   "outputs": [
    {
     "data": {
      "image/png": "[encoded data removed]",
      "text/plain": [
       "<Figure size 720x360 with 1 Axes>"
      ]
     },
     "metadata": {
      "needs_background": "light"
     },
     "output_type": "display_data"
    }
   ],
   "source": [
    "counter = 0\n",
    "for file in memlogs:\n",
    "    time_SIR_frac = [[0,0,0]]*(time + 1)\n",
    "    time_SIR_frac = numpy.array(time_SIR_frac)\n",
    "    SIR_dict = {'s' : 0, 'i':1, 'r': 2}\n",
    "\n",
    "    with open(file, 'r') as csvfile:\n",
    "        spamreader = csv.reader(csvfile, delimiter=',')\n",
    "        for row in spamreader:\n",
    "            if '#' in row[0]: continue\n",
    "            if 'agent' in row: continue\n",
    "            try:\n",
    "                time_SIR_frac[int(float(row[1]))][SIR_dict[row[3]]] +=1\n",
    "            except IndexError as e:\n",
    "                print(e)\n",
    "                print(row)\n",
    "                break\n",
    "\n",
    "        #list_of_tup.append((int(row[0]), int(row[1]), row[2], int(row[3])))\n",
    "        #listup = [e[3] for e in [element for element in list_of_tup if element[2] == 'u']]\n",
    "        #listdown = [e[3] for e in [element for element in list_of_tup if element[2] == 'd']]\n",
    "\n",
    "        x = time_SIR_frac[1:] / N_USERS \n",
    "        t = range(time)\n",
    "        #if all(i >= 0.99 for i in [e[0] for e in x]) :\n",
    "        #    counter += 1\n",
    "        #    print(\"lost graphs:\", counter/len(memlogs), \"%\")\n",
    "        #    continue\n",
    "        #plt.figure()\n",
    "        plt.plot(t, [e[0] for e in x], 'g--', alpha=0.2)\n",
    "        plt.plot(t, [e[1] for e in x], 'r-', alpha=0.2)\n",
    "        plt.plot(t, [e[2] for e in x], 'b.', alpha=0.2)\n",
    "        plt.show"
   ]
  },
  {
   "cell_type": "code",
   "execution_count": null,
   "metadata": {},
   "outputs": [],
   "source": []
  },
  {
   "cell_type": "code",
   "execution_count": null,
   "metadata": {},
   "outputs": [],
   "source": []
  }
 ],
 "metadata": {
  "kernelspec": {
   "display_name": "Python 3",
   "language": "python",
   "name": "python3"
  },
  "language_info": {
   "codemirror_mode": {
    "name": "ipython",
    "version": 3
   },
   "file_extension": ".py",
   "mimetype": "text/x-python",
   "name": "python",
   "nbconvert_exporter": "python",
   "pygments_lexer": "ipython3",
   "version": "3.6.3"
  }
 },
 "nbformat": 4,
 "nbformat_minor": 2
}
