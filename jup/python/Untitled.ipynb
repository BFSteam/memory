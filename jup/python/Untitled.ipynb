{
 "cells": [
  {
   "cell_type": "code",
   "execution_count": 1,
   "metadata": {},
   "outputs": [],
   "source": [
    "import csv\n",
    "import sys\n",
    "\n",
    "from os import listdir\n",
    "from os.path import isfile, join"
   ]
  },
  {
   "cell_type": "markdown",
   "metadata": {},
   "source": [
    "put files in dict"
   ]
  },
  {
   "cell_type": "code",
   "execution_count": 2,
   "metadata": {},
   "outputs": [
    {
     "name": "stdout",
     "output_type": "stream",
     "text": [
      "{'clustering': 'clustering2018_08_03_18_20_35.csv', 'memory': 'memoryLog2018_08_03_18_20_35.csv', 'connection': 'connectionLog2018_08_03_18_20_35.csv', 'message': 'messageLog2018_08_03_18_20_35.csv', 'diameter': 'diameter2018_08_03_18_20_35.csv', 'graph': 'graph2018_08_03_18_20_35.gml'}\n"
     ]
    }
   ],
   "source": [
    "f_path = '../../log/state3/1-20m_1000u_20s_1000t'\n",
    "\n",
    "f_name = list(set([f[f.find('2018'):f.find('2018')+19] for f in listdir(f_path) if isfile(join(f_path, f))]))\n",
    "f_name.sort() \n",
    "\n",
    "f_dict = { key : {} for key in f_name}\n",
    "\n",
    "for fn in f_name:\n",
    "    f_list = [f for f in listdir(f_path) if isfile(join(f_path, f)) and fn in f]\n",
    "    #print(f_list)\n",
    "    f_dict[fn]['clustering'] = [x for x in f_list if 'clustering' in x][0]\n",
    "    f_dict[fn]['memory'] = [x for x in f_list if 'memory' in x][0]\n",
    "    f_dict[fn]['connection'] = [x for x in f_list if 'connection' in x][0]\n",
    "    f_dict[fn]['message'] = [x for x in f_list if 'message' in x][0]\n",
    "    f_dict[fn]['diameter'] = [x for x in f_list if 'diameter' in x][0]\n",
    "    f_dict[fn]['graph'] = [x for x in f_list if 'graph' in x and 'graphN' not in x][0]\n",
    "    \n",
    "print(f_dict[f_name[5]])\n",
    "    "
   ]
  },
  {
   "cell_type": "markdown",
   "metadata": {},
   "source": [
    "read intestation"
   ]
  },
  {
   "cell_type": "code",
   "execution_count": 47,
   "metadata": {},
   "outputs": [
    {
     "name": "stdout",
     "output_type": "stream",
     "text": [
      "1000 1000 20 3 4\n",
      "0 ['#diameter']\n",
      "1 ['#']\n",
      "2 ['#simulation with:', '1000']\n",
      "3 ['#SEED', '123']\n",
      "4 ['#N_AGENTS', '1020']\n",
      "5 ['#N_USERS', '1000']\n",
      "6 ['#N_SOURCES', '20']\n",
      "7 ['#P_a', '0.005']\n",
      "8 ['#P_s', '0.05']\n",
      "9 ['#dim', '3']\n",
      "10 ['#time', '2018_08_03_18_19_58']\n",
      "11 ['#memorySize', '4']\n",
      "12 ['diameter', 'memsize']\n",
      "13 ['12', '4']\n"
     ]
    }
   ],
   "source": [
    "time = 0\n",
    "users = 0\n",
    "sources = 0\n",
    "state = 0\n",
    "memory = 0\n",
    "with open(f_path+'/'+f_dict[f_name[3]]['diameter'], 'r') as readfile:\n",
    "    csvreader = csv.reader(readfile, delimiter=',')\n",
    "    for row in csvreader:\n",
    "        if 'simulation' in row[0]: \n",
    "            time = int(row[1])\n",
    "        if 'N_USERS' in row[0]: \n",
    "            users = int(row[1])\n",
    "        if 'N_SOURCES' in row[0]: \n",
    "            sources = int(row[1])\n",
    "        if 'dim' in row[0]: \n",
    "            state = int(row[1])\n",
    "        if 'memory' in row[0]: \n",
    "            memory = int(row[1])\n",
    "        \n",
    "print(time, users, sources, state, memory)\n",
    "\n",
    "with open(f_path+'/'+f_dict[f_name[3]]['diameter'], 'r') as readfile:\n",
    "    csvreader = csv.reader(readfile, delimiter=',')\n",
    "    for i, row in enumerate(csvreader):\n",
    "        print(i,row)"
   ]
  },
  {
   "cell_type": "code",
   "execution_count": 3,
   "metadata": {},
   "outputs": [
    {
     "name": "stdout",
     "output_type": "stream",
     "text": [
      "2018_08_03_18_20_35\n",
      "1000 1000 20 3 6\n"
     ]
    },
    {
     "name": "stderr",
     "output_type": "stream",
     "text": [
      "IOPub data rate exceeded.\n",
      "The notebook server will temporarily stop sending output\n",
      "to the client in order to avoid crashing it.\n",
      "To change this limit, set the config variable\n",
      "`--NotebookApp.iopub_data_rate_limit`.\n",
      "\n",
      "Current values:\n",
      "NotebookApp.iopub_data_rate_limit=1000000.0 (bytes/sec)\n",
      "NotebookApp.rate_limit_window=3.0 (secs)\n",
      "\n"
     ]
    }
   ],
   "source": [
    "for fn in [f_name[5]]:\n",
    "    print(fn)\n",
    "    time = 0\n",
    "    users = 0\n",
    "    sources = 0\n",
    "    state = 0\n",
    "    memory = 0\n",
    "    with open(f_path+'/'+f_dict[fn]['diameter'], 'r') as readfile:\n",
    "        csvreader = csv.reader(readfile, delimiter=',')\n",
    "        for row in csvreader:\n",
    "            if 'simulation' in row[0]: \n",
    "                time = int(row[1])\n",
    "            if 'N_USERS' in row[0]: \n",
    "                users = int(row[1])\n",
    "            if 'N_SOURCES' in row[0]: \n",
    "                sources = int(row[1])\n",
    "            if 'dim' in row[0]: \n",
    "                state = int(row[1])\n",
    "            if 'memory' in row[0]: \n",
    "                memory = int(row[1])\n",
    "\n",
    "        print(time, users, sources, state, memory)\n",
    "    with open(f_path+'/'+f_dict[fn]['memory'], 'r') as readfile:\n",
    "        csvreader = csv.reader(readfile, delimiter=',')\n",
    "        counter = []\n",
    "        for i, row in enumerate(csvreader):\n",
    "            if i < 13 : continue\n",
    "            counter.append( [ row[1] , row[3:] ] )\n",
    "        print(counter)"
   ]
  },
  {
   "cell_type": "code",
   "execution_count": 3,
   "metadata": {},
   "outputs": [
    {
     "ename": "KeyboardInterrupt",
     "evalue": "",
     "output_type": "error",
     "traceback": [
      "\u001b[0;31m---------------------------------------------------------------------------\u001b[0m",
      "\u001b[0;31mKeyboardInterrupt\u001b[0m                         Traceback (most recent call last)",
      "\u001b[0;32m<ipython-input-3-915a4ff02204>\u001b[0m in \u001b[0;36m<module>\u001b[0;34m()\u001b[0m\n\u001b[1;32m      7\u001b[0m             \u001b[0;32mif\u001b[0m \u001b[0mrow\u001b[0m\u001b[0;34m[\u001b[0m\u001b[0;36m0\u001b[0m\u001b[0;34m]\u001b[0m\u001b[0;34m[\u001b[0m\u001b[0;36m0\u001b[0m\u001b[0;34m]\u001b[0m \u001b[0;34m==\u001b[0m \u001b[0;34m'#'\u001b[0m \u001b[0;34m:\u001b[0m \u001b[0;32mcontinue\u001b[0m\u001b[0;34m\u001b[0m\u001b[0m\n\u001b[1;32m      8\u001b[0m             \u001b[0;32mif\u001b[0m \u001b[0mrow\u001b[0m\u001b[0;34m[\u001b[0m\u001b[0;36m3\u001b[0m\u001b[0;34m]\u001b[0m \u001b[0;32mnot\u001b[0m \u001b[0;32min\u001b[0m \u001b[0mnewsvector\u001b[0m \u001b[0;32mor\u001b[0m \u001b[0mrow\u001b[0m\u001b[0;34m[\u001b[0m\u001b[0;36m3\u001b[0m\u001b[0;34m]\u001b[0m \u001b[0;34m!=\u001b[0m\u001b[0;34m'0'\u001b[0m\u001b[0;34m:\u001b[0m\u001b[0;34m\u001b[0m\u001b[0m\n\u001b[0;32m----> 9\u001b[0;31m                 \u001b[0mnewsvector\u001b[0m \u001b[0;34m=\u001b[0m \u001b[0mnewsvector\u001b[0m \u001b[0;34m+\u001b[0m \u001b[0;34m[\u001b[0m \u001b[0mrow\u001b[0m\u001b[0;34m[\u001b[0m\u001b[0;36m3\u001b[0m\u001b[0;34m]\u001b[0m \u001b[0;34m]\u001b[0m\u001b[0;34m\u001b[0m\u001b[0m\n\u001b[0m\u001b[1;32m     10\u001b[0m     \u001b[0;32mexcept\u001b[0m \u001b[0mcsv\u001b[0m\u001b[0;34m.\u001b[0m\u001b[0mError\u001b[0m \u001b[0;32mas\u001b[0m \u001b[0me\u001b[0m\u001b[0;34m:\u001b[0m\u001b[0;34m\u001b[0m\u001b[0m\n\u001b[1;32m     11\u001b[0m         \u001b[0msys\u001b[0m\u001b[0;34m.\u001b[0m\u001b[0mexit\u001b[0m\u001b[0;34m(\u001b[0m\u001b[0;34m'file %s, line %d: %s'\u001b[0m \u001b[0;34m%\u001b[0m \u001b[0;34m(\u001b[0m\u001b[0mfilename\u001b[0m\u001b[0;34m,\u001b[0m \u001b[0mreadCSV\u001b[0m\u001b[0;34m.\u001b[0m\u001b[0mline_num\u001b[0m\u001b[0;34m,\u001b[0m \u001b[0me\u001b[0m\u001b[0;34m)\u001b[0m\u001b[0;34m)\u001b[0m\u001b[0;34m\u001b[0m\u001b[0m\n",
      "\u001b[0;31mKeyboardInterrupt\u001b[0m: "
     ]
    }
   ],
   "source": [
    "newsvector = []\n",
    "filename = '../../log/state3/1-20m_1000u_20s_1000t/memoryLog2018_08_03_18_30_58.csv' \n",
    "with open(filename, 'r') as csvfile:\n",
    "    readCSV = csv.reader(csvfile, delimiter=',')\n",
    "    try:\n",
    "        for row in readCSV:\n",
    "            if row[0][0] == '#' : continue\n",
    "            if row[3] not in newsvector or row[3] !='0':\n",
    "                newsvector = newsvector + [ row[3] ]\n",
    "    except csv.Error as e:\n",
    "        sys.exit('file %s, line %d: %s' % (filename, readCSV.line_num, e))"
   ]
  },
  {
   "cell_type": "code",
   "execution_count": null,
   "metadata": {},
   "outputs": [],
   "source": []
  }
 ],
 "metadata": {
  "kernelspec": {
   "display_name": "Python 3",
   "language": "python",
   "name": "python3"
  },
  "language_info": {
   "codemirror_mode": {
    "name": "ipython",
    "version": 3
   },
   "file_extension": ".py",
   "mimetype": "text/x-python",
   "name": "python",
   "nbconvert_exporter": "python",
   "pygments_lexer": "ipython3",
   "version": "3.6.5"
  }
 },
 "nbformat": 4,
 "nbformat_minor": 2
}
