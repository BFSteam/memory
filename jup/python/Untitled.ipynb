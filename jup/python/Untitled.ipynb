{
 "cells": [
  {
   "cell_type": "markdown",
   "metadata": {},
   "source": [
    "# Write .csv speed"
   ]
  },
  {
   "cell_type": "code",
   "execution_count": 2,
   "metadata": {},
   "outputs": [],
   "source": [
    "import csv\n",
    "import os\n",
    "import numpy as np"
   ]
  },
  {
   "cell_type": "code",
   "execution_count": 5,
   "metadata": {},
   "outputs": [
    {
     "data": {
      "text/plain": [
       "0.49829528986951566"
      ]
     },
     "execution_count": 5,
     "metadata": {},
     "output_type": "execute_result"
    }
   ],
   "source": [
    "np.random.random()"
   ]
  },
  {
   "cell_type": "markdown",
   "metadata": {},
   "source": [
    "### Open one time"
   ]
  },
  {
   "cell_type": "code",
   "execution_count": 9,
   "metadata": {},
   "outputs": [
    {
     "name": "stdout",
     "output_type": "stream",
     "text": [
      "done\n",
      "removed\n",
      "CPU times: user 3.73 s, sys: 45.8 ms, total: 3.77 s\n",
      "Wall time: 4.56 s\n"
     ]
    }
   ],
   "source": [
    "%%time\n",
    "with open('./test.csv', 'w') as file:\n",
    "    w = csv.writer(file)\n",
    "    for i in range(1000000):\n",
    "        a = [str(np.random.random()),str(np.random.random()),str(np.random.random())]\n",
    "        w.writerow(a)\n",
    "        \n",
    "print('done')\n",
    "os.remove('./test.csv')\n",
    "print('removed')"
   ]
  },
  {
   "cell_type": "code",
   "execution_count": 15,
   "metadata": {},
   "outputs": [
    {
     "name": "stdout",
     "output_type": "stream",
     "text": [
      "done\n",
      "removed\n",
      "CPU times: user 14.4 s, sys: 0 ns, total: 14.4 s\n",
      "Wall time: 15.8 s\n"
     ]
    }
   ],
   "source": [
    "%%time\n",
    "arr = np.empty([0])\n",
    "with open('./test.csv', 'w') as file:\n",
    "    w = csv.writer(file)\n",
    "    for i in range(1000000):\n",
    "        a = [str(np.random.random()),str(np.random.random()),str(np.random.random())]\n",
    "        arr = np.append(arr,a)\n",
    "        if arr.shape[0] > 1000:\n",
    "            for row in arr: w.writerow(row)\n",
    "            arr = np.empty([0])\n",
    "\n",
    "print('done')\n",
    "os.remove('./test.csv')\n",
    "print('removed')"
   ]
  },
  {
   "cell_type": "code",
   "execution_count": null,
   "metadata": {},
   "outputs": [],
   "source": []
  }
 ],
 "metadata": {
  "kernelspec": {
   "display_name": "Python 3",
   "language": "python",
   "name": "python3"
  },
  "language_info": {
   "codemirror_mode": {
    "name": "ipython",
    "version": 3
   },
   "file_extension": ".py",
   "mimetype": "text/x-python",
   "name": "python",
   "nbconvert_exporter": "python",
   "pygments_lexer": "ipython3",
   "version": "3.6.4"
  }
 },
 "nbformat": 4,
 "nbformat_minor": 2
}
