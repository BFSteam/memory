{
 "cells": [
  {
   "cell_type": "code",
   "execution_count": 1,
   "metadata": {},
   "outputs": [],
   "source": [
    "import csv\n",
    "import sys\n",
    "\n",
    "from os import listdir\n",
    "from os.path import isfile, join"
   ]
  },
  {
   "cell_type": "markdown",
   "metadata": {},
   "source": [
    "put files in dict"
   ]
  },
  {
   "cell_type": "code",
   "execution_count": 4,
   "metadata": {},
   "outputs": [],
   "source": [
    "strmatch = '2018'\n",
    "f_path = '../../log/2018_12_12_16_13_59'\n",
    "\n",
    "f_name = list(set([f[f.find(strmatch):f.find(strmatch)+19] for f in listdir(f_path) if isfile(join(f_path, f)) and strmatch in f]))\n",
    "f_name.sort() \n",
    "#print('f_name:',f_name)\n",
    "f_dict = { key : {} for key in f_name}\n",
    "for fn in f_name:\n",
    "    f_list = [f for f in listdir(f_path) if isfile(join(f_path, f)) and fn in f]\n",
    "    #print(f_list)\n",
    "    f_dict[fn]['clustering'] = [x for x in f_list if 'clustering' in x][0]\n",
    "    f_dict[fn]['memory'] = [x for x in f_list if 'memory' in x][0]\n",
    "    f_dict[fn]['connection'] = [x for x in f_list if 'connection' in x][0]\n",
    "    f_dict[fn]['message'] = [x for x in f_list if 'message' in x][0]\n",
    "    f_dict[fn]['diameter'] = [x for x in f_list if 'diameter' in x][0]\n",
    "    f_dict[fn]['graph'] = [x for x in f_list if 'graph' in x and 'graphN' not in x][0]   \n",
    "#print(f_dict[f_name[5]])"
   ]
  },
  {
   "cell_type": "code",
   "execution_count": 8,
   "metadata": {
    "scrolled": false
   },
   "outputs": [
    {
     "name": "stdout",
     "output_type": "stream",
     "text": [
      "Working on file: 2018_12_12_16_13_59\n",
      "100 76 1 3 12\n",
      "True\n"
     ]
    },
    {
     "ename": "KeyError",
     "evalue": "'DyfMU0tTd3TNRtPR'",
     "output_type": "error",
     "traceback": [
      "\u001b[0;31m---------------------------------------------------------------------------\u001b[0m",
      "\u001b[0;31mKeyError\u001b[0m                                  Traceback (most recent call last)",
      "\u001b[0;32m<ipython-input-8-ae083c2a7875>\u001b[0m in \u001b[0;36m<module>\u001b[0;34m\u001b[0m\n\u001b[1;32m     37\u001b[0m             \u001b[0;32mfor\u001b[0m \u001b[0mnew\u001b[0m \u001b[0;32min\u001b[0m \u001b[0mrow\u001b[0m\u001b[0;34m[\u001b[0m\u001b[0;36m4\u001b[0m\u001b[0;34m:\u001b[0m\u001b[0;34m]\u001b[0m\u001b[0;34m:\u001b[0m\u001b[0;34m\u001b[0m\u001b[0;34m\u001b[0m\u001b[0m\n\u001b[1;32m     38\u001b[0m                 \u001b[0;32mif\u001b[0m \u001b[0mnew\u001b[0m \u001b[0;34m==\u001b[0m \u001b[0;34m'0'\u001b[0m\u001b[0;34m:\u001b[0m \u001b[0;32mcontinue\u001b[0m\u001b[0;34m\u001b[0m\u001b[0;34m\u001b[0m\u001b[0m\n\u001b[0;32m---> 39\u001b[0;31m                 \u001b[0mtemp_news_dict\u001b[0m\u001b[0;34m[\u001b[0m\u001b[0mnew\u001b[0m\u001b[0;34m]\u001b[0m\u001b[0;34m[\u001b[0m\u001b[0mint\u001b[0m\u001b[0;34m(\u001b[0m\u001b[0mfloat\u001b[0m\u001b[0;34m(\u001b[0m\u001b[0mrow\u001b[0m\u001b[0;34m[\u001b[0m\u001b[0;36m1\u001b[0m\u001b[0;34m]\u001b[0m\u001b[0;34m)\u001b[0m\u001b[0;34m)\u001b[0m \u001b[0;34m-\u001b[0m \u001b[0;36m1\u001b[0m\u001b[0;34m]\u001b[0m \u001b[0;34m+=\u001b[0m \u001b[0;36m1\u001b[0m\u001b[0;34m\u001b[0m\u001b[0;34m\u001b[0m\u001b[0m\n\u001b[0m\u001b[1;32m     40\u001b[0m     \u001b[0;32mwith\u001b[0m \u001b[0mopen\u001b[0m\u001b[0;34m(\u001b[0m\u001b[0mf_path\u001b[0m\u001b[0;34m+\u001b[0m\u001b[0;34m'/HBp.csv'\u001b[0m\u001b[0;34m,\u001b[0m \u001b[0;34m'a'\u001b[0m\u001b[0;34m)\u001b[0m \u001b[0;32mas\u001b[0m \u001b[0mwritefile\u001b[0m\u001b[0;34m:\u001b[0m\u001b[0;34m\u001b[0m\u001b[0;34m\u001b[0m\u001b[0m\n\u001b[1;32m     41\u001b[0m         \u001b[0mcsvwriter\u001b[0m \u001b[0;34m=\u001b[0m \u001b[0mcsv\u001b[0m\u001b[0;34m.\u001b[0m\u001b[0mwriter\u001b[0m\u001b[0;34m(\u001b[0m\u001b[0mwritefile\u001b[0m\u001b[0;34m,\u001b[0m \u001b[0mdelimiter\u001b[0m\u001b[0;34m=\u001b[0m\u001b[0;34m','\u001b[0m\u001b[0;34m)\u001b[0m\u001b[0;34m\u001b[0m\u001b[0;34m\u001b[0m\u001b[0m\n",
      "\u001b[0;31mKeyError\u001b[0m: 'DyfMU0tTd3TNRtPR'"
     ]
    }
   ],
   "source": [
    "with open(f_path+'/HBp.csv', 'w') as writefile:\n",
    "    pass\n",
    "\n",
    "for fn in f_name:    \n",
    "    print('Working on file:',fn)\n",
    "    time = 0\n",
    "    users = 0\n",
    "    sources = 0\n",
    "    state = 0\n",
    "    memory = 0\n",
    "    newslist = []\n",
    "    with open(f_path+'/'+f_dict[fn]['memory'], 'r') as readfile:\n",
    "        csvreader = csv.reader(readfile, delimiter=',')\n",
    "        for i , row in enumerate(csvreader):\n",
    "            if 'simulation' in row[0]: \n",
    "                time = int(row[1])\n",
    "            if 'N_USERS' in row[0]: \n",
    "                users = int(row[1])\n",
    "            if 'N_SOURCES' in row[0]: \n",
    "                sources = int(row[1])\n",
    "            if 'dim' in row[0]: \n",
    "                state = int(row[1])\n",
    "            if i > 1 and 'memory' in row[0]: \n",
    "                memory = int(row[1])\n",
    "            if i > 12 and i < 12 + 1 + sources:\n",
    "                newslist.append(row[3])\n",
    "            if i > 12+1+sources: break\n",
    "\n",
    "    print(time, users, sources, state, memory)\n",
    "    temp_news_dict ={ key : list([0]*time) for key in newslist} \n",
    "    print(newslist == list(temp_news_dict.keys()))\n",
    "    \n",
    "    with open(f_path+'/'+f_dict[fn]['memory'], 'r') as readfile:\n",
    "        csvreader = csv.reader(readfile, delimiter=',')\n",
    "        for i, row in enumerate(csvreader):\n",
    "            if i < 13 : continue\n",
    "            for new in row[4:]:\n",
    "                if new == '0': continue\n",
    "                temp_news_dict[new][int(float(row[1])) - 1] += 1\n",
    "    with open(f_path+'/HBp.csv', 'a') as writefile:\n",
    "        csvwriter = csv.writer(writefile, delimiter=',')\n",
    "        for key in temp_news_dict:\n",
    "            csvwriter.writerow(temp_news_dict[key])"
   ]
  },
  {
   "cell_type": "code",
   "execution_count": null,
   "metadata": {},
   "outputs": [],
   "source": []
  }
 ],
 "metadata": {
  "kernelspec": {
   "display_name": "Python 3",
   "language": "python",
   "name": "python3"
  },
  "language_info": {
   "codemirror_mode": {
    "name": "ipython",
    "version": 3
   },
   "file_extension": ".py",
   "mimetype": "text/x-python",
   "name": "python",
   "nbconvert_exporter": "python",
   "pygments_lexer": "ipython3",
   "version": "3.7.1"
  }
 },
 "nbformat": 4,
 "nbformat_minor": 2
}
