{
 "cells": [
  {
   "cell_type": "markdown",
   "metadata": {},
   "source": [
    "Questo link vale come oro per le `data.table`"
   ]
  },
  {
   "cell_type": "markdown",
   "metadata": {},
   "source": [
    "https://stackoverflow.com/questions/1727772/quickly-reading-very-large-tables-as-dataframes-in-r/15058684#15058684"
   ]
  },
  {
   "cell_type": "markdown",
   "metadata": {},
   "source": [
    "https://s3.amazonaws.com/assets.datacamp.com/blog_assets/datatable_Cheat_Sheet_R.pdf"
   ]
  },
  {
   "cell_type": "code",
   "execution_count": 194,
   "metadata": {},
   "outputs": [],
   "source": [
    "library(data.table)"
   ]
  },
  {
   "cell_type": "code",
   "execution_count": 195,
   "metadata": {
    "scrolled": true
   },
   "outputs": [
    {
     "data": {
      "text/html": [
       "<ol class=list-inline>\n",
       "\t<li>'connectionLog.csv'</li>\n",
       "\t<li>'graph.gml'</li>\n",
       "\t<li>'graphN.gml'</li>\n",
       "\t<li>'memoryLog.csv'</li>\n",
       "\t<li>'messageLog.csv'</li>\n",
       "\t<li>'plot-0100.pdf'</li>\n",
       "\t<li>'tutorial'</li>\n",
       "</ol>\n"
      ],
      "text/latex": [
       "\\begin{enumerate*}\n",
       "\\item 'connectionLog.csv'\n",
       "\\item 'graph.gml'\n",
       "\\item 'graphN.gml'\n",
       "\\item 'memoryLog.csv'\n",
       "\\item 'messageLog.csv'\n",
       "\\item 'plot-0100.pdf'\n",
       "\\item 'tutorial'\n",
       "\\end{enumerate*}\n"
      ],
      "text/markdown": [
       "1. 'connectionLog.csv'\n",
       "2. 'graph.gml'\n",
       "3. 'graphN.gml'\n",
       "4. 'memoryLog.csv'\n",
       "5. 'messageLog.csv'\n",
       "6. 'plot-0100.pdf'\n",
       "7. 'tutorial'\n",
       "\n",
       "\n"
      ],
      "text/plain": [
       "[1] \"connectionLog.csv\" \"graph.gml\"         \"graphN.gml\"       \n",
       "[4] \"memoryLog.csv\"     \"messageLog.csv\"    \"plot-0100.pdf\"    \n",
       "[7] \"tutorial\"         "
      ]
     },
     "metadata": {},
     "output_type": "display_data"
    }
   ],
   "source": [
    "list.files(path=\"../log\")"
   ]
  },
  {
   "cell_type": "code",
   "execution_count": 196,
   "metadata": {},
   "outputs": [
    {
     "data": {
      "text/html": [
       "4"
      ],
      "text/latex": [
       "4"
      ],
      "text/markdown": [
       "4"
      ],
      "text/plain": [
       "[1] 4"
      ]
     },
     "metadata": {},
     "output_type": "display_data"
    }
   ],
   "source": [
    "which(list.files(path=\"../log\") == \"memoryLog.csv\") ## check if file exist"
   ]
  },
  {
   "cell_type": "code",
   "execution_count": 197,
   "metadata": {
    "scrolled": true
   },
   "outputs": [
    {
     "data": {
      "text/plain": [
       "   user  system elapsed \n",
       "  0.025   0.000   0.025 "
      ]
     },
     "metadata": {},
     "output_type": "display_data"
    }
   ],
   "source": [
    "system.time(DT <- fread(\"../log/memoryLog.csv\"))"
   ]
  },
  {
   "cell_type": "code",
   "execution_count": 198,
   "metadata": {},
   "outputs": [
    {
     "data": {
      "text/html": [
       "<ol class=list-inline>\n",
       "\t<li>'agent'</li>\n",
       "\t<li>'time'</li>\n",
       "\t<li>'state'</li>\n",
       "\t<li>'news0'</li>\n",
       "</ol>\n"
      ],
      "text/latex": [
       "\\begin{enumerate*}\n",
       "\\item 'agent'\n",
       "\\item 'time'\n",
       "\\item 'state'\n",
       "\\item 'news0'\n",
       "\\end{enumerate*}\n"
      ],
      "text/markdown": [
       "1. 'agent'\n",
       "2. 'time'\n",
       "3. 'state'\n",
       "4. 'news0'\n",
       "\n",
       "\n"
      ],
      "text/plain": [
       "[1] \"agent\" \"time\"  \"state\" \"news0\""
      ]
     },
     "metadata": {},
     "output_type": "display_data"
    }
   ],
   "source": [
    "names(DT) ## come csv normale"
   ]
  },
  {
   "cell_type": "code",
   "execution_count": 199,
   "metadata": {
    "scrolled": true
   },
   "outputs": [
    {
     "data": {
      "text/html": [
       "<table>\n",
       "<thead><tr><th scope=col>agent</th><th scope=col>time</th><th scope=col>state</th><th scope=col>news0</th></tr></thead>\n",
       "<tbody>\n",
       "\t<tr><td> 0              </td><td>500             </td><td>x               </td><td>9b52894250cde8fa</td></tr>\n",
       "\t<tr><td> 1              </td><td>500             </td><td>x               </td><td>e470d9c0f7f2bb9f</td></tr>\n",
       "\t<tr><td> 2              </td><td>500             </td><td>x               </td><td>ea3175f9bae94f24</td></tr>\n",
       "\t<tr><td> 3              </td><td>500             </td><td>u               </td><td>e470d9c0f7f2bb9f</td></tr>\n",
       "\t<tr><td> 4              </td><td>500             </td><td>d               </td><td>e470d9c0f7f2bb9f</td></tr>\n",
       "\t<tr><td> 5              </td><td>500             </td><td>d               </td><td>ea3175f9bae94f24</td></tr>\n",
       "\t<tr><td> 6              </td><td>500             </td><td>u               </td><td>e470d9c0f7f2bb9f</td></tr>\n",
       "\t<tr><td> 7              </td><td>500             </td><td>d               </td><td>9b52894250cde8fa</td></tr>\n",
       "\t<tr><td> 8              </td><td>500             </td><td>d               </td><td>e470d9c0f7f2bb9f</td></tr>\n",
       "\t<tr><td> 9              </td><td>500             </td><td>d               </td><td>ea3175f9bae94f24</td></tr>\n",
       "\t<tr><td>10              </td><td>500             </td><td>d               </td><td>e470d9c0f7f2bb9f</td></tr>\n",
       "\t<tr><td>11              </td><td>500             </td><td>u               </td><td>e470d9c0f7f2bb9f</td></tr>\n",
       "\t<tr><td>12              </td><td>500             </td><td>d               </td><td>e470d9c0f7f2bb9f</td></tr>\n",
       "\t<tr><td>13              </td><td>500             </td><td>d               </td><td>e470d9c0f7f2bb9f</td></tr>\n",
       "\t<tr><td>14              </td><td>500             </td><td>u               </td><td>9b52894250cde8fa</td></tr>\n",
       "\t<tr><td>15              </td><td>500             </td><td>d               </td><td>e470d9c0f7f2bb9f</td></tr>\n",
       "\t<tr><td>16              </td><td>500             </td><td>u               </td><td>e470d9c0f7f2bb9f</td></tr>\n",
       "\t<tr><td>17              </td><td>500             </td><td>u               </td><td>e470d9c0f7f2bb9f</td></tr>\n",
       "\t<tr><td>18              </td><td>500             </td><td>u               </td><td>e470d9c0f7f2bb9f</td></tr>\n",
       "\t<tr><td>19              </td><td>500             </td><td>u               </td><td>e470d9c0f7f2bb9f</td></tr>\n",
       "\t<tr><td>20              </td><td>500             </td><td>u               </td><td>e470d9c0f7f2bb9f</td></tr>\n",
       "\t<tr><td>21              </td><td>500             </td><td>u               </td><td>e470d9c0f7f2bb9f</td></tr>\n",
       "\t<tr><td>22              </td><td>500             </td><td>d               </td><td>e470d9c0f7f2bb9f</td></tr>\n",
       "\t<tr><td>23              </td><td>500             </td><td>d               </td><td>e470d9c0f7f2bb9f</td></tr>\n",
       "\t<tr><td>24              </td><td>500             </td><td>u               </td><td>ea3175f9bae94f24</td></tr>\n",
       "\t<tr><td>25              </td><td>500             </td><td>u               </td><td>ea3175f9bae94f24</td></tr>\n",
       "\t<tr><td>26              </td><td>500             </td><td>d               </td><td>e470d9c0f7f2bb9f</td></tr>\n",
       "\t<tr><td>27              </td><td>500             </td><td>d               </td><td>e470d9c0f7f2bb9f</td></tr>\n",
       "\t<tr><td>28              </td><td>500             </td><td>d               </td><td>e470d9c0f7f2bb9f</td></tr>\n",
       "\t<tr><td>29              </td><td>500             </td><td>d               </td><td>e470d9c0f7f2bb9f</td></tr>\n",
       "\t<tr><td>⋮</td><td>⋮</td><td>⋮</td><td>⋮</td></tr>\n",
       "\t<tr><td>173             </td><td>500             </td><td>u               </td><td>e470d9c0f7f2bb9f</td></tr>\n",
       "\t<tr><td>174             </td><td>500             </td><td>u               </td><td>e470d9c0f7f2bb9f</td></tr>\n",
       "\t<tr><td>175             </td><td>500             </td><td>d               </td><td>e470d9c0f7f2bb9f</td></tr>\n",
       "\t<tr><td>176             </td><td>500             </td><td>d               </td><td>e470d9c0f7f2bb9f</td></tr>\n",
       "\t<tr><td>177             </td><td>500             </td><td>d               </td><td>e470d9c0f7f2bb9f</td></tr>\n",
       "\t<tr><td>178             </td><td>500             </td><td>d               </td><td>9b52894250cde8fa</td></tr>\n",
       "\t<tr><td>179             </td><td>500             </td><td>d               </td><td>e470d9c0f7f2bb9f</td></tr>\n",
       "\t<tr><td>180             </td><td>500             </td><td>d               </td><td>e470d9c0f7f2bb9f</td></tr>\n",
       "\t<tr><td>181             </td><td>500             </td><td>u               </td><td>e470d9c0f7f2bb9f</td></tr>\n",
       "\t<tr><td>182             </td><td>500             </td><td>u               </td><td>e470d9c0f7f2bb9f</td></tr>\n",
       "\t<tr><td>183             </td><td>500             </td><td>u               </td><td>e470d9c0f7f2bb9f</td></tr>\n",
       "\t<tr><td>184             </td><td>500             </td><td>d               </td><td>e470d9c0f7f2bb9f</td></tr>\n",
       "\t<tr><td>185             </td><td>500             </td><td>d               </td><td>e470d9c0f7f2bb9f</td></tr>\n",
       "\t<tr><td>186             </td><td>500             </td><td>u               </td><td>e470d9c0f7f2bb9f</td></tr>\n",
       "\t<tr><td>187             </td><td>500             </td><td>u               </td><td>e470d9c0f7f2bb9f</td></tr>\n",
       "\t<tr><td>188             </td><td>500             </td><td>d               </td><td>e470d9c0f7f2bb9f</td></tr>\n",
       "\t<tr><td>189             </td><td>500             </td><td>d               </td><td>ea3175f9bae94f24</td></tr>\n",
       "\t<tr><td>190             </td><td>500             </td><td>d               </td><td>e470d9c0f7f2bb9f</td></tr>\n",
       "\t<tr><td>191             </td><td>500             </td><td>u               </td><td>e470d9c0f7f2bb9f</td></tr>\n",
       "\t<tr><td>192             </td><td>500             </td><td>d               </td><td>e470d9c0f7f2bb9f</td></tr>\n",
       "\t<tr><td>193             </td><td>500             </td><td>u               </td><td>e470d9c0f7f2bb9f</td></tr>\n",
       "\t<tr><td>194             </td><td>500             </td><td>d               </td><td>ea3175f9bae94f24</td></tr>\n",
       "\t<tr><td>195             </td><td>500             </td><td>d               </td><td>e470d9c0f7f2bb9f</td></tr>\n",
       "\t<tr><td>196             </td><td>500             </td><td>d               </td><td>e470d9c0f7f2bb9f</td></tr>\n",
       "\t<tr><td>197             </td><td>500             </td><td>d               </td><td>e470d9c0f7f2bb9f</td></tr>\n",
       "\t<tr><td>198             </td><td>500             </td><td>d               </td><td>e470d9c0f7f2bb9f</td></tr>\n",
       "\t<tr><td>199             </td><td>500             </td><td>u               </td><td>e470d9c0f7f2bb9f</td></tr>\n",
       "\t<tr><td>200             </td><td>500             </td><td>d               </td><td>e470d9c0f7f2bb9f</td></tr>\n",
       "\t<tr><td>201             </td><td>500             </td><td>u               </td><td>ea3175f9bae94f24</td></tr>\n",
       "\t<tr><td>202             </td><td>500             </td><td>d               </td><td>e470d9c0f7f2bb9f</td></tr>\n",
       "</tbody>\n",
       "</table>\n"
      ],
      "text/latex": [
       "\\begin{tabular}{r|llll}\n",
       " agent & time & state & news0\\\\\n",
       "\\hline\n",
       "\t  0               & 500              & x                & 9b52894250cde8fa\\\\\n",
       "\t  1               & 500              & x                & e470d9c0f7f2bb9f\\\\\n",
       "\t  2               & 500              & x                & ea3175f9bae94f24\\\\\n",
       "\t  3               & 500              & u                & e470d9c0f7f2bb9f\\\\\n",
       "\t  4               & 500              & d                & e470d9c0f7f2bb9f\\\\\n",
       "\t  5               & 500              & d                & ea3175f9bae94f24\\\\\n",
       "\t  6               & 500              & u                & e470d9c0f7f2bb9f\\\\\n",
       "\t  7               & 500              & d                & 9b52894250cde8fa\\\\\n",
       "\t  8               & 500              & d                & e470d9c0f7f2bb9f\\\\\n",
       "\t  9               & 500              & d                & ea3175f9bae94f24\\\\\n",
       "\t 10               & 500              & d                & e470d9c0f7f2bb9f\\\\\n",
       "\t 11               & 500              & u                & e470d9c0f7f2bb9f\\\\\n",
       "\t 12               & 500              & d                & e470d9c0f7f2bb9f\\\\\n",
       "\t 13               & 500              & d                & e470d9c0f7f2bb9f\\\\\n",
       "\t 14               & 500              & u                & 9b52894250cde8fa\\\\\n",
       "\t 15               & 500              & d                & e470d9c0f7f2bb9f\\\\\n",
       "\t 16               & 500              & u                & e470d9c0f7f2bb9f\\\\\n",
       "\t 17               & 500              & u                & e470d9c0f7f2bb9f\\\\\n",
       "\t 18               & 500              & u                & e470d9c0f7f2bb9f\\\\\n",
       "\t 19               & 500              & u                & e470d9c0f7f2bb9f\\\\\n",
       "\t 20               & 500              & u                & e470d9c0f7f2bb9f\\\\\n",
       "\t 21               & 500              & u                & e470d9c0f7f2bb9f\\\\\n",
       "\t 22               & 500              & d                & e470d9c0f7f2bb9f\\\\\n",
       "\t 23               & 500              & d                & e470d9c0f7f2bb9f\\\\\n",
       "\t 24               & 500              & u                & ea3175f9bae94f24\\\\\n",
       "\t 25               & 500              & u                & ea3175f9bae94f24\\\\\n",
       "\t 26               & 500              & d                & e470d9c0f7f2bb9f\\\\\n",
       "\t 27               & 500              & d                & e470d9c0f7f2bb9f\\\\\n",
       "\t 28               & 500              & d                & e470d9c0f7f2bb9f\\\\\n",
       "\t 29               & 500              & d                & e470d9c0f7f2bb9f\\\\\n",
       "\t ⋮ & ⋮ & ⋮ & ⋮\\\\\n",
       "\t 173              & 500              & u                & e470d9c0f7f2bb9f\\\\\n",
       "\t 174              & 500              & u                & e470d9c0f7f2bb9f\\\\\n",
       "\t 175              & 500              & d                & e470d9c0f7f2bb9f\\\\\n",
       "\t 176              & 500              & d                & e470d9c0f7f2bb9f\\\\\n",
       "\t 177              & 500              & d                & e470d9c0f7f2bb9f\\\\\n",
       "\t 178              & 500              & d                & 9b52894250cde8fa\\\\\n",
       "\t 179              & 500              & d                & e470d9c0f7f2bb9f\\\\\n",
       "\t 180              & 500              & d                & e470d9c0f7f2bb9f\\\\\n",
       "\t 181              & 500              & u                & e470d9c0f7f2bb9f\\\\\n",
       "\t 182              & 500              & u                & e470d9c0f7f2bb9f\\\\\n",
       "\t 183              & 500              & u                & e470d9c0f7f2bb9f\\\\\n",
       "\t 184              & 500              & d                & e470d9c0f7f2bb9f\\\\\n",
       "\t 185              & 500              & d                & e470d9c0f7f2bb9f\\\\\n",
       "\t 186              & 500              & u                & e470d9c0f7f2bb9f\\\\\n",
       "\t 187              & 500              & u                & e470d9c0f7f2bb9f\\\\\n",
       "\t 188              & 500              & d                & e470d9c0f7f2bb9f\\\\\n",
       "\t 189              & 500              & d                & ea3175f9bae94f24\\\\\n",
       "\t 190              & 500              & d                & e470d9c0f7f2bb9f\\\\\n",
       "\t 191              & 500              & u                & e470d9c0f7f2bb9f\\\\\n",
       "\t 192              & 500              & d                & e470d9c0f7f2bb9f\\\\\n",
       "\t 193              & 500              & u                & e470d9c0f7f2bb9f\\\\\n",
       "\t 194              & 500              & d                & ea3175f9bae94f24\\\\\n",
       "\t 195              & 500              & d                & e470d9c0f7f2bb9f\\\\\n",
       "\t 196              & 500              & d                & e470d9c0f7f2bb9f\\\\\n",
       "\t 197              & 500              & d                & e470d9c0f7f2bb9f\\\\\n",
       "\t 198              & 500              & d                & e470d9c0f7f2bb9f\\\\\n",
       "\t 199              & 500              & u                & e470d9c0f7f2bb9f\\\\\n",
       "\t 200              & 500              & d                & e470d9c0f7f2bb9f\\\\\n",
       "\t 201              & 500              & u                & ea3175f9bae94f24\\\\\n",
       "\t 202              & 500              & d                & e470d9c0f7f2bb9f\\\\\n",
       "\\end{tabular}\n"
      ],
      "text/markdown": [
       "\n",
       "agent | time | state | news0 | \n",
       "|---|---|---|---|---|---|---|---|---|---|---|---|---|---|---|---|---|---|---|---|---|---|---|---|---|---|---|---|---|---|---|---|---|---|---|---|---|---|---|---|---|---|---|---|---|---|---|---|---|---|---|---|---|---|---|---|---|---|---|---|---|\n",
       "|  0               | 500              | x                | 9b52894250cde8fa | \n",
       "|  1               | 500              | x                | e470d9c0f7f2bb9f | \n",
       "|  2               | 500              | x                | ea3175f9bae94f24 | \n",
       "|  3               | 500              | u                | e470d9c0f7f2bb9f | \n",
       "|  4               | 500              | d                | e470d9c0f7f2bb9f | \n",
       "|  5               | 500              | d                | ea3175f9bae94f24 | \n",
       "|  6               | 500              | u                | e470d9c0f7f2bb9f | \n",
       "|  7               | 500              | d                | 9b52894250cde8fa | \n",
       "|  8               | 500              | d                | e470d9c0f7f2bb9f | \n",
       "|  9               | 500              | d                | ea3175f9bae94f24 | \n",
       "| 10               | 500              | d                | e470d9c0f7f2bb9f | \n",
       "| 11               | 500              | u                | e470d9c0f7f2bb9f | \n",
       "| 12               | 500              | d                | e470d9c0f7f2bb9f | \n",
       "| 13               | 500              | d                | e470d9c0f7f2bb9f | \n",
       "| 14               | 500              | u                | 9b52894250cde8fa | \n",
       "| 15               | 500              | d                | e470d9c0f7f2bb9f | \n",
       "| 16               | 500              | u                | e470d9c0f7f2bb9f | \n",
       "| 17               | 500              | u                | e470d9c0f7f2bb9f | \n",
       "| 18               | 500              | u                | e470d9c0f7f2bb9f | \n",
       "| 19               | 500              | u                | e470d9c0f7f2bb9f | \n",
       "| 20               | 500              | u                | e470d9c0f7f2bb9f | \n",
       "| 21               | 500              | u                | e470d9c0f7f2bb9f | \n",
       "| 22               | 500              | d                | e470d9c0f7f2bb9f | \n",
       "| 23               | 500              | d                | e470d9c0f7f2bb9f | \n",
       "| 24               | 500              | u                | ea3175f9bae94f24 | \n",
       "| 25               | 500              | u                | ea3175f9bae94f24 | \n",
       "| 26               | 500              | d                | e470d9c0f7f2bb9f | \n",
       "| 27               | 500              | d                | e470d9c0f7f2bb9f | \n",
       "| 28               | 500              | d                | e470d9c0f7f2bb9f | \n",
       "| 29               | 500              | d                | e470d9c0f7f2bb9f | \n",
       "| ⋮ | ⋮ | ⋮ | ⋮ | \n",
       "| 173              | 500              | u                | e470d9c0f7f2bb9f | \n",
       "| 174              | 500              | u                | e470d9c0f7f2bb9f | \n",
       "| 175              | 500              | d                | e470d9c0f7f2bb9f | \n",
       "| 176              | 500              | d                | e470d9c0f7f2bb9f | \n",
       "| 177              | 500              | d                | e470d9c0f7f2bb9f | \n",
       "| 178              | 500              | d                | 9b52894250cde8fa | \n",
       "| 179              | 500              | d                | e470d9c0f7f2bb9f | \n",
       "| 180              | 500              | d                | e470d9c0f7f2bb9f | \n",
       "| 181              | 500              | u                | e470d9c0f7f2bb9f | \n",
       "| 182              | 500              | u                | e470d9c0f7f2bb9f | \n",
       "| 183              | 500              | u                | e470d9c0f7f2bb9f | \n",
       "| 184              | 500              | d                | e470d9c0f7f2bb9f | \n",
       "| 185              | 500              | d                | e470d9c0f7f2bb9f | \n",
       "| 186              | 500              | u                | e470d9c0f7f2bb9f | \n",
       "| 187              | 500              | u                | e470d9c0f7f2bb9f | \n",
       "| 188              | 500              | d                | e470d9c0f7f2bb9f | \n",
       "| 189              | 500              | d                | ea3175f9bae94f24 | \n",
       "| 190              | 500              | d                | e470d9c0f7f2bb9f | \n",
       "| 191              | 500              | u                | e470d9c0f7f2bb9f | \n",
       "| 192              | 500              | d                | e470d9c0f7f2bb9f | \n",
       "| 193              | 500              | u                | e470d9c0f7f2bb9f | \n",
       "| 194              | 500              | d                | ea3175f9bae94f24 | \n",
       "| 195              | 500              | d                | e470d9c0f7f2bb9f | \n",
       "| 196              | 500              | d                | e470d9c0f7f2bb9f | \n",
       "| 197              | 500              | d                | e470d9c0f7f2bb9f | \n",
       "| 198              | 500              | d                | e470d9c0f7f2bb9f | \n",
       "| 199              | 500              | u                | e470d9c0f7f2bb9f | \n",
       "| 200              | 500              | d                | e470d9c0f7f2bb9f | \n",
       "| 201              | 500              | u                | ea3175f9bae94f24 | \n",
       "| 202              | 500              | d                | e470d9c0f7f2bb9f | \n",
       "\n",
       "\n"
      ],
      "text/plain": [
       "    agent time state news0           \n",
       "1    0    500  x     9b52894250cde8fa\n",
       "2    1    500  x     e470d9c0f7f2bb9f\n",
       "3    2    500  x     ea3175f9bae94f24\n",
       "4    3    500  u     e470d9c0f7f2bb9f\n",
       "5    4    500  d     e470d9c0f7f2bb9f\n",
       "6    5    500  d     ea3175f9bae94f24\n",
       "7    6    500  u     e470d9c0f7f2bb9f\n",
       "8    7    500  d     9b52894250cde8fa\n",
       "9    8    500  d     e470d9c0f7f2bb9f\n",
       "10   9    500  d     ea3175f9bae94f24\n",
       "11  10    500  d     e470d9c0f7f2bb9f\n",
       "12  11    500  u     e470d9c0f7f2bb9f\n",
       "13  12    500  d     e470d9c0f7f2bb9f\n",
       "14  13    500  d     e470d9c0f7f2bb9f\n",
       "15  14    500  u     9b52894250cde8fa\n",
       "16  15    500  d     e470d9c0f7f2bb9f\n",
       "17  16    500  u     e470d9c0f7f2bb9f\n",
       "18  17    500  u     e470d9c0f7f2bb9f\n",
       "19  18    500  u     e470d9c0f7f2bb9f\n",
       "20  19    500  u     e470d9c0f7f2bb9f\n",
       "21  20    500  u     e470d9c0f7f2bb9f\n",
       "22  21    500  u     e470d9c0f7f2bb9f\n",
       "23  22    500  d     e470d9c0f7f2bb9f\n",
       "24  23    500  d     e470d9c0f7f2bb9f\n",
       "25  24    500  u     ea3175f9bae94f24\n",
       "26  25    500  u     ea3175f9bae94f24\n",
       "27  26    500  d     e470d9c0f7f2bb9f\n",
       "28  27    500  d     e470d9c0f7f2bb9f\n",
       "29  28    500  d     e470d9c0f7f2bb9f\n",
       "30  29    500  d     e470d9c0f7f2bb9f\n",
       "⋮   ⋮     ⋮    ⋮     ⋮               \n",
       "174 173   500  u     e470d9c0f7f2bb9f\n",
       "175 174   500  u     e470d9c0f7f2bb9f\n",
       "176 175   500  d     e470d9c0f7f2bb9f\n",
       "177 176   500  d     e470d9c0f7f2bb9f\n",
       "178 177   500  d     e470d9c0f7f2bb9f\n",
       "179 178   500  d     9b52894250cde8fa\n",
       "180 179   500  d     e470d9c0f7f2bb9f\n",
       "181 180   500  d     e470d9c0f7f2bb9f\n",
       "182 181   500  u     e470d9c0f7f2bb9f\n",
       "183 182   500  u     e470d9c0f7f2bb9f\n",
       "184 183   500  u     e470d9c0f7f2bb9f\n",
       "185 184   500  d     e470d9c0f7f2bb9f\n",
       "186 185   500  d     e470d9c0f7f2bb9f\n",
       "187 186   500  u     e470d9c0f7f2bb9f\n",
       "188 187   500  u     e470d9c0f7f2bb9f\n",
       "189 188   500  d     e470d9c0f7f2bb9f\n",
       "190 189   500  d     ea3175f9bae94f24\n",
       "191 190   500  d     e470d9c0f7f2bb9f\n",
       "192 191   500  u     e470d9c0f7f2bb9f\n",
       "193 192   500  d     e470d9c0f7f2bb9f\n",
       "194 193   500  u     e470d9c0f7f2bb9f\n",
       "195 194   500  d     ea3175f9bae94f24\n",
       "196 195   500  d     e470d9c0f7f2bb9f\n",
       "197 196   500  d     e470d9c0f7f2bb9f\n",
       "198 197   500  d     e470d9c0f7f2bb9f\n",
       "199 198   500  d     e470d9c0f7f2bb9f\n",
       "200 199   500  u     e470d9c0f7f2bb9f\n",
       "201 200   500  d     e470d9c0f7f2bb9f\n",
       "202 201   500  u     ea3175f9bae94f24\n",
       "203 202   500  d     e470d9c0f7f2bb9f"
      ]
     },
     "metadata": {},
     "output_type": "display_data"
    }
   ],
   "source": [
    "subset(DT, time == 500) ## come csv normale legge tutte le colonne aventi time == 1"
   ]
  },
  {
   "cell_type": "code",
   "execution_count": 200,
   "metadata": {},
   "outputs": [
    {
     "data": {
      "text/html": [
       "<table>\n",
       "<thead><tr><th scope=col>state</th><th scope=col>N</th></tr></thead>\n",
       "<tbody>\n",
       "\t<tr><td>x  </td><td>  3</td></tr>\n",
       "\t<tr><td>d  </td><td>112</td></tr>\n",
       "\t<tr><td>u  </td><td> 88</td></tr>\n",
       "</tbody>\n",
       "</table>\n"
      ],
      "text/latex": [
       "\\begin{tabular}{r|ll}\n",
       " state & N\\\\\n",
       "\\hline\n",
       "\t x   &   3\\\\\n",
       "\t d   & 112\\\\\n",
       "\t u   &  88\\\\\n",
       "\\end{tabular}\n"
      ],
      "text/markdown": [
       "\n",
       "state | N | \n",
       "|---|---|---|\n",
       "| x   |   3 | \n",
       "| d   | 112 | \n",
       "| u   |  88 | \n",
       "\n",
       "\n"
      ],
      "text/plain": [
       "  state N  \n",
       "1 x       3\n",
       "2 d     112\n",
       "3 u      88"
      ]
     },
     "metadata": {},
     "output_type": "display_data"
    }
   ],
   "source": [
    "subset(DT, time == 101)[,.N,by=state]"
   ]
  },
  {
   "cell_type": "code",
   "execution_count": 201,
   "metadata": {
    "scrolled": true
   },
   "outputs": [],
   "source": [
    "maxtime = DT[][which.max(time)]$time"
   ]
  },
  {
   "cell_type": "code",
   "execution_count": 202,
   "metadata": {
    "scrolled": true
   },
   "outputs": [
    {
     "data": {
      "text/html": [
       "<table>\n",
       "<thead><tr><th scope=col>x</th><th scope=col>d</th><th scope=col>u</th></tr></thead>\n",
       "<tbody>\n",
       "\t<tr><td>3  </td><td>174</td><td> 26</td></tr>\n",
       "\t<tr><td>3  </td><td>174</td><td> 26</td></tr>\n",
       "\t<tr><td>3  </td><td>146</td><td> 54</td></tr>\n",
       "\t<tr><td>3  </td><td>106</td><td> 94</td></tr>\n",
       "\t<tr><td>3  </td><td>157</td><td> 43</td></tr>\n",
       "\t<tr><td>3  </td><td>134</td><td> 66</td></tr>\n",
       "\t<tr><td>3  </td><td> 86</td><td>114</td></tr>\n",
       "\t<tr><td>3  </td><td> 63</td><td>137</td></tr>\n",
       "\t<tr><td>3  </td><td>159</td><td> 41</td></tr>\n",
       "\t<tr><td>3  </td><td>141</td><td> 59</td></tr>\n",
       "\t<tr><td>3  </td><td>106</td><td> 94</td></tr>\n",
       "\t<tr><td>3  </td><td> 95</td><td>105</td></tr>\n",
       "\t<tr><td>3  </td><td>107</td><td> 93</td></tr>\n",
       "\t<tr><td>3  </td><td> 86</td><td>114</td></tr>\n",
       "\t<tr><td>3  </td><td> 70</td><td>130</td></tr>\n",
       "\t<tr><td>3  </td><td> 70</td><td>130</td></tr>\n",
       "\t<tr><td>3  </td><td>118</td><td> 82</td></tr>\n",
       "\t<tr><td>3  </td><td>101</td><td> 99</td></tr>\n",
       "\t<tr><td>3  </td><td> 93</td><td>107</td></tr>\n",
       "\t<tr><td>3  </td><td>103</td><td> 97</td></tr>\n",
       "\t<tr><td>3  </td><td> 93</td><td>107</td></tr>\n",
       "\t<tr><td>3  </td><td> 79</td><td>121</td></tr>\n",
       "\t<tr><td>3  </td><td> 76</td><td>124</td></tr>\n",
       "\t<tr><td>3  </td><td>129</td><td> 71</td></tr>\n",
       "\t<tr><td>3  </td><td>107</td><td> 93</td></tr>\n",
       "\t<tr><td>3  </td><td>105</td><td> 95</td></tr>\n",
       "\t<tr><td>3  </td><td>103</td><td> 97</td></tr>\n",
       "\t<tr><td>3  </td><td> 98</td><td>102</td></tr>\n",
       "\t<tr><td>3  </td><td> 81</td><td>119</td></tr>\n",
       "\t<tr><td>3  </td><td> 90</td><td>110</td></tr>\n",
       "\t<tr><td>⋮</td><td>⋮</td><td>⋮</td></tr>\n",
       "\t<tr><td>3  </td><td> 96</td><td>104</td></tr>\n",
       "\t<tr><td>3  </td><td> 91</td><td>109</td></tr>\n",
       "\t<tr><td>3  </td><td> 84</td><td>116</td></tr>\n",
       "\t<tr><td>3  </td><td>113</td><td> 87</td></tr>\n",
       "\t<tr><td>3  </td><td>113</td><td> 87</td></tr>\n",
       "\t<tr><td>3  </td><td>111</td><td> 89</td></tr>\n",
       "\t<tr><td>3  </td><td>118</td><td> 82</td></tr>\n",
       "\t<tr><td>3  </td><td> 87</td><td>113</td></tr>\n",
       "\t<tr><td>3  </td><td> 93</td><td>107</td></tr>\n",
       "\t<tr><td>3  </td><td>115</td><td> 85</td></tr>\n",
       "\t<tr><td>3  </td><td>112</td><td> 88</td></tr>\n",
       "\t<tr><td>3  </td><td>112</td><td> 88</td></tr>\n",
       "\t<tr><td>3  </td><td>117</td><td> 83</td></tr>\n",
       "\t<tr><td>3  </td><td> 78</td><td>122</td></tr>\n",
       "\t<tr><td>3  </td><td> 91</td><td>109</td></tr>\n",
       "\t<tr><td>3  </td><td> 89</td><td>111</td></tr>\n",
       "\t<tr><td>3  </td><td> 83</td><td>117</td></tr>\n",
       "\t<tr><td>3  </td><td>107</td><td> 93</td></tr>\n",
       "\t<tr><td>3  </td><td>111</td><td> 89</td></tr>\n",
       "\t<tr><td>3  </td><td>115</td><td> 85</td></tr>\n",
       "\t<tr><td>3  </td><td>105</td><td> 95</td></tr>\n",
       "\t<tr><td>3  </td><td> 94</td><td>106</td></tr>\n",
       "\t<tr><td>3  </td><td> 92</td><td>108</td></tr>\n",
       "\t<tr><td>3  </td><td> 96</td><td>104</td></tr>\n",
       "\t<tr><td>3  </td><td> 88</td><td>112</td></tr>\n",
       "\t<tr><td>3  </td><td>120</td><td> 80</td></tr>\n",
       "\t<tr><td>3  </td><td>113</td><td> 87</td></tr>\n",
       "\t<tr><td>3  </td><td>115</td><td> 85</td></tr>\n",
       "\t<tr><td>3  </td><td>107</td><td> 93</td></tr>\n",
       "\t<tr><td>3  </td><td> 90</td><td>110</td></tr>\n",
       "</tbody>\n",
       "</table>\n"
      ],
      "text/latex": [
       "\\begin{tabular}{r|lll}\n",
       " x & d & u\\\\\n",
       "\\hline\n",
       "\t 3   & 174 &  26\\\\\n",
       "\t 3   & 174 &  26\\\\\n",
       "\t 3   & 146 &  54\\\\\n",
       "\t 3   & 106 &  94\\\\\n",
       "\t 3   & 157 &  43\\\\\n",
       "\t 3   & 134 &  66\\\\\n",
       "\t 3   &  86 & 114\\\\\n",
       "\t 3   &  63 & 137\\\\\n",
       "\t 3   & 159 &  41\\\\\n",
       "\t 3   & 141 &  59\\\\\n",
       "\t 3   & 106 &  94\\\\\n",
       "\t 3   &  95 & 105\\\\\n",
       "\t 3   & 107 &  93\\\\\n",
       "\t 3   &  86 & 114\\\\\n",
       "\t 3   &  70 & 130\\\\\n",
       "\t 3   &  70 & 130\\\\\n",
       "\t 3   & 118 &  82\\\\\n",
       "\t 3   & 101 &  99\\\\\n",
       "\t 3   &  93 & 107\\\\\n",
       "\t 3   & 103 &  97\\\\\n",
       "\t 3   &  93 & 107\\\\\n",
       "\t 3   &  79 & 121\\\\\n",
       "\t 3   &  76 & 124\\\\\n",
       "\t 3   & 129 &  71\\\\\n",
       "\t 3   & 107 &  93\\\\\n",
       "\t 3   & 105 &  95\\\\\n",
       "\t 3   & 103 &  97\\\\\n",
       "\t 3   &  98 & 102\\\\\n",
       "\t 3   &  81 & 119\\\\\n",
       "\t 3   &  90 & 110\\\\\n",
       "\t ⋮ & ⋮ & ⋮\\\\\n",
       "\t 3   &  96 & 104\\\\\n",
       "\t 3   &  91 & 109\\\\\n",
       "\t 3   &  84 & 116\\\\\n",
       "\t 3   & 113 &  87\\\\\n",
       "\t 3   & 113 &  87\\\\\n",
       "\t 3   & 111 &  89\\\\\n",
       "\t 3   & 118 &  82\\\\\n",
       "\t 3   &  87 & 113\\\\\n",
       "\t 3   &  93 & 107\\\\\n",
       "\t 3   & 115 &  85\\\\\n",
       "\t 3   & 112 &  88\\\\\n",
       "\t 3   & 112 &  88\\\\\n",
       "\t 3   & 117 &  83\\\\\n",
       "\t 3   &  78 & 122\\\\\n",
       "\t 3   &  91 & 109\\\\\n",
       "\t 3   &  89 & 111\\\\\n",
       "\t 3   &  83 & 117\\\\\n",
       "\t 3   & 107 &  93\\\\\n",
       "\t 3   & 111 &  89\\\\\n",
       "\t 3   & 115 &  85\\\\\n",
       "\t 3   & 105 &  95\\\\\n",
       "\t 3   &  94 & 106\\\\\n",
       "\t 3   &  92 & 108\\\\\n",
       "\t 3   &  96 & 104\\\\\n",
       "\t 3   &  88 & 112\\\\\n",
       "\t 3   & 120 &  80\\\\\n",
       "\t 3   & 113 &  87\\\\\n",
       "\t 3   & 115 &  85\\\\\n",
       "\t 3   & 107 &  93\\\\\n",
       "\t 3   &  90 & 110\\\\\n",
       "\\end{tabular}\n"
      ],
      "text/markdown": [
       "\n",
       "x | d | u | \n",
       "|---|---|---|---|---|---|---|---|---|---|---|---|---|---|---|---|---|---|---|---|---|---|---|---|---|---|---|---|---|---|---|---|---|---|---|---|---|---|---|---|---|---|---|---|---|---|---|---|---|---|---|---|---|---|---|---|---|---|---|---|---|\n",
       "| 3   | 174 |  26 | \n",
       "| 3   | 174 |  26 | \n",
       "| 3   | 146 |  54 | \n",
       "| 3   | 106 |  94 | \n",
       "| 3   | 157 |  43 | \n",
       "| 3   | 134 |  66 | \n",
       "| 3   |  86 | 114 | \n",
       "| 3   |  63 | 137 | \n",
       "| 3   | 159 |  41 | \n",
       "| 3   | 141 |  59 | \n",
       "| 3   | 106 |  94 | \n",
       "| 3   |  95 | 105 | \n",
       "| 3   | 107 |  93 | \n",
       "| 3   |  86 | 114 | \n",
       "| 3   |  70 | 130 | \n",
       "| 3   |  70 | 130 | \n",
       "| 3   | 118 |  82 | \n",
       "| 3   | 101 |  99 | \n",
       "| 3   |  93 | 107 | \n",
       "| 3   | 103 |  97 | \n",
       "| 3   |  93 | 107 | \n",
       "| 3   |  79 | 121 | \n",
       "| 3   |  76 | 124 | \n",
       "| 3   | 129 |  71 | \n",
       "| 3   | 107 |  93 | \n",
       "| 3   | 105 |  95 | \n",
       "| 3   | 103 |  97 | \n",
       "| 3   |  98 | 102 | \n",
       "| 3   |  81 | 119 | \n",
       "| 3   |  90 | 110 | \n",
       "| ⋮ | ⋮ | ⋮ | \n",
       "| 3   |  96 | 104 | \n",
       "| 3   |  91 | 109 | \n",
       "| 3   |  84 | 116 | \n",
       "| 3   | 113 |  87 | \n",
       "| 3   | 113 |  87 | \n",
       "| 3   | 111 |  89 | \n",
       "| 3   | 118 |  82 | \n",
       "| 3   |  87 | 113 | \n",
       "| 3   |  93 | 107 | \n",
       "| 3   | 115 |  85 | \n",
       "| 3   | 112 |  88 | \n",
       "| 3   | 112 |  88 | \n",
       "| 3   | 117 |  83 | \n",
       "| 3   |  78 | 122 | \n",
       "| 3   |  91 | 109 | \n",
       "| 3   |  89 | 111 | \n",
       "| 3   |  83 | 117 | \n",
       "| 3   | 107 |  93 | \n",
       "| 3   | 111 |  89 | \n",
       "| 3   | 115 |  85 | \n",
       "| 3   | 105 |  95 | \n",
       "| 3   |  94 | 106 | \n",
       "| 3   |  92 | 108 | \n",
       "| 3   |  96 | 104 | \n",
       "| 3   |  88 | 112 | \n",
       "| 3   | 120 |  80 | \n",
       "| 3   | 113 |  87 | \n",
       "| 3   | 115 |  85 | \n",
       "| 3   | 107 |  93 | \n",
       "| 3   |  90 | 110 | \n",
       "\n",
       "\n"
      ],
      "text/plain": [
       "    x d   u  \n",
       "1   3 174  26\n",
       "2   3 174  26\n",
       "3   3 146  54\n",
       "4   3 106  94\n",
       "5   3 157  43\n",
       "6   3 134  66\n",
       "7   3  86 114\n",
       "8   3  63 137\n",
       "9   3 159  41\n",
       "10  3 141  59\n",
       "11  3 106  94\n",
       "12  3  95 105\n",
       "13  3 107  93\n",
       "14  3  86 114\n",
       "15  3  70 130\n",
       "16  3  70 130\n",
       "17  3 118  82\n",
       "18  3 101  99\n",
       "19  3  93 107\n",
       "20  3 103  97\n",
       "21  3  93 107\n",
       "22  3  79 121\n",
       "23  3  76 124\n",
       "24  3 129  71\n",
       "25  3 107  93\n",
       "26  3 105  95\n",
       "27  3 103  97\n",
       "28  3  98 102\n",
       "29  3  81 119\n",
       "30  3  90 110\n",
       "⋮   ⋮ ⋮   ⋮  \n",
       "471 3  96 104\n",
       "472 3  91 109\n",
       "473 3  84 116\n",
       "474 3 113  87\n",
       "475 3 113  87\n",
       "476 3 111  89\n",
       "477 3 118  82\n",
       "478 3  87 113\n",
       "479 3  93 107\n",
       "480 3 115  85\n",
       "481 3 112  88\n",
       "482 3 112  88\n",
       "483 3 117  83\n",
       "484 3  78 122\n",
       "485 3  91 109\n",
       "486 3  89 111\n",
       "487 3  83 117\n",
       "488 3 107  93\n",
       "489 3 111  89\n",
       "490 3 115  85\n",
       "491 3 105  95\n",
       "492 3  94 106\n",
       "493 3  92 108\n",
       "494 3  96 104\n",
       "495 3  88 112\n",
       "496 3 120  80\n",
       "497 3 113  87\n",
       "498 3 115  85\n",
       "499 3 107  93\n",
       "500 3  90 110"
      ]
     },
     "metadata": {},
     "output_type": "display_data"
    }
   ],
   "source": [
    "TB <- data.table(x=integer(),d=integer(), u=integer())\n",
    "for (i in 1:maxtime) {\n",
    "    xt = subset(DT, time == i)[,.N,by=state]$N[1]\n",
    "    dt = subset(DT, time == i)[,.N,by=state]$N[2]\n",
    "    ut = subset(DT, time == i)[,.N,by=state]$N[3]\n",
    "    TB <- rbindlist(list(TB,  data.table(x = xt, d = dt, u = ut)))\n",
    "}\n",
    "TB"
   ]
  },
  {
   "cell_type": "code",
   "execution_count": 203,
   "metadata": {},
   "outputs": [
    {
     "data": {
      "image/png": "[encoded data removed]",
      "text/plain": [
       "Plot with title “Overlapping Histogram”"
      ]
     },
     "metadata": {},
     "output_type": "display_data"
    }
   ],
   "source": [
    "# Histogram Colored (blue and red)\n",
    "hist(TB$u, col=rgb(1,0,0,0.5),main=\"Overlapping Histogram\", xlab=\"Variable\", breaks=50)\n",
    "hist(TB$d, col=rgb(0,0,1,0.5), add=T, breaks=50)\n",
    "box()"
   ]
  },
  {
   "cell_type": "code",
   "execution_count": null,
   "metadata": {},
   "outputs": [],
   "source": []
  }
 ],
 "metadata": {
  "kernelspec": {
   "display_name": "R",
   "language": "R",
   "name": "ir"
  },
  "language_info": {
   "codemirror_mode": "r",
   "file_extension": ".r",
   "mimetype": "text/x-r-source",
   "name": "R",
   "pygments_lexer": "r",
   "version": "3.4.3"
  }
 },
 "nbformat": 4,
 "nbformat_minor": 2
}
